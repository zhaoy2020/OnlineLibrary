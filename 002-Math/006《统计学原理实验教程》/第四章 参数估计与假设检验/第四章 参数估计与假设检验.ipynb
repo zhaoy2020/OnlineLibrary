{
 "cells": [
  {
   "cell_type": "markdown",
   "metadata": {},
   "source": [
    "# 第一节 参数估计"
   ]
  },
  {
   "cell_type": "markdown",
   "metadata": {},
   "source": [
    "## 实验4-1 总体均值的区间估计：大样本"
   ]
  },
  {
   "cell_type": "markdown",
   "metadata": {},
   "source": [
    "享受贷款的学生毕业前欠款平均数额为12168美元，假定这一欠款数额的平均值是基于480名学生贷款人组成的样本计算得来的，\n",
    "毕业前欠款数额的总体标准差为2200美元。根据样本数据给出学生中享受贷款的在毕业前平均欠款数额的95%的置信区间。\n",
    "注意，大于30即为大样本。"
   ]
  },
  {
   "cell_type": "code",
   "execution_count": 2,
   "metadata": {},
   "outputs": [],
   "source": [
    "import numpy as np\n",
    "from scipy import stats"
   ]
  },
  {
   "cell_type": "code",
   "execution_count": 3,
   "metadata": {},
   "outputs": [],
   "source": [
    "# 这些是已知数据\n",
    "confidence = 0.95\n",
    "sample_mean = 12168\n",
    "sample_n = 480\n",
    "pop_std = 2200"
   ]
  },
  {
   "cell_type": "code",
   "execution_count": 5,
   "metadata": {},
   "outputs": [
    {
     "data": {
      "text/plain": [
       "(11971.188644191112, 12364.811355808888)"
      ]
     },
     "execution_count": 5,
     "metadata": {},
     "output_type": "execute_result"
    }
   ],
   "source": [
    "# 抽样平均误差\n",
    "sigma_debt = pop_std / np.sqrt(sample_n)\n",
    "\n",
    "# 95%置信区间\n",
    "CI_debt = stats.norm.interval(confidence, loc = sample_mean, scale = sigma_debt)\n",
    "CI_debt"
   ]
  },
  {
   "cell_type": "markdown",
   "metadata": {},
   "source": [
    "## 实验4-2 总体均值的区间估计：小样本"
   ]
  },
  {
   "cell_type": "markdown",
   "metadata": {},
   "source": [
    "有15个样本，总体服从正态分布，根据这15个样本的数学期望值进行区间估计（置信概率0.95）"
   ]
  },
  {
   "cell_type": "code",
   "execution_count": 7,
   "metadata": {},
   "outputs": [],
   "source": [
    "import numpy as np\n",
    "import pandas as pd "
   ]
  },
  {
   "cell_type": "code",
   "execution_count": 8,
   "metadata": {},
   "outputs": [
    {
     "data": {
      "text/html": [
       "<div>\n",
       "<style scoped>\n",
       "    .dataframe tbody tr th:only-of-type {\n",
       "        vertical-align: middle;\n",
       "    }\n",
       "\n",
       "    .dataframe tbody tr th {\n",
       "        vertical-align: top;\n",
       "    }\n",
       "\n",
       "    .dataframe thead th {\n",
       "        text-align: right;\n",
       "    }\n",
       "</style>\n",
       "<table border=\"1\" class=\"dataframe\">\n",
       "  <thead>\n",
       "    <tr style=\"text-align: right;\">\n",
       "      <th></th>\n",
       "      <th>v</th>\n",
       "    </tr>\n",
       "  </thead>\n",
       "  <tbody>\n",
       "    <tr>\n",
       "      <th>0</th>\n",
       "      <td>416</td>\n",
       "    </tr>\n",
       "    <tr>\n",
       "      <th>1</th>\n",
       "      <td>423</td>\n",
       "    </tr>\n",
       "    <tr>\n",
       "      <th>2</th>\n",
       "      <td>413</td>\n",
       "    </tr>\n",
       "    <tr>\n",
       "      <th>3</th>\n",
       "      <td>446</td>\n",
       "    </tr>\n",
       "    <tr>\n",
       "      <th>4</th>\n",
       "      <td>428</td>\n",
       "    </tr>\n",
       "    <tr>\n",
       "      <th>5</th>\n",
       "      <td>444</td>\n",
       "    </tr>\n",
       "    <tr>\n",
       "      <th>6</th>\n",
       "      <td>444</td>\n",
       "    </tr>\n",
       "    <tr>\n",
       "      <th>7</th>\n",
       "      <td>443</td>\n",
       "    </tr>\n",
       "    <tr>\n",
       "      <th>8</th>\n",
       "      <td>430</td>\n",
       "    </tr>\n",
       "    <tr>\n",
       "      <th>9</th>\n",
       "      <td>447</td>\n",
       "    </tr>\n",
       "    <tr>\n",
       "      <th>10</th>\n",
       "      <td>443</td>\n",
       "    </tr>\n",
       "    <tr>\n",
       "      <th>11</th>\n",
       "      <td>422</td>\n",
       "    </tr>\n",
       "    <tr>\n",
       "      <th>12</th>\n",
       "      <td>422</td>\n",
       "    </tr>\n",
       "    <tr>\n",
       "      <th>13</th>\n",
       "      <td>448</td>\n",
       "    </tr>\n",
       "    <tr>\n",
       "      <th>14</th>\n",
       "      <td>411</td>\n",
       "    </tr>\n",
       "  </tbody>\n",
       "</table>\n",
       "</div>"
      ],
      "text/plain": [
       "      v\n",
       "0   416\n",
       "1   423\n",
       "2   413\n",
       "3   446\n",
       "4   428\n",
       "5   444\n",
       "6   444\n",
       "7   443\n",
       "8   430\n",
       "9   447\n",
       "10  443\n",
       "11  422\n",
       "12  422\n",
       "13  448\n",
       "14  411"
      ]
     },
     "execution_count": 8,
     "metadata": {},
     "output_type": "execute_result"
    }
   ],
   "source": [
    "# 传入数据这一步我简化了\n",
    "speed_sample = pd.read_excel('4-2.xlsx')\n",
    "speed_sample "
   ]
  },
  {
   "cell_type": "code",
   "execution_count": 11,
   "metadata": {},
   "outputs": [
    {
     "name": "stdout",
     "output_type": "stream",
     "text": [
      "点估计值为 v    432.0\n",
      "dtype: float64\n",
      "95%置信区间为 (array([424.50273634]), array([439.49726366]))\n"
     ]
    }
   ],
   "source": [
    "confidence = 0.95\n",
    "sample_n = 15\n",
    "\n",
    "# 抽样平均误差\n",
    "sigma_speed = speed_sample.std()/np.sqrt(speed_sample.size)\n",
    "\n",
    "# 样本均值\n",
    "mean_speed = np.mean(speed_sample)\n",
    "\n",
    "# 95%置信区间\n",
    "CI_speed = stats.t.interval(confidence, df = sample_n - 1, loc = mean_speed , scale = sigma_speed)\n",
    "\n",
    "print('点估计值为',mean_speed)\n",
    "print('95%置信区间为',CI_speed)\n"
   ]
  },
  {
   "cell_type": "raw",
   "metadata": {},
   "source": [
    "注意：本实验中样本容量n=15，小于30，为小样本，总体为正态分布，且总体方差未知，则区间估计用t来计算。如果总体标准差已知，则可以使用Z分布进行区间估计，大样本的估计方法相同。\n",
    "\n",
    "此外，如果总体分布未知，且样本为小样本，无法按以上方法计算。解决办法是加大样本容量，然后按大样本方法估计。\n",
    "\n",
    "有的统计书中，正态分布下，无论是大样本还是小样本，只要总体方差未知，样本均值就按t分布进行处理。在该理论下，总体方差未知的大样本就可用本实验的方法进行估计"
   ]
  },
  {
   "cell_type": "markdown",
   "metadata": {},
   "source": [
    "## 实验4-3 总体成数的估计"
   ]
  },
  {
   "cell_type": "markdown",
   "metadata": {},
   "source": [
    "要估计一批总数为5000件的产品的废品率，于是抽出400件产品进行检测，发现32件废品。试给出该批产品的废品率的区间估计（置信度90%）"
   ]
  },
  {
   "cell_type": "code",
   "execution_count": 12,
   "metadata": {},
   "outputs": [],
   "source": [
    "import numpy as np\n",
    "from scipy import stats"
   ]
  },
  {
   "cell_type": "code",
   "execution_count": 14,
   "metadata": {},
   "outputs": [],
   "source": [
    "# 已知条件\n",
    "confidence = 0.90\n",
    "pop_n = 5000\n",
    "sample_n = 400\n",
    "sample_reject = 32\n",
    "sample_p = sample_reject/sample_n # 样本废品率为8%"
   ]
  },
  {
   "cell_type": "code",
   "execution_count": 16,
   "metadata": {},
   "outputs": [
    {
     "name": "stdout",
     "output_type": "stream",
     "text": [
      "点估计值为 0.08\n",
      "90%置信区间为 (0.05859705597092087, 0.10140294402907912)\n"
     ]
    }
   ],
   "source": [
    "# 抽样平均误差（不放回抽样）\n",
    "sigma_reject = np.sqrt(sample_p*(1-sample_p)/sample_n)*np.sqrt((pop_n - sample_n)/(pop_n-1))\n",
    "\n",
    "# 90%置信区间\n",
    "CI_reject_rate = stats.norm.interval(confidence, loc = sample_p, scale = sigma_reject)\n",
    "\n",
    "print('点估计值为',sample_p)\n",
    "print('90%置信区间为',CI_reject_rate)"
   ]
  },
  {
   "cell_type": "markdown",
   "metadata": {},
   "source": [
    "## 实验4-4 总体方差的估计"
   ]
  },
  {
   "cell_type": "markdown",
   "metadata": {},
   "source": [
    "某种药物，18个样本得出的样本方差是0.36克。构造该药物方差的90%置信区间概率。假设药物重量服从正态分布。"
   ]
  },
  {
   "cell_type": "code",
   "execution_count": 18,
   "metadata": {},
   "outputs": [],
   "source": [
    "import numpy as np\n",
    "from scipy import stats"
   ]
  },
  {
   "cell_type": "code",
   "execution_count": 19,
   "metadata": {},
   "outputs": [],
   "source": [
    "# 已知条件\n",
    "confidence = 0.90\n",
    "sample_n = 18\n",
    "sample_var = 0.36"
   ]
  },
  {
   "cell_type": "code",
   "execution_count": 20,
   "metadata": {},
   "outputs": [
    {
     "data": {
      "text/plain": [
       "(0.22184272424913432, 0.7057390720633793)"
      ]
     },
     "execution_count": 20,
     "metadata": {},
     "output_type": "execute_result"
    }
   ],
   "source": [
    "# 计算卡方分布（自由度n-1）90%置信区间的上下限\n",
    "chi2_lower, chi2_higher = stats.chi2.interval(confidence, df = sample_n -1)\n",
    "\n",
    "# 计算((n-1)*样本方差)的值\n",
    "sample_df_var = (sample_n - 1)*sample_var\n",
    "\n",
    "# 计算得到总体方差的置信区间估计\n",
    "CI_weight_var = (sample_df_var/chi2_higher,sample_df_var/chi2_lower)\n",
    "\n",
    "CI_weight_var"
   ]
  },
  {
   "cell_type": "markdown",
   "metadata": {},
   "source": [
    "# 第二节 参数检验"
   ]
  },
  {
   "cell_type": "markdown",
   "metadata": {},
   "source": [
    "## 实验4-5 单一总体均值检验：大样本"
   ]
  },
  {
   "cell_type": "markdown",
   "metadata": {},
   "source": [
    "一种减肥法称一星期平均减肥3.5公斤。40个用此法的个人组成一个随机样本，称减去的体重的样本均值为3公斤，样本标准差为1.5公斤。该如何对该减肥方法做出判断？（显著性水平0.05）\n",
    "\n",
    "H0:μ>=3.5\n",
    "\n",
    "H1:μ<3.5"
   ]
  },
  {
   "cell_type": "code",
   "execution_count": 2,
   "metadata": {},
   "outputs": [],
   "source": [
    "import numpy as np\n",
    "from scipy import stats"
   ]
  },
  {
   "cell_type": "code",
   "execution_count": 9,
   "metadata": {},
   "outputs": [],
   "source": [
    "# 已知条件\n",
    "confidence = 0.05\n",
    "sample_n = 40\n",
    "sample_mean = 3\n",
    "sample_std = 1.5\n",
    "test_mean = 3.5"
   ]
  },
  {
   "cell_type": "code",
   "execution_count": 11,
   "metadata": {},
   "outputs": [
    {
     "name": "stdout",
     "output_type": "stream",
     "text": [
      "临界值为 -1.6448536269514729\n",
      "检验统计量的值为 -2.1081851067789197\n"
     ]
    }
   ],
   "source": [
    "# 计算5%显著水平的正态分布临界值（左侧检验）\n",
    "limit = stats.norm.ppf(confidence)\n",
    "\n",
    "# 计算检验统计量\n",
    "z = (sample_mean - test_mean) / (sample_std/np.sqrt(sample_n))\n",
    "\n",
    "print('临界值为',limit)\n",
    "print('检验统计量的值为',z)"
   ]
  },
  {
   "cell_type": "markdown",
   "metadata": {},
   "source": [
    "由于 检验统计量的值为 -2.1081851067789197 小于 临界值为 -1.6448536269514729\n",
    "\n",
    "因此拒绝原假设，即该减肥法自称平均减少3.5公斤是不真实的"
   ]
  },
  {
   "cell_type": "markdown",
   "metadata": {},
   "source": [
    "## 实验4-6 单一总体均值检验：正态总体，方差已知"
   ]
  },
  {
   "cell_type": "markdown",
   "metadata": {},
   "source": [
    "美国家庭每天平均消费额为90美元，标准差为14.50美元。从纽约选取15个家庭组成一个样本表明，其每天消费额的样本均值为84.5美元。在显著性水平=0.01下，能否认为纽约家庭每天平均消费额为90美元\n",
    "\n",
    "假设纽约总体均值与美国均值无差异，即样本均值84.5美元来自均值为90美元的总体，提出假设\n",
    "\n",
    "H0:μ=90\n",
    "\n",
    "H1:μ不等于90\n",
    "\n",
    "总体服从正态分布，因而样本也服从正态分布。用Z统计量。"
   ]
  },
  {
   "cell_type": "code",
   "execution_count": 14,
   "metadata": {},
   "outputs": [],
   "source": [
    "import numpy as np\n",
    "from scipy import stats"
   ]
  },
  {
   "cell_type": "code",
   "execution_count": 15,
   "metadata": {},
   "outputs": [],
   "source": [
    "# 已知条件\n",
    "confidence = 0.01\n",
    "sample_n = 15\n",
    "sample_mean = 84.5\n",
    "test_mean = 90\n",
    "pop_std = 14.50"
   ]
  },
  {
   "cell_type": "code",
   "execution_count": 16,
   "metadata": {},
   "outputs": [
    {
     "name": "stdout",
     "output_type": "stream",
     "text": [
      "两个临界值分别为 -2.575829303548901 和 2.575829303548901\n",
      "检验统计量的值为 -1.469062648561434\n"
     ]
    }
   ],
   "source": [
    "# 计算1%显著性水平的正态分布临界值（双侧检验）\n",
    "limit = stats.norm.ppf(confidence/2)\n",
    "\n",
    "# 计算检验统计量\n",
    "z = (sample_mean - test_mean) / (pop_std/np.sqrt(sample_n))\n",
    "\n",
    "print('两个临界值分别为',limit,'和',-limit)\n",
    "print('检验统计量的值为',z)"
   ]
  },
  {
   "cell_type": "markdown",
   "metadata": {},
   "source": [
    "结论\n",
    "\n",
    "由于 -2.575829303548901<-1.469062648561434<2.575829303548901，所以不能拒绝原假设。即样本数据说明纽约家庭每天平均消费额与美国家庭每天平均消费额无差异"
   ]
  },
  {
   "cell_type": "code",
   "execution_count": null,
   "metadata": {},
   "outputs": [],
   "source": []
  },
  {
   "cell_type": "markdown",
   "metadata": {},
   "source": [
    "## 实验4-7 单一总体均值检验：正态总体，方差未知"
   ]
  },
  {
   "cell_type": "markdown",
   "metadata": {},
   "source": [
    "厂子生产糖果，标准是每袋净重500克，现在从一批生产中抽出10袋，净重分别如下。\n",
    "\n",
    "给定显著性水平0.01，问该批生产是否正常。假设糖果重量符合正态分布。\n",
    "\n",
    "H0:μ=500\n",
    "\n",
    "H1:μ不等于500\n",
    "    \n",
    "使用t检验"
   ]
  },
  {
   "cell_type": "code",
   "execution_count": 4,
   "metadata": {},
   "outputs": [],
   "source": [
    "import numpy as np\n",
    "from scipy import stats\n",
    "import pandas as pd "
   ]
  },
  {
   "cell_type": "code",
   "execution_count": 5,
   "metadata": {},
   "outputs": [
    {
     "data": {
      "text/html": [
       "<div>\n",
       "<style scoped>\n",
       "    .dataframe tbody tr th:only-of-type {\n",
       "        vertical-align: middle;\n",
       "    }\n",
       "\n",
       "    .dataframe tbody tr th {\n",
       "        vertical-align: top;\n",
       "    }\n",
       "\n",
       "    .dataframe thead th {\n",
       "        text-align: right;\n",
       "    }\n",
       "</style>\n",
       "<table border=\"1\" class=\"dataframe\">\n",
       "  <thead>\n",
       "    <tr style=\"text-align: right;\">\n",
       "      <th></th>\n",
       "      <th>candy</th>\n",
       "    </tr>\n",
       "  </thead>\n",
       "  <tbody>\n",
       "    <tr>\n",
       "      <th>0</th>\n",
       "      <td>512</td>\n",
       "    </tr>\n",
       "    <tr>\n",
       "      <th>1</th>\n",
       "      <td>503</td>\n",
       "    </tr>\n",
       "    <tr>\n",
       "      <th>2</th>\n",
       "      <td>498</td>\n",
       "    </tr>\n",
       "    <tr>\n",
       "      <th>3</th>\n",
       "      <td>507</td>\n",
       "    </tr>\n",
       "    <tr>\n",
       "      <th>4</th>\n",
       "      <td>496</td>\n",
       "    </tr>\n",
       "    <tr>\n",
       "      <th>5</th>\n",
       "      <td>489</td>\n",
       "    </tr>\n",
       "    <tr>\n",
       "      <th>6</th>\n",
       "      <td>499</td>\n",
       "    </tr>\n",
       "    <tr>\n",
       "      <th>7</th>\n",
       "      <td>501</td>\n",
       "    </tr>\n",
       "    <tr>\n",
       "      <th>8</th>\n",
       "      <td>496</td>\n",
       "    </tr>\n",
       "    <tr>\n",
       "      <th>9</th>\n",
       "      <td>506</td>\n",
       "    </tr>\n",
       "  </tbody>\n",
       "</table>\n",
       "</div>"
      ],
      "text/plain": [
       "   candy\n",
       "0    512\n",
       "1    503\n",
       "2    498\n",
       "3    507\n",
       "4    496\n",
       "5    489\n",
       "6    499\n",
       "7    501\n",
       "8    496\n",
       "9    506"
      ]
     },
     "execution_count": 5,
     "metadata": {},
     "output_type": "execute_result"
    }
   ],
   "source": [
    "# 导入数据这里我简化了\n",
    "candy_sample = pd.read_excel('4-7.xlsx')\n",
    "candy_sample"
   ]
  },
  {
   "cell_type": "code",
   "execution_count": 6,
   "metadata": {},
   "outputs": [],
   "source": [
    "# 已知条件\n",
    "confidence = 0.01\n",
    "test_mean = 500"
   ]
  },
  {
   "cell_type": "code",
   "execution_count": 8,
   "metadata": {},
   "outputs": [
    {
     "name": "stdout",
     "output_type": "stream",
     "text": [
      "检验样本统计量t为 [0.33536742]\n",
      "p值为 [0.7450329]\n"
     ]
    }
   ],
   "source": [
    "# 方法一 比较p值和置信度\n",
    "result = stats.ttest_1samp(candy_sample,popmean=test_mean)\n",
    "print('检验样本统计量t为',result[0])\n",
    "print('p值为',result[1])"
   ]
  },
  {
   "cell_type": "code",
   "execution_count": 10,
   "metadata": {},
   "outputs": [
    {
     "name": "stdout",
     "output_type": "stream",
     "text": [
      "检验样本统计量t为 [0.33536742]\n",
      "t临界值为（双侧检验） -3.24983554401537 和 3.24983554401537\n"
     ]
    }
   ],
   "source": [
    "# 方法二 计算t再计算临界值判断\n",
    "result = stats.ttest_1samp(candy_sample,popmean=test_mean)\n",
    "\n",
    "# t分布临界值\n",
    "limit = stats.t.ppf(confidence/2, df =candy_sample.size - 1)\n",
    "\n",
    "print('检验样本统计量t为',result[0])\n",
    "print('t临界值为（双侧检验）',limit,'和',-limit)"
   ]
  },
  {
   "cell_type": "code",
   "execution_count": 13,
   "metadata": {},
   "outputs": [
    {
     "name": "stdout",
     "output_type": "stream",
     "text": [
      "t统计量为 candy    0.335367\n",
      "dtype: float64\n",
      "t临界值为（双侧检验） -3.24983554401537 和 3.24983554401537\n"
     ]
    }
   ],
   "source": [
    "# 方法三 使用公式计算t统计量，比较临界值\n",
    "t = (candy_sample.mean() - test_mean) / (candy_sample.std()/np.sqrt(candy_sample.size))\n",
    "limit = stats.t.ppf(confidence/2, df = candy_sample.size - 1)\n",
    "                                         \n",
    "print('t统计量为',t)\n",
    "print('t临界值为（双侧检验）',limit,'和',-limit)                                   "
   ]
  },
  {
   "cell_type": "markdown",
   "metadata": {},
   "source": [
    "结论\n",
    "\n",
    "从p值看，p=0.7450329 > 0.01，因此1%abs显著性水平下不能拒绝原假设，可认为该批次生产正常\n",
    "\n",
    "从临界值看，因为 -3.24983554401537<0.335367<3.24983554401537，也可以说明不能拒绝原假设，该批次生产正常"
   ]
  },
  {
   "cell_type": "markdown",
   "metadata": {},
   "source": [
    "## 实验4-8 两个总体的均值检验：总体方差未知，大样本"
   ]
  },
  {
   "cell_type": "markdown",
   "metadata": {},
   "source": [
    "一次大型考试，检测男女生差异。假设这些男女生数学成绩相同，562名女生和852名男生。\n",
    "\n",
    "他们的词汇得分如下：女生平均分547，样本标准差83；男生平均分525，样本标准差78\n",
    "\n",
    "问，数学成绩相同的女生总体和男生总体，女生词汇能力是否明显高于男生？显著性水平=0.01\n",
    "\n",
    "\n",
    "H0:μ1 - μ2 <= 0\n",
    "\n",
    "H1:μ1 - μ2 > 0   \n",
    "    \n",
    "假设两总体服从正态分布，由于总体方差未知，但样本容量较大，所以使用Z检验统计量。"
   ]
  },
  {
   "cell_type": "code",
   "execution_count": 18,
   "metadata": {},
   "outputs": [],
   "source": [
    "import numpy as np\n",
    "from scipy import stats"
   ]
  },
  {
   "cell_type": "code",
   "execution_count": 19,
   "metadata": {},
   "outputs": [],
   "source": [
    "# 已知条件\n",
    "confidence = 0.01\n",
    "sample_n1 = 562\n",
    "sample_mean1 = 547\n",
    "sample_std1 = 83\n",
    "sample_n2 = 852\n",
    "sample_mean2 = 525\n",
    "sample_std2 = 78"
   ]
  },
  {
   "cell_type": "code",
   "execution_count": 22,
   "metadata": {},
   "outputs": [
    {
     "name": "stdout",
     "output_type": "stream",
     "text": [
      "检验样本统计量z为 4.9949904689768685\n",
      "正态临界值（右侧检验）为 2.3263478740408408\n"
     ]
    }
   ],
   "source": [
    "# 计算z统计量\n",
    "z = (sample_mean1 - sample_mean2) / np.sqrt(sample_std1 ** 2 / sample_n1 + sample_std2 ** 2 / sample_n2)\n",
    "\n",
    "# 临界值（右侧检验）\n",
    "limit = stats.norm.ppf(1 - confidence)\n",
    "\n",
    "print('检验样本统计量z为',z)\n",
    "print('正态临界值（右侧检验）为',limit)"
   ]
  },
  {
   "cell_type": "markdown",
   "metadata": {},
   "source": [
    "结论\n",
    "\n",
    "由于z = 4.9949904689768685 > 临界值 2.3263478740408408\n",
    "\n",
    "因此拒绝原假设，接受备择假设。也就是说女生词汇能力的确明显高于男生"
   ]
  },
  {
   "cell_type": "markdown",
   "metadata": {},
   "source": [
    "## 实验4-9 两独立样本t检验"
   ]
  },
  {
   "cell_type": "markdown",
   "metadata": {},
   "source": [
    "12名会计师和14名财务人员起始年薪如下。\n",
    "\n",
    "在显著性水平=0.05下，检验两种职业起始年薪有无差异。\n",
    "\n",
    "H0:μ1 - μ2 = 0\n",
    "\n",
    "H1:μ1 - μ2 不等于 0\n",
    "    \n",
    "假设两总体服从正态分布。\n",
    "\n",
    "总体均值在小样本下的检验是在两总体服从正态分布假定下进行的，与大样本下的检验方法基本相同。不同的是，需要区分总体方差已知和总体方差未知两种情况。"
   ]
  },
  {
   "cell_type": "code",
   "execution_count": 26,
   "metadata": {},
   "outputs": [],
   "source": [
    "import numpy as np\n",
    "from scipy import stats\n",
    "import pandas as pd "
   ]
  },
  {
   "cell_type": "code",
   "execution_count": 27,
   "metadata": {},
   "outputs": [
    {
     "data": {
      "text/html": [
       "<div>\n",
       "<style scoped>\n",
       "    .dataframe tbody tr th:only-of-type {\n",
       "        vertical-align: middle;\n",
       "    }\n",
       "\n",
       "    .dataframe tbody tr th {\n",
       "        vertical-align: top;\n",
       "    }\n",
       "\n",
       "    .dataframe thead th {\n",
       "        text-align: right;\n",
       "    }\n",
       "</style>\n",
       "<table border=\"1\" class=\"dataframe\">\n",
       "  <thead>\n",
       "    <tr style=\"text-align: right;\">\n",
       "      <th></th>\n",
       "      <th>会计师</th>\n",
       "      <th>财务人员</th>\n",
       "    </tr>\n",
       "  </thead>\n",
       "  <tbody>\n",
       "    <tr>\n",
       "      <th>0</th>\n",
       "      <td>30.6</td>\n",
       "      <td>31.6</td>\n",
       "    </tr>\n",
       "    <tr>\n",
       "      <th>1</th>\n",
       "      <td>31.2</td>\n",
       "      <td>26.6</td>\n",
       "    </tr>\n",
       "    <tr>\n",
       "      <th>2</th>\n",
       "      <td>28.9</td>\n",
       "      <td>25.5</td>\n",
       "    </tr>\n",
       "    <tr>\n",
       "      <th>3</th>\n",
       "      <td>35.2</td>\n",
       "      <td>25.0</td>\n",
       "    </tr>\n",
       "    <tr>\n",
       "      <th>4</th>\n",
       "      <td>25.1</td>\n",
       "      <td>25.9</td>\n",
       "    </tr>\n",
       "    <tr>\n",
       "      <th>5</th>\n",
       "      <td>33.2</td>\n",
       "      <td>32.9</td>\n",
       "    </tr>\n",
       "    <tr>\n",
       "      <th>6</th>\n",
       "      <td>31.3</td>\n",
       "      <td>26.9</td>\n",
       "    </tr>\n",
       "    <tr>\n",
       "      <th>7</th>\n",
       "      <td>35.3</td>\n",
       "      <td>25.8</td>\n",
       "    </tr>\n",
       "    <tr>\n",
       "      <th>8</th>\n",
       "      <td>31.0</td>\n",
       "      <td>27.5</td>\n",
       "    </tr>\n",
       "    <tr>\n",
       "      <th>9</th>\n",
       "      <td>30.1</td>\n",
       "      <td>29.6</td>\n",
       "    </tr>\n",
       "    <tr>\n",
       "      <th>10</th>\n",
       "      <td>29.9</td>\n",
       "      <td>23.9</td>\n",
       "    </tr>\n",
       "    <tr>\n",
       "      <th>11</th>\n",
       "      <td>24.4</td>\n",
       "      <td>26.9</td>\n",
       "    </tr>\n",
       "    <tr>\n",
       "      <th>12</th>\n",
       "      <td>NaN</td>\n",
       "      <td>24.4</td>\n",
       "    </tr>\n",
       "    <tr>\n",
       "      <th>13</th>\n",
       "      <td>NaN</td>\n",
       "      <td>25.5</td>\n",
       "    </tr>\n",
       "  </tbody>\n",
       "</table>\n",
       "</div>"
      ],
      "text/plain": [
       "     会计师  财务人员\n",
       "0   30.6  31.6\n",
       "1   31.2  26.6\n",
       "2   28.9  25.5\n",
       "3   35.2  25.0\n",
       "4   25.1  25.9\n",
       "5   33.2  32.9\n",
       "6   31.3  26.9\n",
       "7   35.3  25.8\n",
       "8   31.0  27.5\n",
       "9   30.1  29.6\n",
       "10  29.9  23.9\n",
       "11  24.4  26.9\n",
       "12   NaN  24.4\n",
       "13   NaN  25.5"
      ]
     },
     "execution_count": 27,
     "metadata": {},
     "output_type": "execute_result"
    }
   ],
   "source": [
    "wage_df = pd.read_excel('4-9.xlsx')\n",
    "wage_df"
   ]
  },
  {
   "cell_type": "code",
   "execution_count": 30,
   "metadata": {},
   "outputs": [],
   "source": [
    "# 两列数据去除缺失值\n",
    "series1 = wage_df['会计师'].dropna()\n",
    "series2 = wage_df['财务人员'].dropna()"
   ]
  },
  {
   "cell_type": "code",
   "execution_count": 31,
   "metadata": {},
   "outputs": [
    {
     "name": "stdout",
     "output_type": "stream",
     "text": [
      "检验统计量t为 2.994071589160206\n",
      "p值为 0.006293740169423802\n"
     ]
    }
   ],
   "source": [
    "# 情况1，总体方差未知但相等\n",
    "result = stats.ttest_ind(series1,series2,equal_var=True)\n",
    "\n",
    "print('检验统计量t为',result[0])\n",
    "print('p值为',result[1])"
   ]
  },
  {
   "cell_type": "markdown",
   "metadata": {},
   "source": [
    "结论\n",
    "\n",
    "p=0.006293740169423802 < 0.05 所以拒绝原假设，因而可以认为会计师和财务人员的起始年薪是有差异的"
   ]
  },
  {
   "cell_type": "code",
   "execution_count": 32,
   "metadata": {},
   "outputs": [
    {
     "name": "stdout",
     "output_type": "stream",
     "text": [
      "检验统计量t为 2.9387255650200323\n",
      "p值为 0.007884123219171885\n"
     ]
    }
   ],
   "source": [
    "# 情况二，总体方差未知且不相等\n",
    "result = stats.ttest_ind(series1,series2,equal_var=False)\n",
    "\n",
    "print('检验统计量t为',result[0])\n",
    "print('p值为',result[1])"
   ]
  },
  {
   "cell_type": "markdown",
   "metadata": {},
   "source": [
    "结论\n",
    "\n",
    "p=0.007884123219171885 < 0.05 所以拒绝原假设，因而可以认为会计师和财务人员的起始年薪是有差异的"
   ]
  },
  {
   "cell_type": "markdown",
   "metadata": {},
   "source": [
    "## 实验4-10 配对样本t检验"
   ]
  },
  {
   "cell_type": "markdown",
   "metadata": {},
   "source": [
    "消费者给商品打分0~10分，分越高表示购买潜力越高。看广告前后各打一次分。\n",
    "\n",
    "显著性水平=0.05 根据样本数据判断广告是否提高了平均购买力\n",
    "\n",
    "H0:μ1 - μ2 = 0\n",
    "\n",
    "H1:μ1 - μ2 不等于 0"
   ]
  },
  {
   "cell_type": "code",
   "execution_count": 36,
   "metadata": {},
   "outputs": [],
   "source": [
    "import numpy as np\n",
    "from scipy import stats\n",
    "import pandas as pd "
   ]
  },
  {
   "cell_type": "code",
   "execution_count": 37,
   "metadata": {},
   "outputs": [
    {
     "data": {
      "text/html": [
       "<div>\n",
       "<style scoped>\n",
       "    .dataframe tbody tr th:only-of-type {\n",
       "        vertical-align: middle;\n",
       "    }\n",
       "\n",
       "    .dataframe tbody tr th {\n",
       "        vertical-align: top;\n",
       "    }\n",
       "\n",
       "    .dataframe thead th {\n",
       "        text-align: right;\n",
       "    }\n",
       "</style>\n",
       "<table border=\"1\" class=\"dataframe\">\n",
       "  <thead>\n",
       "    <tr style=\"text-align: right;\">\n",
       "      <th></th>\n",
       "      <th>看广告之后</th>\n",
       "      <th>看广告之前</th>\n",
       "    </tr>\n",
       "  </thead>\n",
       "  <tbody>\n",
       "    <tr>\n",
       "      <th>0</th>\n",
       "      <td>6</td>\n",
       "      <td>5</td>\n",
       "    </tr>\n",
       "    <tr>\n",
       "      <th>1</th>\n",
       "      <td>6</td>\n",
       "      <td>4</td>\n",
       "    </tr>\n",
       "    <tr>\n",
       "      <th>2</th>\n",
       "      <td>7</td>\n",
       "      <td>7</td>\n",
       "    </tr>\n",
       "    <tr>\n",
       "      <th>3</th>\n",
       "      <td>4</td>\n",
       "      <td>3</td>\n",
       "    </tr>\n",
       "    <tr>\n",
       "      <th>4</th>\n",
       "      <td>3</td>\n",
       "      <td>5</td>\n",
       "    </tr>\n",
       "    <tr>\n",
       "      <th>5</th>\n",
       "      <td>9</td>\n",
       "      <td>8</td>\n",
       "    </tr>\n",
       "    <tr>\n",
       "      <th>6</th>\n",
       "      <td>7</td>\n",
       "      <td>5</td>\n",
       "    </tr>\n",
       "    <tr>\n",
       "      <th>7</th>\n",
       "      <td>6</td>\n",
       "      <td>6</td>\n",
       "    </tr>\n",
       "  </tbody>\n",
       "</table>\n",
       "</div>"
      ],
      "text/plain": [
       "   看广告之后  看广告之前\n",
       "0      6      5\n",
       "1      6      4\n",
       "2      7      7\n",
       "3      4      3\n",
       "4      3      5\n",
       "5      9      8\n",
       "6      7      5\n",
       "7      6      6"
      ]
     },
     "execution_count": 37,
     "metadata": {},
     "output_type": "execute_result"
    }
   ],
   "source": [
    "consumer_df = pd.read_excel('4-10.xlsx')\n",
    "consumer_df"
   ]
  },
  {
   "cell_type": "code",
   "execution_count": 38,
   "metadata": {},
   "outputs": [],
   "source": [
    "\n",
    "series1 = consumer_df['看广告之后']\n",
    "series2 = consumer_df['看广告之前']"
   ]
  },
  {
   "cell_type": "code",
   "execution_count": 39,
   "metadata": {},
   "outputs": [
    {
     "name": "stdout",
     "output_type": "stream",
     "text": [
      "检验统计量t为 1.3572417850765923\n",
      "p值为 0.2168375456189006\n"
     ]
    }
   ],
   "source": [
    "# 方法1\n",
    "result = stats.ttest_rel(series1,series2)\n",
    "\n",
    "print('检验统计量t为',result[0])\n",
    "print('p值为',result[1])"
   ]
  },
  {
   "cell_type": "markdown",
   "metadata": {},
   "source": [
    "结论\n",
    "\n",
    "p = 0.2168375456189006 > 0.05,所以不能拒绝原假设，因而广告没有使潜在购买力提高"
   ]
  },
  {
   "cell_type": "code",
   "execution_count": 40,
   "metadata": {},
   "outputs": [
    {
     "name": "stdout",
     "output_type": "stream",
     "text": [
      "检验统计量t为 1.3572417850765923\n",
      "临界值为 2.3646242510102993\n"
     ]
    }
   ],
   "source": [
    "# 方法二 \n",
    "confidence = 0.05\n",
    "result = stats.ttest_rel(series1,series2)\n",
    "\n",
    "# 计算临界值（双侧检验）\n",
    "limit = stats.t.ppf(1 - confidence/2 , df=len(consumer_df) - 1)\n",
    "\n",
    "print('检验统计量t为',result[0])\n",
    "print('临界值为',limit)"
   ]
  },
  {
   "cell_type": "markdown",
   "metadata": {},
   "source": [
    "结论\n",
    "\n",
    "t = 1.3572417850765923 < 临界值 = 2.3646242510102993，因此，接受原假设，即广告没有使潜在购买力提高"
   ]
  },
  {
   "cell_type": "markdown",
   "metadata": {},
   "source": [
    "## 实验4-11 单一总体成数的假设检验"
   ]
  },
  {
   "cell_type": "markdown",
   "metadata": {},
   "source": [
    "快餐店有种特殊饮料，如果15%的顾客买它，则认为可以提供这种特殊供应。初步实验表明，500名顾客中88人买了。请问是否提供这种特殊饮料的供应？\n",
    "\n",
    "显著性水平 = 0.01\n",
    "\n",
    "H0:ρ>=15%\n",
    "\n",
    "H1:ρ<15%\n",
    "\n",
    "大样本下，无论总体是否服从正态分布，样本成数近似服从正态分布，因此选择Z检验统计量。"
   ]
  },
  {
   "cell_type": "code",
   "execution_count": 41,
   "metadata": {},
   "outputs": [],
   "source": [
    "import numpy as np\n",
    "from scipy import stats"
   ]
  },
  {
   "cell_type": "code",
   "execution_count": 42,
   "metadata": {},
   "outputs": [],
   "source": [
    "# 已知条件\n",
    "confidence = 0.01\n",
    "sample_n = 500\n",
    "sample_buyer = 88\n",
    "sample_p = sample_buyer / sample_n\n",
    "test_p = 0.15"
   ]
  },
  {
   "cell_type": "code",
   "execution_count": 44,
   "metadata": {},
   "outputs": [
    {
     "name": "stdout",
     "output_type": "stream",
     "text": [
      "临界值为 -2.3263478740408408\n",
      "检验统计量为 1.6281831568213883\n"
     ]
    }
   ],
   "source": [
    "# 计算临界值（左侧检验）\n",
    "limit = stats.norm.ppf(confidence)\n",
    "\n",
    "# 计算检验统计量\n",
    "z = (sample_p - test_p) / np.sqrt(test_p*(1 - test_p)/sample_n)\n",
    "\n",
    "print('临界值为',limit)\n",
    "print('检验统计量为',z)"
   ]
  },
  {
   "cell_type": "markdown",
   "metadata": {},
   "source": [
    "结论\n",
    "\n",
    "检验统计量为 1.6281831568213883 > 临界值为 -2.3263478740408408，所以接受原假设，即可以提供这种特殊供应"
   ]
  },
  {
   "cell_type": "markdown",
   "metadata": {},
   "source": [
    "## 实验4-12 两个总体的成数检验"
   ]
  },
  {
   "cell_type": "markdown",
   "metadata": {},
   "source": [
    "对600人进行一项调查，其中300名女性中279人同意；300名男性中255名同意\n",
    "\n",
    "显著性水平=0.05，问这一调查，男女的同意比例是否相同\n",
    "\n",
    "大样本比例均服从正态分布，因此两样本比例之差也服从正态分布，选择Z统计量。"
   ]
  },
  {
   "cell_type": "code",
   "execution_count": 46,
   "metadata": {},
   "outputs": [],
   "source": [
    "import numpy as np\n",
    "from scipy import stats"
   ]
  },
  {
   "cell_type": "code",
   "execution_count": 47,
   "metadata": {},
   "outputs": [],
   "source": [
    "# 已知条件\n",
    "confidence = 0.05\n",
    "sample_n1 = 300\n",
    "sample_agree1 = 279\n",
    "sample_n2 = 300\n",
    "sample_agree2 = 255\n",
    "sample_p1 = sample_agree1 / sample_n1\n",
    "sample_p2 = sample_agree2 / sample_n2"
   ]
  },
  {
   "cell_type": "code",
   "execution_count": 50,
   "metadata": {},
   "outputs": [
    {
     "name": "stdout",
     "output_type": "stream",
     "text": [
      "成数P为 0.89\n",
      "t临界值为 -1.9599639845400545 和 1.9599639845400545\n",
      "检验统计量为 3.131441267637955\n"
     ]
    }
   ],
   "source": [
    "# 计算临界值（双侧检验）\n",
    "limit = stats.norm.ppf(confidence/2)\n",
    "\n",
    "# 计算检验统计量公式中的P\n",
    "z_p = (sample_n1 * sample_p1 + sample_n2 * sample_p2) / (sample_n1 + sample_n2)\n",
    "\n",
    "# 计算检验统计量z\n",
    "z = (sample_p1 - sample_p2)/np.sqrt(z_p * (1 - z_p)*(1/sample_n1 + 1/sample_n2))\n",
    "\n",
    "print('成数P为',z_p)\n",
    "print('t临界值为',limit,'和',-limit)    \n",
    "print('检验统计量为',z)"
   ]
  },
  {
   "cell_type": "markdown",
   "metadata": {},
   "source": [
    "结论\n",
    "\n",
    "检验统计量为 3.131441267637955 > 1.9599639845400545，拒绝原假设，即表明男女是否同意有明显不同"
   ]
  },
  {
   "cell_type": "markdown",
   "metadata": {},
   "source": [
    "## 实验4-13 单一总体方差的假设检验"
   ]
  },
  {
   "cell_type": "markdown",
   "metadata": {},
   "source": [
    "杂志A订阅者中拥有车的数量的方差为0.94，杂志B的订阅者中选12个样本，其拥有车的数量如下。\n",
    "\n",
    "假设两种杂志订阅者拥有车的数量的方差相同。显著性水平=0.05  \n",
    "\n",
    "H0:sigma^2 = 0.94\n",
    "\n",
    "H1:sigma^2 不等于 0.94\n",
    "    \n",
    "用卡方作为检验统计量"
   ]
  },
  {
   "cell_type": "code",
   "execution_count": 2,
   "metadata": {},
   "outputs": [],
   "source": [
    "import numpy as np\n",
    "import pandas as pd \n",
    "from scipy import stats"
   ]
  },
  {
   "cell_type": "code",
   "execution_count": 3,
   "metadata": {},
   "outputs": [
    {
     "data": {
      "text/html": [
       "<div>\n",
       "<style scoped>\n",
       "    .dataframe tbody tr th:only-of-type {\n",
       "        vertical-align: middle;\n",
       "    }\n",
       "\n",
       "    .dataframe tbody tr th {\n",
       "        vertical-align: top;\n",
       "    }\n",
       "\n",
       "    .dataframe thead th {\n",
       "        text-align: right;\n",
       "    }\n",
       "</style>\n",
       "<table border=\"1\" class=\"dataframe\">\n",
       "  <thead>\n",
       "    <tr style=\"text-align: right;\">\n",
       "      <th></th>\n",
       "      <th>car</th>\n",
       "    </tr>\n",
       "  </thead>\n",
       "  <tbody>\n",
       "    <tr>\n",
       "      <th>0</th>\n",
       "      <td>2</td>\n",
       "    </tr>\n",
       "    <tr>\n",
       "      <th>1</th>\n",
       "      <td>1</td>\n",
       "    </tr>\n",
       "    <tr>\n",
       "      <th>2</th>\n",
       "      <td>2</td>\n",
       "    </tr>\n",
       "    <tr>\n",
       "      <th>3</th>\n",
       "      <td>0</td>\n",
       "    </tr>\n",
       "    <tr>\n",
       "      <th>4</th>\n",
       "      <td>3</td>\n",
       "    </tr>\n",
       "    <tr>\n",
       "      <th>5</th>\n",
       "      <td>2</td>\n",
       "    </tr>\n",
       "    <tr>\n",
       "      <th>6</th>\n",
       "      <td>2</td>\n",
       "    </tr>\n",
       "    <tr>\n",
       "      <th>7</th>\n",
       "      <td>1</td>\n",
       "    </tr>\n",
       "    <tr>\n",
       "      <th>8</th>\n",
       "      <td>2</td>\n",
       "    </tr>\n",
       "    <tr>\n",
       "      <th>9</th>\n",
       "      <td>1</td>\n",
       "    </tr>\n",
       "    <tr>\n",
       "      <th>10</th>\n",
       "      <td>0</td>\n",
       "    </tr>\n",
       "    <tr>\n",
       "      <th>11</th>\n",
       "      <td>1</td>\n",
       "    </tr>\n",
       "  </tbody>\n",
       "</table>\n",
       "</div>"
      ],
      "text/plain": [
       "    car\n",
       "0     2\n",
       "1     1\n",
       "2     2\n",
       "3     0\n",
       "4     3\n",
       "5     2\n",
       "6     2\n",
       "7     1\n",
       "8     2\n",
       "9     1\n",
       "10    0\n",
       "11    1"
      ]
     },
     "execution_count": 3,
     "metadata": {},
     "output_type": "execute_result"
    }
   ],
   "source": [
    "car = pd.read_excel('4-13.xlsx')\n",
    "car"
   ]
  },
  {
   "cell_type": "code",
   "execution_count": 5,
   "metadata": {},
   "outputs": [
    {
     "name": "stdout",
     "output_type": "stream",
     "text": [
      "接受域为 3.8157482522361 和 21.9200492610212\n",
      "检验统计量为 car    9.485816\n",
      "dtype: float64\n"
     ]
    }
   ],
   "source": [
    "# 已知条件\n",
    "confidence = 0.05\n",
    "test_var = 0.94\n",
    "\n",
    "# 计算临界值（95%置信区间的上下限）\n",
    "limit_lower, limit_higher = stats.chi2.interval(1 - confidence, df = car.size - 1)\n",
    "\n",
    "# 计算检验统计量\n",
    "chi2 = (car.size - 1) * car.var() / test_var\n",
    "\n",
    "print('接受域为',limit_lower,'和',limit_higher)\n",
    "print('检验统计量为',chi2)"
   ]
  },
  {
   "cell_type": "markdown",
   "metadata": {},
   "source": [
    "结论\n",
    "\n",
    "检验统计量为 9.485816 在区间 3.8157482522361 和 21.9200492610212 中，因此无法拒绝原假设。在5%显著性水平下，两份杂志的订阅者拥有车的数量方差相同。"
   ]
  },
  {
   "cell_type": "markdown",
   "metadata": {},
   "source": [
    "## 实验4-14 两个总体的方差检验"
   ]
  },
  {
   "cell_type": "markdown",
   "metadata": {},
   "source": [
    "11月和12月两段时间，各抽10个样本，显著性水平=0.05，检验两段时间总体方差是否相等。\n",
    "    \n",
    "H0:方差1 = 方差2\n",
    "\n",
    "H1:不相等\n",
    "\n",
    "F检验"
   ]
  },
  {
   "cell_type": "code",
   "execution_count": null,
   "metadata": {},
   "outputs": [],
   "source": [
    "import numpy as np\n",
    "import pandas as pd \n",
    "from scipy import stats"
   ]
  },
  {
   "cell_type": "code",
   "execution_count": 6,
   "metadata": {},
   "outputs": [
    {
     "data": {
      "text/html": [
       "<div>\n",
       "<style scoped>\n",
       "    .dataframe tbody tr th:only-of-type {\n",
       "        vertical-align: middle;\n",
       "    }\n",
       "\n",
       "    .dataframe tbody tr th {\n",
       "        vertical-align: top;\n",
       "    }\n",
       "\n",
       "    .dataframe thead th {\n",
       "        text-align: right;\n",
       "    }\n",
       "</style>\n",
       "<table border=\"1\" class=\"dataframe\">\n",
       "  <thead>\n",
       "    <tr style=\"text-align: right;\">\n",
       "      <th></th>\n",
       "      <th>11月</th>\n",
       "      <th>12月</th>\n",
       "    </tr>\n",
       "  </thead>\n",
       "  <tbody>\n",
       "    <tr>\n",
       "      <th>0</th>\n",
       "      <td>7493</td>\n",
       "      <td>8066</td>\n",
       "    </tr>\n",
       "    <tr>\n",
       "      <th>1</th>\n",
       "      <td>7525</td>\n",
       "      <td>8209</td>\n",
       "    </tr>\n",
       "    <tr>\n",
       "      <th>2</th>\n",
       "      <td>7760</td>\n",
       "      <td>7842</td>\n",
       "    </tr>\n",
       "    <tr>\n",
       "      <th>3</th>\n",
       "      <td>7499</td>\n",
       "      <td>7943</td>\n",
       "    </tr>\n",
       "    <tr>\n",
       "      <th>4</th>\n",
       "      <td>7555</td>\n",
       "      <td>7846</td>\n",
       "    </tr>\n",
       "    <tr>\n",
       "      <th>5</th>\n",
       "      <td>7690</td>\n",
       "      <td>8071</td>\n",
       "    </tr>\n",
       "    <tr>\n",
       "      <th>6</th>\n",
       "      <td>7668</td>\n",
       "      <td>8055</td>\n",
       "    </tr>\n",
       "    <tr>\n",
       "      <th>7</th>\n",
       "      <td>7600</td>\n",
       "      <td>8159</td>\n",
       "    </tr>\n",
       "    <tr>\n",
       "      <th>8</th>\n",
       "      <td>7516</td>\n",
       "      <td>7828</td>\n",
       "    </tr>\n",
       "    <tr>\n",
       "      <th>9</th>\n",
       "      <td>7711</td>\n",
       "      <td>8109</td>\n",
       "    </tr>\n",
       "  </tbody>\n",
       "</table>\n",
       "</div>"
      ],
      "text/plain": [
       "    11月   12月\n",
       "0  7493  8066\n",
       "1  7525  8209\n",
       "2  7760  7842\n",
       "3  7499  7943\n",
       "4  7555  7846\n",
       "5  7690  8071\n",
       "6  7668  8055\n",
       "7  7600  8159\n",
       "8  7516  7828\n",
       "9  7711  8109"
      ]
     },
     "execution_count": 6,
     "metadata": {},
     "output_type": "execute_result"
    }
   ],
   "source": [
    "index_df = pd.read_excel('4-14.xlsx')\n",
    "index_df"
   ]
  },
  {
   "cell_type": "code",
   "execution_count": 8,
   "metadata": {},
   "outputs": [
    {
     "name": "stdout",
     "output_type": "stream",
     "text": [
      "接受域为 0.24838585469445493 和 4.025994158282978\n",
      "检验统计量为 0.5023235585619927\n"
     ]
    }
   ],
   "source": [
    "confidence = 0.05\n",
    "series1 = index_df['11月']\n",
    "series2 = index_df['12月']\n",
    "\n",
    "# 计算F分布临界值（双侧检验）\n",
    "limit_lower, limit_higher = stats.f.interval(1 - confidence, dfn = series1.size - 1 , dfd = series2.size - 1)\n",
    "\n",
    "# 计算F检验统计量\n",
    "f = series1.var() / series2.var()\n",
    "\n",
    "print('接受域为',limit_lower,'和',limit_higher)\n",
    "print('检验统计量为',f)"
   ]
  },
  {
   "cell_type": "markdown",
   "metadata": {},
   "source": [
    "结论\n",
    "\n",
    "因为检验统计量为 0.5023235585619927 在 接受域为 0.24838585469445493 和 4.025994158282978 区间内，所以不能拒绝原假设，在5%显著性水平下，可以认为11月和12月方差相等。"
   ]
  },
  {
   "cell_type": "markdown",
   "metadata": {},
   "source": [
    "# 第三节 非参数检验"
   ]
  },
  {
   "cell_type": "markdown",
   "metadata": {},
   "source": [
    "参数检验就是知道或假定总体分布情况，非参数检验就是不知道。"
   ]
  },
  {
   "cell_type": "markdown",
   "metadata": {},
   "source": [
    "## 实验4-15 卡方检验"
   ]
  },
  {
   "cell_type": "markdown",
   "metadata": {},
   "source": [
    "调查500人，文化程度与性别是否相互独立。"
   ]
  },
  {
   "cell_type": "code",
   "execution_count": 1,
   "metadata": {},
   "outputs": [],
   "source": [
    "import numpy as np\n",
    "import pandas as pd \n",
    "from scipy import stats"
   ]
  },
  {
   "cell_type": "code",
   "execution_count": 2,
   "metadata": {},
   "outputs": [
    {
     "data": {
      "text/html": [
       "<div>\n",
       "<style scoped>\n",
       "    .dataframe tbody tr th:only-of-type {\n",
       "        vertical-align: middle;\n",
       "    }\n",
       "\n",
       "    .dataframe tbody tr th {\n",
       "        vertical-align: top;\n",
       "    }\n",
       "\n",
       "    .dataframe thead th {\n",
       "        text-align: right;\n",
       "    }\n",
       "</style>\n",
       "<table border=\"1\" class=\"dataframe\">\n",
       "  <thead>\n",
       "    <tr style=\"text-align: right;\">\n",
       "      <th></th>\n",
       "      <th>高中及以上</th>\n",
       "      <th>初中</th>\n",
       "      <th>小学及以下</th>\n",
       "    </tr>\n",
       "    <tr>\n",
       "      <th>性别</th>\n",
       "      <th></th>\n",
       "      <th></th>\n",
       "      <th></th>\n",
       "    </tr>\n",
       "  </thead>\n",
       "  <tbody>\n",
       "    <tr>\n",
       "      <th>男</th>\n",
       "      <td>44</td>\n",
       "      <td>36</td>\n",
       "      <td>140</td>\n",
       "    </tr>\n",
       "    <tr>\n",
       "      <th>女</th>\n",
       "      <td>60</td>\n",
       "      <td>60</td>\n",
       "      <td>160</td>\n",
       "    </tr>\n",
       "  </tbody>\n",
       "</table>\n",
       "</div>"
      ],
      "text/plain": [
       "    高中及以上  初中  小学及以下\n",
       "性别                  \n",
       "男      44  36    140\n",
       "女      60  60    160"
      ]
     },
     "execution_count": 2,
     "metadata": {},
     "output_type": "execute_result"
    }
   ],
   "source": [
    "sample_df = pd.read_excel('4-15.xlsx',header=0, index_col=0) # 注意要把性别列作为索引\n",
    "sample_df"
   ]
  },
  {
   "cell_type": "code",
   "execution_count": 31,
   "metadata": {},
   "outputs": [],
   "source": [
    "# 编写一个用于卡方检验的工具\n",
    "class ChisquareTest():\n",
    "    def __init__(self,df):\n",
    "        self.data = df.copy()\n",
    "        self.summed_data = None\n",
    "        self.expected_data = None\n",
    "        self.chi2_data = None\n",
    "        self.row_sum_name = '行合计'\n",
    "        self.col_sum_name = '列合计'\n",
    "        self.caculate_sum_finished = False\n",
    "        self.caculate_expect_finished = False\n",
    "        \n",
    "    def caculate_sum(self, df = None):\n",
    "        sum_original_data = df is None\n",
    "        if sum_original_data:\n",
    "            df = self.data.copy()\n",
    "            \n",
    "        df[self.row_sum_name] = df.apply(lambda row:row.sum(),axis = 1 )\n",
    "        df.loc[self.col_sum_name] = df.apply(lambda col: col.sum(),axis = 0 )\n",
    "        \n",
    "        if sum_original_data:\n",
    "            self.summed_data = df\n",
    "            self.caculate_sum_finished = True\n",
    "            \n",
    "        return df\n",
    "    \n",
    "    def caculate_expect(self):\n",
    "        if (not self.caculate_expect_finished):\n",
    "            self.caculate_sum()\n",
    "        self.expected_data = self.data.copy()\n",
    "        total_sum = self.summed_data.loc[self.col_sum_name , self.row_sum_name]\n",
    "        \n",
    "        for i in range(len(self.data)):\n",
    "            for j in range(len(self.data.columns)):\n",
    "                row_sum = self.summed_data.iloc[i][self.row_sum_name]\n",
    "                col_sum = self.summed_data.loc[self.col_sum_name][j]\n",
    "                self.expected_data.iloc[i,j] = row_sum * col_sum / total_sum\n",
    "        self.expected_data = self.caculate_sum(self.expected_data)\n",
    "        self.caculate_expect_finished = True\n",
    "        return self.expected_data\n",
    "        \n",
    "    def caculate_chi2(self):\n",
    "        if (not self.caculate_expect_finished):\n",
    "            self.caculate_expect()\n",
    "        self.chi2_data = self.data.copy()\n",
    "        for i in range(len(self.data)):\n",
    "            for j in range(len(self.data.columns)):\n",
    "                obs_value = self.data.iloc[i,j]\n",
    "                exp_value = self.expected_data.iloc[i,j]\n",
    "                self.chi2_data.iloc[i,j] = (obs_value - exp_value) ** 2 / exp_value\n",
    "        self.chi2_data = self.caculate_sum(df = self.chi2_data)\n",
    "        return self.chi2_data"
   ]
  },
  {
   "cell_type": "code",
   "execution_count": 32,
   "metadata": {},
   "outputs": [
    {
     "data": {
      "text/html": [
       "<div>\n",
       "<style scoped>\n",
       "    .dataframe tbody tr th:only-of-type {\n",
       "        vertical-align: middle;\n",
       "    }\n",
       "\n",
       "    .dataframe tbody tr th {\n",
       "        vertical-align: top;\n",
       "    }\n",
       "\n",
       "    .dataframe thead th {\n",
       "        text-align: right;\n",
       "    }\n",
       "</style>\n",
       "<table border=\"1\" class=\"dataframe\">\n",
       "  <thead>\n",
       "    <tr style=\"text-align: right;\">\n",
       "      <th></th>\n",
       "      <th>高中及以上</th>\n",
       "      <th>初中</th>\n",
       "      <th>小学及以下</th>\n",
       "      <th>行合计</th>\n",
       "    </tr>\n",
       "    <tr>\n",
       "      <th>性别</th>\n",
       "      <th></th>\n",
       "      <th></th>\n",
       "      <th></th>\n",
       "      <th></th>\n",
       "    </tr>\n",
       "  </thead>\n",
       "  <tbody>\n",
       "    <tr>\n",
       "      <th>男</th>\n",
       "      <td>44</td>\n",
       "      <td>36</td>\n",
       "      <td>140</td>\n",
       "      <td>220</td>\n",
       "    </tr>\n",
       "    <tr>\n",
       "      <th>女</th>\n",
       "      <td>60</td>\n",
       "      <td>60</td>\n",
       "      <td>160</td>\n",
       "      <td>280</td>\n",
       "    </tr>\n",
       "    <tr>\n",
       "      <th>列合计</th>\n",
       "      <td>104</td>\n",
       "      <td>96</td>\n",
       "      <td>300</td>\n",
       "      <td>500</td>\n",
       "    </tr>\n",
       "  </tbody>\n",
       "</table>\n",
       "</div>"
      ],
      "text/plain": [
       "     高中及以上  初中  小学及以下  行合计\n",
       "性别                        \n",
       "男       44  36    140  220\n",
       "女       60  60    160  280\n",
       "列合计    104  96    300  500"
      ]
     },
     "execution_count": 32,
     "metadata": {},
     "output_type": "execute_result"
    }
   ],
   "source": [
    "chi2test = ChisquareTest(sample_df)\n",
    "\n",
    "# 求和列表\n",
    "chi2test.caculate_sum()"
   ]
  },
  {
   "cell_type": "code",
   "execution_count": 33,
   "metadata": {},
   "outputs": [
    {
     "data": {
      "text/html": [
       "<div>\n",
       "<style scoped>\n",
       "    .dataframe tbody tr th:only-of-type {\n",
       "        vertical-align: middle;\n",
       "    }\n",
       "\n",
       "    .dataframe tbody tr th {\n",
       "        vertical-align: top;\n",
       "    }\n",
       "\n",
       "    .dataframe thead th {\n",
       "        text-align: right;\n",
       "    }\n",
       "</style>\n",
       "<table border=\"1\" class=\"dataframe\">\n",
       "  <thead>\n",
       "    <tr style=\"text-align: right;\">\n",
       "      <th></th>\n",
       "      <th>高中及以上</th>\n",
       "      <th>初中</th>\n",
       "      <th>小学及以下</th>\n",
       "      <th>行合计</th>\n",
       "    </tr>\n",
       "    <tr>\n",
       "      <th>性别</th>\n",
       "      <th></th>\n",
       "      <th></th>\n",
       "      <th></th>\n",
       "      <th></th>\n",
       "    </tr>\n",
       "  </thead>\n",
       "  <tbody>\n",
       "    <tr>\n",
       "      <th>男</th>\n",
       "      <td>45.76</td>\n",
       "      <td>42.24</td>\n",
       "      <td>132.0</td>\n",
       "      <td>220.0</td>\n",
       "    </tr>\n",
       "    <tr>\n",
       "      <th>女</th>\n",
       "      <td>58.24</td>\n",
       "      <td>53.76</td>\n",
       "      <td>168.0</td>\n",
       "      <td>280.0</td>\n",
       "    </tr>\n",
       "    <tr>\n",
       "      <th>列合计</th>\n",
       "      <td>104.00</td>\n",
       "      <td>96.00</td>\n",
       "      <td>300.0</td>\n",
       "      <td>500.0</td>\n",
       "    </tr>\n",
       "  </tbody>\n",
       "</table>\n",
       "</div>"
      ],
      "text/plain": [
       "      高中及以上     初中  小学及以下    行合计\n",
       "性别                              \n",
       "男     45.76  42.24  132.0  220.0\n",
       "女     58.24  53.76  168.0  280.0\n",
       "列合计  104.00  96.00  300.0  500.0"
      ]
     },
     "execution_count": 33,
     "metadata": {},
     "output_type": "execute_result"
    }
   ],
   "source": [
    "# 期望值表\n",
    "chi2test.caculate_expect()"
   ]
  },
  {
   "cell_type": "code",
   "execution_count": 34,
   "metadata": {},
   "outputs": [
    {
     "data": {
      "text/html": [
       "<div>\n",
       "<style scoped>\n",
       "    .dataframe tbody tr th:only-of-type {\n",
       "        vertical-align: middle;\n",
       "    }\n",
       "\n",
       "    .dataframe tbody tr th {\n",
       "        vertical-align: top;\n",
       "    }\n",
       "\n",
       "    .dataframe thead th {\n",
       "        text-align: right;\n",
       "    }\n",
       "</style>\n",
       "<table border=\"1\" class=\"dataframe\">\n",
       "  <thead>\n",
       "    <tr style=\"text-align: right;\">\n",
       "      <th></th>\n",
       "      <th>高中及以上</th>\n",
       "      <th>初中</th>\n",
       "      <th>小学及以下</th>\n",
       "      <th>行合计</th>\n",
       "    </tr>\n",
       "    <tr>\n",
       "      <th>性别</th>\n",
       "      <th></th>\n",
       "      <th></th>\n",
       "      <th></th>\n",
       "      <th></th>\n",
       "    </tr>\n",
       "  </thead>\n",
       "  <tbody>\n",
       "    <tr>\n",
       "      <th>男</th>\n",
       "      <td>0.067692</td>\n",
       "      <td>0.921818</td>\n",
       "      <td>0.484848</td>\n",
       "      <td>1.474359</td>\n",
       "    </tr>\n",
       "    <tr>\n",
       "      <th>女</th>\n",
       "      <td>0.053187</td>\n",
       "      <td>0.724286</td>\n",
       "      <td>0.380952</td>\n",
       "      <td>1.158425</td>\n",
       "    </tr>\n",
       "    <tr>\n",
       "      <th>列合计</th>\n",
       "      <td>0.120879</td>\n",
       "      <td>1.646104</td>\n",
       "      <td>0.865801</td>\n",
       "      <td>2.632784</td>\n",
       "    </tr>\n",
       "  </tbody>\n",
       "</table>\n",
       "</div>"
      ],
      "text/plain": [
       "        高中及以上        初中     小学及以下       行合计\n",
       "性别                                         \n",
       "男    0.067692  0.921818  0.484848  1.474359\n",
       "女    0.053187  0.724286  0.380952  1.158425\n",
       "列合计  0.120879  1.646104  0.865801  2.632784"
      ]
     },
     "execution_count": 34,
     "metadata": {},
     "output_type": "execute_result"
    }
   ],
   "source": [
    "# 卡方统计表\n",
    "chi2test.caculate_chi2()"
   ]
  },
  {
   "cell_type": "code",
   "execution_count": 80,
   "metadata": {},
   "outputs": [
    {
     "name": "stdout",
     "output_type": "stream",
     "text": [
      "卡方临界值为 5.991464547107979\n"
     ]
    }
   ],
   "source": [
    "# 计算临界值\n",
    "confidence = 0.05\n",
    "degree = (len(sample_df) - 1) * (len(sample_df.columns) - 1)\n",
    "limit = stats.chi2.ppf(1 - confidence , df = degree)\n",
    "\n",
    "print('卡方临界值为',limit)"
   ]
  },
  {
   "cell_type": "markdown",
   "metadata": {},
   "source": [
    "结论\n",
    "\n",
    "由于卡方统计量 2.632784 < 卡方临界值为 5.991464547107979,所以无法拒绝原假设，文化程度与性别关系不显著。"
   ]
  },
  {
   "cell_type": "markdown",
   "metadata": {},
   "source": [
    "## 实验4-16 单样本符号检验"
   ]
  },
  {
   "cell_type": "markdown",
   "metadata": {},
   "source": [
    "20个工人，他们一天生产产品数如下。 检验水平=0.10,判定总体中位数是否为160.\n",
    "\n",
    "H0:M = 160\n",
    "\n",
    "H1:M不等于160"
   ]
  },
  {
   "cell_type": "code",
   "execution_count": 35,
   "metadata": {},
   "outputs": [],
   "source": [
    "import numpy as np\n",
    "import pandas as pd \n",
    "from scipy import stats"
   ]
  },
  {
   "cell_type": "code",
   "execution_count": 36,
   "metadata": {},
   "outputs": [
    {
     "data": {
      "text/html": [
       "<div>\n",
       "<style scoped>\n",
       "    .dataframe tbody tr th:only-of-type {\n",
       "        vertical-align: middle;\n",
       "    }\n",
       "\n",
       "    .dataframe tbody tr th {\n",
       "        vertical-align: top;\n",
       "    }\n",
       "\n",
       "    .dataframe thead th {\n",
       "        text-align: right;\n",
       "    }\n",
       "</style>\n",
       "<table border=\"1\" class=\"dataframe\">\n",
       "  <thead>\n",
       "    <tr style=\"text-align: right;\">\n",
       "      <th></th>\n",
       "      <th>产品件数</th>\n",
       "    </tr>\n",
       "  </thead>\n",
       "  <tbody>\n",
       "    <tr>\n",
       "      <th>0</th>\n",
       "      <td>168</td>\n",
       "    </tr>\n",
       "    <tr>\n",
       "      <th>1</th>\n",
       "      <td>163</td>\n",
       "    </tr>\n",
       "    <tr>\n",
       "      <th>2</th>\n",
       "      <td>160</td>\n",
       "    </tr>\n",
       "    <tr>\n",
       "      <th>3</th>\n",
       "      <td>172</td>\n",
       "    </tr>\n",
       "    <tr>\n",
       "      <th>4</th>\n",
       "      <td>162</td>\n",
       "    </tr>\n",
       "    <tr>\n",
       "      <th>5</th>\n",
       "      <td>168</td>\n",
       "    </tr>\n",
       "    <tr>\n",
       "      <th>6</th>\n",
       "      <td>152</td>\n",
       "    </tr>\n",
       "    <tr>\n",
       "      <th>7</th>\n",
       "      <td>153</td>\n",
       "    </tr>\n",
       "    <tr>\n",
       "      <th>8</th>\n",
       "      <td>167</td>\n",
       "    </tr>\n",
       "    <tr>\n",
       "      <th>9</th>\n",
       "      <td>165</td>\n",
       "    </tr>\n",
       "    <tr>\n",
       "      <th>10</th>\n",
       "      <td>164</td>\n",
       "    </tr>\n",
       "    <tr>\n",
       "      <th>11</th>\n",
       "      <td>142</td>\n",
       "    </tr>\n",
       "    <tr>\n",
       "      <th>12</th>\n",
       "      <td>173</td>\n",
       "    </tr>\n",
       "    <tr>\n",
       "      <th>13</th>\n",
       "      <td>166</td>\n",
       "    </tr>\n",
       "    <tr>\n",
       "      <th>14</th>\n",
       "      <td>160</td>\n",
       "    </tr>\n",
       "    <tr>\n",
       "      <th>15</th>\n",
       "      <td>165</td>\n",
       "    </tr>\n",
       "    <tr>\n",
       "      <th>16</th>\n",
       "      <td>171</td>\n",
       "    </tr>\n",
       "    <tr>\n",
       "      <th>17</th>\n",
       "      <td>186</td>\n",
       "    </tr>\n",
       "    <tr>\n",
       "      <th>18</th>\n",
       "      <td>167</td>\n",
       "    </tr>\n",
       "    <tr>\n",
       "      <th>19</th>\n",
       "      <td>170</td>\n",
       "    </tr>\n",
       "  </tbody>\n",
       "</table>\n",
       "</div>"
      ],
      "text/plain": [
       "    产品件数\n",
       "0    168\n",
       "1    163\n",
       "2    160\n",
       "3    172\n",
       "4    162\n",
       "5    168\n",
       "6    152\n",
       "7    153\n",
       "8    167\n",
       "9    165\n",
       "10   164\n",
       "11   142\n",
       "12   173\n",
       "13   166\n",
       "14   160\n",
       "15   165\n",
       "16   171\n",
       "17   186\n",
       "18   167\n",
       "19   170"
      ]
     },
     "execution_count": 36,
     "metadata": {},
     "output_type": "execute_result"
    }
   ],
   "source": [
    "sample = pd.read_excel('4-16.xlsx')\n",
    "sample"
   ]
  },
  {
   "cell_type": "code",
   "execution_count": 42,
   "metadata": {},
   "outputs": [
    {
     "name": "stdout",
     "output_type": "stream",
     "text": [
      "n+为 产品件数    15\n",
      "dtype: int64\n",
      "n-为 产品件数    3\n",
      "dtype: int64\n",
      "n为 产品件数    18\n",
      "dtype: int64\n",
      "n+和n-中较大的那个是 15\n",
      "临界值为为 [13.]\n"
     ]
    }
   ],
   "source": [
    "confidence = 0.10\n",
    "test_mid = 160\n",
    "\n",
    "n_greater = sample.where(sample > test_mid).count()\n",
    "n_less = sample.where(sample < test_mid).count()\n",
    "n = n_greater + n_less\n",
    "n_max = max(int(n_greater) , int(n_less))\n",
    "limit = stats.binom.ppf(1 - confidence/2 , n, 0.5) + 1\n",
    "\n",
    "print('n+为',n_greater)\n",
    "print('n-为',n_less)\n",
    "print('n为',n)\n",
    "print('n+和n-中较大的那个是',n_max)\n",
    "print('临界值为为',limit)"
   ]
  },
  {
   "cell_type": "markdown",
   "metadata": {},
   "source": [
    "结论\n",
    "\n",
    "n+和n-中较大的那个是 15  >  13  样本观测值落入拒绝域，所有拒绝原假设，样本数据不能证明总体中位数等于160件。"
   ]
  },
  {
   "cell_type": "markdown",
   "metadata": {},
   "source": [
    "## 实验4-17 配对样本的符号检验"
   ]
  },
  {
   "cell_type": "markdown",
   "metadata": {},
   "source": [
    "两位裁判给选手打分，α=0.05，用符号检验，两位裁判打分是否有显著差异。\n",
    "\n",
    "H0:无显著差异\n",
    "\n",
    "H1:有显著差异"
   ]
  },
  {
   "cell_type": "code",
   "execution_count": 43,
   "metadata": {},
   "outputs": [],
   "source": [
    "import numpy as np\n",
    "import pandas as pd \n",
    "from scipy import stats"
   ]
  },
  {
   "cell_type": "code",
   "execution_count": 45,
   "metadata": {},
   "outputs": [
    {
     "data": {
      "text/html": [
       "<div>\n",
       "<style scoped>\n",
       "    .dataframe tbody tr th:only-of-type {\n",
       "        vertical-align: middle;\n",
       "    }\n",
       "\n",
       "    .dataframe tbody tr th {\n",
       "        vertical-align: top;\n",
       "    }\n",
       "\n",
       "    .dataframe thead th {\n",
       "        text-align: right;\n",
       "    }\n",
       "</style>\n",
       "<table border=\"1\" class=\"dataframe\">\n",
       "  <thead>\n",
       "    <tr style=\"text-align: right;\">\n",
       "      <th></th>\n",
       "      <th>裁判A</th>\n",
       "      <th>裁判B</th>\n",
       "    </tr>\n",
       "    <tr>\n",
       "      <th>选手</th>\n",
       "      <th></th>\n",
       "      <th></th>\n",
       "    </tr>\n",
       "  </thead>\n",
       "  <tbody>\n",
       "    <tr>\n",
       "      <th>1</th>\n",
       "      <td>8.2</td>\n",
       "      <td>7.9</td>\n",
       "    </tr>\n",
       "    <tr>\n",
       "      <th>2</th>\n",
       "      <td>9.0</td>\n",
       "      <td>8.8</td>\n",
       "    </tr>\n",
       "    <tr>\n",
       "      <th>3</th>\n",
       "      <td>8.8</td>\n",
       "      <td>8.6</td>\n",
       "    </tr>\n",
       "    <tr>\n",
       "      <th>4</th>\n",
       "      <td>9.3</td>\n",
       "      <td>9.4</td>\n",
       "    </tr>\n",
       "    <tr>\n",
       "      <th>5</th>\n",
       "      <td>7.9</td>\n",
       "      <td>8.4</td>\n",
       "    </tr>\n",
       "    <tr>\n",
       "      <th>6</th>\n",
       "      <td>9.1</td>\n",
       "      <td>9.0</td>\n",
       "    </tr>\n",
       "    <tr>\n",
       "      <th>7</th>\n",
       "      <td>8.6</td>\n",
       "      <td>8.9</td>\n",
       "    </tr>\n",
       "    <tr>\n",
       "      <th>8</th>\n",
       "      <td>8.8</td>\n",
       "      <td>8.7</td>\n",
       "    </tr>\n",
       "    <tr>\n",
       "      <th>9</th>\n",
       "      <td>8.4</td>\n",
       "      <td>8.0</td>\n",
       "    </tr>\n",
       "    <tr>\n",
       "      <th>10</th>\n",
       "      <td>9.0</td>\n",
       "      <td>9.3</td>\n",
       "    </tr>\n",
       "  </tbody>\n",
       "</table>\n",
       "</div>"
      ],
      "text/plain": [
       "    裁判A  裁判B\n",
       "选手          \n",
       "1   8.2  7.9\n",
       "2   9.0  8.8\n",
       "3   8.8  8.6\n",
       "4   9.3  9.4\n",
       "5   7.9  8.4\n",
       "6   9.1  9.0\n",
       "7   8.6  8.9\n",
       "8   8.8  8.7\n",
       "9   8.4  8.0\n",
       "10  9.0  9.3"
      ]
     },
     "execution_count": 45,
     "metadata": {},
     "output_type": "execute_result"
    }
   ],
   "source": [
    "sample_df = pd.read_excel('4-17.xlsx',index_col=0) # 注意索引列\n",
    "sample_df"
   ]
  },
  {
   "cell_type": "code",
   "execution_count": 46,
   "metadata": {},
   "outputs": [
    {
     "data": {
      "text/html": [
       "<div>\n",
       "<style scoped>\n",
       "    .dataframe tbody tr th:only-of-type {\n",
       "        vertical-align: middle;\n",
       "    }\n",
       "\n",
       "    .dataframe tbody tr th {\n",
       "        vertical-align: top;\n",
       "    }\n",
       "\n",
       "    .dataframe thead th {\n",
       "        text-align: right;\n",
       "    }\n",
       "</style>\n",
       "<table border=\"1\" class=\"dataframe\">\n",
       "  <thead>\n",
       "    <tr style=\"text-align: right;\">\n",
       "      <th></th>\n",
       "      <th>裁判A</th>\n",
       "      <th>裁判B</th>\n",
       "      <th>分数差A-B</th>\n",
       "    </tr>\n",
       "    <tr>\n",
       "      <th>选手</th>\n",
       "      <th></th>\n",
       "      <th></th>\n",
       "      <th></th>\n",
       "    </tr>\n",
       "  </thead>\n",
       "  <tbody>\n",
       "    <tr>\n",
       "      <th>1</th>\n",
       "      <td>8.2</td>\n",
       "      <td>7.9</td>\n",
       "      <td>0.3</td>\n",
       "    </tr>\n",
       "    <tr>\n",
       "      <th>2</th>\n",
       "      <td>9.0</td>\n",
       "      <td>8.8</td>\n",
       "      <td>0.2</td>\n",
       "    </tr>\n",
       "    <tr>\n",
       "      <th>3</th>\n",
       "      <td>8.8</td>\n",
       "      <td>8.6</td>\n",
       "      <td>0.2</td>\n",
       "    </tr>\n",
       "    <tr>\n",
       "      <th>4</th>\n",
       "      <td>9.3</td>\n",
       "      <td>9.4</td>\n",
       "      <td>-0.1</td>\n",
       "    </tr>\n",
       "    <tr>\n",
       "      <th>5</th>\n",
       "      <td>7.9</td>\n",
       "      <td>8.4</td>\n",
       "      <td>-0.5</td>\n",
       "    </tr>\n",
       "    <tr>\n",
       "      <th>6</th>\n",
       "      <td>9.1</td>\n",
       "      <td>9.0</td>\n",
       "      <td>0.1</td>\n",
       "    </tr>\n",
       "    <tr>\n",
       "      <th>7</th>\n",
       "      <td>8.6</td>\n",
       "      <td>8.9</td>\n",
       "      <td>-0.3</td>\n",
       "    </tr>\n",
       "    <tr>\n",
       "      <th>8</th>\n",
       "      <td>8.8</td>\n",
       "      <td>8.7</td>\n",
       "      <td>0.1</td>\n",
       "    </tr>\n",
       "    <tr>\n",
       "      <th>9</th>\n",
       "      <td>8.4</td>\n",
       "      <td>8.0</td>\n",
       "      <td>0.4</td>\n",
       "    </tr>\n",
       "    <tr>\n",
       "      <th>10</th>\n",
       "      <td>9.0</td>\n",
       "      <td>9.3</td>\n",
       "      <td>-0.3</td>\n",
       "    </tr>\n",
       "  </tbody>\n",
       "</table>\n",
       "</div>"
      ],
      "text/plain": [
       "    裁判A  裁判B  分数差A-B\n",
       "选手                  \n",
       "1   8.2  7.9     0.3\n",
       "2   9.0  8.8     0.2\n",
       "3   8.8  8.6     0.2\n",
       "4   9.3  9.4    -0.1\n",
       "5   7.9  8.4    -0.5\n",
       "6   9.1  9.0     0.1\n",
       "7   8.6  8.9    -0.3\n",
       "8   8.8  8.7     0.1\n",
       "9   8.4  8.0     0.4\n",
       "10  9.0  9.3    -0.3"
      ]
     },
     "execution_count": 46,
     "metadata": {},
     "output_type": "execute_result"
    }
   ],
   "source": [
    "# 计算分数差\n",
    "sample_df['分数差A-B'] = sample_df.apply(lambda row : row[0] - row[1] , axis=1)\n",
    "sample_df"
   ]
  },
  {
   "cell_type": "code",
   "execution_count": 47,
   "metadata": {},
   "outputs": [
    {
     "name": "stdout",
     "output_type": "stream",
     "text": [
      "n为 10\n",
      "r+为 6\n",
      "r-为 4\n",
      "r为 6\n",
      "临界值为为 9.0\n"
     ]
    }
   ],
   "source": [
    "confidence = 0.05\n",
    "diff_series = sample_df['分数差A-B']\n",
    "\n",
    "n = len(sample_df)\n",
    "\n",
    "r_greater = diff_series.where(diff_series > 0).count()\n",
    "\n",
    "r_less = diff_series.where(diff_series < 0).count()\n",
    "\n",
    "r = max(r_greater , r_less)\n",
    "\n",
    "limit = stats.binom.ppf(1 - confidence/2 , n , 0.5) + 1\n",
    "\n",
    "print('n为',n)\n",
    "print('r+为',r_greater)\n",
    "print('r-为',r_less)\n",
    "\n",
    "print('r为',r)\n",
    "print('临界值为为',limit)"
   ]
  },
  {
   "cell_type": "markdown",
   "metadata": {},
   "source": [
    "## 实验4-18 秩和检验"
   ]
  },
  {
   "cell_type": "markdown",
   "metadata": {},
   "source": [
    "两组简单随机样本(前8个和后9个），判断这两组数据是否来自同一总体。\n",
    "\n",
    "H0:两组数据来自同一总体\n",
    "    \n",
    "H1:两组数据来自不同总体"
   ]
  },
  {
   "cell_type": "code",
   "execution_count": 2,
   "metadata": {},
   "outputs": [],
   "source": [
    "import numpy as np\n",
    "import pandas as pd \n",
    "from scipy import stats"
   ]
  },
  {
   "cell_type": "code",
   "execution_count": 50,
   "metadata": {},
   "outputs": [
    {
     "data": {
      "text/html": [
       "<div>\n",
       "<style scoped>\n",
       "    .dataframe tbody tr th:only-of-type {\n",
       "        vertical-align: middle;\n",
       "    }\n",
       "\n",
       "    .dataframe tbody tr th {\n",
       "        vertical-align: top;\n",
       "    }\n",
       "\n",
       "    .dataframe thead th {\n",
       "        text-align: right;\n",
       "    }\n",
       "</style>\n",
       "<table border=\"1\" class=\"dataframe\">\n",
       "  <thead>\n",
       "    <tr style=\"text-align: right;\">\n",
       "      <th></th>\n",
       "      <th>样本</th>\n",
       "    </tr>\n",
       "  </thead>\n",
       "  <tbody>\n",
       "    <tr>\n",
       "      <th>0</th>\n",
       "      <td>25</td>\n",
       "    </tr>\n",
       "    <tr>\n",
       "      <th>1</th>\n",
       "      <td>23</td>\n",
       "    </tr>\n",
       "    <tr>\n",
       "      <th>2</th>\n",
       "      <td>22</td>\n",
       "    </tr>\n",
       "    <tr>\n",
       "      <th>3</th>\n",
       "      <td>23</td>\n",
       "    </tr>\n",
       "    <tr>\n",
       "      <th>4</th>\n",
       "      <td>21</td>\n",
       "    </tr>\n",
       "    <tr>\n",
       "      <th>5</th>\n",
       "      <td>23</td>\n",
       "    </tr>\n",
       "    <tr>\n",
       "      <th>6</th>\n",
       "      <td>19</td>\n",
       "    </tr>\n",
       "    <tr>\n",
       "      <th>7</th>\n",
       "      <td>20</td>\n",
       "    </tr>\n",
       "    <tr>\n",
       "      <th>8</th>\n",
       "      <td>28</td>\n",
       "    </tr>\n",
       "    <tr>\n",
       "      <th>9</th>\n",
       "      <td>26</td>\n",
       "    </tr>\n",
       "    <tr>\n",
       "      <th>10</th>\n",
       "      <td>24</td>\n",
       "    </tr>\n",
       "    <tr>\n",
       "      <th>11</th>\n",
       "      <td>25</td>\n",
       "    </tr>\n",
       "    <tr>\n",
       "      <th>12</th>\n",
       "      <td>23</td>\n",
       "    </tr>\n",
       "    <tr>\n",
       "      <th>13</th>\n",
       "      <td>20</td>\n",
       "    </tr>\n",
       "    <tr>\n",
       "      <th>14</th>\n",
       "      <td>18</td>\n",
       "    </tr>\n",
       "    <tr>\n",
       "      <th>15</th>\n",
       "      <td>21</td>\n",
       "    </tr>\n",
       "    <tr>\n",
       "      <th>16</th>\n",
       "      <td>15</td>\n",
       "    </tr>\n",
       "  </tbody>\n",
       "</table>\n",
       "</div>"
      ],
      "text/plain": [
       "    样本\n",
       "0   25\n",
       "1   23\n",
       "2   22\n",
       "3   23\n",
       "4   21\n",
       "5   23\n",
       "6   19\n",
       "7   20\n",
       "8   28\n",
       "9   26\n",
       "10  24\n",
       "11  25\n",
       "12  23\n",
       "13  20\n",
       "14  18\n",
       "15  21\n",
       "16  15"
      ]
     },
     "execution_count": 50,
     "metadata": {},
     "output_type": "execute_result"
    }
   ],
   "source": [
    "sample_df = pd.read_excel('4-18.xlsx')\n",
    "sample_df"
   ]
  },
  {
   "cell_type": "code",
   "execution_count": 51,
   "metadata": {},
   "outputs": [
    {
     "data": {
      "text/html": [
       "<div>\n",
       "<style scoped>\n",
       "    .dataframe tbody tr th:only-of-type {\n",
       "        vertical-align: middle;\n",
       "    }\n",
       "\n",
       "    .dataframe tbody tr th {\n",
       "        vertical-align: top;\n",
       "    }\n",
       "\n",
       "    .dataframe thead th {\n",
       "        text-align: right;\n",
       "    }\n",
       "</style>\n",
       "<table border=\"1\" class=\"dataframe\">\n",
       "  <thead>\n",
       "    <tr style=\"text-align: right;\">\n",
       "      <th></th>\n",
       "      <th>样本</th>\n",
       "      <th>秩</th>\n",
       "    </tr>\n",
       "  </thead>\n",
       "  <tbody>\n",
       "    <tr>\n",
       "      <th>0</th>\n",
       "      <td>25</td>\n",
       "      <td>14.5</td>\n",
       "    </tr>\n",
       "    <tr>\n",
       "      <th>1</th>\n",
       "      <td>23</td>\n",
       "      <td>10.5</td>\n",
       "    </tr>\n",
       "    <tr>\n",
       "      <th>2</th>\n",
       "      <td>22</td>\n",
       "      <td>8.0</td>\n",
       "    </tr>\n",
       "    <tr>\n",
       "      <th>3</th>\n",
       "      <td>23</td>\n",
       "      <td>10.5</td>\n",
       "    </tr>\n",
       "    <tr>\n",
       "      <th>4</th>\n",
       "      <td>21</td>\n",
       "      <td>6.5</td>\n",
       "    </tr>\n",
       "    <tr>\n",
       "      <th>5</th>\n",
       "      <td>23</td>\n",
       "      <td>10.5</td>\n",
       "    </tr>\n",
       "    <tr>\n",
       "      <th>6</th>\n",
       "      <td>19</td>\n",
       "      <td>3.0</td>\n",
       "    </tr>\n",
       "    <tr>\n",
       "      <th>7</th>\n",
       "      <td>20</td>\n",
       "      <td>4.5</td>\n",
       "    </tr>\n",
       "    <tr>\n",
       "      <th>8</th>\n",
       "      <td>28</td>\n",
       "      <td>17.0</td>\n",
       "    </tr>\n",
       "    <tr>\n",
       "      <th>9</th>\n",
       "      <td>26</td>\n",
       "      <td>16.0</td>\n",
       "    </tr>\n",
       "    <tr>\n",
       "      <th>10</th>\n",
       "      <td>24</td>\n",
       "      <td>13.0</td>\n",
       "    </tr>\n",
       "    <tr>\n",
       "      <th>11</th>\n",
       "      <td>25</td>\n",
       "      <td>14.5</td>\n",
       "    </tr>\n",
       "    <tr>\n",
       "      <th>12</th>\n",
       "      <td>23</td>\n",
       "      <td>10.5</td>\n",
       "    </tr>\n",
       "    <tr>\n",
       "      <th>13</th>\n",
       "      <td>20</td>\n",
       "      <td>4.5</td>\n",
       "    </tr>\n",
       "    <tr>\n",
       "      <th>14</th>\n",
       "      <td>18</td>\n",
       "      <td>2.0</td>\n",
       "    </tr>\n",
       "    <tr>\n",
       "      <th>15</th>\n",
       "      <td>21</td>\n",
       "      <td>6.5</td>\n",
       "    </tr>\n",
       "    <tr>\n",
       "      <th>16</th>\n",
       "      <td>15</td>\n",
       "      <td>1.0</td>\n",
       "    </tr>\n",
       "  </tbody>\n",
       "</table>\n",
       "</div>"
      ],
      "text/plain": [
       "    样本     秩\n",
       "0   25  14.5\n",
       "1   23  10.5\n",
       "2   22   8.0\n",
       "3   23  10.5\n",
       "4   21   6.5\n",
       "5   23  10.5\n",
       "6   19   3.0\n",
       "7   20   4.5\n",
       "8   28  17.0\n",
       "9   26  16.0\n",
       "10  24  13.0\n",
       "11  25  14.5\n",
       "12  23  10.5\n",
       "13  20   4.5\n",
       "14  18   2.0\n",
       "15  21   6.5\n",
       "16  15   1.0"
      ]
     },
     "execution_count": 51,
     "metadata": {},
     "output_type": "execute_result"
    }
   ],
   "source": [
    "sample_df['秩'] = sample_df['样本'].rank(axis = 0 ,method = 'average' , ascending=True)\n",
    "sample_df"
   ]
  },
  {
   "cell_type": "code",
   "execution_count": 53,
   "metadata": {},
   "outputs": [
    {
     "name": "stdout",
     "output_type": "stream",
     "text": [
      "检验统计量T为 68.0\n"
     ]
    }
   ],
   "source": [
    "t = sample_df[0:8]['秩'].sum()\n",
    "\n",
    "print('检验统计量T为',t)"
   ]
  },
  {
   "cell_type": "markdown",
   "metadata": {},
   "source": [
    "查“秩和检验值表”，并判断。由于两组样本容量都小于10，查上下限临界值。T1(0.05) = 54, T2(0.05) = 90\n",
    "\n",
    "68介于两个临界值之间，因此不能拒绝原假设，可以认为两组样本来自同一总体。"
   ]
  },
  {
   "cell_type": "markdown",
   "metadata": {},
   "source": [
    "大样本下，用scipy.stats.ranksums函数求得统计量和p-value\n",
    "\n",
    "python scipy 中的 ranksums(x,y) 相当于R中的 wilcox.text(x,y,exact=FALSE,correct=FALSE)\n",
    "\n",
    "此外，想了解更多，可以参考这篇文章 https://blog.csdn.net/chikily_yongfeng/article/details/82255575?utm_medium=distribute.pc_relevant.none-task-blog-baidulandingword-1&spm=1001.2101.3001.4242"
   ]
  },
  {
   "cell_type": "code",
   "execution_count": 6,
   "metadata": {},
   "outputs": [
    {
     "name": "stdout",
     "output_type": "stream",
     "text": [
      "RanksumsResult(statistic=4.415880433163923, pvalue=1.0059968254463979e-05)\n"
     ]
    }
   ],
   "source": [
    "# 示例\n",
    "x=[57.07168,46.95301,31.86423,38.27486,77.89309,76.78879,33.29809,58.61569,18.26473,62.92256,50.46951,19.14473,22.58552,24.14309]\n",
    "\n",
    "y=[8.319966,2.569211,1.306941,8.450002,1.624244,1.887139,1.376355,2.521150,5.940253,1.458392,3.257468,1.574528,2.338976]\n",
    "\n",
    "print(stats.ranksums(x, y))"
   ]
  },
  {
   "cell_type": "markdown",
   "metadata": {},
   "source": [
    "## 实验4-19 游程检验"
   ]
  },
  {
   "cell_type": "markdown",
   "metadata": {},
   "source": [
    "抽16学生，成绩如下。显著性水平=0.05，判断样本是否具有随机性。\n",
    "\n",
    "H0:样本是随机样本\n",
    "\n",
    "H1:样本不具有随机性"
   ]
  },
  {
   "cell_type": "code",
   "execution_count": 7,
   "metadata": {},
   "outputs": [],
   "source": [
    "import numpy as np\n",
    "import pandas as pd \n",
    "from scipy import stats"
   ]
  },
  {
   "cell_type": "code",
   "execution_count": 9,
   "metadata": {},
   "outputs": [
    {
     "data": {
      "text/html": [
       "<div>\n",
       "<style scoped>\n",
       "    .dataframe tbody tr th:only-of-type {\n",
       "        vertical-align: middle;\n",
       "    }\n",
       "\n",
       "    .dataframe tbody tr th {\n",
       "        vertical-align: top;\n",
       "    }\n",
       "\n",
       "    .dataframe thead th {\n",
       "        text-align: right;\n",
       "    }\n",
       "</style>\n",
       "<table border=\"1\" class=\"dataframe\">\n",
       "  <thead>\n",
       "    <tr style=\"text-align: right;\">\n",
       "      <th></th>\n",
       "      <th>成绩</th>\n",
       "    </tr>\n",
       "  </thead>\n",
       "  <tbody>\n",
       "    <tr>\n",
       "      <th>0</th>\n",
       "      <td>61</td>\n",
       "    </tr>\n",
       "    <tr>\n",
       "      <th>1</th>\n",
       "      <td>74</td>\n",
       "    </tr>\n",
       "    <tr>\n",
       "      <th>2</th>\n",
       "      <td>70</td>\n",
       "    </tr>\n",
       "    <tr>\n",
       "      <th>3</th>\n",
       "      <td>63</td>\n",
       "    </tr>\n",
       "    <tr>\n",
       "      <th>4</th>\n",
       "      <td>64</td>\n",
       "    </tr>\n",
       "    <tr>\n",
       "      <th>5</th>\n",
       "      <td>58</td>\n",
       "    </tr>\n",
       "    <tr>\n",
       "      <th>6</th>\n",
       "      <td>82</td>\n",
       "    </tr>\n",
       "    <tr>\n",
       "      <th>7</th>\n",
       "      <td>78</td>\n",
       "    </tr>\n",
       "    <tr>\n",
       "      <th>8</th>\n",
       "      <td>60</td>\n",
       "    </tr>\n",
       "    <tr>\n",
       "      <th>9</th>\n",
       "      <td>76</td>\n",
       "    </tr>\n",
       "    <tr>\n",
       "      <th>10</th>\n",
       "      <td>85</td>\n",
       "    </tr>\n",
       "    <tr>\n",
       "      <th>11</th>\n",
       "      <td>72</td>\n",
       "    </tr>\n",
       "    <tr>\n",
       "      <th>12</th>\n",
       "      <td>68</td>\n",
       "    </tr>\n",
       "    <tr>\n",
       "      <th>13</th>\n",
       "      <td>54</td>\n",
       "    </tr>\n",
       "    <tr>\n",
       "      <th>14</th>\n",
       "      <td>62</td>\n",
       "    </tr>\n",
       "    <tr>\n",
       "      <th>15</th>\n",
       "      <td>56</td>\n",
       "    </tr>\n",
       "  </tbody>\n",
       "</table>\n",
       "</div>"
      ],
      "text/plain": [
       "    成绩\n",
       "0   61\n",
       "1   74\n",
       "2   70\n",
       "3   63\n",
       "4   64\n",
       "5   58\n",
       "6   82\n",
       "7   78\n",
       "8   60\n",
       "9   76\n",
       "10  85\n",
       "11  72\n",
       "12  68\n",
       "13  54\n",
       "14  62\n",
       "15  56"
      ]
     },
     "execution_count": 9,
     "metadata": {},
     "output_type": "execute_result"
    }
   ],
   "source": [
    "sample_df = pd.read_excel('4-19.xlsx')\n",
    "sample_df"
   ]
  },
  {
   "cell_type": "code",
   "execution_count": 10,
   "metadata": {},
   "outputs": [
    {
     "data": {
      "text/html": [
       "<div>\n",
       "<style scoped>\n",
       "    .dataframe tbody tr th:only-of-type {\n",
       "        vertical-align: middle;\n",
       "    }\n",
       "\n",
       "    .dataframe tbody tr th {\n",
       "        vertical-align: top;\n",
       "    }\n",
       "\n",
       "    .dataframe thead th {\n",
       "        text-align: right;\n",
       "    }\n",
       "</style>\n",
       "<table border=\"1\" class=\"dataframe\">\n",
       "  <thead>\n",
       "    <tr style=\"text-align: right;\">\n",
       "      <th></th>\n",
       "      <th>成绩</th>\n",
       "      <th>游程</th>\n",
       "    </tr>\n",
       "  </thead>\n",
       "  <tbody>\n",
       "    <tr>\n",
       "      <th>0</th>\n",
       "      <td>61</td>\n",
       "      <td>0</td>\n",
       "    </tr>\n",
       "    <tr>\n",
       "      <th>1</th>\n",
       "      <td>74</td>\n",
       "      <td>1</td>\n",
       "    </tr>\n",
       "    <tr>\n",
       "      <th>2</th>\n",
       "      <td>70</td>\n",
       "      <td>1</td>\n",
       "    </tr>\n",
       "    <tr>\n",
       "      <th>3</th>\n",
       "      <td>63</td>\n",
       "      <td>0</td>\n",
       "    </tr>\n",
       "    <tr>\n",
       "      <th>4</th>\n",
       "      <td>64</td>\n",
       "      <td>0</td>\n",
       "    </tr>\n",
       "    <tr>\n",
       "      <th>5</th>\n",
       "      <td>58</td>\n",
       "      <td>0</td>\n",
       "    </tr>\n",
       "    <tr>\n",
       "      <th>6</th>\n",
       "      <td>82</td>\n",
       "      <td>1</td>\n",
       "    </tr>\n",
       "    <tr>\n",
       "      <th>7</th>\n",
       "      <td>78</td>\n",
       "      <td>1</td>\n",
       "    </tr>\n",
       "    <tr>\n",
       "      <th>8</th>\n",
       "      <td>60</td>\n",
       "      <td>0</td>\n",
       "    </tr>\n",
       "    <tr>\n",
       "      <th>9</th>\n",
       "      <td>76</td>\n",
       "      <td>1</td>\n",
       "    </tr>\n",
       "    <tr>\n",
       "      <th>10</th>\n",
       "      <td>85</td>\n",
       "      <td>1</td>\n",
       "    </tr>\n",
       "    <tr>\n",
       "      <th>11</th>\n",
       "      <td>72</td>\n",
       "      <td>1</td>\n",
       "    </tr>\n",
       "    <tr>\n",
       "      <th>12</th>\n",
       "      <td>68</td>\n",
       "      <td>1</td>\n",
       "    </tr>\n",
       "    <tr>\n",
       "      <th>13</th>\n",
       "      <td>54</td>\n",
       "      <td>0</td>\n",
       "    </tr>\n",
       "    <tr>\n",
       "      <th>14</th>\n",
       "      <td>62</td>\n",
       "      <td>0</td>\n",
       "    </tr>\n",
       "    <tr>\n",
       "      <th>15</th>\n",
       "      <td>56</td>\n",
       "      <td>0</td>\n",
       "    </tr>\n",
       "  </tbody>\n",
       "</table>\n",
       "</div>"
      ],
      "text/plain": [
       "    成绩  游程\n",
       "0   61   0\n",
       "1   74   1\n",
       "2   70   1\n",
       "3   63   0\n",
       "4   64   0\n",
       "5   58   0\n",
       "6   82   1\n",
       "7   78   1\n",
       "8   60   0\n",
       "9   76   1\n",
       "10  85   1\n",
       "11  72   1\n",
       "12  68   1\n",
       "13  54   0\n",
       "14  62   0\n",
       "15  56   0"
      ]
     },
     "execution_count": 10,
     "metadata": {},
     "output_type": "execute_result"
    }
   ],
   "source": [
    "# 中位数\n",
    "med = sample_df['成绩'].median()\n",
    "\n",
    "# 计算游程\n",
    "sample_df['游程'] = sample_df.apply(lambda row: row['成绩'] > med and 1 or 0 , axis=1)\n",
    "sample_df"
   ]
  },
  {
   "cell_type": "code",
   "execution_count": 14,
   "metadata": {},
   "outputs": [
    {
     "name": "stdout",
     "output_type": "stream",
     "text": [
      "游程数为 7\n"
     ]
    }
   ],
   "source": [
    "# 计算游程数\n",
    "# 假设游程数没有变化，那么连成一片的字符片数为1，因而将1设为初始值\n",
    "R = 1\n",
    "\n",
    "for i in range(len(sample_df)):\n",
    "    if i == 0:\n",
    "        continue\n",
    "    if sample_df['游程'][i] != sample_df['游程'][i-1]:\n",
    "        R = R + 1\n",
    "print('游程数为',R)"
   ]
  },
  {
   "cell_type": "markdown",
   "metadata": {},
   "source": [
    "结论\n",
    "\n",
    "查游程检验临界值表，并据此判断，不能拒绝原假设，可认为样本具有随机性。"
   ]
  },
  {
   "cell_type": "code",
   "execution_count": null,
   "metadata": {},
   "outputs": [],
   "source": []
  }
 ],
 "metadata": {
  "kernelspec": {
   "display_name": "Python [conda env:root] *",
   "language": "python",
   "name": "conda-root-py"
  },
  "language_info": {
   "codemirror_mode": {
    "name": "ipython",
    "version": 3
   },
   "file_extension": ".py",
   "mimetype": "text/x-python",
   "name": "python",
   "nbconvert_exporter": "python",
   "pygments_lexer": "ipython3",
   "version": "3.7.5"
  }
 },
 "nbformat": 4,
 "nbformat_minor": 2
}
