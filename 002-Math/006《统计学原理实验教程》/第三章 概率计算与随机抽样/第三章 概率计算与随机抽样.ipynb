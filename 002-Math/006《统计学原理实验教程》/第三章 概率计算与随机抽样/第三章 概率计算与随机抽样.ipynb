{
 "cells": [
  {
   "cell_type": "markdown",
   "metadata": {},
   "source": [
    "# 第一节 概率计算"
   ]
  },
  {
   "cell_type": "code",
   "execution_count": null,
   "metadata": {},
   "outputs": [],
   "source": []
  },
  {
   "cell_type": "markdown",
   "metadata": {},
   "source": [
    "这一节主要介绍各种概率分布：二项分布、泊松分布、正态分布等等。具体概念这里不过多赘述，直接拿案例进行实验。"
   ]
  },
  {
   "cell_type": "markdown",
   "metadata": {},
   "source": [
    "## 实验3-1 二项分布概率的计算"
   ]
  },
  {
   "cell_type": "raw",
   "metadata": {},
   "source": [
    "利用scipy统计模块计算二项分布概率\n",
    "\n",
    "假设有6个顾客进入某服装店，任一顾客购买的概率是0.30。计算下列事件的概率\n",
    "1.恰有4个顾客购买\n",
    "2.购买的顾客不超过一半\n",
    "3.至少有1个顾客购买"
   ]
  },
  {
   "cell_type": "code",
   "execution_count": 3,
   "metadata": {},
   "outputs": [],
   "source": [
    "from scipy import stats"
   ]
  },
  {
   "cell_type": "code",
   "execution_count": 4,
   "metadata": {},
   "outputs": [],
   "source": [
    "n = 6\n",
    "p = 0.3"
   ]
  },
  {
   "cell_type": "code",
   "execution_count": 5,
   "metadata": {},
   "outputs": [
    {
     "data": {
      "text/plain": [
       "0.05953499999999999"
      ]
     },
     "execution_count": 5,
     "metadata": {},
     "output_type": "execute_result"
    }
   ],
   "source": [
    "# 1.恰有4个顾客购买\n",
    "k = 4\n",
    "prob = stats.binom.pmf(k,n,p)\n",
    "prob"
   ]
  },
  {
   "cell_type": "code",
   "execution_count": 6,
   "metadata": {},
   "outputs": [
    {
     "data": {
      "text/plain": [
       "0.92953"
      ]
     },
     "execution_count": 6,
     "metadata": {},
     "output_type": "execute_result"
    }
   ],
   "source": [
    "# 2.购买的顾客不超过一半\n",
    "k = 3\n",
    "prob = stats.binom.cdf(k,n,p)\n",
    "prob"
   ]
  },
  {
   "cell_type": "code",
   "execution_count": 7,
   "metadata": {},
   "outputs": [
    {
     "data": {
      "text/plain": [
       "0.882351"
      ]
     },
     "execution_count": 7,
     "metadata": {},
     "output_type": "execute_result"
    }
   ],
   "source": [
    "# 3.至少有1个顾客购买，相当于1-没有买的的概率\n",
    "k = 0\n",
    "prob = 1 - stats.binom.cdf(k,n,p)\n",
    "prob"
   ]
  },
  {
   "cell_type": "markdown",
   "metadata": {},
   "source": [
    "## 实验3-2 泊松分布概率计算"
   ]
  },
  {
   "cell_type": "markdown",
   "metadata": {},
   "source": [
    "利用scipy统计模块计算泊松分布概率\n",
    "\n",
    "某航空公司的订票处每60分钟有48次电话。求5分钟内接到3次电话的概率。"
   ]
  },
  {
   "cell_type": "code",
   "execution_count": 8,
   "metadata": {},
   "outputs": [],
   "source": [
    "from scipy import stats"
   ]
  },
  {
   "cell_type": "code",
   "execution_count": 10,
   "metadata": {},
   "outputs": [
    {
     "data": {
      "text/plain": [
       "4.0"
      ]
     },
     "execution_count": 10,
     "metadata": {},
     "output_type": "execute_result"
    }
   ],
   "source": [
    "x = 3\n",
    "mu =(48/60)*5\n",
    "mu\n",
    "# 注意mu的计算"
   ]
  },
  {
   "cell_type": "code",
   "execution_count": 11,
   "metadata": {},
   "outputs": [
    {
     "data": {
      "text/plain": [
       "0.19536681481316454"
      ]
     },
     "execution_count": 11,
     "metadata": {},
     "output_type": "execute_result"
    }
   ],
   "source": [
    "prob = stats.poisson.pmf(x,mu)\n",
    "prob"
   ]
  },
  {
   "cell_type": "markdown",
   "metadata": {},
   "source": [
    "## 超几何分布概率计算"
   ]
  },
  {
   "cell_type": "raw",
   "metadata": {},
   "source": [
    "利用scipy统计模块计算超几何分布概率\n",
    "\n",
    "10人中，6人喜欢可口可乐，4人喜欢百事可乐，从这些人中选出一个3人的随机样本。求\n",
    "1.恰有2人喜欢可口可乐的概率是多少？\n",
    "2.2或3个人喜欢百事可乐的概率是多少？\n",
    "\n",
    "简单理解超几何分布:它描述了从有限M个物件（其中包含n个指定种类的物件）中抽出N个物件，成功抽出该指定种类的物件的次数（不放回）。"
   ]
  },
  {
   "cell_type": "code",
   "execution_count": 12,
   "metadata": {},
   "outputs": [],
   "source": [
    "from scipy import stats"
   ]
  },
  {
   "cell_type": "code",
   "execution_count": 13,
   "metadata": {},
   "outputs": [],
   "source": [
    "N = 3\n",
    "M = 10\n",
    "n = 6\n",
    "# n=6 这里是6人喜欢可口可乐的意思"
   ]
  },
  {
   "cell_type": "code",
   "execution_count": 14,
   "metadata": {},
   "outputs": [
    {
     "data": {
      "text/plain": [
       "0.4999999999999997"
      ]
     },
     "execution_count": 14,
     "metadata": {},
     "output_type": "execute_result"
    }
   ],
   "source": [
    "# 1.恰有2人喜欢可口可乐的概率是多少？\n",
    "k1 = 2\n",
    "prob = stats.hypergeom.pmf(k1,M,n,N)\n",
    "prob"
   ]
  },
  {
   "cell_type": "code",
   "execution_count": 16,
   "metadata": {},
   "outputs": [
    {
     "data": {
      "text/plain": [
       "0.3333333333333335"
      ]
     },
     "execution_count": 16,
     "metadata": {},
     "output_type": "execute_result"
    }
   ],
   "source": [
    "# 2或3个人喜欢百事可乐的概率是多少？\n",
    "k1 = 2\n",
    "k2 = 3\n",
    "n = 4 \n",
    "# n=6 这里是4人喜欢百事可乐的意思\n",
    "prob = stats.hypergeom.pmf(k1,M,n,N) + stats.hypergeom.pmf(k2,M,n,N)\n",
    "prob"
   ]
  },
  {
   "cell_type": "markdown",
   "metadata": {},
   "source": [
    "## 实验3-4 正态分布概率计算"
   ]
  },
  {
   "cell_type": "raw",
   "metadata": {},
   "source": [
    "利用scipy统计模块计算正态分布概率\n",
    "\n",
    "人们第一次结婚的平均年龄是26岁。假设第一次结婚的年龄为正态分布，标准差为4年。求\n",
    "1.一个人第一次结婚时的年龄小于23岁的概率多大？\n",
    "2.一个人人第一次结婚时的年龄在20-30岁之间的概率多大？\n",
    "3.95%的人在什么年龄前第一次结婚"
   ]
  },
  {
   "cell_type": "code",
   "execution_count": 17,
   "metadata": {},
   "outputs": [],
   "source": [
    "from scipy import stats"
   ]
  },
  {
   "cell_type": "code",
   "execution_count": 18,
   "metadata": {},
   "outputs": [],
   "source": [
    "mu = 26\n",
    "sigma = 4"
   ]
  },
  {
   "cell_type": "code",
   "execution_count": 20,
   "metadata": {},
   "outputs": [
    {
     "data": {
      "text/plain": [
       "0.2266273523768682"
      ]
     },
     "execution_count": 20,
     "metadata": {},
     "output_type": "execute_result"
    }
   ],
   "source": [
    "# 1.一个人第一次结婚时的年龄小于23岁的概率多大？\n",
    "x1 = 23\n",
    "prob = stats.norm.cdf(x1,mu,sigma)\n",
    "prob"
   ]
  },
  {
   "cell_type": "code",
   "execution_count": 21,
   "metadata": {},
   "outputs": [
    {
     "data": {
      "text/plain": [
       "0.7745375447996848"
      ]
     },
     "execution_count": 21,
     "metadata": {},
     "output_type": "execute_result"
    }
   ],
   "source": [
    "# 2.一个人人第一次结婚时的年龄在20-30岁之间的概率多大？\n",
    "x2 = 20\n",
    "x3 = 30\n",
    "prob = stats.norm.cdf(x3,mu,sigma) - stats.norm.cdf(x2,mu,sigma)\n",
    "prob"
   ]
  },
  {
   "cell_type": "code",
   "execution_count": 24,
   "metadata": {},
   "outputs": [
    {
     "data": {
      "text/plain": [
       "32.579414507805886"
      ]
     },
     "execution_count": 24,
     "metadata": {},
     "output_type": "execute_result"
    }
   ],
   "source": [
    "# 3.95%的人在什么年龄前第一次结婚\n",
    "x4 = 0.95\n",
    "prob = stats.norm.ppf(x4,mu,sigma)\n",
    "prob"
   ]
  },
  {
   "cell_type": "markdown",
   "metadata": {},
   "source": [
    "## 实验3-5 卡方分布概率计算"
   ]
  },
  {
   "cell_type": "raw",
   "metadata": {},
   "source": [
    "利用scipy.stats.chi2进行计算\n",
    "\n",
    "from scipy import stats\n",
    "stats.chi2.cdf(x,n)\n",
    "stats.chi2.pdf(x,n)\n",
    "\n",
    "cdf返回随机变量X小于x的累积概率，即P(X<x)\n",
    "pdf返回随机变量X在x处的概率密度"
   ]
  },
  {
   "cell_type": "markdown",
   "metadata": {},
   "source": [
    "## 实验3-6 t分布概率计算"
   ]
  },
  {
   "cell_type": "raw",
   "metadata": {},
   "source": [
    "利用scipy.stats.t进行计算\n",
    "\n",
    "from scipy import stats\n",
    "stats.t.cdf(x,n)\n",
    "stats.t.pdf(x,n)\n",
    "\n",
    "x为需要计算概率的数值(>0)，n表示自由度"
   ]
  },
  {
   "cell_type": "markdown",
   "metadata": {},
   "source": [
    "# 实验3-7 F分布概率计算"
   ]
  },
  {
   "cell_type": "raw",
   "metadata": {},
   "source": [
    "利用scipy.stats.f进行计算\n",
    "\n",
    "from scipy import stats\n",
    "stats.f.cdf(x,m,n)\n",
    "stats.f.pdf(x,m,n)\n",
    "\n",
    "x：用来计算F分布的概率数值\n",
    "m：分子自由度\n",
    "n：分母自由度\n",
    "\n",
    "cdf返回随机变量X小于x的累积概率，即P(X<x)\n",
    "pdf返回随机变量X在x处的概率密度"
   ]
  },
  {
   "cell_type": "markdown",
   "metadata": {},
   "source": [
    "## 实验3-8 排列组合与阶乘函数计算概率"
   ]
  },
  {
   "cell_type": "markdown",
   "metadata": {},
   "source": [
    "n个人，求至少两人生日相同（设为事件A）的概率"
   ]
  },
  {
   "cell_type": "code",
   "execution_count": 27,
   "metadata": {},
   "outputs": [],
   "source": [
    "import math\n",
    "from scipy import special"
   ]
  },
  {
   "cell_type": "code",
   "execution_count": 29,
   "metadata": {},
   "outputs": [
    {
     "data": {
      "text/plain": [
       "0.997190478966976"
      ]
     },
     "execution_count": 29,
     "metadata": {},
     "output_type": "execute_result"
    }
   ],
   "source": [
    "# 假设有64个同学，即 n=64\n",
    "n = 64\n",
    "prob = 1 - special.comb(365,n) * math.factorial(n) / 365 ** n\n",
    "prob\n",
    "# 说明只要有64人，那么至少有2人生日相同概率几乎为1"
   ]
  },
  {
   "cell_type": "markdown",
   "metadata": {},
   "source": [
    "## 实验3-9 概率密度函数图的绘制"
   ]
  },
  {
   "cell_type": "code",
   "execution_count": null,
   "metadata": {},
   "outputs": [],
   "source": []
  },
  {
   "cell_type": "markdown",
   "metadata": {},
   "source": [
    "绘制正态分布N(10,2)和N(12,3)的概率密度函数图"
   ]
  },
  {
   "cell_type": "code",
   "execution_count": 31,
   "metadata": {},
   "outputs": [],
   "source": [
    "\n",
    "\n",
    "import pandas as pd\n",
    "import numpy as np"
   ]
  },
  {
   "cell_type": "code",
   "execution_count": 33,
   "metadata": {},
   "outputs": [],
   "source": [
    "%matplotlib inline\n",
    "import matplotlib.pyplot as plt\n",
    "plt.rcParams['font.sans-serif'] = ['SimHei'] # 步骤一（替换sans-serif字体）\n",
    "plt.rcParams['axes.unicode_minus'] = False   # 步骤二（解决坐标轴负数的负号显示问题）\n",
    "plt.rcParams['savefig.dpi'] = 100 # 图片质量"
   ]
  },
  {
   "cell_type": "code",
   "execution_count": 41,
   "metadata": {},
   "outputs": [],
   "source": [
    "mu1 = 10\n",
    "sigma1 = 2\n",
    "mu2 = 12\n",
    "sigma2 = 3"
   ]
  },
  {
   "cell_type": "code",
   "execution_count": 45,
   "metadata": {},
   "outputs": [],
   "source": [
    "# 定义函数求概率密度，这个函数其实就是正态分布的公式\n",
    "def norm_fun(x,mu,sigma):\n",
    "    return np.exp(-((x - mu)**2)/(2*sigma**2))/(sigma*np.sqrt(2*np.pi))"
   ]
  },
  {
   "cell_type": "code",
   "execution_count": 44,
   "metadata": {},
   "outputs": [
    {
     "data": {
      "image/png": "[encoded data removed]",
      "text/plain": [
       "<Figure size 432x288 with 1 Axes>"
      ]
     },
     "metadata": {
      "needs_background": "light"
     },
     "output_type": "display_data"
    }
   ],
   "source": [
    "# 画图\n",
    "x = np.linspace(1,25,100)\n",
    "y1 = norm_fun(x,mu1,sigma1)\n",
    "y2 = norm_fun(x,mu2,sigma2)\n",
    "\n",
    "fig,ax = plt.subplots()\n",
    "ax.plot(x,y1,\"r-\",linewidth=2,label='f(x1)')\n",
    "ax.plot(x,y2,\"b-\",linewidth=2,label='f(x2)')\n",
    "ax.set(ylabel='f(x)',xlabel='x')\n",
    "ax.legend()\n",
    "ax.grid(True)"
   ]
  },
  {
   "cell_type": "markdown",
   "metadata": {},
   "source": [
    "# 第二节 随机抽样"
   ]
  },
  {
   "cell_type": "markdown",
   "metadata": {},
   "source": [
    "## 实验3-10 使用随机数发生器创建随机数"
   ]
  },
  {
   "cell_type": "markdown",
   "metadata": {},
   "source": [
    "创建取值分别为1，2，,3,4，相应概率为0.3,0.2,0.1,0.4的概率分布下，15行8列的离散分布随机数表"
   ]
  },
  {
   "cell_type": "code",
   "execution_count": null,
   "metadata": {},
   "outputs": [],
   "source": [
    "import numpy as np"
   ]
  },
  {
   "cell_type": "code",
   "execution_count": 47,
   "metadata": {},
   "outputs": [
    {
     "data": {
      "text/plain": [
       "array([[4, 3, 4, 4, 2, 1, 2, 1],\n",
       "       [3, 2, 4, 4, 4, 2, 1, 4],\n",
       "       [4, 2, 1, 1, 2, 3, 1, 1],\n",
       "       [4, 4, 1, 2, 4, 2, 1, 4],\n",
       "       [4, 2, 1, 1, 2, 1, 1, 1],\n",
       "       [1, 4, 2, 4, 4, 4, 1, 1],\n",
       "       [2, 2, 4, 1, 1, 4, 2, 4],\n",
       "       [1, 1, 2, 1, 1, 1, 1, 4],\n",
       "       [4, 1, 1, 4, 4, 4, 4, 1],\n",
       "       [4, 1, 2, 4, 1, 1, 4, 1],\n",
       "       [3, 1, 4, 4, 4, 2, 1, 4],\n",
       "       [1, 2, 2, 4, 2, 1, 2, 4],\n",
       "       [1, 1, 4, 3, 4, 1, 4, 3],\n",
       "       [4, 2, 1, 2, 4, 4, 4, 3],\n",
       "       [2, 4, 3, 4, 2, 2, 1, 1]])"
      ]
     },
     "execution_count": 47,
     "metadata": {},
     "output_type": "execute_result"
    }
   ],
   "source": [
    "np.random.choice([1,2,3,4], size=(15,8), p=[0.3,0.2,0.1,0.4])"
   ]
  },
  {
   "cell_type": "markdown",
   "metadata": {},
   "source": [
    "## 实验3-11 使用随机数函数创建随机数"
   ]
  },
  {
   "cell_type": "code",
   "execution_count": 48,
   "metadata": {},
   "outputs": [
    {
     "data": {
      "text/plain": [
       "array([[0.96217097, 0.98366955, 0.74277225, 0.60416228],\n",
       "       [0.06235049, 0.74642095, 0.32462698, 0.69385062],\n",
       "       [0.85452821, 0.12790053, 0.69142201, 0.24191518],\n",
       "       [0.19062622, 0.65556837, 0.44151301, 0.7943343 ]])"
      ]
     },
     "execution_count": 48,
     "metadata": {},
     "output_type": "execute_result"
    }
   ],
   "source": [
    "# 创建一组服从0-1均匀分布的随机数\n",
    "np.random.rand(4,4)"
   ]
  },
  {
   "cell_type": "code",
   "execution_count": 49,
   "metadata": {},
   "outputs": [
    {
     "data": {
      "text/plain": [
       "array([116.76319916, 135.19370917, 109.63489242, 144.82287433,\n",
       "       136.83623471, 105.72656478, 101.95467207, 130.47797445,\n",
       "       131.04471831, 124.04200185, 112.66708126, 134.27049649,\n",
       "       115.19391079, 143.9568004 , 115.83986507, 103.46374113,\n",
       "       131.50326788, 107.43072546, 132.84189222, 127.73643143,\n",
       "       112.44130568, 127.89727523, 110.67101175, 100.78853637,\n",
       "       118.5169953 , 118.54264792, 146.05817162, 115.50604347,\n",
       "       131.63951633, 113.06720324, 125.39585152, 114.22338753,\n",
       "       121.31933932, 147.92981049, 118.1308307 , 140.90040844,\n",
       "       146.10194269, 135.69761576, 128.46450351, 118.35484852,\n",
       "       101.41365076, 114.91153316, 110.17305378, 139.27232063,\n",
       "       116.49425751, 114.79169251, 131.29659205, 141.42651957])"
      ]
     },
     "execution_count": 49,
     "metadata": {},
     "output_type": "execute_result"
    }
   ],
   "source": [
    "# 创建一个均匀分布的，48个在[100,150)中的随机数\n",
    "np.random.uniform(100,150,48)"
   ]
  },
  {
   "cell_type": "markdown",
   "metadata": {},
   "source": [
    "## 实验3-12 正态分布的模拟"
   ]
  },
  {
   "cell_type": "code",
   "execution_count": 50,
   "metadata": {},
   "outputs": [],
   "source": [
    "import numpy as np\n",
    "%matplotlib inline\n",
    "import matplotlib.pyplot as plt"
   ]
  },
  {
   "cell_type": "code",
   "execution_count": 54,
   "metadata": {},
   "outputs": [
    {
     "data": {
      "text/plain": [
       "array([-0.42170056, -0.44939553,  0.15702986, ...,  0.95759534,\n",
       "       -0.01364779,  0.27112559])"
      ]
     },
     "execution_count": 54,
     "metadata": {},
     "output_type": "execute_result"
    }
   ],
   "source": [
    "# loc参数代表均值，scale代表标准差，size代表数量\n",
    "sample = np.random.normal(loc=0,scale=1,size=2000)\n",
    "sample"
   ]
  },
  {
   "cell_type": "code",
   "execution_count": 55,
   "metadata": {},
   "outputs": [
    {
     "data": {
      "text/plain": [
       "(array([ 0.,  0.,  0.,  0.,  0.,  0.,  0.,  0.,  0.,  0.,  0.,  0.,  0.,\n",
       "         0.,  0.,  0.,  0.,  0.,  1.,  1.,  0.,  1.,  1.,  1.,  3.,  3.,\n",
       "         4.,  7., 11., 13., 10., 21., 17., 16., 23., 26., 32., 43., 47.,\n",
       "        48., 65., 66., 51., 62., 70., 74., 62., 78., 81., 90., 75., 74.,\n",
       "        88., 74., 64., 75., 62., 68., 56., 45., 43., 43., 34., 21., 25.,\n",
       "        28., 14., 20., 13.,  7.,  8.,  7.,  9.,  8.,  3.,  4.,  1.,  1.,\n",
       "         1.,  1.,  0.,  0.,  0.,  0.,  0.,  0.,  0.,  0.,  0.,  0.,  0.,\n",
       "         0.,  0.,  0.,  0.,  0.,  0.,  0.,  0.]),\n",
       " array([-5.00000000e+00, -4.90000000e+00, -4.80000000e+00, -4.70000000e+00,\n",
       "        -4.60000000e+00, -4.50000000e+00, -4.40000000e+00, -4.30000000e+00,\n",
       "        -4.20000000e+00, -4.10000000e+00, -4.00000000e+00, -3.90000000e+00,\n",
       "        -3.80000000e+00, -3.70000000e+00, -3.60000000e+00, -3.50000000e+00,\n",
       "        -3.40000000e+00, -3.30000000e+00, -3.20000000e+00, -3.10000000e+00,\n",
       "        -3.00000000e+00, -2.90000000e+00, -2.80000000e+00, -2.70000000e+00,\n",
       "        -2.60000000e+00, -2.50000000e+00, -2.40000000e+00, -2.30000000e+00,\n",
       "        -2.20000000e+00, -2.10000000e+00, -2.00000000e+00, -1.90000000e+00,\n",
       "        -1.80000000e+00, -1.70000000e+00, -1.60000000e+00, -1.50000000e+00,\n",
       "        -1.40000000e+00, -1.30000000e+00, -1.20000000e+00, -1.10000000e+00,\n",
       "        -1.00000000e+00, -9.00000000e-01, -8.00000000e-01, -7.00000000e-01,\n",
       "        -6.00000000e-01, -5.00000000e-01, -4.00000000e-01, -3.00000000e-01,\n",
       "        -2.00000000e-01, -1.00000000e-01, -1.77635684e-14,  1.00000000e-01,\n",
       "         2.00000000e-01,  3.00000000e-01,  4.00000000e-01,  5.00000000e-01,\n",
       "         6.00000000e-01,  7.00000000e-01,  8.00000000e-01,  9.00000000e-01,\n",
       "         1.00000000e+00,  1.10000000e+00,  1.20000000e+00,  1.30000000e+00,\n",
       "         1.40000000e+00,  1.50000000e+00,  1.60000000e+00,  1.70000000e+00,\n",
       "         1.80000000e+00,  1.90000000e+00,  2.00000000e+00,  2.10000000e+00,\n",
       "         2.20000000e+00,  2.30000000e+00,  2.40000000e+00,  2.50000000e+00,\n",
       "         2.60000000e+00,  2.70000000e+00,  2.80000000e+00,  2.90000000e+00,\n",
       "         3.00000000e+00,  3.10000000e+00,  3.20000000e+00,  3.30000000e+00,\n",
       "         3.40000000e+00,  3.50000000e+00,  3.60000000e+00,  3.70000000e+00,\n",
       "         3.80000000e+00,  3.90000000e+00,  4.00000000e+00,  4.10000000e+00,\n",
       "         4.20000000e+00,  4.30000000e+00,  4.40000000e+00,  4.50000000e+00,\n",
       "         4.60000000e+00,  4.70000000e+00,  4.80000000e+00,  4.90000000e+00]),\n",
       " <a list of 99 Patch objects>)"
      ]
     },
     "execution_count": 55,
     "metadata": {},
     "output_type": "execute_result"
    },
    {
     "data": {
      "image/png": "[encoded data removed]",
      "text/plain": [
       "<Figure size 432x288 with 1 Axes>"
      ]
     },
     "metadata": {
      "needs_background": "light"
     },
     "output_type": "display_data"
    }
   ],
   "source": [
    "bins = np.arange(-5,5,0.1)\n",
    "plt.hist(sample,bins,color='blue',alpha=0.5)"
   ]
  },
  {
   "cell_type": "markdown",
   "metadata": {},
   "source": [
    "## 实验3-13 随机抽样"
   ]
  },
  {
   "cell_type": "code",
   "execution_count": 59,
   "metadata": {},
   "outputs": [
    {
     "data": {
      "text/plain": [
       "array([ 1,  3,  5,  7,  9, 11, 13, 15, 17, 19])"
      ]
     },
     "execution_count": 59,
     "metadata": {},
     "output_type": "execute_result"
    }
   ],
   "source": [
    "# 这个我照书上的简化了一下\n",
    "import numpy as np\n",
    "all = np.arange(1,20,2)\n",
    "all"
   ]
  },
  {
   "cell_type": "code",
   "execution_count": 60,
   "metadata": {},
   "outputs": [
    {
     "data": {
      "text/plain": [
       "array([17, 11,  7])"
      ]
     },
     "execution_count": 60,
     "metadata": {},
     "output_type": "execute_result"
    }
   ],
   "source": [
    "# 从all中随机抽3个数\n",
    "np.random.choice(all,size=3)"
   ]
  }
 ],
 "metadata": {
  "kernelspec": {
   "display_name": "Python [conda env:root] *",
   "language": "python",
   "name": "conda-root-py"
  },
  "language_info": {
   "codemirror_mode": {
    "name": "ipython",
    "version": 3
   },
   "file_extension": ".py",
   "mimetype": "text/x-python",
   "name": "python",
   "nbconvert_exporter": "python",
   "pygments_lexer": "ipython3",
   "version": "3.7.5"
  }
 },
 "nbformat": 4,
 "nbformat_minor": 2
}
