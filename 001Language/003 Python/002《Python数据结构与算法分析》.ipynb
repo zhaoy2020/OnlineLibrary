{
 "cells": [
  {
   "cell_type": "markdown",
   "metadata": {},
   "source": [
    "**Table of contents**<a id='toc0_'></a>    \n",
    "- 1. [002《Python数据结构与算法分析》](#toc1_)    \n",
    "  - 1.1. [章节安排](#toc1_1_)    \n",
    "  - 1.2. [算法复杂度](#toc1_2_)    \n",
    "  - 1.3. [栈](#toc1_3_)    \n",
    "  - 1.4. [队列](#toc1_4_)    \n",
    "  - 1.5. [递归](#toc1_5_)    \n",
    "    - 1.5.1. [递归算法效率](#toc1_5_1_)    \n",
    "    - 1.5.2. [动态规划](#toc1_5_2_)    \n",
    "  - 1.6. [搜索和排序](#toc1_6_)    \n",
    "    - 1.6.1. [搜索](#toc1_6_1_)    \n",
    "    - 1.6.2. [排序](#toc1_6_2_)    \n",
    "  - 1.7. [树](#toc1_7_)    \n",
    "  - 1.8. [图](#toc1_8_)    \n",
    "\n",
    "<!-- vscode-jupyter-toc-config\n",
    "\tnumbering=true\n",
    "\tanchor=true\n",
    "\tflat=false\n",
    "\tminLevel=1\n",
    "\tmaxLevel=6\n",
    "\t/vscode-jupyter-toc-config -->\n",
    "<!-- THIS CELL WILL BE REPLACED ON TOC UPDATE. DO NOT WRITE YOUR TEXT IN THIS CELL -->"
   ]
  },
  {
   "cell_type": "markdown",
   "metadata": {},
   "source": [
    "# 1. <a id='toc1_'></a>[002《Python数据结构与算法分析》](#toc0_)\n",
    "---  "
   ]
  },
  {
   "cell_type": "markdown",
   "metadata": {},
   "source": [
    "## 1.1. <a id='toc1_1_'></a>[章节安排](#toc0_)\n",
    "\n",
    "\n",
    "![image.png](attachment:image.png)"
   ]
  },
  {
   "cell_type": "markdown",
   "metadata": {},
   "source": [
    "## 1.2. <a id='toc1_2_'></a>[算法复杂度](#toc0_)"
   ]
  },
  {
   "cell_type": "markdown",
   "metadata": {},
   "source": [
    "- 时间复杂度"
   ]
  },
  {
   "cell_type": "code",
   "execution_count": 2,
   "metadata": {},
   "outputs": [
    {
     "name": "stdout",
     "output_type": "stream",
     "text": [
      "sumOfN1: (50000005000000, 0.5430774688720703) \n",
      "\n",
      "CPU times: total: 312 ms\n",
      "Wall time: 543 ms\n",
      "sumOfN2: (50000005000000, 0.781907320022583) \n",
      "\n",
      "CPU times: total: 609 ms\n",
      "Wall time: 782 ms\n",
      "sumOfN3: (49999995000000.0, 0.0) \n",
      "\n",
      "CPU times: total: 0 ns\n",
      "Wall time: 0 ns\n",
      "----------------------------------------------------------------------------------------------------\n",
      "timeit计算耗时： 4.119999357499182e-05\n"
     ]
    }
   ],
   "source": [
    "import time\n",
    "\n",
    "def sumOfN1(N:int)->(int, float):\n",
    "    '''sum of N with range optimal by Python'''\n",
    "    start = time.time()\n",
    "    total = 0\n",
    "    for num in range(1, N + 1):\n",
    "        total += num\n",
    "    stop = time.time()\n",
    "    timeWindow = stop - start\n",
    "    return total, timeWindow\n",
    "\n",
    "def sumOfN2(N:int)->(int, float):\n",
    "    '''sum of N with while loop'''\n",
    "    start = time.time()\n",
    "    total = 0\n",
    "    while N != 0:\n",
    "        total += N\n",
    "        N -= 1\n",
    "    stop = time.time()\n",
    "    timeWindow = stop - start\n",
    "    return total, timeWindow\n",
    "\n",
    "def sumOfN3(N:int)->(int, float):\n",
    "    ''''用公式'''\n",
    "    start = time.time()\n",
    "    total = 0\n",
    "    total = (N*(N-1))/2\n",
    "    stop = time.time()\n",
    "    timeWindow = stop - start\n",
    "    return total, timeWindow\n",
    "\n",
    "# 计算耗时 方案一：\n",
    "%time print('sumOfN1:', sumOfN1(10000000), '\\n') # 效率更高，因为range本身就是优化过的\n",
    "%time print('sumOfN2:', sumOfN2(10000000), '\\n') # while loop越来越慢\n",
    "%time print('sumOfN3:', sumOfN3(10000000), '\\n') # 效率最高\n",
    "print('-'*100)\n",
    "\n",
    "# 计算耗时 方案二：\n",
    "import timeit\n",
    "# t1 = timeit.Timer('sumOfN(1000)', 'from __main__ import sumOfN')\n",
    "# print('timeit计算耗时：', t1.timeit(1))\n",
    "print(f'timeit计算耗时：', timeit.Timer('sumOfN3(1000)', 'from __main__ import sumOfN3').timeit(100)) # 重复执行sumOfN1 100次所用时间\n",
    "\n",
    "# 计算耗时 方案三：\n",
    "# 装饰器"
   ]
  },
  {
   "cell_type": "markdown",
   "metadata": {},
   "source": [
    "- 空间复杂度"
   ]
  },
  {
   "cell_type": "markdown",
   "metadata": {},
   "source": [
    "## 1.3. <a id='toc1_3_'></a>[栈](#toc0_)"
   ]
  },
  {
   "cell_type": "markdown",
   "metadata": {},
   "source": [
    "## 1.4. <a id='toc1_4_'></a>[队列](#toc0_)"
   ]
  },
  {
   "cell_type": "markdown",
   "metadata": {},
   "source": [
    "## 1.5. <a id='toc1_5_'></a>[递归](#toc0_)"
   ]
  },
  {
   "cell_type": "markdown",
   "metadata": {},
   "source": [
    "### 1.5.1. <a id='toc1_5_1_'></a>[递归算法效率](#toc0_)"
   ]
  },
  {
   "cell_type": "code",
   "execution_count": 3,
   "metadata": {},
   "outputs": [],
   "source": [
    "import time\n",
    "from functools import wraps\n",
    "\n",
    "def timer(func):\n",
    "    '''计时器模块，可以为后续程序多用到；\n",
    "    此时需要特别注意装饰器的内涵，如果忘记了回头看\n",
    "    Python学习笔记关于‘闭包’和装饰器不服'''\n",
    "    @wraps(func) # 保留原函数信息\n",
    "    def wraper(*args, **kwargs):\n",
    "        start = time.time()\n",
    "        sumTotal = func(*args, **kwargs)\n",
    "        stop = time.time()\n",
    "        print(f'cost time: {stop - start} seconds')\n",
    "        return sumTotal\n",
    "    return wraper\n"
   ]
  },
  {
   "cell_type": "code",
   "execution_count": 4,
   "metadata": {},
   "outputs": [
    {
     "name": "stdout",
     "output_type": "stream",
     "text": [
      "cost time: 0.0 seconds\n",
      "500500\n",
      "----------------------------------------------------------------------------------------------------\n",
      "500500\n",
      "const time: 0.007131099700927734\n"
     ]
    }
   ],
   "source": [
    "@timer\n",
    "def loopSum(N:int)->int:\n",
    "    '''循环求和函数'''\n",
    "    total = 0\n",
    "    for i in range(1, N + 1):\n",
    "        total += i\n",
    "    return total\n",
    "\n",
    "# @timer # 用递归，每次调用都计算一次时间太麻烦了\n",
    "def recursionSum(numList:list)->list:\n",
    "    '''递归(recursion)求和函数'''\n",
    "    if len(numList) == 1:\n",
    "        return numList[0]\n",
    "    else:\n",
    "        return numList[0] + recursionSum(numList[1:])\n",
    "N = 1000\n",
    "sumTotal = loopSum(N); print(sumTotal)\n",
    "print('-'*100)\n",
    "\n",
    "start = time.time()\n",
    "sumTotal1 = recursionSum([i for i in range(1, N + 1)]); print(sumTotal1)\n",
    "stop = time.time()\n",
    "print('const time:', stop - start)\n",
    "\n",
    "# 递归的效率更低"
   ]
  },
  {
   "cell_type": "markdown",
   "metadata": {},
   "source": [
    "### 1.5.2. <a id='toc1_5_2_'></a>[动态规划](#toc0_)"
   ]
  },
  {
   "cell_type": "markdown",
   "metadata": {},
   "source": [
    "- 青蛙每次跳跃1个或2个台阶，有10阶台阶，青蛙有多少种跳法？"
   ]
  },
  {
   "cell_type": "code",
   "execution_count": 5,
   "metadata": {},
   "outputs": [
    {
     "name": "stdout",
     "output_type": "stream",
     "text": [
      "JumpSteps_digui 17711\n",
      "JumpFloor_new 17711\n"
     ]
    }
   ],
   "source": [
    "# 递归算法\n",
    "def JumpSteps_digui(n):\n",
    "    if n in (1, 2):\n",
    "        return n\n",
    "    return JumpSteps_digui(n-1)+JumpSteps_digui(n-2)\n",
    "\n",
    "print(JumpSteps_digui.__name__, JumpSteps_digui(21))\n",
    "\n",
    "# 动态规划\n",
    "def JumpFloor_new(n):\n",
    "    if n in (1, 2):\n",
    "        return n\n",
    "    temp1, temp2 = 1, 2\n",
    "    while n > 2:\n",
    "        temp = temp1 + temp2\n",
    "        temp1, temp2 = temp2, temp\n",
    "        n -= 1\n",
    "    return temp\n",
    "\n",
    "print(JumpFloor_new.__name__, JumpFloor_new(21))"
   ]
  },
  {
   "cell_type": "markdown",
   "metadata": {},
   "source": [
    "- 找钱，最小银币数目"
   ]
  },
  {
   "cell_type": "code",
   "execution_count": 6,
   "metadata": {},
   "outputs": [
    {
     "name": "stdout",
     "output_type": "stream",
     "text": [
      "6\n"
     ]
    }
   ],
   "source": [
    "def recMC(coinValueList, change):\n",
    "    minCoins = change\n",
    "    if change in coinValueList:\n",
    "        return 1\n",
    "    else:\n",
    "        for i in [c for c in coinValueList if c <= change]:\n",
    "            numCoins = 1 + recMC(coinValueList, change-i)\n",
    "            if numCoins < minCoins:\n",
    "                minCoins = numCoins\n",
    "    return minCoins\n",
    "\n",
    "print(recMC([1, 5, 10, 25], 63))"
   ]
  },
  {
   "cell_type": "markdown",
   "metadata": {},
   "source": [
    "## 1.6. <a id='toc1_6_'></a>[搜索和排序](#toc0_)"
   ]
  },
  {
   "cell_type": "markdown",
   "metadata": {},
   "source": [
    "### 1.6.1. <a id='toc1_6_1_'></a>[搜索](#toc0_)"
   ]
  },
  {
   "cell_type": "markdown",
   "metadata": {},
   "source": [
    "- Python序列自带搜索（经过优化）"
   ]
  },
  {
   "cell_type": "code",
   "execution_count": 7,
   "metadata": {},
   "outputs": [
    {
     "data": {
      "text/plain": [
       "False"
      ]
     },
     "execution_count": 7,
     "metadata": {},
     "output_type": "execute_result"
    }
   ],
   "source": [
    "15 in [3, 5, 2, 4, 1]"
   ]
  },
  {
   "cell_type": "markdown",
   "metadata": {},
   "source": [
    "- 顺序搜索 O(n)\n",
    "  - 有序（可以索引）\n",
    "  - 随机排列的\n",
    "- 二分搜索 O(logn)\n",
    "  - 有序（可以索引）\n",
    "  - 顺序排列（升序或降序）"
   ]
  },
  {
   "cell_type": "code",
   "execution_count": 7,
   "metadata": {},
   "outputs": [
    {
     "name": "stdout",
     "output_type": "stream",
     "text": [
      "cost time: 0.1277327537536621 seconds\n",
      "sequentialSearch True \n",
      "\n",
      "cost time: 0.0 seconds\n",
      "binarySearch True \n",
      "\n",
      "cost time: 0.008098840713500977 seconds\n",
      "isinSearch True \n",
      "\n"
     ]
    }
   ],
   "source": [
    "@timer\n",
    "def sequentialSearch(alist, item):\n",
    "    '''有顺序的数据[例如Python序列的下标等]，按照顺序进行逐个比对，最大复杂度为O(n)'''\n",
    "    pos = 0\n",
    "    found = False\n",
    "    while pos < len(alist) and not found: # 没有到末尾 and 到目前没有搜索到\n",
    "        if alist[pos] == item:\n",
    "            found = True\n",
    "        else:\n",
    "            pos += 1\n",
    "\n",
    "    return found\n",
    "\n",
    "@timer\n",
    "def binarySearch(alist, item): \n",
    "    '''二分搜索：已有列表按照升序或降序排列，然后进行二分，再与查询值比较\n",
    "    以确定下一次查询的方向（左侧或右侧）'''\n",
    "    first = 0\n",
    "    last = len(alist) - 1\n",
    "    found = False\n",
    "    while first <= last and not found: # 首位不相等（没有搜索完列表） and 没有查到\n",
    "        midpoint = (first + last)//2\n",
    "        if alist[midpoint] == item:\n",
    "            found = True\n",
    "        else:\n",
    "            if item < alist[midpoint]:\n",
    "                last = midpoint - 1\n",
    "            else:\n",
    "                first = midpoint + 1\n",
    "\n",
    "    return found \n",
    "\n",
    "@timer\n",
    "def isinSearch(alist, item):\n",
    "    '''用Python自带的列表查询功能进行查找'''\n",
    "    if item in alist:\n",
    "        return True\n",
    "    else:\n",
    "        return False\n",
    "    \n",
    "# alist = ['You', 'are', 'so', 'beautiful']\n",
    "# item = 'so'\n",
    "alist = [i for i in range(1, 1000000)]\n",
    "item = 1000000 - 1\n",
    "\n",
    "print(sequentialSearch.__name__,sequentialSearch(alist, item), '\\n') # 效率低\n",
    "\n",
    "print(binarySearch.__name__,binarySearch(alist, item), '\\n') # 效率高\n",
    "\n",
    "print(isinSearch.__name__,isinSearch(alist, item), '\\n') # 效率中等\n"
   ]
  },
  {
   "cell_type": "markdown",
   "metadata": {},
   "source": [
    "### 1.6.2. <a id='toc1_6_2_'></a>[排序](#toc0_)"
   ]
  },
  {
   "cell_type": "markdown",
   "metadata": {},
   "source": [
    "- 冒泡排序\n",
    "  - N个数，需N-1轮，每轮两两比较大的数右移，一直到最后，经N-1轮即可完成。\n",
    "  - range()或while使用\n",
    "  - 时间复杂度：O(n2)"
   ]
  },
  {
   "cell_type": "code",
   "execution_count": 31,
   "metadata": {},
   "outputs": [
    {
     "data": {
      "text/plain": [
       "[5, 4, 3, 2, 1]"
      ]
     },
     "execution_count": 31,
     "metadata": {},
     "output_type": "execute_result"
    }
   ],
   "source": [
    "[i for i in range(5 , 0, -1)]"
   ]
  },
  {
   "cell_type": "code",
   "execution_count": 29,
   "metadata": {},
   "outputs": [
    {
     "name": "stdout",
     "output_type": "stream",
     "text": [
      "[23, 100, 1, 0, 11] 第4轮的顺序\n",
      "[23, 1, 100, 0, 11]\n",
      "[23, 1, 0, 100, 11]\n",
      "[23, 1, 0, 11, 100]\n",
      "[23, 1, 0, 11, 100] 第3轮的顺序\n",
      "[1, 23, 0, 11, 100]\n",
      "[1, 0, 23, 11, 100]\n",
      "[1, 0, 11, 23, 100]\n",
      "[1, 0, 11, 23, 100] 第2轮的顺序\n",
      "[0, 1, 11, 23, 100]\n",
      "[0, 1, 11, 23, 100] 第1轮的顺序\n",
      "cost time: 0.0 seconds\n",
      "----------------------------------------------------------------------------------------------------\n",
      "[0, 1, 11, 23, 100] 第4轮的顺序\n",
      "[0, 1, 11, 23, 100] 第3轮的顺序\n",
      "[0, 1, 11, 23, 100] 第2轮的顺序\n",
      "[0, 1, 11, 23, 100] 第1轮的顺序\n",
      "cost time: 0.0 seconds\n",
      "----------------------------------------------------------------------------------------------------\n",
      "[0, 1, 23, 11, 100] 第4轮的顺序\n",
      "[0, 1, 11, 23, 100]\n",
      "[0, 1, 11, 23, 100] 第3轮的顺序\n",
      "[0, 1, 11, 23, 100] 第2轮的顺序\n",
      "[0, 1, 11, 23, 100] 第1轮的顺序\n",
      "cost time: 0.0 seconds\n"
     ]
    },
    {
     "data": {
      "text/plain": [
       "[0, 1, 11, 23, 100]"
      ]
     },
     "execution_count": 29,
     "metadata": {},
     "output_type": "execute_result"
    }
   ],
   "source": [
    "@timer\n",
    "def bubbleSort(alist):\n",
    "    '''冒泡算法range实现'''\n",
    "    for passnum in range(len(alist)-1, 0, -1): # N个数，需要N-1轮\n",
    "        print(alist, f'第{passnum}轮的顺序')\n",
    "\n",
    "        # “冒泡”：两两比较后较大的数右移\n",
    "        for i in range(passnum):\n",
    "            if alist[i] > alist[i + 1]:\n",
    "                alist[i], alist[i + 1] = alist[i + 1], alist[i] # 较大的数右移：\"冒泡\"\n",
    "                print(alist)\n",
    "\n",
    "    return alist\n",
    "\n",
    "@timer\n",
    "def whileBubbleSort(alist:list)->list:\n",
    "    '''冒泡算法while实现'''\n",
    "    passnum = len(alist) - 1\n",
    "    while passnum > 0 :\n",
    "        print(alist, f'第{passnum}轮的顺序')\n",
    "        for i in range(passnum):\n",
    "            if alist[i] > alist[i+1]:\n",
    "                alist[i], alist[i + 1] = alist[i + 1], alist[i] # 较大的数右移：\"冒泡\"\n",
    "                print(alist)\n",
    "        passnum = passnum -1\n",
    "\n",
    "    return alist\n",
    "\n",
    "# bubbleSort([23, 100, 1, 0, 11])\n",
    "# # %timeit bubbleSort([23, 100, 1, 0, 11])\n",
    "# print('-'*100)\n",
    "# bubbleSort([0, 1, 11, 23, 100])\n",
    "# print('-'*100)\n",
    "# bubbleSort([0, 1, 23, 11, 100])\n",
    "\n",
    "whileBubbleSort([23, 100, 1, 0, 11])\n",
    "# %timeit bubbleSort([23, 100, 1, 0, 11])\n",
    "print('-'*100)\n",
    "whileBubbleSort([0, 1, 11, 23, 100])\n",
    "print('-'*100)\n",
    "whileBubbleSort([0, 1, 23, 11, 100])"
   ]
  },
  {
   "cell_type": "markdown",
   "metadata": {},
   "source": [
    "- 短冒泡排序\n",
    "  - 遇到排好序的数据自动判断不用交换，较少交换次数提高效率"
   ]
  },
  {
   "cell_type": "code",
   "execution_count": 26,
   "metadata": {},
   "outputs": [
    {
     "name": "stdout",
     "output_type": "stream",
     "text": [
      "[23, 100, 1, 0, 11] 第4轮的顺序\n",
      "[23, 1, 100, 0, 11]\n",
      "[23, 1, 0, 100, 11]\n",
      "[23, 1, 0, 11, 100]\n",
      "[23, 1, 0, 11, 100] 第3轮的顺序\n",
      "[1, 23, 0, 11, 100]\n",
      "[1, 0, 23, 11, 100]\n",
      "[1, 0, 11, 23, 100]\n",
      "[1, 0, 11, 23, 100] 第2轮的顺序\n",
      "[0, 1, 11, 23, 100]\n",
      "[0, 1, 11, 23, 100] 第1轮的顺序\n",
      "cost time: 0.0 seconds\n",
      "----------------------------------------------------------------------------------------------------\n",
      "[0, 1, 11, 23, 100] 第4轮的顺序\n",
      "cost time: 0.0 seconds\n",
      "----------------------------------------------------------------------------------------------------\n",
      "[0, 1, 23, 11, 100] 第4轮的顺序\n",
      "[0, 1, 11, 23, 100]\n",
      "[0, 1, 11, 23, 100] 第3轮的顺序\n",
      "cost time: 0.0 seconds\n"
     ]
    },
    {
     "data": {
      "text/plain": [
       "[0, 1, 11, 23, 100]"
      ]
     },
     "execution_count": 26,
     "metadata": {},
     "output_type": "execute_result"
    }
   ],
   "source": [
    "@timer\n",
    "def shortBubbleSort(alist:list)->list:\n",
    "    '''短冒泡算法'''\n",
    "    exchange = True\n",
    "    passnum = len(alist) - 1\n",
    "    while passnum > 0 and exchange:\n",
    "        print(alist, f'第{passnum}轮的顺序')\n",
    "        exchange = False # 如果没有alist[i] > alist[i+1]即需要交换的，则exchange一直为False，就结束while了，说明一切排好了\n",
    "        for i in range(passnum):\n",
    "            if alist[i] > alist[i+1]:\n",
    "                exchange = True\n",
    "                alist[i], alist[i + 1] = alist[i + 1], alist[i] # 较大的数右移：\"冒泡\"\n",
    "                print(alist)\n",
    "        passnum = passnum -1\n",
    "\n",
    "    return alist\n",
    "\n",
    "shortBubbleSort([23, 100, 1, 0, 11])\n",
    "print('-'*100)\n",
    "shortBubbleSort([0, 1, 11, 23, 100])\n",
    "print('-'*100)\n",
    "shortBubbleSort([0, 1, 23, 11, 100])"
   ]
  },
  {
   "cell_type": "markdown",
   "metadata": {},
   "source": [
    "- 选择排序\n",
    "  - N个数，需N-1轮排序，每轮找最大的数，然后和最右边数换位置，N-1轮后即可完成。\n",
    "  - 可以看出，选择排序算法和冒泡排序算法的比较次数相同，所以时间复杂度也是 O(n2) 。但是，由于减少了交换次数，因此选择排序算法通常更快。"
   ]
  },
  {
   "cell_type": "code",
   "execution_count": 50,
   "metadata": {},
   "outputs": [
    {
     "name": "stdout",
     "output_type": "stream",
     "text": [
      "[23, 100, 1, 0, 11] 第4轮的顺序\n",
      "[23, 11, 1, 0, 100]\n",
      "[23, 11, 1, 0, 100] 第3轮的顺序\n",
      "[0, 11, 1, 23, 100]\n",
      "[0, 11, 1, 23, 100] 第2轮的顺序\n",
      "[0, 1, 11, 23, 100]\n",
      "[0, 1, 11, 23, 100] 第1轮的顺序\n",
      "[0, 1, 11, 23, 100]\n",
      "cost time: 0.0005064010620117188 seconds\n",
      "[23, 100, 1, 0, 11] 第4轮的顺序\n",
      "[23, 11, 1, 0, 100]\n",
      "[23, 11, 1, 0, 100] 第3轮的顺序\n",
      "[0, 11, 1, 23, 100]\n",
      "[0, 11, 1, 23, 100] 第2轮的顺序\n",
      "[0, 1, 11, 23, 100]\n",
      "cost time: 0.0 seconds\n"
     ]
    },
    {
     "data": {
      "text/plain": [
       "[0, 1, 11, 23, 100]"
      ]
     },
     "execution_count": 50,
     "metadata": {},
     "output_type": "execute_result"
    }
   ],
   "source": [
    "@timer\n",
    "def whileSelectionSort(alist):\n",
    "    '''选择排序用while实现'''\n",
    "    passnum = len(alist) - 1\n",
    "    while passnum > 0:\n",
    "        print(alist, f'第{passnum}轮的顺序')\n",
    "        positionOfMax = 0\n",
    "        for location in range(1, passnum+1):\n",
    "            if alist[location] > alist[positionOfMax]:\n",
    "                positionOfMax = location\n",
    "\n",
    "        alist[passnum], alist[positionOfMax] = alist[positionOfMax], alist[passnum] # 最大的数放最右边：\"选择\"\n",
    "        print(alist)\n",
    "\n",
    "        passnum -= 1\n",
    "    return alist\n",
    "\n",
    "@timer\n",
    "def rangeSelectionSort(alist:list)->list:\n",
    "    '''选择排序用range实现'''\n",
    "    for passnum in range(len(alist)-1, 1, -1): # N个数，需要经过N-1轮\n",
    "        print(alist, f'第{passnum}轮的顺序')\n",
    "\n",
    "        # 找最大的数\n",
    "        positionOfMax = 0\n",
    "        for position in range(1, passnum):\n",
    "            if alist[position] > alist[positionOfMax]:\n",
    "                positionOfMax = position\n",
    "\n",
    "        alist[passnum], alist[positionOfMax] = alist[positionOfMax], alist[passnum] # 每一轮取最大的数放最右边：\"选择\"\n",
    "        print(alist)\n",
    "    return alist\n",
    "\n",
    "whileSelectionSort([23, 100, 1, 0, 11])\n",
    "rangeSelectionSort([23, 100, 1, 0, 11])"
   ]
  },
  {
   "cell_type": "markdown",
   "metadata": {},
   "source": [
    "- 插入排序\n",
    "  - 插入排序的时间复杂度也是 O(n2) ，但原理稍有不同。"
   ]
  },
  {
   "cell_type": "code",
   "execution_count": 51,
   "metadata": {},
   "outputs": [
    {
     "name": "stdout",
     "output_type": "stream",
     "text": [
      "[23, 100, 1, 0, 11] 第1轮的顺序\n",
      "[23, 100, 1, 0, 11] 第2轮的顺序\n",
      "[23, 100, 100, 0, 11]\n",
      "[23, 23, 100, 0, 11]\n",
      "[1, 23, 100, 0, 11] 第3轮的顺序\n",
      "[1, 23, 100, 100, 11]\n",
      "[1, 23, 23, 100, 11]\n",
      "[1, 1, 23, 100, 11]\n",
      "[0, 1, 23, 100, 11] 第4轮的顺序\n",
      "[0, 1, 23, 100, 100]\n",
      "[0, 1, 23, 23, 100]\n",
      "cost time: 0.0 seconds\n"
     ]
    },
    {
     "data": {
      "text/plain": [
       "[0, 1, 11, 23, 100]"
      ]
     },
     "execution_count": 51,
     "metadata": {},
     "output_type": "execute_result"
    }
   ],
   "source": [
    "@timer\n",
    "def insertionSort(alist):\n",
    "    '''插入排序'''\n",
    "    for index in range(1, len(alist)): # 开始假设第0个数为“子列表”，range()左闭右开\n",
    "        print(alist, f'第{index}轮的顺序')\n",
    "\n",
    "        currentValue = alist[index]\n",
    "        position = index\n",
    "\n",
    "        while (position > 0) and (alist[position - 1] > currentValue): # 取currentValue按照从右到左顺序与左侧有序列表每个元素依次比较大小\n",
    "            alist[position] = alist[position - 1] # 较大的数右移\n",
    "            position -= 1\n",
    "            print(alist)\n",
    "\n",
    "        alist[position] = currentValue\n",
    "    return alist\n",
    "\n",
    "insertionSort([23, 100, 1, 0, 11])"
   ]
  },
  {
   "cell_type": "markdown",
   "metadata": {},
   "source": [
    "- 希尔排序\n",
    "  - 时间复杂度为O(n3/2)"
   ]
  },
  {
   "cell_type": "code",
   "execution_count": null,
   "metadata": {},
   "outputs": [],
   "source": []
  },
  {
   "cell_type": "markdown",
   "metadata": {},
   "source": [
    "- 归并排序\n",
    "  - O(nlogn)"
   ]
  },
  {
   "cell_type": "code",
   "execution_count": null,
   "metadata": {},
   "outputs": [],
   "source": []
  },
  {
   "cell_type": "markdown",
   "metadata": {},
   "source": [
    "- 快速排序\n",
    "  - O(nlogn)"
   ]
  },
  {
   "cell_type": "markdown",
   "metadata": {},
   "source": [
    "## 1.7. <a id='toc1_7_'></a>[树](#toc0_)"
   ]
  },
  {
   "cell_type": "markdown",
   "metadata": {},
   "source": [
    "## 1.8. <a id='toc1_8_'></a>[图](#toc0_)"
   ]
  }
 ],
 "metadata": {
  "kernelspec": {
   "display_name": "base",
   "language": "python",
   "name": "python3"
  },
  "language_info": {
   "codemirror_mode": {
    "name": "ipython",
    "version": 3
   },
   "file_extension": ".py",
   "mimetype": "text/x-python",
   "name": "python",
   "nbconvert_exporter": "python",
   "pygments_lexer": "ipython3",
   "version": "3.10.8"
  },
  "orig_nbformat": 4
 },
 "nbformat": 4,
 "nbformat_minor": 2
}
