{
 "cells": [
  {
   "cell_type": "markdown",
   "metadata": {},
   "source": [
    "**Table of contents**<a id='toc0_'></a>    \n",
    "- 1. [人工神经网络](#toc1_)    \n",
    "  - 1.1. [最早的神经元算法](#toc1_1_)    \n",
    "  - 1.2. [感知器算法](#toc1_2_)    \n",
    "    - 1.2.1. [罗森布拉特感知器规则（Rosenblatt）](#toc1_2_1_)    \n",
    "    - 1.2.2. [自适应性神经元（Adaline）](#toc1_2_2_)    \n",
    "    - 1.2.3. [区别](#toc1_2_3_)    \n",
    "  - 1.3. [scik-learning软件库](#toc1_3_)    \n",
    "    - 1.3.1. [加载数据集](#toc1_3_1_)    \n",
    "    - 1.3.2. [训练感知器](#toc1_3_2_)    \n",
    "      - 1.3.2.1. [拆分训练集和测试集](#toc1_3_2_1_)    \n",
    "      - 1.3.2.2. [预处理特征值](#toc1_3_2_2_)    \n",
    "      - 1.3.2.3. [训练模型和预测结果](#toc1_3_2_3_)    \n",
    "  - 1.4. [逻辑回归分类](#toc1_4_)    \n",
    "  - 1.5. [支持向量机](#toc1_5_)    \n",
    "  - 1.6. [核支持向量机求解非线性问题](#toc1_6_)    \n",
    "  - 1.7. [决策树学习](#toc1_7_)    \n",
    "  - 1.8. [通过随机森林组合多个决策树](#toc1_8_)    \n",
    "  - 1.9. [K-近邻——一种懒惰的学习算法](#toc1_9_)    \n",
    "- 2. [特征工程](#toc2_)    \n",
    "\n",
    "<!-- vscode-jupyter-toc-config\n",
    "\tnumbering=true\n",
    "\tanchor=true\n",
    "\tflat=false\n",
    "\tminLevel=1\n",
    "\tmaxLevel=6\n",
    "\t/vscode-jupyter-toc-config -->\n",
    "<!-- THIS CELL WILL BE REPLACED ON TOC UPDATE. DO NOT WRITE YOUR TEXT IN THIS CELL -->"
   ]
  },
  {
   "cell_type": "markdown",
   "metadata": {},
   "source": [
    "# 1. <a id='toc1_'></a>[人工神经网络](#toc0_)"
   ]
  },
  {
   "cell_type": "markdown",
   "metadata": {},
   "source": [
    "## 1.1. <a id='toc1_1_'></a>[最早的神经元算法](#toc0_)"
   ]
  },
  {
   "cell_type": "markdown",
   "metadata": {},
   "source": [
    "最早的神经元模型：麦库洛-皮（MCP）神经元\n",
    "\n",
    "![Alt text](image.png)\n"
   ]
  },
  {
   "cell_type": "markdown",
   "metadata": {},
   "source": [
    "## 1.2. <a id='toc1_2_'></a>[感知器算法](#toc0_)"
   ]
  },
  {
   "cell_type": "markdown",
   "metadata": {},
   "source": [
    "### 1.2.1. <a id='toc1_2_1_'></a>[罗森布拉特感知器规则（Rosenblatt）](#toc0_)\n",
    "\n",
    "1. 把权重初始化为0或者为小的随机数\n",
    "2. 对每个训练样本：  \n",
    "  a. 计算输出值  \n",
    "  b. 更新权重  \n",
    "\n",
    "  ![Alt text](image-3.png)"
   ]
  },
  {
   "cell_type": "code",
   "execution_count": 60,
   "metadata": {},
   "outputs": [],
   "source": [
    "import numpy as np\n",
    "\n",
    "class Perceptron():\n",
    "    '''Perceptron classifier.\n",
    "    Parameters\n",
    "    ------\n",
    "    eta : float         # 学习效率\n",
    "    n_iter : int        # 训练次数\n",
    "    random_state : int  # 随机数的种子\n",
    "    \n",
    "    Attributes\n",
    "    ------\n",
    "    w_ : 1d-array 一维数组\n",
    "    errors_ : list \n",
    "    '''\n",
    "    def __init__(self, eta=0.01, n_inter=50, random_state=1):\n",
    "        self.eta = eta\n",
    "        self.n_iter = n_inter\n",
    "        self.random_state = random_state\n",
    "\n",
    "    def fit(self, X, y):\n",
    "        '''Fit training data.\n",
    "        Parameters\n",
    "        ------\n",
    "        X : \n",
    "        y :\n",
    "        '''\n",
    "        rgen = np.random.RandomState(self.random_state)\n",
    "        self.w_ = rgen.normal(loc=0.0, scale=0.01, size=1 + X.shape[1]) # 标准差为0.01的正态分布\n",
    "        self.errors_ = []\n",
    "\n",
    "        for _ in range(self.n_iter):\n",
    "            errors = 0\n",
    "            for xi, target in zip(X, y):\n",
    "                update = self.eta * (target - self.predict(xi))\n",
    "                self.w_[1:] += update * xi\n",
    "                self.w_[0] += update\n",
    "                errors += int(update != 0.0)\n",
    "                # print(errors)\n",
    "            self.errors_.append(errors)\n",
    "\n",
    "    def net_input(self, X):\n",
    "        '''Calculate net input'''\n",
    "        return np.dot(X, self.w_[1:] + self.w_[0])\n",
    "\n",
    "    def predict(self, X):\n",
    "        '''Return class label after unit step'''\n",
    "        return np.where(self.net_input(X) >= 0.0, 1, -1)"
   ]
  },
  {
   "cell_type": "code",
   "execution_count": 61,
   "metadata": {},
   "outputs": [
    {
     "data": {
      "text/html": [
       "<div>\n",
       "<style scoped>\n",
       "    .dataframe tbody tr th:only-of-type {\n",
       "        vertical-align: middle;\n",
       "    }\n",
       "\n",
       "    .dataframe tbody tr th {\n",
       "        vertical-align: top;\n",
       "    }\n",
       "\n",
       "    .dataframe thead th {\n",
       "        text-align: right;\n",
       "    }\n",
       "</style>\n",
       "<table border=\"1\" class=\"dataframe\">\n",
       "  <thead>\n",
       "    <tr style=\"text-align: right;\">\n",
       "      <th></th>\n",
       "      <th>0</th>\n",
       "      <th>1</th>\n",
       "      <th>2</th>\n",
       "      <th>3</th>\n",
       "      <th>4</th>\n",
       "    </tr>\n",
       "  </thead>\n",
       "  <tbody>\n",
       "    <tr>\n",
       "      <th>0</th>\n",
       "      <td>5.1</td>\n",
       "      <td>3.5</td>\n",
       "      <td>1.4</td>\n",
       "      <td>0.2</td>\n",
       "      <td>Iris-setosa</td>\n",
       "    </tr>\n",
       "    <tr>\n",
       "      <th>1</th>\n",
       "      <td>4.9</td>\n",
       "      <td>3.0</td>\n",
       "      <td>1.4</td>\n",
       "      <td>0.2</td>\n",
       "      <td>Iris-setosa</td>\n",
       "    </tr>\n",
       "    <tr>\n",
       "      <th>2</th>\n",
       "      <td>4.7</td>\n",
       "      <td>3.2</td>\n",
       "      <td>1.3</td>\n",
       "      <td>0.2</td>\n",
       "      <td>Iris-setosa</td>\n",
       "    </tr>\n",
       "    <tr>\n",
       "      <th>3</th>\n",
       "      <td>4.6</td>\n",
       "      <td>3.1</td>\n",
       "      <td>1.5</td>\n",
       "      <td>0.2</td>\n",
       "      <td>Iris-setosa</td>\n",
       "    </tr>\n",
       "    <tr>\n",
       "      <th>4</th>\n",
       "      <td>5.0</td>\n",
       "      <td>3.6</td>\n",
       "      <td>1.4</td>\n",
       "      <td>0.2</td>\n",
       "      <td>Iris-setosa</td>\n",
       "    </tr>\n",
       "    <tr>\n",
       "      <th>...</th>\n",
       "      <td>...</td>\n",
       "      <td>...</td>\n",
       "      <td>...</td>\n",
       "      <td>...</td>\n",
       "      <td>...</td>\n",
       "    </tr>\n",
       "    <tr>\n",
       "      <th>145</th>\n",
       "      <td>6.7</td>\n",
       "      <td>3.0</td>\n",
       "      <td>5.2</td>\n",
       "      <td>2.3</td>\n",
       "      <td>Iris-virginica</td>\n",
       "    </tr>\n",
       "    <tr>\n",
       "      <th>146</th>\n",
       "      <td>6.3</td>\n",
       "      <td>2.5</td>\n",
       "      <td>5.0</td>\n",
       "      <td>1.9</td>\n",
       "      <td>Iris-virginica</td>\n",
       "    </tr>\n",
       "    <tr>\n",
       "      <th>147</th>\n",
       "      <td>6.5</td>\n",
       "      <td>3.0</td>\n",
       "      <td>5.2</td>\n",
       "      <td>2.0</td>\n",
       "      <td>Iris-virginica</td>\n",
       "    </tr>\n",
       "    <tr>\n",
       "      <th>148</th>\n",
       "      <td>6.2</td>\n",
       "      <td>3.4</td>\n",
       "      <td>5.4</td>\n",
       "      <td>2.3</td>\n",
       "      <td>Iris-virginica</td>\n",
       "    </tr>\n",
       "    <tr>\n",
       "      <th>149</th>\n",
       "      <td>5.9</td>\n",
       "      <td>3.0</td>\n",
       "      <td>5.1</td>\n",
       "      <td>1.8</td>\n",
       "      <td>Iris-virginica</td>\n",
       "    </tr>\n",
       "  </tbody>\n",
       "</table>\n",
       "<p>150 rows × 5 columns</p>\n",
       "</div>"
      ],
      "text/plain": [
       "       0    1    2    3               4\n",
       "0    5.1  3.5  1.4  0.2     Iris-setosa\n",
       "1    4.9  3.0  1.4  0.2     Iris-setosa\n",
       "2    4.7  3.2  1.3  0.2     Iris-setosa\n",
       "3    4.6  3.1  1.5  0.2     Iris-setosa\n",
       "4    5.0  3.6  1.4  0.2     Iris-setosa\n",
       "..   ...  ...  ...  ...             ...\n",
       "145  6.7  3.0  5.2  2.3  Iris-virginica\n",
       "146  6.3  2.5  5.0  1.9  Iris-virginica\n",
       "147  6.5  3.0  5.2  2.0  Iris-virginica\n",
       "148  6.2  3.4  5.4  2.3  Iris-virginica\n",
       "149  5.9  3.0  5.1  1.8  Iris-virginica\n",
       "\n",
       "[150 rows x 5 columns]"
      ]
     },
     "execution_count": 61,
     "metadata": {},
     "output_type": "execute_result"
    }
   ],
   "source": [
    "import pandas as pd\n",
    "\n",
    "df = pd.read_csv('https://archive.ics.uci.edu/ml/'\n",
    "        'machine-learning-databases/iris/iris.data', header=None)\n",
    "df"
   ]
  },
  {
   "cell_type": "code",
   "execution_count": 62,
   "metadata": {},
   "outputs": [
    {
     "data": {
      "image/png": "[encoded data removed]",
      "text/plain": [
       "<Figure size 640x480 with 2 Axes>"
      ]
     },
     "metadata": {},
     "output_type": "display_data"
    }
   ],
   "source": [
    "import matplotlib.pyplot as plt\n",
    "import numpy as np\n",
    "\n",
    "y = df.iloc[0:100, 4].values\n",
    "y = np.where(y == 'Iris-setosa', -1, 1)\n",
    "\n",
    "X = df.iloc[0:100, [0, 2]].values\n",
    "\n",
    "plt.figure()\n",
    "plt.subplot(221)\n",
    "plt.scatter(X[:50, 0], X[:50, 1], color='red', marker='o', label='setosa')\n",
    "plt.scatter(X[50:100, 0], X[50:100, 1], color='blue', marker='x', label='versicolor')\n",
    "plt.xlabel('sepal length [cm]')\n",
    "plt.ylabel('petal length [cm]')\n",
    "plt.legend()\n",
    "\n",
    "plt.subplot(222)\n",
    "ppn = Perceptron(eta=0.1, n_inter=10)\n",
    "ppn.fit(X, y)\n",
    "plt.plot(range(1, len(ppn.errors_) + 1), ppn.errors_, marker='o')\n",
    "plt.xlabel('Epochs')\n",
    "plt.ylabel('Number of updates')\n",
    "\n",
    "plt.tight_layout()"
   ]
  },
  {
   "cell_type": "code",
   "execution_count": 121,
   "metadata": {},
   "outputs": [
    {
     "name": "stderr",
     "output_type": "stream",
     "text": [
      "No artists with labels found to put in legend.  Note that artists whose label start with an underscore are ignored when legend() is called with no argument.\n"
     ]
    },
    {
     "name": "stdout",
     "output_type": "stream",
     "text": [
      "('red', 'blue')\n"
     ]
    },
    {
     "data": {
      "text/plain": [
       "<Axes: >"
      ]
     },
     "execution_count": 121,
     "metadata": {},
     "output_type": "execute_result"
    },
    {
     "data": {
      "image/png": "[encoded data removed]",
      "text/plain": [
       "<Figure size 640x480 with 2 Axes>"
      ]
     },
     "metadata": {},
     "output_type": "display_data"
    }
   ],
   "source": [
    "import numpy as np\n",
    "import matplotlib.pyplot as plt\n",
    "from matplotlib.colors import ListedColormap\n",
    "\n",
    "colors = ('red', 'blue', 'lightgreen', 'gray', 'cyan')\n",
    "resolution = 0.02\n",
    "x1_min, x1_max = X[:, 0].min() - 1, X[:, 0].max() + 1\n",
    "x2_min, x2_max = X[:, 1].min() - 1, X[:, 1].max() + 1\n",
    "xx1, xx2 = np.meshgrid(np.arange(x1_min, x1_max, resolution),\n",
    "                        np.arange(x2_min, x2_max, resolution))\n",
    "\n",
    "Z = ppn.predict(np.array([xx1.ravel(), xx2.ravel()]).T)\n",
    "Z = Z.reshape(xx1.shape)\n",
    "plt.figure()\n",
    "plt.subplot(221)\n",
    "plt.contourf(xx1, xx2, Z, alpha=0.3, cmap=ListedColormap(colors[:len(np.unique(y))]))\n",
    "print(colors[:len(np.unique(y))])\n",
    "plt.contourf(xx1, xx2, Z, cmap=ListedColormap(('red', 'blue')), alpha=0.3)\n",
    "plt.legend()\n",
    "plt.subplot(222)\n",
    "# plt.imshow(xx1, xx2, Z.reshape(xx1.shape))"
   ]
  },
  {
   "cell_type": "code",
   "execution_count": 103,
   "metadata": {},
   "outputs": [
    {
     "name": "stderr",
     "output_type": "stream",
     "text": [
      "No artists with labels found to put in legend.  Note that artists whose label start with an underscore are ignored when legend() is called with no argument.\n"
     ]
    },
    {
     "name": "stdout",
     "output_type": "stream",
     "text": [
      "(305, 235)\n",
      "(305, 235)\n"
     ]
    },
    {
     "data": {
      "text/plain": [
       "<matplotlib.legend.Legend at 0x1f0b23948b0>"
      ]
     },
     "execution_count": 103,
     "metadata": {},
     "output_type": "execute_result"
    },
    {
     "data": {
      "image/png": "[encoded data removed]",
      "text/plain": [
       "<Figure size 640x480 with 1 Axes>"
      ]
     },
     "metadata": {},
     "output_type": "display_data"
    }
   ],
   "source": [
    "from matplotlib.colors import ListedColormap\n",
    "\n",
    "def plot_decision_regions(X, y, classifier, resolution=0.02):\n",
    "    markers = ('s', 'x', 'o', '^', 'v')\n",
    "    colors = ('red', 'blue', 'lightgreen', 'gray', 'cyan')\n",
    "    cmap = ListedColormap(colors[:len(np.unique(y))])\n",
    "\n",
    "    x1_min, x1_max = X[:, 0].min() - 1, X[:, 0].max() + 1\n",
    "    x2_min, x2_max = X[:, 1].min() - 1, X[:, 1].max() + 1\n",
    "    xx1, xx2 = np.meshgrid(np.arange(x1_min, x1_max, resolution),\n",
    "                           np.arange(x2_min, x2_max, resolution))\n",
    "    Z = classifier.predict(np.array([xx1.ravel(), xx2.ravel()]).T)\n",
    "    Z = Z.reshape(xx1.shape)\n",
    "    plt.contourf(xx1, xx2, Z, alpha=0.3, cmap=cmap)\n",
    "    plt.xlim(xx1.min(), xx1.max())\n",
    "    plt.ylim(xx2.min(), xx2.max())\n",
    "\n",
    "    # for idx, cl in enumerate(np.unique(y)):\n",
    "    #     plt.scatter(x=X[y == cl, 0], \n",
    "    #                 y=X[y == cl, 1],\n",
    "    #                 alpha=0.8, \n",
    "    #                 c=colors[idx],\n",
    "    #                 marker=markers[idx], \n",
    "    #                 label=cl, \n",
    "    #                 edgecolor='black')\n",
    "plot_decision_regions(X, y, classifier=ppn)\n",
    "plt.xlabel('sepal length [cm]')\n",
    "plt.ylabel('petal length [cm]')\n",
    "plt.legend(loc='upper left')"
   ]
  },
  {
   "cell_type": "markdown",
   "metadata": {},
   "source": [
    "### 1.2.2. <a id='toc1_2_2_'></a>[自适应性神经元（Adaline）](#toc0_)\n",
    "\n",
    "![Alt text](image-5.png)"
   ]
  },
  {
   "cell_type": "code",
   "execution_count": null,
   "metadata": {},
   "outputs": [],
   "source": [
    "class AdalineGD(object):\n",
    "    \"\"\"ADAptive LInear NEuron classifier.\n",
    "\n",
    "    Parameters\n",
    "    ------------\n",
    "    eta : float 学习效率\n",
    "      Learning rate (between 0.0 and 1.0)\n",
    "    n_iter : int 迭代次数\n",
    "      Passes over the training dataset.\n",
    "    random_state : int 随机数种子\n",
    "      Random number generator seed for random weight\n",
    "      initialization.\n",
    "\n",
    "\n",
    "    Attributes\n",
    "    -----------\n",
    "    w_ : 1d-array 一维数组\n",
    "      Weights after fitting.\n",
    "    cost_ : list 增量误差\n",
    "      Sum-of-squares cost function value in each epoch.\n",
    "\n",
    "    \"\"\"\n",
    "    def __init__(self, eta=0.01, n_iter=50, random_state=1):\n",
    "        self.eta = eta\n",
    "        self.n_iter = n_iter\n",
    "        self.random_state = random_state\n",
    "\n",
    "    def fit(self, X, y):\n",
    "        \"\"\" Fit training data.\n",
    "\n",
    "        Parameters\n",
    "        ----------\n",
    "        X : {array-like}, shape = [n_samples, n_features] [样品数目, 特征数目]\n",
    "          Training vectors, where n_samples is the number of samples and\n",
    "          n_features is the number of features.\n",
    "        y : array-like, shape = [n_samples] [特征值]\n",
    "          Target values.\n",
    "\n",
    "        Returns\n",
    "        -------\n",
    "        self : object\n",
    "\n",
    "        \"\"\"\n",
    "        rgen = np.random.RandomState(self.random_state)\n",
    "        self.w_ = rgen.normal(loc=0.0, scale=0.01, size=1 + X.shape[1])\n",
    "        self.cost_ = []\n",
    "\n",
    "        for i in range(self.n_iter):\n",
    "            net_input = self.net_input(X)\n",
    "            # Please note that the \"activation\" method has no effect\n",
    "            # in the code since it is simply an identity function. We\n",
    "            # could write `output = self.net_input(X)` directly instead.\n",
    "            # The purpose of the activation is more conceptual, i.e.,  \n",
    "            # in the case of logistic regression (as we will see later), \n",
    "            # we could change it to\n",
    "            # a sigmoid function to implement a logistic regression classifier.\n",
    "            output = self.activation(net_input)\n",
    "            errors = (y - output)                       # 误差值：实际值-计算值\n",
    "            self.w_[1:] += self.eta * X.T.dot(errors)   # 权重更新：+= eta * 特征的矩阵 * 误差向量 （变导数展开后结果）\n",
    "            self.w_[0] += self.eta * errors.sum()       # 更新偏置（bias）：+= eta * 误差之和\n",
    "            cost = (errors**2).sum() / 2.0              # 误差平方和 / 2\n",
    "            self.cost_.append(cost)\n",
    "        return self\n",
    "\n",
    "    def net_input(self, X):\n",
    "        \"\"\"Calculate net input\"\"\"\n",
    "        return np.dot(X, self.w_[1:]) + self.w_[0]      # w1*x1 + w2*x2 + ... + wi*xi + 偏置(bias)\n",
    "\n",
    "    def activation(self, X):\n",
    "        \"\"\"Compute linear activation\"\"\"\n",
    "        return X                                        # 激活函数为线性函数\n",
    "\n",
    "    def predict(self, X):\n",
    "        \"\"\"Return class label after unit step\"\"\"\n",
    "        return np.where(self.activation(self.net_input(X)) >= 0.0, 1, -1)"
   ]
  },
  {
   "cell_type": "code",
   "execution_count": null,
   "metadata": {},
   "outputs": [
    {
     "data": {
      "image/png": "[encoded data removed]",
      "text/plain": [
       "<Figure size 1000x400 with 2 Axes>"
      ]
     },
     "metadata": {},
     "output_type": "display_data"
    }
   ],
   "source": [
    "fig, ax = plt.subplots(nrows=1, ncols=2, figsize=(10, 4))\n",
    "\n",
    "ada1 = AdalineGD(n_iter=10, eta=0.01).fit(X, y)\n",
    "ax[0].plot(range(1, len(ada1.cost_) + 1), np.log10(ada1.cost_), marker='o')\n",
    "ax[0].set_xlabel('Epochs')\n",
    "ax[0].set_ylabel('log(Sum-squared-error)')\n",
    "ax[0].set_title('Adaline - Learning rate 0.01')\n",
    "\n",
    "ada2 = AdalineGD(n_iter=10, eta=0.0001).fit(X, y)\n",
    "ax[1].plot(range(1, len(ada2.cost_) + 1), ada2.cost_, marker='o')\n",
    "ax[1].set_xlabel('Epochs')\n",
    "ax[1].set_ylabel('Sum-squared-error')\n",
    "ax[1].set_title('Adaline - Learning rate 0.0001')\n",
    "\n",
    "# plt.savefig('images/02_11.png', dpi=300)\n",
    "plt.show()"
   ]
  },
  {
   "cell_type": "code",
   "execution_count": null,
   "metadata": {},
   "outputs": [],
   "source": [
    "# standardize features\n",
    "X_std = np.copy(X)\n",
    "X_std[:, 0] = (X[:, 0] - X[:, 0].mean()) / X[:, 0].std()\n",
    "X_std[:, 1] = (X[:, 1] - X[:, 1].mean()) / X[:, 1].std()"
   ]
  },
  {
   "cell_type": "code",
   "execution_count": null,
   "metadata": {},
   "outputs": [
    {
     "name": "stderr",
     "output_type": "stream",
     "text": [
      "C:\\Users\\zhao\\AppData\\Local\\Temp\\ipykernel_15620\\78910532.py:19: UserWarning: You passed a edgecolor/edgecolors ('black') for an unfilled marker ('x').  Matplotlib is ignoring the edgecolor in favor of the facecolor.  This behavior may change in the future.\n",
      "  plt.scatter(x=X[y == cl, 0],\n"
     ]
    },
    {
     "data": {
      "image/png": "[encoded data removed]",
      "text/plain": [
       "<Figure size 640x480 with 1 Axes>"
      ]
     },
     "metadata": {},
     "output_type": "display_data"
    },
    {
     "data": {
      "image/png": "[encoded data removed]",
      "text/plain": [
       "<Figure size 640x480 with 1 Axes>"
      ]
     },
     "metadata": {},
     "output_type": "display_data"
    }
   ],
   "source": [
    "ada = AdalineGD(n_iter=15, eta=0.01)\n",
    "ada.fit(X_std, y)\n",
    "\n",
    "plot_decision_regions(X_std, y, classifier=ada)\n",
    "plt.title('Adaline - Gradient Descent')\n",
    "plt.xlabel('sepal length [standardized]')\n",
    "plt.ylabel('petal length [standardized]')\n",
    "plt.legend(loc='upper left')\n",
    "plt.tight_layout()\n",
    "# plt.savefig('images/02_14_1.png', dpi=300)\n",
    "plt.show()\n",
    "\n",
    "plt.plot(range(1, len(ada.cost_) + 1), ada.cost_, marker='o')\n",
    "plt.xlabel('Epochs')\n",
    "plt.ylabel('Sum-squared-error')\n",
    "\n",
    "plt.tight_layout()\n",
    "# plt.savefig('images/02_14_2.png', dpi=300)\n",
    "# plt.show()"
   ]
  },
  {
   "cell_type": "markdown",
   "metadata": {},
   "source": [
    "### 1.2.3. <a id='toc1_2_3_'></a>[区别](#toc0_)\n",
    "\n",
    "[详见](https://www.jianshu.com/p/3c271d59b14c)\n",
    "\n",
    "[神经网络](https://zhuanlan.zhihu.com/p/342959259)"
   ]
  },
  {
   "cell_type": "markdown",
   "metadata": {},
   "source": [
    "## 1.3. <a id='toc1_3_'></a>[scik-learning软件库](#toc0_)"
   ]
  },
  {
   "cell_type": "markdown",
   "metadata": {},
   "source": [
    "### 1.3.1. <a id='toc1_3_1_'></a>[加载数据集](#toc0_)"
   ]
  },
  {
   "cell_type": "code",
   "execution_count": null,
   "metadata": {},
   "outputs": [],
   "source": [
    "from sklearn import datasets\n",
    "import numpy as np\n",
    "\n",
    "iris = datasets.load_iris()"
   ]
  },
  {
   "cell_type": "code",
   "execution_count": null,
   "metadata": {},
   "outputs": [
    {
     "name": "stdout",
     "output_type": "stream",
     "text": [
      "[[5.1 3.5 1.4 0.2]\n",
      " [4.9 3.  1.4 0.2]\n",
      " [4.7 3.2 1.3 0.2]\n",
      " [4.6 3.1 1.5 0.2]\n",
      " [5.  3.6 1.4 0.2]\n",
      " [5.4 3.9 1.7 0.4]\n",
      " [4.6 3.4 1.4 0.3]\n",
      " [5.  3.4 1.5 0.2]\n",
      " [4.4 2.9 1.4 0.2]\n",
      " [4.9 3.1 1.5 0.1]\n",
      " [5.4 3.7 1.5 0.2]\n",
      " [4.8 3.4 1.6 0.2]\n",
      " [4.8 3.  1.4 0.1]\n",
      " [4.3 3.  1.1 0.1]\n",
      " [5.8 4.  1.2 0.2]\n",
      " [5.7 4.4 1.5 0.4]\n",
      " [5.4 3.9 1.3 0.4]\n",
      " [5.1 3.5 1.4 0.3]\n",
      " [5.7 3.8 1.7 0.3]\n",
      " [5.1 3.8 1.5 0.3]\n",
      " [5.4 3.4 1.7 0.2]\n",
      " [5.1 3.7 1.5 0.4]\n",
      " [4.6 3.6 1.  0.2]\n",
      " [5.1 3.3 1.7 0.5]\n",
      " [4.8 3.4 1.9 0.2]\n",
      " [5.  3.  1.6 0.2]\n",
      " [5.  3.4 1.6 0.4]\n",
      " [5.2 3.5 1.5 0.2]\n",
      " [5.2 3.4 1.4 0.2]\n",
      " [4.7 3.2 1.6 0.2]\n",
      " [4.8 3.1 1.6 0.2]\n",
      " [5.4 3.4 1.5 0.4]\n",
      " [5.2 4.1 1.5 0.1]\n",
      " [5.5 4.2 1.4 0.2]\n",
      " [4.9 3.1 1.5 0.2]\n",
      " [5.  3.2 1.2 0.2]\n",
      " [5.5 3.5 1.3 0.2]\n",
      " [4.9 3.6 1.4 0.1]\n",
      " [4.4 3.  1.3 0.2]\n",
      " [5.1 3.4 1.5 0.2]\n",
      " [5.  3.5 1.3 0.3]\n",
      " [4.5 2.3 1.3 0.3]\n",
      " [4.4 3.2 1.3 0.2]\n",
      " [5.  3.5 1.6 0.6]\n",
      " [5.1 3.8 1.9 0.4]\n",
      " [4.8 3.  1.4 0.3]\n",
      " [5.1 3.8 1.6 0.2]\n",
      " [4.6 3.2 1.4 0.2]\n",
      " [5.3 3.7 1.5 0.2]\n",
      " [5.  3.3 1.4 0.2]\n",
      " [7.  3.2 4.7 1.4]\n",
      " [6.4 3.2 4.5 1.5]\n",
      " [6.9 3.1 4.9 1.5]\n",
      " [5.5 2.3 4.  1.3]\n",
      " [6.5 2.8 4.6 1.5]\n",
      " [5.7 2.8 4.5 1.3]\n",
      " [6.3 3.3 4.7 1.6]\n",
      " [4.9 2.4 3.3 1. ]\n",
      " [6.6 2.9 4.6 1.3]\n",
      " [5.2 2.7 3.9 1.4]\n",
      " [5.  2.  3.5 1. ]\n",
      " [5.9 3.  4.2 1.5]\n",
      " [6.  2.2 4.  1. ]\n",
      " [6.1 2.9 4.7 1.4]\n",
      " [5.6 2.9 3.6 1.3]\n",
      " [6.7 3.1 4.4 1.4]\n",
      " [5.6 3.  4.5 1.5]\n",
      " [5.8 2.7 4.1 1. ]\n",
      " [6.2 2.2 4.5 1.5]\n",
      " [5.6 2.5 3.9 1.1]\n",
      " [5.9 3.2 4.8 1.8]\n",
      " [6.1 2.8 4.  1.3]\n",
      " [6.3 2.5 4.9 1.5]\n",
      " [6.1 2.8 4.7 1.2]\n",
      " [6.4 2.9 4.3 1.3]\n",
      " [6.6 3.  4.4 1.4]\n",
      " [6.8 2.8 4.8 1.4]\n",
      " [6.7 3.  5.  1.7]\n",
      " [6.  2.9 4.5 1.5]\n",
      " [5.7 2.6 3.5 1. ]\n",
      " [5.5 2.4 3.8 1.1]\n",
      " [5.5 2.4 3.7 1. ]\n",
      " [5.8 2.7 3.9 1.2]\n",
      " [6.  2.7 5.1 1.6]\n",
      " [5.4 3.  4.5 1.5]\n",
      " [6.  3.4 4.5 1.6]\n",
      " [6.7 3.1 4.7 1.5]\n",
      " [6.3 2.3 4.4 1.3]\n",
      " [5.6 3.  4.1 1.3]\n",
      " [5.5 2.5 4.  1.3]\n",
      " [5.5 2.6 4.4 1.2]\n",
      " [6.1 3.  4.6 1.4]\n",
      " [5.8 2.6 4.  1.2]\n",
      " [5.  2.3 3.3 1. ]\n",
      " [5.6 2.7 4.2 1.3]\n",
      " [5.7 3.  4.2 1.2]\n",
      " [5.7 2.9 4.2 1.3]\n",
      " [6.2 2.9 4.3 1.3]\n",
      " [5.1 2.5 3.  1.1]\n",
      " [5.7 2.8 4.1 1.3]\n",
      " [6.3 3.3 6.  2.5]\n",
      " [5.8 2.7 5.1 1.9]\n",
      " [7.1 3.  5.9 2.1]\n",
      " [6.3 2.9 5.6 1.8]\n",
      " [6.5 3.  5.8 2.2]\n",
      " [7.6 3.  6.6 2.1]\n",
      " [4.9 2.5 4.5 1.7]\n",
      " [7.3 2.9 6.3 1.8]\n",
      " [6.7 2.5 5.8 1.8]\n",
      " [7.2 3.6 6.1 2.5]\n",
      " [6.5 3.2 5.1 2. ]\n",
      " [6.4 2.7 5.3 1.9]\n",
      " [6.8 3.  5.5 2.1]\n",
      " [5.7 2.5 5.  2. ]\n",
      " [5.8 2.8 5.1 2.4]\n",
      " [6.4 3.2 5.3 2.3]\n",
      " [6.5 3.  5.5 1.8]\n",
      " [7.7 3.8 6.7 2.2]\n",
      " [7.7 2.6 6.9 2.3]\n",
      " [6.  2.2 5.  1.5]\n",
      " [6.9 3.2 5.7 2.3]\n",
      " [5.6 2.8 4.9 2. ]\n",
      " [7.7 2.8 6.7 2. ]\n",
      " [6.3 2.7 4.9 1.8]\n",
      " [6.7 3.3 5.7 2.1]\n",
      " [7.2 3.2 6.  1.8]\n",
      " [6.2 2.8 4.8 1.8]\n",
      " [6.1 3.  4.9 1.8]\n",
      " [6.4 2.8 5.6 2.1]\n",
      " [7.2 3.  5.8 1.6]\n",
      " [7.4 2.8 6.1 1.9]\n",
      " [7.9 3.8 6.4 2. ]\n",
      " [6.4 2.8 5.6 2.2]\n",
      " [6.3 2.8 5.1 1.5]\n",
      " [6.1 2.6 5.6 1.4]\n",
      " [7.7 3.  6.1 2.3]\n",
      " [6.3 3.4 5.6 2.4]\n",
      " [6.4 3.1 5.5 1.8]\n",
      " [6.  3.  4.8 1.8]\n",
      " [6.9 3.1 5.4 2.1]\n",
      " [6.7 3.1 5.6 2.4]\n",
      " [6.9 3.1 5.1 2.3]\n",
      " [5.8 2.7 5.1 1.9]\n",
      " [6.8 3.2 5.9 2.3]\n",
      " [6.7 3.3 5.7 2.5]\n",
      " [6.7 3.  5.2 2.3]\n",
      " [6.3 2.5 5.  1.9]\n",
      " [6.5 3.  5.2 2. ]\n",
      " [6.2 3.4 5.4 2.3]\n",
      " [5.9 3.  5.1 1.8]]\n",
      "['sepal length (cm)', 'sepal width (cm)', 'petal length (cm)', 'petal width (cm)']\n"
     ]
    }
   ],
   "source": [
    "print(iris.data)\n",
    "print(iris.feature_names)"
   ]
  },
  {
   "cell_type": "code",
   "execution_count": null,
   "metadata": {},
   "outputs": [
    {
     "name": "stdout",
     "output_type": "stream",
     "text": [
      "[0 0 0 0 0 0 0 0 0 0 0 0 0 0 0 0 0 0 0 0 0 0 0 0 0 0 0 0 0 0 0 0 0 0 0 0 0\n",
      " 0 0 0 0 0 0 0 0 0 0 0 0 0 1 1 1 1 1 1 1 1 1 1 1 1 1 1 1 1 1 1 1 1 1 1 1 1\n",
      " 1 1 1 1 1 1 1 1 1 1 1 1 1 1 1 1 1 1 1 1 1 1 1 1 1 1 2 2 2 2 2 2 2 2 2 2 2\n",
      " 2 2 2 2 2 2 2 2 2 2 2 2 2 2 2 2 2 2 2 2 2 2 2 2 2 2 2 2 2 2 2 2 2 2 2 2 2\n",
      " 2 2]\n",
      "[0 1 2]\n",
      "['setosa' 'versicolor' 'virginica']\n"
     ]
    }
   ],
   "source": [
    "print(iris.target)\n",
    "print(np.unique(iris.target))\n",
    "print(iris.target_names)"
   ]
  },
  {
   "cell_type": "markdown",
   "metadata": {},
   "source": [
    "### 1.3.2. <a id='toc1_3_2_'></a>[训练感知器](#toc0_)"
   ]
  },
  {
   "cell_type": "markdown",
   "metadata": {},
   "source": [
    "#### 1.3.2.1. <a id='toc1_3_2_1_'></a>[拆分训练集和测试集](#toc0_)"
   ]
  },
  {
   "cell_type": "code",
   "execution_count": null,
   "metadata": {},
   "outputs": [],
   "source": [
    "X = iris.data\n",
    "y = iris.target\n",
    "\n",
    "from sklearn.model_selection import train_test_split\n",
    "\n",
    "X_train, X_test, y_train, y_test = train_test_split(X, y, test_size=0.3, random_state=1, stratify=y)"
   ]
  },
  {
   "cell_type": "code",
   "execution_count": null,
   "metadata": {},
   "outputs": [
    {
     "name": "stdout",
     "output_type": "stream",
     "text": [
      "(105, 4)\n",
      "(45, 4)\n",
      "(105,)\n",
      "(45,)\n"
     ]
    }
   ],
   "source": [
    "print(X_train.shape)\n",
    "print(X_test.shape)\n",
    "print(y_train.shape)\n",
    "print(y_test.shape)"
   ]
  },
  {
   "cell_type": "markdown",
   "metadata": {},
   "source": [
    "#### 1.3.2.2. <a id='toc1_3_2_2_'></a>[预处理特征值](#toc0_)\n",
    "\n",
    "- 归一化\n",
    "- 标准化"
   ]
  },
  {
   "cell_type": "code",
   "execution_count": null,
   "metadata": {},
   "outputs": [
    {
     "name": "stdout",
     "output_type": "stream",
     "text": [
      "[[-0.4301064   2.63118533 -1.33269725 -1.30728421]\n",
      " [-0.55053619  0.76918392 -1.16537974 -1.30728421]\n",
      " [ 0.65376173  0.30368356  0.84243039  1.44587881]\n",
      " [ 1.0150511   0.53643374  1.0655204   1.18367281]\n",
      " [-1.03225536  0.30368356 -1.44424226 -1.30728421]\n",
      " [ 1.0150511   0.07093339  1.0097479   1.57698181]\n",
      " [ 2.09891923 -0.16181679  1.56747294  1.18367281]\n",
      " [-0.06881702  2.16568498 -1.44424226 -1.30728421]\n",
      " [ 1.61720006 -0.16181679  1.12129291  0.5281578 ]\n",
      " [ 0.89462131 -0.39456697  0.45202286  0.1348488 ]\n",
      " [-1.03225536 -1.79106803 -0.27301968 -0.2584602 ]\n",
      " [-0.79139578 -0.86006732  0.06161534  0.2659518 ]\n",
      " [-1.39354474  0.30368356 -1.38846976 -1.30728421]\n",
      " [ 0.29247235 -0.62731714  0.50779537  0.0037458 ]\n",
      " [-0.4301064  -1.32556767  0.11738784  0.1348488 ]\n",
      " [-0.06881702 -0.86006732  0.73088538  0.92146681]\n",
      " [-1.27311494  0.76918392 -1.05383474 -1.30728421]\n",
      " [-1.03225536 -2.48931856 -0.16147468 -0.2584602 ]\n",
      " [-0.06881702 -0.86006732  0.06161534  0.0037458 ]\n",
      " [-1.39354474  0.30368356 -1.22115225 -1.30728421]\n",
      " [ 0.41290214 -0.62731714  0.56356787  0.79036381]\n",
      " [ 2.21934902 -1.0928175   1.73479045  1.44587881]\n",
      " [ 0.65376173  0.30368356  0.39625036  0.3970548 ]\n",
      " [-0.18924682 -0.62731714  0.39625036  0.1348488 ]\n",
      " [-0.4301064  -1.55831785  0.00584283 -0.1273572 ]\n",
      " [ 0.53333194  0.76918392  1.0097479   1.57698181]\n",
      " [ 0.29247235 -0.39456697  0.50779537  0.2659518 ]\n",
      " [ 0.29247235 -1.0928175   1.0097479   0.2659518 ]\n",
      " [ 0.77419152 -0.16181679  1.12129291  1.31477581]\n",
      " [-0.06881702 -0.62731714  0.73088538  1.57698181]\n",
      " [-0.18924682 -0.62731714  0.17316034  0.1348488 ]\n",
      " [-0.91182557  1.46743445 -1.27692475 -1.04507821]\n",
      " [ 2.21934902  1.70018463  1.62324544  1.31477581]\n",
      " [ 0.53333194 -1.32556767  0.67511288  0.92146681]\n",
      " [ 0.17204256 -0.16181679  0.56356787  0.79036381]\n",
      " [ 0.65376173 -0.62731714  1.0097479   1.18367281]\n",
      " [ 0.05161277 -0.16181679  0.22893285  0.3970548 ]\n",
      " [ 2.21934902 -0.62731714  1.62324544  1.05256981]\n",
      " [ 0.65376173  0.07093339  0.9539754   0.79036381]\n",
      " [-0.91182557  1.70018463 -1.22115225 -1.30728421]\n",
      " [ 0.53333194 -0.86006732  0.61934037  0.79036381]\n",
      " [-0.79139578  0.76918392 -1.33269725 -1.30728421]\n",
      " [ 0.53333194 -0.62731714  0.73088538  0.3970548 ]\n",
      " [-0.91182557  1.70018463 -1.05383474 -1.04507821]\n",
      " [-1.51397453  1.23468427 -1.55578727 -1.30728421]\n",
      " [ 0.53333194 -1.32556767  0.61934037  0.3970548 ]\n",
      " [-1.15268515  0.07093339 -1.27692475 -1.30728421]\n",
      " [-1.8752639  -0.16181679 -1.50001477 -1.43838721]\n",
      " [ 0.77419152 -0.16181679  0.9539754   0.79036381]\n",
      " [ 1.0150511   0.07093339  0.50779537  0.3970548 ]\n",
      " [-0.18924682  1.70018463 -1.16537974 -1.17618121]\n",
      " [-0.18924682 -1.0928175  -0.16147468 -0.2584602 ]\n",
      " [-0.06881702 -0.86006732  0.17316034 -0.2584602 ]\n",
      " [-0.91182557  0.76918392 -1.27692475 -1.30728421]\n",
      " [-0.55053619  1.46743445 -1.27692475 -1.30728421]\n",
      " [-0.79139578  1.0019341  -1.27692475 -1.30728421]\n",
      " [-0.4301064  -1.55831785 -0.04992967 -0.2584602 ]\n",
      " [ 1.61720006  1.23468427  1.28861042  1.70808482]\n",
      " [-1.03225536  1.0019341  -1.38846976 -1.17618121]\n",
      " [ 1.25591069  0.07093339  0.61934037  0.3970548 ]\n",
      " [-1.75483411 -0.16181679 -1.38846976 -1.30728421]\n",
      " [ 0.17204256  0.76918392  0.39625036  0.5281578 ]\n",
      " [ 1.61720006  0.30368356  1.23283791  0.79036381]\n",
      " [-1.27311494  0.07093339 -1.22115225 -1.30728421]\n",
      " [-1.03225536  0.53643374 -1.33269725 -1.30728421]\n",
      " [-0.4301064  -1.0928175   0.34047786  0.0037458 ]\n",
      " [-0.06881702 -0.86006732  0.73088538  0.92146681]\n",
      " [-0.30967661 -0.39456697 -0.10570217  0.1348488 ]\n",
      " [-0.30967661 -0.16181679  0.17316034  0.1348488 ]\n",
      " [ 0.05161277  0.30368356  0.56356787  0.79036381]\n",
      " [ 2.21934902 -0.16181679  1.28861042  1.44587881]\n",
      " [ 0.17204256 -0.39456697  0.39625036  0.3970548 ]\n",
      " [-0.55053619 -0.16181679  0.39625036  0.3970548 ]\n",
      " [ 1.25591069  0.07093339  0.89820289  1.18367281]\n",
      " [ 0.65376173 -0.62731714  1.0097479   1.31477581]\n",
      " [ 0.29247235 -0.16181679  0.45202286  0.2659518 ]\n",
      " [-0.55053619  0.76918392 -1.27692475 -1.04507821]\n",
      " [-0.91182557  0.53643374 -1.16537974 -0.91397521]\n",
      " [ 1.85805965 -0.62731714  1.28861042  0.92146681]\n",
      " [ 0.17204256 -0.86006732  0.73088538  0.5281578 ]\n",
      " [ 2.46020861  1.70018463  1.45592793  1.05256981]\n",
      " [ 0.17204256 -2.02381821  0.67511288  0.3970548 ]\n",
      " [-0.67096598  1.46743445 -1.27692475 -1.30728421]\n",
      " [-0.18924682 -0.39456697  0.22893285  0.1348488 ]\n",
      " [ 0.77419152  0.30368356  0.73088538  1.05256981]\n",
      " [ 0.53333194  0.53643374  1.23283791  1.70808482]\n",
      " [-0.91182557  1.70018463 -1.27692475 -1.17618121]\n",
      " [-1.03225536  1.23468427 -1.33269725 -1.30728421]\n",
      " [ 0.53333194 -0.39456697  1.0097479   0.79036381]\n",
      " [-0.91182557  1.0019341  -1.33269725 -1.17618121]\n",
      " [ 1.1354809   0.30368356  1.17706541  1.44587881]\n",
      " [-0.30967661 -1.32556767  0.06161534 -0.1273572 ]\n",
      " [-0.18924682 -0.16181679  0.22893285  0.0037458 ]\n",
      " [ 0.41290214 -0.39456697  0.28470535  0.1348488 ]\n",
      " [-0.79139578  2.39843516 -1.27692475 -1.43838721]\n",
      " [ 1.0150511  -0.16181679  0.78665788  1.44587881]\n",
      " [ 0.53333194 -1.79106803  0.34047786  0.1348488 ]\n",
      " [-0.4301064   1.0019341  -1.38846976 -1.30728421]\n",
      " [-1.27311494 -0.16181679 -1.33269725 -1.17618121]\n",
      " [ 1.0150511  -0.16181679  0.67511288  0.65926081]\n",
      " [-1.63440432 -1.79106803 -1.38846976 -1.17618121]\n",
      " [-0.06881702 -1.0928175   0.11738784  0.0037458 ]\n",
      " [-1.03225536  0.76918392 -1.22115225 -1.04507821]\n",
      " [-1.51397453  0.07093339 -1.27692475 -1.30728421]\n",
      " [-1.75483411  0.30368356 -1.38846976 -1.30728421]]\n",
      "[[ 0.41290214  0.76918392  0.89820289  1.44587881]\n",
      " [-0.55053619  1.9329348  -1.16537974 -1.04507821]\n",
      " [-1.51397453  0.76918392 -1.33269725 -1.17618121]\n",
      " [-1.15268515 -1.32556767  0.39625036  0.65926081]\n",
      " [ 0.89462131 -0.16181679  0.34047786  0.2659518 ]\n",
      " [ 0.29247235 -0.62731714  0.11738784  0.1348488 ]\n",
      " [ 1.0150511  -1.32556767  1.12129291  0.79036381]\n",
      " [ 0.41290214 -2.02381821  0.39625036  0.3970548 ]\n",
      " [ 0.65376173 -0.86006732  0.84243039  0.92146681]\n",
      " [-0.55053619  1.9329348  -1.38846976 -1.04507821]\n",
      " [-0.18924682  3.09668569 -1.27692475 -1.04507821]\n",
      " [ 0.29247235 -0.16181679  0.61934037  0.79036381]\n",
      " [-1.75483411 -0.39456697 -1.33269725 -1.30728421]\n",
      " [-1.15268515 -1.55831785 -0.27301968 -0.2584602 ]\n",
      " [-1.51397453  0.30368356 -1.33269725 -1.30728421]\n",
      " [ 1.1354809  -0.62731714  0.56356787  0.2659518 ]\n",
      " [ 1.25591069  0.07093339  0.73088538  1.44587881]\n",
      " [-0.30967661 -0.16181679  0.39625036  0.3970548 ]\n",
      " [ 0.65376173 -0.39456697  0.28470535  0.1348488 ]\n",
      " [ 0.77419152 -0.16181679  0.78665788  1.05256981]\n",
      " [ 1.49677027 -0.16181679  1.17706541  1.18367281]\n",
      " [-1.27311494 -0.16181679 -1.33269725 -1.43838721]\n",
      " [ 1.0150511   0.07093339  0.34047786  0.2659518 ]\n",
      " [-0.30967661 -0.62731714  0.61934037  1.05256981]\n",
      " [-0.30967661 -0.86006732  0.22893285  0.1348488 ]\n",
      " [ 0.53333194  0.53643374  0.50779537  0.5281578 ]\n",
      " [-0.91182557 -1.32556767 -0.4403372  -0.1273572 ]\n",
      " [ 1.0150511   0.53643374  1.0655204   1.70808482]\n",
      " [-1.03225536  1.0019341  -1.22115225 -0.78287221]\n",
      " [-0.18924682 -1.32556767  0.67511288  1.05256981]\n",
      " [-1.27311494  0.76918392 -1.22115225 -1.30728421]\n",
      " [-0.91182557  1.0019341  -1.33269725 -1.30728421]\n",
      " [ 0.17204256 -2.02381821  0.11738784 -0.2584602 ]\n",
      " [-0.4301064  -1.79106803  0.11738784  0.1348488 ]\n",
      " [ 1.73762985 -0.39456697  1.40015543  0.79036381]\n",
      " [ 1.1354809  -0.16181679  0.9539754   1.18367281]\n",
      " [-1.15268515  1.23468427 -1.33269725 -1.43838721]\n",
      " [-1.03225536 -0.16181679 -1.22115225 -1.30728421]\n",
      " [-1.15268515 -0.16181679 -1.33269725 -1.30728421]\n",
      " [ 1.37634048  0.30368356  0.50779537  0.2659518 ]\n",
      " [ 1.25591069  0.30368356  1.0655204   1.44587881]\n",
      " [ 0.05161277 -0.16181679  0.73088538  0.79036381]\n",
      " [ 0.77419152 -0.62731714  0.45202286  0.3970548 ]\n",
      " [-1.03225536  0.76918392 -1.27692475 -1.30728421]\n",
      " [-1.15268515  0.07093339 -1.27692475 -1.43838721]]\n"
     ]
    }
   ],
   "source": [
    "from sklearn.preprocessing import StandardScaler\n",
    "\n",
    "sc = StandardScaler()\n",
    "sc.fit(X_train)\n",
    "\n",
    "X_train_std = sc.transform(X_train)\n",
    "print(X_train_std)\n",
    "X_test_std = sc.transform(X_test)\n",
    "print(X_test_std)"
   ]
  },
  {
   "cell_type": "markdown",
   "metadata": {},
   "source": [
    "#### 1.3.2.3. <a id='toc1_3_2_3_'></a>[训练模型和预测结果](#toc0_)"
   ]
  },
  {
   "cell_type": "code",
   "execution_count": null,
   "metadata": {},
   "outputs": [
    {
     "name": "stdout",
     "output_type": "stream",
     "text": [
      "[2 0 0 1 1 1 2 1 2 0 0 2 0 0 0 1 2 1 1 2 2 0 1 2 1 1 0 2 0 2 0 0 1 1 2 2 0\n",
      " 0 0 1 2 2 1 0 0]\n",
      "1.0\n"
     ]
    }
   ],
   "source": [
    "from sklearn.linear_model import Perceptron\n",
    "\n",
    "ppn = Perceptron(n_iter_no_change=40, eta0=0.1, random_state=1)\n",
    "ppn.fit(X_train_std, y_train)\n",
    "\n",
    "y_pred = ppn.predict(X_test_std)\n",
    "print(y_pred)\n",
    "print(ppn.score(X_test_std, y_pred))"
   ]
  },
  {
   "cell_type": "markdown",
   "metadata": {},
   "source": [
    "## 1.4. <a id='toc1_4_'></a>[逻辑回归分类](#toc0_)"
   ]
  },
  {
   "cell_type": "code",
   "execution_count": null,
   "metadata": {},
   "outputs": [
    {
     "name": "stdout",
     "output_type": "stream",
     "text": [
      "1.0\n"
     ]
    }
   ],
   "source": [
    "from sklearn.linear_model import LogisticRegression\n",
    "\n",
    "lr = LogisticRegression(C=100.0, random_state=1)\n",
    "lr.fit(X_train_std, y_train)\n",
    "\n",
    "y_pred = lr.predict(X_test_std)\n",
    "\n",
    "print(lr.score(X_test_std, y_pred))"
   ]
  },
  {
   "cell_type": "markdown",
   "metadata": {},
   "source": [
    "## 1.5. <a id='toc1_5_'></a>[支持向量机](#toc0_)"
   ]
  },
  {
   "cell_type": "markdown",
   "metadata": {},
   "source": [
    "## 1.6. <a id='toc1_6_'></a>[核支持向量机求解非线性问题](#toc0_)"
   ]
  },
  {
   "cell_type": "markdown",
   "metadata": {},
   "source": [
    "## 1.7. <a id='toc1_7_'></a>[决策树学习](#toc0_)"
   ]
  },
  {
   "cell_type": "markdown",
   "metadata": {},
   "source": [
    "## 1.8. <a id='toc1_8_'></a>[通过随机森林组合多个决策树](#toc0_)"
   ]
  },
  {
   "cell_type": "markdown",
   "metadata": {},
   "source": [
    "## 1.9. <a id='toc1_9_'></a>[K-近邻——一种懒惰的学习算法](#toc0_)"
   ]
  },
  {
   "cell_type": "markdown",
   "metadata": {},
   "source": [
    "# 2. <a id='toc2_'></a>[特征工程](#toc0_)"
   ]
  }
 ],
 "metadata": {
  "kernelspec": {
   "display_name": "DeepLearning",
   "language": "python",
   "name": "python3"
  },
  "language_info": {
   "codemirror_mode": {
    "name": "ipython",
    "version": 3
   },
   "file_extension": ".py",
   "mimetype": "text/x-python",
   "name": "python",
   "nbconvert_exporter": "python",
   "pygments_lexer": "ipython3",
   "version": "3.10.11"
  },
  "orig_nbformat": 4
 },
 "nbformat": 4,
 "nbformat_minor": 2
}
