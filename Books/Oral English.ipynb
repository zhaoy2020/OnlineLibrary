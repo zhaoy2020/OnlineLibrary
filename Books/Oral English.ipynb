{
 "cells": [
  {
   "cell_type": "markdown",
   "id": "54a8c7e1",
   "metadata": {},
   "source": [
    "**Table of contents**<a id='toc0_'></a>    \n",
    "- 1. [元音字母(5) 与 元音音素(20)](#toc1_)    \n",
    "- 2. [辅音](#toc2_)    \n",
    "- 3. [对比总结](#toc3_)    \n",
    "- 4. [节奏](#toc4_)    \n",
    "  - 4.1. [如何判断句子中哪个音节重读？](#toc4_1_)    \n",
    "  - 4.2. [如何掌控英语句子的节奏（Rhythm）](#toc4_2_)    \n",
    "  - 4.3. [连读、弱读、失去爆破的结合控制](#toc4_3_)    \n",
    "\n",
    "<!-- vscode-jupyter-toc-config\n",
    "\tnumbering=true\n",
    "\tanchor=true\n",
    "\tflat=false\n",
    "\tminLevel=1\n",
    "\tmaxLevel=6\n",
    "\t/vscode-jupyter-toc-config -->\n",
    "<!-- THIS CELL WILL BE REPLACED ON TOC UPDATE. DO NOT WRITE YOUR TEXT IN THIS CELL -->"
   ]
  },
  {
   "cell_type": "markdown",
   "id": "d3edb0f9",
   "metadata": {},
   "source": [
    "# 1. <a id='toc1_'></a>[元音字母(5) 与 元音音素(20)](#toc0_)"
   ]
  },
  {
   "cell_type": "markdown",
   "id": "3aad85b3",
   "metadata": {},
   "source": [
    "元音是指气流在声带振动后，从口腔或鼻腔中自然流出，不受明显阻碍而形成的音。\n",
    "\n",
    "英语中有 5 个元音字母：A, E, I, O, U （有时 Y 也作元音用，例如在 cry, fly, my 中）\n",
    "\n",
    "标准英语有 20 个元音音素，分为：\n",
    "- 单元音（Monophthongs）：12 个\n",
    "\n",
    "| 前元音                    | 中元音                                 | 后元音                                                            |\n",
    "| ---------------------- | ----------------------------------- | -------------------------------------------------------------- |\n",
    "| /iː/（seat）<br>/ɪ/（sit） | /ɜː/（bird）<br>/ə/（sofa）<br>/ʌ/（cup） | /uː/（food）<br>/ʊ/（book）<br>/ɔː/（call）<br>/ɒ/（cot）<br>/ɑː/（car） |\n",
    "\n",
    "- 双元音（Diphthongs）：8 个\n",
    "\n",
    "| 音素        | 示例         |\n",
    "| --------- | ---------- |\n",
    "| /eɪ/（day） | /aɪ/（my）   |\n",
    "| /ɔɪ/（boy） | /aʊ/（now）  |\n",
    "| /əʊ/（go）  | /ɪə/（ear）  |\n",
    "| /eə/（air） | /ʊə/（tour） |\n"
   ]
  },
  {
   "cell_type": "markdown",
   "id": "1e92e7ad",
   "metadata": {},
   "source": [
    "| 元音字母 | 常见音素（IPA） | 示例单词      | 音标（IPA）    |\n",
    "| ---- | --------- | --------- | ---------- |\n",
    "| A    | /eɪ/      | name      | /neɪm/     |\n",
    "| A    | /æ/       | cat       | /kæt/      |\n",
    "| A    | /ɑː/      | car       | /kɑː/      |\n",
    "| A    | /ə/       | about     | /əˈbaʊt/   |\n",
    "| E    | /iː/      | me        | /miː/      |\n",
    "| E    | /e/       | bed       | /bed/      |\n",
    "| E    | /ɜː/      | her       | /hɜː/      |\n",
    "| E    | /ə/       | problem   | /ˈprɒbləm/ |\n",
    "| I    | /aɪ/      | time      | /taɪm/     |\n",
    "| I    | /ɪ/       | sit       | /sɪt/      |\n",
    "| I    | /iː/      | machine   | /məˈʃiːn/  |\n",
    "| I    | /ə/       | animal    | /ˈænɪməl/  |\n",
    "| O    | /əʊ/      | go        | /ɡəʊ/      |\n",
    "| O    | /ɒ/       | hot (BrE) | /hɒt/      |\n",
    "| O    | /ɔː/      | saw       | /sɔː/      |\n",
    "| O    | /ʌ/       | love      | /lʌv/      |\n",
    "| U    | /juː/     | unit      | /ˈjuːnɪt/  |\n",
    "| U    | /ʌ/       | cup       | /kʌp/      |\n",
    "| U    | /uː/      | blue      | /bluː/     |\n",
    "| U    | /ʊ/       | put       | /pʊt/      |\n",
    "| Y    | /aɪ/      | my        | /maɪ/      |\n",
    "| Y    | /ɪ/       | gym       | /dʒɪm/     |\n",
    "| Y    | /iː/      | happy     | /ˈhæpi/    |\n"
   ]
  },
  {
   "cell_type": "markdown",
   "id": "4b79fb4b",
   "metadata": {},
   "source": [
    "# 2. <a id='toc2_'></a>[辅音字母和因素](#toc0_)"
   ]
  },
  {
   "cell_type": "markdown",
   "id": "8f9ad902",
   "metadata": {},
   "source": [
    "辅音是指发音时，气流受到口腔、舌头、牙齿等器官的阻碍所产生的音。\n",
    "\n",
    "英语共有 24 个辅音音素，按照发音方式和部位可以分类如下：\n",
    "- 按发音部位（声道受阻的位置）分类：\n",
    "\n",
    "| 发音部位             | 音素示例                         |\n",
    "| ---------------- | ---------------------------- |\n",
    "| 双唇音（bilabial）    | /p/, /b/, /m/                |\n",
    "| 唇齿音（labiodental） | /f/, /v/                     |\n",
    "| 齿音（dental）       | /θ/（think）, /ð/（this）        |\n",
    "| 龈音（alveolar）     | /t/, /d/, /s/, /z/, /n/, /l/ |\n",
    "| 硬腭音（palatal）     | /ʃ/, /ʒ/, /tʃ/, /dʒ/, /j/    |\n",
    "| 软腭音（velar）       | /k/, /g/, /ŋ/（sing）          |\n",
    "| 声门音（glottal）     | /h/                          |\n",
    "\n",
    "- 按发音方式（气流的阻碍程度）分类：\n",
    "\n",
    "| 发音方式             | 音素示例                                        |\n",
    "| ---------------- | ------------------------------------------- |\n",
    "| 爆破音（Plosives）    | /p/, /b/, /t/, /d/, /k/, /g/                |\n",
    "| 摩擦音（Fricatives）  | /f/, /v/, /θ/, /ð/, /s/, /z/, /ʃ/, /ʒ/, /h/ |\n",
    "| 塞擦音（Affricates）  | /tʃ/, /dʒ/                                  |\n",
    "| 鼻音（Nasals）       | /m/, /n/, /ŋ/                               |\n",
    "| 近音（Approximants） | /l/, /r/, /j/, /w/                          |\n"
   ]
  },
  {
   "cell_type": "markdown",
   "id": "ce613ccc",
   "metadata": {},
   "source": [
    "# 3. <a id='toc3_'></a>[元/辅音对比总结](#toc0_)"
   ]
  },
  {
   "cell_type": "markdown",
   "id": "578087ed",
   "metadata": {},
   "source": [
    "| 项目    | 元音（Vowels）           | 辅音（Consonants）                |\n",
    "| ----- | -------------------- | ----------------------------- |\n",
    "| 发音时气流 | 不受阻碍                 | 受到阻碍                          |\n",
    "| 音素数量  | 20（12 单元音 + 8 双元音）   | 24                            |\n",
    "| 字母表现  | A, E, I, O, U（Y 有时是） | 其他字母和组合如 b, c, d, t, sh, ch 等 |\n"
   ]
  },
  {
   "cell_type": "markdown",
   "id": "a1931a45",
   "metadata": {},
   "source": [
    "# 4. <a id='toc4_'></a>[节奏 (Rhythm)](#toc0_)"
   ]
  },
  {
   "cell_type": "markdown",
   "id": "cce5a88e",
   "metadata": {},
   "source": [
    "在英语中，并不是每个词都被同样强调。在一句话中：有些词会被强调（重读）；有些词会被弱读甚至略读。\n",
    "\n",
    "| 重读词（Content Words）                           | 弱读词（Function Words）                      |\n",
    "| -------------------------------------------- | ---------------------------------------- |\n",
    "| 实词：名词、动词、形容词、副词                              | 虚词：冠词、代词、介词、连词、助动词、情态动词                  |\n",
    "| eg: **dog**, **run**, **happy**, **quickly** | eg: *a*, *the*, *is*, *at*, *can*, *and* |\n",
    "\n",
    "\n"
   ]
  },
  {
   "cell_type": "markdown",
   "id": "ad577e45",
   "metadata": {},
   "source": [
    "## 4.1. <a id='toc4_1_'></a>[如何判断句子中哪个音节重读？](#toc0_)"
   ]
  },
  {
   "cell_type": "markdown",
   "id": "b2b344ec",
   "metadata": {},
   "source": [
    "句子的节奏结构靠重读词决定。每个重读词内部也有词重音（通常查词典中会标 ˈ 的音节）。"
   ]
  },
  {
   "cell_type": "markdown",
   "id": "68ea2bed",
   "metadata": {},
   "source": [
    "## 4.2. <a id='toc4_2_'></a>[如何掌控英语句子的节奏（Rhythm）](#toc0_)"
   ]
  },
  {
   "cell_type": "markdown",
   "id": "15851078",
   "metadata": {},
   "source": [
    " “强拍”定节奏，弱拍省略或模糊，英语是“重音节奏语言”（stress-timed language）：\n",
    " - 重音词间的时间间隔尽量均等；\n",
    " - 弱读词会加快速度或连读以配合节奏。"
   ]
  },
  {
   "cell_type": "markdown",
   "id": "5e80dea4",
   "metadata": {},
   "source": [
    "尝试“拍子练习法”（类似打节奏）：\n",
    "- 每个重读词配一个“拍子”；\n",
    "- 弱读词快速连在重读词之间；\n",
    "\n",
    "example: \n",
    ">SHE (1) WANTS (2) to go to the PARK (3)\n",
    "\n",
    ">节奏感像是：DA da da da DA （像打鼓一样，有规律）"
   ]
  },
  {
   "cell_type": "markdown",
   "id": "176c3804",
   "metadata": {},
   "source": [
    "## 4.3. <a id='toc4_3_'></a>[连读、弱读、失去爆破的结合控制](#toc0_)"
   ]
  },
  {
   "cell_type": "markdown",
   "id": "77ea4a81",
   "metadata": {},
   "source": [
    "掌握句子节奏，不止是找出重音，还要注意：\n",
    "\n",
    "| 现象   | 举例                   |\n",
    "| ---- | -------------------- |\n",
    "| 连读   | get‿up → /ˈɡet‿ʌp/   |\n",
    "| 弱读   | to → /tə/；for → /fə/ |\n",
    "| 失去爆破 | want to → /ˈwɒn tə/  |\n",
    "| 同化   | good boy → /ɡʊb bɔɪ/ |\n",
    "\n",
    ">🎧 这些技巧一起使用，能让英语听起来像“音乐”一样流畅有节奏。"
   ]
  }
 ],
 "metadata": {
  "language_info": {
   "name": "python"
  }
 },
 "nbformat": 4,
 "nbformat_minor": 5
}
