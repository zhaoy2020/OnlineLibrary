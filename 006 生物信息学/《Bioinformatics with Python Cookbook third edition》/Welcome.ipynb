{
 "cells": [
  {
   "cell_type": "markdown",
   "id": "3040340b-bd0b-4266-a7a6-8b48d9a94625",
   "metadata": {},
   "source": [
    "# Python for Bionformatics\n",
    "\n",
    "## Datasets\n",
    "\n",
    "[Click here](Datasets.py) for the datasets used in the book. You only need this if you do not use the notebooks (as the notebooks will take care of the data)\n"
   ]
  },
  {
   "cell_type": "markdown",
   "id": "ee3697db-cdfe-41c2-ae06-8dc1633b5701",
   "metadata": {},
   "source": [
    "## Python and the surrounding software ecology\n",
    "\n",
    "- [Interfacing with R](Chapter01/Interfacing_R.py)\n",
    "- [R Magic](Chapter01/R_magic.py)"
   ]
  },
  {
   "cell_type": "code",
   "execution_count": null,
   "id": "5b2663bc-8efe-4bb0-9ac5-f9e2eb09cc5e",
   "metadata": {},
   "outputs": [],
   "source": []
  }
 ],
 "metadata": {
  "kernelspec": {
   "display_name": "",
   "name": ""
  },
  "language_info": {
   "name": ""
  }
 },
 "nbformat": 4,
 "nbformat_minor": 5
}
