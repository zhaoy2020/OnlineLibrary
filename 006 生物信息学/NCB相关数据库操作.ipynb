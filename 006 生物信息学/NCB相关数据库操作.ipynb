{
 "cells": [
  {
   "cell_type": "markdown",
   "metadata": {},
   "source": [
    "# 安装aspera\n",
    "```bash\n",
    "wget wget -c https://download.asperasoft.com/download/sw/connect/3.8.3/ibm-aspera-connect-3.8.3.170430-linux-g2.12-64.tar.gz\n",
    "tar -zxvf ibm-aspera-connect-3.8.3.170430-linux-g2.12-64.tar.gz\n",
    "./ibm*sh\n",
    "\n",
    "~/.aspera/connect/bin/ascp --help\n",
    "## 参数\n",
    "~/.aspera/connect/bin/ascp                          # 命令位置\n",
    "-v                                                  # 可视化\n",
    "-k 1                                                # 断点续传\n",
    "-T                                                  # 不加密（不添加此参数，可能导致无法下载）\n",
    "-l 1200m                                            # 限速1200 MB/s（限制的话可能会提高网速，实测不一定）\n",
    "-i ~/.aspera/connect/etc/asperaweb_id_dsa.openssh   # 协议位置\n",
    "anonftp@ftp.ncbi.nlm.nih.gov:/blast/db/FASTA/nt.gz  # 数据位置\n",
    ".                                                   # 下载后文件存放位置\n",
    "```\n",
    "# 下载NCBI_nt数据库\n",
    "```bash\n",
    "##命令结构（ascp -i [私钥] -T -K 1 -l [最大传输速度] [下载地址及SPA数据编号] [下载输出位置]）##\n",
    "~/.aspera/connect/bin/ascp -v -k 1 -T -l 1200m \\\n",
    "-i ~/.aspera/connect/etc/asperaweb_id_dsa.openssh \\\n",
    "anonftp@ftp.ncbi.nlm.nih.gov:/blast/db/FASTA/nt.gz ./\n",
    "```\n",
    "\n",
    "# ebi_sra数据库\n",
    "记得加上-P 33001  \n",
    "\n",
    "```bash\n",
    "~/.aspera/connect/bin/ascp  -v -k 1 -T -l 1200m \\\n",
    "-P 33001 \\\n",
    "-i ~/.aspera/connect/etc/asperaweb_id_dsa.openssh \\\n",
    "era-fasp@fasp.sra.ebi.ac.uk:/vol1/fastq/ERR011/ERR011347/ERR011347_1.fastq.gz  ./\n",
    "\n",
    "~/.aspera/connect/bin/ascp  -v -k 1 -T -l 1200m \\\n",
    "-P 33001 \\\n",
    "-i ~/.aspera/connect/etc/asperaweb_id_dsa.openssh \\\n",
    "era-fasp@fasp.sra.ebi.ac.uk:/vol1/fastq/ERR011/ERR011347/ERR011347_2.fastq.gz  ./\n",
    "```"
   ]
  }
 ],
 "metadata": {
  "language_info": {
   "name": "python"
  },
  "orig_nbformat": 4
 },
 "nbformat": 4,
 "nbformat_minor": 2
}
