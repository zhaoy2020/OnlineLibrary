{
 "cells": [
  {
   "cell_type": "markdown",
   "metadata": {},
   "source": [
    "# 扩增子测序分析"
   ]
  },
  {
   "cell_type": "markdown",
   "metadata": {},
   "source": [
    "# qiime2流程\n",
    "## install\n",
    "### 方式一："
   ]
  },
  {
   "cell_type": "code",
   "execution_count": null,
   "metadata": {},
   "outputs": [],
   "source": [
    "%%bash\n",
    "conda create -n qiime2 -y\n",
    "conda activate qiime2\n",
    "# https://anaconda.org/qiime2/qiime2\n",
    "# mamba install -y -c \"qiime2/label/r2023.7\" qiime2\n",
    "mamba install -c qiime2 qiime2 -y\n",
    "\n",
    "# test\n",
    "qiime --help"
   ]
  },
  {
   "cell_type": "markdown",
   "metadata": {},
   "source": [
    "### 方式二："
   ]
  },
  {
   "cell_type": "code",
   "execution_count": null,
   "metadata": {},
   "outputs": [],
   "source": [
    "wget https://data.qiime2.org/distro/core/qiime2-2023.7-py38-linux-conda.yml\n",
    "conda env create -n qiime2 --file qiime2-2023.7-py38-linux-conda.yml\n",
    "conda activate qiime2\n",
    "qiime --help"
   ]
  }
 ],
 "metadata": {
  "language_info": {
   "name": "python"
  },
  "orig_nbformat": 4
 },
 "nbformat": 4,
 "nbformat_minor": 2
}
