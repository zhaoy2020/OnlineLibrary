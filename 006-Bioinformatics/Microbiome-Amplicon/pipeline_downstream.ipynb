{
 "cells": [
  {
   "cell_type": "markdown",
   "id": "42acc639",
   "metadata": {},
   "source": [
    "**Table of contents**<a id='toc0_'></a>    \n",
    "- 1. [Preface](#toc1_)    \n",
    "- 2. [C++ module](#toc2_)    \n",
    "- 3. [Algorithms](#toc3_)    \n",
    "  - 3.1. [Relationship](#toc3_1_)    \n",
    "  - 3.2. [Diversity](#toc3_2_)    \n",
    "    - 3.2.1. [Richness Index](#toc3_2_1_)    \n",
    "    - 3.2.2. [Shannon Diversity Index](#toc3_2_2_)    \n",
    "    - 3.2.3. [Simpson Diversity Index](#toc3_2_3_)    \n",
    "    - 3.2.4. [Pielou's Evenness Index](#toc3_2_4_)    \n",
    "    - 3.2.5. [Bray-Curtis 相似性指数](#toc3_2_5_)    \n",
    "    - 3.2.6. [Jaccard 相似性指数](#toc3_2_6_)    \n",
    "- 4. [Diversity Analysis](#toc4_)    \n",
    "  - 4.1. [Demo datas](#toc4_1_)    \n",
    "    - 4.1.1. [OTU table](#toc4_1_1_)    \n",
    "    - 4.1.2. [Metainformation table](#toc4_1_2_)    \n",
    "  - 4.2. [analysis](#toc4_2_)    \n",
    "  - 4.3. [cuDF](#toc4_3_)    \n",
    "- 5. [Network analysis](#toc5_)    \n",
    "- 6. [Difference Analysis](#toc6_)    \n",
    "  - 6.1. [Pairwise comparison](#toc6_1_)    \n",
    "    - 6.1.1. [Parameter testing](#toc6_1_1_)    \n",
    "    - 6.1.2. [Non-parametric testing](#toc6_1_2_)    \n",
    "    - 6.1.3. [多重检验校正](#toc6_1_3_)    \n",
    "  - 6.2. [Multiple comparisons](#toc6_2_)    \n",
    "- 7. [Convert](#toc7_)    \n",
    "\n",
    "<!-- vscode-jupyter-toc-config\n",
    "\tnumbering=true\n",
    "\tanchor=true\n",
    "\tflat=false\n",
    "\tminLevel=1\n",
    "\tmaxLevel=6\n",
    "\t/vscode-jupyter-toc-config -->\n",
    "<!-- THIS CELL WILL BE REPLACED ON TOC UPDATE. DO NOT WRITE YOUR TEXT IN THIS CELL -->"
   ]
  },
  {
   "cell_type": "markdown",
   "id": "3e239cda",
   "metadata": {},
   "source": [
    "# 1. <a id='toc1_'></a>[Preface](#toc0_)"
   ]
  },
  {
   "cell_type": "markdown",
   "id": "04fa6f60",
   "metadata": {},
   "source": [
    "I plan rewritte all agrithms with PyTorch, and could run on GPU device."
   ]
  },
  {
   "cell_type": "markdown",
   "id": "d7acc099",
   "metadata": {},
   "source": [
    "<div style=\"display:flex;justify-content:center\">\n",
    "\n",
    "```mermaid\n",
    "graph TD\n",
    "    python[Python tool] --\"PyTorch, Numpy\"--> algorithm[Algorithm];\n",
    "    math[Math background] --\"Diversity\"--> algorithm[Algorithm];\n",
    "```\n",
    "\n",
    "</div>"
   ]
  },
  {
   "cell_type": "markdown",
   "id": "dd68ddc4",
   "metadata": {},
   "source": [
    "# 2. <a id='toc2_'></a>[C++ module](#toc0_)"
   ]
  },
  {
   "cell_type": "markdown",
   "id": "fe7ae87a",
   "metadata": {},
   "source": [
    "- **pearson.cpp**\n",
    "```bash\n",
    "#include <pybind11/pybind11.h>\n",
    "#include <pybind11/stl.h>\n",
    "\n",
    "...\n",
    "\n",
    "namespace py = pybind11;\n",
    "\n",
    "PYBIND11_MODULE(pearson, m) {\n",
    "    m.doc() = \"Pearson correlation using C++\";\n",
    "    m.def(\"correlation\", &pearson_correlation, \"Compute Pearson correlation\");\n",
    "}\n",
    "```\n",
    "\n",
    "- **setup.py **\n",
    "```bash\n",
    "from setuptools import setup, Extension\n",
    "import pybind11\n",
    "\n",
    "ext_modules = [\n",
    "    Extension(\n",
    "        name=\"pearson\",\n",
    "        sources=[\"pearson.cpp\"],\n",
    "        include_dirs=[pybind11.get_include()],\n",
    "        language=\"c++\",\n",
    "    )\n",
    "]\n",
    "\n",
    "setup(\n",
    "    name=\"pearson\",\n",
    "    version=\"0.1\",\n",
    "    ext_modules=ext_modules,\n",
    ")\n",
    "\n",
    "```\n",
    "\n",
    "- **setup.cfg**\n",
    "```bash\n",
    "[build_ext]\n",
    "compiler = mingw32\n",
    "```\n",
    "\n",
    "- **打包**\n",
    "```bash\n",
    "python setup.py build_ext --inplace\n",
    "\n",
    "```"
   ]
  },
  {
   "cell_type": "code",
   "execution_count": 5,
   "id": "291b3593",
   "metadata": {},
   "outputs": [],
   "source": [
    "# from pearson_module import pearson\n",
    "\n",
    "\n",
    "# x = [1, 2, 3, 4, 5]\n",
    "# y = [2, 4, 6, 8, 10]\n",
    "\n",
    "# r = pearson.correlation(x, y)\n",
    "# print(f\"Pearson correlation: {r:.4f}\")"
   ]
  },
  {
   "cell_type": "markdown",
   "id": "7e53b532",
   "metadata": {},
   "source": [
    "# 3. <a id='toc3_'></a>[Algorithms](#toc0_)"
   ]
  },
  {
   "cell_type": "markdown",
   "id": "efeeb70a",
   "metadata": {},
   "source": [
    "## 3.1. <a id='toc3_1_'></a>[Relationship](#toc0_)"
   ]
  },
  {
   "cell_type": "code",
   "execution_count": 6,
   "id": "3eeff6f6",
   "metadata": {},
   "outputs": [],
   "source": [
    "#@save\n",
    "import torch \n",
    "\n",
    "\n",
    "def pearson(X:torch.Tensor, Y:torch.Tensor) -> torch.Tensor:\n",
    "   '''\n",
    "   Pearson\n",
    "   Args:\n",
    "        X: tensor(N, )\n",
    "        Y: tensor(N, )\n",
    "    return:\n",
    "        pearson: tensor\n",
    "   '''\n",
    "   X_centered = X - X.mean()\n",
    "   Y_centered = Y - Y.mean()\n",
    "\n",
    "   covariance = (X_centered * Y_centered).sum()\n",
    "   x_std = torch.sqrt((X_centered ** 2).sum())\n",
    "   y_std = torch.sqrt(torch.pow(Y_centered, 2).sum())\n",
    "   \n",
    "   r = covariance / (x_std * y_std)\n",
    "   return r \n",
    "\n",
    "\n",
    "\n",
    "def spearman(X:torch.Tensor, Y:torch.Tensor) -> torch.Tensor:\n",
    "   '''\n",
    "   spearman\n",
    "   Args:\n",
    "       X, Y: tensor(N, )\n",
    "   Return: \n",
    "       spearman: tensor\n",
    "   '''\n",
    "   d = X - Y\n",
    "   n = len(X)\n",
    "   r = 6 * (torch.pow(d, 2).sum()) / ((n-1)*(n**2))\n",
    "   return r\n",
    "\n",
    "\n",
    "def sparcc():\n",
    "   pass "
   ]
  },
  {
   "cell_type": "code",
   "execution_count": 7,
   "id": "2764389f",
   "metadata": {},
   "outputs": [
    {
     "name": "stdout",
     "output_type": "stream",
     "text": [
      "pearson: 1.00/1.00\n",
      "spearman: 0.07/0.07\n"
     ]
    },
    {
     "data": {
      "image/png": "[encoded data removed]",
      "text/plain": [
       "<Figure size 300x300 with 1 Axes>"
      ]
     },
     "metadata": {},
     "output_type": "display_data"
    }
   ],
   "source": [
    "import matplotlib.pyplot as plt \n",
    "from scipy.stats import pearsonr, spearmanr\n",
    "\n",
    "\n",
    "# calc pearson\n",
    "X = torch.arange(10, dtype= torch.float)\n",
    "Y = torch.arange(10, dtype= torch.float) + 1\n",
    "\n",
    "\n",
    "plt.figure(figsize= (3, 3))\n",
    "plt.scatter(torch.arange(10), X, color= 'red')\n",
    "plt.scatter(torch.arange(10), Y, color= \"blue\")\n",
    "plt.title(f\"related\")\n",
    "plt.xlabel(\"X\")\n",
    "plt.ylabel(\"Y\")\n",
    "print(f\"pearson: {pearson(X, Y):.2f}/{pearsonr(X, Y).correlation:.2f}\")\n",
    "print(f\"spearman: {spearman(X, Y):.2f}/{spearman(X, Y):.2f}\")"
   ]
  },
  {
   "cell_type": "markdown",
   "id": "420040c7",
   "metadata": {},
   "source": [
    "## 3.2. <a id='toc3_2_'></a>[Diversity](#toc0_)"
   ]
  },
  {
   "cell_type": "markdown",
   "id": "f9f79fc0",
   "metadata": {},
   "source": [
    "### 3.2.1. <a id='toc3_2_1_'></a>[Richness Index](#toc0_)"
   ]
  },
  {
   "cell_type": "markdown",
   "id": "f187f3d2",
   "metadata": {},
   "source": [
    "form: S = 物种总数\n",
    "\n",
    "解释: 丰富度指数是最简单的多样性指标，仅计算群落中存在的不同物种数量，而不考虑物种的相对丰度。"
   ]
  },
  {
   "cell_type": "code",
   "execution_count": 8,
   "id": "517fc176",
   "metadata": {},
   "outputs": [],
   "source": [
    "#@save \n",
    "import torch\n",
    "\n",
    "\n",
    "def richness_index(species_counts):\n",
    "    \"\"\"\n",
    "    计算丰富度指数。\n",
    "    :param species_counts: Tensor, 每个物种的个体数。\n",
    "    :return: int, 物种总数。\n",
    "    \"\"\"\n",
    "    return torch.count_nonzero(species_counts).item()"
   ]
  },
  {
   "cell_type": "code",
   "execution_count": 9,
   "id": "6dad79be",
   "metadata": {},
   "outputs": [
    {
     "name": "stdout",
     "output_type": "stream",
     "text": [
      "Richness Index: 4\n"
     ]
    }
   ],
   "source": [
    "# 示例数据\n",
    "species_counts = torch.tensor([10, 5, 0, 3, 1])  # 第一个群落的物种个体数\n",
    "\n",
    "# 计算丰富度指数\n",
    "richness = richness_index(species_counts)\n",
    "print(\"Richness Index:\", richness)"
   ]
  },
  {
   "cell_type": "markdown",
   "id": "0abcb47c",
   "metadata": {},
   "source": [
    "form: $S_{\\text{Chao1}} = S_{\\text{obs}} + \\frac{n_1 (n_1 - 1)}{2 (n_2 + 1)}$\n",
    "\n",
    "\n",
    "其中：\n",
    "- Sobs: 观测到的物种数量\n",
    "- n1: 只出现一次的物种数量（单例）\n",
    "- n2 : 出现两次的物种数量（双例）\n",
    "\n",
    "解释: Chao1 指数利用稀有物种的频率来推测未观测到的物种数量，适合稀疏采样的数据。"
   ]
  },
  {
   "cell_type": "code",
   "execution_count": 10,
   "id": "22eefd58",
   "metadata": {},
   "outputs": [],
   "source": [
    "#@save \n",
    "def chao1_richness(species_counts):\n",
    "    \"\"\"\n",
    "    计算Chao1丰富度估计指数。\n",
    "    :param species_counts: Tensor, 每个物种的个体数。\n",
    "    :return: float, Chao1估计值。\n",
    "    \"\"\"\n",
    "    n1 = torch.sum(species_counts == 1)  # 单例物种数量\n",
    "    n2 = torch.sum(species_counts == 2)  # 双例物种数量\n",
    "    s_obs = richness_index(species_counts)  # 观测到的物种数量\n",
    "    if n2 == 0:\n",
    "        n2 = 1  # 避免除以零\n",
    "    chao1 = s_obs + (n1 * (n1 - 1)) / (2 * (n2 + 1))\n",
    "    return chao1.item()"
   ]
  },
  {
   "cell_type": "code",
   "execution_count": 11,
   "id": "77a3625e",
   "metadata": {},
   "outputs": [
    {
     "name": "stdout",
     "output_type": "stream",
     "text": [
      "Chao1 Richness Estimate: 4.0\n"
     ]
    }
   ],
   "source": [
    "# 示例数据\n",
    "species_counts = torch.tensor([10, 5, 0, 3, 1])\n",
    "\n",
    "# 计算Chao1丰富度估计指数\n",
    "chao1 = chao1_richness(species_counts)\n",
    "print(\"Chao1 Richness Estimate:\", chao1)"
   ]
  },
  {
   "cell_type": "markdown",
   "id": "2a18f1f4",
   "metadata": {},
   "source": [
    "### 3.2.2. <a id='toc3_2_2_'></a>[Shannon Diversity Index](#toc0_)"
   ]
  },
  {
   "cell_type": "markdown",
   "id": "f14ed04e",
   "metadata": {},
   "source": [
    "Shannon Diversity Index, H \n",
    "\n",
    "香农多样性指数结合了物种丰富度和均匀度： $H=-\\sum_{i=1}^Sp_i\\ln(p_i)$\n",
    "\n",
    "- $p_i$ :第 i 个物种的相对丰度\n",
    "\n",
    "解释: 香农指数衡量的是“不确定性”或信息熵。当所有物种的丰度相等时，不确定性最大；当少数物种占主导地位时，不确定性较小。"
   ]
  },
  {
   "cell_type": "code",
   "execution_count": 12,
   "id": "f3441744",
   "metadata": {},
   "outputs": [],
   "source": [
    "#@save \n",
    "def shannon_diversity_index(species_counts):\n",
    "    \"\"\"\n",
    "    计算香农多样性指数。\n",
    "    :param species_counts: Tensor, 每个物种的个体数。\n",
    "    :return: float, 香农指数值。\n",
    "    \"\"\"\n",
    "    total = torch.sum(species_counts)\n",
    "    p = species_counts / total  # 计算相对丰度\n",
    "    p = p[p > 0]  # 去掉零丰度的物种\n",
    "    h = -torch.sum(p * torch.log(p))  # 香农公式\n",
    "    return h.item()"
   ]
  },
  {
   "cell_type": "code",
   "execution_count": 13,
   "id": "7adeb109",
   "metadata": {},
   "outputs": [
    {
     "name": "stdout",
     "output_type": "stream",
     "text": [
      "Shannon Diversity Index: 1.1355507373809814\n"
     ]
    }
   ],
   "source": [
    "# 示例数据\n",
    "species_counts = torch.tensor([10, 5, 0, 3, 1])\n",
    "\n",
    "# 计算香农多样性指数\n",
    "shannon = shannon_diversity_index(species_counts)\n",
    "print(\"Shannon Diversity Index:\", shannon)"
   ]
  },
  {
   "cell_type": "markdown",
   "id": "4316d48b",
   "metadata": {},
   "source": [
    "### 3.2.3. <a id='toc3_2_3_'></a>[Simpson Diversity Index](#toc0_)"
   ]
  },
  {
   "cell_type": "markdown",
   "id": "5cf96f36",
   "metadata": {},
   "source": [
    "form: $D = \\sum_{i=1}^{S} p_i^2$\n",
    "\n",
    "or: $D' = \\frac{1}{D}$\n",
    "\n",
    "- $p_i$ :第 i 个物种的相对丰度\n",
    "\n",
    "解释: 辛普森指数衡量从群落中随机抽取两个个体属于同一物种的概率。值越小，表示多样性越高。"
   ]
  },
  {
   "cell_type": "code",
   "execution_count": 14,
   "id": "f413989a",
   "metadata": {},
   "outputs": [],
   "source": [
    "#@save \n",
    "def simpson_diversity_index(species_counts):\n",
    "    \"\"\"\n",
    "    计算辛普森多样性指数。\n",
    "    :param species_counts: Tensor, 每个物种的个体数。\n",
    "    :return: float, 辛普森指数值。\n",
    "    \"\"\"\n",
    "    total = torch.sum(species_counts)\n",
    "    p = species_counts / total  # 计算相对丰度\n",
    "    d = torch.sum(p**2)  # 辛普森公式\n",
    "    return d.item()"
   ]
  },
  {
   "cell_type": "code",
   "execution_count": 15,
   "id": "09daa63b",
   "metadata": {},
   "outputs": [
    {
     "name": "stdout",
     "output_type": "stream",
     "text": [
      "Simpson Diversity Index: 0.3739612400531769\n"
     ]
    }
   ],
   "source": [
    "# 示例数据\n",
    "species_counts = torch.tensor([10, 5, 0, 3, 1])\n",
    "\n",
    "# 计算辛普森多样性指数\n",
    "simpson = simpson_diversity_index(species_counts)\n",
    "print(\"Simpson Diversity Index:\", simpson)"
   ]
  },
  {
   "cell_type": "markdown",
   "id": "252e2746",
   "metadata": {},
   "source": [
    "### 3.2.4. <a id='toc3_2_4_'></a>[Pielou's Evenness Index](#toc0_)"
   ]
  },
  {
   "cell_type": "markdown",
   "id": "43e32c9f",
   "metadata": {},
   "source": [
    "form: $J = \\frac{H}{H_{\\text{max}}}$\n",
    "\n",
    "- H: 实际香农指数\n",
    "- Hmax =ln(S): 当所有物种丰度相等时的最大香农指数\n",
    "- S: 物种总数\n",
    "\n",
    "解释: 均匀度指数衡量物种分布的均衡性。值接近 1 表示物种分布非常均匀，值接近 0 表示分布不均。"
   ]
  },
  {
   "cell_type": "code",
   "execution_count": 16,
   "id": "7e00a357",
   "metadata": {},
   "outputs": [],
   "source": [
    "#@save \n",
    "def pielou_evenness_index(species_counts):\n",
    "    \"\"\"\n",
    "    计算皮卢均匀度指数。\n",
    "    :param species_counts: Tensor, 每个物种的个体数。\n",
    "    :return: float, 均匀度指数值。\n",
    "    \"\"\"\n",
    "    h = shannon_diversity_index(species_counts)  # 计算香农指数\n",
    "    s = richness_index(species_counts)  # 计算物种丰富度\n",
    "    h_max = torch.log(torch.tensor(s, dtype=torch.float32))  # 理论最大香农指数\n",
    "    j = h / h_max  # 均匀度公式\n",
    "    return j.item()"
   ]
  },
  {
   "cell_type": "code",
   "execution_count": 17,
   "id": "55e25ae8",
   "metadata": {},
   "outputs": [
    {
     "name": "stdout",
     "output_type": "stream",
     "text": [
      "Pielou's Evenness Index: 0.8191267251968384\n"
     ]
    }
   ],
   "source": [
    "# 示例数据\n",
    "species_counts = torch.tensor([10, 5, 0, 3, 1])\n",
    "\n",
    "# 计算皮卢均匀度指数\n",
    "pielou = pielou_evenness_index(species_counts)\n",
    "print(\"Pielou's Evenness Index:\", pielou)"
   ]
  },
  {
   "cell_type": "markdown",
   "id": "3ab29754",
   "metadata": {},
   "source": [
    "### 3.2.5. <a id='toc3_2_5_'></a>[Bray-Curtis 相似性指数](#toc0_)"
   ]
  },
  {
   "cell_type": "markdown",
   "id": "80326b3c",
   "metadata": {},
   "source": [
    "form: $BC = 1 - \\frac{\\sum_{i=1}^{S} |x_i - y_i|}{\\sum_{i=1}^{S} (x_i + y_i)}$\n",
    "\n",
    "其中：\n",
    "- xi ,yi : 分别是两个群落中第 i 个物种的丰度\n",
    "\n",
    "解释: Bray-Curtis 指数衡量两个群落物种丰度的差异。值越接近 0 表示差异越大，越接近 1 表示相似性越高。"
   ]
  },
  {
   "cell_type": "code",
   "execution_count": 18,
   "id": "362a4f25",
   "metadata": {},
   "outputs": [],
   "source": [
    "#@save \n",
    "def bray_curtis_similarity(species_counts_a, species_counts_b):\n",
    "    \"\"\"\n",
    "    计算Bray-Curtis相似性指数。\n",
    "    :param species_counts_a: Tensor, 第一个群落的物种个体数。\n",
    "    :param species_counts_b: Tensor, 第二个群落的物种个体数。\n",
    "    :return: float, Bray-Curtis相似性值。\n",
    "    \"\"\"\n",
    "    diff = torch.abs(species_counts_a - species_counts_b)\n",
    "    total = species_counts_a + species_counts_b\n",
    "    bc = 1 - torch.sum(diff) / torch.sum(total)\n",
    "    return bc.item()"
   ]
  },
  {
   "cell_type": "code",
   "execution_count": 19,
   "id": "94a49231",
   "metadata": {},
   "outputs": [
    {
     "name": "stdout",
     "output_type": "stream",
     "text": [
      "Bray-Curtis Similarity: 0.8571428656578064\n"
     ]
    }
   ],
   "source": [
    "# 示例数据\n",
    "species_counts_a = torch.tensor([10, 5, 0, 3, 1])\n",
    "species_counts_b = torch.tensor([8, 6, 0, 2, 0])\n",
    "\n",
    "# 计算Bray-Curtis相似性指数\n",
    "bray_curtis = bray_curtis_similarity(species_counts_a, species_counts_b)\n",
    "print(\"Bray-Curtis Similarity:\", bray_curtis)"
   ]
  },
  {
   "cell_type": "markdown",
   "id": "b95fb55a",
   "metadata": {},
   "source": [
    "### 3.2.6. <a id='toc3_2_6_'></a>[Jaccard 相似性指数](#toc0_)"
   ]
  },
  {
   "cell_type": "markdown",
   "id": "c1086187",
   "metadata": {},
   "source": [
    "form: $J = \\frac{|A \\cap B|}{|A \\cup B|}$\n",
    "\n",
    "其中：\n",
    "- A,B: 分别是两个群落的物种集合\n",
    "- ∣A∩B∣: 两个群落共有的物种数量\n",
    "- ∣A∪B∣: 两个群落的所有物种数量\n",
    "\n",
    "解释: Jaccard 指数衡量两个群落共享物种的比例。值越接近 1 表示相似性越高。"
   ]
  },
  {
   "cell_type": "code",
   "execution_count": 20,
   "id": "b87d421f",
   "metadata": {},
   "outputs": [],
   "source": [
    "#@save \n",
    "def jaccard_similarity(species_counts_a, species_counts_b):\n",
    "    \"\"\"\n",
    "    计算Jaccard相似性指数。\n",
    "    :param species_counts_a: Tensor, 第一个群落的物种个体数。\n",
    "    :param species_counts_b: Tensor, 第二个群落的物种个体数。\n",
    "    :return: float, Jaccard相似性值。\n",
    "    \"\"\"\n",
    "    a = set(torch.nonzero(species_counts_a, as_tuple=True)[0].tolist())\n",
    "    b = set(torch.nonzero(species_counts_b, as_tuple=True)[0].tolist())\n",
    "    # print(a, b)\n",
    "    intersection = len(a.intersection(b))\n",
    "    union = len(a.union(b))\n",
    "    jaccard = intersection / union\n",
    "    return jaccard"
   ]
  },
  {
   "cell_type": "code",
   "execution_count": 21,
   "id": "29ae25e5",
   "metadata": {},
   "outputs": [
    {
     "name": "stdout",
     "output_type": "stream",
     "text": [
      "Jaccard Similarity: 0.75\n"
     ]
    }
   ],
   "source": [
    "# 示例数据\n",
    "species_counts_a = torch.tensor([10, 5, 0, 3, 1])\n",
    "species_counts_b = torch.tensor([8, 6, 0, 2, 0])\n",
    "\n",
    "# 计算Jaccard相似性指数\n",
    "jaccard = jaccard_similarity(species_counts_a, species_counts_b)\n",
    "print(\"Jaccard Similarity:\", jaccard)"
   ]
  },
  {
   "cell_type": "markdown",
   "id": "2f0923e3",
   "metadata": {},
   "source": [
    "# 4. <a id='toc4_'></a>[Diversity Analysis](#toc0_)"
   ]
  },
  {
   "cell_type": "markdown",
   "id": "8a634e11",
   "metadata": {},
   "source": [
    "## 4.1. <a id='toc4_1_'></a>[Demo datas](#toc0_)"
   ]
  },
  {
   "cell_type": "markdown",
   "id": "74b8d344",
   "metadata": {},
   "source": [
    "### 4.1.1. <a id='toc4_1_1_'></a>[OTU table](#toc0_)"
   ]
  },
  {
   "cell_type": "code",
   "execution_count": 18,
   "id": "52260e1f",
   "metadata": {},
   "outputs": [],
   "source": [
    "# import pandas as pd\n",
    "# import numpy as np\n",
    "# import torch \n",
    "\n",
    "\n",
    "# # 设置随机种子以保证结果可重复\n",
    "# np.random.seed(42)\n",
    "\n",
    "# # 定义物种数量和样本数量\n",
    "# num_species = 100\n",
    "# num_samples = 10\n",
    "\n",
    "# # 生成物种名称和样本名称\n",
    "# species_names = [f\"Species_{i+1}\" for i in range(num_species)]\n",
    "# sample_names = [f\"Sample_{i+1}\" for i in range(num_samples)]\n",
    "\n",
    "# # 随机生成丰度数据（非负整数）\n",
    "# # abundance_data = np.random.randint(0, 100, size=(num_species, num_samples))\n",
    "# abundance_data = torch.randint(0, 100, size=(num_species, num_samples))\n",
    "\n",
    "# # 构建 DataFrame\n",
    "# abundance_table = pd.DataFrame(abundance_data, index=species_names, columns=sample_names)\n",
    "\n",
    "# # 打印生成的丰度表\n",
    "# print(\"Generated Species Abundance Table:\")\n",
    "# abundance_table"
   ]
  },
  {
   "cell_type": "code",
   "execution_count": null,
   "id": "25ef90d3",
   "metadata": {},
   "outputs": [],
   "source": [
    "import pandas as pd \n",
    "# import modin.pandas as pd\n",
    "# import cudf \n",
    "\n",
    "\n",
    "abundance_table = pd.read_table(\"results/feature_table/zotutab_raw.txt\", index_col= \"#OTU ID\").T"
   ]
  },
  {
   "cell_type": "code",
   "execution_count": 20,
   "id": "fafd2a45",
   "metadata": {},
   "outputs": [],
   "source": [
    "abundance_table.index.name = \"SampleID\""
   ]
  },
  {
   "cell_type": "code",
   "execution_count": 21,
   "id": "751692f2",
   "metadata": {},
   "outputs": [
    {
     "name": "stdout",
     "output_type": "stream",
     "text": [
      "(3660, 165993)\n"
     ]
    },
    {
     "data": {
      "text/html": [
       "<div>\n",
       "<style scoped>\n",
       "    .dataframe tbody tr th:only-of-type {\n",
       "        vertical-align: middle;\n",
       "    }\n",
       "\n",
       "    .dataframe tbody tr th {\n",
       "        vertical-align: top;\n",
       "    }\n",
       "\n",
       "    .dataframe thead th {\n",
       "        text-align: right;\n",
       "    }\n",
       "</style>\n",
       "<table border=\"1\" class=\"dataframe\">\n",
       "  <thead>\n",
       "    <tr style=\"text-align: right;\">\n",
       "      <th>#OTU ID</th>\n",
       "      <th>Zotu34128</th>\n",
       "      <th>Zotu3</th>\n",
       "      <th>Zotu155</th>\n",
       "      <th>Zotu70143</th>\n",
       "      <th>Zotu178</th>\n",
       "      <th>Zotu1224</th>\n",
       "      <th>Zotu164013</th>\n",
       "      <th>Zotu10824</th>\n",
       "      <th>Zotu170</th>\n",
       "      <th>Zotu35795</th>\n",
       "      <th>...</th>\n",
       "      <th>Zotu86187</th>\n",
       "      <th>Zotu49885</th>\n",
       "      <th>Zotu149363</th>\n",
       "      <th>Zotu119196</th>\n",
       "      <th>Zotu153049</th>\n",
       "      <th>Zotu120303</th>\n",
       "      <th>Zotu151601</th>\n",
       "      <th>Zotu165776</th>\n",
       "      <th>Zotu136577</th>\n",
       "      <th>Zotu74829</th>\n",
       "    </tr>\n",
       "    <tr>\n",
       "      <th>SampleID</th>\n",
       "      <th></th>\n",
       "      <th></th>\n",
       "      <th></th>\n",
       "      <th></th>\n",
       "      <th></th>\n",
       "      <th></th>\n",
       "      <th></th>\n",
       "      <th></th>\n",
       "      <th></th>\n",
       "      <th></th>\n",
       "      <th></th>\n",
       "      <th></th>\n",
       "      <th></th>\n",
       "      <th></th>\n",
       "      <th></th>\n",
       "      <th></th>\n",
       "      <th></th>\n",
       "      <th></th>\n",
       "      <th></th>\n",
       "      <th></th>\n",
       "      <th></th>\n",
       "    </tr>\n",
       "  </thead>\n",
       "  <tbody>\n",
       "    <tr>\n",
       "      <th>F146a</th>\n",
       "      <td>4</td>\n",
       "      <td>166</td>\n",
       "      <td>15</td>\n",
       "      <td>2</td>\n",
       "      <td>86</td>\n",
       "      <td>3</td>\n",
       "      <td>3</td>\n",
       "      <td>3</td>\n",
       "      <td>44</td>\n",
       "      <td>7</td>\n",
       "      <td>...</td>\n",
       "      <td>0</td>\n",
       "      <td>0</td>\n",
       "      <td>0</td>\n",
       "      <td>0</td>\n",
       "      <td>0</td>\n",
       "      <td>0</td>\n",
       "      <td>0</td>\n",
       "      <td>0</td>\n",
       "      <td>0</td>\n",
       "      <td>0</td>\n",
       "    </tr>\n",
       "    <tr>\n",
       "      <th>F146b</th>\n",
       "      <td>1</td>\n",
       "      <td>121</td>\n",
       "      <td>11</td>\n",
       "      <td>1</td>\n",
       "      <td>57</td>\n",
       "      <td>2</td>\n",
       "      <td>0</td>\n",
       "      <td>0</td>\n",
       "      <td>22</td>\n",
       "      <td>0</td>\n",
       "      <td>...</td>\n",
       "      <td>0</td>\n",
       "      <td>0</td>\n",
       "      <td>0</td>\n",
       "      <td>0</td>\n",
       "      <td>0</td>\n",
       "      <td>0</td>\n",
       "      <td>0</td>\n",
       "      <td>0</td>\n",
       "      <td>0</td>\n",
       "      <td>0</td>\n",
       "    </tr>\n",
       "    <tr>\n",
       "      <th>F146c</th>\n",
       "      <td>1</td>\n",
       "      <td>191</td>\n",
       "      <td>14</td>\n",
       "      <td>0</td>\n",
       "      <td>95</td>\n",
       "      <td>2</td>\n",
       "      <td>3</td>\n",
       "      <td>2</td>\n",
       "      <td>58</td>\n",
       "      <td>0</td>\n",
       "      <td>...</td>\n",
       "      <td>0</td>\n",
       "      <td>0</td>\n",
       "      <td>0</td>\n",
       "      <td>0</td>\n",
       "      <td>0</td>\n",
       "      <td>0</td>\n",
       "      <td>0</td>\n",
       "      <td>0</td>\n",
       "      <td>0</td>\n",
       "      <td>0</td>\n",
       "    </tr>\n",
       "    <tr>\n",
       "      <th>F146d</th>\n",
       "      <td>0</td>\n",
       "      <td>106</td>\n",
       "      <td>10</td>\n",
       "      <td>0</td>\n",
       "      <td>60</td>\n",
       "      <td>1</td>\n",
       "      <td>2</td>\n",
       "      <td>0</td>\n",
       "      <td>17</td>\n",
       "      <td>1</td>\n",
       "      <td>...</td>\n",
       "      <td>0</td>\n",
       "      <td>0</td>\n",
       "      <td>0</td>\n",
       "      <td>0</td>\n",
       "      <td>0</td>\n",
       "      <td>0</td>\n",
       "      <td>0</td>\n",
       "      <td>0</td>\n",
       "      <td>0</td>\n",
       "      <td>0</td>\n",
       "    </tr>\n",
       "    <tr>\n",
       "      <th>F146e</th>\n",
       "      <td>1</td>\n",
       "      <td>233</td>\n",
       "      <td>33</td>\n",
       "      <td>3</td>\n",
       "      <td>83</td>\n",
       "      <td>1</td>\n",
       "      <td>0</td>\n",
       "      <td>3</td>\n",
       "      <td>63</td>\n",
       "      <td>5</td>\n",
       "      <td>...</td>\n",
       "      <td>0</td>\n",
       "      <td>0</td>\n",
       "      <td>0</td>\n",
       "      <td>0</td>\n",
       "      <td>0</td>\n",
       "      <td>0</td>\n",
       "      <td>0</td>\n",
       "      <td>0</td>\n",
       "      <td>0</td>\n",
       "      <td>0</td>\n",
       "    </tr>\n",
       "  </tbody>\n",
       "</table>\n",
       "<p>5 rows × 165993 columns</p>\n",
       "</div>"
      ],
      "text/plain": [
       "#OTU ID   Zotu34128  Zotu3  Zotu155  Zotu70143  Zotu178  Zotu1224  Zotu164013  \\\n",
       "SampleID                                                                        \n",
       "F146a             4    166       15          2       86         3           3   \n",
       "F146b             1    121       11          1       57         2           0   \n",
       "F146c             1    191       14          0       95         2           3   \n",
       "F146d             0    106       10          0       60         1           2   \n",
       "F146e             1    233       33          3       83         1           0   \n",
       "\n",
       "#OTU ID   Zotu10824  Zotu170  Zotu35795  ...  Zotu86187  Zotu49885  \\\n",
       "SampleID                                 ...                         \n",
       "F146a             3       44          7  ...          0          0   \n",
       "F146b             0       22          0  ...          0          0   \n",
       "F146c             2       58          0  ...          0          0   \n",
       "F146d             0       17          1  ...          0          0   \n",
       "F146e             3       63          5  ...          0          0   \n",
       "\n",
       "#OTU ID   Zotu149363  Zotu119196  Zotu153049  Zotu120303  Zotu151601  \\\n",
       "SampleID                                                               \n",
       "F146a              0           0           0           0           0   \n",
       "F146b              0           0           0           0           0   \n",
       "F146c              0           0           0           0           0   \n",
       "F146d              0           0           0           0           0   \n",
       "F146e              0           0           0           0           0   \n",
       "\n",
       "#OTU ID   Zotu165776  Zotu136577  Zotu74829  \n",
       "SampleID                                     \n",
       "F146a              0           0          0  \n",
       "F146b              0           0          0  \n",
       "F146c              0           0          0  \n",
       "F146d              0           0          0  \n",
       "F146e              0           0          0  \n",
       "\n",
       "[5 rows x 165993 columns]"
      ]
     },
     "execution_count": 21,
     "metadata": {},
     "output_type": "execute_result"
    }
   ],
   "source": [
    "print(abundance_table.shape)\n",
    "abundance_table.head()"
   ]
  },
  {
   "cell_type": "code",
   "execution_count": 22,
   "id": "7e3b5ff0",
   "metadata": {},
   "outputs": [],
   "source": [
    "# wide table to long table\n",
    "long_abundance_table = pd.melt(\n",
    "    frame= abundance_table.reset_index(), \n",
    "    id_vars= ['SampleID'], \n",
    "    var_name= \"OTU\", \n",
    "    value_name= \"Counts\"\n",
    ")"
   ]
  },
  {
   "cell_type": "code",
   "execution_count": 23,
   "id": "1c8760e2",
   "metadata": {},
   "outputs": [
    {
     "name": "stdout",
     "output_type": "stream",
     "text": [
      "(607534380, 3)\n"
     ]
    },
    {
     "data": {
      "text/html": [
       "<div>\n",
       "<style scoped>\n",
       "    .dataframe tbody tr th:only-of-type {\n",
       "        vertical-align: middle;\n",
       "    }\n",
       "\n",
       "    .dataframe tbody tr th {\n",
       "        vertical-align: top;\n",
       "    }\n",
       "\n",
       "    .dataframe thead th {\n",
       "        text-align: right;\n",
       "    }\n",
       "</style>\n",
       "<table border=\"1\" class=\"dataframe\">\n",
       "  <thead>\n",
       "    <tr style=\"text-align: right;\">\n",
       "      <th></th>\n",
       "      <th>SampleID</th>\n",
       "      <th>OTU</th>\n",
       "      <th>Counts</th>\n",
       "    </tr>\n",
       "  </thead>\n",
       "  <tbody>\n",
       "    <tr>\n",
       "      <th>0</th>\n",
       "      <td>F146a</td>\n",
       "      <td>Zotu34128</td>\n",
       "      <td>4</td>\n",
       "    </tr>\n",
       "    <tr>\n",
       "      <th>1</th>\n",
       "      <td>F146b</td>\n",
       "      <td>Zotu34128</td>\n",
       "      <td>1</td>\n",
       "    </tr>\n",
       "    <tr>\n",
       "      <th>2</th>\n",
       "      <td>F146c</td>\n",
       "      <td>Zotu34128</td>\n",
       "      <td>1</td>\n",
       "    </tr>\n",
       "    <tr>\n",
       "      <th>3</th>\n",
       "      <td>F146d</td>\n",
       "      <td>Zotu34128</td>\n",
       "      <td>0</td>\n",
       "    </tr>\n",
       "    <tr>\n",
       "      <th>4</th>\n",
       "      <td>F146e</td>\n",
       "      <td>Zotu34128</td>\n",
       "      <td>1</td>\n",
       "    </tr>\n",
       "  </tbody>\n",
       "</table>\n",
       "</div>"
      ],
      "text/plain": [
       "  SampleID        OTU  Counts\n",
       "0    F146a  Zotu34128       4\n",
       "1    F146b  Zotu34128       1\n",
       "2    F146c  Zotu34128       1\n",
       "3    F146d  Zotu34128       0\n",
       "4    F146e  Zotu34128       1"
      ]
     },
     "execution_count": 23,
     "metadata": {},
     "output_type": "execute_result"
    }
   ],
   "source": [
    "print(long_abundance_table.shape)\n",
    "long_abundance_table.head()"
   ]
  },
  {
   "cell_type": "markdown",
   "id": "fc7fe73e",
   "metadata": {},
   "source": [
    "### 4.1.2. <a id='toc4_1_2_'></a>[Metainformation table](#toc0_)"
   ]
  },
  {
   "cell_type": "code",
   "execution_count": 24,
   "id": "e70d7064",
   "metadata": {},
   "outputs": [],
   "source": [
    "# import pandas as pd \n",
    "\n",
    "\n",
    "# metainfo = pd.DataFrame({\n",
    "#     \"Sample_ID\": sample_names,\n",
    "#     \"Group\": [f\"ck\" for _ in range(5)] + [f\"tr\" for _ in range(5)]\n",
    "# })\n",
    "\n",
    "# metainfo"
   ]
  },
  {
   "cell_type": "code",
   "execution_count": 25,
   "id": "e7107d8d",
   "metadata": {},
   "outputs": [],
   "source": [
    "metainfo = pd.read_excel(\"datas/metadata.xlsx\")"
   ]
  },
  {
   "cell_type": "code",
   "execution_count": 26,
   "id": "babc1917",
   "metadata": {},
   "outputs": [
    {
     "name": "stdout",
     "output_type": "stream",
     "text": [
      "(3916, 41)\n"
     ]
    },
    {
     "data": {
      "text/html": [
       "<div>\n",
       "<style scoped>\n",
       "    .dataframe tbody tr th:only-of-type {\n",
       "        vertical-align: middle;\n",
       "    }\n",
       "\n",
       "    .dataframe tbody tr th {\n",
       "        vertical-align: top;\n",
       "    }\n",
       "\n",
       "    .dataframe thead th {\n",
       "        text-align: right;\n",
       "    }\n",
       "</style>\n",
       "<table border=\"1\" class=\"dataframe\">\n",
       "  <thead>\n",
       "    <tr style=\"text-align: right;\">\n",
       "      <th></th>\n",
       "      <th>SampleID</th>\n",
       "      <th>Group</th>\n",
       "      <th>Part</th>\n",
       "      <th>Breeding</th>\n",
       "      <th>Site</th>\n",
       "      <th>City</th>\n",
       "      <th>Soil</th>\n",
       "      <th>PreviousCrop</th>\n",
       "      <th>Altitude</th>\n",
       "      <th>Mode</th>\n",
       "      <th>...</th>\n",
       "      <th>Disease</th>\n",
       "      <th>早疫病</th>\n",
       "      <th>晚疫病</th>\n",
       "      <th>疮痂病</th>\n",
       "      <th>黑痣病</th>\n",
       "      <th>粉痂病</th>\n",
       "      <th>青枯病</th>\n",
       "      <th>黑胫病</th>\n",
       "      <th>枯萎病</th>\n",
       "      <th>病毒病</th>\n",
       "    </tr>\n",
       "  </thead>\n",
       "  <tbody>\n",
       "    <tr>\n",
       "      <th>0</th>\n",
       "      <td>G1a</td>\n",
       "      <td>G1</td>\n",
       "      <td>R</td>\n",
       "      <td>Lishu6</td>\n",
       "      <td>Yunnan</td>\n",
       "      <td>Lincang</td>\n",
       "      <td>SandySoil</td>\n",
       "      <td>Rice</td>\n",
       "      <td>1050</td>\n",
       "      <td>Single</td>\n",
       "      <td>...</td>\n",
       "      <td>早疫病</td>\n",
       "      <td>3</td>\n",
       "      <td>0</td>\n",
       "      <td>0</td>\n",
       "      <td>0</td>\n",
       "      <td>0</td>\n",
       "      <td>0</td>\n",
       "      <td>0</td>\n",
       "      <td>0</td>\n",
       "      <td>0</td>\n",
       "    </tr>\n",
       "    <tr>\n",
       "      <th>1</th>\n",
       "      <td>G1b</td>\n",
       "      <td>G1</td>\n",
       "      <td>R</td>\n",
       "      <td>Lishu6</td>\n",
       "      <td>Yunnan</td>\n",
       "      <td>Lincang</td>\n",
       "      <td>SandySoil</td>\n",
       "      <td>Rice</td>\n",
       "      <td>1050</td>\n",
       "      <td>Single</td>\n",
       "      <td>...</td>\n",
       "      <td>早疫病</td>\n",
       "      <td>3</td>\n",
       "      <td>0</td>\n",
       "      <td>0</td>\n",
       "      <td>0</td>\n",
       "      <td>0</td>\n",
       "      <td>0</td>\n",
       "      <td>0</td>\n",
       "      <td>0</td>\n",
       "      <td>0</td>\n",
       "    </tr>\n",
       "    <tr>\n",
       "      <th>2</th>\n",
       "      <td>G1c</td>\n",
       "      <td>G1</td>\n",
       "      <td>R</td>\n",
       "      <td>Lishu6</td>\n",
       "      <td>Yunnan</td>\n",
       "      <td>Lincang</td>\n",
       "      <td>SandySoil</td>\n",
       "      <td>Rice</td>\n",
       "      <td>1050</td>\n",
       "      <td>Single</td>\n",
       "      <td>...</td>\n",
       "      <td>早疫病</td>\n",
       "      <td>3</td>\n",
       "      <td>0</td>\n",
       "      <td>0</td>\n",
       "      <td>0</td>\n",
       "      <td>0</td>\n",
       "      <td>0</td>\n",
       "      <td>0</td>\n",
       "      <td>0</td>\n",
       "      <td>0</td>\n",
       "    </tr>\n",
       "    <tr>\n",
       "      <th>3</th>\n",
       "      <td>G1d</td>\n",
       "      <td>G1</td>\n",
       "      <td>R</td>\n",
       "      <td>Lishu6</td>\n",
       "      <td>Yunnan</td>\n",
       "      <td>Lincang</td>\n",
       "      <td>SandySoil</td>\n",
       "      <td>Rice</td>\n",
       "      <td>1050</td>\n",
       "      <td>Single</td>\n",
       "      <td>...</td>\n",
       "      <td>早疫病</td>\n",
       "      <td>3</td>\n",
       "      <td>0</td>\n",
       "      <td>0</td>\n",
       "      <td>0</td>\n",
       "      <td>0</td>\n",
       "      <td>0</td>\n",
       "      <td>0</td>\n",
       "      <td>0</td>\n",
       "      <td>0</td>\n",
       "    </tr>\n",
       "    <tr>\n",
       "      <th>4</th>\n",
       "      <td>G1e</td>\n",
       "      <td>G1</td>\n",
       "      <td>R</td>\n",
       "      <td>Lishu6</td>\n",
       "      <td>Yunnan</td>\n",
       "      <td>Lincang</td>\n",
       "      <td>SandySoil</td>\n",
       "      <td>Rice</td>\n",
       "      <td>1050</td>\n",
       "      <td>Single</td>\n",
       "      <td>...</td>\n",
       "      <td>早疫病</td>\n",
       "      <td>3</td>\n",
       "      <td>0</td>\n",
       "      <td>0</td>\n",
       "      <td>0</td>\n",
       "      <td>0</td>\n",
       "      <td>0</td>\n",
       "      <td>0</td>\n",
       "      <td>0</td>\n",
       "      <td>0</td>\n",
       "    </tr>\n",
       "  </tbody>\n",
       "</table>\n",
       "<p>5 rows × 41 columns</p>\n",
       "</div>"
      ],
      "text/plain": [
       "  SampleID Group Part Breeding    Site     City       Soil PreviousCrop  \\\n",
       "0      G1a    G1    R   Lishu6  Yunnan  Lincang  SandySoil         Rice   \n",
       "1      G1b    G1    R   Lishu6  Yunnan  Lincang  SandySoil         Rice   \n",
       "2      G1c    G1    R   Lishu6  Yunnan  Lincang  SandySoil         Rice   \n",
       "3      G1d    G1    R   Lishu6  Yunnan  Lincang  SandySoil         Rice   \n",
       "4      G1e    G1    R   Lishu6  Yunnan  Lincang  SandySoil         Rice   \n",
       "\n",
       "   Altitude    Mode  ... Disease 早疫病 晚疫病 疮痂病 黑痣病 粉痂病 青枯病 黑胫病 枯萎病 病毒病  \n",
       "0      1050  Single  ...     早疫病   3   0   0   0   0   0   0   0   0  \n",
       "1      1050  Single  ...     早疫病   3   0   0   0   0   0   0   0   0  \n",
       "2      1050  Single  ...     早疫病   3   0   0   0   0   0   0   0   0  \n",
       "3      1050  Single  ...     早疫病   3   0   0   0   0   0   0   0   0  \n",
       "4      1050  Single  ...     早疫病   3   0   0   0   0   0   0   0   0  \n",
       "\n",
       "[5 rows x 41 columns]"
      ]
     },
     "execution_count": 26,
     "metadata": {},
     "output_type": "execute_result"
    }
   ],
   "source": [
    "print(metainfo.shape)\n",
    "metainfo.head()"
   ]
  },
  {
   "cell_type": "code",
   "execution_count": 27,
   "id": "832928ed",
   "metadata": {},
   "outputs": [],
   "source": [
    "# Unnamed: 22\n",
    "# Unnamed: 28\n",
    "# Remarks\n",
    "metainfo = metainfo[metainfo.columns[0:22]]"
   ]
  },
  {
   "cell_type": "code",
   "execution_count": 28,
   "id": "e9d34c3f",
   "metadata": {},
   "outputs": [
    {
     "data": {
      "text/html": [
       "<div>\n",
       "<style scoped>\n",
       "    .dataframe tbody tr th:only-of-type {\n",
       "        vertical-align: middle;\n",
       "    }\n",
       "\n",
       "    .dataframe tbody tr th {\n",
       "        vertical-align: top;\n",
       "    }\n",
       "\n",
       "    .dataframe thead th {\n",
       "        text-align: right;\n",
       "    }\n",
       "</style>\n",
       "<table border=\"1\" class=\"dataframe\">\n",
       "  <thead>\n",
       "    <tr style=\"text-align: right;\">\n",
       "      <th></th>\n",
       "      <th>SampleID</th>\n",
       "      <th>Group</th>\n",
       "      <th>Part</th>\n",
       "      <th>Breeding</th>\n",
       "      <th>Site</th>\n",
       "      <th>City</th>\n",
       "      <th>Soil</th>\n",
       "      <th>PreviousCrop</th>\n",
       "      <th>Altitude</th>\n",
       "      <th>Mode</th>\n",
       "      <th>...</th>\n",
       "      <th>LateBlight</th>\n",
       "      <th>CommonScab</th>\n",
       "      <th>BlackScurf</th>\n",
       "      <th>PowderyScab</th>\n",
       "      <th>BactericalWilt</th>\n",
       "      <th>BlackLeg</th>\n",
       "      <th>Wilt</th>\n",
       "      <th>Virus</th>\n",
       "      <th>DiseaseMumber</th>\n",
       "      <th>Batch</th>\n",
       "    </tr>\n",
       "  </thead>\n",
       "  <tbody>\n",
       "    <tr>\n",
       "      <th>0</th>\n",
       "      <td>G1a</td>\n",
       "      <td>G1</td>\n",
       "      <td>R</td>\n",
       "      <td>Lishu6</td>\n",
       "      <td>Yunnan</td>\n",
       "      <td>Lincang</td>\n",
       "      <td>SandySoil</td>\n",
       "      <td>Rice</td>\n",
       "      <td>1050</td>\n",
       "      <td>Single</td>\n",
       "      <td>...</td>\n",
       "      <td>0</td>\n",
       "      <td>0</td>\n",
       "      <td>0</td>\n",
       "      <td>0</td>\n",
       "      <td>0</td>\n",
       "      <td>0</td>\n",
       "      <td>0</td>\n",
       "      <td>0</td>\n",
       "      <td>1</td>\n",
       "      <td>Third</td>\n",
       "    </tr>\n",
       "    <tr>\n",
       "      <th>1</th>\n",
       "      <td>G1b</td>\n",
       "      <td>G1</td>\n",
       "      <td>R</td>\n",
       "      <td>Lishu6</td>\n",
       "      <td>Yunnan</td>\n",
       "      <td>Lincang</td>\n",
       "      <td>SandySoil</td>\n",
       "      <td>Rice</td>\n",
       "      <td>1050</td>\n",
       "      <td>Single</td>\n",
       "      <td>...</td>\n",
       "      <td>0</td>\n",
       "      <td>0</td>\n",
       "      <td>0</td>\n",
       "      <td>0</td>\n",
       "      <td>0</td>\n",
       "      <td>0</td>\n",
       "      <td>0</td>\n",
       "      <td>0</td>\n",
       "      <td>1</td>\n",
       "      <td>Third</td>\n",
       "    </tr>\n",
       "    <tr>\n",
       "      <th>2</th>\n",
       "      <td>G1c</td>\n",
       "      <td>G1</td>\n",
       "      <td>R</td>\n",
       "      <td>Lishu6</td>\n",
       "      <td>Yunnan</td>\n",
       "      <td>Lincang</td>\n",
       "      <td>SandySoil</td>\n",
       "      <td>Rice</td>\n",
       "      <td>1050</td>\n",
       "      <td>Single</td>\n",
       "      <td>...</td>\n",
       "      <td>0</td>\n",
       "      <td>0</td>\n",
       "      <td>0</td>\n",
       "      <td>0</td>\n",
       "      <td>0</td>\n",
       "      <td>0</td>\n",
       "      <td>0</td>\n",
       "      <td>0</td>\n",
       "      <td>1</td>\n",
       "      <td>Third</td>\n",
       "    </tr>\n",
       "    <tr>\n",
       "      <th>3</th>\n",
       "      <td>G1d</td>\n",
       "      <td>G1</td>\n",
       "      <td>R</td>\n",
       "      <td>Lishu6</td>\n",
       "      <td>Yunnan</td>\n",
       "      <td>Lincang</td>\n",
       "      <td>SandySoil</td>\n",
       "      <td>Rice</td>\n",
       "      <td>1050</td>\n",
       "      <td>Single</td>\n",
       "      <td>...</td>\n",
       "      <td>0</td>\n",
       "      <td>0</td>\n",
       "      <td>0</td>\n",
       "      <td>0</td>\n",
       "      <td>0</td>\n",
       "      <td>0</td>\n",
       "      <td>0</td>\n",
       "      <td>0</td>\n",
       "      <td>1</td>\n",
       "      <td>Third</td>\n",
       "    </tr>\n",
       "    <tr>\n",
       "      <th>4</th>\n",
       "      <td>G1e</td>\n",
       "      <td>G1</td>\n",
       "      <td>R</td>\n",
       "      <td>Lishu6</td>\n",
       "      <td>Yunnan</td>\n",
       "      <td>Lincang</td>\n",
       "      <td>SandySoil</td>\n",
       "      <td>Rice</td>\n",
       "      <td>1050</td>\n",
       "      <td>Single</td>\n",
       "      <td>...</td>\n",
       "      <td>0</td>\n",
       "      <td>0</td>\n",
       "      <td>0</td>\n",
       "      <td>0</td>\n",
       "      <td>0</td>\n",
       "      <td>0</td>\n",
       "      <td>0</td>\n",
       "      <td>0</td>\n",
       "      <td>1</td>\n",
       "      <td>Third</td>\n",
       "    </tr>\n",
       "  </tbody>\n",
       "</table>\n",
       "<p>5 rows × 22 columns</p>\n",
       "</div>"
      ],
      "text/plain": [
       "  SampleID Group Part Breeding    Site     City       Soil PreviousCrop  \\\n",
       "0      G1a    G1    R   Lishu6  Yunnan  Lincang  SandySoil         Rice   \n",
       "1      G1b    G1    R   Lishu6  Yunnan  Lincang  SandySoil         Rice   \n",
       "2      G1c    G1    R   Lishu6  Yunnan  Lincang  SandySoil         Rice   \n",
       "3      G1d    G1    R   Lishu6  Yunnan  Lincang  SandySoil         Rice   \n",
       "4      G1e    G1    R   Lishu6  Yunnan  Lincang  SandySoil         Rice   \n",
       "\n",
       "   Altitude    Mode  ... LateBlight CommonScab BlackScurf PowderyScab  \\\n",
       "0      1050  Single  ...          0          0          0           0   \n",
       "1      1050  Single  ...          0          0          0           0   \n",
       "2      1050  Single  ...          0          0          0           0   \n",
       "3      1050  Single  ...          0          0          0           0   \n",
       "4      1050  Single  ...          0          0          0           0   \n",
       "\n",
       "  BactericalWilt BlackLeg Wilt Virus DiseaseMumber  Batch  \n",
       "0              0        0    0     0             1  Third  \n",
       "1              0        0    0     0             1  Third  \n",
       "2              0        0    0     0             1  Third  \n",
       "3              0        0    0     0             1  Third  \n",
       "4              0        0    0     0             1  Third  \n",
       "\n",
       "[5 rows x 22 columns]"
      ]
     },
     "execution_count": 28,
     "metadata": {},
     "output_type": "execute_result"
    }
   ],
   "source": [
    "metainfo.head()"
   ]
  },
  {
   "cell_type": "code",
   "execution_count": 29,
   "id": "a905dbd8",
   "metadata": {},
   "outputs": [],
   "source": [
    "# counter = 1\n",
    "# for i in metainfo.index:\n",
    "#     if i not in abundance_table.columns:\n",
    "#         print(counter, i)\n",
    "#         counter += 1\n",
    "\n",
    "# 将metainfo和abundance_table的所有样品对应上，即据abundance table提取metainfo信息成为新的metainfo\n",
    "metainfo = metainfo[metainfo['SampleID'].isin(abundance_table.index)]"
   ]
  },
  {
   "cell_type": "code",
   "execution_count": 30,
   "id": "b42501c2",
   "metadata": {},
   "outputs": [
    {
     "name": "stdout",
     "output_type": "stream",
     "text": [
      "(3660, 22)\n"
     ]
    },
    {
     "data": {
      "text/html": [
       "<div>\n",
       "<style scoped>\n",
       "    .dataframe tbody tr th:only-of-type {\n",
       "        vertical-align: middle;\n",
       "    }\n",
       "\n",
       "    .dataframe tbody tr th {\n",
       "        vertical-align: top;\n",
       "    }\n",
       "\n",
       "    .dataframe thead th {\n",
       "        text-align: right;\n",
       "    }\n",
       "</style>\n",
       "<table border=\"1\" class=\"dataframe\">\n",
       "  <thead>\n",
       "    <tr style=\"text-align: right;\">\n",
       "      <th></th>\n",
       "      <th>SampleID</th>\n",
       "      <th>Group</th>\n",
       "      <th>Part</th>\n",
       "      <th>Breeding</th>\n",
       "      <th>Site</th>\n",
       "      <th>City</th>\n",
       "      <th>Soil</th>\n",
       "      <th>PreviousCrop</th>\n",
       "      <th>Altitude</th>\n",
       "      <th>Mode</th>\n",
       "      <th>...</th>\n",
       "      <th>LateBlight</th>\n",
       "      <th>CommonScab</th>\n",
       "      <th>BlackScurf</th>\n",
       "      <th>PowderyScab</th>\n",
       "      <th>BactericalWilt</th>\n",
       "      <th>BlackLeg</th>\n",
       "      <th>Wilt</th>\n",
       "      <th>Virus</th>\n",
       "      <th>DiseaseMumber</th>\n",
       "      <th>Batch</th>\n",
       "    </tr>\n",
       "  </thead>\n",
       "  <tbody>\n",
       "    <tr>\n",
       "      <th>0</th>\n",
       "      <td>G1a</td>\n",
       "      <td>G1</td>\n",
       "      <td>R</td>\n",
       "      <td>Lishu6</td>\n",
       "      <td>Yunnan</td>\n",
       "      <td>Lincang</td>\n",
       "      <td>SandySoil</td>\n",
       "      <td>Rice</td>\n",
       "      <td>1050</td>\n",
       "      <td>Single</td>\n",
       "      <td>...</td>\n",
       "      <td>0</td>\n",
       "      <td>0</td>\n",
       "      <td>0</td>\n",
       "      <td>0</td>\n",
       "      <td>0</td>\n",
       "      <td>0</td>\n",
       "      <td>0</td>\n",
       "      <td>0</td>\n",
       "      <td>1</td>\n",
       "      <td>Third</td>\n",
       "    </tr>\n",
       "    <tr>\n",
       "      <th>1</th>\n",
       "      <td>G1b</td>\n",
       "      <td>G1</td>\n",
       "      <td>R</td>\n",
       "      <td>Lishu6</td>\n",
       "      <td>Yunnan</td>\n",
       "      <td>Lincang</td>\n",
       "      <td>SandySoil</td>\n",
       "      <td>Rice</td>\n",
       "      <td>1050</td>\n",
       "      <td>Single</td>\n",
       "      <td>...</td>\n",
       "      <td>0</td>\n",
       "      <td>0</td>\n",
       "      <td>0</td>\n",
       "      <td>0</td>\n",
       "      <td>0</td>\n",
       "      <td>0</td>\n",
       "      <td>0</td>\n",
       "      <td>0</td>\n",
       "      <td>1</td>\n",
       "      <td>Third</td>\n",
       "    </tr>\n",
       "    <tr>\n",
       "      <th>2</th>\n",
       "      <td>G1c</td>\n",
       "      <td>G1</td>\n",
       "      <td>R</td>\n",
       "      <td>Lishu6</td>\n",
       "      <td>Yunnan</td>\n",
       "      <td>Lincang</td>\n",
       "      <td>SandySoil</td>\n",
       "      <td>Rice</td>\n",
       "      <td>1050</td>\n",
       "      <td>Single</td>\n",
       "      <td>...</td>\n",
       "      <td>0</td>\n",
       "      <td>0</td>\n",
       "      <td>0</td>\n",
       "      <td>0</td>\n",
       "      <td>0</td>\n",
       "      <td>0</td>\n",
       "      <td>0</td>\n",
       "      <td>0</td>\n",
       "      <td>1</td>\n",
       "      <td>Third</td>\n",
       "    </tr>\n",
       "    <tr>\n",
       "      <th>3</th>\n",
       "      <td>G1d</td>\n",
       "      <td>G1</td>\n",
       "      <td>R</td>\n",
       "      <td>Lishu6</td>\n",
       "      <td>Yunnan</td>\n",
       "      <td>Lincang</td>\n",
       "      <td>SandySoil</td>\n",
       "      <td>Rice</td>\n",
       "      <td>1050</td>\n",
       "      <td>Single</td>\n",
       "      <td>...</td>\n",
       "      <td>0</td>\n",
       "      <td>0</td>\n",
       "      <td>0</td>\n",
       "      <td>0</td>\n",
       "      <td>0</td>\n",
       "      <td>0</td>\n",
       "      <td>0</td>\n",
       "      <td>0</td>\n",
       "      <td>1</td>\n",
       "      <td>Third</td>\n",
       "    </tr>\n",
       "    <tr>\n",
       "      <th>4</th>\n",
       "      <td>G1e</td>\n",
       "      <td>G1</td>\n",
       "      <td>R</td>\n",
       "      <td>Lishu6</td>\n",
       "      <td>Yunnan</td>\n",
       "      <td>Lincang</td>\n",
       "      <td>SandySoil</td>\n",
       "      <td>Rice</td>\n",
       "      <td>1050</td>\n",
       "      <td>Single</td>\n",
       "      <td>...</td>\n",
       "      <td>0</td>\n",
       "      <td>0</td>\n",
       "      <td>0</td>\n",
       "      <td>0</td>\n",
       "      <td>0</td>\n",
       "      <td>0</td>\n",
       "      <td>0</td>\n",
       "      <td>0</td>\n",
       "      <td>1</td>\n",
       "      <td>Third</td>\n",
       "    </tr>\n",
       "  </tbody>\n",
       "</table>\n",
       "<p>5 rows × 22 columns</p>\n",
       "</div>"
      ],
      "text/plain": [
       "  SampleID Group Part Breeding    Site     City       Soil PreviousCrop  \\\n",
       "0      G1a    G1    R   Lishu6  Yunnan  Lincang  SandySoil         Rice   \n",
       "1      G1b    G1    R   Lishu6  Yunnan  Lincang  SandySoil         Rice   \n",
       "2      G1c    G1    R   Lishu6  Yunnan  Lincang  SandySoil         Rice   \n",
       "3      G1d    G1    R   Lishu6  Yunnan  Lincang  SandySoil         Rice   \n",
       "4      G1e    G1    R   Lishu6  Yunnan  Lincang  SandySoil         Rice   \n",
       "\n",
       "   Altitude    Mode  ... LateBlight CommonScab BlackScurf PowderyScab  \\\n",
       "0      1050  Single  ...          0          0          0           0   \n",
       "1      1050  Single  ...          0          0          0           0   \n",
       "2      1050  Single  ...          0          0          0           0   \n",
       "3      1050  Single  ...          0          0          0           0   \n",
       "4      1050  Single  ...          0          0          0           0   \n",
       "\n",
       "  BactericalWilt BlackLeg Wilt Virus DiseaseMumber  Batch  \n",
       "0              0        0    0     0             1  Third  \n",
       "1              0        0    0     0             1  Third  \n",
       "2              0        0    0     0             1  Third  \n",
       "3              0        0    0     0             1  Third  \n",
       "4              0        0    0     0             1  Third  \n",
       "\n",
       "[5 rows x 22 columns]"
      ]
     },
     "execution_count": 30,
     "metadata": {},
     "output_type": "execute_result"
    }
   ],
   "source": [
    "print(metainfo.shape)\n",
    "metainfo.head()"
   ]
  },
  {
   "cell_type": "code",
   "execution_count": 31,
   "id": "a925960d",
   "metadata": {},
   "outputs": [
    {
     "data": {
      "text/plain": [
       "736"
      ]
     },
     "execution_count": 31,
     "metadata": {},
     "output_type": "execute_result"
    }
   ],
   "source": [
    "len(metainfo[\"Group\"].unique())"
   ]
  },
  {
   "cell_type": "code",
   "execution_count": 32,
   "id": "608559f5",
   "metadata": {},
   "outputs": [],
   "source": [
    "# # 将元信息与丰度表关联\n",
    "# abundance_table_with_group = abundance_table.T.reset_index()\n",
    "# # abundance_table_with_group = abundance_table.T\n",
    "# abundance_table_with_group = abundance_table_with_group.rename(columns={\"index\": \"Sample_ID\"})\n",
    "# abundance_table_with_group = abundance_table_with_group.merge(metainfo, on=\"Sample_ID\")\n",
    "\n",
    "# # print(\"\\nAbundance Table with Group Information:\")\n",
    "# abundance_table_with_group = abundance_table_with_group.set_index(\"Sample_ID\")\n",
    "# abundance_table_with_group"
   ]
  },
  {
   "cell_type": "code",
   "execution_count": 33,
   "id": "be92ef92",
   "metadata": {},
   "outputs": [],
   "source": [
    "abundance_table_with_group = pd.merge(long_abundance_table, metainfo, on= \"SampleID\")"
   ]
  },
  {
   "cell_type": "code",
   "execution_count": 34,
   "id": "6daba956",
   "metadata": {},
   "outputs": [
    {
     "name": "stdout",
     "output_type": "stream",
     "text": [
      "(607534380, 24)\n"
     ]
    },
    {
     "data": {
      "text/html": [
       "<div>\n",
       "<style scoped>\n",
       "    .dataframe tbody tr th:only-of-type {\n",
       "        vertical-align: middle;\n",
       "    }\n",
       "\n",
       "    .dataframe tbody tr th {\n",
       "        vertical-align: top;\n",
       "    }\n",
       "\n",
       "    .dataframe thead th {\n",
       "        text-align: right;\n",
       "    }\n",
       "</style>\n",
       "<table border=\"1\" class=\"dataframe\">\n",
       "  <thead>\n",
       "    <tr style=\"text-align: right;\">\n",
       "      <th></th>\n",
       "      <th>SampleID</th>\n",
       "      <th>OTU</th>\n",
       "      <th>Counts</th>\n",
       "      <th>Group</th>\n",
       "      <th>Part</th>\n",
       "      <th>Breeding</th>\n",
       "      <th>Site</th>\n",
       "      <th>City</th>\n",
       "      <th>Soil</th>\n",
       "      <th>PreviousCrop</th>\n",
       "      <th>...</th>\n",
       "      <th>LateBlight</th>\n",
       "      <th>CommonScab</th>\n",
       "      <th>BlackScurf</th>\n",
       "      <th>PowderyScab</th>\n",
       "      <th>BactericalWilt</th>\n",
       "      <th>BlackLeg</th>\n",
       "      <th>Wilt</th>\n",
       "      <th>Virus</th>\n",
       "      <th>DiseaseMumber</th>\n",
       "      <th>Batch</th>\n",
       "    </tr>\n",
       "  </thead>\n",
       "  <tbody>\n",
       "    <tr>\n",
       "      <th>0</th>\n",
       "      <td>F146a</td>\n",
       "      <td>Zotu34128</td>\n",
       "      <td>4</td>\n",
       "      <td>F146</td>\n",
       "      <td>B</td>\n",
       "      <td>Youjin885</td>\n",
       "      <td>Heilongjiang</td>\n",
       "      <td>Qiqihar</td>\n",
       "      <td>Loam</td>\n",
       "      <td>Corn</td>\n",
       "      <td>...</td>\n",
       "      <td>0</td>\n",
       "      <td>5</td>\n",
       "      <td>0</td>\n",
       "      <td>0</td>\n",
       "      <td>0</td>\n",
       "      <td>0</td>\n",
       "      <td>0</td>\n",
       "      <td>0</td>\n",
       "      <td>2</td>\n",
       "      <td>Third</td>\n",
       "    </tr>\n",
       "    <tr>\n",
       "      <th>1</th>\n",
       "      <td>F146b</td>\n",
       "      <td>Zotu34128</td>\n",
       "      <td>1</td>\n",
       "      <td>F146</td>\n",
       "      <td>B</td>\n",
       "      <td>Youjin885</td>\n",
       "      <td>Heilongjiang</td>\n",
       "      <td>Qiqihar</td>\n",
       "      <td>Loam</td>\n",
       "      <td>Corn</td>\n",
       "      <td>...</td>\n",
       "      <td>0</td>\n",
       "      <td>5</td>\n",
       "      <td>0</td>\n",
       "      <td>0</td>\n",
       "      <td>0</td>\n",
       "      <td>0</td>\n",
       "      <td>0</td>\n",
       "      <td>0</td>\n",
       "      <td>2</td>\n",
       "      <td>Third</td>\n",
       "    </tr>\n",
       "    <tr>\n",
       "      <th>2</th>\n",
       "      <td>F146c</td>\n",
       "      <td>Zotu34128</td>\n",
       "      <td>1</td>\n",
       "      <td>F146</td>\n",
       "      <td>B</td>\n",
       "      <td>Youjin885</td>\n",
       "      <td>Heilongjiang</td>\n",
       "      <td>Qiqihar</td>\n",
       "      <td>Loam</td>\n",
       "      <td>Corn</td>\n",
       "      <td>...</td>\n",
       "      <td>0</td>\n",
       "      <td>5</td>\n",
       "      <td>0</td>\n",
       "      <td>0</td>\n",
       "      <td>0</td>\n",
       "      <td>0</td>\n",
       "      <td>0</td>\n",
       "      <td>0</td>\n",
       "      <td>2</td>\n",
       "      <td>Third</td>\n",
       "    </tr>\n",
       "    <tr>\n",
       "      <th>3</th>\n",
       "      <td>F146d</td>\n",
       "      <td>Zotu34128</td>\n",
       "      <td>0</td>\n",
       "      <td>F146</td>\n",
       "      <td>B</td>\n",
       "      <td>Youjin885</td>\n",
       "      <td>Heilongjiang</td>\n",
       "      <td>Qiqihar</td>\n",
       "      <td>Loam</td>\n",
       "      <td>Corn</td>\n",
       "      <td>...</td>\n",
       "      <td>0</td>\n",
       "      <td>5</td>\n",
       "      <td>0</td>\n",
       "      <td>0</td>\n",
       "      <td>0</td>\n",
       "      <td>0</td>\n",
       "      <td>0</td>\n",
       "      <td>0</td>\n",
       "      <td>2</td>\n",
       "      <td>Third</td>\n",
       "    </tr>\n",
       "    <tr>\n",
       "      <th>4</th>\n",
       "      <td>F146e</td>\n",
       "      <td>Zotu34128</td>\n",
       "      <td>1</td>\n",
       "      <td>F146</td>\n",
       "      <td>B</td>\n",
       "      <td>Youjin885</td>\n",
       "      <td>Heilongjiang</td>\n",
       "      <td>Qiqihar</td>\n",
       "      <td>Loam</td>\n",
       "      <td>Corn</td>\n",
       "      <td>...</td>\n",
       "      <td>0</td>\n",
       "      <td>5</td>\n",
       "      <td>0</td>\n",
       "      <td>0</td>\n",
       "      <td>0</td>\n",
       "      <td>0</td>\n",
       "      <td>0</td>\n",
       "      <td>0</td>\n",
       "      <td>2</td>\n",
       "      <td>Third</td>\n",
       "    </tr>\n",
       "    <tr>\n",
       "      <th>5</th>\n",
       "      <td>F147a</td>\n",
       "      <td>Zotu34128</td>\n",
       "      <td>0</td>\n",
       "      <td>F147</td>\n",
       "      <td>B</td>\n",
       "      <td>Youjin885</td>\n",
       "      <td>Heilongjiang</td>\n",
       "      <td>Qiqihar</td>\n",
       "      <td>Loam</td>\n",
       "      <td>Corn</td>\n",
       "      <td>...</td>\n",
       "      <td>0</td>\n",
       "      <td>3</td>\n",
       "      <td>0</td>\n",
       "      <td>0</td>\n",
       "      <td>0</td>\n",
       "      <td>0</td>\n",
       "      <td>0</td>\n",
       "      <td>0</td>\n",
       "      <td>2</td>\n",
       "      <td>Third</td>\n",
       "    </tr>\n",
       "    <tr>\n",
       "      <th>6</th>\n",
       "      <td>F147b</td>\n",
       "      <td>Zotu34128</td>\n",
       "      <td>0</td>\n",
       "      <td>F147</td>\n",
       "      <td>B</td>\n",
       "      <td>Youjin885</td>\n",
       "      <td>Heilongjiang</td>\n",
       "      <td>Qiqihar</td>\n",
       "      <td>Loam</td>\n",
       "      <td>Corn</td>\n",
       "      <td>...</td>\n",
       "      <td>0</td>\n",
       "      <td>3</td>\n",
       "      <td>0</td>\n",
       "      <td>0</td>\n",
       "      <td>0</td>\n",
       "      <td>0</td>\n",
       "      <td>0</td>\n",
       "      <td>0</td>\n",
       "      <td>2</td>\n",
       "      <td>Third</td>\n",
       "    </tr>\n",
       "    <tr>\n",
       "      <th>7</th>\n",
       "      <td>F147c</td>\n",
       "      <td>Zotu34128</td>\n",
       "      <td>1</td>\n",
       "      <td>F147</td>\n",
       "      <td>B</td>\n",
       "      <td>Youjin885</td>\n",
       "      <td>Heilongjiang</td>\n",
       "      <td>Qiqihar</td>\n",
       "      <td>Loam</td>\n",
       "      <td>Corn</td>\n",
       "      <td>...</td>\n",
       "      <td>0</td>\n",
       "      <td>3</td>\n",
       "      <td>0</td>\n",
       "      <td>0</td>\n",
       "      <td>0</td>\n",
       "      <td>0</td>\n",
       "      <td>0</td>\n",
       "      <td>0</td>\n",
       "      <td>2</td>\n",
       "      <td>Third</td>\n",
       "    </tr>\n",
       "    <tr>\n",
       "      <th>8</th>\n",
       "      <td>F147d</td>\n",
       "      <td>Zotu34128</td>\n",
       "      <td>0</td>\n",
       "      <td>F147</td>\n",
       "      <td>B</td>\n",
       "      <td>Youjin885</td>\n",
       "      <td>Heilongjiang</td>\n",
       "      <td>Qiqihar</td>\n",
       "      <td>Loam</td>\n",
       "      <td>Corn</td>\n",
       "      <td>...</td>\n",
       "      <td>0</td>\n",
       "      <td>3</td>\n",
       "      <td>0</td>\n",
       "      <td>0</td>\n",
       "      <td>0</td>\n",
       "      <td>0</td>\n",
       "      <td>0</td>\n",
       "      <td>0</td>\n",
       "      <td>2</td>\n",
       "      <td>Third</td>\n",
       "    </tr>\n",
       "    <tr>\n",
       "      <th>9</th>\n",
       "      <td>F147e</td>\n",
       "      <td>Zotu34128</td>\n",
       "      <td>2</td>\n",
       "      <td>F147</td>\n",
       "      <td>B</td>\n",
       "      <td>Youjin885</td>\n",
       "      <td>Heilongjiang</td>\n",
       "      <td>Qiqihar</td>\n",
       "      <td>Loam</td>\n",
       "      <td>Corn</td>\n",
       "      <td>...</td>\n",
       "      <td>0</td>\n",
       "      <td>3</td>\n",
       "      <td>0</td>\n",
       "      <td>0</td>\n",
       "      <td>0</td>\n",
       "      <td>0</td>\n",
       "      <td>0</td>\n",
       "      <td>0</td>\n",
       "      <td>2</td>\n",
       "      <td>Third</td>\n",
       "    </tr>\n",
       "  </tbody>\n",
       "</table>\n",
       "<p>10 rows × 24 columns</p>\n",
       "</div>"
      ],
      "text/plain": [
       "  SampleID        OTU  Counts Group Part   Breeding          Site     City  \\\n",
       "0    F146a  Zotu34128       4  F146    B  Youjin885  Heilongjiang  Qiqihar   \n",
       "1    F146b  Zotu34128       1  F146    B  Youjin885  Heilongjiang  Qiqihar   \n",
       "2    F146c  Zotu34128       1  F146    B  Youjin885  Heilongjiang  Qiqihar   \n",
       "3    F146d  Zotu34128       0  F146    B  Youjin885  Heilongjiang  Qiqihar   \n",
       "4    F146e  Zotu34128       1  F146    B  Youjin885  Heilongjiang  Qiqihar   \n",
       "5    F147a  Zotu34128       0  F147    B  Youjin885  Heilongjiang  Qiqihar   \n",
       "6    F147b  Zotu34128       0  F147    B  Youjin885  Heilongjiang  Qiqihar   \n",
       "7    F147c  Zotu34128       1  F147    B  Youjin885  Heilongjiang  Qiqihar   \n",
       "8    F147d  Zotu34128       0  F147    B  Youjin885  Heilongjiang  Qiqihar   \n",
       "9    F147e  Zotu34128       2  F147    B  Youjin885  Heilongjiang  Qiqihar   \n",
       "\n",
       "   Soil PreviousCrop  ...  LateBlight CommonScab BlackScurf PowderyScab  \\\n",
       "0  Loam         Corn  ...           0          5          0           0   \n",
       "1  Loam         Corn  ...           0          5          0           0   \n",
       "2  Loam         Corn  ...           0          5          0           0   \n",
       "3  Loam         Corn  ...           0          5          0           0   \n",
       "4  Loam         Corn  ...           0          5          0           0   \n",
       "5  Loam         Corn  ...           0          3          0           0   \n",
       "6  Loam         Corn  ...           0          3          0           0   \n",
       "7  Loam         Corn  ...           0          3          0           0   \n",
       "8  Loam         Corn  ...           0          3          0           0   \n",
       "9  Loam         Corn  ...           0          3          0           0   \n",
       "\n",
       "  BactericalWilt BlackLeg Wilt Virus DiseaseMumber  Batch  \n",
       "0              0        0    0     0             2  Third  \n",
       "1              0        0    0     0             2  Third  \n",
       "2              0        0    0     0             2  Third  \n",
       "3              0        0    0     0             2  Third  \n",
       "4              0        0    0     0             2  Third  \n",
       "5              0        0    0     0             2  Third  \n",
       "6              0        0    0     0             2  Third  \n",
       "7              0        0    0     0             2  Third  \n",
       "8              0        0    0     0             2  Third  \n",
       "9              0        0    0     0             2  Third  \n",
       "\n",
       "[10 rows x 24 columns]"
      ]
     },
     "execution_count": 34,
     "metadata": {},
     "output_type": "execute_result"
    }
   ],
   "source": [
    "print(abundance_table_with_group.shape)\n",
    "abundance_table_with_group.head(10)"
   ]
  },
  {
   "cell_type": "code",
   "execution_count": 35,
   "id": "df80f444",
   "metadata": {},
   "outputs": [],
   "source": [
    "# abundance_table_with_group.to_feather(\"datas/abundance_table_with_group.feather\")"
   ]
  },
  {
   "cell_type": "markdown",
   "id": "277aef71",
   "metadata": {},
   "source": [
    "## 4.2. <a id='toc4_2_'></a>[analysis](#toc0_)"
   ]
  },
  {
   "cell_type": "code",
   "execution_count": 36,
   "id": "d7ee9c4a",
   "metadata": {},
   "outputs": [],
   "source": [
    "col_names = [\"SampleID\", \"OTU\", \"Counts\", \"Part\"]\n",
    "\n",
    "otu_grouped = abundance_table_with_group[col_names]"
   ]
  },
  {
   "cell_type": "code",
   "execution_count": 37,
   "id": "a2095931",
   "metadata": {},
   "outputs": [],
   "source": [
    "# import cudf\n",
    "# grouped_abundance_cudf = cudf.from_pandas(abundance_table_with_group[col_names])"
   ]
  },
  {
   "cell_type": "code",
   "execution_count": null,
   "id": "37a245c4",
   "metadata": {},
   "outputs": [],
   "source": [
    "# 按分组合并数据（求和）\n",
    "grouped_abundance = otu_grouped.groupby(\"Part\").mean() # .sum()/.mean()/.max()/.min()"
   ]
  },
  {
   "cell_type": "code",
   "execution_count": null,
   "id": "799f24a4",
   "metadata": {},
   "outputs": [
    {
     "name": "stdout",
     "output_type": "stream",
     "text": [
      "\n",
      "Grouped Abundance Table (mean):\n"
     ]
    },
    {
     "ename": "NameError",
     "evalue": "name 'grouped_abundance' is not defined",
     "output_type": "error",
     "traceback": [
      "\u001b[31m---------------------------------------------------------------------------\u001b[39m",
      "\u001b[31mNameError\u001b[39m                                 Traceback (most recent call last)",
      "\u001b[36mCell\u001b[39m\u001b[36m \u001b[39m\u001b[32mIn[49]\u001b[39m\u001b[32m, line 2\u001b[39m\n\u001b[32m      1\u001b[39m \u001b[38;5;28mprint\u001b[39m(\u001b[33m\"\u001b[39m\u001b[38;5;130;01m\\n\u001b[39;00m\u001b[33mGrouped Abundance Table (mean):\u001b[39m\u001b[33m\"\u001b[39m)\n\u001b[32m----> \u001b[39m\u001b[32m2\u001b[39m \u001b[43mgrouped_abundance\u001b[49m.head()\n",
      "\u001b[31mNameError\u001b[39m: name 'grouped_abundance' is not defined"
     ]
    }
   ],
   "source": [
    "print(\"Grouped Abundance Table (mean):\")\n",
    "grouped_abundance.head()"
   ]
  },
  {
   "cell_type": "code",
   "execution_count": 47,
   "id": "5791d908",
   "metadata": {},
   "outputs": [],
   "source": [
    "builk = otu_grouped[otu_grouped[\"Part\"] == \"B\"][\"Counts\"].values.tolist()\n",
    "resph = otu_grouped[otu_grouped[\"Part\"] == \"R\"][\"Counts\"].values.tolist()"
   ]
  },
  {
   "cell_type": "code",
   "execution_count": 48,
   "id": "c96b8082",
   "metadata": {},
   "outputs": [
    {
     "data": {
      "text/plain": [
       "{'bodies': [<matplotlib.collections.FillBetweenPolyCollection at 0x7f732c0f7c10>,\n",
       "  <matplotlib.collections.FillBetweenPolyCollection at 0x7f732ce24b50>],\n",
       " 'cmaxes': <matplotlib.collections.LineCollection at 0x7f732dad8f50>,\n",
       " 'cmins': <matplotlib.collections.LineCollection at 0x7f732c888910>,\n",
       " 'cbars': <matplotlib.collections.LineCollection at 0x7f732c88b9d0>}"
      ]
     },
     "execution_count": 48,
     "metadata": {},
     "output_type": "execute_result"
    },
    {
     "data": {
      "image/png": "[encoded data removed]",
      "text/plain": [
       "<Figure size 640x480 with 1 Axes>"
      ]
     },
     "metadata": {},
     "output_type": "display_data"
    }
   ],
   "source": [
    "import matplotlib.pyplot as plt \n",
    "plt.violinplot([builk, resph])"
   ]
  },
  {
   "cell_type": "code",
   "execution_count": 38,
   "id": "4cb526be",
   "metadata": {},
   "outputs": [
    {
     "data": {
      "text/plain": [
       "<Axes: xlabel='Part', ylabel='Counts'>"
      ]
     },
     "execution_count": 38,
     "metadata": {},
     "output_type": "execute_result"
    },
    {
     "data": {
      "image/png": "[encoded data removed]",
      "text/plain": [
       "<Figure size 640x480 with 1 Axes>"
      ]
     },
     "metadata": {},
     "output_type": "display_data"
    }
   ],
   "source": [
    "import seaborn as sns \n",
    "sns.boxplot(data= otu_grouped, x= \"Part\", y= \"Counts\")"
   ]
  },
  {
   "cell_type": "code",
   "execution_count": null,
   "id": "302c29b5",
   "metadata": {},
   "outputs": [],
   "source": [
    "sns.violinplot(data= otu_grouped, x= \"Part\", y= \"Counts\")"
   ]
  },
  {
   "cell_type": "code",
   "execution_count": null,
   "id": "54daef33",
   "metadata": {},
   "outputs": [],
   "source": [
    "# # 自定义聚合函数\n",
    "# custom_aggregation = abundance_table_with_group.groupby(\"Group\").agg(\n",
    "#     {\"Species_1\": \"sum\", \"Species_2\": \"mean\", \"Species_3\": \"max\", \"Species_4\": \"min\"}\n",
    "# )\n",
    "\n",
    "# print(\"\\nCustom Aggregation Results:\")\n",
    "# print(custom_aggregation)"
   ]
  },
  {
   "cell_type": "code",
   "execution_count": null,
   "id": "6b617eec",
   "metadata": {},
   "outputs": [],
   "source": [
    "grouped_abundance.T"
   ]
  },
  {
   "cell_type": "code",
   "execution_count": null,
   "id": "4c7e8c6d",
   "metadata": {},
   "outputs": [],
   "source": [
    "abundance_table = grouped_abundance.T"
   ]
  },
  {
   "cell_type": "code",
   "execution_count": null,
   "id": "e973512c",
   "metadata": {},
   "outputs": [],
   "source": [
    "import pandas as pd\n",
    "import numpy as np\n",
    "\n",
    "\n",
    "# 计算每个样本的阿尔法多样性\n",
    "alpha_diversity = []\n",
    "for sample in abundance_table.columns:\n",
    "    counts = abundance_table[sample].values\n",
    "    counts = torch.tensor(counts, dtype= torch.float)\n",
    "    richness = richness_index(counts)\n",
    "    shannon = shannon_diversity_index(counts)\n",
    "    simpson = simpson_diversity_index(counts)\n",
    "    pielou = pielou_evenness_index(counts)\n",
    "    chao1 = chao1_richness(counts)\n",
    "    alpha_diversity.append({\n",
    "        \"Sample\": sample,\n",
    "        \"Richness\": richness,\n",
    "        \"Shannon\": shannon,\n",
    "        \"Simpson\": simpson,\n",
    "        \"Pielou\": pielou,\n",
    "        \"Chao1\": chao1\n",
    "    })\n",
    "\n",
    "\n",
    "alpha_df = pd.DataFrame(alpha_diversity)\n",
    "print(\"\\nAlpha Diversity Results:\")\n",
    "alpha_df"
   ]
  },
  {
   "cell_type": "code",
   "execution_count": null,
   "id": "fe82fa28",
   "metadata": {},
   "outputs": [],
   "source": [
    "# 计算贝塔多样性（两两样本之间的相似性）\n",
    "sample_names = abundance_table.columns\n",
    "\n",
    "beta_diversity = []\n",
    "for i, sample_a in enumerate(sample_names):\n",
    "    for j, sample_b in enumerate(sample_names):\n",
    "        if i < j:\n",
    "            # counts_a = abundance_table[sample_a].values\n",
    "            # counts_b = abundance_table[sample_b].values\n",
    "            counts_a, counts_b = [torch.tensor(abundance_table[sample_col].values, dtype=torch.float) for sample_col in [sample_a, sample_b]]\n",
    "            bray_curtis = bray_curtis_similarity(counts_a, counts_b)\n",
    "            jaccard = jaccard_similarity(counts_a, counts_b)\n",
    "            beta_diversity.append({\n",
    "                \"Pair\": f\"{sample_a}-{sample_b}\",\n",
    "                \"Bray-Curtis\": bray_curtis,\n",
    "                \"Jaccard\": jaccard\n",
    "            })\n",
    "\n",
    "beta_df = pd.DataFrame(beta_diversity)\n",
    "\n",
    "print(\"\\nBeta Diversity Results:\")\n",
    "beta_df"
   ]
  },
  {
   "cell_type": "markdown",
   "id": "81366cb9",
   "metadata": {},
   "source": [
    "## 4.3. <a id='toc4_3_'></a>[cuDF](#toc0_)"
   ]
  },
  {
   "cell_type": "code",
   "execution_count": null,
   "id": "aeb7b7c6",
   "metadata": {},
   "outputs": [],
   "source": [
    "# del otu_table\n",
    "\n",
    "# import cupy\n",
    "# import gc\n",
    "# gc.collect()\n",
    "# cupy.get_default_memory_pool().free_all_blocks()"
   ]
  },
  {
   "cell_type": "markdown",
   "id": "030779b6",
   "metadata": {},
   "source": [
    "# 5. <a id='toc5_'></a>[Network analysis](#toc0_)"
   ]
  },
  {
   "cell_type": "code",
   "execution_count": null,
   "id": "a6940b31",
   "metadata": {},
   "outputs": [],
   "source": [
    "abundance_table\n",
    "# abundance_table_with_group"
   ]
  },
  {
   "cell_type": "code",
   "execution_count": null,
   "id": "623e90d7",
   "metadata": {},
   "outputs": [],
   "source": [
    "feature_table = abundance_table"
   ]
  },
  {
   "cell_type": "code",
   "execution_count": null,
   "id": "ba193289",
   "metadata": {},
   "outputs": [],
   "source": [
    "# 过滤低丰度物种（例如在少于 50% 的样本中出现且总丰度小于 10 的物种）\n",
    "min_samples = int(len(feature_table.columns) * 0.5)  # 至少出现在一半的样本中\n",
    "min_abundance = 10  # 总丰度至少为 10\n",
    "\n",
    "filtered_table = feature_table[\n",
    "    (feature_table > 0).sum(axis=1) >= min_samples\n",
    "]\n",
    "filtered_table = filtered_table[filtered_table.sum(axis=1) >= min_abundance]\n",
    "\n",
    "print(\"\\nFiltered Feature Table:\")\n",
    "filtered_table"
   ]
  },
  {
   "cell_type": "markdown",
   "id": "b97283bf",
   "metadata": {},
   "source": [
    "常用的方法包括相对丰度标准化（每列除以总丰度）或对数转换。"
   ]
  },
  {
   "cell_type": "code",
   "execution_count": null,
   "id": "7810f280",
   "metadata": {},
   "outputs": [],
   "source": [
    "import numpy as np\n",
    "\n",
    "\n",
    "# 计算相对丰度\n",
    "relative_abundance = filtered_table.div(filtered_table.sum(axis=0), axis=1)\n",
    "\n",
    "# 对数转换（加 1 避免除零错误）\n",
    "log_transformed = relative_abundance.applymap(lambda x: np.log(x + 1))\n",
    "\n",
    "print(\"\\nLog-transformed Relative Abundance Table:\")\n",
    "log_transformed"
   ]
  },
  {
   "cell_type": "code",
   "execution_count": null,
   "id": "f4d57dc8",
   "metadata": {},
   "outputs": [],
   "source": [
    "from scipy.stats import spearmanr\n",
    "\n",
    "# 计算斯皮尔曼相关矩阵\n",
    "correlation_matrix, _ = spearmanr(log_transformed.T)\n",
    "\n",
    "# 转换为 DataFrame\n",
    "correlation_df = pd.DataFrame(correlation_matrix, index=log_transformed.index, columns=log_transformed.index)\n",
    "\n",
    "print(\"\\nSpearman Correlation Matrix:\")\n",
    "correlation_df"
   ]
  },
  {
   "cell_type": "markdown",
   "id": "ebc273ca",
   "metadata": {},
   "source": [
    "只保留相关性高于某个阈值的边（例如 0.7）。"
   ]
  },
  {
   "cell_type": "code",
   "execution_count": null,
   "id": "70d8b77c",
   "metadata": {},
   "outputs": [],
   "source": [
    "threshold = 0.7\n",
    "\n",
    "# 提取显著相关的边\n",
    "edges = []\n",
    "for i in range(len(correlation_df)):\n",
    "    for j in range(i + 1, len(correlation_df)):\n",
    "        if abs(correlation_df.iloc[i, j]) >= threshold:\n",
    "            edges.append((correlation_df.index[i], correlation_df.columns[j], correlation_df.iloc[i, j]))\n",
    "\n",
    "print(\"\\nSignificant Edges:\")\n",
    "for edge in edges:\n",
    "    print(edge)"
   ]
  },
  {
   "cell_type": "code",
   "execution_count": null,
   "id": "963f0783",
   "metadata": {},
   "outputs": [],
   "source": [
    "from igraph import Graph\n",
    "\n",
    "# 创建无向图\n",
    "g = Graph()\n",
    "\n",
    "# 添加节点\n",
    "g.add_vertices(log_transformed.index)\n",
    "\n",
    "# 添加边和权重\n",
    "edge_list = [(log_transformed.index.get_loc(u), log_transformed.index.get_loc(v)) for u, v, w in edges]\n",
    "weights = [abs(w) for u, v, w in edges]\n",
    "g.add_edges(edge_list)\n",
    "g.es[\"weight\"] = weights\n",
    "\n",
    "print(f\"\\nNumber of Nodes: {g.vcount()}\")\n",
    "print(f\"Number of Edges: {g.ecount()}\")"
   ]
  },
  {
   "cell_type": "markdown",
   "id": "f34c1929",
   "metadata": {},
   "source": [
    "计算节点的度中心性和介数中心性。"
   ]
  },
  {
   "cell_type": "code",
   "execution_count": null,
   "id": "50479a42",
   "metadata": {},
   "outputs": [],
   "source": [
    "# 计算度中心性\n",
    "degree_centrality = g.degree()\n",
    "\n",
    "# 计算介数中心性\n",
    "betweenness_centrality = g.betweenness(weights= \"weight\")\n",
    "\n",
    "print(\"\\nDegree Centrality:\")\n",
    "print(degree_centrality)\n",
    "print(\"\\nBetweenness Centrality:\")\n",
    "print(betweenness_centrality)"
   ]
  },
  {
   "cell_type": "markdown",
   "id": "e2ac31a3",
   "metadata": {},
   "source": [
    "检测网络中的模块（社区）结构。"
   ]
  },
  {
   "cell_type": "code",
   "execution_count": null,
   "id": "1b6c6bbd",
   "metadata": {},
   "outputs": [],
   "source": [
    "# 检测模块\n",
    "communities = g.community_multilevel(weights=\"weight\")\n",
    "\n",
    "print(\"\\nCommunities:\")\n",
    "for i, community in enumerate(communities):\n",
    "    print(f\"Community {i+1}: {[log_transformed.index[node] for node in community]}\")"
   ]
  },
  {
   "cell_type": "code",
   "execution_count": null,
   "id": "4786f98d",
   "metadata": {},
   "outputs": [],
   "source": [
    "from igraph import plot\n",
    "import matplotlib.pyplot as plt \n",
    "\n",
    "\n",
    "\n",
    "# 设置节点大小和颜色\n",
    "node_size = [deg * 5 for deg in degree_centrality]\n",
    "node_color = [\"lightblue\" if c == 0 else \"orange\" for c in communities.membership]\n",
    "\n",
    "# 绘制网络图\n",
    "fig, ax = plt.subplots(figsize= (5, 5))\n",
    "plot(\n",
    "    g,\n",
    "    vertex_size=node_size,\n",
    "    vertex_color=node_color,\n",
    "    vertex_label=g.vs[\"name\"],\n",
    "    vertex_label_size = 5,\n",
    "    edge_width=[abs(w) * 2 for w in g.es[\"weight\"]],\n",
    "    layout=g.layout(\"fr\"),  # 使用 Fruchterman-Reingold 布局\n",
    "    bbox=(800, 800),\n",
    "    margin=50,\n",
    "    target= ax\n",
    ")\n",
    "plt.tight_layout()"
   ]
  },
  {
   "cell_type": "markdown",
   "id": "3b8352bb",
   "metadata": {},
   "source": [
    "# 6. <a id='toc6_'></a>[Difference Analysis](#toc0_)"
   ]
  },
  {
   "cell_type": "markdown",
   "id": "1bb9c5c2",
   "metadata": {},
   "source": [
    "## 6.1. <a id='toc6_1_'></a>[Pairwise comparison](#toc0_)"
   ]
  },
  {
   "cell_type": "markdown",
   "id": "83a0406c",
   "metadata": {},
   "source": [
    "### 6.1.1. <a id='toc6_1_1_'></a>[Parameter testing](#toc0_)"
   ]
  },
  {
   "cell_type": "markdown",
   "id": "13d182b0",
   "metadata": {},
   "source": [
    "- t 检验:\n",
    "  - 适用于两组样本的比较。\n",
    "  - 假设数据服从正态分布且方差齐性。\n",
    "  - 使用 scipy.stats.ttest_ind 实现。"
   ]
  },
  {
   "cell_type": "code",
   "execution_count": null,
   "id": "caea5b4a",
   "metadata": {},
   "outputs": [],
   "source": [
    "from scipy.stats import ttest_ind\n",
    "\n",
    "\n",
    "# Extract the Sample_ID according to metainfo group information.\n",
    "ck = feature_table.loc[:, metainfo[metainfo['Group'] == \"ck\"][\"Sample_ID\"]]\n",
    "tr = feature_table.loc[:, metainfo[metainfo['Group'] == \"tr\"][\"Sample_ID\"]]"
   ]
  },
  {
   "cell_type": "code",
   "execution_count": null,
   "id": "47bff0c2",
   "metadata": {},
   "outputs": [],
   "source": [
    "\n",
    "# Perform t-test per specie between ck and tr.\n",
    "results = []\n",
    "for specie in feature_table.index:\n",
    "    t_stat, t_pvalue = ttest_ind(ck.loc[specie], tr.loc[specie])\n",
    "    results.append({\n",
    "        \"Species\": specie,\n",
    "        \"T-statistic\": t_stat, \n",
    "        \"P-value\": t_pvalue\n",
    "    })\n",
    "\n",
    "results_df = pd.DataFrame(results)\n",
    "results_df"
   ]
  },
  {
   "cell_type": "markdown",
   "id": "1a055aa3",
   "metadata": {},
   "source": [
    "### 6.1.2. <a id='toc6_1_2_'></a>[Non-parametric testing](#toc0_)"
   ]
  },
  {
   "cell_type": "markdown",
   "id": "f95d3a2d",
   "metadata": {},
   "source": [
    "- Wilcoxon 秩和检验\n",
    "  - 非参数检验，不要求数据正态分布。\n",
    "  - 适用于两组样本的比较。\n",
    "  - 使用 scipy.stats.ranksums 或 mannwhitneyu 实现。"
   ]
  },
  {
   "cell_type": "code",
   "execution_count": null,
   "id": "96f0f3ca",
   "metadata": {},
   "outputs": [],
   "source": [
    "from scipy.stats import ranksums\n",
    "\n",
    "\n",
    "wilcoxon_results = []\n",
    "for specie in feature_table.index:\n",
    "    stat, p_value = ranksums(ck.loc[specie], tr.loc[specie])\n",
    "    wilcoxon_results.append({\n",
    "        \"Species\": specie,\n",
    "        \"Statistic\": stat, \n",
    "        \"P-value\": p_value\n",
    "    })\n",
    "\n",
    "wilcoxon_results_df = pd.DataFrame(wilcoxon_results)\n",
    "wilcoxon_results_df"
   ]
  },
  {
   "cell_type": "markdown",
   "id": "28407046",
   "metadata": {},
   "source": [
    "### 6.1.3. <a id='toc6_1_3_'></a>[多重检验校正](#toc0_)"
   ]
  },
  {
   "cell_type": "markdown",
   "id": "6afd5446",
   "metadata": {},
   "source": [
    "使用 Benjamini-Hochberg 方法（FDR 校正）控制假阳性率。"
   ]
  },
  {
   "cell_type": "code",
   "execution_count": null,
   "id": "a8c5429b",
   "metadata": {},
   "outputs": [],
   "source": [
    "from statsmodels.stats.multitest import multipletests\n",
    "\n",
    "\n",
    "# FDR for t-test.\n",
    "reject, pvals_corrected, _, _ = multipletests(results_df['P-value'], alpha= 0.05, method= \"fdr_bh\")\n",
    "results_df[\"Adjusted P-value\"] = pvals_corrected\n",
    "results_df[\"Significant\"] = reject\n",
    "\n",
    "results_df"
   ]
  },
  {
   "cell_type": "code",
   "execution_count": null,
   "id": "58410a58",
   "metadata": {},
   "outputs": [],
   "source": [
    "import seaborn as sns \n",
    "import matplotlib.pyplot as plt \n",
    "\n",
    "\n",
    "# Extract those significant species.\n",
    "significant_species = results_df[ results_df[\"Significant\"] != \"True\"]['Species'] # Just a demo.\n",
    "\n",
    "# significant_species\n",
    "# Draw the plot.\n",
    "for specie in significant_species:\n",
    "    plt.figure(figsize= (3, 2))\n",
    "    sns.boxplot(\n",
    "        x= metainfo[\"Group\"],\n",
    "        y= feature_table.loc[specie],\n",
    "        # palette= \"Set2\"\n",
    "    )\n",
    "    plt.title(f\"Differential abundance of {specie}\")\n",
    "    plt.ylable(\"Abundance\")\n"
   ]
  },
  {
   "cell_type": "markdown",
   "id": "b0b3584c",
   "metadata": {},
   "source": [
    "## 6.2. <a id='toc6_2_'></a>[Multiple comparisons](#toc0_)"
   ]
  },
  {
   "cell_type": "code",
   "execution_count": null,
   "id": "d848d68a",
   "metadata": {},
   "outputs": [],
   "source": [
    "import importlib.util \n",
    "import sys \n",
    "\n",
    "module_name = \"skbio\"\n",
    "module_path = r\"D:\\ProgramFiles\\miniconda3\\envs\\skbio\\Lib\\site-packages\\\"\n",
    "\n",
    "from skbio.stats.composition import ancom\n",
    "\n",
    "\n"
   ]
  },
  {
   "cell_type": "code",
   "execution_count": null,
   "id": "be074f8c",
   "metadata": {},
   "outputs": [],
   "source": [
    "import skbio"
   ]
  },
  {
   "cell_type": "markdown",
   "id": "8d9d02ee",
   "metadata": {},
   "source": [
    "# 7. <a id='toc7_'></a>[Convert](#toc0_)"
   ]
  },
  {
   "cell_type": "code",
   "execution_count": null,
   "id": "9360cae5",
   "metadata": {},
   "outputs": [],
   "source": [
    "from deepspore.ipynb2py import ipynb2 \n",
    "\n",
    "\n",
    "ipynb2(ipynb_file= \"./pipeline.ipynb\", label= \"#@save\", output_file= \"./utils/amplicon.py\")"
   ]
  }
 ],
 "metadata": {
  "kernelspec": {
   "display_name": "deeplearning",
   "language": "python",
   "name": "python3"
  },
  "language_info": {
   "codemirror_mode": {
    "name": "ipython",
    "version": 3
   },
   "file_extension": ".py",
   "mimetype": "text/x-python",
   "name": "python",
   "nbconvert_exporter": "python",
   "pygments_lexer": "ipython3",
   "version": "3.11.11"
  }
 },
 "nbformat": 4,
 "nbformat_minor": 5
}
