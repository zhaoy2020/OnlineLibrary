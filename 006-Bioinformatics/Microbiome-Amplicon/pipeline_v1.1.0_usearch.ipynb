{
 "cells": [
  {
   "cell_type": "markdown",
   "id": "7d6e9015",
   "metadata": {},
   "source": [
    "**Table of contents**<a id='toc0_'></a>    \n",
    "- 1. [代码库](#toc1_)    \n",
    "- 2. [前言](#toc2_)    \n",
    "- 3. [目标片段选择 + 扩增原理](#toc3_)    \n",
    "- 4. [测序原理](#toc4_)    \n",
    "- 5. [原始数据质控（QC）](#toc5_)    \n",
    "- 6. [OTU聚类 vs. ASV推断：本质区别](#toc6_)    \n",
    "  - 6.1. [合并双端](#toc6_1_)    \n",
    "  - 6.2. [混合所有样本的reads](#toc6_2_)    \n",
    "  - 6.3. [过滤和去冗余](#toc6_3_)    \n",
    "  - 6.4. [去除嵌合体](#toc6_4_)    \n",
    "  - 6.5. [OTU 聚类](#toc6_5_)    \n",
    "  - 6.6. [ASV 降噪](#toc6_6_)    \n",
    "  - 6.7. [OTU QC](#toc6_7_)    \n",
    "    - 6.7.1. [ Align to a reference database](#toc6_7_1_)    \n",
    "      - 6.7.1.1. [OTU 随机采样](#toc6_7_1_1_)    \n",
    "      - 6.7.1.2. [ZOTU 随机采样](#toc6_7_1_2_)    \n",
    "      - 6.7.1.3. [检查](#toc6_7_1_3_)    \n",
    "    - 6.7.2. [All OTUs should appear in the OTU table](#toc6_7_2_)    \n",
    "    - 6.7.3. [OTU coverage](#toc6_7_3_)    \n",
    "    - 6.7.4. [Primer-binding sequences](#toc6_7_4_)    \n",
    "  - 6.8. [构建特征表](#toc6_8_)    \n",
    "  - 6.9. [抽样标准化](#toc6_9_)    \n",
    "  - 6.10. [Diversity](#toc6_10_)    \n",
    "    - 6.10.1. [alpha diversity](#toc6_10_1_)    \n",
    "    - 6.10.2. [beta diversity](#toc6_10_2_)    \n",
    "  - 6.11. [稀释曲线](#toc6_11_)    \n",
    "    - 6.11.1. [Octave plots for visualizing alpha diversity](#toc6_11_1_)    \n",
    "    - 6.11.2. [Alpha diversity rarefaction curve](#toc6_11_2_)    \n",
    "  - 6.12. [物种注释](#toc6_12_)    \n",
    "    - 6.12.1. [Algorithm](#toc6_12_1_)    \n",
    "    - 6.12.2. [Rank annotation](#toc6_12_2_)    \n",
    "- 7. [附录](#toc7_)    \n",
    "  - 7.1. [格式化数据库](#toc7_1_)    \n",
    "    - 7.1.1. [SINTAX downloads](#toc7_1_1_)    \n",
    "    - 7.1.2. [makeudb_sintax](#toc7_1_2_)    \n",
    "    - 7.1.3. [makeudb_usearch](#toc7_1_3_)    \n",
    "    - 7.1.4. [makeudb_ublast](#toc7_1_4_)    \n",
    "    - 7.1.5. [Check the information of dbs](#toc7_1_5_)    \n",
    "    - 7.1.6. [udb2fasta](#toc7_1_6_)    \n",
    "- 8. [Convert to html](#toc8_)    \n",
    "\n",
    "<!-- vscode-jupyter-toc-config\n",
    "\tnumbering=true\n",
    "\tanchor=true\n",
    "\tflat=false\n",
    "\tminLevel=1\n",
    "\tmaxLevel=6\n",
    "\t/vscode-jupyter-toc-config -->\n",
    "<!-- THIS CELL WILL BE REPLACED ON TOC UPDATE. DO NOT WRITE YOUR TEXT IN THIS CELL -->"
   ]
  },
  {
   "cell_type": "markdown",
   "id": "7e60313b",
   "metadata": {},
   "source": [
    "# 1. <a id='toc1_'></a>[代码库](#toc0_)"
   ]
  },
  {
   "cell_type": "code",
   "execution_count": 1,
   "id": "f492481d",
   "metadata": {},
   "outputs": [],
   "source": [
    "from deepspore.ipynb2py  import ipynb2"
   ]
  },
  {
   "cell_type": "code",
   "execution_count": 2,
   "id": "abeec837",
   "metadata": {},
   "outputs": [
    {
     "name": "stdout",
     "output_type": "stream",
     "text": [
      "Saved 45 block(s) to ./scripts/pipeline.sh\n"
     ]
    }
   ],
   "source": [
    "# Convert the Jupyter notebook labeled with \"%%bash\" to a bash script\n",
    "ipynb2(ipynb_file= \"./pipeline_v1.1.0_usearch.ipynb\", label= \"%%bash\", output_file= \"./scripts/pipeline.sh\")"
   ]
  },
  {
   "cell_type": "code",
   "execution_count": 3,
   "id": "bd1ce389",
   "metadata": {},
   "outputs": [],
   "source": [
    "import pandas as pd \n",
    "metainfo = pd.read_excel(\"datas/metadata.xlsx\")"
   ]
  },
  {
   "cell_type": "code",
   "execution_count": 4,
   "id": "c97d6cdf",
   "metadata": {},
   "outputs": [
    {
     "data": {
      "application/vnd.microsoft.datawrangler.viewer.v0+json": {
       "columns": [
        {
         "name": "index",
         "rawType": "int64",
         "type": "integer"
        },
        {
         "name": "SampleID",
         "rawType": "object",
         "type": "string"
        },
        {
         "name": "Group",
         "rawType": "object",
         "type": "string"
        },
        {
         "name": "Part",
         "rawType": "object",
         "type": "string"
        },
        {
         "name": "Breeding",
         "rawType": "object",
         "type": "string"
        },
        {
         "name": "Site",
         "rawType": "object",
         "type": "string"
        },
        {
         "name": "City",
         "rawType": "object",
         "type": "string"
        },
        {
         "name": "Soil",
         "rawType": "object",
         "type": "string"
        },
        {
         "name": "PreviousCrop",
         "rawType": "object",
         "type": "string"
        },
        {
         "name": "Altitude",
         "rawType": "int64",
         "type": "integer"
        },
        {
         "name": "Mode",
         "rawType": "object",
         "type": "string"
        },
        {
         "name": "Scale",
         "rawType": "object",
         "type": "string"
        },
        {
         "name": "EarlyBlight",
         "rawType": "object",
         "type": "unknown"
        },
        {
         "name": "LateBlight",
         "rawType": "object",
         "type": "unknown"
        },
        {
         "name": "CommonScab",
         "rawType": "object",
         "type": "unknown"
        },
        {
         "name": "BlackScurf",
         "rawType": "object",
         "type": "unknown"
        },
        {
         "name": "PowderyScab",
         "rawType": "object",
         "type": "unknown"
        },
        {
         "name": "BactericalWilt",
         "rawType": "object",
         "type": "unknown"
        },
        {
         "name": "BlackLeg",
         "rawType": "object",
         "type": "unknown"
        },
        {
         "name": "Wilt",
         "rawType": "object",
         "type": "unknown"
        },
        {
         "name": "Virus",
         "rawType": "object",
         "type": "unknown"
        },
        {
         "name": "DiseaseMumber",
         "rawType": "object",
         "type": "unknown"
        },
        {
         "name": "Batch",
         "rawType": "object",
         "type": "string"
        },
        {
         "name": "Unnamed: 22",
         "rawType": "float64",
         "type": "float"
        },
        {
         "name": "Laminating",
         "rawType": "object",
         "type": "unknown"
        },
        {
         "name": "NorthLatitude",
         "rawType": "object",
         "type": "unknown"
        },
        {
         "name": "EastLongitude",
         "rawType": "object",
         "type": "unknown"
        },
        {
         "name": "Date",
         "rawType": "object",
         "type": "unknown"
        },
        {
         "name": "Remarks",
         "rawType": "object",
         "type": "unknown"
        },
        {
         "name": "Unnamed: 28",
         "rawType": "float64",
         "type": "float"
        },
        {
         "name": "Altitude(detailed)",
         "rawType": "int64",
         "type": "integer"
        },
        {
         "name": "Soil.1",
         "rawType": "object",
         "type": "string"
        },
        {
         "name": "Disease",
         "rawType": "object",
         "type": "string"
        },
        {
         "name": "早疫病",
         "rawType": "object",
         "type": "unknown"
        },
        {
         "name": "晚疫病",
         "rawType": "object",
         "type": "unknown"
        },
        {
         "name": "疮痂病",
         "rawType": "object",
         "type": "unknown"
        },
        {
         "name": "黑痣病",
         "rawType": "object",
         "type": "unknown"
        },
        {
         "name": "粉痂病",
         "rawType": "object",
         "type": "unknown"
        },
        {
         "name": "青枯病",
         "rawType": "object",
         "type": "unknown"
        },
        {
         "name": "黑胫病",
         "rawType": "object",
         "type": "unknown"
        },
        {
         "name": "枯萎病",
         "rawType": "object",
         "type": "unknown"
        },
        {
         "name": "病毒病",
         "rawType": "object",
         "type": "unknown"
        }
       ],
       "ref": "824cee6c-d4b4-4ed7-800e-e035c864037d",
       "rows": [
        [
         "0",
         "G1a",
         "G1",
         "R",
         "Lishu6",
         "Yunnan",
         "Lincang",
         "SandySoil",
         "Rice",
         "1050",
         "Single",
         "Large",
         "3",
         "0",
         "0",
         "0",
         "0",
         "0",
         "0",
         "0",
         "0",
         "1",
         "Third",
         null,
         null,
         null,
         null,
         "2018-03-01 00:00:00",
         null,
         null,
         "1050",
         "沙土",
         "早疫病",
         "3",
         "0",
         "0",
         "0",
         "0",
         "0",
         "0",
         "0",
         "0"
        ],
        [
         "1",
         "G1b",
         "G1",
         "R",
         "Lishu6",
         "Yunnan",
         "Lincang",
         "SandySoil",
         "Rice",
         "1050",
         "Single",
         "Large",
         "3",
         "0",
         "0",
         "0",
         "0",
         "0",
         "0",
         "0",
         "0",
         "1",
         "Third",
         null,
         null,
         null,
         null,
         "2018-03-01 00:00:00",
         null,
         null,
         "1050",
         "沙土",
         "早疫病",
         "3",
         "0",
         "0",
         "0",
         "0",
         "0",
         "0",
         "0",
         "0"
        ],
        [
         "2",
         "G1c",
         "G1",
         "R",
         "Lishu6",
         "Yunnan",
         "Lincang",
         "SandySoil",
         "Rice",
         "1050",
         "Single",
         "Large",
         "3",
         "0",
         "0",
         "0",
         "0",
         "0",
         "0",
         "0",
         "0",
         "1",
         "Third",
         null,
         null,
         null,
         null,
         "2018-03-01 00:00:00",
         null,
         null,
         "1050",
         "沙土",
         "早疫病",
         "3",
         "0",
         "0",
         "0",
         "0",
         "0",
         "0",
         "0",
         "0"
        ],
        [
         "3",
         "G1d",
         "G1",
         "R",
         "Lishu6",
         "Yunnan",
         "Lincang",
         "SandySoil",
         "Rice",
         "1050",
         "Single",
         "Large",
         "3",
         "0",
         "0",
         "0",
         "0",
         "0",
         "0",
         "0",
         "0",
         "1",
         "Third",
         null,
         null,
         null,
         null,
         "2018-03-01 00:00:00",
         null,
         null,
         "1050",
         "沙土",
         "早疫病",
         "3",
         "0",
         "0",
         "0",
         "0",
         "0",
         "0",
         "0",
         "0"
        ],
        [
         "4",
         "G1e",
         "G1",
         "R",
         "Lishu6",
         "Yunnan",
         "Lincang",
         "SandySoil",
         "Rice",
         "1050",
         "Single",
         "Large",
         "3",
         "0",
         "0",
         "0",
         "0",
         "0",
         "0",
         "0",
         "0",
         "1",
         "Third",
         null,
         null,
         null,
         null,
         "2018-03-01 00:00:00",
         null,
         null,
         "1050",
         "沙土",
         "早疫病",
         "3",
         "0",
         "0",
         "0",
         "0",
         "0",
         "0",
         "0",
         "0"
        ]
       ],
       "shape": {
        "columns": 41,
        "rows": 5
       }
      },
      "text/html": [
       "<div>\n",
       "<style scoped>\n",
       "    .dataframe tbody tr th:only-of-type {\n",
       "        vertical-align: middle;\n",
       "    }\n",
       "\n",
       "    .dataframe tbody tr th {\n",
       "        vertical-align: top;\n",
       "    }\n",
       "\n",
       "    .dataframe thead th {\n",
       "        text-align: right;\n",
       "    }\n",
       "</style>\n",
       "<table border=\"1\" class=\"dataframe\">\n",
       "  <thead>\n",
       "    <tr style=\"text-align: right;\">\n",
       "      <th></th>\n",
       "      <th>SampleID</th>\n",
       "      <th>Group</th>\n",
       "      <th>Part</th>\n",
       "      <th>Breeding</th>\n",
       "      <th>Site</th>\n",
       "      <th>City</th>\n",
       "      <th>Soil</th>\n",
       "      <th>PreviousCrop</th>\n",
       "      <th>Altitude</th>\n",
       "      <th>Mode</th>\n",
       "      <th>...</th>\n",
       "      <th>Disease</th>\n",
       "      <th>早疫病</th>\n",
       "      <th>晚疫病</th>\n",
       "      <th>疮痂病</th>\n",
       "      <th>黑痣病</th>\n",
       "      <th>粉痂病</th>\n",
       "      <th>青枯病</th>\n",
       "      <th>黑胫病</th>\n",
       "      <th>枯萎病</th>\n",
       "      <th>病毒病</th>\n",
       "    </tr>\n",
       "  </thead>\n",
       "  <tbody>\n",
       "    <tr>\n",
       "      <th>0</th>\n",
       "      <td>G1a</td>\n",
       "      <td>G1</td>\n",
       "      <td>R</td>\n",
       "      <td>Lishu6</td>\n",
       "      <td>Yunnan</td>\n",
       "      <td>Lincang</td>\n",
       "      <td>SandySoil</td>\n",
       "      <td>Rice</td>\n",
       "      <td>1050</td>\n",
       "      <td>Single</td>\n",
       "      <td>...</td>\n",
       "      <td>早疫病</td>\n",
       "      <td>3</td>\n",
       "      <td>0</td>\n",
       "      <td>0</td>\n",
       "      <td>0</td>\n",
       "      <td>0</td>\n",
       "      <td>0</td>\n",
       "      <td>0</td>\n",
       "      <td>0</td>\n",
       "      <td>0</td>\n",
       "    </tr>\n",
       "    <tr>\n",
       "      <th>1</th>\n",
       "      <td>G1b</td>\n",
       "      <td>G1</td>\n",
       "      <td>R</td>\n",
       "      <td>Lishu6</td>\n",
       "      <td>Yunnan</td>\n",
       "      <td>Lincang</td>\n",
       "      <td>SandySoil</td>\n",
       "      <td>Rice</td>\n",
       "      <td>1050</td>\n",
       "      <td>Single</td>\n",
       "      <td>...</td>\n",
       "      <td>早疫病</td>\n",
       "      <td>3</td>\n",
       "      <td>0</td>\n",
       "      <td>0</td>\n",
       "      <td>0</td>\n",
       "      <td>0</td>\n",
       "      <td>0</td>\n",
       "      <td>0</td>\n",
       "      <td>0</td>\n",
       "      <td>0</td>\n",
       "    </tr>\n",
       "    <tr>\n",
       "      <th>2</th>\n",
       "      <td>G1c</td>\n",
       "      <td>G1</td>\n",
       "      <td>R</td>\n",
       "      <td>Lishu6</td>\n",
       "      <td>Yunnan</td>\n",
       "      <td>Lincang</td>\n",
       "      <td>SandySoil</td>\n",
       "      <td>Rice</td>\n",
       "      <td>1050</td>\n",
       "      <td>Single</td>\n",
       "      <td>...</td>\n",
       "      <td>早疫病</td>\n",
       "      <td>3</td>\n",
       "      <td>0</td>\n",
       "      <td>0</td>\n",
       "      <td>0</td>\n",
       "      <td>0</td>\n",
       "      <td>0</td>\n",
       "      <td>0</td>\n",
       "      <td>0</td>\n",
       "      <td>0</td>\n",
       "    </tr>\n",
       "    <tr>\n",
       "      <th>3</th>\n",
       "      <td>G1d</td>\n",
       "      <td>G1</td>\n",
       "      <td>R</td>\n",
       "      <td>Lishu6</td>\n",
       "      <td>Yunnan</td>\n",
       "      <td>Lincang</td>\n",
       "      <td>SandySoil</td>\n",
       "      <td>Rice</td>\n",
       "      <td>1050</td>\n",
       "      <td>Single</td>\n",
       "      <td>...</td>\n",
       "      <td>早疫病</td>\n",
       "      <td>3</td>\n",
       "      <td>0</td>\n",
       "      <td>0</td>\n",
       "      <td>0</td>\n",
       "      <td>0</td>\n",
       "      <td>0</td>\n",
       "      <td>0</td>\n",
       "      <td>0</td>\n",
       "      <td>0</td>\n",
       "    </tr>\n",
       "    <tr>\n",
       "      <th>4</th>\n",
       "      <td>G1e</td>\n",
       "      <td>G1</td>\n",
       "      <td>R</td>\n",
       "      <td>Lishu6</td>\n",
       "      <td>Yunnan</td>\n",
       "      <td>Lincang</td>\n",
       "      <td>SandySoil</td>\n",
       "      <td>Rice</td>\n",
       "      <td>1050</td>\n",
       "      <td>Single</td>\n",
       "      <td>...</td>\n",
       "      <td>早疫病</td>\n",
       "      <td>3</td>\n",
       "      <td>0</td>\n",
       "      <td>0</td>\n",
       "      <td>0</td>\n",
       "      <td>0</td>\n",
       "      <td>0</td>\n",
       "      <td>0</td>\n",
       "      <td>0</td>\n",
       "      <td>0</td>\n",
       "    </tr>\n",
       "  </tbody>\n",
       "</table>\n",
       "<p>5 rows × 41 columns</p>\n",
       "</div>"
      ],
      "text/plain": [
       "  SampleID Group Part Breeding    Site     City       Soil PreviousCrop  \\\n",
       "0      G1a    G1    R   Lishu6  Yunnan  Lincang  SandySoil         Rice   \n",
       "1      G1b    G1    R   Lishu6  Yunnan  Lincang  SandySoil         Rice   \n",
       "2      G1c    G1    R   Lishu6  Yunnan  Lincang  SandySoil         Rice   \n",
       "3      G1d    G1    R   Lishu6  Yunnan  Lincang  SandySoil         Rice   \n",
       "4      G1e    G1    R   Lishu6  Yunnan  Lincang  SandySoil         Rice   \n",
       "\n",
       "   Altitude    Mode  ... Disease 早疫病 晚疫病 疮痂病 黑痣病 粉痂病 青枯病 黑胫病 枯萎病 病毒病  \n",
       "0      1050  Single  ...     早疫病   3   0   0   0   0   0   0   0   0  \n",
       "1      1050  Single  ...     早疫病   3   0   0   0   0   0   0   0   0  \n",
       "2      1050  Single  ...     早疫病   3   0   0   0   0   0   0   0   0  \n",
       "3      1050  Single  ...     早疫病   3   0   0   0   0   0   0   0   0  \n",
       "4      1050  Single  ...     早疫病   3   0   0   0   0   0   0   0   0  \n",
       "\n",
       "[5 rows x 41 columns]"
      ]
     },
     "execution_count": 4,
     "metadata": {},
     "output_type": "execute_result"
    }
   ],
   "source": [
    "metainfo.head()"
   ]
  },
  {
   "cell_type": "markdown",
   "id": "de7eb9de",
   "metadata": {},
   "source": [
    "# 2. <a id='toc2_'></a>[前言](#toc0_)"
   ]
  },
  {
   "cell_type": "markdown",
   "id": "67f235b0",
   "metadata": {},
   "source": [
    "The pipeline of aplicon analysis:\n",
    "\n",
    "```python\n",
    "样本 → DNA提取 → PCR扩增（16S/ITS）→ 测序 → 数据质控 → 去噪 → 特征表构建 → 分类注释 → 多样性分析 → 统计推断/可视化\n",
    "```\n",
    "\n",
    "usearch是一个非常有用的扩增子分析工具，软件本身使用仅有3.4M大小，但是功能非常多。\n",
    "\n",
    "<div >\n",
    "    <imga >\n",
    "</div>"
   ]
  },
  {
   "cell_type": "markdown",
   "id": "103b391e",
   "metadata": {},
   "source": [
    "利用USEARCH获得特征表的路线图：\n",
    "\n",
    "<div style=\"display:flex;justify-content:center\">\n",
    "\n",
    "```mermaid\n",
    "---\n",
    "title: USEARCH流程图\n",
    "---\n",
    "flowchart TD;\n",
    "    A([raw reads])--\"-fastq_mergepairs @\"-->B[merged reads] --\"-fastq_filter\"--> C[filtered reads];\n",
    "    C[filtered reads] --\"-fastx_uniques\"--> D[dereplicated reads];\n",
    "    D --\"-cluster_otus\"--> OTU[OTU];\n",
    "    D --\"-unoise3\"--> ZOTU[ZOTU];\n",
    "    OTU --> fasta([reference sequences]);\n",
    "    ZOTU --> fasta;\n",
    "    fasta -. \"-otutab/zotutab\" .-> feature_table[OTU/ZOTU table];\n",
    "    B -.-> feature_table;\n",
    "    feature_table --\"-otutab_rare\"--> normalized([normalized table]);\n",
    "    fasta --\"-sintax\"--> taxa[taxanomy];\n",
    "```\n",
    "\n",
    "</div>"
   ]
  },
  {
   "cell_type": "markdown",
   "id": "cea3f2db",
   "metadata": {},
   "source": [
    "# 3. <a id='toc3_'></a>[目标片段选择 + 扩增原理](#toc0_)"
   ]
  },
  {
   "cell_type": "markdown",
   "id": "1a4fd7b2",
   "metadata": {},
   "source": [
    "- 目标：用一段高变异但保守两端的基因区域（如16S V3-V4）来代表一个微生物“种”的指纹。\n",
    "\n",
    "- 原理：\n",
    "  - 16S rRNA 是细菌保守基因，V区（可变）能分辨不同种；\n",
    "  - PCR 用通用引物扩增这些区段；\n",
    "  - 条形码（barcode）用于样本区分，接头用于测序平台识别。\n",
    "\n",
    "✅ 总结：PCR 在 amplicon 中的角色\n",
    "\n",
    "| 内容           | 描述              |\n",
    "| ------------ | --------------- |\n",
    "| 🔧 **必须步骤？** | 是的，为富集目标区片段用于测序 |\n",
    "| 🧪 **最大好处？** | 低成本、特异富集、高通量处理  |\n",
    "| ⚠️ **主要缺点？** | 引物偏倚、嵌合体、失真丰度   |\n",
    "\n",
    "🧬 替代方法对比（不使用 PCR）：\n",
    "\n",
    "| 方法                   | 是否 PCR | 特点             | 成本       |\n",
    "| -------------------- | ------ | -------------- | -------- |\n",
    "| Amplicon（如 16S）      | ✅ 有    | 成本低、靶向高        | 💰 低     |\n",
    "| Shotgun Metagenomics | ❌ 无    | 全基因组测序，包含所有微生物 | 💰💰💰 高 |\n",
    "| Metatranscriptomics  | ❌ 无    | 表达层面测序（mRNA）   | 💰💰 高   |\n",
    "\n",
    "✅ 常见扩增区域（以 16S rRNA 为例）\n",
    "\n",
    "| 扩增区域  | 常用引物       | 长度（bp） | 特点                | 分辨率 | 缺点                        |\n",
    "| ----- | ---------- | ------ | ----------------- | --- | ------------------------- |\n",
    "| V1–V2 | 27F/338R   | \\~300  | 适用于口腔、皮肤等         | 高   | 偏倚严重                      |\n",
    "| V3–V4 | 341F/806R  | \\~460  | 常用于肠道、土壤等，文献最多    | 中等  | 一定偏倚                      |\n",
    "| V4    | 515F/806R  | \\~250  | 通用性强，Illumina 最兼容 | 中等  | 分辨率略低                     |\n",
    "| V4–V5 | 515F/926R  | \\~400  | 更好区分部分属           | 中   | 偏倚存在                      |\n",
    "| V5–V7 | 785F/1175R | \\~390  | 动物/人体样本常用         | 较高  | 偏倚较高                      |\n",
    "| 全长16S | 27F/1492R  | \\~1500 | 三代测序使用，最高分辨率      | 高   | 成本高，仅限三代测序平台（如PacBio/ONT） |\n",
    "\n",
    "🧬 如何选择扩增区域？\n",
    "\n",
    "| 样本来源     | 推荐区域          | 理由             |\n",
    "| -------- | ------------- | -------------- |\n",
    "| 肠道（人或动物） | V3–V4 / V4    | 数据多，分辨率和通用性均衡  |\n",
    "| 土壤、水环境   | V4 / V4–V5    | 通用性强，适合复杂微生物群落 |\n",
    "| 皮肤、口腔    | V1–V2 / V3–V4 | 能更好捕获部分常见菌属    |\n",
    "| 极端环境     | 全长16S         | 更好物种判定（如新种）    |\n",
    "| 共生菌、低丰度菌 | 全长16S         | 需高分辨率定位分类位次    |\n"
   ]
  },
  {
   "cell_type": "markdown",
   "id": "6323078c",
   "metadata": {},
   "source": [
    "# 4. <a id='toc4_'></a>[测序原理](#toc0_)"
   ]
  },
  {
   "cell_type": "markdown",
   "id": "4e4da000",
   "metadata": {},
   "source": [
    "- 平台如 Illumina：\n",
    "  - 每条读长通常为 250–300 bp，双端（forward & reverse）；\n",
    "  - 实际构成的序列需拼接（paired-end merging）。"
   ]
  },
  {
   "cell_type": "code",
   "execution_count": 1,
   "id": "663aa11f",
   "metadata": {},
   "outputs": [
    {
     "name": "stdout",
     "output_type": "stream",
     "text": [
      "The total number of files:\n",
      "7334\n",
      "F146a_1.fastq\n",
      "F146a_2.fastq\n",
      "F146b_1.fastq\n",
      "F146b_2.fastq\n",
      "F146c_1.fastq\n"
     ]
    }
   ],
   "source": [
    "%%bash \n",
    "# ls ../china_16s/datas/raw/ | wc -l\n",
    "# ls ../china_16s/datas/raw/ | head -n 5\n",
    "\n",
    "echo \"The total number of files:\"\n",
    "ls ./datas/raw/ | wc -l\n",
    "ls ./datas/raw/ | head -n 5"
   ]
  },
  {
   "cell_type": "markdown",
   "id": "12bc944c",
   "metadata": {},
   "source": [
    "# 5. <a id='toc5_'></a>[原始数据质控（QC）](#toc0_)"
   ]
  },
  {
   "cell_type": "markdown",
   "id": "df69bfea",
   "metadata": {},
   "source": [
    "- 目的：去除低质量和无用序列，确保后续分析可靠。\n",
    "  - 去接头/引物：使用工具如 cutadapt；\n",
    "  - 去低质量序列：依据Phred值（错误概率）进行裁剪或过滤；\n",
    "  - 合并双端（如 vsearch --fastq_mergepairs）；\n",
    "  - 去除嵌合体：嵌合体是PCR中产生的假序列（如DADA2的removeBimeraDenovo）；\n",
    "  - 去噪（denoising）：提取真实的ASV序列（见下一节）；"
   ]
  },
  {
   "cell_type": "code",
   "execution_count": null,
   "id": "48c13ccd",
   "metadata": {},
   "outputs": [],
   "source": [
    "%%bash \n",
    "# store the QC results\n",
    "mkdir -p ./results/qc\n",
    "ls -h ./results/qc"
   ]
  },
  {
   "cell_type": "markdown",
   "id": "e8908ff6",
   "metadata": {},
   "source": [
    "# 6. <a id='toc6_'></a>[OTU聚类 vs. ASV推断：本质区别](#toc0_)"
   ]
  },
  {
   "cell_type": "markdown",
   "id": "12d21a03",
   "metadata": {},
   "source": [
    "什么是OTUs？ [https://drive5.com/usearch/manual/otus.html](https://drive5.com/usearch/manual/otus.html)\n",
    "\n",
    "OTU概念：\n",
    "- Sneath-Sokal OTUs: OTU（操作分类单元）的概念由Peter Sneath和Robert Sokal于1960年代提出，奠定了数值分类学的基础（参见《数值分类学》，Sneath & Sokal, 1973）。其目标是通过可量化的性状（如1=存在，0=缺失）对生物进行分组，构建反映进化关系的层级分类体系。Sneath-Sokal OTU通过聚合聚类算法将相似性状的生物合并，这是生物分类中早期聚类应用的范例。当时尚无DNA测序技术，也未发展出邻接法或最大似然法等系统发育树构建方法。\n",
    "- 97%相似度阈值的起源：16S测序中，OTU通常以97%相似度为阈值。据考证，该阈值首次由Stackebrandt和Goebel（1994）提出，他们发现16S序列97%的相似度对应70%的DNA重关联值，而后者当时被用作细菌物种的界定标准（Wayne等，1987）。\n",
    "- 现代OTU相似度阈值：2014年分析：使用CD-HIT聚类全长16S序列时，最佳阈值为98.5%（Yarza等，2014），但CD-HIT的相似度定义存在争议（Edgar，2018a）。近期研究：全长序列最佳阈值为99%，V4区为100%（Edgar，2018b）。\n",
    "\n",
    "16S序列聚类的发展：\n",
    "- FastGroup（2001）：首个16S聚类工具，采用类似UCLUST的贪婪算法，默认97%阈值（引用Stackebrandt & Goebel）。\n",
    "- DOTUR/mothur（2005/2009）：支持最大/最小/平均连接聚类，提出“97%相似度≈物种，95%≈属，80%≈门”（但存在争议）。\n",
    "- QIIME（2010）：长期沿用97%阈值，早期依赖CD-HIT，后改用UCLUST，但未明确说明OTU的生物学解释。\n",
    "\n",
    "OTU的定义：\n",
    "- OTU作为物种的临时定义：在1990年代，通过PCR和Sanger测序获取的16S序列较少，数据库比对受限。此时，97%聚类的OTU可作为临时物种单元，前提是忽略实验误差（当时普遍未考虑PCR嵌合体等问题）。\n",
    "- 高通量测序时代的OTU：NGS的短读长和高错误率导致传统聚类产生大量虚假OTU，夸大多样性估计（如Huse等，2010）。截至2017年，QIIME等工具在模拟群落（含20物种）中仍报告成百上千的OTU，凸显误差问题。\n",
    "- Westcott与Schloss的OTU定义：二人提出基于马修斯相关系数（MCC）的OTU定义，但实际应用存在缺陷。\n",
    "\n",
    "\n",
    "\n",
    "| 方法 | OTU (Operational Taxonomic Units) | ASV (Amplicon Sequence Variants) |\n",
    "|------|----------------------------------|----------------------------------|\n",
    "| **原理** | 基于相似度聚类（如97%） | 基于统计误差模型去噪，识别每一个真实变异 |\n",
    "| **工具** | USEARCH, VSEARCH | DADA2, Deblur |\n",
    "| **缺点** | 分辨率低，可能混淆近缘种 | 精度高，但计算要求高 |\n",
    "| **本质** | 聚类简化 | 精确建模变异与测序误差 |\n",
    "\n",
    "🔍 推荐：ASV 现为主流做法，适用于精细多样性分析。\n",
    "\n",
    "OTU的解释性：\n",
    "- 目标模糊：许多研究未明确说明OTU的构建目标或验证方法。\n",
    "- 模拟群落的局限性：\n",
    "  - 参数过拟合：在测试数据上调参可能导致虚假“准确性”。\n",
    "  - 错误归因：OTU数量正确可能因“错误抵消”（如嵌合体与物种混叠）。\n",
    "- 统计误导：未校正的误差可能导致假显著性（Taylor，1997）。\n",
    "\n",
    "USEARCH中的OTU定义：\n",
    "- UPARSE-OTU（cluster_otus命令）：报告正确生物序列的子集，满足（a）OTU间相似度<97%，（b）OTU序列为局部最丰富。\n",
    "- **ZOTUs（unoise3命令）：**\n",
    "  - 目标：报告所有真实生物序列（零半径OTU），可区分近缘菌株（97% OTU会合并）。\n",
    "  - 优势：保留菌株水平变异（如旁系同源或菌株差异）。\n",
    "\n",
    "USEARCH中的OTU丰度的计算：\n",
    "- ZOTUs：计数源自同一模板序列的所有读长（含错误读长）\n",
    "- 97% OTUs：计数与OTU序列≥97%相似的所有生物序列读长。若读长匹配多个OTU，按最高相似度分配（相同则按文件顺序）。\n",
    "- 关键问题：读长丰度与物种真实丰度相关性极低，生物学解释需谨慎。\n",
    "\n",
    "总结\n",
    "- OTU的本质取决于算法目标：\n",
    "  - UPARSE-OTU：保守近似物种，牺牲分辨率换取稳定性。\n",
    "  - ZOTUs：追求真实序列，揭示菌株级变异但需处理更高复杂度。\n",
    "- **生物学推论必须结合方法局限性，避免过度解读统计显著性。**"
   ]
  },
  {
   "cell_type": "markdown",
   "id": "277ad638",
   "metadata": {},
   "source": [
    "## 6.1. <a id='toc6_1_'></a>[合并双端](#toc0_)"
   ]
  },
  {
   "cell_type": "markdown",
   "id": "edb1974c",
   "metadata": {},
   "source": [
    "- 合并双端reads是将两个方向的测序数据拼接成一个完整的序列。\n",
    "- 去除引物\n",
    "- 质量控制\n",
    "- 等等\n",
    "\n",
    "```bash\n",
    "# demo:\n",
    "usearch -fastq_mergepairs Mock_R1.fq -fastqout merged.fq -relabel @ # @ 用当前文件名作为序列名，并以\".\"加数字形式命名序列\n",
    "usearch \n",
    "```"
   ]
  },
  {
   "cell_type": "code",
   "execution_count": 18,
   "id": "70cd6bc6",
   "metadata": {},
   "outputs": [],
   "source": [
    "%%bash \n",
    "# store the merge read results \n",
    "mkdir -p ./results/merge_read"
   ]
  },
  {
   "cell_type": "code",
   "execution_count": null,
   "id": "7a76996b",
   "metadata": {},
   "outputs": [],
   "source": [
    "#@save_merge_reads\n",
    "from deepspore import run_cmd, num_thread, parallel \n",
    "import os \n",
    "\n",
    "\n",
    "def task(file_name:str) -> None:\n",
    "    '''Qualitify Merged reads, such as merge reads, trimi primer, and etc.'''\n",
    "    # Merge the read files\n",
    "    file_1, file_2 = tuple(f\"./datas/raw/{file_name}_{i}.fastq\" for i in [1, 2])\n",
    "    merge_file = f\"./results/merge_read/{file_name}.fastq\"\n",
    "    ## @ 很重要\n",
    "    merge_reads = f\"usearch11 -fastq_mergepairs {file_1} -reverse {file_2} -fastqout {merge_file} -relabel @\"\n",
    "\n",
    "    # Remove the primers\n",
    "    # f\"usearch11 -fastx_trim_primer {merge_file} -db primers.fa -strand both -maxdiffs 1 -width 0 -fastqout ./results/merge_read/{file_name}_trim.fastq\"\n",
    "    \n",
    "    # run cmd via subprocess module\n",
    "    run_cmd(merge_reads)\n",
    "    \n",
    "\n",
    "if __name__ == \"__main__\":\n",
    "    print(\"Starting the merging process...\")\n",
    "    # Get all file_name to a tuple.\n",
    "    file_name_list = {file.split(\"_\")[0] for file in os.listdir(\"./datas/raw\")}\n",
    "    # Build the tasks consist of tuple which contains function and its paramters.\n",
    "    tasks = [(task, (file_name,)) for file_name in file_name_list]\n",
    "    # Directly using Pool, with stop manually.\n",
    "    parallel(tasks= tasks, num_threads= num_thread())\n",
    "    print(\"All finished.\")"
   ]
  },
  {
   "cell_type": "code",
   "execution_count": 54,
   "id": "b35a9d6d",
   "metadata": {},
   "outputs": [
    {
     "name": "stdout",
     "output_type": "stream",
     "text": [
      "Saved 1 block(s) to ./scripts/merge_reads.py\n"
     ]
    }
   ],
   "source": [
    "# Send to a one py file, and lanuch with Python command.\n",
    "# python ./scripts/merge_reads.py\n",
    "ipynb2(ipynb_file= \"./pipeline_v1.1.0_usearch.ipynb\", label= \"#@save_merge_reads\", output_file= \"./scripts/merge_reads.py\")"
   ]
  },
  {
   "cell_type": "code",
   "execution_count": 23,
   "id": "45f814f4",
   "metadata": {},
   "outputs": [
    {
     "name": "stdout",
     "output_type": "stream",
     "text": [
      "Total numbers:\n",
      "3667\n",
      "Such as :\n",
      "F146a.fastq\n",
      "F146b.fastq\n",
      "F146c.fastq\n",
      "F146d.fastq\n",
      "F146e.fastq\n",
      "F147a.fastq\n"
     ]
    }
   ],
   "source": [
    "%%bash \n",
    "echo Total numbers:\n",
    "ls ./results/merge_read | wc -l\n",
    "\n",
    "echo Such as :\n",
    "ls ./results/merge_read | head -n 6"
   ]
  },
  {
   "cell_type": "markdown",
   "id": "d52a2688",
   "metadata": {},
   "source": [
    "## 6.2. <a id='toc6_2_'></a>[混合所有样本的reads](#toc0_)"
   ]
  },
  {
   "cell_type": "markdown",
   "id": "3d3fe672",
   "metadata": {},
   "source": [
    "[https://drive5.com/usearch/manual/pool_samples.html](https://drive5.com/usearch/manual/pool_samples.html)\n",
    "\n",
    "合并所有过滤过的序列为到一个fastq文件中，让所有样品在一个标准环境下处理，才能进行比较分析。"
   ]
  },
  {
   "cell_type": "code",
   "execution_count": null,
   "id": "966332e7",
   "metadata": {},
   "outputs": [
    {
     "name": "stdout",
     "output_type": "stream",
     "text": [
      "Merging all the samples into one file ...\n",
      "Finished.\n"
     ]
    }
   ],
   "source": [
    "%%bash \n",
    "mkdir -p ./results/merge_read_all_samples/\n",
    "\n",
    "# merge all the samples\n",
    "echo \"Merging all the samples into one file ...\"\n",
    "cat ./results/merge_read/* > ./results/merge_read_all_samples/all_samples.fastq\n",
    "echo \"Finished.\"\n",
    "\n",
    "echo \"Total sequences in merge fastq files:\"\n",
    "grep \"@\"  results/merge_read_all_samples/all_samples.fastq | wc -l\n",
    "# 137888093"
   ]
  },
  {
   "cell_type": "markdown",
   "id": "40503379",
   "metadata": {},
   "source": [
    "## 6.3. <a id='toc6_3_'></a>[过滤和去冗余](#toc0_)"
   ]
  },
  {
   "cell_type": "markdown",
   "id": "5e24a133",
   "metadata": {},
   "source": [
    "在聚类或降噪之前进行：\n",
    "- 过滤低丰度：\n",
    "  - 在所有样品这一标准下确定哪些是低丰度的序列是更加科学的；"
   ]
  },
  {
   "cell_type": "code",
   "execution_count": null,
   "id": "9e2f9a91",
   "metadata": {},
   "outputs": [
    {
     "name": "stdout",
     "output_type": "stream",
     "text": [
      "remove the low abun. sequence ...\n",
      "usearch v11.0.667_i86linux64, 1057Gb RAM, 64 cores\n",
      "(C) Copyright 2013-18 Robert C. Edgar, all rights reserved.\n",
      "https://drive5.com/usearch\n",
      "\n",
      "From 2024 donated to public domain under CC0-1.0 license\n",
      "\n"
     ]
    },
    {
     "name": "stderr",
     "output_type": "stream",
     "text": [
      "00:00 4.8Mb  FASTQ base 33 for file ./results/merge_read_all_samples/all_samples.fastq\n",
      "26:01 4.6Gb   100.0% Filtering, 88.4% passed0:09 4.6Gb     0.6% Filtering, 86.4% passed1:45 4.6Gb     6.9% Filtering, 85.3% passed:05 4.6Gb     8.2% Filtering, 85.2% passed2:59 4.6Gb    11.6% Filtering, 86.3% passed3:13 4.6Gb    12.5% Filtering, 86.5% passed4:12 4.6Gb    16.2% Filtering, 87.1% passed4:18 4.6Gb    16.6% Filtering, 87.2% passed4:45 4.6Gb    18.3% Filtering, 87.4% passed5:22 4.6Gb    20.7% Filtering, 87.7% passed6:09 4.6Gb    23.6% Filtering, 87.8% passed    28.9% Filtering, 88.2% passed7:52 4.6Gb    30.1% Filtering, 88.3% passed7:58 4.6Gb    30.5% Filtering, 88.3% passed8:26 4.6Gb    32.3% Filtering, 88.4% passed8:52 4.6Gb    33.9% Filtering, 88.5% passed 4.6Gb    34.3% Filtering, 88.5% passed, 88.6% passed0:10 4.6Gb    38.8% Filtering, 88.7% passed1:02 4.6Gb    42.1% Filtering, 88.9% passed1:40 4.6Gb    44.5% Filtering, 88.9% passed2:20 4.6Gb    47.0% Filtering, 88.9% passed2:21 4.6Gb    47.1% Filtering, 88.9% passed2:42 4.6Gb    48.4% Filtering, 88.9% passed3:47 4.6Gb    52.6% Filtering, 88.8% passedb    55.2% Filtering, 88.8% passed4:28 4.6Gb    55.3% Filtering, 88.8% passed5:10 4.6Gb    58.0% Filtering, 88.7% passed5:55 4.6Gb    60.8% Filtering, 88.7% passed5:59 4.6Gb    61.1% Filtering, 88.7% passed6:56 4.6Gb    64.7% Filtering, 88.7% passed7:06 4.6Gb    65.4% Filtering, 88.7% passed8:06 4.6Gb    69.2% Filtering, 88.7% passed8:21 4.6Gb    70.2% Filtering, 88.7% passed8:25 4.6Gb    70.4% Filtering, 88.7% passed9:48 4.6Gb    75.7% Filtering, 88.8% passeded, 88.8% passed2:27 4.6Gb    86.2% Filtering, 88.4% passed2:43 4.6Gb    87.2% Filtering, 88.3% passed% Filtering, 88.1% passed6% Filtering, 88.1% passed3:50 4.6Gb    91.7% Filtering, 88.1% passed12 4.6Gb    93.1% Filtering, 88.2% passed5:36 4.6Gb    98.3% Filtering, 88.3% passed\n",
      " 137888093  Reads (138M)                    \n",
      "  16058089  Discarded reads with expected errs > 1.00\n",
      " 121830004  Filtered reads (122M, 88.4%)\n"
     ]
    }
   ],
   "source": [
    "%%bash\n",
    "echo \"Discard reads which probably have errors (quality filtering) ...\"\n",
    "usearch11 \\\n",
    "    -fastq_filter ./results/merge_read_all_samples/all_samples.fastq \\\n",
    "    -fastq_maxee 1.0 \\\n",
    "    -relabel Filt \\\n",
    "    -threads 62 \\\n",
    "    -fastaout ./results/merge_read_all_samples/all_samples_filtered.fasta"
   ]
  },
  {
   "cell_type": "code",
   "execution_count": 3,
   "id": "b4e39ccb",
   "metadata": {},
   "outputs": [
    {
     "name": "stdout",
     "output_type": "stream",
     "text": [
      "Filtered nums:\n",
      "121830004\n"
     ]
    }
   ],
   "source": [
    "%%bash\n",
    "echo \"Filtered nums:\"\n",
    "grep \">\" results/merge_read_all_samples/all_samples_filtered.fasta  | wc -l\n",
    "# 121830004"
   ]
  },
  {
   "cell_type": "code",
   "execution_count": 1,
   "id": "8ed211dc",
   "metadata": {},
   "outputs": [
    {
     "data": {
      "text/plain": [
       "0.11645740143784569"
      ]
     },
     "execution_count": 1,
     "metadata": {},
     "output_type": "execute_result"
    }
   ],
   "source": [
    "(137888093 - 121830004)/137888093"
   ]
  },
  {
   "cell_type": "markdown",
   "id": "f50b0a31",
   "metadata": {},
   "source": [
    "在聚类或降噪之前进行：\n",
    "- 去冗余：\n",
    "  - 减少序列数目，减少后续聚类数据量，加快速度；"
   ]
  },
  {
   "cell_type": "code",
   "execution_count": 103,
   "id": "976b91f3",
   "metadata": {},
   "outputs": [
    {
     "name": "stdout",
     "output_type": "stream",
     "text": [
      "dereplicate ...\n",
      "usearch v11.0.667_i86linux64, 1057Gb RAM, 64 cores\n",
      "(C) Copyright 2013-18 Robert C. Edgar, all rights reserved.\n",
      "https://drive5.com/usearch\n",
      "\n",
      "From 2024 donated to public domain under CC0-1.0 license\n",
      "\n"
     ]
    },
    {
     "name": "stderr",
     "output_type": "stream",
     "text": [
      "11:18 53.5Gb  100.0% Reading ./results/merge_read_all_samples/all_samples_filtered.fastataasta.fastastaed.fastatafastatailtered.fastaltered.fastaastaered.fastafastaastales_filtered.fastaed.fastatastastaafastastataasta.fastaa.fastaastafastasamples_filtered.fastas_filtered.fastaamples_filtered.fastad_all_samples/all_samples_filtered.fastafastamples/all_samples_filtered.fastaples_filtered.fastaalts/merge_read_all_samples/all_samples_filtered.fastatasamples_filtered.fastafastaed.fastamples_filtered.fastaaered.fastaes_filtered.fastatata.fastatered.fasta_read_all_samples/all_samples_filtered.fastatared.fastared.fastad.fastaered.fastaes_filtered.fastastaered.fastaples_filtered.fastaed.fastaltered.fastataastata_samples/all_samples_filtered.fastad.fastaered.fastaastaltered.fastatered.fastaples/all_samples_filtered.fasta\n",
      "12:57 187Gb   100.0% DF                                                                 \n",
      "13:16 189Gb  121830004 seqs, 52894077 uniques, 43808893 singletons (82.8%)\n",
      "13:16 189Gb  Min size 1, median 1, max 692899, avg 2.30\n",
      "22:22 60.3Gb  100.0% Writing ./results/merge_read_all_samples/all_samples_filtered_dereplicated.fastaaaaaaaaaaaastaaaaaastailtered_dereplicated.fastaicated.fastaaaaaaaaaaaaicated.fastaaaaaaaaaaaaaafastaaaaaared_dereplicated.fastaaareplicated.fastaaaaaaaaaaaaaaaaaaaaaaaaaaaaaaaaaaaaaaaaaaaaaaaaaaaaaaaaaaaastaastaeplicated.fastaa_filtered_dereplicated.fastaaated.fastaaad_dereplicated.fastaeplicated.fastad.fastaaples_filtered_dereplicated.fastated.fastafiltered_dereplicated.fastaaaaaaaaples_filtered_dereplicated.fastaes_filtered_dereplicated.fastad.fastaa.fastaacated.fastad_dereplicated.fastaaaered_dereplicated.fastated.fastaalicated.fastaaastaaaaafiltered_dereplicated.fastaaaastaaaaaaad_dereplicated.fastaaaaastaaaaaaaaastaaaaaaaaaaaaaaaaaaaaaaaaaaalicated.fastaaaaaaaaaaaaaaaaaaaaaaaaaaaaaaaaaaaaaastaaa.fastaad_dereplicated.fastaaaaaaaaaaaaaaaaaaaaaaaaaaaaaaaaaaaaaaaaaaaaaaaaaaaaaaaaaaaaaaaaaaaaaaaaaa.fastaaad.fastaaastaaaalicated.fastaaicated.fastaaltered_dereplicated.fastaicated.fastaaaaaastaaaples_filtered_dereplicated.fastaaastaaaaastaaaaaaaaaed.fastaed.fastaafastaa_filtered_dereplicated.fastaaaaaaaaed.fastaaed_dereplicated.fastad.fastaaered_dereplicated.fastaaaaplicated.fastaaailtered_dereplicated.fastaasta_dereplicated.fastaaaaaaaaicated.fastared_dereplicated.fastaaaaaastaaaastalicated.fastaaaastaastareplicated.fastaa_samples_filtered_dereplicated.fastataasta_filtered_dereplicated.fastaated.fastareplicated.fastaaalicated.fasta_samples_filtered_dereplicated.fastaicated.fastalicated.fastaaaated.fastasta_samples_filtered_dereplicated.fastaaaes_filtered_dereplicated.fastad.fastaaeplicated.fastaaaeplicated.fastaaeplicated.fastaaples_filtered_dereplicated.fastaastaaed_dereplicated.fastaaaaed.fastaaaed_dereplicated.fastaaated.fastaplicated.fastaaastaaaaaed.fastaaaed.fastaaaaaaaaaaaaaaaaaaaaplicated.fastaaated.fastaaaaaaplicated.fastaaaaaaaad_dereplicated.fastaaaaaad.fastaaaaaaaaaaaaplicated.fastad.fastad_dereplicated.fastaad.fasta_filtered_dereplicated.fastaaaaated.fastad.fastaad_dereplicated.fastaatered_dereplicated.fastared_dereplicated.fastaaated.fastaplicated.fastaed.fasta\n"
     ]
    }
   ],
   "source": [
    "%%bash \n",
    "echo \"dereplicate ...\"\n",
    "usearch11 \\\n",
    "        -fastx_uniques ./results/merge_read_all_samples/all_samples_filtered.fasta \\\n",
    "        -relabel Uniq \\\n",
    "        -sizeout \\\n",
    "        -fastaout ./results/merge_read_all_samples/all_samples_filtered_dereplicated.fasta \\\n",
    "        -threads 62"
   ]
  },
  {
   "cell_type": "code",
   "execution_count": 4,
   "id": "332cc045",
   "metadata": {},
   "outputs": [
    {
     "name": "stdout",
     "output_type": "stream",
     "text": [
      "Dereplicate nums:\n",
      "52894077\n"
     ]
    }
   ],
   "source": [
    "%%bash\n",
    "echo \"Dereplicate nums:\"\n",
    "grep \">\" results/merge_read_all_samples/all_samples_filtered_dereplicated.fasta  | wc -l\n",
    "# 52894077"
   ]
  },
  {
   "cell_type": "code",
   "execution_count": 10,
   "id": "b61da78a",
   "metadata": {},
   "outputs": [
    {
     "name": "stdout",
     "output_type": "stream",
     "text": [
      "deplicate 56.58% reads.\n"
     ]
    }
   ],
   "source": [
    "print(f\"deplicate {(121830004-52894077)/ 121830004 * 100:.2f}% reads.\")"
   ]
  },
  {
   "cell_type": "code",
   "execution_count": null,
   "id": "ed048edc",
   "metadata": {},
   "outputs": [],
   "source": [
    "# %%bash \n",
    "# cat merge_read_all_samples/all_samples_filtered_dereplicated.fasta | grep \">\" > uniq_size.txt"
   ]
  },
  {
   "cell_type": "markdown",
   "id": "4690c931",
   "metadata": {},
   "source": [
    "关于是否去除singleton的讨论：[https://drive5.com/usearch/manual/singletons.html](https://drive5.com/usearch/manual/singletons.html)\n",
    "\n",
    "- 去除singleton unique sequences:\n",
    "  - singleton表示只是出现一次的序列；\n",
    "  - 很多singleton是应为交叉污染造成的（如取样，测序过程等等）。\n",
    "  - 去冗余后，每个序列的 size 值表示其原始出现次数。\n",
    "  - 按照文件中size数目降序排列，仅保留 size≥2 的序列，自动去除 Singletons。\n",
    "\n",
    "- 影响：\n",
    "  - 正向作用：Singleton 中可能包含大量由PCR扩增错误或测序仪产生的随机噪声（如碱基错配）。去除后能显著减少假阳性OTU，提高后续聚类（如97%相似度OTU）的准确性；\n",
    "    - 由于singleton较多，取出后可加速后期聚类速度。\n",
    "  - 风险：可能误删真实存在的稀有物种（如低丰度但功能关键的微生物），尤其在深测序样本中。\n",
    "    - 降低丰富度（Richness）：直接减少OTU数量，尤其对稀疏样本（如低生物量环境）影响更大。\n",
    "    - 缓解“测序深度偏差”：避免因个别样本测序深度过高而引入虚假稀有物种，使多样性指标（如Shannon指数）更稳定\n",
    "    - 提高BETA结果一致性：去除噪音后，样本间差异更反映真实生物学变异（如环境梯度或疾病状态）\n",
    "    - 潜在失真：若研究关注稀有微生物的分布模式（如环境监测中的指示物种），可能丢失关键生态信号"
   ]
  },
  {
   "cell_type": "code",
   "execution_count": null,
   "id": "f4fd646d",
   "metadata": {},
   "outputs": [],
   "source": [
    "%%bash\n",
    "echo \"discard singleton unique sequences ...\"\n",
    "# 按照文件中size数目降序排列，仅保留 size≥2 的序列，自动去除 Singletons。\n",
    "usearch11 \\\n",
    "    -sortbysize ./results/merge_read_all_samples/all_samples_filtered_dereplicated.fasta \\\n",
    "    -fastaout ./results/merge_read_all_samples/all_samples_filtered_dereplicated2.fasta \\\n",
    "    -minsize 2 \\\n",
    "    -threads 62"
   ]
  },
  {
   "cell_type": "code",
   "execution_count": 11,
   "id": "474eac19",
   "metadata": {},
   "outputs": [
    {
     "name": "stdout",
     "output_type": "stream",
     "text": [
      "9085184\n"
     ]
    }
   ],
   "source": [
    "%%bash \n",
    "echo `cat ./results/merge_read_all_samples/all_samples_filtered_dereplicated2.fasta | grep \">\" | wc -l`\n",
    "# 9085184"
   ]
  },
  {
   "cell_type": "code",
   "execution_count": 16,
   "id": "b3f8f4a2",
   "metadata": {},
   "outputs": [
    {
     "name": "stdout",
     "output_type": "stream",
     "text": [
      "去除了82.82%个singleton序列.\n"
     ]
    }
   ],
   "source": [
    "print(f\"去除了{(52894077 - 9085184)*100/52894077:.2f}%个singleton序列.\")"
   ]
  },
  {
   "cell_type": "code",
   "execution_count": 5,
   "id": "e5fb346d",
   "metadata": {},
   "outputs": [
    {
     "name": "stdout",
     "output_type": "stream",
     "text": [
      "usearch v11.0.667_i86linux64, 1057Gb RAM, 64 cores\n",
      "(C) Copyright 2013-18 Robert C. Edgar, all rights reserved.\n",
      "https://drive5.com/usearch\n",
      "\n",
      "From 2024 donated to public domain under CC0-1.0 license\n",
      "\n"
     ]
    },
    {
     "name": "stderr",
     "output_type": "stream",
     "text": [
      "04:59 23.2Gb  100.0% Reading ./results/merge_read_all_samples/all_samples_filtered_dereplicated.fastaaaaaaaaaaaaaaaaaaaaaaaaaaaaaaaaaafiltered_dereplicated.fastaaaaaaaaaaaaaaaaaaaaaaaaaaaaaaaaaaaaa1:11 6.2Gb    26.7% Reading ./results/merge_read_all_samples/all_samples_filtered_dereplicated.fastaaaaaaaaaaaaaaaaaaaaaaaaaaaaaaaaaaaaaaaales/all_samples_filtered_dereplicated.fastaaaaaaaaaaaaaaaaaaaaaaaaaaaaaaaaaa2:25 12.0Gb   51.6% Reading ./results/merge_read_all_samples/all_samples_filtered_dereplicated.fastaaaaaaaaaaaaaaaaaaes_filtered_dereplicated.fastaaaaaaaaaaaaaaaaaaaaaaaaaaaaaaaaaaaaaaaaaaaaaaaaaaaaaaaaaaa3:42 17.8Gb   76.5% Reading ./results/merge_read_all_samples/all_samples_filtered_dereplicated.fastaaaaaaaaaaaaaaaaaaaa4:02 19.1Gb   82.3% Reading ./results/merge_read_all_samples/all_samples_filtered_dereplicated.fastaaaaaaaaaaaaaaaaaaaaaaaaaaaaaaaaaaaaaaaaaaaaaaaaaaaaaaaaaaa\n",
      "04:59 23.2Gb Getting sizes                                                                           \n",
      "05:10 23.6Gb Sorting 845440 sequences\n",
      "05:16 23.6Gb  100.0% Writing output5:15 23.6Gb   72.7% Writing output5:16 23.6Gb   94.3% Writing output\n",
      "\n",
      "WARNING: Option -threads not used\n",
      "\n"
     ]
    }
   ],
   "source": [
    "%%bash \n",
    "usearch11 \\\n",
    "    -sortbysize ./results/merge_read_all_samples/all_samples_filtered_dereplicated.fasta \\\n",
    "    -minsize 8 \\\n",
    "    -fastaout ./results/merge_read_all_samples/all_samples_filtered_dereplicated8.fasta \\\n",
    "    -threads 62"
   ]
  },
  {
   "cell_type": "code",
   "execution_count": 8,
   "id": "45fb1209",
   "metadata": {},
   "outputs": [
    {
     "name": "stdout",
     "output_type": "stream",
     "text": [
      "845440\n"
     ]
    }
   ],
   "source": [
    "%%bash \n",
    "cat ./results/merge_read_all_samples/all_samples_filtered_dereplicated8.fasta | grep \">\" | wc -l"
   ]
  },
  {
   "cell_type": "code",
   "execution_count": 9,
   "id": "b182950c",
   "metadata": {},
   "outputs": [
    {
     "data": {
      "text/plain": [
       "8239744"
      ]
     },
     "execution_count": 9,
     "metadata": {},
     "output_type": "execute_result"
    }
   ],
   "source": [
    "9085184 - 845440"
   ]
  },
  {
   "cell_type": "markdown",
   "id": "776c2f93",
   "metadata": {},
   "source": [
    "## 6.4. <a id='toc6_4_'></a>[去除嵌合体](#toc0_)"
   ]
  },
  {
   "cell_type": "markdown",
   "id": "eb992329",
   "metadata": {},
   "source": [
    "- 在USEAECH中此步可选"
   ]
  },
  {
   "cell_type": "code",
   "execution_count": null,
   "id": "2433ebe2",
   "metadata": {},
   "outputs": [],
   "source": [
    "# %%bash \n",
    "# # spend many time.\n",
    "# usearch11 \\\n",
    "#     -uchime3_denovo ./results/merge_read_all_samples/all_samples_dereplicated.fasta \\\n",
    "#     -nonchimeras ./results/merge_read_all_samples/all_samples_dereplicated_nonchimeras.fasta \\"
   ]
  },
  {
   "cell_type": "markdown",
   "id": "27064721",
   "metadata": {},
   "source": [
    "## 6.5. <a id='toc6_5_'></a>[OTU 聚类](#toc0_)"
   ]
  },
  {
   "cell_type": "markdown",
   "id": "f163d76b",
   "metadata": {},
   "source": [
    "UPARSE是USEARCH/VSEARCH中用于生成 OTUs（Operational Taxonomic Units）的高效聚类算法，通过严格的去噪和聚类策略，在保证生物学意义的前提下减少假阳性。其核心特点是 基于97%相似度阈值的聚类，但通过预处理步骤显著优于传统聚类方法（如CD-HIT）。\n",
    "\n",
    "- 核心步骤：\n",
    "\n",
    "| 步骤          | 操作                                  | 目的 |\n",
    "|---------------|---------------------------------------|----------------------------------------------------------------------|\n",
    "| 输入质控      | 过滤低质量序列（如 `maxee≤1.0`，长度截断） | 去除测序错误和引物/接头污染，提高数据可靠性  |\n",
    "| 去重与排序    | 合并完全相同的序列（去重），按丰度降序排序   | 减少计算量，优先处理高可信序列（高频序列更可能代表真实生物信号）  |\n",
    "| 去噪（可选）  | 移除低丰度序列（如 `minsize=8`）          | 过滤可能的测序错误（类似 UNOISE3 的预去噪策略）  |\n",
    "| 贪婪聚类      | 从最高丰度序列开始，作为 OTU 中心，吸收相似度≥97%的序列 | 生成生物学有意义的 OTUs，确保同一 OTU 内序列高度同源  |\n",
    "| 嵌合体检测    | 使用 `uchime_ref` 或 `uchime_denovo` 移除嵌合体 | 避免跨物种序列拼接导致的假 OTU，提升代表序列的准确性  |\n",
    "\n",
    "- 核心算法：\n",
    "  - 丰度过滤：低丰度序列（如<8 copies）被直接过滤，保留条件：序列丰度≥minsize；\n",
    "  - 序列相似度计算：采用全局比对（如Needleman-Wunsch算法）计算序列相似度。相似度$=1-\\frac{\\text{错配数量}+\\text{空位罚分}}{\\text{对齐长度}}$\n",
    "\n",
    "  - 什么是贪心算法？\n",
    "    - 优先级：从最高丰度序列开始，作为OTU中心。\n",
    "    - 吸收规则：若序列与OTU中心的相似度≥阈值（默认97%），则归入该OTU，且不再参与后续聚类。\n",
    "    - 终止条件：所有序列处理完毕或达到预设OTU数量。\n",
    "\n",
    "- 基本演示\n",
    "```python\n",
    "# 使用UPARSE生成OTUs\n",
    "usearch -fastq_filter raw.fq -fastq_maxee 1.0 -fastaout filtered.fa\n",
    "usearch -fastx_uniques filtered.fa -sizeout -relabel Uniq -fastaout uniques.fa\n",
    "usearch -cluster_otus uniques.fa -minsize 8 -otus otus.fa -relabel OTU\n",
    "\n",
    "# 参数说明：\n",
    "# -fastq_maxee 1.0：过滤预期错误>1.0的序列\n",
    "# -minsize 8：忽略丰度<8的序列\n",
    "# -relabel Otu：重命名OTU编号\n",
    "```"
   ]
  },
  {
   "cell_type": "code",
   "execution_count": null,
   "id": "26d09b91",
   "metadata": {},
   "outputs": [],
   "source": [
    "%%bash \n",
    "echo \"otu cluser ...\"\n",
    "# spend long time.\n",
    "nohup usearch11 \\\n",
    "    -cluster_otus ./results/merge_read_all_samples/all_samples_filtered_dereplicated2.fasta \\\n",
    "    -otus ./results/merge_read_all_samples/all_samples_filtered_dereplicated_nonchimeras_otu.fasta \\\n",
    "    -relabel Otu \\\n",
    "    -threads 62 > caches/cluster2otu.log 2>&1 &"
   ]
  },
  {
   "cell_type": "markdown",
   "id": "600ee85d",
   "metadata": {},
   "source": [
    "如果usearch聚类速度太慢可以用vsearch算法进行聚类："
   ]
  },
  {
   "cell_type": "code",
   "execution_count": null,
   "id": "e1d7d7c2",
   "metadata": {},
   "outputs": [],
   "source": [
    "# %%bash \n",
    "# echo \"otu cluser via vsearch ...\"\n",
    "# vsearch \\\n",
    "#     --cluster_size ./results/merge_read_all_samples/all_samples_filtered_dereplicated2.fasta \\\n",
    "#     --id 0.97 \\\n",
    "#     --centroids ./caches/all_samples_filtered_dereplicated_nonchimeras_otu.fasta \\\n",
    "#     --relabel Otu \\\n",
    "#     --threads 62\n",
    "# 1099001 OTUs"
   ]
  },
  {
   "cell_type": "code",
   "execution_count": 2,
   "id": "8ef57873",
   "metadata": {},
   "outputs": [
    {
     "name": "stdout",
     "output_type": "stream",
     "text": [
      "158639\n"
     ]
    },
    {
     "name": "stdout",
     "output_type": "stream",
     "text": [
      "157305\n"
     ]
    }
   ],
   "source": [
    "%%bash \n",
    "echo `cat results/merge_read_all_samples/all_samples_filtered_dereplicated_nonchimeras_otu.fasta | grep \">\" | wc -l`\n",
    "echo `cat results/merge_read_all_samples/all_samples_filtered_dereplicated_nonchimeras_otu12.fasta | grep \">\" | wc -l`\n",
    "# head -n 10 results/merge_read_all_samples/all_samples_filtered_dereplicated_nonchimeras_otu12.fasta"
   ]
  },
  {
   "cell_type": "markdown",
   "id": "2cf54f3e",
   "metadata": {},
   "source": [
    "## 6.6. <a id='toc6_6_'></a>[ASV 降噪](#toc0_)"
   ]
  },
  {
   "cell_type": "markdown",
   "id": "099f118a",
   "metadata": {},
   "source": [
    "UNOISE3是一种基于丰度排序和误差校正的高精度序列去噪算法，用于直接从扩增子测序数据中生成零半径OTUs（Zero-radius, ZOTUs），分辨率达到单碱基差异水平（株水平）。其核心创新在于完全摒弃传统聚类阈值，转而通过统计模型识别并移除测序错误。\n",
    "\n",
    "- 核心步骤：\n",
    "\n",
    "| 步骤          | 操作                                  | 数学基础                                                                 | 生物学意义                                                                 |\n",
    "|---------------|---------------------------------------|--------------------------------------------------------------------------|----------------------------------------------------------------------------|\n",
    "| 序列质控      | 过滤低质量序列（如 Phred<30）          | **质量评分模型**：$Q = -10\\log_{10}(P_{\\text{error}})$                    | 去除不可靠碱基，确保后续分析的序列可靠性                                     |\n",
    "| 丰度排序      | 按序列丰度降序排列                     | **泊松分布假设**：$P(\\text{noise}) = \\frac{\\lambda^k e^{-\\lambda}}{k!}$ | 高丰度序列更可能是真实生物信号（低频序列更可能为噪声）                       |\n",
    "| 错误校正      | 将低丰度序列归为高丰度序列的误差变体   | **贪婪算法**：若 $d(H_i, L_j) \\leq \\varepsilon$，则 $L_j$ 标记为错误     | 消除 PCR 扩增错误和测序仪引入的碱基错误                                      |\n",
    "| ZOTU生成      | 保留未被标记为错误的唯一序列           | **集合论**：$\\text{ZOTU} = \\{ S \\mid S \\notin \\text{Error\\_set} \\}$      | 获得真实生物变异（ZOTU 代表 100% 相同的生物序列，分辨率达菌株水平）           |\n",
    "\n",
    "\n",
    "- 优势对比：\n",
    "\n",
    "| 工具        | 输出类型 | 分辨率   | 运行速度 | 假阳性控制 |\n",
    "|-------------|----------|----------|----------|-------------|\n",
    "| UNOISE3     | ZOTUs    | 株水平   | 极快     | 严格        |\n",
    "| DADA2       | ASVs     | 种水平   | 中等     | 中等        |\n",
    "| Deblur      | ASVs     | 种水平   | 慢       | 严格        |\n",
    "| 97% OTU聚类 | OTUs     | 属水平   | 快       | 宽松        |\n",
    "\n",
    "- 基本演示：\n",
    "\n",
    "```python\n",
    "usearch -unoise3 input.fasta -zotus zotus.fasta\n",
    "\n",
    "# 关键参数解释：\n",
    "# -minsize 8：设置最小序列丰度阈值（默认8）；\n",
    "```\n"
   ]
  },
  {
   "cell_type": "code",
   "execution_count": null,
   "id": "71fd5e4b",
   "metadata": {},
   "outputs": [],
   "source": [
    "%%bash \n",
    "echo \"zotu ...\"\n",
    "# spend long time.\n",
    "nohup usearch11 \\\n",
    "    -unoise3 ./results/merge_read_all_samples/all_samples_filtered_dereplicated2.fasta \\\n",
    "    -zotus ./results/merge_read_all_samples/all_samples_filtered_dereplicated_nonchimeras_zotu.fasta \\\n",
    "    -threads 62 > caches/denoise2zotu.log 2>&1 &"
   ]
  },
  {
   "cell_type": "markdown",
   "id": "aa243702",
   "metadata": {},
   "source": [
    "如果usearch的降噪速度太慢，可用vsearch替代：\n",
    "- The numbers of cluster ZOTUs more about 100000 than usearch cluster ZOTUs."
   ]
  },
  {
   "cell_type": "code",
   "execution_count": null,
   "id": "81239d8c",
   "metadata": {},
   "outputs": [],
   "source": [
    "# %%bash\n",
    "# echo \"unoise via vsearch ...\"\n",
    "# vsearch  \\\n",
    "#     --cluster_unoise ./results/merge_read_all_samples/all_samples_filtered_dereplicated2.fasta \\\n",
    "#     --centroids ./caches/all_samples_filtered_dereplicated_nonchimeras_zotu.fasta \\\n",
    "#     --minsize 8 \\\n",
    "#     --relabel Zotu \\\n",
    "#     --threads 62\n",
    "# 253705 ZOTUs"
   ]
  },
  {
   "cell_type": "code",
   "execution_count": 19,
   "id": "adf65c20",
   "metadata": {},
   "outputs": [
    {
     "name": "stdout",
     "output_type": "stream",
     "text": [
      "zotu nums:\n",
      "165993\n",
      "167170\n"
     ]
    }
   ],
   "source": [
    "%%bash\n",
    "echo \"zotu nums:\"\n",
    "grep \">\" results/merge_read_all_samples/all_samples_filtered_dereplicated_nonchimeras_zotu.fasta | wc -l\n",
    "# 165993\n",
    "\n",
    "grep \">\" results/merge_read_all_samples/all_samples_filtered_dereplicated_nonchimeras_zotu12.fasta | wc -l\n",
    "# 167170"
   ]
  },
  {
   "cell_type": "code",
   "execution_count": 4,
   "id": "14070342",
   "metadata": {},
   "outputs": [
    {
     "name": "stdout",
     "output_type": "stream",
     "text": [
      "1.83%个zotu序列.\n"
     ]
    }
   ],
   "source": [
    "print(f\"{165993*100/9085184:.2f}%个zotu序列.\")"
   ]
  },
  {
   "cell_type": "markdown",
   "id": "611d8d27",
   "metadata": {},
   "source": [
    "## 6.7. <a id='toc6_7_'></a>[OTU QC](#toc0_)"
   ]
  },
  {
   "cell_type": "markdown",
   "id": "25ba68c3",
   "metadata": {},
   "source": [
    "[https://drive5.com/usearch/manual/otu_qc.html](https://drive5.com/usearch/manual/otu_qc.html)\n",
    "\n",
    "\n",
    "| 问题类型         | 描述                                                                 |\n",
    "|------------------|----------------------------------------------------------------------|\n",
    "| 比对异常         | OTU序列是否与目标基因的参考数据库良好比对？                          |\n",
    "| OTU缺失          | 所有OTU是否均出现在OTU表中？                                         |\n",
    "| 覆盖率不足       | OTU能解释多大比例的数据？                                            |\n",
    "| 短片段构建       | PCR产生的异常测序结构                                                |\n",
    "| 链重复           | 同时存在正链和负链序列                                                |\n",
    "| 位置偏移         | 序列在基因中的起始位置不一致                                          |\n",
    "| 样本间交叉污染   | 读长被错误分配至其他样本                                              |\n",
    "| 测序错误         | 聚合酶错误或碱基识别错误                                              |\n",
    "| 低复杂度序列     | 测序仪噪声（如多聚核苷酸重复）                                        |\n",
    "| PhiX污染         | 未过滤的标钉（spike-in）控制序列                                      |\n",
    "| 嵌合体           | 未过滤的PCR嵌合体                                                    |\n",
    "| 非目标扩增       | 引物扩增了非目标区域                                                  |\n",
    "| 外源污染         | 显而易见的污染序列（如人源、环境DNA）                                |\n",
    "| 引物残留         | 引物结合序列应在分析流程起始阶段去除                                  |\n",
    "| 过度紧密OTU      | 相似度>97%的OTU（可能需进一步拆分）                                  |\n"
   ]
  },
  {
   "cell_type": "code",
   "execution_count": 21,
   "id": "cf7281ee",
   "metadata": {},
   "outputs": [],
   "source": [
    "%%bash \n",
    "mkdir -p ./results/otu_qc"
   ]
  },
  {
   "cell_type": "markdown",
   "id": "687fbd21",
   "metadata": {},
   "source": [
    "### 6.7.1. <a id='toc6_7_1_'></a>[ Align to a reference database](#toc0_)"
   ]
  },
  {
   "cell_type": "markdown",
   "id": "095bc71a",
   "metadata": {},
   "source": [
    "[https://drive5.com/usearch/manual/otu_qc_align.html](https://drive5.com/usearch/manual/otu_qc_align.html)\n",
    "\n",
    "I strongly recommend aligning your OTUs to a large reference database and reviewing some selected alignments. For most samples, use the largest available reference database for your gene. e.g. SILVA for 16S or UNITE for ITS. If you have control samples (mock community or single strain), then you should align the control OTU sequences to the known sequences in the strain(s).\n",
    "\n",
    "**Check highest and lowest abundance, shortest and longest sequence**\n",
    "\n",
    "You can select a random subset to review by using the **fastx_subsample** command. I recommend reviewing the top few most abundant OTUs, and also a few of the least abundant. These alignments are especially likely to reveal problems. Also check the shortest and longest sequences."
   ]
  },
  {
   "cell_type": "markdown",
   "id": "e4c5023b",
   "metadata": {},
   "source": [
    "#### 6.7.1.1. <a id='toc6_7_1_1_'></a>[OTU 随机采样](#toc0_)"
   ]
  },
  {
   "cell_type": "code",
   "execution_count": 1,
   "id": "d5273d98",
   "metadata": {},
   "outputs": [
    {
     "name": "stdout",
     "output_type": "stream",
     "text": [
      "Subsamples with 10% ...\n",
      "usearch v11.0.667_i86linux64, 1057Gb RAM, 64 cores\n",
      "(C) Copyright 2013-18 Robert C. Edgar, all rights reserved.\n",
      "https://drive5.com/usearch\n",
      "\n",
      "From 2024 donated to public domain under CC0-1.0 license\n",
      "\n"
     ]
    },
    {
     "name": "stderr",
     "output_type": "stream",
     "text": [
      "00:00 39Mb    100.0% Counting seqs\n",
      "00:00 40Mb    100.0% Sampling     \n"
     ]
    }
   ],
   "source": [
    "%%bash\n",
    "echo \"Subsamples with 10% ...\"\n",
    "usearch11 \\\n",
    "    -fastx_subsample results/merge_read_all_samples/all_samples_filtered_dereplicated_nonchimeras_otu.fasta \\\n",
    "    -sizein \\\n",
    "    -sizeout \\\n",
    "    -sample_pct 10 \\\n",
    "    -randseed 1 \\\n",
    "    -fastaout results/otu_qc/all_samples_filtered_dereplicated_nonchimeras_otu_10.fasta"
   ]
  },
  {
   "cell_type": "code",
   "execution_count": 2,
   "id": "6b68a068",
   "metadata": {},
   "outputs": [
    {
     "name": "stdout",
     "output_type": "stream",
     "text": [
      "Checking the subsamples with Database sequence ...\n",
      "usearch v11.0.667_i86linux64, 1057Gb RAM, 64 cores\n",
      "(C) Copyright 2013-18 Robert C. Edgar, all rights reserved.\n",
      "https://drive5.com/usearch\n",
      "\n",
      "From 2024 donated to public domain under CC0-1.0 license\n",
      "\n"
     ]
    },
    {
     "name": "stderr",
     "output_type": "stream",
     "text": [
      "00:05 8.5Gb   100.0% Rows\n",
      "00:05 8.6Gb  Reading pointers...done.\n",
      "00:05 8.8Gb  Reading db seqs...done.\n",
      "02:07 17.3Gb  100.0% Searching all_samples_filtered_dereplicated_nonchimeras_otu_10.fasta, 65.8% mathedtchedched chedchedchedched0:13 17.3Gb    5.5% Searching all_samples_filtered_dereplicated_nonchimeras_otu_10.fasta, 93.8% matchedchedchedchedchedchedchedchedchedchedchedchedchedchedchedchedchedchedchedchedchedchedchedchedchedchedchedchedchedchedchedchedched0:46 17.3Gb   34.1% Searching all_samples_filtered_dereplicated_nonchimeras_otu_10.fasta, 80.1% matchedchedchedchedchedchedchedchedchedchedchedched0:58 17.3Gb   43.6% Searching all_samples_filtered_dereplicated_nonchimeras_otu_10.fasta, 76.7% matchedchedchedchedchedchedched1:05 17.3Gb   49.5% Searching all_samples_filtered_dereplicated_nonchimeras_otu_10.fasta, 74.8% matchedchedchedchedchedchedchedchedchedchedchedchedchedchedchedchedchedchedchedchedchedchedchedchedchedchedched1:32 17.3Gb   71.5% Searching all_samples_filtered_dereplicated_nonchimeras_otu_10.fasta, 69.8% matchedchedchedchedchedchedchedchedchedchedchedchedchedchedchedchedchedchedchedched1:52 17.3Gb   87.8% Searching all_samples_filtered_dereplicated_nonchimeras_otu_10.fasta, 67.2% matchedchedchedchedchedchedchedchedchedchedchedchedchedchedchedched\n"
     ]
    }
   ],
   "source": [
    "%%bash \n",
    "echo \"Checking the subsamples with Database sequence ...\"\n",
    "usearch11 \\\n",
    "    -usearch_global results/otu_qc/all_samples_filtered_dereplicated_nonchimeras_otu_10.fasta \\\n",
    "    -db dbs/silva_16s_v123_usearch.udb \\\n",
    "    -id 0.9 \\\n",
    "    -strand both \\\n",
    "    -alnout ./results/otu_qc/otu_10.aln \\\n",
    "    -uc ./results/otu_qc/otu_10.uc \\\n",
    "    -threads 60"
   ]
  },
  {
   "cell_type": "markdown",
   "id": "7eb4ef5f",
   "metadata": {},
   "source": [
    "#### 6.7.1.2. <a id='toc6_7_1_2_'></a>[ZOTU 随机采样](#toc0_)"
   ]
  },
  {
   "cell_type": "code",
   "execution_count": 22,
   "id": "b57368e5",
   "metadata": {},
   "outputs": [
    {
     "name": "stdout",
     "output_type": "stream",
     "text": [
      "Subsamples with 10% ...\n",
      "usearch v11.0.667_i86linux64, 1057Gb RAM, 64 cores\n",
      "(C) Copyright 2013-18 Robert C. Edgar, all rights reserved.\n",
      "https://drive5.com/usearch\n",
      "\n",
      "From 2024 donated to public domain under CC0-1.0 license\n",
      "\n"
     ]
    },
    {
     "name": "stderr",
     "output_type": "stream",
     "text": [
      "00:00 39Mb    100.0% Counting seqs\n",
      "00:01 40Mb    100.0% Sampling     \n"
     ]
    }
   ],
   "source": [
    "%%bash\n",
    "echo \"Subsamples with 10% ...\"\n",
    "usearch11 \\\n",
    "    -fastx_subsample results/merge_read_all_samples/all_samples_filtered_dereplicated_nonchimeras_zotu.fasta \\\n",
    "    -sizein \\\n",
    "    -sizeout \\\n",
    "    -sample_pct 10 \\\n",
    "    -randseed 1 \\\n",
    "    -fastaout results/otu_qc/all_samples_filtered_dereplicated_nonchimeras_zotu_10.fasta"
   ]
  },
  {
   "cell_type": "code",
   "execution_count": 1,
   "id": "8953a727",
   "metadata": {},
   "outputs": [
    {
     "name": "stdout",
     "output_type": "stream",
     "text": [
      "Checking the subsamples with Database sequence ...\n",
      "usearch v11.0.667_i86linux64, 1057Gb RAM, 64 cores\n",
      "(C) Copyright 2013-18 Robert C. Edgar, all rights reserved.\n",
      "https://drive5.com/usearch\n",
      "\n",
      "From 2024 donated to public domain under CC0-1.0 license\n",
      "\n"
     ]
    },
    {
     "name": "stderr",
     "output_type": "stream",
     "text": [
      "00:01 125Mb     1.4% Rows\r"
     ]
    },
    {
     "name": "stderr",
     "output_type": "stream",
     "text": [
      "00:07 8.5Gb   100.0% Rows\n",
      "00:07 8.6Gb  Reading pointers...done.\n",
      "00:08 8.8Gb  Reading db seqs...done.\n",
      "07:08 17.3Gb  100.0% Searching all_samples_filtered_dereplicated_nonchimeras_zotu_10.fasta, 95.4% mached0:13 17.3Gb    0.6% Searching all_samples_filtered_dereplicated_nonchimeras_zotu_10.fasta, 100.0% matchedatched0:25 17.3Gb    1.3% Searching all_samples_filtered_dereplicated_nonchimeras_zotu_10.fasta, 100.0% matchedatchedatchedatched0:44 17.3Gb    2.9% Searching all_samples_filtered_dereplicated_nonchimeras_zotu_10.fasta, 100.0% matchedtched tchedtchedtched1:02 17.3Gb    4.4% Searching all_samples_filtered_dereplicated_nonchimeras_zotu_10.fasta, 99.7% matchedtchedtchedtchedtchedtched1:18 17.3Gb    6.5% Searching all_samples_filtered_dereplicated_nonchimeras_zotu_10.fasta, 99.6% matched1:22 17.3Gb    7.7% Searching all_samples_filtered_dereplicated_nonchimeras_zotu_10.fasta, 99.4% matched1:25 17.3Gb    8.6% Searching all_samples_filtered_dereplicated_nonchimeras_zotu_10.fasta, 99.3% matchedtchedtchedtched1:31 17.3Gb   10.2% Searching all_samples_filtered_dereplicated_nonchimeras_zotu_10.fasta, 99.2% matchedtchedtchedtchedtched1:38 17.3Gb   12.1% Searching all_samples_filtered_dereplicated_nonchimeras_zotu_10.fasta, 99.2% matchedtchedtchedtchedtchedtched1:46 17.3Gb   14.4% Searching all_samples_filtered_dereplicated_nonchimeras_zotu_10.fasta, 99.1% matched1:48 17.3Gb   14.9% Searching all_samples_filtered_dereplicated_nonchimeras_zotu_10.fasta, 99.0% matched1:49 17.3Gb   15.3% Searching all_samples_filtered_dereplicated_nonchimeras_zotu_10.fasta, 99.1% matched1:52 17.3Gb   15.9% Searching all_samples_filtered_dereplicated_nonchimeras_zotu_10.fasta, 99.1% matched1:55 17.3Gb   16.5% Searching all_samples_filtered_dereplicated_nonchimeras_zotu_10.fasta, 99.0% matchedtchedtched1:58 17.3Gb   17.4% Searching all_samples_filtered_dereplicated_nonchimeras_zotu_10.fasta, 98.9% matched1:59 17.3Gb   17.7% Searching all_samples_filtered_dereplicated_nonchimeras_zotu_10.fasta, 99.0% matchedtchedtchedtchedtchedtchedtchedtchedtched2:13 17.3Gb   21.7% Searching all_samples_filtered_dereplicated_nonchimeras_zotu_10.fasta, 98.6% matchedtchedtchedtchedtchedtchedtchedtchedtchedtchedtchedtchedtchedtchedtchedtchedes_filtered_dereplicated_nonchimeras_zotu_10.fasta, 98.3% matchedtchedtchedtchedtchedtchedtchedtchedtchedtchedtchedtchedtchedtchedtchedtchedtchedtchedtchedtchedtchedtchedtched3:06 17.3Gb   34.2% Searching all_samples_filtered_dereplicated_nonchimeras_zotu_10.fasta, 97.9% matched3:07 17.3Gb   34.5% Searching all_samples_filtered_dereplicated_nonchimeras_zotu_10.fasta, 97.9% matched3:08 17.3Gb   34.7% Searching all_samples_filtered_dereplicated_nonchimeras_zotu_10.fasta, 97.9% matchedtchedtchedtchedtchedtchedtched3:16 17.3Gb   37.1% Searching all_samples_filtered_dereplicated_nonchimeras_zotu_10.fasta, 97.8% matched3:17 17.3Gb   37.6% Searching all_samples_filtered_dereplicated_nonchimeras_zotu_10.fasta, 97.7% matched3:19 17.3Gb   38.1% Searching all_samples_filtered_dereplicated_nonchimeras_zotu_10.fasta, 97.7% matchedtchedtched3:23 17.3Gb   39.3% Searching all_samples_filtered_dereplicated_nonchimeras_zotu_10.fasta, 97.7% matched3:24 17.3Gb   39.7% Searching all_samples_filtered_dereplicated_nonchimeras_zotu_10.fasta, 97.7% matched3:25 17.3Gb   40.0% Searching all_samples_filtered_dereplicated_nonchimeras_zotu_10.fasta, 97.7% matchedtched3:27 17.3Gb   40.6% Searching all_samples_filtered_dereplicated_nonchimeras_zotu_10.fasta, 97.7% matchedtched3:29 17.3Gb   41.0% Searching all_samples_filtered_dereplicated_nonchimeras_zotu_10.fasta, 97.7% matchedtchedtched3:33 17.3Gb   42.2% Searching all_samples_filtered_dereplicated_nonchimeras_zotu_10.fasta, 97.7% matchedtchedtchedtchedtched3:39 17.3Gb   44.2% Searching all_samples_filtered_dereplicated_nonchimeras_zotu_10.fasta, 97.6% matched3:40 17.3Gb   44.7% Searching all_samples_filtered_dereplicated_nonchimeras_zotu_10.fasta, 97.5% matchedtchedtchedtched3:47 17.3Gb   46.8% Searching all_samples_filtered_dereplicated_nonchimeras_zotu_10.fasta, 97.4% matchedtchedtchedtched3:57 17.3Gb   49.9% Searching all_samples_filtered_dereplicated_nonchimeras_zotu_10.fasta, 97.3% matchedtchedtchedtchedtchedtchedtchedtchedtched4:07 17.3Gb   53.2% Searching all_samples_filtered_dereplicated_nonchimeras_zotu_10.fasta, 97.2% matchedtchedtchedtchedtched4:21 17.3Gb   57.6% Searching all_samples_filtered_dereplicated_nonchimeras_zotu_10.fasta, 96.8% matchedtchedtchedtchedtchedtchedtchedtched4:32 17.3Gb   60.8% Searching all_samples_filtered_dereplicated_nonchimeras_zotu_10.fasta, 96.8% matchedtched4:34 17.3Gb   61.5% Searching all_samples_filtered_dereplicated_nonchimeras_zotu_10.fasta, 96.8% matchedtched4:36 17.3Gb   61.9% Searching all_samples_filtered_dereplicated_nonchimeras_zotu_10.fasta, 96.8% matchedtched4:39 17.3Gb   62.8% Searching all_samples_filtered_dereplicated_nonchimeras_zotu_10.fasta, 96.7% matched4:41 17.3Gb   63.2% Searching all_samples_filtered_dereplicated_nonchimeras_zotu_10.fasta, 96.7% matchedtchedtched4:45 17.3Gb   64.3% Searching all_samples_filtered_dereplicated_nonchimeras_zotu_10.fasta, 96.7% matchedtchedSearching all_samples_filtered_dereplicated_nonchimeras_zotu_10.fasta, 96.7% matched4:48 17.3Gb   65.2% Searching all_samples_filtered_dereplicated_nonchimeras_zotu_10.fasta, 96.7% matchedtchedtched4:51 17.3Gb   66.1% Searching all_samples_filtered_dereplicated_nonchimeras_zotu_10.fasta, 96.6% matchedtchedtchedtchedtchedtchedtchedtchedtchedtchedtched5:06 17.3Gb   70.7% Searching all_samples_filtered_dereplicated_nonchimeras_zotu_10.fasta, 96.4% matchedtchedtchedtched5:11 17.3Gb   72.1% Searching all_samples_filtered_dereplicated_nonchimeras_zotu_10.fasta, 96.4% matched5:12 17.3Gb   72.5% Searching all_samples_filtered_dereplicated_nonchimeras_zotu_10.fasta, 96.3% matched5:13 17.3Gb   72.9% Searching all_samples_filtered_dereplicated_nonchimeras_zotu_10.fasta, 96.3% matchedtchedtchedtchedtchedtched5:22 17.3Gb   75.4% Searching all_samples_filtered_dereplicated_nonchimeras_zotu_10.fasta, 96.2% matchedtchedtched5:25 17.3Gb   76.4% Searching all_samples_filtered_dereplicated_nonchimeras_zotu_10.fasta, 96.2% matched5:26 17.3Gb   76.8% Searching all_samples_filtered_dereplicated_nonchimeras_zotu_10.fasta, 96.2% matchedtchedtchedtched5:33 17.3Gb   78.8% Searching all_samples_filtered_dereplicated_nonchimeras_zotu_10.fasta, 96.1% matchedtchedtchedtched5:37 17.3Gb   80.0% Searching all_samples_filtered_dereplicated_nonchimeras_zotu_10.fasta, 96.1% matchedtchedtchedtchedtchedtched_nonchimeras_zotu_10.fasta, 96.0% matchedtchedtched5:48 17.3Gb   83.1% Searching all_samples_filtered_dereplicated_nonchimeras_zotu_10.fasta, 96.0% matchedtched5:51 17.3Gb   83.7% Searching all_samples_filtered_dereplicated_nonchimeras_zotu_10.fasta, 95.9% matched5:53 17.3Gb   84.2% Searching all_samples_filtered_dereplicated_nonchimeras_zotu_10.fasta, 95.9% matchedtched5:56 17.3Gb   84.8% Searching all_samples_filtered_dereplicated_nonchimeras_zotu_10.fasta, 95.9% matchedtchedtchedtchedtchedtchedtchedtched6:16 17.3Gb   88.8% Searching all_samples_filtered_dereplicated_nonchimeras_zotu_10.fasta, 95.8% matchedtched6:18 17.3Gb   89.3% Searching all_samples_filtered_dereplicated_nonchimeras_zotu_10.fasta, 95.8% matchedtchedtchedtchedtchedtchedtchedtchedtched6:38 17.3Gb   94.1% Searching all_samples_filtered_dereplicated_nonchimeras_zotu_10.fasta, 95.6% matched6:40 17.3Gb   94.6% Searching all_samples_filtered_dereplicated_nonchimeras_zotu_10.fasta, 95.6% matchedtchedtchedtchedtchedtchedtchedtchedtchedtchedtchedtched\n"
     ]
    }
   ],
   "source": [
    "%%bash \n",
    "echo \"Checking the subsamples with Database sequence ...\"\n",
    "usearch11 \\\n",
    "    -usearch_global results/otu_qc/all_samples_filtered_dereplicated_nonchimeras_zotu_10.fasta \\\n",
    "    -db dbs/silva_16s_v123_usearch.udb \\\n",
    "    -id 0.9 \\\n",
    "    -strand both \\\n",
    "    -alnout ./results/otu_qc/zotu_10.aln \\\n",
    "    -uc ./results/otu_qc/zotu_10.uc \\\n",
    "    -threads 60"
   ]
  },
  {
   "cell_type": "markdown",
   "id": "db98ab02",
   "metadata": {},
   "source": [
    "#### 6.7.1.3. <a id='toc6_7_1_3_'></a>[检查](#toc0_)"
   ]
  },
  {
   "cell_type": "markdown",
   "id": "8d16e884",
   "metadata": {},
   "source": [
    "Review the alignments in the otu.aln file. Look for patterns which might not be biological. For example, if you see that many OTUs have mismatches near the beginning or end of the sequence, this may be due to primer-binding sequences which should be stripped because PCR tends to cause substitutions."
   ]
  },
  {
   "cell_type": "code",
   "execution_count": 3,
   "id": "d8b27b00",
   "metadata": {},
   "outputs": [
    {
     "name": "stdout",
     "output_type": "stream",
     "text": [
      "usearch11 -usearch_global results/otu_qc/all_samples_filtered_dereplicated_nonchimeras_otu_10.fasta -db dbs/silva_16s_v123_usearch.udb -id 0.9 -strand both -alnout ./results/otu_qc/otu_10.aln -uc ./results/otu_qc/otu_10.uc -threads 60 \n",
      "usearch v11.0.667_i86linux64, 1057Gb RAM, 64 cores\n",
      "\n",
      "Query >Otu400;size=1;\n",
      " %Id   TLen  Target\n",
      " 95%   1328  EU135296.1.1328;tax=k:Bacteria,p:Planctomycetes,c:Phycisphaerae,o:WD2101_soil_group;\n",
      "\n",
      " Query  376nt >Otu400;size=1;\n",
      "Target 1328nt >EU135296.1.1328;tax=k:Bacteria,p:Planctomycetes,c:Phycisphaerae,o:WD2101_soil_group;\n",
      "\n",
      "Qry    1 + GACAGAGGCCACAAGCGTTAGGCGGAATCACTGGGCTTAAAGCGTGTGTAGGTGGATGTCTAAGTACCTTGTGAAATCCC 80\n",
      "           ||||||||||||||||||||||||||||||||||||||||||||||||||||||||||  ||||| ||||||||||||||\n",
      "Tgt  470 + GACAGAGGCCACAAGCGTTAGGCGGAATCACTGGGCTTAAAGCGTGTGTAGGTGGATGCTTAAGTGCCTTGTGAAATCCC 549\n",
      "\n",
      "Qry   81 + ACGGCTCACCCGTGGAACTGCTTGGTATACTGGATGTCTTGAGCTATCTAGGGGCAGCTGGAACGAACGGTGGAGCGGTG 160\n",
      "           ||||||||||||||||||||||||| |||||||  |||||||||  |||||||||  ||||||| |||||||||||||||\n",
      "Tgt  550 + ACGGCTCACCCGTGGAACTGCTTGGCATACTGGGCGTCTTGAGCCGTCTAGGGGCGACTGGAACAAACGGTGGAGCGGTG 629\n",
      "\n",
      "Qry  161 + AAATGCGTAGATATCGTTCGGAACGCCAATGGTGAAAACAGGCTGCTGGGGATACGCTGACACTGAGACACGAAAGCCAG 240\n",
      "           |||||||||||||||||| |||||||||||||||||||||||  ||||||||   |||||||||||||||||||||||||\n",
      "Tgt  630 + AAATGCGTAGATATCGTTTGGAACGCCAATGGTGAAAACAGGTCGCTGGGGACGTGCTGACACTGAGACACGAAAGCCAG 709\n",
      "\n",
      "Qry  241 + GGGAGCAAACGGGATTAGATACCCCGGTAGTCCTGGCCCTAAACGATGTCCACTAGATCGTGGTGCCTCTGACGGCTTCA 320\n",
      "           ||||||||||||||||||||||||||||||||||||||||||||||||||||||||||||||||||||||||||||||||\n",
      "Tgt  710 + GGGAGCAAACGGGATTAGATACCCCGGTAGTCCTGGCCCTAAACGATGTCCACTAGATCGTGGTGCCTCTGACGGCTTCA 789\n",
      "\n",
      "Qry  321 + CGGTCGAAGCAAAAGTGCTAAGTGGACCGCCTGGGAAGTACGGTCGCAAGGCTAAA 376\n",
      "           ||||||||||||||||||||||||||||||||||||||||||||||||||||||||\n",
      "Tgt  790 + CGGTCGAAGCAAAAGTGCTAAGTGGACCGCCTGGGAAGTACGGTCGCAAGGCTAAA 845\n",
      "\n",
      "376 cols, 359 ids (95.5%), 0 gaps (0.0%)\n",
      "\n",
      "Query >Otu381;size=1;\n",
      " %Id   TLen  Target\n",
      "100%   1482  AB847105.1.1482;tax=k:Bacteria,p:Actinobacteria,c:Actinobacteria,o:Micrococcales,f:Microbacteriaceae,g:Agromyces,s:Agromyces_marinus;\n",
      "\n",
      " Query  377nt >Otu381;size=1;\n",
      "Target 1482nt >AB847105.1.1482;tax=k:Bacteria,p:Actinobacteria,c:Actinobacteria,o:Micrococcales,f:Microbacteriaceae,g:Agromyces,s:Agromyces_marinus;\n",
      "\n",
      "Qry    1 + TACGTAGGGTCCGAGCGTTGTCCGGAATTATTGGGCGTAAAGAGCTCGTAGGCGGTTTGTCGCGTCTGCTGTGAAATCCC 80\n",
      "           ||||||||||||||||||||||||||||||||||||||||||||||||||||||||||||||||||||||||||||||||\n",
      "Tgt  488 + TACGTAGGGTCCGAGCGTTGTCCGGAATTATTGGGCGTAAAGAGCTCGTAGGCGGTTTGTCGCGTCTGCTGTGAAATCCC 567\n",
      "\n",
      "Qry   81 + GAGGCTCAACCTCGGGCCTGCAGTGGGTACGGGCAGACTTGAGTGGTGTAGGGGAGACTGGAATTCCTGGTGTAGCGGTG 160\n",
      "           ||||||||||||||||||||||||||||||||||||||||||||||||||||||||||||||||||||||||||||||||\n",
      "Tgt  568 + GAGGCTCAACCTCGGGCCTGCAGTGGGTACGGGCAGACTTGAGTGGTGTAGGGGAGACTGGAATTCCTGGTGTAGCGGTG 647\n",
      "\n",
      "Qry  161 + GAATGCGCAGATATCAGGAGGAACACCGATGGCGAAGGCAGGTCTCTGGGCACTTACTGACGCTGAGGAGCGAAAGCGTG 240\n",
      "           ||||||||||||||||||||||||||||||||||||||||||||||||||||||||||||||||||||||||||||||||\n",
      "Tgt  648 + GAATGCGCAGATATCAGGAGGAACACCGATGGCGAAGGCAGGTCTCTGGGCACTTACTGACGCTGAGGAGCGAAAGCGTG 727\n"
     ]
    }
   ],
   "source": [
    "%%bash \n",
    "cat ./results/otu_qc/otu_10.aln | head -n 50\n",
    "# cat ./results/otu_qc/zotu_10.aln | head -n 50"
   ]
  },
  {
   "cell_type": "markdown",
   "id": "727b168f",
   "metadata": {},
   "source": [
    "To get a quick overview of the identity distribution, sort field 4 of the .uc file (%id, see [uc file format](https://drive5.com/usearch/manual/opt_uc.html))."
   ]
  },
  {
   "cell_type": "code",
   "execution_count": 4,
   "id": "b32dafb5",
   "metadata": {},
   "outputs": [
    {
     "name": "stdout",
     "output_type": "stream",
     "text": [
      "   5431 *\n",
      "     22 90.0\n",
      "    184 90.1\n",
      "    411 90.2\n",
      "     51 90.3\n",
      "    312 90.4\n",
      "    133 90.5\n",
      "     87 90.6\n",
      "    343 90.7\n",
      "     36 90.8\n"
     ]
    }
   ],
   "source": [
    "%%bash \n",
    "# cut -f4 ./results/otu_qc/otu.uc | sort -g | uniq -c > ./results/otu_qc/id_dist.txt\n",
    "cut -f4 ./results/otu_qc/otu_10.uc | sort -g | uniq -c  | head -n 10\n",
    "# cut -f4 ./results/otu_qc/zotu_10.uc | sort -g | uniq -c  | head -n 10"
   ]
  },
  {
   "cell_type": "markdown",
   "id": "f06b6bf6",
   "metadata": {},
   "source": [
    "The strand is the 5th field in the uc file, so to check that all OTUs are on the same strand, if you find that you have OTUs on both strands, then you need to orient the reads onto the same strand before quality filtering and re-build the OTUs."
   ]
  },
  {
   "cell_type": "code",
   "execution_count": 6,
   "id": "ef37d415",
   "metadata": {},
   "outputs": [
    {
     "name": "stdout",
     "output_type": "stream",
     "text": [
      "About OTU ...\n",
      "  10421 +\n",
      "     16 -\n",
      "   5431 .\n",
      "About zOTU ...\n",
      "  15841 +\n",
      "      7 -\n",
      "    758 .\n"
     ]
    }
   ],
   "source": [
    "%%bash \n",
    "echo \"About OTU ...\"\n",
    "cut -f5 ./results/otu_qc/otu_10.uc | sort | uniq -c\n",
    "echo \"About zOTU ...\"\n",
    "cut -f5 ./results/otu_qc/zotu_10.uc | sort | uniq -c"
   ]
  },
  {
   "cell_type": "markdown",
   "id": "6c7bae38",
   "metadata": {},
   "source": [
    "### 6.7.2. <a id='toc6_7_2_'></a>[All OTUs should appear in the OTU table](#toc0_)"
   ]
  },
  {
   "cell_type": "markdown",
   "id": "5d731146",
   "metadata": {},
   "source": [
    "Discussion: [https://www.drive5.com/usearch/manual/otu_qc_missing.html](https://www.drive5.com/usearch/manual/otu_qc_missing.html)\n",
    "\n",
    "所有OTU序列都应出现在OTU表中。若存在缺失，可按以下步骤分析问题,三大可能原因：\n",
    "- E1. 部分读段与多个OTU的相似度达到97%，导致OTU表仅显示其中一个OTU\n",
    "- E2. otutab搜索存在假阴性，漏检了读段中实际匹配的OTU\n",
    "- E3. 流程设计错误，导致构建OTU时包含的读段在生成OTU表时被排除\n",
    "\n",
    "Find the labels of the missing OTUs and make a FASTA file missing.fa with the sequences. You can do this by cutting the labels out of the OTU table and grepping the labels from the FASTA file with the OTU sequences, then using the Linux uniq command to find labels which appear only in the FASTA file. Finally, use the fastx_getseqs command to extract those sequences. For example,"
   ]
  },
  {
   "cell_type": "code",
   "execution_count": 7,
   "id": "35c2d214",
   "metadata": {},
   "outputs": [
    {
     "name": "stdout",
     "output_type": "stream",
     "text": [
      "table labels ...\n",
      "seq labels ...\n",
      "check missing labels ...\n"
     ]
    }
   ],
   "source": [
    "%%bash\n",
    "echo \"table labels ...\"\n",
    "cat results/feature_table/zotutab_raw.txt| cut -f1 | grep -v \"^#\" > caches/table_labels.txt\n",
    "echo \"seq labels ...\"\n",
    "cat results/merge_read_all_samples/all_samples_filtered_dereplicated_nonchimeras_zotu.fasta | grep \"^>\" | sed \"-es/>//\" > caches/seq_labels.txt\n",
    "echo \"check missing labels ...\"\n",
    "sort caches/seq_labels.txt caches/table_labels.txt | uniq -u > caches/missing_labels.txt"
   ]
  },
  {
   "cell_type": "code",
   "execution_count": 9,
   "id": "887f30ab",
   "metadata": {},
   "outputs": [],
   "source": [
    "%%bash \n",
    "cat caches/missing_labels.txt"
   ]
  },
  {
   "cell_type": "markdown",
   "id": "373f441d",
   "metadata": {},
   "source": [
    ">missing_labels.txt为空，表明没用missing_labels。"
   ]
  },
  {
   "cell_type": "code",
   "execution_count": null,
   "id": "de5eae06",
   "metadata": {},
   "outputs": [],
   "source": [
    "# %%bash \n",
    "# usearch11 \\\n",
    "#     -fastx_getseqs otus.fa \\\n",
    "#     -labels missing_labels.txt \\\n",
    "#     -fastaout missing.fa"
   ]
  },
  {
   "cell_type": "markdown",
   "id": "c17da234",
   "metadata": {},
   "source": [
    "[若因E1导致缺失，可通过比对缺失OTU与现存OTU确认]：\n",
    "1. 生成现存OTU数据库："
   ]
  },
  {
   "cell_type": "code",
   "execution_count": null,
   "id": "22c38b97",
   "metadata": {},
   "outputs": [],
   "source": [
    "# %%bash\n",
    "# sort missing_labels.txt missing_labels.txt seq_labels.txt | uniq -u > notmissing_labels.txt\n",
    "# usearch11 \\\n",
    "#     -fastx_getseqs otus.fa \\\n",
    "#     -labels notmissing_labels.txt \\\n",
    "#     -fastaout notmissing.fa"
   ]
  },
  {
   "cell_type": "markdown",
   "id": "9cc93492",
   "metadata": {},
   "source": [
    "2. 执行比对分析："
   ]
  },
  {
   "cell_type": "code",
   "execution_count": null,
   "id": "1cbe9cb8",
   "metadata": {},
   "outputs": [],
   "source": [
    "# %%bash\n",
    "# usearch11 \\\n",
    "#   -usearch_global missing.fa \\\n",
    "#   -db notmissing.fa \\\n",
    "#   -strand both \\\n",
    "#   -id 0.97 \\\n",
    "#   -uc missnot.uc \\\n",
    "#   -alnout missnot.aln"
   ]
  },
  {
   "cell_type": "markdown",
   "id": "e074e220",
   "metadata": {},
   "source": [
    "3. Reasons:\n",
    "  - 负链匹配提示链重复\n",
    "  - 末端存在空位的匹配提示序列偏移"
   ]
  },
  {
   "cell_type": "markdown",
   "id": "96cf4c92",
   "metadata": {},
   "source": [
    "[otutab假阴性验证]"
   ]
  },
  {
   "cell_type": "markdown",
   "id": "e880538e",
   "metadata": {},
   "source": [
    "### 6.7.3. <a id='toc6_7_3_'></a>[OTU coverage](#toc0_)"
   ]
  },
  {
   "cell_type": "code",
   "execution_count": null,
   "id": "0514257f",
   "metadata": {},
   "outputs": [],
   "source": []
  },
  {
   "cell_type": "markdown",
   "id": "9301f58d",
   "metadata": {},
   "source": [
    "### 6.7.4. <a id='toc6_7_4_'></a>[Primer-binding sequences](#toc0_)"
   ]
  },
  {
   "cell_type": "markdown",
   "id": "be5229bd",
   "metadata": {},
   "source": [
    "[https://www.drive5.com/usearch/manual/otu_qc_primers.html](https://www.drive5.com/usearch/manual/otu_qc_primers.html)\n",
    "\n",
    "**核心问题**\n",
    "\n",
    "基因测序数据（如16S）中的引物结合序列通常会被包含在读段中，必须去除，因为：\n",
    "- PCR过程易在引物区引入碱基替换（多为消除错配）\n",
    "- 若未去除，将导致后续分析偏差\n",
    "\n",
    "**检测方法**\n",
    "\n",
    "使用search_oligodb命令验证OTU中是否残留引物序列："
   ]
  },
  {
   "cell_type": "code",
   "execution_count": 10,
   "id": "e2a19ed2",
   "metadata": {},
   "outputs": [
    {
     "name": "stdout",
     "output_type": "stream",
     "text": [
      "Check OTU ...\n",
      "usearch v11.0.667_i86linux64, 1057Gb RAM, 64 cores\n",
      "(C) Copyright 2013-18 Robert C. Edgar, all rights reserved.\n",
      "https://drive5.com/usearch\n",
      "\n",
      "From 2024 donated to public domain under CC0-1.0 license\n",
      "\n"
     ]
    },
    {
     "name": "stderr",
     "output_type": "stream",
     "text": [
      "00:00 43Mb    100.0% Reading dbs/primers.fasta\n",
      "00:00 9.8Mb     0.1% Masking (fastnucleo)      9.8Mb   100.0% Masking (fastnucleo)\n",
      "00:09 4.5Gb   100.0% Searching all_samples_filtered_dereplicated_nonchimeras_otu.fasta, 0.1% matched\n"
     ]
    }
   ],
   "source": [
    "%%bash\n",
    "echo \"Check OTU ...\"\n",
    "usearch11 \\\n",
    "  -search_oligodb results/merge_read_all_samples/all_samples_filtered_dereplicated_nonchimeras_otu.fasta \\\n",
    "  -db dbs/primers.fasta \\\n",
    "  -strand both \\\n",
    "  -userout results/otu_qc/otu_ten_10_primer_hits.txt \\\n",
    "  -userfields query+qlo+qhi+qstrand \\\n",
    "  -threads 60"
   ]
  },
  {
   "cell_type": "code",
   "execution_count": 11,
   "id": "29db7563",
   "metadata": {},
   "outputs": [
    {
     "name": "stdout",
     "output_type": "stream",
     "text": [
      "Otu40099\t128\t146\t+\n",
      "Otu42067\t380\t399\t-\n",
      "Otu42519\t13\t31\t+\n",
      "Otu43312\t6\t25\t-\n",
      "Otu44024\t1\t19\t+\n",
      "Otu50212\t377\t396\t-\n",
      "Otu50353\t377\t396\t-\n",
      "Otu61771\t169\t187\t+\n",
      "Otu61771\t137\t156\t-\n",
      "Otu63971\t69\t88\t+\n",
      "Otu64813\t373\t392\t-\n",
      "Otu65188\t384\t403\t-\n",
      "Otu66602\t158\t177\t-\n",
      "Otu68602\t6\t25\t-\n",
      "Otu70461\t375\t394\t-\n",
      "Otu70867\t13\t31\t+\n",
      "Otu75216\t345\t364\t+\n",
      "Otu75562\t79\t98\t-\n",
      "Otu76431\t4\t22\t+\n",
      "Otu79119\t15\t34\t-\n",
      "Otu79311\t147\t165\t+\n",
      "Otu79311\t114\t133\t-\n",
      "Otu80164\t377\t396\t-\n",
      "Otu80379\t375\t394\t-\n",
      "Otu81617\t216\t235\t-\n",
      "Otu81703\t377\t396\t-\n",
      "Otu83735\t290\t309\t-\n",
      "Otu84226\t377\t396\t-\n",
      "Otu84694\t397\t416\t-\n",
      "Otu85619\t375\t394\t-\n",
      "Otu85695\t8\t27\t-\n",
      "Otu86106\t378\t397\t-\n",
      "Otu86372\t10\t29\t-\n",
      "Otu86365\t8\t27\t-\n",
      "Otu86897\t13\t31\t+\n",
      "Otu88833\t377\t396\t-\n",
      "Otu89299\t6\t25\t-\n",
      "Otu91739\t27\t46\t-\n",
      "Otu93328\t375\t394\t-\n",
      "Otu93539\t67\t85\t+\n",
      "Otu93539\t35\t54\t-\n",
      "Otu93634\t36\t54\t-\n",
      "Otu93987\t48\t67\t-\n",
      "Otu94370\t8\t27\t-\n",
      "Otu96574\t5\t24\t-\n",
      "Otu97432\t110\t128\t+\n",
      "Otu97432\t77\t96\t-\n",
      "Otu97802\t373\t392\t-\n",
      "Otu99516\t377\t396\t-\n",
      "Otu102534\t107\t126\t-\n",
      "Otu104166\t5\t24\t-\n",
      "Otu104652\t377\t396\t-\n",
      "Otu106957\t13\t31\t+\n",
      "Otu109405\t11\t29\t+\n",
      "Otu112722\t210\t228\t+\n",
      "Otu112722\t180\t199\t-\n",
      "Otu114339\t8\t27\t-\n",
      "Otu115449\t199\t218\t-\n",
      "Otu116016\t378\t397\t-\n",
      "Otu116513\t99\t118\t-\n",
      "Otu117683\t32\t51\t-\n",
      "Otu117762\t319\t337\t+\n",
      "Otu118813\t375\t394\t-\n",
      "Otu120866\t120\t139\t-\n",
      "Otu122897\t4\t23\t-\n",
      "Otu124099\t377\t396\t-\n",
      "Otu126490\t158\t177\t-\n",
      "Otu127963\t376\t395\t-\n",
      "Otu128362\t113\t131\t+\n",
      "Otu128362\t81\t100\t-\n",
      "Otu131541\t8\t27\t-\n",
      "Otu132885\t89\t107\t+\n",
      "Otu132885\t56\t75\t-\n",
      "Otu132963\t375\t394\t-\n",
      "Otu133311\t11\t29\t+\n",
      "Otu136694\t89\t108\t-\n",
      "Otu140048\t291\t309\t+\n",
      "Otu140211\t11\t29\t+\n",
      "Otu140647\t199\t217\t+\n",
      "Otu141029\t95\t114\t-\n",
      "Otu142109\t137\t156\t-\n",
      "Otu142793\t346\t365\t+\n",
      "Otu143937\t377\t396\t-\n",
      "Otu144507\t377\t396\t-\n",
      "Otu146018\t245\t264\t-\n",
      "Otu146018\t266\t285\t+\n",
      "Otu146063\t153\t171\t+\n",
      "Otu146063\t121\t140\t-\n",
      "Otu147123\t375\t394\t-\n",
      "Otu152127\t384\t403\t-\n",
      "Otu154117\t144\t162\t+\n",
      "Otu154117\t111\t130\t-\n",
      "Otu155613\t375\t394\t-\n",
      "Otu156472\t62\t81\t-\n",
      "Otu156472\t82\t101\t+\n",
      "Otu156590\t52\t71\t-\n",
      "Otu157636\t374\t393\t-\n",
      "Otu157711\t84\t102\t+\n",
      "Otu157711\t50\t69\t-\n"
     ]
    }
   ],
   "source": [
    "%%bash\n",
    "cat  results/otu_qc/otu_ten_10_primer_hits.txt"
   ]
  },
  {
   "cell_type": "markdown",
   "id": "179a9b95",
   "metadata": {},
   "source": [
    ">似乎有一点问题..."
   ]
  },
  {
   "cell_type": "code",
   "execution_count": 12,
   "id": "7acf0027",
   "metadata": {},
   "outputs": [
    {
     "name": "stdout",
     "output_type": "stream",
     "text": [
      "Check zOTUs ... \n",
      "usearch v11.0.667_i86linux64, 1057Gb RAM, 64 cores\n",
      "(C) Copyright 2013-18 Robert C. Edgar, all rights reserved.\n",
      "https://drive5.com/usearch\n",
      "\n",
      "From 2024 donated to public domain under CC0-1.0 license\n",
      "\n"
     ]
    },
    {
     "name": "stderr",
     "output_type": "stream",
     "text": [
      "00:00 43Mb    100.0% Reading dbs/primers.fasta\n",
      "00:00 9.8Mb   100.0% Masking (fastnucleo)     \n",
      "00:08 4.5Gb   100.0% Searching all_samples_filtered_dereplicated_nonchimeras_zotu.fasta, 0.0% matcheddddddd\n"
     ]
    }
   ],
   "source": [
    "%%bash\n",
    "echo \"Check zOTUs ... \"\n",
    "usearch11 \\\n",
    "  -search_oligodb results/merge_read_all_samples/all_samples_filtered_dereplicated_nonchimeras_zotu.fasta \\\n",
    "  -db dbs/primers.fasta \\\n",
    "  -strand both \\\n",
    "  -userout results/otu_qc/zotu_ten_10_primer_hits.txt \\\n",
    "  -userfields query+qlo+qhi+qstrand \\\n",
    "  -threads 60"
   ]
  },
  {
   "cell_type": "code",
   "execution_count": 13,
   "id": "7a2b3db7",
   "metadata": {},
   "outputs": [],
   "source": [
    "%%bash\n",
    "head results/otu_qc/zotu_ten_10_primer_hits.txt"
   ]
  },
  {
   "cell_type": "markdown",
   "id": "85febb7c",
   "metadata": {},
   "source": [
    ">不存在问题。"
   ]
  },
  {
   "cell_type": "markdown",
   "id": "1193bbfc",
   "metadata": {},
   "source": [
    "**结果解读**\n",
    "\n",
    "1. 正向引物残留：OTU起始位置出现大量匹配\n",
    "2. 反向引物残留（仅未长度修剪的全长双端读段）：OTU末端出现大量匹配\n",
    "3. 注意局限：\n",
    "  - 若引物截除不彻底（如20nt引物仅去除16nt），此命令无法检出\n",
    "  - 原因：比对要求数据库序列全部匹配（允许替换，但不允许空位，包括末端空位）\n",
    "\n",
    "**关键处理时机**\n",
    "\n",
    "引物去除应在以下步骤之前完成：\n",
    "- 质量过滤（每个残留碱基会增加预期错误率）\n",
    "- 唯一序列识别（引物区变异会导致同一生物序列被拆分为多个唯一序列，影响丰度计算准确性）\n",
    "\n",
    "**发现问题后的应对**\n",
    "\n",
    "若检测到引物残留，必须回溯并修正分析流程：\n",
    "- 重新执行引物剥离步骤\n",
    "- 确保使用精确的引物序列（长度/方向）\n",
    "- 验证处理后的数据是否通过上述检测命令"
   ]
  },
  {
   "cell_type": "markdown",
   "id": "42a5b5e0",
   "metadata": {},
   "source": [
    "## 6.8. <a id='toc6_8_'></a>[构建特征表](#toc0_)"
   ]
  },
  {
   "cell_type": "markdown",
   "id": "b2963136",
   "metadata": {},
   "source": [
    "📊 OTU表的丰度 ≠ 真正的细胞数量: OTU/ASV 表中某个微生物的“丰度”是其对应的测序读段数（reads count），但它不是“原始样品中细胞数”的直接反映.\n",
    "\n",
    "🎯 存在的关键偏差：\n",
    "\n",
    "| 影响因素             | 描述                                             |\n",
    "| ---------------- | ---------------------------------------------- |\n",
    "| 🧬 **16S 拷贝数变异** | 不同细菌基因组中16S基因数量不同（可能从1到15+），导致同一细胞可能产生多条16S序列。 |\n",
    "| 🔁 **PCR 扩增偏好**  | 有些序列扩增效率高，某些菌的16S区与引物匹配更好 → 扩增量更大。             |\n",
    "| 💥 **测序偏差**      | 文库构建与测序平台可能对不同GC含量或二级结构序列表现不同测序效率。             |\n",
    "| 🧪 **DNA提取偏好**   | 厚壁菌（如放线菌）DNA提取难，易低估；革兰氏阴性菌容易破壁，易高估。            |\n",
    "\n",
    "✅ 那如何尽量接近真实含量？\n",
    "\n",
    "1. 归一化 / 相对丰度：通常我们会将每个样本的reads数转换为“相对丰度”.\n",
    "2. 调整16S拷贝数（理论上可做）：使用工具如 PICRUSt，根据物种的已知基因组，预测并校正不同OTU对应的16S拷贝数，从而估计更真实的细胞数。\n",
    "3. 使用内部标准品（spike-in）：在DNA提取前加入已知量的人工细菌或合成序列，作为校准参照物，从而估算每个样本中的绝对微生物量。\n",
    "4. 使用绝对定量技术（如 qPCR + 测序）：用qPCR定量某类细菌总量后，结合测序结果，可以估算每类菌的实际丰度。"
   ]
  },
  {
   "cell_type": "markdown",
   "id": "da6d688e",
   "metadata": {},
   "source": [
    "[https://drive5.com/usearch/manual/pipe_otutab.html](https://drive5.com/usearch/manual/pipe_otutab.html)\n",
    "\n",
    "[https://drive5.com/usearch/manual/mapreadstootus.html](https://drive5.com/usearch/manual/mapreadstootus.html)\n",
    "\n",
    "总结：-otutab通过相似度优先+顺序破 tie的严格策略，在物种分辨与技术误差间取得平衡。尽管高丰度OTU可能代表优势菌，但相似度才是物种分类的金标准。"
   ]
  },
  {
   "cell_type": "markdown",
   "id": "de976fc7",
   "metadata": {},
   "source": [
    "- 使用 otutab 命令将原始（或过滤后）序列映射到 OTU/ASV 数据库，生成OTU表和BIOM文件。如果使用ASV，上述ASV文件作为数据库（-zotus），若使用OTU，则用 OTU 序列文件（-otus）。-mapout 可输出序列到OTU的匹配情况。"
   ]
  },
  {
   "cell_type": "code",
   "execution_count": null,
   "id": "23df5e22",
   "metadata": {},
   "outputs": [],
   "source": [
    "%%bash \n",
    "mkdir -p ./results/feature_table"
   ]
  },
  {
   "cell_type": "code",
   "execution_count": null,
   "id": "e68813a0",
   "metadata": {},
   "outputs": [],
   "source": [
    "%%bash \n",
    "spend long time.\n",
    "echo \"otu table ...\"\n",
    "nohup usearch11 \\\n",
    "    -otutab ./results/merge_read_all_samples/all_samples.fastq \\\n",
    "    -otus results/merge_read_all_samples/all_samples_filtered_dereplicated_nonchimeras_otu.fasta \\\n",
    "    -otutabout ./results/feature_table/otutab_raw.txt \\\n",
    "    -mapout ./results/feature_table/otutab_raw_map.txt \\\n",
    "    -threads 62 > caches/otu_table.log 2>&1"
   ]
  },
  {
   "cell_type": "code",
   "execution_count": 15,
   "id": "9d30911c",
   "metadata": {},
   "outputs": [
    {
     "name": "stdout",
     "output_type": "stream",
     "text": [
      "107052539\n"
     ]
    }
   ],
   "source": [
    "%%bash\n",
    "cat ./results/feature_table/otutab_raw_map.txt | wc -l"
   ]
  },
  {
   "cell_type": "code",
   "execution_count": null,
   "id": "75011312",
   "metadata": {},
   "outputs": [
    {
     "data": {
      "text/plain": [
       "0.7763726125358772"
      ]
     },
     "execution_count": 16,
     "metadata": {},
     "output_type": "execute_result"
    }
   ],
   "source": [
    "107052539 / 137888093 # 77.6%的比对率"
   ]
  },
  {
   "cell_type": "code",
   "execution_count": null,
   "id": "d837f192",
   "metadata": {},
   "outputs": [],
   "source": [
    "%%bash \n",
    "# spend long time.\n",
    "echo \"zotu table ...\"\n",
    "nohup usearch11 \\\n",
    "    -otutab ./results/merge_read_all_samples/all_samples.fastq \\\n",
    "    -zotus results/merge_read_all_samples/all_samples_filtered_dereplicated_nonchimeras_zotu.fasta \\\n",
    "    -otutabout ./results/feature_table/zotutab_raw.txt \\\n",
    "    -mapout ./results/feature_table/zotutab_raw_map.txt \\\n",
    "    -threads 60 > caches/zotu_table.log 2>&1 &"
   ]
  },
  {
   "cell_type": "code",
   "execution_count": 14,
   "id": "584660d3",
   "metadata": {},
   "outputs": [
    {
     "name": "stdout",
     "output_type": "stream",
     "text": [
      "109725113\n"
     ]
    }
   ],
   "source": [
    "%%bash \n",
    "cat ./results/feature_table/zotutab_raw_map.txt | wc -l"
   ]
  },
  {
   "cell_type": "code",
   "execution_count": 18,
   "id": "b67f7332",
   "metadata": {},
   "outputs": [
    {
     "data": {
      "text/plain": [
       "0.7957548082124829"
      ]
     },
     "execution_count": 18,
     "metadata": {},
     "output_type": "execute_result"
    }
   ],
   "source": [
    "109725113 / 137888093 # 79.6%的比对率"
   ]
  },
  {
   "cell_type": "markdown",
   "id": "d811ce89",
   "metadata": {},
   "source": [
    "## 6.9. <a id='toc6_9_'></a>[抽样标准化](#toc0_)"
   ]
  },
  {
   "cell_type": "markdown",
   "id": "788c8939",
   "metadata": {},
   "source": [
    "[https://drive5.com/usearch/manual/cmd_otutab_rare.html](https://drive5.com/usearch/manual/cmd_otutab_rare.html)\n",
    "\n",
    "otutab_rare功能：通过无放回随机子采样（rarefaction）将OTU表中每个样本的读长数标准化至固定值，确保样本间可比性。\n",
    "\n",
    "效果：\n",
    "- 所有样本读长数标准化为5,000条（不足5,000条的样本被丢弃）。\n",
    "- 若需结果可重复，可固定随机种子：\n",
    "\n",
    "注意事项\n",
    "- 样本筛选：读长数 < -sample_size 的样本会被自动排除。\n",
    "- 生物学意义：标准化后数据适用于α/β多样性分析，但需注意：\n",
    "- 低深度样本丢失：可能引入偏差（如稀有物种信息损失）。\n",
    "- 替代方案：若样本深度差异大，可考虑DESeq2或CSS等标准化方法。\n",
    "\n",
    "为何推荐otutab_rare？\n",
    "- 统计合理性：随机子采样更接近真实群落抽样的生物学过程。\n",
    "- 结果可比性：消除测序深度差异对多样性指标（如Shannon指数）的影响。\n",
    "- 兼容性：输出格式直接适配QIIME、R等下游分析工具。"
   ]
  },
  {
   "cell_type": "markdown",
   "id": "233a2da4",
   "metadata": {},
   "source": [
    "在扩增子测序（amplicon sequencing）的分析流程中，稀释（rarefaction） 是一个有争议但常见的处理步骤，主要用于解决不同样本测序深度差异所带来的偏倚。但它不是每一步都需要做的，只有在特定的分析中才推荐进行稀释。\n",
    "\n",
    "✅ 稀释在各分析步骤中的适用性一览表：\n",
    "\n",
    "| 分析步骤                         | 是否需要稀释？ | 原因说明                                                    |\n",
    "| ---------------------------- | ------- | ------------------------------------------------------- |\n",
    "| ✅ **Alpha 多样性分析**            | ✔️ 推荐稀释 | 不同测序深度会直接影响 OTU 数、Shannon 等指数的可比性。稀释统一深度后更公平。           |\n",
    "| ✅ **Rarefaction 曲线绘制**       | ✔️ 必须稀释 | 曲线本身基于稀释过程展示物种累积趋势。                                     |\n",
    "| ✅ **Beta 多样性（PCoA, NMDS 等）** | ✔️ 通常稀释 | 多样性距离矩阵对测序深度敏感，稀释有助于消除技术偏差（除非使用加权方法如 weighted UniFrac）。 |\n",
    "| ❌ **差异分析（如 LEfSe、DESeq2）**   | ❌ 不稀释   | 使用原始计数数据或标准化方法（如 DESeq2 的内部模型），稀释会丢失统计功效。               |\n",
    "| ❌ **分类组成分析（柱状图、堆叠图）**        | ❌ 不稀释   | 使用相对丰度即可，稀释可能误导结果。                                      |\n",
    "| ❌ **共现网络分析**                 | ❌ 不稀释   | 稀释会扰乱稀有菌的出现与相关性，使用相对丰度或 compositional-aware 方法更好。       |\n",
    "| ❌ **机器学习分类、随机森林**            | ❌ 不稀释   | 使用原始或标准化数据即可，稀释会损失有效特征。                                 |\n",
    "| ❌ **功能预测（PICRUSt 等）**        | ❌ 不稀释   | 使用标准化后的相对丰度进行推断即可。                                      |\n"
   ]
  },
  {
   "cell_type": "code",
   "execution_count": null,
   "id": "53d664c9",
   "metadata": {},
   "outputs": [],
   "source": [
    "# %%bash \n",
    "# # Normalize to 5k reads / sample\n",
    "# echo \"normalize otu table ...\"\n",
    "# usearch11 \\\n",
    "#     -otutab_rare ./results/feature_table/otutab_raw.txt \\\n",
    "#     -sample_size 5000 \\\n",
    "#     -randseed 123 \\\n",
    "#     -output ./results/feature_table/otutab_5k.txt "
   ]
  },
  {
   "cell_type": "code",
   "execution_count": 3,
   "id": "5b1d7271",
   "metadata": {},
   "outputs": [],
   "source": [
    "import pandas as pd \n",
    "\n",
    "\n",
    "zotu_table = pd.read_table(\"results/feature_table/zotutab_raw.txt\")"
   ]
  },
  {
   "cell_type": "code",
   "execution_count": 14,
   "id": "2befa70e",
   "metadata": {},
   "outputs": [
    {
     "data": {
      "text/plain": [
       "(165993, 3661)"
      ]
     },
     "execution_count": 14,
     "metadata": {},
     "output_type": "execute_result"
    }
   ],
   "source": [
    "zotu_table.shape"
   ]
  },
  {
   "cell_type": "code",
   "execution_count": 10,
   "id": "acdb8830",
   "metadata": {},
   "outputs": [
    {
     "data": {
      "text/html": [
       "<div>\n",
       "<style scoped>\n",
       "    .dataframe tbody tr th:only-of-type {\n",
       "        vertical-align: middle;\n",
       "    }\n",
       "\n",
       "    .dataframe tbody tr th {\n",
       "        vertical-align: top;\n",
       "    }\n",
       "\n",
       "    .dataframe thead th {\n",
       "        text-align: right;\n",
       "    }\n",
       "</style>\n",
       "<table border=\"1\" class=\"dataframe\">\n",
       "  <thead>\n",
       "    <tr style=\"text-align: right;\">\n",
       "      <th></th>\n",
       "      <th>#OTU ID</th>\n",
       "      <th>F146a</th>\n",
       "      <th>F146b</th>\n",
       "      <th>F146c</th>\n",
       "      <th>F146d</th>\n",
       "      <th>F146e</th>\n",
       "      <th>F147a</th>\n",
       "      <th>F147b</th>\n",
       "      <th>F147c</th>\n",
       "      <th>F147d</th>\n",
       "      <th>...</th>\n",
       "      <th>G99a</th>\n",
       "      <th>G99b</th>\n",
       "      <th>G99c</th>\n",
       "      <th>G99d</th>\n",
       "      <th>G99e</th>\n",
       "      <th>G9a</th>\n",
       "      <th>G9b</th>\n",
       "      <th>G9c</th>\n",
       "      <th>G9d</th>\n",
       "      <th>G9e</th>\n",
       "    </tr>\n",
       "  </thead>\n",
       "  <tbody>\n",
       "    <tr>\n",
       "      <th>0</th>\n",
       "      <td>Zotu34128</td>\n",
       "      <td>4</td>\n",
       "      <td>1</td>\n",
       "      <td>1</td>\n",
       "      <td>0</td>\n",
       "      <td>1</td>\n",
       "      <td>0</td>\n",
       "      <td>0</td>\n",
       "      <td>1</td>\n",
       "      <td>0</td>\n",
       "      <td>...</td>\n",
       "      <td>0</td>\n",
       "      <td>0</td>\n",
       "      <td>0</td>\n",
       "      <td>0</td>\n",
       "      <td>0</td>\n",
       "      <td>0</td>\n",
       "      <td>0</td>\n",
       "      <td>0</td>\n",
       "      <td>1</td>\n",
       "      <td>0</td>\n",
       "    </tr>\n",
       "    <tr>\n",
       "      <th>1</th>\n",
       "      <td>Zotu3</td>\n",
       "      <td>166</td>\n",
       "      <td>121</td>\n",
       "      <td>191</td>\n",
       "      <td>106</td>\n",
       "      <td>233</td>\n",
       "      <td>2</td>\n",
       "      <td>7</td>\n",
       "      <td>19</td>\n",
       "      <td>10</td>\n",
       "      <td>...</td>\n",
       "      <td>0</td>\n",
       "      <td>0</td>\n",
       "      <td>0</td>\n",
       "      <td>0</td>\n",
       "      <td>0</td>\n",
       "      <td>4</td>\n",
       "      <td>1</td>\n",
       "      <td>0</td>\n",
       "      <td>0</td>\n",
       "      <td>5</td>\n",
       "    </tr>\n",
       "    <tr>\n",
       "      <th>2</th>\n",
       "      <td>Zotu155</td>\n",
       "      <td>15</td>\n",
       "      <td>11</td>\n",
       "      <td>14</td>\n",
       "      <td>10</td>\n",
       "      <td>33</td>\n",
       "      <td>2</td>\n",
       "      <td>12</td>\n",
       "      <td>20</td>\n",
       "      <td>13</td>\n",
       "      <td>...</td>\n",
       "      <td>2</td>\n",
       "      <td>0</td>\n",
       "      <td>0</td>\n",
       "      <td>0</td>\n",
       "      <td>0</td>\n",
       "      <td>6</td>\n",
       "      <td>3</td>\n",
       "      <td>6</td>\n",
       "      <td>3</td>\n",
       "      <td>3</td>\n",
       "    </tr>\n",
       "    <tr>\n",
       "      <th>3</th>\n",
       "      <td>Zotu70143</td>\n",
       "      <td>2</td>\n",
       "      <td>1</td>\n",
       "      <td>0</td>\n",
       "      <td>0</td>\n",
       "      <td>3</td>\n",
       "      <td>0</td>\n",
       "      <td>1</td>\n",
       "      <td>3</td>\n",
       "      <td>1</td>\n",
       "      <td>...</td>\n",
       "      <td>0</td>\n",
       "      <td>0</td>\n",
       "      <td>0</td>\n",
       "      <td>0</td>\n",
       "      <td>0</td>\n",
       "      <td>0</td>\n",
       "      <td>0</td>\n",
       "      <td>0</td>\n",
       "      <td>0</td>\n",
       "      <td>0</td>\n",
       "    </tr>\n",
       "    <tr>\n",
       "      <th>4</th>\n",
       "      <td>Zotu178</td>\n",
       "      <td>86</td>\n",
       "      <td>57</td>\n",
       "      <td>95</td>\n",
       "      <td>60</td>\n",
       "      <td>83</td>\n",
       "      <td>30</td>\n",
       "      <td>43</td>\n",
       "      <td>106</td>\n",
       "      <td>67</td>\n",
       "      <td>...</td>\n",
       "      <td>12</td>\n",
       "      <td>22</td>\n",
       "      <td>7</td>\n",
       "      <td>34</td>\n",
       "      <td>6</td>\n",
       "      <td>0</td>\n",
       "      <td>0</td>\n",
       "      <td>0</td>\n",
       "      <td>0</td>\n",
       "      <td>0</td>\n",
       "    </tr>\n",
       "  </tbody>\n",
       "</table>\n",
       "<p>5 rows × 3661 columns</p>\n",
       "</div>"
      ],
      "text/plain": [
       "     #OTU ID  F146a  F146b  F146c  F146d  F146e  F147a  F147b  F147c  F147d  \\\n",
       "0  Zotu34128      4      1      1      0      1      0      0      1      0   \n",
       "1      Zotu3    166    121    191    106    233      2      7     19     10   \n",
       "2    Zotu155     15     11     14     10     33      2     12     20     13   \n",
       "3  Zotu70143      2      1      0      0      3      0      1      3      1   \n",
       "4    Zotu178     86     57     95     60     83     30     43    106     67   \n",
       "\n",
       "   ...  G99a  G99b  G99c  G99d  G99e  G9a  G9b  G9c  G9d  G9e  \n",
       "0  ...     0     0     0     0     0    0    0    0    1    0  \n",
       "1  ...     0     0     0     0     0    4    1    0    0    5  \n",
       "2  ...     2     0     0     0     0    6    3    6    3    3  \n",
       "3  ...     0     0     0     0     0    0    0    0    0    0  \n",
       "4  ...    12    22     7    34     6    0    0    0    0    0  \n",
       "\n",
       "[5 rows x 3661 columns]"
      ]
     },
     "execution_count": 10,
     "metadata": {},
     "output_type": "execute_result"
    }
   ],
   "source": [
    "zotu_table.head()"
   ]
  },
  {
   "cell_type": "code",
   "execution_count": 4,
   "id": "78985494",
   "metadata": {},
   "outputs": [
    {
     "data": {
      "text/plain": [
       "<bound method NDFrame.describe of F146a    27400\n",
       "F146b    25525\n",
       "F146c    32138\n",
       "F146d    20607\n",
       "F146e    32371\n",
       "         ...  \n",
       "G9a      28207\n",
       "G9b      24032\n",
       "G9c      13241\n",
       "G9d      19901\n",
       "G9e      31933\n",
       "Length: 3660, dtype: int64>"
      ]
     },
     "execution_count": 4,
     "metadata": {},
     "output_type": "execute_result"
    }
   ],
   "source": [
    "total_reads = zotu_table.iloc[:, 1:].sum(axis= 0)\n",
    "total_reads.describe"
   ]
  },
  {
   "cell_type": "code",
   "execution_count": 16,
   "id": "ff01eb3a",
   "metadata": {},
   "outputs": [
    {
     "name": "stdout",
     "output_type": "stream",
     "text": [
      "Threshold: 173.55000000000015\n"
     ]
    }
   ],
   "source": [
    "# 去除最低丰度5%的样本\n",
    "threshold = total_reads.quantile(0.05)\n",
    "print(f\"Threshold: {threshold}\")\n",
    "# selected_samples = total_reads[total_reads > threshold].index\n",
    "# # 保留这些样本及 OTU 列\n",
    "# filtered_table = zotu_table[['#OTU ID'] + list(selected_samples)]\n",
    "# filtered_table.shape"
   ]
  },
  {
   "cell_type": "code",
   "execution_count": 17,
   "id": "bc4f5446",
   "metadata": {},
   "outputs": [
    {
     "data": {
      "image/png": "[encoded data removed]",
      "text/plain": [
       "<Figure size 640x480 with 2 Axes>"
      ]
     },
     "metadata": {},
     "output_type": "display_data"
    }
   ],
   "source": [
    "import seaborn as sns \n",
    "import matplotlib.pyplot as plt \n",
    "\n",
    "\n",
    "# threshold = 10000\n",
    "threshold = 173.55\n",
    "\n",
    "plt.subplot(2, 1, 1)\n",
    "sns.histplot(data= total_reads)\n",
    "# plt.xlim(0, 10000)\n",
    "plt.xlabel(\"Total read counts per sample\")\n",
    "plt.title(\"Raw\")\n",
    "\n",
    "plt.subplot(2, 1, 2)\n",
    "sns.histplot(data= total_reads[total_reads > threshold])\n",
    "# plt.xlim(0, 10000)\n",
    "plt.xlabel(\"Total read counts per sample\")\n",
    "plt.title(f\"Samples more than {threshold}\")\n",
    "\n",
    "plt.tight_layout()"
   ]
  },
  {
   "cell_type": "code",
   "execution_count": 30,
   "id": "1411e8ec",
   "metadata": {},
   "outputs": [
    {
     "data": {
      "image/png": "[encoded data removed]",
      "text/plain": [
       "<Figure size 1000x300 with 1 Axes>"
      ]
     },
     "metadata": {},
     "output_type": "display_data"
    }
   ],
   "source": [
    "import matplotlib.pyplot as plt \n",
    "\n",
    "\n",
    "values = range(0, 10000, 200)\n",
    "x = []\n",
    "y = []\n",
    "for value in values:\n",
    "    # print(value, total_reads[total_reads < value].shape[0])\n",
    "    x.append(value)\n",
    "    y.append(total_reads[total_reads < value].values )\n",
    "\n",
    "\n",
    "with plt.style.context(\"_mpl-gallery\"):\n",
    "    plt.figure(figsize=(10, 3))\n",
    "    plt.boxplot(y, positions= x, widths= 100)\n",
    "    plt.title('Number of Samples with Reads Below a Threshold')\n",
    "    plt.xticks(rotation= 45)\n",
    "    plt.xlabel('Read Threshold')\n",
    "    plt.ylabel('Number of Reads')"
   ]
  },
  {
   "cell_type": "code",
   "execution_count": null,
   "id": "7916ba63",
   "metadata": {},
   "outputs": [],
   "source": [
    "echo \"normalize zotu table ...\"\n",
    "usearch11 \\\n",
    "    -otutab_rare ./results/feature_table/zotutab_raw.txt \\\n",
    "    -sample_size 20000 \\\n",
    "    -randseed 123 \\\n",
    "    -output ./results/feature_table/zotutab_20k.txt \\\n",
    "    # -threads 60\n",
    "echo \"Done\"\n"
   ]
  },
  {
   "cell_type": "code",
   "execution_count": 6,
   "id": "5ea59522",
   "metadata": {
    "vscode": {
     "languageId": "shellscript"
    }
   },
   "outputs": [
    {
     "name": "stdout",
     "output_type": "stream",
     "text": [
      "normalize zotu table ...\n",
      "usearch v11.0.667_i86linux64, 1057Gb RAM, 64 cores\n",
      "(C) Copyright 2013-18 Robert C. Edgar, all rights reserved.\n",
      "https://drive5.com/usearch\n",
      "\n",
      "From 2024 donated to public domain under CC0-1.0 license\n",
      "\n"
     ]
    },
    {
     "name": "stderr",
     "output_type": "stream",
     "text": [
      "02:03 3.8Gb   100.0% Reading ./results/feature_table/zotutab_raw.txt.txtature_table/zotutab_raw.txtture_table/zotutab_raw.txtable/zotutab_raw.txteature_table/zotutab_raw.txt/zotutab_raw.txture_table/zotutab_raw.txtresults/feature_table/zotutab_raw.txtutab_raw.txtresults/feature_table/zotutab_raw.txtesults/feature_table/zotutab_raw.txtults/feature_table/zotutab_raw.txt./results/feature_table/zotutab_raw.txt ./results/feature_table/zotutab_raw.txtsults/feature_table/zotutab_raw.txts/feature_table/zotutab_raw.txt/results/feature_table/zotutab_raw.txtresults/feature_table/zotutab_raw.txts/feature_table/zotutab_raw.txts/feature_table/zotutab_raw.txtg ./results/feature_table/zotutab_raw.txtature_table/zotutab_raw.txttable/zotutab_raw.txt/feature_table/zotutab_raw.txt_table/zotutab_raw.txtle/zotutab_raw.txte_table/zotutab_raw.txt/feature_table/zotutab_raw.txte_table/zotutab_raw.txtble/zotutab_raw.txture_table/zotutab_raw.txt.txtture_table/zotutab_raw.txtfeature_table/zotutab_raw.txt/feature_table/zotutab_raw.txts/feature_table/zotutab_raw.txtre_table/zotutab_raw.txtture_table/zotutab_raw.txttutab_raw.txture_table/zotutab_raw.txtfeature_table/zotutab_raw.txtture_table/zotutab_raw.txtab_raw.txt.txt.txtture_table/zotutab_raw.txtable/zotutab_raw.txtw.txttxtotutab_raw.txtature_table/zotutab_raw.txtraw.txt/zotutab_raw.txtaw.txtab_raw.txt.txtw.txtxt\n",
      "02:37 3.8Gb   100.0% Rarefying                                      \n",
      "Deleted 547 samples size < 10000\n",
      "Deleted 43 OTUs with size=0 after rarefaction\n",
      "Deleted 547 samples with size=0 after rarefaction\n",
      "10:24 4.6Gb  Writing ./results/feature_table/zotutab_10k.txt ...done.\n"
     ]
    },
    {
     "name": "stdout",
     "output_type": "stream",
     "text": [
      "Done\n"
     ]
    }
   ],
   "source": [
    "%%bash\n",
    "# Normalize to 5k reads / sample\n",
    "echo \"normalize zotu table ...\"\n",
    "usearch11 \\\n",
    "    -otutab_rare ./results/feature_table/zotutab_raw.txt \\\n",
    "    -sample_size 10000 \\\n",
    "    -randseed 123 \\\n",
    "    -output ./results/feature_table/zotutab_10k.txt \\\n",
    "    # -threads 60\n",
    "echo \"Done\""
   ]
  },
  {
   "cell_type": "code",
   "execution_count": 53,
   "id": "87ee0293",
   "metadata": {
    "vscode": {
     "languageId": "shellscript"
    }
   },
   "outputs": [],
   "source": [
    "rared_zotu_table = pd.read_table(\"./results/feature_table/zotutab_6k.txt\")"
   ]
  },
  {
   "cell_type": "code",
   "execution_count": 54,
   "id": "f5cb6b2b",
   "metadata": {
    "vscode": {
     "languageId": "shellscript"
    }
   },
   "outputs": [
    {
     "data": {
      "text/html": [
       "<div>\n",
       "<style scoped>\n",
       "    .dataframe tbody tr th:only-of-type {\n",
       "        vertical-align: middle;\n",
       "    }\n",
       "\n",
       "    .dataframe tbody tr th {\n",
       "        vertical-align: top;\n",
       "    }\n",
       "\n",
       "    .dataframe thead th {\n",
       "        text-align: right;\n",
       "    }\n",
       "</style>\n",
       "<table border=\"1\" class=\"dataframe\">\n",
       "  <thead>\n",
       "    <tr style=\"text-align: right;\">\n",
       "      <th></th>\n",
       "      <th>#OTU ID</th>\n",
       "      <th>F146a</th>\n",
       "      <th>F146b</th>\n",
       "      <th>F146c</th>\n",
       "      <th>F146d</th>\n",
       "      <th>F146e</th>\n",
       "      <th>F147a</th>\n",
       "      <th>F147b</th>\n",
       "      <th>F147c</th>\n",
       "      <th>F147d</th>\n",
       "      <th>...</th>\n",
       "      <th>G99a</th>\n",
       "      <th>G99b</th>\n",
       "      <th>G99c</th>\n",
       "      <th>G99d</th>\n",
       "      <th>G99e</th>\n",
       "      <th>G9a</th>\n",
       "      <th>G9b</th>\n",
       "      <th>G9c</th>\n",
       "      <th>G9d</th>\n",
       "      <th>G9e</th>\n",
       "    </tr>\n",
       "  </thead>\n",
       "  <tbody>\n",
       "    <tr>\n",
       "      <th>0</th>\n",
       "      <td>Zotu34128</td>\n",
       "      <td>0</td>\n",
       "      <td>0</td>\n",
       "      <td>0</td>\n",
       "      <td>0</td>\n",
       "      <td>1</td>\n",
       "      <td>0</td>\n",
       "      <td>0</td>\n",
       "      <td>0</td>\n",
       "      <td>0</td>\n",
       "      <td>...</td>\n",
       "      <td>0</td>\n",
       "      <td>0</td>\n",
       "      <td>0</td>\n",
       "      <td>0</td>\n",
       "      <td>0</td>\n",
       "      <td>0</td>\n",
       "      <td>0</td>\n",
       "      <td>0</td>\n",
       "      <td>1</td>\n",
       "      <td>0</td>\n",
       "    </tr>\n",
       "    <tr>\n",
       "      <th>1</th>\n",
       "      <td>Zotu3</td>\n",
       "      <td>39</td>\n",
       "      <td>31</td>\n",
       "      <td>32</td>\n",
       "      <td>33</td>\n",
       "      <td>46</td>\n",
       "      <td>2</td>\n",
       "      <td>2</td>\n",
       "      <td>3</td>\n",
       "      <td>4</td>\n",
       "      <td>...</td>\n",
       "      <td>0</td>\n",
       "      <td>0</td>\n",
       "      <td>0</td>\n",
       "      <td>0</td>\n",
       "      <td>0</td>\n",
       "      <td>1</td>\n",
       "      <td>1</td>\n",
       "      <td>0</td>\n",
       "      <td>0</td>\n",
       "      <td>0</td>\n",
       "    </tr>\n",
       "    <tr>\n",
       "      <th>2</th>\n",
       "      <td>Zotu155</td>\n",
       "      <td>4</td>\n",
       "      <td>5</td>\n",
       "      <td>1</td>\n",
       "      <td>4</td>\n",
       "      <td>4</td>\n",
       "      <td>1</td>\n",
       "      <td>4</td>\n",
       "      <td>3</td>\n",
       "      <td>6</td>\n",
       "      <td>...</td>\n",
       "      <td>0</td>\n",
       "      <td>0</td>\n",
       "      <td>0</td>\n",
       "      <td>0</td>\n",
       "      <td>0</td>\n",
       "      <td>4</td>\n",
       "      <td>1</td>\n",
       "      <td>4</td>\n",
       "      <td>1</td>\n",
       "      <td>0</td>\n",
       "    </tr>\n",
       "    <tr>\n",
       "      <th>3</th>\n",
       "      <td>Zotu70143</td>\n",
       "      <td>0</td>\n",
       "      <td>0</td>\n",
       "      <td>0</td>\n",
       "      <td>0</td>\n",
       "      <td>0</td>\n",
       "      <td>0</td>\n",
       "      <td>1</td>\n",
       "      <td>0</td>\n",
       "      <td>0</td>\n",
       "      <td>...</td>\n",
       "      <td>0</td>\n",
       "      <td>0</td>\n",
       "      <td>0</td>\n",
       "      <td>0</td>\n",
       "      <td>0</td>\n",
       "      <td>0</td>\n",
       "      <td>0</td>\n",
       "      <td>0</td>\n",
       "      <td>0</td>\n",
       "      <td>0</td>\n",
       "    </tr>\n",
       "    <tr>\n",
       "      <th>4</th>\n",
       "      <td>Zotu178</td>\n",
       "      <td>20</td>\n",
       "      <td>10</td>\n",
       "      <td>18</td>\n",
       "      <td>15</td>\n",
       "      <td>13</td>\n",
       "      <td>18</td>\n",
       "      <td>13</td>\n",
       "      <td>21</td>\n",
       "      <td>16</td>\n",
       "      <td>...</td>\n",
       "      <td>2</td>\n",
       "      <td>3</td>\n",
       "      <td>1</td>\n",
       "      <td>2</td>\n",
       "      <td>2</td>\n",
       "      <td>0</td>\n",
       "      <td>0</td>\n",
       "      <td>0</td>\n",
       "      <td>0</td>\n",
       "      <td>0</td>\n",
       "    </tr>\n",
       "  </tbody>\n",
       "</table>\n",
       "<p>5 rows × 3234 columns</p>\n",
       "</div>"
      ],
      "text/plain": [
       "     #OTU ID  F146a  F146b  F146c  F146d  F146e  F147a  F147b  F147c  F147d  \\\n",
       "0  Zotu34128      0      0      0      0      1      0      0      0      0   \n",
       "1      Zotu3     39     31     32     33     46      2      2      3      4   \n",
       "2    Zotu155      4      5      1      4      4      1      4      3      6   \n",
       "3  Zotu70143      0      0      0      0      0      0      1      0      0   \n",
       "4    Zotu178     20     10     18     15     13     18     13     21     16   \n",
       "\n",
       "   ...  G99a  G99b  G99c  G99d  G99e  G9a  G9b  G9c  G9d  G9e  \n",
       "0  ...     0     0     0     0     0    0    0    0    1    0  \n",
       "1  ...     0     0     0     0     0    1    1    0    0    0  \n",
       "2  ...     0     0     0     0     0    4    1    4    1    0  \n",
       "3  ...     0     0     0     0     0    0    0    0    0    0  \n",
       "4  ...     2     3     1     2     2    0    0    0    0    0  \n",
       "\n",
       "[5 rows x 3234 columns]"
      ]
     },
     "execution_count": 54,
     "metadata": {},
     "output_type": "execute_result"
    }
   ],
   "source": [
    "rared_zotu_table.head(5)"
   ]
  },
  {
   "cell_type": "code",
   "execution_count": 72,
   "id": "a8924a72",
   "metadata": {
    "vscode": {
     "languageId": "shellscript"
    }
   },
   "outputs": [
    {
     "data": {
      "text/plain": [
       "(3660, 3233)"
      ]
     },
     "execution_count": 72,
     "metadata": {},
     "output_type": "execute_result"
    }
   ],
   "source": [
    "# Some samples have been removed.\n",
    "zotu_table.columns.__len__()-1, rared_zotu_table.columns.__len__()-1"
   ]
  },
  {
   "cell_type": "code",
   "execution_count": 71,
   "id": "4e03b64c",
   "metadata": {
    "vscode": {
     "languageId": "shellscript"
    }
   },
   "outputs": [
    {
     "data": {
      "text/plain": [
       "(165993, 165645)"
      ]
     },
     "execution_count": 71,
     "metadata": {},
     "output_type": "execute_result"
    }
   ],
   "source": [
    "# Meanwhile, some zOTUs have been removed.\n",
    "zotu_table.index.__len__(), rared_zotu_table.index.__len__()"
   ]
  },
  {
   "cell_type": "markdown",
   "id": "e3334ce3",
   "metadata": {},
   "source": [
    "## 6.10. <a id='toc6_10_'></a>[Diversity](#toc0_)"
   ]
  },
  {
   "cell_type": "markdown",
   "id": "fc1baf03",
   "metadata": {},
   "source": [
    "- 如何解释多样性指标？ \n",
    "\n",
    "[https://drive5.com/usearch/manual/diversity_metrics_meaning.html](https://drive5.com/usearch/manual/diversity_metrics_meaning.html)\n",
    "\n",
    "**Diversity metrics cannot be meaningfully measured by amplicon sequencing**\n",
    "\n",
    "The above considerations show that it is impossible to measure meaningful values for any diversity metric using NGS amplicon sequencing. However, it is still possible to compare alpha diversity between groups."
   ]
  },
  {
   "cell_type": "markdown",
   "id": "8f75ab80",
   "metadata": {},
   "source": [
    "- 如何选择多样性指标？\n",
    "\n",
    "<span style=\"color:red\">**Alpha多样性（Alpha Diversity）**</span>：在扩增子测序中，**存在/缺失（Presence/absence）分析尤其不可靠**，因此应尽量避免使用基于存在/缺失的指标（如物种丰富度Richness、未加权UniFrac）。低丰度OTU的计数比高丰度OTU更不可信，因为它们可能完全由样本间交叉污染（cross-talk）或虚假OTU导致。因此，**通常建议使用对低频OTU权重较低的指标**，例如：**Shannon熵**（Shannon entropy）和 **Simpson指数**（Simpson index）。但需注意：（1）**Simpson指数**可能受单一高丰度OTU主导，而该OTU的高丰度可能是由于偏差（如该物种的16S基因拷贝数较高，而其他物种仅1-2个拷贝）；（2）反之，若样本中**无高丰度OTU**，也可能是技术假象（如某个优势物种因引物错配被PCR强烈抑制）。  \n",
    "\n",
    "**推荐做法**：（1）使用**Shannon熵**作为Alpha多样性变化的总体指标，但需注意其差异可能源于OTU数量的变化、频率分布形态的变化或两者共同作用；（2）通过**可视化各组频率分布**（如usearch v11将支持的新功能）能更好地理解差异。  \n",
    "\n",
    "---\n",
    "\n",
    "<span style=\"color:red\">**Beta多样性（Beta Diversity）**</span>：UniFrac的设计者认为，**基于系统发育树的方法（tree-based）** 能更合理地比较样本，因为序列相似度高的OTU往往占据相似的生态位。但这一假设在微生物学中的有效性尚不明确（如有相关证据请告知）。  \n",
    "\n",
    "- **对于QIIME生成的OTU（通常噪声较大）**，使用UniFrac是必要的，可抑制噪声导致的假差异。  \n",
    "- **但对于UPARSE或UNOISE生成的高精度OTU**，UniFrac通常是**较差的Beta多样性指标**，因为它对高相似度OTU之间的差异极不敏感，而这些差异很可能具有重要生物学意义（即使OTU生态位相似）。  \n",
    "\n",
    "**推荐做法**：  \n",
    "- **默认使用加权Jaccard（weighted Jaccard）**，除非有明确理由选择其他方法。  \n",
    "\n",
    "---\n",
    "\n",
    "**关键总结**  \n",
    "| **分析类型**   | **推荐指标**                | **原因**                                                                 |\n",
    "|--------------|---------------------------|-------------------------------------------------------------------------|\n",
    "| **Alpha多样性** | Shannon熵                | 平衡敏感性和稳健性，减少低丰度OTU的干扰                                  |\n",
    "| **Beta多样性** | 加权Jaccard（高精度OTU时） | 避免UniFrac对高相似度OTU差异的忽略，更反映真实生物变异                   |\n",
    "\n",
    "> **注**：分析方法需根据数据质量（如是否去噪）和研究目标灵活调整，可视化验证至关重要。"
   ]
  },
  {
   "cell_type": "markdown",
   "id": "6424699b",
   "metadata": {},
   "source": [
    "### 6.10.1. <a id='toc6_10_1_'></a>[alpha diversity](#toc0_)"
   ]
  },
  {
   "cell_type": "markdown",
   "id": "e7219f12",
   "metadata": {},
   "source": [
    "The **-metrics** option specifies one or more metric names separated by **commas**. Default is a few popular metrics. Popular does not necessarily mean recommended. "
   ]
  },
  {
   "cell_type": "markdown",
   "id": "11a60d78",
   "metadata": {},
   "source": [
    "🧬 Diversity Metrics \n",
    "\n",
    "| Name        | Units | Description                                                                                                                                                       |\n",
    "| ----------- | ----- | ----------------------------------------------------------------------------------------------------------------------------------------------------------------- |\n",
    "| richness    | OTUs  | Number of OTUs with at least one read for the sample.                                                                                                             |\n",
    "| mirror      | OTUs  | See mirror estimator.                                                                                                                                             |\n",
    "| FE          | OTUs  | See singleton-free estimator.                                                                                                                                     |\n",
    "| chao1       | OTUs  | Chao-1 estimator, calculated as N + S² / (2D) where N is the number of OTUs, S is the number of singleton OTUs and D is the number of doublet OTUs (abundance 2). |\n",
    "| shannon\\_2  | bits  | Shannon index (log base 2).                                                                                                                                       |\n",
    "| shannon\\_e  | nats  | Shannon index (log base e).                                                                                                                                       |\n",
    "| shannon\\_10 | dits  | Shannon index (log base 10).                                                                                                                                      |\n",
    "| jost        | OTUs  | Jost index of order *q* (default 1.5, configurable via `-jostq`).                                                                                                 |\n",
    "| jost1       | OTUs  | Jost index of order 1, the effective number of species given by the Shannon index.                                                                                |\n",
    "\n",
    "⚖️ Evenness Metrics\n",
    "\n",
    "| Name           | Units       | Description                                                                                   |\n",
    "| -------------- | ----------- | --------------------------------------------------------------------------------------------- |\n",
    "| simpson        | Probability | Simpson index: sum of squared OTU frequencies. High values (\\~1) imply dominance by few OTUs. |\n",
    "| dominance      | Probability | 1 - Simpson index. Probability that two randomly selected reads are from different OTUs.      |\n",
    "| equitability   | ?           | Pielou's evenness: Shannon index divided by log(number of OTUs). 1 = perfectly even.          |\n",
    "| robbins        | Frequency   | Robbins index: S / (N + 1), where S = singleton OTUs, N = total OTUs.                         |\n",
    "| berger\\_parker | Frequency   | Berger-Parker index: frequency of the most abundant OTU. High value = dominance.              |\n",
    "\n",
    "📦 Other\n",
    "\n",
    "| Name  | Units | Description                           |\n",
    "| ----- | ----- | ------------------------------------- |\n",
    "| reads | Reads | Total number of reads for the sample. |\n"
   ]
  },
  {
   "cell_type": "code",
   "execution_count": 63,
   "id": "443e798f",
   "metadata": {
    "vscode": {
     "languageId": "shellscript"
    }
   },
   "outputs": [
    {
     "name": "stdout",
     "output_type": "stream",
     "text": [
      "create directory for diversity analysis\n"
     ]
    }
   ],
   "source": [
    "%%bash \n",
    "mkdir -p results/diversity/alpha\n",
    "echo \"create directory for diversity analysis\""
   ]
  },
  {
   "cell_type": "markdown",
   "id": "602354cd",
   "metadata": {},
   "source": [
    "原始的："
   ]
  },
  {
   "cell_type": "code",
   "execution_count": 2,
   "id": "31303ae4",
   "metadata": {
    "vscode": {
     "languageId": "shellscript"
    }
   },
   "outputs": [
    {
     "name": "stdout",
     "output_type": "stream",
     "text": [
      "alpha metrics per samples ...\n",
      "usearch v11.0.667_i86linux64, 1057Gb RAM, 64 cores\n",
      "(C) Copyright 2013-18 Robert C. Edgar, all rights reserved.\n",
      "https://drive5.com/usearch\n",
      "\n",
      "From 2024 donated to public domain under CC0-1.0 license\n",
      "\n"
     ]
    },
    {
     "name": "stderr",
     "output_type": "stream",
     "text": [
      "02:04 3.8Gb   100.0% Reading results/feature_table/zotutab_raw.txtesults/feature_table/zotutab_raw.txtlts/feature_table/zotutab_raw.txtfeature_table/zotutab_raw.txt/feature_table/zotutab_raw.txt results/feature_table/zotutab_raw.txtults/feature_table/zotutab_raw.txtraw.txtts/feature_table/zotutab_raw.txttutab_raw.txtble/zotutab_raw.txtotutab_raw.txt_raw.txttab_raw.txttutab_raw.txtature_table/zotutab_raw.txtature_table/zotutab_raw.txt/zotutab_raw.txte/zotutab_raw.txtraw.txte/zotutab_raw.txtature_table/zotutab_raw.txtotutab_raw.txtle/zotutab_raw.txtraw.txtw.txtlts/feature_table/zotutab_raw.txttw.txt.txttutab_raw.txtw.txtzotutab_raw.txtw.txtxtw.txte_table/zotutab_raw.txtle/zotutab_raw.txteature_table/zotutab_raw.txtable/zotutab_raw.txttab_raw.txt.txtfeature_table/zotutab_raw.txt/zotutab_raw.txtable/zotutab_raw.txt_raw.txttable/zotutab_raw.txttable/zotutab_raw.txt_table/zotutab_raw.txtle/zotutab_raw.txtlts/feature_table/zotutab_raw.txtesults/feature_table/zotutab_raw.txtw.txtture_table/zotutab_raw.txt results/feature_table/zotutab_raw.txtlts/feature_table/zotutab_raw.txtble/zotutab_raw.txtts/feature_table/zotutab_raw.txttxt results/feature_table/zotutab_raw.txts/feature_table/zotutab_raw.txt.txteature_table/zotutab_raw.txts/feature_table/zotutab_raw.txteature_table/zotutab_raw.txtotutab_raw.txtxtfeature_table/zotutab_raw.txtresults/feature_table/zotutab_raw.txtlts/feature_table/zotutab_raw.txteature_table/zotutab_raw.txtsults/feature_table/zotutab_raw.txtg results/feature_table/zotutab_raw.txtab_raw.txtable/zotutab_raw.txtlts/feature_table/zotutab_raw.txtults/feature_table/zotutab_raw.txt\n"
     ]
    },
    {
     "name": "stdout",
     "output_type": "stream",
     "text": [
      "Done\n"
     ]
    }
   ],
   "source": [
    "%%bash \n",
    "echo \"alpha metrics per samples ...\"\n",
    "usearch11 \\\n",
    "    -alpha_div results/feature_table/zotutab_raw.txt \\\n",
    "    -output results/diversity/alpha/zotutab_raw_alpha.txt \\\n",
    "    # -threads 30\n",
    "echo \"Done\""
   ]
  },
  {
   "cell_type": "markdown",
   "id": "b3a9d360",
   "metadata": {},
   "source": [
    "先看看5k："
   ]
  },
  {
   "cell_type": "code",
   "execution_count": 1,
   "id": "2a0ab350",
   "metadata": {
    "vscode": {
     "languageId": "shellscript"
    }
   },
   "outputs": [
    {
     "name": "stdout",
     "output_type": "stream",
     "text": [
      "alpha metrics per samples ...\n",
      "usearch v11.0.667_i86linux64, 1057Gb RAM, 64 cores\n",
      "(C) Copyright 2013-18 Robert C. Edgar, all rights reserved.\n",
      "https://drive5.com/usearch\n",
      "\n",
      "From 2024 donated to public domain under CC0-1.0 license\n",
      "\n"
     ]
    },
    {
     "name": "stderr",
     "output_type": "stream",
     "text": [
      "01:48 3.4Gb   100.0% Reading results/feature_table/zotutab_5k.txttutab_5k.txt_5k.txtable/zotutab_5k.txtt_table/zotutab_5k.txttotutab_5k.txtab_5k.txtable/zotutab_5k.txt/zotutab_5k.txt5k.txtutab_5k.txte/zotutab_5k.txte_table/zotutab_5k.txtre_table/zotutab_5k.txt.txt/zotutab_5k.txtab_5k.txtzotutab_5k.txt_table/zotutab_5k.txtture_table/zotutab_5k.txtble/zotutab_5k.txt/zotutab_5k.txtle/zotutab_5k.txt_5k.txtble/zotutab_5k.txtzotutab_5k.txttxtutab_5k.txts/feature_table/zotutab_5k.txtutab_5k.txt/zotutab_5k.txt_5k.txtab_5k.txt/zotutab_5k.txtk.txtab_5k.txtzotutab_5k.txture_table/zotutab_5k.txtxttk.txtutab_5k.txte/zotutab_5k.txtble/zotutab_5k.txtle/zotutab_5k.txtable/zotutab_5k.txt\n"
     ]
    },
    {
     "name": "stdout",
     "output_type": "stream",
     "text": [
      "Done\n"
     ]
    }
   ],
   "source": [
    "%%bash \n",
    "echo \"alpha metrics per samples ...\"\n",
    "usearch11 \\\n",
    "    -alpha_div results/feature_table/zotutab_5k.txt \\\n",
    "    -output results/diversity/alpha/zotutab_5k_alpha.txt \\\n",
    "    # -threads 30\n",
    "echo \"Done\""
   ]
  },
  {
   "cell_type": "markdown",
   "id": "108acbc6",
   "metadata": {},
   "source": [
    "再来一个6K："
   ]
  },
  {
   "cell_type": "code",
   "execution_count": 64,
   "id": "43175630",
   "metadata": {
    "vscode": {
     "languageId": "shellscript"
    }
   },
   "outputs": [
    {
     "name": "stdout",
     "output_type": "stream",
     "text": [
      "alpha metrics per samples ...\n",
      "usearch v11.0.667_i86linux64, 1057Gb RAM, 64 cores\n",
      "(C) Copyright 2013-18 Robert C. Edgar, all rights reserved.\n",
      "https://drive5.com/usearch\n",
      "\n",
      "From 2024 donated to public domain under CC0-1.0 license\n",
      "\n"
     ]
    },
    {
     "name": "stderr",
     "output_type": "stream",
     "text": [
      "01:48 3.3Gb   100.0% Reading results/feature_table/zotutab_6k.txttxtzotutab_6k.txtb_6k.txtxtk.txttxtxtature_table/zotutab_6k.txttxttutab_6k.txtre_table/zotutab_6k.txtble/zotutab_6k.txtutab_6k.txtb_6k.txttab_6k.txte/zotutab_6k.txtk.txttxtxte_table/zotutab_6k.txte/zotutab_6k.txttable/zotutab_6k.txtfeature_table/zotutab_6k.txtature_table/zotutab_6k.txte/zotutab_6k.txtotutab_6k.txtxture_table/zotutab_6k.txttab_6k.txt_6k.txt.txteature_table/zotutab_6k.txture_table/zotutab_6k.txt\n"
     ]
    },
    {
     "name": "stdout",
     "output_type": "stream",
     "text": [
      "Done\n"
     ]
    }
   ],
   "source": [
    "%%bash \n",
    "echo \"alpha metrics per samples ...\"\n",
    "usearch11 \\\n",
    "    -alpha_div results/feature_table/zotutab_6k.txt \\\n",
    "    -output results/diversity/alpha/zotutab_6k_alpha.txt \\\n",
    "    # -threads 30\n",
    "echo \"Done\""
   ]
  },
  {
   "cell_type": "code",
   "execution_count": null,
   "id": "fd738f0c",
   "metadata": {
    "vscode": {
     "languageId": "shellscript"
    }
   },
   "outputs": [],
   "source": [
    "%%bash \n",
    "echo \"alpha metrics per samples ...\"\n",
    "usearch11 \\\n",
    "    -alpha_div results/feature_table/zotutab_20k.txt \\\n",
    "    -output results/diversity/alpha/zotutab_20k_alpha.txt \\\n",
    "    # -threads 30\n",
    "echo \"Done\"\n"
   ]
  },
  {
   "cell_type": "markdown",
   "id": "445a8b89",
   "metadata": {},
   "source": [
    "To calculate the statistical significance of a change in metric between groups, use the alpha_div_sig command. [https://www.drive5.com/usearch/manual/diversity_metrics_compare_groups.html](https://www.drive5.com/usearch/manual/diversity_metrics_compare_groups.html)"
   ]
  },
  {
   "cell_type": "code",
   "execution_count": 68,
   "id": "7d529bed",
   "metadata": {},
   "outputs": [
    {
     "data": {
      "text/plain": [
       "(3233, 23)"
      ]
     },
     "execution_count": 68,
     "metadata": {},
     "output_type": "execute_result"
    }
   ],
   "source": [
    "alphas = pd.read_table(\"results/diversity/alpha/zotutab_6k_alpha.txt\")\n",
    "alphas.shape"
   ]
  },
  {
   "cell_type": "code",
   "execution_count": 74,
   "id": "229024fc",
   "metadata": {},
   "outputs": [
    {
     "data": {
      "text/html": [
       "<div>\n",
       "<style scoped>\n",
       "    .dataframe tbody tr th:only-of-type {\n",
       "        vertical-align: middle;\n",
       "    }\n",
       "\n",
       "    .dataframe tbody tr th {\n",
       "        vertical-align: top;\n",
       "    }\n",
       "\n",
       "    .dataframe thead th {\n",
       "        text-align: right;\n",
       "    }\n",
       "</style>\n",
       "<table border=\"1\" class=\"dataframe\">\n",
       "  <thead>\n",
       "    <tr style=\"text-align: right;\">\n",
       "      <th></th>\n",
       "      <th>Sample</th>\n",
       "      <th>berger_parker</th>\n",
       "      <th>buzas_gibson</th>\n",
       "      <th>chao1</th>\n",
       "      <th>dominance</th>\n",
       "      <th>equitability</th>\n",
       "      <th>jost</th>\n",
       "      <th>jost1</th>\n",
       "      <th>reads</th>\n",
       "      <th>richness</th>\n",
       "      <th>...</th>\n",
       "      <th>shannon_e</th>\n",
       "      <th>shannon_2</th>\n",
       "      <th>shannon_10</th>\n",
       "      <th>flyvbjerg</th>\n",
       "      <th>mirror</th>\n",
       "      <th>mirrorns</th>\n",
       "      <th>logfit</th>\n",
       "      <th>logfitns</th>\n",
       "      <th>logfitmu</th>\n",
       "      <th>logfitmuns</th>\n",
       "    </tr>\n",
       "  </thead>\n",
       "  <tbody>\n",
       "    <tr>\n",
       "      <th>0</th>\n",
       "      <td>F146a</td>\n",
       "      <td>0.0170</td>\n",
       "      <td>0.240</td>\n",
       "      <td>7050.4</td>\n",
       "      <td>0.998</td>\n",
       "      <td>0.921</td>\n",
       "      <td>870.9</td>\n",
       "      <td>1437.5</td>\n",
       "      <td>6000.0</td>\n",
       "      <td>2693.0</td>\n",
       "      <td>...</td>\n",
       "      <td>7.27</td>\n",
       "      <td>10.5</td>\n",
       "      <td>3.16</td>\n",
       "      <td>1711.8</td>\n",
       "      <td>3571.0</td>\n",
       "      <td>1188.0</td>\n",
       "      <td>2730.0</td>\n",
       "      <td>2620.0</td>\n",
       "      <td>-1.0</td>\n",
       "      <td>-0.3</td>\n",
       "    </tr>\n",
       "    <tr>\n",
       "      <th>1</th>\n",
       "      <td>F146b</td>\n",
       "      <td>0.0142</td>\n",
       "      <td>0.257</td>\n",
       "      <td>6561.2</td>\n",
       "      <td>0.998</td>\n",
       "      <td>0.928</td>\n",
       "      <td>1011.2</td>\n",
       "      <td>1544.2</td>\n",
       "      <td>6000.0</td>\n",
       "      <td>2724.0</td>\n",
       "      <td>...</td>\n",
       "      <td>7.34</td>\n",
       "      <td>10.6</td>\n",
       "      <td>3.19</td>\n",
       "      <td>2324.0</td>\n",
       "      <td>3642.0</td>\n",
       "      <td>1250.0</td>\n",
       "      <td>2717.0</td>\n",
       "      <td>2607.0</td>\n",
       "      <td>-1.0</td>\n",
       "      <td>-0.3</td>\n",
       "    </tr>\n",
       "    <tr>\n",
       "      <th>2</th>\n",
       "      <td>F146c</td>\n",
       "      <td>0.0175</td>\n",
       "      <td>0.247</td>\n",
       "      <td>7069.3</td>\n",
       "      <td>0.998</td>\n",
       "      <td>0.923</td>\n",
       "      <td>921.2</td>\n",
       "      <td>1479.8</td>\n",
       "      <td>6000.0</td>\n",
       "      <td>2726.0</td>\n",
       "      <td>...</td>\n",
       "      <td>7.30</td>\n",
       "      <td>10.5</td>\n",
       "      <td>3.17</td>\n",
       "      <td>1825.3</td>\n",
       "      <td>3602.0</td>\n",
       "      <td>1172.0</td>\n",
       "      <td>2783.0</td>\n",
       "      <td>2669.0</td>\n",
       "      <td>-1.0</td>\n",
       "      <td>-0.3</td>\n",
       "    </tr>\n",
       "    <tr>\n",
       "      <th>3</th>\n",
       "      <td>F146d</td>\n",
       "      <td>0.0120</td>\n",
       "      <td>0.273</td>\n",
       "      <td>7046.2</td>\n",
       "      <td>0.999</td>\n",
       "      <td>0.930</td>\n",
       "      <td>1061.3</td>\n",
       "      <td>1639.0</td>\n",
       "      <td>6000.0</td>\n",
       "      <td>2867.0</td>\n",
       "      <td>...</td>\n",
       "      <td>7.40</td>\n",
       "      <td>10.7</td>\n",
       "      <td>3.21</td>\n",
       "      <td>2335.7</td>\n",
       "      <td>3786.0</td>\n",
       "      <td>1205.0</td>\n",
       "      <td>2930.0</td>\n",
       "      <td>2812.0</td>\n",
       "      <td>-1.0</td>\n",
       "      <td>-0.3</td>\n",
       "    </tr>\n",
       "    <tr>\n",
       "      <th>4</th>\n",
       "      <td>F146e</td>\n",
       "      <td>0.0200</td>\n",
       "      <td>0.242</td>\n",
       "      <td>6713.7</td>\n",
       "      <td>0.998</td>\n",
       "      <td>0.920</td>\n",
       "      <td>865.7</td>\n",
       "      <td>1453.4</td>\n",
       "      <td>6000.0</td>\n",
       "      <td>2734.0</td>\n",
       "      <td>...</td>\n",
       "      <td>7.28</td>\n",
       "      <td>10.5</td>\n",
       "      <td>3.16</td>\n",
       "      <td>2444.4</td>\n",
       "      <td>3618.0</td>\n",
       "      <td>1185.0</td>\n",
       "      <td>2783.0</td>\n",
       "      <td>2669.0</td>\n",
       "      <td>-1.0</td>\n",
       "      <td>-0.3</td>\n",
       "    </tr>\n",
       "    <tr>\n",
       "      <th>5</th>\n",
       "      <td>F147a</td>\n",
       "      <td>0.0340</td>\n",
       "      <td>0.236</td>\n",
       "      <td>5793.3</td>\n",
       "      <td>0.998</td>\n",
       "      <td>0.920</td>\n",
       "      <td>791.7</td>\n",
       "      <td>1416.5</td>\n",
       "      <td>6000.0</td>\n",
       "      <td>2671.0</td>\n",
       "      <td>...</td>\n",
       "      <td>7.26</td>\n",
       "      <td>10.5</td>\n",
       "      <td>3.15</td>\n",
       "      <td>2506.9</td>\n",
       "      <td>3627.0</td>\n",
       "      <td>1262.0</td>\n",
       "      <td>2579.0</td>\n",
       "      <td>2579.0</td>\n",
       "      <td>-1.0</td>\n",
       "      <td>-1.0</td>\n",
       "    </tr>\n",
       "    <tr>\n",
       "      <th>6</th>\n",
       "      <td>F147b</td>\n",
       "      <td>0.0393</td>\n",
       "      <td>0.226</td>\n",
       "      <td>6385.9</td>\n",
       "      <td>0.997</td>\n",
       "      <td>0.914</td>\n",
       "      <td>717.1</td>\n",
       "      <td>1357.1</td>\n",
       "      <td>6000.0</td>\n",
       "      <td>2666.0</td>\n",
       "      <td>...</td>\n",
       "      <td>7.21</td>\n",
       "      <td>10.4</td>\n",
       "      <td>3.13</td>\n",
       "      <td>2256.9</td>\n",
       "      <td>3558.0</td>\n",
       "      <td>1198.0</td>\n",
       "      <td>2669.0</td>\n",
       "      <td>2560.0</td>\n",
       "      <td>-1.0</td>\n",
       "      <td>-0.3</td>\n",
       "    </tr>\n",
       "    <tr>\n",
       "      <th>7</th>\n",
       "      <td>F147c</td>\n",
       "      <td>0.0443</td>\n",
       "      <td>0.229</td>\n",
       "      <td>6894.8</td>\n",
       "      <td>0.997</td>\n",
       "      <td>0.913</td>\n",
       "      <td>678.0</td>\n",
       "      <td>1374.4</td>\n",
       "      <td>6000.0</td>\n",
       "      <td>2739.0</td>\n",
       "      <td>...</td>\n",
       "      <td>7.23</td>\n",
       "      <td>10.4</td>\n",
       "      <td>3.14</td>\n",
       "      <td>1892.1</td>\n",
       "      <td>3632.0</td>\n",
       "      <td>1184.0</td>\n",
       "      <td>2776.0</td>\n",
       "      <td>2664.0</td>\n",
       "      <td>-1.0</td>\n",
       "      <td>-0.3</td>\n",
       "    </tr>\n",
       "    <tr>\n",
       "      <th>8</th>\n",
       "      <td>F147d</td>\n",
       "      <td>0.0455</td>\n",
       "      <td>0.218</td>\n",
       "      <td>6065.1</td>\n",
       "      <td>0.996</td>\n",
       "      <td>0.910</td>\n",
       "      <td>638.9</td>\n",
       "      <td>1307.7</td>\n",
       "      <td>6000.0</td>\n",
       "      <td>2652.0</td>\n",
       "      <td>...</td>\n",
       "      <td>7.18</td>\n",
       "      <td>10.4</td>\n",
       "      <td>3.12</td>\n",
       "      <td>2209.9</td>\n",
       "      <td>3567.0</td>\n",
       "      <td>1206.0</td>\n",
       "      <td>2613.0</td>\n",
       "      <td>2613.0</td>\n",
       "      <td>-1.0</td>\n",
       "      <td>-1.0</td>\n",
       "    </tr>\n",
       "    <tr>\n",
       "      <th>9</th>\n",
       "      <td>F147e</td>\n",
       "      <td>0.0470</td>\n",
       "      <td>0.216</td>\n",
       "      <td>5992.8</td>\n",
       "      <td>0.996</td>\n",
       "      <td>0.910</td>\n",
       "      <td>634.8</td>\n",
       "      <td>1295.5</td>\n",
       "      <td>6000.0</td>\n",
       "      <td>2624.0</td>\n",
       "      <td>...</td>\n",
       "      <td>7.17</td>\n",
       "      <td>10.3</td>\n",
       "      <td>3.11</td>\n",
       "      <td>2133.0</td>\n",
       "      <td>3538.0</td>\n",
       "      <td>1210.0</td>\n",
       "      <td>2571.0</td>\n",
       "      <td>2571.0</td>\n",
       "      <td>-1.0</td>\n",
       "      <td>-1.0</td>\n",
       "    </tr>\n",
       "  </tbody>\n",
       "</table>\n",
       "<p>10 rows × 23 columns</p>\n",
       "</div>"
      ],
      "text/plain": [
       "  Sample  berger_parker  buzas_gibson   chao1  dominance  equitability  \\\n",
       "0  F146a         0.0170         0.240  7050.4      0.998         0.921   \n",
       "1  F146b         0.0142         0.257  6561.2      0.998         0.928   \n",
       "2  F146c         0.0175         0.247  7069.3      0.998         0.923   \n",
       "3  F146d         0.0120         0.273  7046.2      0.999         0.930   \n",
       "4  F146e         0.0200         0.242  6713.7      0.998         0.920   \n",
       "5  F147a         0.0340         0.236  5793.3      0.998         0.920   \n",
       "6  F147b         0.0393         0.226  6385.9      0.997         0.914   \n",
       "7  F147c         0.0443         0.229  6894.8      0.997         0.913   \n",
       "8  F147d         0.0455         0.218  6065.1      0.996         0.910   \n",
       "9  F147e         0.0470         0.216  5992.8      0.996         0.910   \n",
       "\n",
       "     jost   jost1   reads  richness  ...  shannon_e  shannon_2  shannon_10  \\\n",
       "0   870.9  1437.5  6000.0    2693.0  ...       7.27       10.5        3.16   \n",
       "1  1011.2  1544.2  6000.0    2724.0  ...       7.34       10.6        3.19   \n",
       "2   921.2  1479.8  6000.0    2726.0  ...       7.30       10.5        3.17   \n",
       "3  1061.3  1639.0  6000.0    2867.0  ...       7.40       10.7        3.21   \n",
       "4   865.7  1453.4  6000.0    2734.0  ...       7.28       10.5        3.16   \n",
       "5   791.7  1416.5  6000.0    2671.0  ...       7.26       10.5        3.15   \n",
       "6   717.1  1357.1  6000.0    2666.0  ...       7.21       10.4        3.13   \n",
       "7   678.0  1374.4  6000.0    2739.0  ...       7.23       10.4        3.14   \n",
       "8   638.9  1307.7  6000.0    2652.0  ...       7.18       10.4        3.12   \n",
       "9   634.8  1295.5  6000.0    2624.0  ...       7.17       10.3        3.11   \n",
       "\n",
       "   flyvbjerg  mirror  mirrorns  logfit  logfitns  logfitmu  logfitmuns  \n",
       "0     1711.8  3571.0    1188.0  2730.0    2620.0      -1.0        -0.3  \n",
       "1     2324.0  3642.0    1250.0  2717.0    2607.0      -1.0        -0.3  \n",
       "2     1825.3  3602.0    1172.0  2783.0    2669.0      -1.0        -0.3  \n",
       "3     2335.7  3786.0    1205.0  2930.0    2812.0      -1.0        -0.3  \n",
       "4     2444.4  3618.0    1185.0  2783.0    2669.0      -1.0        -0.3  \n",
       "5     2506.9  3627.0    1262.0  2579.0    2579.0      -1.0        -1.0  \n",
       "6     2256.9  3558.0    1198.0  2669.0    2560.0      -1.0        -0.3  \n",
       "7     1892.1  3632.0    1184.0  2776.0    2664.0      -1.0        -0.3  \n",
       "8     2209.9  3567.0    1206.0  2613.0    2613.0      -1.0        -1.0  \n",
       "9     2133.0  3538.0    1210.0  2571.0    2571.0      -1.0        -1.0  \n",
       "\n",
       "[10 rows x 23 columns]"
      ]
     },
     "execution_count": 74,
     "metadata": {},
     "output_type": "execute_result"
    }
   ],
   "source": [
    "alphas.head(10)"
   ]
  },
  {
   "cell_type": "markdown",
   "id": "bd88470f",
   "metadata": {},
   "source": [
    "meta format: [https://www.drive5.com/usearch/manual/metadata_file.html](https://www.drive5.com/usearch/manual/metadata_file.html)\n",
    "\n",
    "```bash \n",
    "#1. Sample label.\n",
    "#2. Category name.\n",
    "\n",
    "Example\n",
    "\n",
    "SampleA    Sick\n",
    "SampleB    Sick\n",
    "SampleC    Healthy\n",
    "```"
   ]
  },
  {
   "cell_type": "code",
   "execution_count": null,
   "id": "06ca67c3",
   "metadata": {
    "vscode": {
     "languageId": "shellscript"
    }
   },
   "outputs": [],
   "source": [
    "# %%bash \n",
    "# echo \"Different analysis between groups ...\"\n",
    "# usearch11 \\\n",
    "#     -alpha_div_sig results/feature_table/zotutab_raw.txt \\\n",
    "#     -meta results/diversity/alpha/metainfo.txt \\\n",
    "#     -tabbedout results/diversity/alpha/sigs.txt \\\n",
    "#     -threads 30\n",
    "# echo \"Done\""
   ]
  },
  {
   "cell_type": "markdown",
   "id": "1e5d9f2d",
   "metadata": {},
   "source": [
    "### 6.10.2. <a id='toc6_10_2_'></a>[beta diversity](#toc0_)"
   ]
  },
  {
   "cell_type": "markdown",
   "id": "f8e0b40a",
   "metadata": {},
   "source": [
    "```bash\n",
    "Example: calculate all supported beta metrics and write output in directory /results/beta\n",
    "\n",
    "usearch -beta_div otutable.txt -filename_prefix /results/beta/\n",
    "```"
   ]
  },
  {
   "cell_type": "code",
   "execution_count": 73,
   "id": "243033cf",
   "metadata": {
    "vscode": {
     "languageId": "shellscript"
    }
   },
   "outputs": [
    {
     "name": "stdout",
     "output_type": "stream",
     "text": [
      "beta metrics per samples\n"
     ]
    }
   ],
   "source": [
    "%%bash \n",
    "mkdir -p results/diversity/beta\n",
    "echo \"beta metrics per samples\""
   ]
  },
  {
   "cell_type": "code",
   "execution_count": null,
   "id": "5e3b512c",
   "metadata": {
    "vscode": {
     "languageId": "shellscript"
    }
   },
   "outputs": [],
   "source": [
    "%%bash \n",
    "# Long time with only one thread.\n",
    "echo \"beta metrics per samples ...\"\n",
    "usearch11 \\\n",
    "    -beta_div results/feature_table/zotutab_raw.txt \\\n",
    "    -threads 30 \\\n",
    "    -filename_prefix results/diversity/beta/beta \\\n",
    "    # -output results/diversity/beta/beta.txt \\\n",
    "echo \"Done\""
   ]
  },
  {
   "cell_type": "code",
   "execution_count": null,
   "id": "2096a4e2",
   "metadata": {
    "vscode": {
     "languageId": "shellscript"
    }
   },
   "outputs": [],
   "source": [
    "%%bash \n",
    "# Long time with one thread limitation.\n",
    "echo \"Beta metrics: jaccard,bray_curtis ...\"\n",
    "usearch11 \\\n",
    "    -beta_div results/feature_table/zotutab_6k.txt \\\n",
    "    -threads 30 \\\n",
    "    -metrics jaccard,bray_curtis\n",
    "echo Done"
   ]
  },
  {
   "cell_type": "code",
   "execution_count": null,
   "id": "e50645d4",
   "metadata": {
    "vscode": {
     "languageId": "shellscript"
    }
   },
   "outputs": [],
   "source": [
    "usearch11 \\\n",
    "-beta_div ../../../feature_table/zotutab_20k.txt \\\n",
    "-metrics jaccard,bray_curtis \\\n",
    "-threads 30\n"
   ]
  },
  {
   "cell_type": "markdown",
   "id": "c890136a",
   "metadata": {},
   "source": [
    "## 6.11. <a id='toc6_11_'></a>[稀释曲线](#toc0_)"
   ]
  },
  {
   "cell_type": "markdown",
   "id": "a69629da",
   "metadata": {},
   "source": [
    "### 6.11.1. <a id='toc6_11_1_'></a>[Octave plots for visualizing alpha diversity](#toc0_)"
   ]
  },
  {
   "cell_type": "markdown",
   "id": "b9c3d362",
   "metadata": {},
   "source": [
    "[https://www.drive5.com/usearch/manual/octave_plot.html](https://www.drive5.com/usearch/manual/octave_plot.html)"
   ]
  },
  {
   "cell_type": "code",
   "execution_count": null,
   "id": "579110cc",
   "metadata": {
    "vscode": {
     "languageId": "shellscript"
    }
   },
   "outputs": [],
   "source": [
    "# %%bash\n",
    "# usearch -otutab_octave otutab.txt -distmxin distmx.txt \\\n",
    "#   -otutab_with_singles otutab_singles.txt \\\n",
    "#   -htmlout octave.html -svgout octave.svg"
   ]
  },
  {
   "cell_type": "markdown",
   "id": "5eac90bb",
   "metadata": {},
   "source": [
    "### 6.11.2. <a id='toc6_11_2_'></a>[Alpha diversity rarefaction curve](#toc0_)"
   ]
  },
  {
   "cell_type": "markdown",
   "id": "7d476cfa",
   "metadata": {},
   "source": [
    "[https://www.drive5.com/usearch/manual/cmd_alpha_div_rare.html](https://www.drive5.com/usearch/manual/cmd_alpha_div_rare.html)"
   ]
  },
  {
   "cell_type": "code",
   "execution_count": 75,
   "id": "7b1ca675",
   "metadata": {
    "vscode": {
     "languageId": "shellscript"
    }
   },
   "outputs": [
    {
     "name": "stdout",
     "output_type": "stream",
     "text": [
      "Rare curve ...\n"
     ]
    }
   ],
   "source": [
    "%%bash \n",
    "echo \"Rare curve ...\"\n",
    "mkdir results/diversity/rare_curve"
   ]
  },
  {
   "cell_type": "code",
   "execution_count": 77,
   "id": "ae511dc6",
   "metadata": {
    "vscode": {
     "languageId": "shellscript"
    }
   },
   "outputs": [
    {
     "name": "stdout",
     "output_type": "stream",
     "text": [
      "Alpha rarefaction ...\n",
      "usearch v11.0.667_i86linux64, 1057Gb RAM, 64 cores\n",
      "(C) Copyright 2013-18 Robert C. Edgar, all rights reserved.\n",
      "https://drive5.com/usearch\n",
      "\n",
      "From 2024 donated to public domain under CC0-1.0 license\n",
      "\n"
     ]
    },
    {
     "name": "stderr",
     "output_type": "stream",
     "text": [
      "\n",
      "\n",
      "usearch11 -alpha_div_rare results/feature_table/zotutab_raw.txt -output results/diversity/rare_curve/zotutab_raw_rare.txt -threads 60\n",
      "\n",
      "---Fatal error---\n",
      "alpha_div_rare not supported\n"
     ]
    },
    {
     "name": "stdout",
     "output_type": "stream",
     "text": [
      "Done\n"
     ]
    }
   ],
   "source": [
    "%%bash \n",
    "echo \"Alpha rarefaction ...\"\n",
    "usearch11 -alpha_div_rare results/feature_table/zotutab_raw.txt -output results/diversity/rare_curve/zotutab_raw_rare.txt -threads 60\n",
    "echo Done"
   ]
  },
  {
   "cell_type": "markdown",
   "id": "2ddf6097",
   "metadata": {},
   "source": [
    "## 6.12. <a id='toc6_12_'></a>[物种注释](#toc0_)"
   ]
  },
  {
   "cell_type": "markdown",
   "id": "797ad04b",
   "metadata": {},
   "source": [
    "**如何选择合适的数据库进行分类鉴定？** [https://drive5.com/usearch/manual/faq_tax_db.html](https://drive5.com/usearch/manual/faq_tax_db.html)\n",
    "\n",
    "I recommend using a authoritatively classified sequences, e.g. for 16S the most recent RDP training set or LTP release. I believe it is **best to use a database of type strain and isolate sequences** rather than Greengenes, SILVA or RDP, because these databases have high error rates -- roughly one in five of the taxonomy annotations are wrong [https://drive5.com/usearch/manual/sintax_algo.html](https://drive5.com/usearch/manual/sintax_algo.html)."
   ]
  },
  {
   "cell_type": "markdown",
   "id": "bf1393bb",
   "metadata": {},
   "source": [
    "### 6.12.1. <a id='toc6_12_1_'></a>[Algorithm](#toc0_)"
   ]
  },
  {
   "cell_type": "markdown",
   "id": "4d38a06a",
   "metadata": {},
   "source": [
    "- The nbc_tax command is an implementation of the RDP **Naive Bayesian Classifier algorithm** (Wang et al. 2007).\n",
    "  - [https://www.drive5.com/usearch/manual/cmd_nbc_tax.html](https://www.drive5.com/usearch/manual/cmd_nbc_tax.html)"
   ]
  },
  {
   "cell_type": "code",
   "execution_count": null,
   "id": "e3bd1de9",
   "metadata": {
    "vscode": {
     "languageId": "shellscript"
    }
   },
   "outputs": [],
   "source": [
    "# %%bash \n",
    "# usearch11 \\\n",
    "#     -nbc_tax ./results/merge_read_all_samples/all_samples_filtered_dereplicated_nonchimeras_zotu.fasta \\\n",
    "#     -db ref16s.fa \\\n",
    "#     -strand plus \\\n",
    "#     -tabbedout tax.txt"
   ]
  },
  {
   "cell_type": "markdown",
   "id": "a4036ee2",
   "metadata": {},
   "source": [
    "- 使用 **sintax** 对ASV/OTU序列进行分类注释。需准备带有标注的参考数据库（如 SILVA、Greengenes 等，需先用 makeudb_sintax 构建 .udb 格式）。下面以 SILVA 数据库为例："
   ]
  },
  {
   "cell_type": "code",
   "execution_count": null,
   "id": "32fe3ff4",
   "metadata": {
    "vscode": {
     "languageId": "shellscript"
    }
   },
   "outputs": [],
   "source": [
    "%%bash \n",
    "# Long time ...\n",
    "echo \"Aannotation with sintax ...\"\n",
    "usearch11 \\\n",
    "    -sintax ./results/merge_read_all_samples/all_samples_filtered_dereplicated_nonchimeras_otu.fasta \\\n",
    "    -db ./dbs/silva_16s_v123_usearch.udb \\\n",
    "    -tabbedout ./results/merge_read_all_samples/all_samples_filtered_dereplicated_nonchimeras_otu_sintax.txt \\\n",
    "    -strand both \\\n",
    "    -sintax_cutoff 0.8 \\\n",
    "    -threads 62"
   ]
  },
  {
   "cell_type": "code",
   "execution_count": null,
   "id": "6351f05a",
   "metadata": {
    "vscode": {
     "languageId": "shellscript"
    }
   },
   "outputs": [],
   "source": [
    "%%bash \n",
    "# Long time ...\n",
    "echo \"Aannotation with sintax ...\"\n",
    "usearch11 \\\n",
    "    -sintax ./results/merge_read_all_samples/all_samples_filtered_dereplicated_nonchimeras_zotu.fasta \\\n",
    "    -db ./dbs/silva_16s_v123_usearch.udb \\\n",
    "    -tabbedout ./results/merge_read_all_samples/all_samples_filtered_dereplicated_nonchimeras_zotu_sintax.txt \\\n",
    "    -strand both \\\n",
    "    -sintax_cutoff 0.8 \\\n",
    "    -threads 60"
   ]
  },
  {
   "cell_type": "markdown",
   "id": "eaafb42a",
   "metadata": {},
   "source": [
    "### 6.12.2. <a id='toc6_12_2_'></a>[Rank annotation](#toc0_)"
   ]
  },
  {
   "cell_type": "code",
   "execution_count": null,
   "id": "fa11716e",
   "metadata": {
    "vscode": {
     "languageId": "shellscript"
    }
   },
   "outputs": [],
   "source": [
    "# %%bash \n",
    "# usearch11 \\\n",
    "#     -sintax_summary sintax.txt \\\n",
    "#     -otutabin otutab.txt \\\n",
    "#     -output phylum_summary.txt \\\n",
    "#     -rank p"
   ]
  },
  {
   "cell_type": "markdown",
   "id": "46fd024b",
   "metadata": {},
   "source": [
    "# 7. <a id='toc7_'></a>[附录](#toc0_)"
   ]
  },
  {
   "cell_type": "markdown",
   "id": "07a3d3c0",
   "metadata": {},
   "source": [
    "## 7.1. <a id='toc7_1_'></a>[格式化数据库](#toc0_)"
   ]
  },
  {
   "cell_type": "markdown",
   "id": "0a28749f",
   "metadata": {},
   "source": [
    "Search commands require a -db option specifying a database filename. For u-commands (usearch_global, usearch_local and ublast) the database may be in FASTA format or UDB format. Other search commands (search_local and search_global) support FASTA only. The file format is automatically detected, so the -db option is used for both file types.\n",
    "\n",
    "**Indexed databases**\n",
    "\n",
    "The u-commands are designed to optimize search speed for large datasets. A key technique is using an index on the database that supports rapid retrieval of word counts or seeds. The index can be built in memory on the fly from a FASTA file, or can be pre-built and stored in a UDB file. Using FASTA can be convenient, but with large database load times are longer and more memory is required compared to using a UDB file. The memory required to store a UDB file in memory is approximately the same as the UDB file size. When indexes are created on the fly from a FASTA file, indexing options can be specified on the search command line. This also applies when a centroid database is constructed on the fly during clustering.\n",
    "\n",
    "**Non-indexed databases**\n",
    "\n",
    "The search_local and search_global commands do not use an index. They use a FASTA database file which is loaded into memory without creating an index. The memory required is approximately the same as the FASTA file size. Using these commands saves memory and can be convenient for small datasets, but searches are usually slower.\n",
    "\n",
    "| Command          | DB format       | Indexed? | Time   | File size and RAM use                     |\n",
    "|------------------|-----------------|----------|--------|-------------------------------------------|\n",
    "| usearch_global   | FASTA or UDB    | Yes      | Faster | Larger (typically 2-3x FASTA file size)   |\n",
    "| usearch_local    | FASTA or UDB    | Yes      | Faster | Larger (typically 2-3x FASTA file size)   |\n",
    "| ublast           | FASTA or UDB    | Yes      | Faster | Larger (typically 2-3x FASTA file size)   |\n",
    "| search_global    | FASTA           | No       | Slower | Smaller (similar to FASTA file size)      |\n",
    "| search_local     | FASTA           | No       | Slower | Smaller (similar to FASTA file size)      |\n",
    "\n",
    "三种数据库格式的比较：\n",
    "\n",
    "| 命令               | 主要用途                     | 适用算法       | 索引结构                          | 典型应用场景                     |\n",
    "|--------------------|----------------------------|---------------|-----------------------------------|--------------------------------|\n",
    "| `makeudb_usearch`  | 通用序列相似性搜索           | USEARCH算法   | 基于k-mer的快速全局比对索引        | OTU聚类、全序列比对 |\n",
    "| `makeudb_ublast`   | 高灵敏度蛋白/核苷酸搜索      | UBLAST算法    | 种子-扩展索引（类似BLAST）         | 远缘同源检测、功能基因注释 |\n",
    "| `makeudb_sintax`   | 分类学快速注释               | SINTAX算法    | 精简k-mer索引（优化分类特征）      | 16S/ITS物种分类     |\n",
    "\n",
    "构建UDB数据库：\n",
    "\n",
    "```bash \n",
    "# USEARCH索引（聚类用）\n",
    "usearch -makeudb_usearch ref.fasta -output ref_usearch.udb\n",
    "\n",
    "# UBLAST索引（同源搜索用）\n",
    "usearch -makeudb_ublast ref.fasta -output ref_ublast.udb -pattern 10111011\n",
    "\n",
    "# SINTAX索引（分类用）\n",
    "usearch -makeudb_sintax ref.fasta -output ref_sintax.udb -taxconfsout tax_confidence.txt\n",
    "```\n",
    "\n",
    "实际应用场景:\n",
    "\n",
    "```bash \n",
    "# 场景1：OTU聚类（USEARCH索引）\n",
    "usearch -cluster_otus reads.fq -otus otus.fa -udb ref_usearch.udb\n",
    "\n",
    "# 场景2：蛋白域检测（UBLAST索引）\n",
    "usearch -ublast query.faa -db ref_ublast.udb -evalue 1e-5 -accel 0.8\n",
    "\n",
    "# 场景3：16S分类（SINTAX索引）\n",
    "usearch -sintax reads.fq -db ref_sintax.udb -tabbedout taxonomy.txt\n",
    "```\n",
    "\n",
    ">**注意：同一序列文件经不同命令生成的UDB不可混用（如不能用SINTAX的UDB做UBLAST搜索）。**\n",
    "---"
   ]
  },
  {
   "cell_type": "markdown",
   "id": "bc0dc5a9",
   "metadata": {},
   "source": [
    "### 7.1.1. <a id='toc7_1_1_'></a>[SINTAX downloads](#toc0_)"
   ]
  },
  {
   "cell_type": "markdown",
   "id": "227a7bcb",
   "metadata": {},
   "source": [
    "[https://drive5.com/usearch/manual/sintax_downloads.html](https://drive5.com/usearch/manual/sintax_downloads.html)\n",
    "\n",
    "- 16S\n",
    "   - [rdp_16s_v18.fa.gz](https://drive5.com/sintax/rdp_16s_v18.fa.gz) RDP training set v18 (21k seqs.). RDP license terms.\n",
    "   - [rdp_16s_v16.fa.gz](https://drive5.com/sintax/rdp_16s_v16.fa.gz) RDP training set v16 (13k seqs.). RDP license terms.\n",
    "   - [rdp_16s_v16_sp.fa.gz](https://drive5.com/sintax/rdp_16s_v16_sp.fa.gz) RDP training set with species names  (**not recommended**) (can species be predicted?).\n",
    "   - [gg_16s_13.5.fa.gz](https://drive5.com/sintax/gg_16s_13.5.fa.gz) Greengenes v13.5 (1.2M seqs.). Greengenes license terms. (**not recommended**)\n",
    "   - [silva_16s_v123.fa.gz](https://drive5.com/sintax/silva_16s_v123.fa.gz) SILVA v123 (1.6M seqs.). SILVA license terms. (**not recommended**)\n",
    "   - [ltp_16s_v123.fa.gz](https://drive5.com/sintax/ltp_16s_v123.fa.gz) SILVA v123 LTP named isolate subset (12k seqs.) .SILVA license terms\n",
    " \n",
    "- ITS\n",
    "   - [UNITE (current \"utax\" version at unite.ut.ee)](https://unite.ut.ee/repository.php) (53k sequences in v7.1). UNITE license terms.\n",
    "   - [rdp_its_v2.fa.gz](https://drive5.com/sintax/rdp_its_v2.fa.gz) RDP Warcup training set v2 (18k sequences). RDP license terms.\n",
    " \n",
    "- 18S\n",
    "    - [silva_18s_v123.fa.gz](https://drive5.com/sintax/silva_18s_v123.fa.gz) SILVA v123 eukaryotic 18S subset (140k seqs.) . [SILVA license terms](https://www.arb-silva.de/silva-license-information/)\n",
    "\n",
    "例如：\n",
    ">wget https://www.arb-silva.de/fileadmin/silva_databases/release_138_2/Exports/SILVA_138.2_SSURef_NR99_tax_silva.fasta.gz"
   ]
  },
  {
   "cell_type": "markdown",
   "id": "704430c5",
   "metadata": {},
   "source": [
    "### 7.1.2. <a id='toc7_1_2_'></a>[makeudb_sintax](#toc0_)"
   ]
  },
  {
   "cell_type": "markdown",
   "id": "00556b0a",
   "metadata": {},
   "source": [
    "[https://drive5.com/usearch/manual/cmd_makeudb_sintax.html](https://drive5.com/usearch/manual/cmd_makeudb_sintax.html)\n",
    "\n",
    "The makeudb_tax command creates a UDB database file from sequences in a FASTA file. The database file is compatible with the sintax, usearch_global and usearch_local commands. Using a udb index make the database faster to load, but otherwise does not change the results.\n",
    "\n",
    "See SINTAX reference data downloads page for available reference files.\n",
    "\n",
    "You don't need to trim sequences to the same region as your reads / OTUs.\n",
    "\n",
    "The sequence labels in the FASTA file must contain taxonomy annotations.\n",
    "\n",
    "Example\n",
    "```bash\n",
    "usearch -makeudb_sintax rdp_16s.fa -output rdp_16s.udb\n",
    "```"
   ]
  },
  {
   "cell_type": "code",
   "execution_count": null,
   "id": "1221d640",
   "metadata": {},
   "outputs": [],
   "source": [
    "%%bash\n",
    "echo \"make dbs ...\"\n",
    "usearch11 \\\n",
    "    -makeudb_sintax ./dbs/silva_16s_v123.fa \\\n",
    "    -output ./dbs/silva_16s_v123_sintax.udb \\\n",
    "    -threads 62\n",
    "echo Done"
   ]
  },
  {
   "cell_type": "markdown",
   "id": "f2f6fbc1",
   "metadata": {},
   "source": [
    "### 7.1.3. <a id='toc7_1_3_'></a>[makeudb_usearch](#toc0_)"
   ]
  },
  {
   "cell_type": "markdown",
   "id": "362f29e2",
   "metadata": {},
   "source": [
    "[https://drive5.com/usearch/manual/cmd_makeudb_usearch.html](https://drive5.com/usearch/manual/cmd_makeudb_usearch.html)\n",
    "\n",
    "The makeudb_usearch command creates a UDB database file from sequences in a FASTA file. Index parameters are set to defaults for usearch_global and usearch_local. These defaults can be overridden by specifying index parameters on the command line.\n",
    "\n",
    "The name of the UDB file is specified by the -output option.\n",
    "\n",
    "Example\n",
    "```bash\n",
    "usearch -makeudb_usearch db.fasta -output db.udb\n",
    "\n",
    "usearch -makeudb_usearch db.fasta -output db.udb -wordlength 12 -dbstep 4\n",
    "```"
   ]
  },
  {
   "cell_type": "code",
   "execution_count": null,
   "id": "40c86753",
   "metadata": {},
   "outputs": [],
   "source": [
    "%%bash\n",
    "echo \"make dbs ...\"\n",
    "usearch11 \\\n",
    "    -makeudb_usearch ./dbs/silva_16s_v123.fa \\\n",
    "    -output ./dbs/silva_16s_v123_usearch.udb \\\n",
    "    -threads 62\n",
    "echo Done"
   ]
  },
  {
   "cell_type": "markdown",
   "id": "188203a9",
   "metadata": {},
   "source": [
    "### 7.1.4. <a id='toc7_1_4_'></a>[makeudb_ublast](#toc0_)"
   ]
  },
  {
   "cell_type": "markdown",
   "id": "925b1edd",
   "metadata": {},
   "source": [
    "[https://drive5.com/usearch/manual/cmd_makeudb_ublast.html](https://drive5.com/usearch/manual/cmd_makeudb_ublast.html)\n",
    "\n",
    "The makeudb_ublast command creates a UDB database file from sequences in a FASTA file. Index parameters are set to defaults for ublast. These defaults can be overridden by specifying index parameters on the command line.\n",
    "Examples\n",
    "```bash\n",
    "usearch -makeudb_ublast db.fasta -output db.udb\n",
    "```"
   ]
  },
  {
   "cell_type": "code",
   "execution_count": null,
   "id": "3a07f0d2",
   "metadata": {},
   "outputs": [],
   "source": [
    "%%bash \n",
    "usearch11 \\\n",
    "    -makeudb_ublast ./dbs/silva_16s_v123.fa \\\n",
    "    -output ./dbs/silva_16s_v123_ublast.udb \\\n",
    "    -threads 62"
   ]
  },
  {
   "cell_type": "markdown",
   "id": "4e828b58",
   "metadata": {},
   "source": [
    "### 7.1.5. <a id='toc7_1_5_'></a>[Check the information of dbs](#toc0_)"
   ]
  },
  {
   "cell_type": "code",
   "execution_count": null,
   "id": "25afb4e1",
   "metadata": {},
   "outputs": [
    {
     "name": "stdout",
     "output_type": "stream",
     "text": [
      "check the informations of dbs ...\n",
      "usearch v11.0.667_i86linux64, 1057Gb RAM, 64 cores\n",
      "(C) Copyright 2013-18 Robert C. Edgar, all rights reserved.\n",
      "https://drive5.com/usearch\n",
      "\n",
      "From 2024 donated to public domain under CC0-1.0 license\n",
      "\n"
     ]
    },
    {
     "name": "stderr",
     "output_type": "stream",
     "text": [
      "           Seqs  1636081 (1.6M)\n",
      "         Hashed  0\n",
      "     SeqIx bits  32\n",
      "    SeqPos bits  0\n",
      "          Alpha  nt (4)\n",
      "        Pattern  \"\"\n",
      "     Word width  8\n",
      "          Slots  0\n",
      "      Dict size  65536 (65.5k)\n",
      "         DBStep  1\n",
      "     StepPrefix  \"\"\n",
      "        DBAccel  100%\n",
      "       EOR byte  N\n",
      "       Tax data  N\n"
     ]
    }
   ],
   "source": [
    "%%bash \n",
    "echo \"check the informations of dbs ...\"\n",
    "usearch11 \\\n",
    "    -udbinfo ./dbs/silva_16s_v123_usearch.udb\n",
    "echo Done"
   ]
  },
  {
   "cell_type": "markdown",
   "id": "e55bc5b6",
   "metadata": {},
   "source": [
    "### 7.1.6. <a id='toc7_1_6_'></a>[udb2fasta](#toc0_)"
   ]
  },
  {
   "cell_type": "markdown",
   "id": "06f71624",
   "metadata": {},
   "source": [
    "[https://drive5.com/usearch/manual/cmd_udb2fasta.html](https://drive5.com/usearch/manual/cmd_udb2fasta.html)\n",
    "\n",
    "Extract sequences from a UDB file in FASTA format. Sequences are masked according to the settings used to created the UDB file.\n",
    "Example\n",
    "```bash\n",
    "usearch -udb2fasta db.udb -output db.fasta\n",
    "```"
   ]
  },
  {
   "cell_type": "markdown",
   "id": "0246de70",
   "metadata": {},
   "source": [
    "# 8. <a id='toc8_'></a>[Convert to html](#toc0_)"
   ]
  },
  {
   "cell_type": "code",
   "execution_count": 78,
   "id": "67b9ddef",
   "metadata": {},
   "outputs": [
    {
     "name": "stderr",
     "output_type": "stream",
     "text": [
      "[NbConvertApp] Converting notebook pipeline_v1.1.0_usearch.ipynb to html\n",
      "[NbConvertApp] WARNING | Alternative text is missing on 2 image(s).\n",
      "[NbConvertApp] Writing 614707 bytes to docs/pipeline_v1.1.0_usearch.html\n"
     ]
    }
   ],
   "source": [
    "%%bash \n",
    "jupyter nbconvert --to html --output-dir docs pipeline_v1.1.0_usearch.ipynb "
   ]
  }
 ],
 "metadata": {
  "kernelspec": {
   "display_name": "microbiome",
   "language": "python",
   "name": "python3"
  },
  "language_info": {
   "codemirror_mode": {
    "name": "ipython",
    "version": 3
   },
   "file_extension": ".py",
   "mimetype": "text/x-python",
   "name": "python",
   "nbconvert_exporter": "python",
   "pygments_lexer": "ipython3",
   "version": "3.10.17"
  }
 },
 "nbformat": 4,
 "nbformat_minor": 5
}
