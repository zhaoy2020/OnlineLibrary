{
 "cells": [
  {
   "cell_type": "markdown",
   "metadata": {},
   "source": [
    "**Table of contents**<a id='toc0_'></a>    \n",
    "- 1. [安装aspera](#toc1_)    \n",
    "  - 1.1. [下载NCBI_nt数据库](#toc1_1_)    \n",
    "  - 1.2. [ebi_sra数据库](#toc1_2_)    \n",
    "- 2. [ff](#toc2_)    \n",
    "  - 2.1. [Download](#toc2_1_)    \n",
    "  - 2.2. [Usage](#toc2_2_)    \n",
    "\n",
    "<!-- vscode-jupyter-toc-config\n",
    "\tnumbering=true\n",
    "\tanchor=true\n",
    "\tflat=false\n",
    "\tminLevel=1\n",
    "\tmaxLevel=6\n",
    "\t/vscode-jupyter-toc-config -->\n",
    "<!-- THIS CELL WILL BE REPLACED ON TOC UPDATE. DO NOT WRITE YOUR TEXT IN THIS CELL -->"
   ]
  },
  {
   "cell_type": "markdown",
   "metadata": {},
   "source": [
    "# 1. <a id='toc1_'></a>[安装aspera](#toc0_)\n",
    "```bash\n",
    "wget wget -c https://download.asperasoft.com/download/sw/connect/3.8.3/ibm-aspera-connect-3.8.3.170430-linux-g2.12-64.tar.gz\n",
    "tar -zxvf ibm-aspera-connect-3.8.3.170430-linux-g2.12-64.tar.gz\n",
    "./ibm*sh\n",
    "\n",
    "~/.aspera/connect/bin/ascp --help\n",
    "## 参数\n",
    "~/.aspera/connect/bin/ascp                          # 命令位置\n",
    "-v                                                  # 可视化\n",
    "-k 1                                                # 断点续传\n",
    "-T                                                  # 不加密（不添加此参数，可能导致无法下载）\n",
    "-l 1200m                                            # 限速1200 MB/s（限制的话可能会提高网速，实测不一定）\n",
    "-i ~/.aspera/connect/etc/asperaweb_id_dsa.openssh   # 协议位置\n",
    "anonftp@ftp.ncbi.nlm.nih.gov:/blast/db/FASTA/nt.gz  # 数据位置\n",
    ".                                                   # 下载后文件存放位置\n",
    "```\n",
    "## 1.1. <a id='toc1_1_'></a>[下载NCBI_nt数据库](#toc0_)\n",
    "```bash\n",
    "##命令结构（ascp -i [私钥] -T -K 1 -l [最大传输速度] [下载地址及SPA数据编号] [下载输出位置]）##\n",
    "~/.aspera/connect/bin/ascp -v -k 1 -T -l 1200m \\\n",
    "-i ~/.aspera/connect/etc/asperaweb_id_dsa.openssh \\\n",
    "anonftp@ftp.ncbi.nlm.nih.gov:/blast/db/FASTA/nt.gz ./\n",
    "```\n",
    "\n",
    "## 1.2. <a id='toc1_2_'></a>[ebi_sra数据库](#toc0_)\n",
    "记得加上-P 33001  \n",
    "\n",
    "```bash\n",
    "~/.aspera/connect/bin/ascp  -v -k 1 -T -l 1200m \\\n",
    "-P 33001 \\\n",
    "-i ~/.aspera/connect/etc/asperaweb_id_dsa.openssh \\\n",
    "era-fasp@fasp.sra.ebi.ac.uk:/vol1/fastq/ERR011/ERR011347/ERR011347_1.fastq.gz  ./\n",
    "\n",
    "~/.aspera/connect/bin/ascp  -v -k 1 -T -l 1200m \\\n",
    "-P 33001 \\\n",
    "-i ~/.aspera/connect/etc/asperaweb_id_dsa.openssh \\\n",
    "era-fasp@fasp.sra.ebi.ac.uk:/vol1/fastq/ERR011/ERR011347/ERR011347_2.fastq.gz  ./\n",
    "```"
   ]
  },
  {
   "cell_type": "markdown",
   "metadata": {},
   "source": [
    "# 2. <a id='toc2_'></a>[ff](#toc0_)"
   ]
  },
  {
   "cell_type": "markdown",
   "metadata": {},
   "source": [
    "## 2.1. <a id='toc2_1_'></a>[Download](#toc0_)\n"
   ]
  },
  {
   "cell_type": "code",
   "execution_count": null,
   "metadata": {
    "vscode": {
     "languageId": "plaintext"
    }
   },
   "outputs": [],
   "source": [
    "%%bash \n",
    "curl -fsSL ftp://ftp.ncbi.nlm.nih.gov/entrez/entrezdirect/install-edirect.sh\n",
    "echo 'export PATH=\"/home/edirect\"' >> ~/.bashrc\n",
    "echo $PATH"
   ]
  },
  {
   "cell_type": "markdown",
   "metadata": {},
   "source": [
    "## 2.2. <a id='toc2_2_'></a>[Usage](#toc0_)"
   ]
  },
  {
   "cell_type": "code",
   "execution_count": null,
   "metadata": {
    "vscode": {
     "languageId": "plaintext"
    }
   },
   "outputs": [],
   "source": [
    "%%bash\n",
    "esearch -db nuccore -query \"insulin [PROT] AND rodents [ORGN]\"\n"
   ]
  }
 ],
 "metadata": {
  "language_info": {
   "name": "python"
  },
  "orig_nbformat": 4
 },
 "nbformat": 4,
 "nbformat_minor": 2
}
