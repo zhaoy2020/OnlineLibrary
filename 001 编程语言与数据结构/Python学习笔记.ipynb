{
 "cells": [
  {
   "cell_type": "markdown",
   "metadata": {},
   "source": [
    "# Python学习笔记\n",
    "---"
   ]
  },
  {
   "cell_type": "markdown",
   "metadata": {},
   "source": [
    "- vscode快捷方式"
   ]
  },
  {
   "cell_type": "code",
   "execution_count": null,
   "metadata": {},
   "outputs": [],
   "source": [
    "# ctrl + / # 单行注释\n",
    "# ctrl + shift + k # 单行删除\n",
    "# alt + up/down # 上下移动\n",
    "# alt + shift + up/donw # 单行复制\n",
    "# \n",
    "# "
   ]
  },
  {
   "cell_type": "markdown",
   "metadata": {},
   "source": [
    "---"
   ]
  },
  {
   "cell_type": "markdown",
   "metadata": {},
   "source": [
    "## 数据类型"
   ]
  },
  {
   "cell_type": "markdown",
   "metadata": {},
   "source": [
    "为什么要分不同的数据类型？  \n",
    "- 计算机中不同的数据类型利用的存储方式是不同的，不同数据类型计算实现的原理不同，为了充分利用存储空间和对应计算原理必须定义不同的数据类型申明（即字符，数值，布尔等等）。"
   ]
  },
  {
   "cell_type": "code",
   "execution_count": 45,
   "metadata": {},
   "outputs": [],
   "source": [
    "# 1. 字符型（string）\n",
    "# 2 数值型（整型int、浮点型float、double）\n",
    "# 3.布尔型（True、False）\n",
    "# 转换：str(), int(), float()\n",
    "\n",
    "# python调用input()函数输入变量取值，默认是字符串型，需要对应转换数据格式。\n",
    "genomeName = input( '请输入基因组名称' )\n",
    "genomeSize = int( input( '请输入基因组大小' ) )"
   ]
  },
  {
   "cell_type": "markdown",
   "metadata": {},
   "source": [
    "## 数据结构"
   ]
  },
  {
   "cell_type": "code",
   "execution_count": null,
   "metadata": {},
   "outputs": [],
   "source": [
    "# 1. 序列 字符串 ‘’ #count()\t\n",
    "# 2. 序列 列表list() or []     \t#append()\t\n",
    "# 3. 序列 元组tuple() or ()\t #不可操作\t\n",
    "# 4. 非序列 字典dict() or {}\t #append()\n",
    "\n",
    "# 序列内置操作-> 排序，索引，切片：\n",
    "# \t索引-> listName[0] # 从0开始，0表示第一个数，类似于C语言中数组。  \n",
    "\t\n",
    "# \t切片 -> listName[::]  \n",
    "# \t\t\t-> listName[2:9] # [2, 9) 做闭右开\n",
    "# \t\t\t-> listName[2:9:2] # step=2,表示每步跳两个数\n",
    "# \ttype(),\n",
    "# \tlen(),\n",
    "# \tmin(),\n",
    "# \tmax(),\n",
    "# 字符串操作：\n",
    "# 列表操作：\n",
    "# 字典操作：\n",
    "# 元祖操作："
   ]
  },
  {
   "cell_type": "markdown",
   "metadata": {},
   "source": [
    "## 标识符和关键字"
   ]
  },
  {
   "cell_type": "code",
   "execution_count": 46,
   "metadata": {},
   "outputs": [],
   "source": [
    "# 标识符：数字、字母和下划线组成，且不以数字开头。  \n",
    "# 关键字：一些特殊的标识符，Python内置好的：如 return, class 等等"
   ]
  },
  {
   "cell_type": "markdown",
   "metadata": {},
   "source": [
    "### 常量、变量、类命名规则"
   ]
  },
  {
   "cell_type": "code",
   "execution_count": null,
   "metadata": {},
   "outputs": [],
   "source": [
    "# 常量：全部大小写-> GENOME_OF_GLB191  \n",
    "# 变量、函数名：首单词小写，后每个单词首字母大写-> genomeName  \n",
    "# 类：每个单词首字母大写 -> GenomeName"
   ]
  },
  {
   "cell_type": "markdown",
   "metadata": {},
   "source": [
    "### 常用内置常量"
   ]
  },
  {
   "cell_type": "code",
   "execution_count": null,
   "metadata": {},
   "outputs": [],
   "source": [
    "# False: None []空列表 ()空元组 {}空字典\n",
    "# True： 非空"
   ]
  },
  {
   "cell_type": "markdown",
   "metadata": {},
   "source": [
    "## 运算符"
   ]
  },
  {
   "cell_type": "markdown",
   "metadata": {},
   "source": [
    "### 逻辑运算符："
   ]
  },
  {
   "cell_type": "code",
   "execution_count": null,
   "metadata": {},
   "outputs": [],
   "source": [
    "# and, or, not, is, is not, in, not in"
   ]
  },
  {
   "cell_type": "markdown",
   "metadata": {},
   "source": [
    "### 比较运算符："
   ]
  },
  {
   "cell_type": "code",
   "execution_count": null,
   "metadata": {},
   "outputs": [],
   "source": [
    "# >， >=， <， <=，!=， =="
   ]
  },
  {
   "cell_type": "markdown",
   "metadata": {},
   "source": [
    "### 增量赋值运算符："
   ]
  },
  {
   "cell_type": "code",
   "execution_count": 47,
   "metadata": {},
   "outputs": [],
   "source": [
    "# ＋、－ 、＊、／、／／、**、%、&、｜、^、>>、<<\n",
    "# 如：x += 1"
   ]
  },
  {
   "cell_type": "markdown",
   "metadata": {},
   "source": [
    "## 控制流"
   ]
  },
  {
   "cell_type": "markdown",
   "metadata": {},
   "source": [
    "- 顺序结构\n",
    "- 分支结构（判断结构）：if\n",
    "- 循环结构for, while"
   ]
  },
  {
   "cell_type": "markdown",
   "metadata": {},
   "source": [
    "### if判断："
   ]
  },
  {
   "cell_type": "code",
   "execution_count": 46,
   "metadata": {},
   "outputs": [
    {
     "ename": "SyntaxError",
     "evalue": "invalid character '：' (U+FF1A) (3092165334.py, line 1)",
     "output_type": "error",
     "traceback": [
      "\u001b[1;36m  Cell \u001b[1;32mIn[46], line 1\u001b[1;36m\u001b[0m\n\u001b[1;33m    if condition： # bool 表达式\u001b[0m\n\u001b[1;37m                ^\u001b[0m\n\u001b[1;31mSyntaxError\u001b[0m\u001b[1;31m:\u001b[0m invalid character '：' (U+FF1A)\n"
     ]
    }
   ],
   "source": [
    "if condition： # bool 表达式\n",
    "    pass\n",
    "else:\n",
    "    pass\n",
    "\n",
    "# 或\n",
    "if condition:\n",
    "    pass\n",
    "elif condition:\n",
    "    pass\n",
    "elif condition:\n",
    "    pass\n",
    "    ...\n",
    "else:\n",
    "    pass"
   ]
  },
  {
   "cell_type": "markdown",
   "metadata": {},
   "source": [
    "### for循环"
   ]
  },
  {
   "cell_type": "code",
   "execution_count": 54,
   "metadata": {},
   "outputs": [],
   "source": [
    "for x in range(1, 20, 3):\n",
    "    pass\n",
    "else:\n",
    "    pass\n",
    "# range(start,stop,step)\n"
   ]
  },
  {
   "cell_type": "markdown",
   "metadata": {},
   "source": [
    "### 内置迭代函数："
   ]
  },
  {
   "cell_type": "code",
   "execution_count": null,
   "metadata": {},
   "outputs": [],
   "source": [
    "enumerate(seq) ＃编号迭代\n",
    "sorted(seq) ＃排序法代\n",
    "reversed (seq) ＃翻转法代\n",
    "zip (seql , seq2 , ... ) ＃并行迭代\t\t"
   ]
  },
  {
   "cell_type": "markdown",
   "metadata": {},
   "source": [
    "### while循环流"
   ]
  },
  {
   "cell_type": "code",
   "execution_count": 56,
   "metadata": {},
   "outputs": [
    {
     "ename": "NameError",
     "evalue": "name 'condition' is not defined",
     "output_type": "error",
     "traceback": [
      "\u001b[1;31m---------------------------------------------------------------------------\u001b[0m",
      "\u001b[1;31mNameError\u001b[0m                                 Traceback (most recent call last)",
      "Cell \u001b[1;32mIn[56], line 1\u001b[0m\n\u001b[1;32m----> 1\u001b[0m \u001b[39mwhile\u001b[39;00m condition: \u001b[39m# bool 表达式\u001b[39;00m\n\u001b[0;32m      2\u001b[0m     \u001b[39mpass\u001b[39;00m\n\u001b[0;32m      3\u001b[0m \u001b[39melse\u001b[39;00m:\n",
      "\u001b[1;31mNameError\u001b[0m: name 'condition' is not defined"
     ]
    }
   ],
   "source": [
    "while condition: # bool 表达式\n",
    "    pass\n",
    "else:\n",
    "    pass\t\t"
   ]
  },
  {
   "cell_type": "markdown",
   "metadata": {},
   "source": [
    "### break和continue"
   ]
  },
  {
   "cell_type": "code",
   "execution_count": 57,
   "metadata": {},
   "outputs": [],
   "source": [
    "# break：停止所有循环  \n",
    "# continue：停止当前循环开始下一次循环  "
   ]
  },
  {
   "cell_type": "markdown",
   "metadata": {},
   "source": [
    "## 函数"
   ]
  },
  {
   "cell_type": "markdown",
   "metadata": {},
   "source": [
    "- 内建函数\n",
    "- lambda函数\n",
    "- 自定义函数"
   ]
  },
  {
   "cell_type": "code",
   "execution_count": 63,
   "metadata": {},
   "outputs": [
    {
     "name": "stdout",
     "output_type": "stream",
     "text": [
      "<function <lambda> at 0x0000019D6642E0E0>\n"
     ]
    }
   ],
   "source": [
    "# 内建函数\n",
    "# help()\n",
    "\n",
    "# lambda 参数：表达式\n",
    "x, y, z = 1, 2, 3.01\n",
    "lambda x, y, z: (x + y)/z \n",
    "print(lambda x, y, z: (x + y)/z )"
   ]
  },
  {
   "cell_type": "markdown",
   "metadata": {},
   "source": [
    "## 自定义函数"
   ]
  },
  {
   "cell_type": "markdown",
   "metadata": {},
   "source": [
    "- 写好注释\n",
    "- 函数参数类型，返回值类型"
   ]
  },
  {
   "cell_type": "code",
   "execution_count": 4,
   "metadata": {},
   "outputs": [
    {
     "data": {
      "text/plain": [
       "(0, 0.9966777408637875)"
      ]
     },
     "execution_count": 4,
     "metadata": {},
     "output_type": "execute_result"
    }
   ],
   "source": [
    "def function(x:int, y:int, z:float) -> (int, float): # 定义函数，备注形参类型和函数返回值类型，方便阅读和debug\n",
    "    '''\n",
    "    doc:函数的注释（annotation）\n",
    "    演示最简单的自定义函数\n",
    "    '''\n",
    "    return int((x + y)/z), (x + y)/z\n",
    "\n",
    "function(x=1, y=2, z=3.01) # 调用函数\n",
    "\n",
    "function(1, 2, 3.01) # 调用函数"
   ]
  },
  {
   "cell_type": "code",
   "execution_count": 35,
   "metadata": {},
   "outputs": [
    {
     "name": "stdout",
     "output_type": "stream",
     "text": [
      "(1, 2, 3, 4, 5)\n",
      "第0个参数为1\n",
      "第1个参数为2\n",
      "第2个参数为3\n",
      "第3个参数为4\n",
      "第4个参数为5\n",
      "(11, 22, 33)\n",
      "第0个参数为11\n",
      "第1个参数为22\n",
      "第2个参数为33\n"
     ]
    }
   ],
   "source": [
    "def functionArgs(*args)->None: # args:arguments\n",
    "    '''\n",
    "    演示*的传参用法-元组\n",
    "    '''\n",
    "    print(args)\n",
    "    for numRec, argsRec in zip(range(len(args)), args): # 调用时args即可（忽略*）\n",
    "        print(f'第{numRec}个参数为{argsRec}')\n",
    "    return None\n",
    "\n",
    "functionArgs(1,2,3,4,5) # 调用函数\n",
    "\n",
    "args = (11, 22, 33)\n",
    "functionArgs(*args)"
   ]
  },
  {
   "cell_type": "code",
   "execution_count": 34,
   "metadata": {},
   "outputs": [
    {
     "name": "stdout",
     "output_type": "stream",
     "text": [
      "{'x': 1, 'y': 2, 'z': 3.01}\n",
      "{'x': 1, 'y': 2, 'z': 3.01}\n"
     ]
    },
    {
     "data": {
      "text/plain": [
       "0.9966777408637875"
      ]
     },
     "execution_count": 34,
     "metadata": {},
     "output_type": "execute_result"
    }
   ],
   "source": [
    "def functionKwargs(**kwargs)->None: # kwargs: keyword arguments\n",
    "    '''\n",
    "    演示**的传参用法-字典\n",
    "    '''\n",
    "    print(kwargs) # kwargs其实就是字典，将实参存成字典显示传递到函数内部，调用时需要按照字典的切片取法\n",
    "    return (kwargs['x'] + kwargs['y'])/kwargs['z']\n",
    "\n",
    "functionKwargs(x=1, y=2, z=3.01) # 调用函数\n",
    "\n",
    "kwargs = {'x':1, 'y':2, 'z':3.01} # 定义字典\n",
    "functionKwargs(**kwargs) # 调用函数"
   ]
  },
  {
   "cell_type": "code",
   "execution_count": 38,
   "metadata": {},
   "outputs": [
    {
     "name": "stdout",
     "output_type": "stream",
     "text": [
      "<class 'int'> 1\n",
      "<class 'tuple'> (2, 3)\n",
      "<class 'dict'> {'r': 3.0, 'd': 6.0}\n",
      "<class 'int'> 1\n",
      "<class 'tuple'> (2, 3, 4, 5, 6)\n",
      "<class 'dict'> {'r': 3.0, 'd': 6.0}\n"
     ]
    }
   ],
   "source": [
    "def all(arg1:int, *args:tuple, **kwargs:dict)->None:\n",
    "    print(type(arg1), arg1)\n",
    "    print(type(args), args)\n",
    "    print(type(kwargs), kwargs)\n",
    "\n",
    "all(1, 2, 3, r=3.0, d=6.0) # 调用函数，注意顺序\n",
    "# all(2, 3, arg1=1, r=3.0, d=6.0) # 注意顺序\n",
    "\n",
    "args = (2, 3, 4, 5, 6) # 定义元组\n",
    "kwargs = {'r':3.0, 'd':6.0} # 定义字典\n",
    "all(1, *args, **kwargs) # 传参"
   ]
  },
  {
   "cell_type": "markdown",
   "metadata": {},
   "source": [
    "## 面向对象程序设计（ Object Oriented Programming ）简称OOP"
   ]
  },
  {
   "cell_type": "markdown",
   "metadata": {},
   "source": [
    "### 定义："
   ]
  },
  {
   "cell_type": "code",
   "execution_count": null,
   "metadata": {},
   "outputs": [],
   "source": [
    "# class 类名(父类名)：\n",
    "#     pass\n",
    "\n",
    "# 属性：变量\n",
    "# 方法：函数"
   ]
  },
  {
   "cell_type": "markdown",
   "metadata": {},
   "source": [
    "### 封装："
   ]
  },
  {
   "cell_type": "markdown",
   "metadata": {},
   "source": [
    "- 面向过程：针对函数编程\n",
    "- 面向对象：将变量（属性）和函数（方法）封装到类中综合管理编程，更符合对显示世界的描述。"
   ]
  },
  {
   "cell_type": "code",
   "execution_count": 7,
   "metadata": {},
   "outputs": [
    {
     "name": "stdout",
     "output_type": "stream",
     "text": [
      "Hello, my name is wang cai, and I am a dog\n"
     ]
    }
   ],
   "source": [
    "class Dog():\n",
    "    def __init__(self, name):  # __init__当实例化时便自动执行\n",
    "        self.name = name\t\t# self指代类实例化后对象本身，self.name在这个类中属于全局变量，而name是实例化类时候要求用户输入的参数\n",
    "        self.special = 'dog'\n",
    "    def introduction(self):\n",
    "        school = 'CAU' \t\t\t# CAU便是introduction这个放下的局部变量\n",
    "        print('Hello, my name is {}, and I am a {}'.format( self.name, self.special ))\n",
    "        \n",
    "if __name__ == '__main__':\n",
    "    '''\n",
    "    main function\n",
    "    '''\n",
    "    wang_cai = Dog('wang cai')\n",
    "    wang_cai.introduction()\n",
    "                                # self专指向这个class本身；\n",
    "                                # 所以self.name之类的变量(属性)，只是在class定义范围内的全局变量；\n",
    "                                # 局部变量不需要前面家'self.'\n",
    "                                # 而__init__(self, 变量1, 变量2, ...)中的变量是外部传入的实参和形参；\n",
    "                                # 所以self.name = name，name赋给self.name后才能在类下的其他方法中被调用（通过调用self.name）\n"
   ]
  },
  {
   "cell_type": "markdown",
   "metadata": {},
   "source": [
    "### 继承："
   ]
  },
  {
   "cell_type": "markdown",
   "metadata": {},
   "source": [
    "- 父类、子类（派生类）；\n",
    "- 父类包含于子类中，因为子类继承了所有父类的属性方法，同时又可以更改；\n",
    "- super().init，自动执行父类中def init(self)这个方法；\n",
    "- 更改子类只需要将父类同名方法重写一遍便是覆盖。\n",
    "- 关于继承更多知识参阅：https://zhuanlan.zhihu.com/p/285244974\n",
    "- 单继承，多继承（按顺序取值）；父类名字或super()替代父类名称；\n",
    "- super()替代父类的名字，避免更改父类名称后，继承该父类的子类大量的改名工作量。"
   ]
  },
  {
   "cell_type": "code",
   "execution_count": 9,
   "metadata": {},
   "outputs": [
    {
     "name": "stdout",
     "output_type": "stream",
     "text": [
      "eat\n",
      "狗汪汪叫\n",
      "呜呜。。。。。。\n",
      "像神一样的狂吠\n",
      "狗汪汪叫\n",
      "hahahahahhah\n"
     ]
    }
   ],
   "source": [
    "class Animal():\n",
    "    '''creating animal class'''\n",
    "    def __init__(self):\n",
    "        self.special = 'Aniaml'\n",
    "    def eat(self):\n",
    "        print('eat')\n",
    "\n",
    "    def drink(self):\n",
    "        print('drink')\n",
    "    def sleep(self):\n",
    "        print('sleep')\n",
    "\n",
    "class Dog(Animal):\n",
    "    '''creating dog class from animal'''\n",
    "    def __init__(self, name):\n",
    "        self.name = name\n",
    "        self.special = 'Dog'\n",
    "    def bark(self):\n",
    "        print('狗汪汪叫')\n",
    "\n",
    "class XiaoTianQuan(Dog):\n",
    "    def __init__(self):\n",
    "        self.special = '哮天犬'\n",
    "    def bark(self):\n",
    "        print('像神一样的狂吠')\n",
    "        super().bark()            # 可以保留父类的bark（）方法\n",
    "        print('hahahahahhah')\n",
    "\n",
    "class Cat(Animal):\n",
    "    '''creating cat class from animall'''\n",
    "\n",
    "    def __init__(self, name):\n",
    "        self.name = name\n",
    "        self.special = 'Cat'\n",
    "    def cry(self):\n",
    "        print('呜呜。。。。。。')\n",
    "\n",
    "if __name__ == '__main__':\n",
    "    '''\n",
    "    main function\n",
    "    '''\n",
    "    wang_cai = Dog('wang cai')  # 类的实例化成对象\n",
    "    wang_cai.eat()\n",
    "    wang_cai.bark()\n",
    "    mao = Cat('mao')  # 类的实例化成对象\n",
    "    mao.cry()\n",
    "    xtq = XiaoTianQuan()  # 类的实例化成对象\n",
    "    xtq.bark()\n"
   ]
  },
  {
   "cell_type": "markdown",
   "metadata": {},
   "source": [
    "###  多态:"
   ]
  },
  {
   "cell_type": "markdown",
   "metadata": {},
   "source": [
    "- 多态是指一类事物有多种形态，比如动物类，可以有猫，狗，猪等等。（一个抽象类有多个子类，因而多态的概念依赖于继承）"
   ]
  },
  {
   "cell_type": "code",
   "execution_count": 10,
   "metadata": {},
   "outputs": [],
   "source": [
    "class Animal():\n",
    "\tdef __init__(self, name):\n",
    "\t\tself.name = name\n",
    "\tdef run(self):\n",
    "\t\tprint(\"I am runing!\")\n",
    "\tdef getName(self):\n",
    "\t\tprint('My name is {}'.format(self.name))\n",
    "\n",
    "class Cat(Animal):\n",
    "\tdef Say(self):\n",
    "\t\tprint(' I am a cat')\n",
    "class Dog(Animal):\n",
    "\tdef Say(self):\n",
    "\t\tprint('I am a dog')\n",
    "class Person(Animal):\n",
    "\tdef Say(self):\n",
    "\t\tprint(' I am a person')\n"
   ]
  },
  {
   "cell_type": "markdown",
   "metadata": {},
   "source": [
    "- 多态性是指具有不同功能的函数可以使用相同的函数名，这样就可以用一个函数名调用不同内容的函数。在面向对象方法中一般是这样表述多态性：向不同的对象发送同一条消息，不同的对象在接收时会产生不同的行为（即方法）。也就是说，每个对象可以用自己的方式去响应共同的消息。所谓消息，就是调用函数，不同的行为就是指不同的实现，即执行不同的函数。"
   ]
  },
  {
   "cell_type": "code",
   "execution_count": 11,
   "metadata": {},
   "outputs": [
    {
     "name": "stdout",
     "output_type": "stream",
     "text": [
      " I am a cat\n",
      "I am a dog\n",
      " I am a person\n"
     ]
    }
   ],
   "source": [
    "class Animal():\n",
    "\tdef __init__(self, name):\n",
    "\t\tself.name = name\n",
    "\tdef run(self):\n",
    "\t\tprint(\"I am runing!\")\n",
    "\tdef getName(self):\n",
    "\t\tprint('My name is {}'.format(self.name))\n",
    "\tdef Say(self):\n",
    "\t\tpass\n",
    "\n",
    "class Cat(Animal):\n",
    "\tdef Say(self):\n",
    "\t\tprint(' I am a cat')\n",
    "class Dog(Animal):\n",
    "\tdef Say(self):\n",
    "\t\tprint('I am a dog')\n",
    "class Person(Animal):\n",
    "\tdef Say(self):\n",
    "\t\tprint(' I am a person')\n",
    "\n",
    "cat = Cat('mao')\n",
    "dog = Dog('gou')\n",
    "human = Person('human')\n",
    "\n",
    "def function(obj):\n",
    "\tobj.Say()\n",
    "\treturn None\n",
    "function(cat)\n",
    "function(dog)\n",
    "function(human)"
   ]
  },
  {
   "cell_type": "markdown",
   "metadata": {},
   "source": [
    "- 综上可以说，多态性是 : 一个接口,多种实现\n",
    "<br>\n",
    "<br>"
   ]
  },
  {
   "cell_type": "markdown",
   "metadata": {},
   "source": [
    "\n",
    "多态性的好处:  \n",
    "- 增加了程序的灵活性,以不变应万变，不论对象千变万化，使用者都是同一种形式去调用，如func(obj)\n",
    "- 增加了程序额可扩展性,通过继承animal类创建了一个新的类，使用者无需更改自己的代码，还是用func(obj)去调用"
   ]
  },
  {
   "cell_type": "markdown",
   "metadata": {},
   "source": [
    "## 并发编程（多进程、多线程、多协程）概述"
   ]
  },
  {
   "cell_type": "markdown",
   "metadata": {},
   "source": [
    "- 多进程：提高多喝CPU利用效率\n",
    "- 多线程：提高IO利用效率\n",
    "- 多协程：（暂不知）"
   ]
  },
  {
   "cell_type": "markdown",
   "metadata": {},
   "source": [
    "## 模块（就是一个以py扩展的文件）："
   ]
  },
  {
   "cell_type": "markdown",
   "metadata": {},
   "source": [
    "### 调用："
   ]
  },
  {
   "cell_type": "code",
   "execution_count": 13,
   "metadata": {},
   "outputs": [],
   "source": [
    "# import 模块名\n",
    "# import 模块名as 新名字\n",
    "# from 模块名import 函数名"
   ]
  },
  {
   "cell_type": "markdown",
   "metadata": {},
   "source": [
    "### 自定义模块"
   ]
  },
  {
   "cell_type": "code",
   "execution_count": null,
   "metadata": {},
   "outputs": [],
   "source": [
    "# ＃模块文件\n",
    "# ＃文件名称： module_test . py\n",
    "\n",
    "#     print （ '导入的测试模块的输出’ ） ＃被导入时会被执行，输出信息\n",
    "#     name = ’ module test ’ ＃定义一个变量\n",
    "#     def m_t_pr () : ＃模块中的函敬定义\n",
    "#         print （ ’ 模块module test 中m t pr （）函数’ ）\n",
    "        \n",
    "# ＃调用自己编写的模块\n",
    "# ＃文件名： a8_2. py\n",
    "#     import module_test ＃导入模块\n",
    "    \n",
    "#     module_test.m_t_pr() ＃调用导入模块的的数\n",
    "#     print (’ 使用module_test 模块中的变盘：', module_test .name ) ＃打印 导入悦块中的变量"
   ]
  },
  {
   "cell_type": "markdown",
   "metadata": {},
   "source": [
    "### 模块路径："
   ]
  },
  {
   "cell_type": "code",
   "execution_count": null,
   "metadata": {},
   "outputs": [],
   "source": [
    "# windows：如lib 、lib\\site-packages 、dlls 等\n",
    "# linux：/usr/lib/  /usr/lib64 以及其他的几个子目录下\t"
   ]
  },
  {
   "cell_type": "markdown",
   "metadata": {},
   "source": [
    "## 包（多个py扩展文件集合的文件夹）："
   ]
  },
  {
   "cell_type": "markdown",
   "metadata": {},
   "source": [
    "## Python标准库："
   ]
  },
  {
   "cell_type": "markdown",
   "metadata": {},
   "source": [
    "### 数学模"
   ]
  },
  {
   "cell_type": "code",
   "execution_count": 18,
   "metadata": {},
   "outputs": [],
   "source": [
    "import math, random"
   ]
  },
  {
   "cell_type": "markdown",
   "metadata": {},
   "source": [
    "### 日期与时间"
   ]
  },
  {
   "cell_type": "code",
   "execution_count": 45,
   "metadata": {},
   "outputs": [],
   "source": [
    "import datetime, time\n",
    "\n",
    "start = time.time()\n",
    "\n",
    "stop = time.time()\n",
    "timeWindow = stop - start"
   ]
  },
  {
   "cell_type": "markdown",
   "metadata": {},
   "source": [
    "## 迭代器:"
   ]
  },
  {
   "cell_type": "markdown",
   "metadata": {},
   "source": [
    "- 迭代器 是实现了迭代器协议方法的对象或类。"
   ]
  },
  {
   "cell_type": "code",
   "execution_count": null,
   "metadata": {},
   "outputs": [],
   "source": [
    "# ' _iter＿（）”方法返回对象本身，它是for 语句使用迭代器的要求。\n",
    "# “＿next——（）”方法用于返回容器中下一个元素或数据。当容器中的数据用尽时，应该引发Stoplteration 异常。"
   ]
  },
  {
   "cell_type": "markdown",
   "metadata": {},
   "source": [
    "### 自定义迭代器"
   ]
  },
  {
   "cell_type": "code",
   "execution_count": 28,
   "metadata": {},
   "outputs": [
    {
     "ename": "TypeError",
     "evalue": "'MyIterator' object is not iterable",
     "output_type": "error",
     "traceback": [
      "\u001b[1;31m---------------------------------------------------------------------------\u001b[0m",
      "\u001b[1;31mTypeError\u001b[0m                                 Traceback (most recent call last)",
      "Cell \u001b[1;32mIn[28], line 17\u001b[0m\n\u001b[0;32m     13\u001b[0m \t\t\t\t\t\t\u001b[39mraise\u001b[39;00m \u001b[39mStopIteration\u001b[39;00m \u001b[39m# 引入 Stopiteration 错误\u001b[39;00m\n\u001b[0;32m     15\u001b[0m myiter \u001b[39m=\u001b[39m MyIterator() \u001b[39m# 实例化迭代器Myiterator\u001b[39;00m\n\u001b[1;32m---> 17\u001b[0m \u001b[39mfor\u001b[39;00m i \u001b[39min\u001b[39;00m myiter: \u001b[39m# 遍历并输出值\u001b[39;00m\n\u001b[0;32m     18\u001b[0m     \u001b[39mprint\u001b[39m(\u001b[39m'\u001b[39m\u001b[39m迭代的数据元素为\u001b[39m\u001b[39m'\u001b[39m, i)\n",
      "\u001b[1;31mTypeError\u001b[0m: 'MyIterator' object is not iterable"
     ]
    }
   ],
   "source": [
    "class MyIterator(): # 自定义迭代器的类\n",
    "\t\t\tdef __init__(self,x=2,xmax=100): # 定义构造方法，初始化实例属性\n",
    "\t\t\t\tself.__mul, self.__x = x, x\n",
    "\t\t\t\tself.__xmax = xmax\n",
    "\t\t\tdef __next__(self): # 定义迭代器协议方法，返回类自身\n",
    "\t\t\t\treturn self\n",
    "\t\t\tdef  __next__(self): # 定义法代器协议方法\n",
    "\t\t\t\tif self.__x and self.__x != 1:\n",
    "\t\t\t\t\tself.__mul *= self.__x\n",
    "\t\t\t\t\tif self.__mul <= self.__xmax:\n",
    "\t\t\t\t\t\treturn self.__mul # 返回值\n",
    "\t\t\t\t\telse:\n",
    "\t\t\t\t\t\traise StopIteration # 引入 Stopiteration 错误\n",
    "\t\t\t\t\t\n",
    "myiter = MyIterator() # 实例化迭代器Myiterator\n",
    "\n",
    "for i in myiter: # 遍历并输出值\n",
    "    print('迭代的数据元素为', i)"
   ]
  },
  {
   "cell_type": "markdown",
   "metadata": {},
   "source": [
    "### 内置迭代器"
   ]
  },
  {
   "cell_type": "code",
   "execution_count": 30,
   "metadata": {},
   "outputs": [],
   "source": [
    "# iter()"
   ]
  },
  {
   "cell_type": "markdown",
   "metadata": {},
   "source": [
    "## 推导或内涵（ list comprehension)"
   ]
  },
  {
   "cell_type": "markdown",
   "metadata": {},
   "source": [
    "- 列表推导式"
   ]
  },
  {
   "cell_type": "code",
   "execution_count": 36,
   "metadata": {},
   "outputs": [
    {
     "data": {
      "text/plain": [
       "[3]"
      ]
     },
     "execution_count": 36,
     "metadata": {},
     "output_type": "execute_result"
    }
   ],
   "source": [
    "# [ i相关表达式 for i in aiterator if condition ]\n",
    "[ i for i in range(0, 100, 1) if i/3 == 1 ]"
   ]
  },
  {
   "cell_type": "markdown",
   "metadata": {},
   "source": [
    "- 字典推导式"
   ]
  },
  {
   "cell_type": "code",
   "execution_count": 37,
   "metadata": {},
   "outputs": [
    {
     "data": {
      "text/plain": [
       "{0: 0, 1: 1, 2: 2, 3: 3, 4: 4, 5: 5, 6: 6, 7: 7, 8: 8, 9: 9}"
      ]
     },
     "execution_count": 37,
     "metadata": {},
     "output_type": "execute_result"
    }
   ],
   "source": [
    "# { key_exp:value_exp for key_exp,value_exp in aiterator if condition }\n",
    "{key:value for key, value in zip(range(0, 10), range(0, 10))}"
   ]
  },
  {
   "cell_type": "markdown",
   "metadata": {},
   "source": [
    "## 生成器 （Generator）"
   ]
  },
  {
   "cell_type": "markdown",
   "metadata": {},
   "source": [
    "- 生成器 可以生成一个值的序列用于迭代， 并且这个值的序列不是一次生成的，而是使用一个， 再生成一个， 的确可以程序节约大量内存。\n",
    "- 生成器则是函数中包含yield 语句的一类特殊的函数。"
   ]
  },
  {
   "cell_type": "markdown",
   "metadata": {},
   "source": [
    "## 闭包（closure）"
   ]
  },
  {
   "cell_type": "markdown",
   "metadata": {},
   "source": [
    "- 常用形式"
   ]
  },
  {
   "cell_type": "code",
   "execution_count": 38,
   "metadata": {},
   "outputs": [
    {
     "data": {
      "text/plain": [
       "<function __main__.out_func.<locals>.inner_func.<locals>.<lambda>(x)>"
      ]
     },
     "execution_count": 38,
     "metadata": {},
     "output_type": "execute_result"
    }
   ],
   "source": [
    "def out_func(a, b): # 外部函数\n",
    "\n",
    "\tdef inner_func(x): # 内部函数\n",
    "\t\treturn lambda x: a * x + b\n",
    "\treturn inner_func\n",
    "\n",
    "line = out_func(3, 5)  # 调用，给定斜率和截距\n",
    "line(30) # 调用，输入x值并计算"
   ]
  },
  {
   "cell_type": "markdown",
   "metadata": {},
   "source": [
    "- 优点点分析"
   ]
  },
  {
   "cell_type": "code",
   "execution_count": 39,
   "metadata": {},
   "outputs": [
    {
     "name": "stdout",
     "output_type": "stream",
     "text": [
      "4950\n"
     ]
    }
   ],
   "source": [
    "store_log = []\n",
    "def su(maxNum):\n",
    "\tsum = 0\n",
    "\tfor i in range(maxNum):\n",
    "\t\tstore_log.append(i)\n",
    "\t\tsum = sum + i\n",
    "\treturn sum\n",
    "\n",
    "print(su(100))"
   ]
  },
  {
   "cell_type": "markdown",
   "metadata": {},
   "source": [
    "- 使数据更加安全：store_log这个列表在su函数外可能被其他误用等等可能；"
   ]
  },
  {
   "cell_type": "code",
   "execution_count": 40,
   "metadata": {},
   "outputs": [
    {
     "name": "stdout",
     "output_type": "stream",
     "text": [
      "4950\n"
     ]
    }
   ],
   "source": [
    "def su(maxNum):\n",
    "\tstore_log = []\n",
    "\tsum = 0\n",
    "\tfor i in range(maxNum):\n",
    "\t\tstore_log.append(i)\n",
    "\t\tsum = sum + i\n",
    "\treturn sum\n",
    "\n",
    "print(su(100))"
   ]
  },
  {
   "cell_type": "markdown",
   "metadata": {},
   "source": [
    "- 此时，虽然能保护store_log但函数不能正常工作；"
   ]
  },
  {
   "cell_type": "code",
   "execution_count": 41,
   "metadata": {},
   "outputs": [
    {
     "name": "stdout",
     "output_type": "stream",
     "text": [
      "<function bibao.<locals>.su at 0x000001A4DEF789D0>\n"
     ]
    }
   ],
   "source": [
    "def bibao(maxNum):\n",
    "\tstore_log = []\n",
    "\tdef su(maxNum):\n",
    "\t\tsum = 0\n",
    "\t\tfor i in range(maxNum):\n",
    "\t\t\tstore_log.append(i)\n",
    "\t\t\tsum = sum + i\n",
    "\t\treturn sum\n",
    "\treturn su\n",
    "\n",
    "print(bibao(100))"
   ]
  },
  {
   "cell_type": "markdown",
   "metadata": {},
   "source": [
    "## 装饰器（Decorator）"
   ]
  },
  {
   "cell_type": "markdown",
   "metadata": {},
   "source": [
    "- 装饰器 的灵活性很强，可以为一个对象添加新的功能或者给函数插入相关的功能。从本质上说，它是一种代码实现方式，其实就是闭包。"
   ]
  },
  {
   "cell_type": "code",
   "execution_count": 42,
   "metadata": {},
   "outputs": [
    {
     "name": "stdout",
     "output_type": "stream",
     "text": [
      "执行所用时间为5.002187252044678\n",
      "执行所用时间为5.007359027862549\n",
      "执行所用时间为5.007359027862549\n"
     ]
    }
   ],
   "source": [
    "import time\n",
    "\n",
    "def timer(func): # 装饰函数定义\n",
    "\t\n",
    "\tdef wrapper():\n",
    "\t\tt1 = time.time()\n",
    "\t\tfunc()\n",
    "\t\tt2 = time.time()\n",
    "\t\tprint('执行所用时间为{}'.format(t2 - t1))\n",
    "\treturn wrapper\n",
    "\n",
    "@timer # 语法糖\n",
    "def have_a_sleep(): # 被装饰函数定义\n",
    "\ttime.sleep(5)\n",
    "\n",
    "have_a_sleep() # 调用\n",
    "\n",
    "# 如下同样可以实现调用，只是并不简洁\n",
    "dy = timer(have_a_sleep)\n",
    "dy()"
   ]
  },
  {
   "cell_type": "markdown",
   "metadata": {},
   "source": [
    "## 上下文管理器"
   ]
  },
  {
   "cell_type": "code",
   "execution_count": 44,
   "metadata": {},
   "outputs": [
    {
     "ename": "SyntaxError",
     "evalue": "expected 'except' or 'finally' block (3937520201.py, line 5)",
     "output_type": "error",
     "traceback": [
      "\u001b[1;36m  Cell \u001b[1;32mIn[44], line 5\u001b[1;36m\u001b[0m\n\u001b[1;33m    finaly:\u001b[0m\n\u001b[1;37m    ^\u001b[0m\n\u001b[1;31mSyntaxError\u001b[0m\u001b[1;31m:\u001b[0m expected 'except' or 'finally' block\n"
     ]
    }
   ],
   "source": [
    "fd = open('test.txt')\n",
    "try:\n",
    "\tfor line in fd:\n",
    "\t\tprit(line)\n",
    "finaly:\n",
    "\tfd.close()\n",
    "\n",
    "# 上下文管理器，如下\n",
    "with open('test.txt') as fd:\n",
    "\tfor line in fd:\n",
    "\t\tprint(line)"
   ]
  },
  {
   "cell_type": "markdown",
   "metadata": {},
   "source": [
    "## 多线程编程-Thread\n",
    "- 因为GIL的存在，Python中的多线程编程名不副实，但是IO执行效率可以得到很大提升"
   ]
  },
  {
   "cell_type": "code",
   "execution_count": 19,
   "metadata": {},
   "outputs": [
    {
     "name": "stdout",
     "output_type": "stream",
     "text": [
      "您好，您输入的数字为100和200\n",
      "单个线程用时：0.003997802734375\n",
      "您好，您输入的数字为0和0\n",
      "您好，您输入的数字为1和1\n",
      "您好，您输入的数字为2和2\n",
      "您好，您输入的数字为3和3\n",
      "您好，您输入的数字为4和4\n",
      "您好，您输入的数字为5和5\n",
      "您好，您输入的数字为6和6\n",
      "您好，您输入的数字为7和7\n",
      "您好，您输入的数字为8和8\n",
      "您好，您输入的数字为9和9\n",
      "多线程编程用时：0.010751485824584961\n"
     ]
    }
   ],
   "source": [
    "import threading\n",
    "import time\n",
    "# 准备一个函数\n",
    "def testFunction(a, b):\n",
    "    print(f'您好，您输入的数字为{a}和{b}')\n",
    "    # time.sleep(2)\n",
    "\n",
    "start = time.time() # 时间戳-开始\n",
    "# 创建一个线程\n",
    "thread = threading.Thread(target= testFunction, args= (100, 200))\n",
    "# 启动线程thread\n",
    "thread.start()\n",
    "# 关闭线程\n",
    "thread.join()\n",
    "stop = time.time() # 时间戳-停止\n",
    "print(f'单个线程用时：{stop-start}') # 计算时间窗口\n",
    "\n",
    "start = time.time() # 时间戳-开始\n",
    "# 创建多个线程\n",
    "for a, b in zip(range(0, 10), range(0, 10)):\n",
    "    mulThread = threading.Thread(target= testFunction, args= (a, b))\n",
    "    mulThread.start()\n",
    "    mulThread.join()\n",
    "    # threading.Thread(target= testFunction, args= (a, b)).start() # 一行写，也可以\n",
    "stop = time.time() #时间戳-停止\n",
    "print(f'多线程编程用时：{stop-start}')  # 计算时间窗口"
   ]
  },
  {
   "cell_type": "markdown",
   "metadata": {},
   "source": [
    "## 生产者和消费者问题（蓄水池问题）"
   ]
  },
  {
   "cell_type": "code",
   "execution_count": 1,
   "metadata": {},
   "outputs": [
    {
     "name": "stdout",
     "output_type": "stream",
     "text": [
      "0\n",
      "1\n",
      "2\n"
     ]
    }
   ],
   "source": [
    "import queue\n",
    "\n",
    "# queue队列，先进先出后进后出\n",
    "q = queue.Queue()\n",
    "for qPut in range(0,3):\n",
    "    q.put(qPut) # 添加元素\n",
    "for qGet in range(0,3):\n",
    "    print(q.get()) # 取元素，如果取不到就一直等待"
   ]
  },
  {
   "cell_type": "code",
   "execution_count": 2,
   "metadata": {},
   "outputs": [
    {
     "name": "stdout",
     "output_type": "stream",
     "text": [
      "生产者p1产生了5\n",
      "生产者p2产生了3\n"
     ]
    },
    {
     "name": "stderr",
     "output_type": "stream",
     "text": [
      "C:\\Users\\zhao\\AppData\\Local\\Temp\\ipykernel_17856\\2052704617.py:10: DeprecationWarning: getName() is deprecated, get the name attribute instead\n",
      "  name = threading.current_thread().getName()\n"
     ]
    },
    {
     "name": "stdout",
     "output_type": "stream",
     "text": [
      "生产者p1睡眠了1 s\n",
      "生产者p1产生了59\n",
      "生产者p2睡眠了2 s\n",
      "生产者p2产生了66\n",
      "生产者p1睡眠了2 s\n",
      "生产者p1产生了39\n",
      "生产者p2睡眠了1 s\n",
      "生产者p1睡眠了1 s\n"
     ]
    }
   ],
   "source": [
    "import queue\n",
    "import threading\n",
    "import random\n",
    "import time\n",
    "\n",
    "queueT = queue.Queue(5) # 定义队列长度\n",
    "\n",
    "class producerThread(threading.Thread):\n",
    "    def run(self): # run自动执行（重写父类的run方法，下同）\n",
    "        name = threading.current_thread().getName()\n",
    "        nums = range(100)\n",
    "        global queueT\n",
    "        while True:\n",
    "            num = random.choice(nums)\n",
    "            queueT.put(num)\n",
    "            print(f'生产者{name}产生了{num}')\n",
    "            t = random.randint(1, 3)\n",
    "            time.sleep(t)\n",
    "            print(f'生产者{name}睡眠了{t} s')\n",
    "\n",
    "class custumerThread(threading.Thread):\n",
    "    def run(self): # run自动执行\n",
    "        name = threading.current_thread().getName()\n",
    "        global queueT\n",
    "        while True:\n",
    "            num = queueT.get()\n",
    "            queueT.task_done() # 封装了关于线程等待的相关问题解决代码\n",
    "            print(f'消费者{name}消费了{num}')\n",
    "            t = random.randint(1, 3)\n",
    "            time.sleep(t)\n",
    "            print(f'消费者{name}睡眠了{t} s')\n",
    "\n",
    "p1 = producerThread(name='p1')\n",
    "p1.start()\n",
    "p2 = producerThread(name='p2')\n",
    "p2.start()\n",
    "\n",
    "c1 = custumerThread(name='c1')\n",
    "c1.start()\n",
    "c2 = custumerThread(name='c2')\n",
    "c2.start()"
   ]
  },
  {
   "cell_type": "markdown",
   "metadata": {},
   "source": [
    "## 多进程编程-Process"
   ]
  },
  {
   "cell_type": "markdown",
   "metadata": {},
   "source": [
    "## 多协程标称-Coroutine"
   ]
  }
 ],
 "metadata": {
  "kernelspec": {
   "display_name": "base",
   "language": "python",
   "name": "python3"
  },
  "language_info": {
   "codemirror_mode": {
    "name": "ipython",
    "version": 3
   },
   "file_extension": ".py",
   "mimetype": "text/x-python",
   "name": "python",
   "nbconvert_exporter": "python",
   "pygments_lexer": "ipython3",
   "version": "3.10.8"
  },
  "orig_nbformat": 4
 },
 "nbformat": 4,
 "nbformat_minor": 2
}
