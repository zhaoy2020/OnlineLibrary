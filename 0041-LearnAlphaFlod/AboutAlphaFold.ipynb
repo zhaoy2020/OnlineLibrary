{
 "cells": [
  {
   "cell_type": "markdown",
   "metadata": {},
   "source": [
    "```bash\n",
    "absl-py==1.0.0          # 运行参数\n",
    "biopython==1.79         # 生物信息\n",
    "chex==0.0.7             # 测试工具集合\n",
    "dm-haiku==0.0.10        # 基于Jax的神经网络库，可以实现类似pytorch之类的功能。\n",
    "dm-tree==0.1.8\n",
    "docker==5.0.0\n",
    "immutabledict==2.0.0    # 不可变字典\n",
    "jax==0.4.14             # GPU加速的数值运算\n",
    "ml-collections==0.1.0\n",
    "numpy==1.24.3           # 数值运算\n",
    "pandas==2.0.3           # 数据清洗\n",
    "scipy==1.11.1           # 科学计算\n",
    "tensorflow-cpu==2.13.0  # 深度学习\n",
    "```"
   ]
  },
  {
   "cell_type": "code",
   "execution_count": 3,
   "metadata": {},
   "outputs": [],
   "source": [
    "import haiku as hk\n",
    "import jax.numpy as jnp\n",
    "import tensorflow as tf\n"
   ]
  }
 ],
 "metadata": {
  "kernelspec": {
   "display_name": "tensorflow2",
   "language": "python",
   "name": "python3"
  },
  "language_info": {
   "codemirror_mode": {
    "name": "ipython",
    "version": 3
   },
   "file_extension": ".py",
   "mimetype": "text/x-python",
   "name": "python",
   "nbconvert_exporter": "python",
   "pygments_lexer": "ipython3",
   "version": "3.10.13"
  }
 },
 "nbformat": 4,
 "nbformat_minor": 2
}
