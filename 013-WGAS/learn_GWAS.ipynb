{
 "cells": [
  {
   "cell_type": "markdown",
   "id": "af4c9fde",
   "metadata": {},
   "source": [
    "**Table of contents**<a id='toc0_'></a>    \n",
    "- 1. [Preface](#toc1_)    \n",
    "- 2. [GWAS analysis in prokaryotes](#toc2_)    \n",
    "- 3. [Prediction of phenotype from genotype](#toc3_)    \n",
    "  - 3.1. [Building a model](#toc3_1_)    \n",
    "\n",
    "<!-- vscode-jupyter-toc-config\n",
    "\tnumbering=true\n",
    "\tanchor=true\n",
    "\tflat=false\n",
    "\tminLevel=1\n",
    "\tmaxLevel=6\n",
    "\t/vscode-jupyter-toc-config -->\n",
    "<!-- THIS CELL WILL BE REPLACED ON TOC UPDATE. DO NOT WRITE YOUR TEXT IN THIS CELL -->"
   ]
  },
  {
   "cell_type": "markdown",
   "id": "f57d5002",
   "metadata": {},
   "source": [
    "# 1. <a id='toc1_'></a>[Preface](#toc0_)"
   ]
  },
  {
   "cell_type": "markdown",
   "id": "7ef43cd4",
   "metadata": {},
   "source": [
    "The comparative of WGAS analysis bewteen 真核生物 and 原核生物.\n",
    "\n",
    "| 比较维度        | 原核生物（如细菌）                                       | 真核生物（如人类、植物、动物）           |\n",
    "| ----------- | ----------------------------------------------- | ------------------------- |\n",
    "| **基因组结构**   | 小，通常单一染色体，少内含子，常为环状                             | 大，多条染色体，含内含子、重复序列等        |\n",
    "| **遗传方式**    | 无性繁殖为主，有时有水平基因转移（HGT）                           | 有性繁殖，孟德尔遗传                |\n",
    "| **多样性来源**   | 基因突变、水平转移（如质粒、噬菌体）                              | 基因重组、杂交、突变                |\n",
    "| **群体结构**    | 常呈克隆结构，LD（连锁不平衡）范围大                             | 群体结构复杂，需校正群体结构和亲缘关系       |\n",
    "| **GWAS 难点** | - 水平基因转移干扰关联结果<br>- 克隆扩增易导致伪阳性<br>- 群体结构严重      | - 遗传背景复杂<br>- 表型受多基因及环境影响 |\n",
    "| **分析重点**    | 可能更依赖于基因-基因内容（presence/absence）分析，如**pan-GWAS** | 侧重于常规SNP的表型关联分析           |\n",
    "| **常用软件**    | PySEER、Scoary 等                                 | PLINK、GEMMA、TASSEL、GCTA 等 |\n"
   ]
  },
  {
   "cell_type": "markdown",
   "id": "2f4a5c8c",
   "metadata": {},
   "source": [
    "# 2. <a id='toc2_'></a>[GWAS analysis in prokaryotes](#toc0_)"
   ]
  },
  {
   "cell_type": "markdown",
   "id": "39ebed69",
   "metadata": {},
   "source": [
    "# 3. <a id='toc3_'></a>[Prediction of phenotype from genotype](#toc0_)"
   ]
  },
  {
   "cell_type": "markdown",
   "id": "fde1b7d5",
   "metadata": {},
   "source": [
    "## 3.1. <a id='toc3_1_'></a>[Building a model](#toc0_)"
   ]
  }
 ],
 "metadata": {
  "language_info": {
   "name": "python"
  }
 },
 "nbformat": 4,
 "nbformat_minor": 5
}
