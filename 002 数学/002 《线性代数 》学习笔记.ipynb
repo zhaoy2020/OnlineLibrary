{
 "cells": [
  {
   "cell_type": "markdown",
   "metadata": {},
   "source": [
    "# 线性代数\n",
    "---  "
   ]
  },
  {
   "cell_type": "markdown",
   "metadata": {},
   "source": [
    "- 1. 向量：有向线段-在坐标系中用单位正交向量表示所有其他向量；\n",
    "- 2. 行和列数相等的矩阵-一维、二维、三维...坐标中的有向线段；\n",
    "- 3. 行和列数不相等的矩阵-列数表示坐标维度，行数<列数表示降维，反之则升维；\n",
    "- 4. 矩阵相乘（从右向左）-坐标的线性变换（以相同原点，坐标网格平行且等距。包括坐标系旋转、剪切等等）"
   ]
  }
 ],
 "metadata": {
  "kernelspec": {
   "display_name": "DeepLearning",
   "language": "python",
   "name": "python3"
  },
  "language_info": {
   "codemirror_mode": {
    "name": "ipython",
    "version": 3
   },
   "file_extension": ".py",
   "mimetype": "text/x-python",
   "name": "python",
   "nbconvert_exporter": "python",
   "pygments_lexer": "ipython3",
   "version": "3.10.11"
  },
  "orig_nbformat": 4
 },
 "nbformat": 4,
 "nbformat_minor": 2
}
