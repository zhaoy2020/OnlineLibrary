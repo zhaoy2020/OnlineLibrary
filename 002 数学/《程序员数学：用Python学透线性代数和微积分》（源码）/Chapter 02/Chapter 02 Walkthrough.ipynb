{
 "cells": [
  {
   "cell_type": "markdown",
   "metadata": {},
   "source": [
    "# Chapter 2: 绘制2维向量 Drawing with 2D Vectors"
   ]
  },
  {
   "cell_type": "markdown",
   "metadata": {},
   "source": [
    "## 2.1 Picturing 2D Vectors"
   ]
  },
  {
   "cell_type": "code",
   "execution_count": null,
   "metadata": {},
   "outputs": [],
   "source": [
    "%load_ext autoreload\n",
    "%autoreload 2\n",
    "# 这里从导入了相同文件夹下的vector_drawing所有东西，用from ... import * 导入\n",
    "from vector_drawing import *"
   ]
  },
  {
   "cell_type": "code",
   "execution_count": null,
   "metadata": {},
   "outputs": [],
   "source": [
    "# 书P21\n",
    "# 使用原组如(6, 4)表示二维点，下面是点的一个列表[(6,4), ..........]\n",
    "dino_vectors = [(6, 4), (3, 1), (1, 2), (-1, 5), (-2, 5), (-3, 4), (-4, 4), (-5, 3), (-5, 2), (-2, 2),\n",
    "                (-5, 1), (-4, 0), (-2, 1), (-1, 0), (0, -3), (-1, -4), (1, -4), (2, -3), (1, -2), (3, -1), (5, 1)]\n",
    "# 这里使用的*不是指针，是将列表中的元素一个个取出来作为参数，下面会给出一个示例\n",
    "draw(\n",
    "    Points(*dino_vectors)\n",
    ")\n"
   ]
  },
  {
   "cell_type": "code",
   "execution_count": null,
   "metadata": {},
   "outputs": [],
   "source": [
    "# *的使用, 观察输出的区别\n",
    "array = [12, 3, (90, 30)]\n",
    "print(array)\n",
    "print(*array)"
   ]
  },
  {
   "cell_type": "code",
   "execution_count": null,
   "metadata": {},
   "outputs": [],
   "source": [
    "# 书P21\n",
    "draw(\n",
    "    Points(*dino_vectors),\n",
    "    Segment((6,4),(3,1), color=red)\n",
    ")"
   ]
  },
  {
   "cell_type": "markdown",
   "metadata": {},
   "source": [
    "**EXERCISE:** Draw the dinosaur with the dots connected by constructing a `Polygon` object with the `dino_vectors` as its vertices.\n",
    "\n",
    "**书P24页练习2.4**: 构建一个以 `dino_vectors` 为顶点的 `Polygon` 对象，画出将每个点相连的恐龙图像"
   ]
  },
  {
   "cell_type": "code",
   "execution_count": null,
   "metadata": {},
   "outputs": [],
   "source": [
    "draw(\n",
    "    Points(*dino_vectors),\n",
    "    Polygon(*dino_vectors)\n",
    ")"
   ]
  },
  {
   "cell_type": "markdown",
   "metadata": {},
   "source": [
    "**EXERCISE** Draw the vectors `[(x,x**2) for x in range(-10,11)]` as points (dots) using the draw function.  What is the result?\n",
    "\n",
    "**书P25-练习2.5**: 当$x$坐标在-10到10的范围内时，使用 `draw` 函数绘制表示向量`(x, x**2)` 的点。"
   ]
  },
  {
   "cell_type": "code",
   "execution_count": null,
   "metadata": {},
   "outputs": [],
   "source": [
    "draw(\n",
    "    Points(*[(x, x**2) for x in range(-10,11)]),\n",
    "    grid=(1,10), # 每个1个单位水平网格线，每10单位垂直网格线\n",
    "    nice_aspect_ratio=False # x，y轴比例可以不相同\n",
    ")"
   ]
  },
  {
   "cell_type": "markdown",
   "metadata": {},
   "source": [
    "# 平面向量运算 Plane Vector Arithmetic\n",
    "\n",
    "书P25"
   ]
  },
  {
   "cell_type": "code",
   "execution_count": null,
   "metadata": {},
   "outputs": [],
   "source": [
    "def add(v1,v2):\n",
    "    return (v1[0] + v2[0], v1[1] + v2[1])"
   ]
  },
  {
   "cell_type": "code",
   "execution_count": null,
   "metadata": {},
   "outputs": [],
   "source": [
    "# 书P27\n",
    "dino_vectors2 = [add((-1.5,-2.5), v) for v in dino_vectors]"
   ]
  },
  {
   "cell_type": "code",
   "execution_count": null,
   "metadata": {},
   "outputs": [],
   "source": [
    "draw(\n",
    "    Points(*dino_vectors, color=blue),\n",
    "    Polygon(*dino_vectors, color=blue),\n",
    "    Points(*dino_vectors2, color=red),\n",
    "    Polygon(*dino_vectors2, color=red)\n",
    ")"
   ]
  },
  {
   "cell_type": "code",
   "execution_count": null,
   "metadata": {},
   "outputs": [],
   "source": [
    "arrows = [Segment(tip,tail,color=black) for (tip,tail) in\n",
    "         zip(dino_vectors2, dino_vectors)]\n",
    "draw(\n",
    "    Points(*dino_vectors, color=blue),\n",
    "    Polygon(*dino_vectors, color=blue),\n",
    "    Points(*dino_vectors2, color=red),\n",
    "    Polygon(*dino_vectors2, color=red),\n",
    "    *arrows\n",
    ")"
   ]
  },
  {
   "cell_type": "markdown",
   "metadata": {},
   "source": [
    "## 向量的分量和长度 Vector components and lengths\n",
    "\n",
    "书P29"
   ]
  },
  {
   "cell_type": "code",
   "execution_count": null,
   "metadata": {},
   "outputs": [],
   "source": [
    "from math import sqrt\n",
    "def length(v):\n",
    "    return sqrt(v[0]**2 + v[1]**2)"
   ]
  },
  {
   "cell_type": "markdown",
   "metadata": {},
   "source": [
    "## 减法，位移和距离  Subtraction, displacement, and distance"
   ]
  },
  {
   "cell_type": "code",
   "execution_count": null,
   "metadata": {},
   "outputs": [],
   "source": [
    "# 书P33绘制v和w的差\n",
    "draw(\n",
    "    Points((2,2), (-1,3)),\n",
    "    Segment((2,2), (-1,3), color=red)\n",
    ")"
   ]
  },
  {
   "cell_type": "markdown",
   "metadata": {},
   "source": [
    "**书P34 练习2.7（小项目）**: 通过将所有向量各自的$x$坐标和$y$坐标相加，可以实现任何数量的向量相加。例如，向量和$(1,2) + (2,4) + (3,6) + (4,8)$ 有$x$分量 $1+2+3+4=10$ 与$y$分量 $2 + 4 + 6 + 8 = 20$ ，结果为$(10,20)$。实现新的 $add$ 函数，接受任意多个向量作为参数。\n",
    "\n",
    "**MINI-PROJECT:** You can add any number of vectors together by summing all of their $x$-coordinates and all of their $y$-coordinates.  For instance the four-fold sum (1,2) + (2,4) + (3,6) + (4,8) has $x$-component 1 + 2 + 3 + 4 = 10 and $y$-component 2 + 4 + 6 + 8 = 20, making the result (10,20).  Implement a revised add function that takes any number of vectors as arguments."
   ]
  },
  {
   "cell_type": "code",
   "execution_count": null,
   "metadata": {},
   "outputs": [],
   "source": [
    "def add(*vectors):\n",
    "    return (sum([v[0] for v in vectors]), sum([v[1] for v in vectors]))"
   ]
  },
  {
   "cell_type": "markdown",
   "metadata": {},
   "source": [
    "**书P34 练习2.8**: 实现函数 translate(translation, vectors)， 接受一个平移向量和一个向量列表，返回一个根据平移向量平移后的向量列表。例如，`translate((1,1), [(0,0), (0,1), (-3,-3)])` 应该返回 `[(1,1),(1,2),(-2,-2)]`.\n",
    "\n",
    "**EXERCISE:** Write a function translate(translation, vectors) that takes in a translation vector and a list of input vectors and returns a list of the input vectors all translated by the translation vector. For instance, `translate((1,1), [(0,0), (0,1), (-3,-3)])` should return `[(1,1),(1,2),(-2,-2)]`."
   ]
  },
  {
   "cell_type": "code",
   "execution_count": null,
   "metadata": {},
   "outputs": [],
   "source": [
    "def translate(translation, vectors):\n",
    "    return [add(translation, v) for v in vectors]\n",
    "\n",
    "translate((1,1), [(0,0), (0,1,), (-3,-3)])"
   ]
  },
  {
   "cell_type": "markdown",
   "metadata": {},
   "source": [
    "**书P35 练习 2.11**: 手绘100个小恐龙是一个难题，来看看计算机图形学的威力。\n",
    "\n",
    "**MINI-PROJECT:** Write a Python function using vector addition to show 100 simultaneous and non-overlapping copies of the dinosaur.  This shows the power of computer graphics: imagine how tedious it would be to specify all 2,100 coordinate pairs by hand!"
   ]
  },
  {
   "cell_type": "code",
   "execution_count": null,
   "metadata": {},
   "outputs": [],
   "source": [
    "def hundred_dinos():\n",
    "    translations = [(12*x,10*y) \n",
    "                    for x in range(-5,5) \n",
    "                    for y in range(-5,5)]\n",
    "    dinos = [Polygon(*translate(t, dino_vectors),color=blue)\n",
    "                for t in translations]\n",
    "    draw(*dinos, grid=None, axes=None, origin=None)"
   ]
  },
  {
   "cell_type": "code",
   "execution_count": null,
   "metadata": {
    "scrolled": true
   },
   "outputs": [],
   "source": [
    "hundred_dinos()"
   ]
  },
  {
   "cell_type": "markdown",
   "metadata": {},
   "source": [
    "**书P37 练习2.15**: What vector in the dino_vectors list has the longest length?  Use the Python length function to compute the answer quickly. (不翻译了，自己看得懂哈)"
   ]
  },
  {
   "cell_type": "code",
   "execution_count": null,
   "metadata": {},
   "outputs": [],
   "source": [
    "# 这里max的第一个参数是可迭代的列表dino_vectors，\n",
    "# 然后可选参数key=length中的length是之前定义的函数，这里用于比较dino_vectors的元素之间的大小\n",
    "max(dino_vectors, key=length)"
   ]
  },
  {
   "cell_type": "code",
   "execution_count": null,
   "metadata": {},
   "outputs": [],
   "source": [
    "# 这里介绍一下max的使用方法\n",
    "# 文档： https://docs.python.org/zh-cn/3/library/functions.html?highlight=max#max\n",
    "\n",
    "# 1.如果只提供了一个位置参数，它必须是非空 iterable，返回可迭代对象中最大的元素；\n",
    "max1 = max([12, 32, 42, 12])\n",
    "# 2.如果提供了两个及以上的位置参数，则返回最大的位置参数。\n",
    "max2 = max(12, 90, 23, 12)\n",
    "\n",
    "# key 实参指定排序函数用的参数\n",
    "def distance_to618(number):\n",
    "    \"\"\"返回到6.18的距离大小\"\"\"\n",
    "    return abs(number-6.18)\n",
    "max3 = max(4, 5, 6, 9.26,  key=distance_to618)\n",
    "\n",
    "print(\"max1:\", max1, \"max2:\", max2, \"max3:\", max3)"
   ]
  },
  {
   "cell_type": "markdown",
   "metadata": {},
   "source": [
    "**P37 练习2.16**: 假设向量 $\\vec{w}$ 的坐标是 $(\\sqrt{2} ,\\sqrt{3})$. 那么 $\\pi \\cdot \\vec{w}$ 的坐标近似值是多少？ 画出原向量和新向量。\n",
    "\n",
    "**EXERCISE:** Suppose a vector $\\vec{w}$ has coordinates $(\\sqrt{2} ,\\sqrt{3})$.  What are the approximate coordinates of the scalar multiple $\\pi \\cdot \\vec{w}$?  Draw an approximation of the original vector and the new vector."
   ]
  },
  {
   "cell_type": "code",
   "execution_count": null,
   "metadata": {},
   "outputs": [],
   "source": [
    "from math import sqrt, pi\n",
    "\n",
    "w = (sqrt(2),sqrt(3))\n",
    "w_scaled = (pi * sqrt(2), pi * sqrt(3))\n",
    "w_scaled"
   ]
  },
  {
   "cell_type": "code",
   "execution_count": null,
   "metadata": {},
   "outputs": [],
   "source": [
    "draw(\n",
    "    Arrow(w_scaled, color=green),\n",
    "    Arrow(w, color=blue)\n",
    ")"
   ]
  },
  {
   "cell_type": "markdown",
   "metadata": {},
   "source": [
    "**P38 练习2.17**: 写一个函数 `scale(s, v)`, 将输入向量 `v` 和输入标量 `s` 相乘。\n",
    "\n",
    "**EXERCISE:** Write a python function `scale(s, v)` that multiplies the input vector `v` by the input scalar `s`."
   ]
  },
  {
   "cell_type": "code",
   "execution_count": null,
   "metadata": {},
   "outputs": [],
   "source": [
    "def scale(scalar,v):\n",
    "    return (scalar * v[0], scalar * v[1])"
   ]
  },
  {
   "cell_type": "markdown",
   "metadata": {},
   "source": [
    "**P38 练习2.19（小项目）:** 假定 $\\vec{u} = (-1,1)$ 和 $\\vec{v} = (1,1)$, $r$ 和 $s$ 是实数，并且假设 $$-1 < r < 1$ and $-3 < s < 3$.\n",
    "\n",
    "向量$r \\cdot \\vec{u} + s \\cdot \\vec{v}$在平面上可能的终点是什么?\n",
    "\n",
    "注意:向量和数字的操作顺序是一样的:我们假设先进行标量乘法，然后进行向量加法(除非括号中另有说明)。\n",
    "\n",
    "**MINI-PROJECT:** Suppose $\\vec{u} = (-1,1)$ and $\\vec{v} = (1,1)$ and suppose $r$ and $s$ are real numbers.  Specifically, let’s assume $-1 < r < 1$ and $-3 < s < 3$.  \n",
    "\n",
    "Where are the possible points on the plane where the vector $r \\cdot \\vec{u} + s \\cdot \\vec{v}$ could end up?  \n",
    "\n",
    "Note: the order of operations is the same for vectors as it is for numbers: we assume scalar multiplication is carried out first, and then vector addition (unless parentheses specify otherwise)."
   ]
  },
  {
   "cell_type": "code",
   "execution_count": null,
   "metadata": {},
   "outputs": [],
   "source": [
    "from random import uniform\n",
    "# uniform函数在[a, b)或[a, b]范围内获取一个随机数。\n",
    "\n",
    "u = (-1, 1)\n",
    "v = (1, 1)\n",
    "\n",
    "def random_r():\n",
    "    return uniform(-3, 3)\n",
    "\n",
    "def random_s():\n",
    "    return uniform(-1, 1)\n",
    "\n",
    "\n",
    "possibilities = [add(scale(random_r(), u), scale(random_s(), v))\n",
    "                 for i in range(0, 500)]\n",
    "draw(\n",
    "    Points(*possibilities)\n",
    ")\n"
   ]
  },
  {
   "cell_type": "markdown",
   "metadata": {},
   "source": [
    "**P39 练习2.21:** 实现python函数 `subtract(v1,v2)`, 返回 `v1` - `v2`。 该函数接受两个二维向量作为输入，返回一个二维向量作为输出。\n",
    "\n",
    "**EXERCISE:** Write a Python function `subtract(v1,v2)` that returns the result of `v1` minus `v2`, where the inputs and output are tuples of coordinates as we’ve seen so far."
   ]
  },
  {
   "cell_type": "code",
   "execution_count": null,
   "metadata": {},
   "outputs": [],
   "source": [
    "def subtract(v1,v2):\n",
    "    return (v1[0] - v2[0], v1[1] - v2[1])"
   ]
  },
  {
   "cell_type": "markdown",
   "metadata": {},
   "source": [
    "**P40 练习2.25:**实现Python函数 `distance(v1, v2)`, 返回两个输入向量之间的距离。（注意，上一个练习中的 `subtract` 函数已经实现了两个向量之间的位移。\n",
    "\n",
    "实现另一个函数 `perimeter(vectors)`，它接受一个向量列表作为参数，并返回每个向量到下一个向量的距离之和（包含末位向量与首位向量之间的距离），以此来获取向量几何 `dino_vectors` 所定义的恐龙周长。\n",
    "\n",
    "**EXERCISE:** Write a Python function `distance(v1,v2)` that returns the distance between two input vectors (noting that the subtract function from the previous exercise already gives the displacement).  \n",
    "\n",
    "Write another Python function `perimeter(vectors)` that takes a list of vectors as an argument and returns the sum of distances from each vector to the next, including the distance from the last vector to the first.  What is the perimeter of the polygon defined by `dino_vectors`?"
   ]
  },
  {
   "cell_type": "code",
   "execution_count": null,
   "metadata": {},
   "outputs": [],
   "source": [
    "def distance(v1,v2):\n",
    "    return length(subtract(v1,v2))\n",
    "\n",
    "def perimeter(vectors):\n",
    "    distances = [distance(vectors[i], vectors[(i+1)%len(vectors)])\n",
    "                    for i in range(0,len(vectors))]\n",
    "    return sum(distances)"
   ]
  },
  {
   "cell_type": "code",
   "execution_count": null,
   "metadata": {},
   "outputs": [],
   "source": [
    "# 用正方形进行测试\n",
    "square = [(1,0),(1,1),(0,1),(0,0)]\n",
    "draw(Polygon(*square), grid=(0.2,0.2), axes=None)"
   ]
  },
  {
   "cell_type": "code",
   "execution_count": null,
   "metadata": {},
   "outputs": [],
   "source": [
    "# should be 1+1+1+1=4\n",
    "perimeter(square)"
   ]
  },
  {
   "cell_type": "code",
   "execution_count": null,
   "metadata": {},
   "outputs": [],
   "source": [
    "perimeter(dino_vectors)"
   ]
  },
  {
   "cell_type": "markdown",
   "metadata": {},
   "source": [
    "**P41 练习2.26:** 令 $\\vec{u}$ 为向量 $(1,2)$。假定有另一个正整数坐标为 $(n, m)（n > m）$的向量 $\\vec{v}$，且它与 $\\vec{u}$ 的距离是13，那么从 $\\vec{u}$ 到 $\\vec{v}$ 的位移是所少？\n",
    "\n",
    "**MINI-PROJECT:** Let $\\vec{u}$ be the vector $(1,2)$.  Suppose there is another vector, $\\vec{v}$, with positive integer coordinates $(n, m)$ such that $n > m$, and having distance $13$ from $\\vec{u}$.  What is the displacement from $\\vec{u}$ to $\\vec{v}$?  Hint: you can use Python to search for the vector $\\vec{v}$."
   ]
  },
  {
   "cell_type": "markdown",
   "metadata": {},
   "source": [
    "**解决方案:** 我们只需要搜索可能的整数对(n,m)，其中n在1的前后13个单位内，m在-1的前后13个单位内。\n",
    "\n",
    "**SOLUTION:** We only need to search possible integer pairs (n,m) where n is within 13 units of 1 and m is within 13 units of -1."
   ]
  },
  {
   "cell_type": "code",
   "execution_count": null,
   "metadata": {},
   "outputs": [],
   "source": [
    "for m in range(1, 13):\n",
    "    for n in range(m+1, 15):\n",
    "        if distance((n,m), (1,-1)) == 13:\n",
    "            print((n,m))"
   ]
  },
  {
   "cell_type": "markdown",
   "metadata": {},
   "source": [
    "# 平面上的角度和三角学  Angles and trigonometry in the plane\n",
    "\n",
    "P41"
   ]
  },
  {
   "cell_type": "markdown",
   "metadata": {},
   "source": [
    "## python中的弧度和三角学 Radians and trigonometry in python"
   ]
  },
  {
   "cell_type": "code",
   "execution_count": null,
   "metadata": {},
   "outputs": [],
   "source": [
    "from math import tan\n",
    "tan(45) \n",
    "# 45弧度，而不是45度\n",
    "# tangent of 45 radians, not degrees"
   ]
  },
  {
   "cell_type": "code",
   "execution_count": null,
   "metadata": {},
   "outputs": [],
   "source": [
    "from math import tan, pi\n",
    "tan(pi/4)\n",
    "# 现在是 pi/4 弧度 = 45度\n",
    "# now this is the tangent of pi/4 radians = 45 degrees"
   ]
  },
  {
   "cell_type": "code",
   "execution_count": null,
   "metadata": {},
   "outputs": [],
   "source": [
    "# P47\n",
    "from math import sin, cos\n",
    "def to_cartesian(polar_vector):\n",
    "    \"\"\"接受一对极坐标，返回对应的笛卡尔坐标\"\"\"\n",
    "    length, angle = polar_vector[0], polar_vector[1]\n",
    "    return (length*cos(angle), length*sin(angle))"
   ]
  },
  {
   "cell_type": "code",
   "execution_count": null,
   "metadata": {},
   "outputs": [],
   "source": [
    "# P47 验证沿着37度的方向移动5个单位可以接近点（4，3）\n",
    "# Verify that 5 units @ 37 degrees takes us to (4,3)\n",
    "angle = 37*pi/180\n",
    "to_cartesian((5,angle))"
   ]
  },
  {
   "cell_type": "code",
   "execution_count": null,
   "metadata": {},
   "outputs": [],
   "source": [
    "from math import asin\n",
    "print(sin(1), asin(0.8414709848078965))"
   ]
  },
  {
   "cell_type": "code",
   "execution_count": null,
   "metadata": {},
   "outputs": [],
   "source": [
    "# 找出一个角x, 使 sin x = 3/sqrt(13)\n",
    "# trying to find an angle x such that sin x = 3/sqrt(13)\n",
    "from math import sqrt\n",
    "asin(3/sqrt(13))"
   ]
  },
  {
   "cell_type": "code",
   "execution_count": null,
   "metadata": {},
   "outputs": [],
   "source": [
    "from math import acos\n",
    "acos(-2/sqrt(13))"
   ]
  },
  {
   "cell_type": "code",
   "execution_count": null,
   "metadata": {},
   "outputs": [],
   "source": [
    "cos(2.1587989303424644)"
   ]
  },
  {
   "cell_type": "code",
   "execution_count": null,
   "metadata": {},
   "outputs": [],
   "source": [
    "-2/sqrt(13)"
   ]
  },
  {
   "cell_type": "code",
   "execution_count": null,
   "metadata": {},
   "outputs": [],
   "source": [
    "sin(2.1587989303424644)"
   ]
  },
  {
   "cell_type": "code",
   "execution_count": null,
   "metadata": {},
   "outputs": [],
   "source": [
    "3/sqrt(13)"
   ]
  },
  {
   "cell_type": "code",
   "execution_count": null,
   "metadata": {},
   "outputs": [],
   "source": [
    "# math.atan2(y, x) 以弧度为单位返回 atan(y / x)，在 -pi 和 pi 之间\n",
    "# math.atan2的具体使用看这里：\n",
    "# https://docs.python.org/zh-cn/3/library/math.html?highlight=math%20atan2#math.atan2\n",
    "from math import atan2\n",
    "atan2(3,-2)"
   ]
  },
  {
   "cell_type": "code",
   "execution_count": null,
   "metadata": {},
   "outputs": [],
   "source": [
    "def to_polar(vector):\n",
    "    x, y = vector[0], vector[1]\n",
    "    angle = atan2(y,x)\n",
    "    return (length(vector), angle)"
   ]
  },
  {
   "cell_type": "code",
   "execution_count": null,
   "metadata": {},
   "outputs": [],
   "source": [
    "to_polar((1,0))"
   ]
  },
  {
   "cell_type": "code",
   "execution_count": null,
   "metadata": {},
   "outputs": [],
   "source": [
    "to_polar((-2,3))"
   ]
  },
  {
   "cell_type": "markdown",
   "metadata": {},
   "source": [
    "**P50 练习2.27:** 确认笛卡尔坐标(-1.34,2.68)对应的向量的长度约为3\n",
    "\n",
    "**EXERCISE:** Confirm that the vector given by cartesian coordinates (-1.34,2.68) has length approximately 3, as expected."
   ]
  },
  {
   "cell_type": "code",
   "execution_count": null,
   "metadata": {},
   "outputs": [],
   "source": [
    "length((-1.34,2.68))"
   ]
  },
  {
   "cell_type": "markdown",
   "metadata": {},
   "source": [
    "\n",
    "\n",
    "**EXERCISE:** What is $116.57^\\circ$ in radians?  Use Python to compute the tangent of this angle, and confirm that it is close to $-2$ as we saw above."
   ]
  },
  {
   "cell_type": "markdown",
   "metadata": {},
   "source": [
    "**SOLUTION:** $116.57^\\circ · (1 \\text{rad} / 57.296^\\circ) = 2.035 \\text{rad}.$"
   ]
  },
  {
   "cell_type": "code",
   "execution_count": null,
   "metadata": {},
   "outputs": [],
   "source": [
    "tan(2.035)"
   ]
  },
  {
   "cell_type": "markdown",
   "metadata": {},
   "source": [
    "**EXERCISE:** Locate the angle $10\\pi/6$.  Do you expect the values of $\\cos(10\\pi/6)$ and $\\sin(10\\pi/6)$ to be positive or negative?  Use Python to calculate their values and confirm."
   ]
  },
  {
   "cell_type": "markdown",
   "metadata": {},
   "source": [
    "**SOLUTION:** The angle $\\pi/6$ is one third of a quarter-turn, so $10\\pi/6$ is less than a quarter turn short of a full rotation.  This means that it points \"down and to the right\".  The cosine should be positive and the sine should be negative, since distance in this direction corresponds with positive horizontal displacement and negative vertical displacement."
   ]
  },
  {
   "cell_type": "code",
   "execution_count": null,
   "metadata": {},
   "outputs": [],
   "source": [
    "sin(10*pi/6)"
   ]
  },
  {
   "cell_type": "code",
   "execution_count": null,
   "metadata": {},
   "outputs": [],
   "source": [
    "cos(10*pi/6)"
   ]
  },
  {
   "cell_type": "markdown",
   "metadata": {},
   "source": [
    "**EXERCISE:** The following list comprehension creates 1000 points in polar coordinates.  "
   ]
  },
  {
   "cell_type": "code",
   "execution_count": null,
   "metadata": {},
   "outputs": [],
   "source": [
    "polar_coords = [(cos(5*x*pi/500.0), 2*pi*x/1000.0) for x in range(0,1000)]"
   ]
  },
  {
   "cell_type": "markdown",
   "metadata": {},
   "source": [
    "In Python code, convert them to cartesian coordinates, and connect them in a closed loop with line segments to draw a picture."
   ]
  },
  {
   "cell_type": "code",
   "execution_count": null,
   "metadata": {},
   "outputs": [],
   "source": [
    "polar_coords = [(cos(x*pi/100.0), 2*pi*x/1000.0) for x in range(0,1000)]\n",
    "vectors = [to_cartesian(p) for p in polar_coords]\n",
    "draw(Polygon(*vectors, color=green))"
   ]
  },
  {
   "cell_type": "markdown",
   "metadata": {},
   "source": [
    "**EXERCISE:** Find the angle to get to the point (-2,3) by “guess-and-check”.  "
   ]
  },
  {
   "cell_type": "code",
   "execution_count": null,
   "metadata": {},
   "outputs": [],
   "source": [
    "# we want to make guesses between pi/2 and pi\n",
    "pi, pi/2"
   ]
  },
  {
   "cell_type": "code",
   "execution_count": null,
   "metadata": {},
   "outputs": [],
   "source": [
    "tan(1.8)"
   ]
  },
  {
   "cell_type": "code",
   "execution_count": null,
   "metadata": {},
   "outputs": [],
   "source": [
    "tan(2.5)"
   ]
  },
  {
   "cell_type": "code",
   "execution_count": null,
   "metadata": {},
   "outputs": [],
   "source": [
    "tan(2.2)"
   ]
  },
  {
   "cell_type": "code",
   "execution_count": null,
   "metadata": {},
   "outputs": [],
   "source": [
    "tan(2.1)"
   ]
  },
  {
   "cell_type": "code",
   "execution_count": null,
   "metadata": {},
   "outputs": [],
   "source": [
    "tan(2.15)"
   ]
  },
  {
   "cell_type": "code",
   "execution_count": null,
   "metadata": {},
   "outputs": [],
   "source": [
    "tan(2.16)"
   ]
  },
  {
   "cell_type": "code",
   "execution_count": null,
   "metadata": {},
   "outputs": [],
   "source": [
    "tan(2.155)"
   ]
  },
  {
   "cell_type": "code",
   "execution_count": null,
   "metadata": {},
   "outputs": [],
   "source": [
    "tan(2.156)"
   ]
  },
  {
   "cell_type": "code",
   "execution_count": null,
   "metadata": {},
   "outputs": [],
   "source": [
    "tan(2.157)"
   ]
  },
  {
   "cell_type": "code",
   "execution_count": null,
   "metadata": {},
   "outputs": [],
   "source": [
    "tan(2.158)"
   ]
  },
  {
   "cell_type": "code",
   "execution_count": null,
   "metadata": {},
   "outputs": [],
   "source": [
    "# we conclude the angle is between 2.158 and 2.159.\n",
    "tan(2.159)"
   ]
  },
  {
   "cell_type": "markdown",
   "metadata": {},
   "source": [
    "**EXERCISE:**  Find another point in the plane with the same tangent as $\\theta$, that is $-3/2$.  Use Python’s implementation of the arctangent function, `math.atan`, to find the value of this angle."
   ]
  },
  {
   "cell_type": "code",
   "execution_count": null,
   "metadata": {},
   "outputs": [],
   "source": [
    "from math import atan"
   ]
  },
  {
   "cell_type": "code",
   "execution_count": null,
   "metadata": {},
   "outputs": [],
   "source": [
    "atan(-3/2)"
   ]
  },
  {
   "cell_type": "code",
   "execution_count": null,
   "metadata": {},
   "outputs": [],
   "source": [
    "# this is the direction to the point (2,-3).  \n",
    "# tan(-3/2) = tan(-1.5) = tan(3/-2)\n",
    "draw(Arrow((2,-3)), Points((2,-3)))"
   ]
  },
  {
   "cell_type": "markdown",
   "metadata": {},
   "source": [
    "**EXERCISE:** Without using Python, what are polar coordinates corresponding to the cartesian coordinates $(1,1)$ and $(1,-1)$?  Once you’ve found the answers, use to_polar to check your work.\n",
    "\n",
    "**SOLUTION:** The answers should be $(\\sqrt{2},\\pi/4)$ and $(\\sqrt{2},-\\pi/4)$."
   ]
  },
  {
   "cell_type": "code",
   "execution_count": null,
   "metadata": {},
   "outputs": [],
   "source": [
    "to_polar((1,1))"
   ]
  },
  {
   "cell_type": "code",
   "execution_count": null,
   "metadata": {},
   "outputs": [],
   "source": [
    "to_polar((1,-1))"
   ]
  },
  {
   "cell_type": "code",
   "execution_count": null,
   "metadata": {},
   "outputs": [],
   "source": [
    "#compare to\n",
    "(sqrt(2), pi/4)"
   ]
  },
  {
   "cell_type": "code",
   "execution_count": null,
   "metadata": {},
   "outputs": [],
   "source": [
    "(sqrt(2), -pi/4)"
   ]
  },
  {
   "cell_type": "markdown",
   "metadata": {},
   "source": [
    "# 向量集合的变换  Transforming collections of vectors\n",
    "\n",
    "P57"
   ]
  },
  {
   "cell_type": "code",
   "execution_count": null,
   "metadata": {},
   "outputs": [],
   "source": [
    "rotation_angle = pi/3\n",
    "\n",
    "dino_polar = [to_polar(v) for v in dino_vectors]\n",
    "dino_rotated_polar = [(l,angle + rotation_angle) for l,angle in dino_polar]\n",
    "dino_rotated = [to_cartesian(p) for p in dino_rotated_polar]\n",
    "\n",
    "draw(\n",
    "    Polygon(*dino_vectors, color=gray),\n",
    "    Polygon(*dino_rotated, color=red)\n",
    ")"
   ]
  },
  {
   "cell_type": "markdown",
   "metadata": {},
   "source": [
    "**P60 练习2.42:** 实现 `rotate(angle, vectors)` 函数，接受笛卡尔坐标向量数组，并将这些向量旋转指定的角度（根据角度的正负来确定是逆时针还是顺时针）。\n",
    "\n",
    "**EXERCISE:** Create a `rotate(angle, vectors)` function which takes an array of input vectors in cartesian coordinates and returns them by the specified angle (counterclockwise or clockwise according to whether the angle is positive or negative). "
   ]
  },
  {
   "cell_type": "code",
   "execution_count": null,
   "metadata": {},
   "outputs": [],
   "source": [
    "def rotate(angle, vectors):\n",
    "    \"\"\"将向量组vectors中的所有元素都逆时针旋转角度angle\"\"\"\n",
    "    polars = [to_polar(v) for v in vectors]\n",
    "    return [to_cartesian((l, a+angle)) for l,a in polars]"
   ]
  },
  {
   "cell_type": "markdown",
   "metadata": {},
   "source": [
    "## 组合向量变换  Combining vector transformations\n",
    "\n",
    "P59"
   ]
  },
  {
   "cell_type": "code",
   "execution_count": null,
   "metadata": {},
   "outputs": [],
   "source": [
    "new_dino = translate((8,8), rotate(5 * pi/3, dino_vectors))\n",
    "\n",
    "draw(\n",
    "    Polygon(*new_dino, color=blue),\n",
    "    Polygon(*dino_vectors, color=red)\n",
    ")"
   ]
  },
  {
   "cell_type": "markdown",
   "metadata": {},
   "source": [
    "**P60 练习2.43:** 实现函数 `regular_polygon(n)`, 返回一个规则 $n$ 边形的各顶点的笛卡尔坐标。"
   ]
  },
  {
   "cell_type": "code",
   "execution_count": null,
   "metadata": {},
   "outputs": [],
   "source": [
    "def regular_polygon(n):\n",
    "    \"\"\"返回一个规则 n 边形的各顶点的笛卡尔坐标。\"\"\"\n",
    "    return [to_cartesian((1, 2*pi*k/n)) for k in range(0,n)]"
   ]
  },
  {
   "cell_type": "code",
   "execution_count": null,
   "metadata": {},
   "outputs": [],
   "source": [
    "draw(\n",
    "    Polygon(*regular_polygon(7))\n",
    ")"
   ]
  },
  {
   "cell_type": "code",
   "execution_count": null,
   "metadata": {},
   "outputs": [],
   "source": [
    "draw(\n",
    "    Polygon(*regular_polygon(5), color=green)\n",
    ")"
   ]
  }
 ],
 "metadata": {
  "kernelspec": {
   "display_name": "Python 3",
   "language": "python",
   "name": "python3"
  },
  "language_info": {
   "codemirror_mode": {
    "name": "ipython",
    "version": 3
   },
   "file_extension": ".py",
   "mimetype": "text/x-python",
   "name": "python",
   "nbconvert_exporter": "python",
   "pygments_lexer": "ipython3",
   "version": "3.8.9"
  }
 },
 "nbformat": 4,
 "nbformat_minor": 2
}
