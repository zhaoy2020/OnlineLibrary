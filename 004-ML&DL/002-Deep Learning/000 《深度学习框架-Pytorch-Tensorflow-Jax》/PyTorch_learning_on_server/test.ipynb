{
 "cells": [
  {
   "cell_type": "markdown",
   "metadata": {},
   "source": [
    "# 从头手搓-简单线性回归"
   ]
  },
  {
   "cell_type": "code",
   "execution_count": 12,
   "metadata": {},
   "outputs": [
    {
     "data": {
      "text/plain": [
       "(torch.Size([100000, 2]), torch.Size([100000, 1]))"
      ]
     },
     "execution_count": 12,
     "metadata": {},
     "output_type": "execute_result"
    }
   ],
   "source": [
    "# synthsis some datas with preset weights and bias\n",
    "# create datas\n",
    "\n",
    "import torch\n",
    "\n",
    "def synth_datas(\n",
    "    w:torch.Tensor = torch.tensor([2, -3.4], dtype=torch.float32),\n",
    "    b:torch.Tensor = torch.tensor(4.2, dtype=torch.float32), \n",
    "    data_nums:int = 100000\n",
    "):\n",
    "    X = torch.normal(mean=0, std=0.1, size=(data_nums, w.shape[0]))\n",
    "    y = X @ w.reshape(-1, 1) + b + torch.normal(mean=0, std=0.01, size=(data_nums,1))\n",
    "    return X, y  \n",
    "\n",
    "features, labels = synth_datas()\n",
    "features.shape, labels.shape"
   ]
  },
  {
   "cell_type": "code",
   "execution_count": 13,
   "metadata": {},
   "outputs": [
    {
     "name": "stdout",
     "output_type": "stream",
     "text": [
      "The time (s) of loading datasets each epoch: 0.06262493133544922 s\n",
      "The time (s) of loading datasets each iter in a epoch: 0.0006262493133544921 s\n"
     ]
    }
   ],
   "source": [
    "# set datas to Datasets of PyTorch\n",
    "\n",
    "from torch.utils import data \n",
    "import time\n",
    "\n",
    "# datasets = data.TensorDataset(features, labels)\n",
    "\n",
    "def iter_data(\n",
    "    features:torch.tensor, \n",
    "    labels:torch.tensor, \n",
    "    batch_size:int = 100\n",
    "):\n",
    "    shuffle = torch.randperm(len(features)) # tensor\n",
    "\n",
    "    for iter in range(0, len(features), batch_size):\n",
    "        batch_shuffle = shuffle[iter:(iter+batch_size)]\n",
    "\n",
    "        batch_features = features[batch_shuffle]\n",
    "\n",
    "        batch_labels = labels[batch_shuffle]\n",
    "        \n",
    "        yield (batch_features, batch_labels)\n",
    "\n",
    "start = time.time()\n",
    "batch_size = 100\n",
    "for iter in iter_data(features=features, labels=labels, batch_size=batch_size):\n",
    "    X, y = iter\n",
    "    X, y = X.to('cuda:0'), y.to('cuda:0')\n",
    "    # print(X.shape, y.shape)\n",
    "    # print(X,'\\n',y)\n",
    "    # break\n",
    "\n",
    "stop = time.time()\n",
    "print(f'The time (s) of loading datasets each epoch: {stop - start} s')\n",
    "print(f'The time (s) of loading datasets each iter in a epoch: {(stop - start)/batch_size} s')"
   ]
  },
  {
   "cell_type": "code",
   "execution_count": 14,
   "metadata": {},
   "outputs": [
    {
     "name": "stdout",
     "output_type": "stream",
     "text": [
      "weight =  tensor([[1.0165e-03],\n",
      "        [3.5886e-06]], device='cuda:0', requires_grad=True)\n",
      "weight.shape =  torch.Size([2, 1])\n",
      "bias =  tensor([0.0111], device='cuda:0', requires_grad=True)\n",
      "bias.shape =  torch.Size([1])\n",
      "====================\n",
      "Learned weight = torch.Size([2, 1])\n",
      "Learned weight = tensor([[ 1.9997],\n",
      "        [-3.3996]], device='cuda:0', requires_grad=True)\n",
      "Learned bias = torch.Size([1])\n",
      "Learned bias = tensor([4.2000], device='cuda:0', requires_grad=True)\n"
     ]
    },
    {
     "data": {
      "text/plain": [
       "[<matplotlib.lines.Line2D at 0x7f0ccb28db80>]"
      ]
     },
     "execution_count": 14,
     "metadata": {},
     "output_type": "execute_result"
    },
    {
     "data": {
      "image/png": "[encoded data removed]",
      "text/plain": [
       "<Figure size 640x480 with 1 Axes>"
      ]
     },
     "metadata": {},
     "output_type": "display_data"
    }
   ],
   "source": [
    "# Define the network structure\n",
    "\n",
    "import torch \n",
    "import matplotlib.pyplot as plt \n",
    "\n",
    "def net(weight, bias, features):\n",
    "    y_hat = features @ weight + bias\n",
    "    return y_hat\n",
    "\n",
    "def loss_fn(y_hat, labels):\n",
    "    loss = (y_hat - labels)**2 / 2\n",
    "    return loss\n",
    "\n",
    "def update_params(params, lr=0.001, batch_size=100):\n",
    "    with torch.no_grad():\n",
    "        for param in params:\n",
    "            # param -= (lr * param.grad)/batch_size    # 数值变小，以防后续数值不稳定\n",
    "            param -= lr*param.grad/batch_size\n",
    "            param.grad.zero_()\n",
    "\n",
    "batch_size = 100\n",
    "epochs = 10\n",
    "\n",
    "# initialize the weiht with normal\n",
    "weight = torch.normal(mean=0, std=0.01, size=(2, 1), dtype=torch.float32, requires_grad=True, device='cuda:0')\n",
    "print('weight = ', weight)\n",
    "print('weight.shape = ', weight.shape)\n",
    "bias = torch.normal(mean=0, std=0.01, size=(1,), dtype=torch.float32, requires_grad=True, device='cuda:0')\n",
    "print('bias = ', bias)\n",
    "print('bias.shape = ', bias.shape)\n",
    "\n",
    "loss_in_epoch = []\n",
    "loss_in_epochs = []\n",
    "for epoch in range(epochs):\n",
    "    for iter in iter_data(features=features, labels=labels, batch_size=100):\n",
    "        X, y = iter\n",
    "        X, y = X.to('cuda:0'), y.to('cuda:0')\n",
    "        y_hat = net(features=X, weight=weight, bias=bias)\n",
    "        loss = loss_fn(y_hat, y)\n",
    "        loss.sum().backward()   # 必须是标量才能求导，loss.sum()变成标量\n",
    "        update_params(params=[weight, bias], lr=0.1, batch_size=batch_size)\n",
    "        # print(f'loss: {loss.detach().numpy()}')\n",
    "        loss_in_epoch.append(loss.sum().detach())\n",
    "    # print(loss_in_epoch)\n",
    "    loss_mean_in_epoch = torch.mean(torch.tensor(loss_in_epoch))\n",
    "    loss_in_epochs.append(loss_mean_in_epoch)\n",
    "print('='*20)\n",
    "print(f'Learned weight = {weight.shape}')\n",
    "print(f'Learned weight = {weight}')\n",
    "print(f'Learned bias = {bias.shape}')\n",
    "print(f'Learned bias = {bias}')\n",
    "\n",
    "plt.figure()\n",
    "plt.plot(loss_in_epochs)"
   ]
  },
  {
   "cell_type": "markdown",
   "metadata": {},
   "source": [
    "# PyTorch简单线性回归"
   ]
  },
  {
   "cell_type": "code",
   "execution_count": 19,
   "metadata": {},
   "outputs": [
    {
     "data": {
      "text/plain": [
       "(torch.Size([10000, 2]), torch.Size([10000, 1]))"
      ]
     },
     "execution_count": 19,
     "metadata": {},
     "output_type": "execute_result"
    }
   ],
   "source": [
    "import torch \n",
    "\n",
    "def synth_datas(w, b, example_nums):\n",
    "    X = torch.normal(mean=0, std=0.1, size=(example_nums, w.shape[0]), dtype=torch.float32)\n",
    "    y = X@w + b\n",
    "    y += torch.normal(mean=0, std=0.1, size=y.shape, dtype=torch.float32)\n",
    "    return X, y \n",
    "\n",
    "w = torch.tensor([2, -3.4], dtype=torch.float32).reshape(2, 1)  # 注意形状 (shape)\n",
    "b = torch.tensor([4.2], dtype=torch.float32)\n",
    "features, labels = synth_datas(w=w, b=b, example_nums=10000)\n",
    "features.shape, labels.shape"
   ]
  },
  {
   "cell_type": "code",
   "execution_count": 139,
   "metadata": {},
   "outputs": [
    {
     "name": "stdout",
     "output_type": "stream",
     "text": [
      "1/100\tloss=\ttensor(0.5522)\n",
      "2/100\tloss=\ttensor(0.1005)\n",
      "3/100\tloss=\ttensor(0.0703)\n",
      "4/100\tloss=\ttensor(0.0502)\n",
      "5/100\tloss=\ttensor(0.0368)\n",
      "6/100\tloss=\ttensor(0.0278)\n",
      "7/100\tloss=\ttensor(0.0219)\n",
      "8/100\tloss=\ttensor(0.0179)\n",
      "9/100\tloss=\ttensor(0.0153)\n",
      "10/100\tloss=\ttensor(0.0135)\n",
      "11/100\tloss=\ttensor(0.0123)\n",
      "12/100\tloss=\ttensor(0.0115)\n",
      "13/100\tloss=\ttensor(0.0110)\n",
      "14/100\tloss=\ttensor(0.0107)\n",
      "15/100\tloss=\ttensor(0.0104)\n",
      "16/100\tloss=\ttensor(0.0103)\n",
      "17/100\tloss=\ttensor(0.0102)\n",
      "18/100\tloss=\ttensor(0.0101)\n",
      "19/100\tloss=\ttensor(0.0101)\n",
      "20/100\tloss=\ttensor(0.0100)\n",
      "21/100\tloss=\ttensor(0.0100)\n",
      "22/100\tloss=\ttensor(0.0100)\n",
      "23/100\tloss=\ttensor(0.0100)\n",
      "24/100\tloss=\ttensor(0.0100)\n",
      "25/100\tloss=\ttensor(0.0100)\n",
      "26/100\tloss=\ttensor(0.0100)\n",
      "27/100\tloss=\ttensor(0.0100)\n",
      "28/100\tloss=\ttensor(0.0100)\n",
      "29/100\tloss=\ttensor(0.0100)\n",
      "30/100\tloss=\ttensor(0.0100)\n",
      "31/100\tloss=\ttensor(0.0100)\n",
      "32/100\tloss=\ttensor(0.0100)\n",
      "33/100\tloss=\ttensor(0.0100)\n",
      "34/100\tloss=\ttensor(0.0100)\n",
      "35/100\tloss=\ttensor(0.0100)\n",
      "36/100\tloss=\ttensor(0.0100)\n",
      "37/100\tloss=\ttensor(0.0100)\n",
      "38/100\tloss=\ttensor(0.0100)\n",
      "39/100\tloss=\ttensor(0.0100)\n",
      "40/100\tloss=\ttensor(0.0100)\n",
      "41/100\tloss=\ttensor(0.0100)\n",
      "42/100\tloss=\ttensor(0.0100)\n",
      "43/100\tloss=\ttensor(0.0100)\n",
      "44/100\tloss=\ttensor(0.0100)\n",
      "45/100\tloss=\ttensor(0.0100)\n",
      "46/100\tloss=\ttensor(0.0100)\n",
      "47/100\tloss=\ttensor(0.0100)\n",
      "48/100\tloss=\ttensor(0.0100)\n",
      "49/100\tloss=\ttensor(0.0100)\n",
      "50/100\tloss=\ttensor(0.0100)\n",
      "51/100\tloss=\ttensor(0.0100)\n",
      "52/100\tloss=\ttensor(0.0100)\n",
      "53/100\tloss=\ttensor(0.0100)\n",
      "54/100\tloss=\ttensor(0.0100)\n",
      "55/100\tloss=\ttensor(0.0100)\n",
      "56/100\tloss=\ttensor(0.0100)\n",
      "57/100\tloss=\ttensor(0.0100)\n",
      "58/100\tloss=\ttensor(0.0100)\n",
      "59/100\tloss=\ttensor(0.0100)\n",
      "60/100\tloss=\ttensor(0.0100)\n",
      "61/100\tloss=\ttensor(0.0100)\n",
      "62/100\tloss=\ttensor(0.0100)\n",
      "63/100\tloss=\ttensor(0.0100)\n",
      "64/100\tloss=\ttensor(0.0100)\n",
      "65/100\tloss=\ttensor(0.0100)\n",
      "66/100\tloss=\ttensor(0.0100)\n",
      "67/100\tloss=\ttensor(0.0100)\n",
      "68/100\tloss=\ttensor(0.0100)\n",
      "69/100\tloss=\ttensor(0.0100)\n",
      "70/100\tloss=\ttensor(0.0100)\n",
      "71/100\tloss=\ttensor(0.0100)\n",
      "72/100\tloss=\ttensor(0.0100)\n",
      "73/100\tloss=\ttensor(0.0100)\n",
      "74/100\tloss=\ttensor(0.0100)\n",
      "75/100\tloss=\ttensor(0.0100)\n",
      "76/100\tloss=\ttensor(0.0100)\n",
      "77/100\tloss=\ttensor(0.0100)\n",
      "78/100\tloss=\ttensor(0.0100)\n",
      "79/100\tloss=\ttensor(0.0100)\n",
      "80/100\tloss=\ttensor(0.0100)\n",
      "81/100\tloss=\ttensor(0.0100)\n",
      "82/100\tloss=\ttensor(0.0100)\n",
      "83/100\tloss=\ttensor(0.0100)\n",
      "84/100\tloss=\ttensor(0.0100)\n",
      "85/100\tloss=\ttensor(0.0100)\n",
      "86/100\tloss=\ttensor(0.0100)\n",
      "87/100\tloss=\ttensor(0.0100)\n",
      "88/100\tloss=\ttensor(0.0100)\n",
      "89/100\tloss=\ttensor(0.0100)\n",
      "90/100\tloss=\ttensor(0.0100)\n",
      "91/100\tloss=\ttensor(0.0100)\n",
      "92/100\tloss=\ttensor(0.0100)\n",
      "93/100\tloss=\ttensor(0.0100)\n",
      "94/100\tloss=\ttensor(0.0100)\n",
      "95/100\tloss=\ttensor(0.0100)\n",
      "96/100\tloss=\ttensor(0.0100)\n",
      "97/100\tloss=\ttensor(0.0100)\n",
      "98/100\tloss=\ttensor(0.0100)\n",
      "99/100\tloss=\ttensor(0.0100)\n",
      "100/100\tloss=\ttensor(0.0100)\n",
      "learned_weight: tensor([[ 1.9897, -3.4140]], device='cuda:0')\n",
      "learned_bias: tensor([4.1991], device='cuda:0')\n",
      "Total time: 38.415449142456055 s.\n"
     ]
    },
    {
     "data": {
      "image/png": "[encoded data removed]",
      "text/plain": [
       "<Figure size 640x480 with 1 Axes>"
      ]
     },
     "metadata": {},
     "output_type": "display_data"
    }
   ],
   "source": [
    "from torch.utils import data \n",
    "import time \n",
    "from torch import nn\n",
    "from torch import optim\n",
    "import matplotlib.pyplot as plt\n",
    "\n",
    "datasets = data.TensorDataset(features, labels)\n",
    "iter_datasets = data.DataLoader(\n",
    "    dataset = datasets, \n",
    "    shuffle = True, \n",
    "    batch_size = 100, \n",
    "    num_workers = 10\n",
    ")\n",
    "\n",
    "# net = nn.Sequential(nn.Linear(2, 1)).to('cuda:0')\n",
    "class Net(nn.Module):\n",
    "    def __init__(self):\n",
    "        super().__init__()\n",
    "        self.linear = nn.Linear(2, 1)\n",
    "\n",
    "    def forward(self, X):\n",
    "        return self.linear(X)\n",
    "\n",
    "net = Net()\n",
    "net = net.to('cuda:0')\n",
    "\n",
    "loss_fn = nn.MSELoss()\n",
    "optimer = optim.SGD(net.parameters(), lr=0.1)\n",
    "\n",
    "start = time.time()\n",
    "epochs = 100\n",
    "loss_epochs = []\n",
    "for epoch in range(epochs):\n",
    "    losses_in_a_epoch = []\n",
    "    for iter in iter_datasets:\n",
    "        X, y = iter\n",
    "        X, y = X.to('cuda:0'), y.to('cuda:0')\n",
    "        y_hat = net(X)\n",
    "        loss = loss_fn(y_hat, y)\n",
    "        optimer.zero_grad()\n",
    "        loss.backward()\n",
    "        optimer.step()\n",
    "        losses_in_a_epoch.append(loss.detach())\n",
    "    loss_mean = torch.mean(torch.tensor(losses_in_a_epoch))\n",
    "    print(f'{epoch+1}/{epochs}', 'loss=', loss_mean, sep='\\t')\n",
    "    loss_epochs.append(loss_mean)\n",
    "# print(f'learned_weight: {net[0].weight.data}')\n",
    "# print(f'learned_bias: {net[0].bias.data}')\n",
    "print(f'learned_weight: {net.linear.weight.data}')\n",
    "print(f'learned_bias: {net.linear.bias.data}')\n",
    "plt.figure()\n",
    "plt.plot(loss_epochs)\n",
    "plt.xlabel('epochs')\n",
    "plt.ylabel('loss')\n",
    "stop = time.time()\n",
    "print(f'Total time: {stop - start} s.')"
   ]
  },
  {
   "cell_type": "markdown",
   "metadata": {},
   "source": [
    "# PyTorch lightning\n",
    "\n",
    "- 官方教程：[https://lightning.ai/docs/pytorch/stable/expertise_levels.html](https://lightning.ai/docs/pytorch/stable/expertise_levels.html)"
   ]
  },
  {
   "cell_type": "code",
   "execution_count": 1,
   "metadata": {},
   "outputs": [
    {
     "data": {
      "text/plain": [
       "(torch.Size([100000, 2]), torch.Size([100000, 1]))"
      ]
     },
     "execution_count": 1,
     "metadata": {},
     "output_type": "execute_result"
    }
   ],
   "source": [
    "# synthsis some datas with preset weights and bias\n",
    "# create datas\n",
    "\n",
    "import torch\n",
    "\n",
    "def synth_datas(\n",
    "    w:torch.Tensor = torch.tensor([2, -3.4], dtype=torch.float32),\n",
    "    b:torch.Tensor = torch.tensor(4.2, dtype=torch.float32), \n",
    "    data_nums:int = 100000\n",
    "):\n",
    "    X = torch.normal(mean=0, std=0.1, size=(data_nums, w.shape[0]))\n",
    "    y = X @ w.reshape(-1, 1) + b + torch.normal(mean=0, std=0.01, size=(data_nums,1))\n",
    "    return X, y  \n",
    "\n",
    "features, labels = synth_datas()\n",
    "features.shape, labels.shape"
   ]
  },
  {
   "cell_type": "code",
   "execution_count": 2,
   "metadata": {},
   "outputs": [
    {
     "name": "stderr",
     "output_type": "stream",
     "text": [
      "GPU available: True (cuda), used: True\n",
      "TPU available: False, using: 0 TPU cores\n",
      "HPU available: False, using: 0 HPUs\n",
      "/bmp/backup/zhaosy/miniconda3/envs/pytorch/lib/python3.12/site-packages/lightning/pytorch/trainer/connectors/logger_connector/logger_connector.py:75: Starting from v1.9.0, `tensorboardX` has been removed as a dependency of the `lightning.pytorch` package, due to potential conflicts with other packages in the ML ecosystem. For this reason, `logger=True` will use `CSVLogger` as the default logger, unless the `tensorboard` or `tensorboardX` packages are found. Please `pip install lightning[extra]` or one of them to enable TensorBoard support by default\n",
      "`Trainer(limit_train_batches=1)` was configured so 1 batch per epoch will be used.\n",
      "You are using a CUDA device ('NVIDIA A100-SXM4-40GB') that has Tensor Cores. To properly utilize them, you should set `torch.set_float32_matmul_precision('medium' | 'high')` which will trade-off precision for performance. For more details, read https://pytorch.org/docs/stable/generated/torch.set_float32_matmul_precision.html#torch.set_float32_matmul_precision\n",
      "LOCAL_RANK: 0 - CUDA_VISIBLE_DEVICES: [0,1]\n",
      "\n",
      "  | Name    | Type       | Params | Mode \n",
      "-----------------------------------------------\n",
      "0 | model   | AlphaFold2 | 3      | train\n",
      "1 | loss_fn | MSELoss    | 0      | train\n",
      "-----------------------------------------------\n",
      "3         Trainable params\n",
      "0         Non-trainable params\n",
      "3         Total params\n",
      "0.000     Total estimated model params size (MB)\n",
      "4         Modules in train mode\n",
      "0         Modules in eval mode\n"
     ]
    },
    {
     "name": "stdout",
     "output_type": "stream",
     "text": [
      "Sanity Checking: |          | 0/? [00:00<?, ?it/s]"
     ]
    },
    {
     "name": "stderr",
     "output_type": "stream",
     "text": [
      "/bmp/backup/zhaosy/miniconda3/envs/pytorch/lib/python3.12/site-packages/lightning/pytorch/trainer/connectors/data_connector.py:475: Your `val_dataloader`'s sampler has shuffling enabled, it is strongly recommended that you turn shuffling off for val/test dataloaders.\n"
     ]
    },
    {
     "name": "stdout",
     "output_type": "stream",
     "text": [
      "                                                                           \r"
     ]
    },
    {
     "name": "stderr",
     "output_type": "stream",
     "text": [
      "/bmp/backup/zhaosy/miniconda3/envs/pytorch/lib/python3.12/site-packages/lightning/pytorch/loops/fit_loop.py:298: The number of training batches (1) is smaller than the logging interval Trainer(log_every_n_steps=50). Set a lower value for log_every_n_steps if you want to see logs for the training epoch.\n"
     ]
    },
    {
     "name": "stdout",
     "output_type": "stream",
     "text": [
      "Epoch 4: 100%|██████████| 1/1 [00:03<00:00,  0.33it/s, v_num=21, train_loss=12.50, val_loss=12.20]"
     ]
    },
    {
     "name": "stderr",
     "output_type": "stream",
     "text": [
      "`Trainer.fit` stopped: `max_epochs=5` reached.\n"
     ]
    },
    {
     "name": "stdout",
     "output_type": "stream",
     "text": [
      "Epoch 4: 100%|██████████| 1/1 [00:03<00:00,  0.33it/s, v_num=21, train_loss=12.50, val_loss=12.20]\n"
     ]
    }
   ],
   "source": [
    "import torch \n",
    "from torch.utils import data\n",
    "from torch import nn, optim\n",
    "import lightning as L\n",
    "\n",
    "######################################################\n",
    "# 1. Datasets module (data.py)\n",
    "######################################################\n",
    "datasets = data.TensorDataset(features, labels)\n",
    "iter_datasets = data.DataLoader(dataset=datasets, shuffle=True, batch_size=128, num_workers=10)\n",
    "\n",
    "######################################################\n",
    "# 2. Define the network structure (network.py)\n",
    "######################################################\n",
    "# Pre-define the network structure via torch.nn.Module\n",
    "class AlphaFold2(nn.Module):\n",
    "    def __init__(self):\n",
    "        super().__init__()\n",
    "        self.linear = nn.Sequential(nn.Linear(2, 1))\n",
    "\n",
    "    def forward(self, X):\n",
    "        return self.linear(X)\n",
    "\n",
    "######################################################\n",
    "# 3. PyTorch lightning structure (lightningNetwork.py)\n",
    "######################################################\n",
    "class LNet(L.LightningModule):\n",
    "    def __init__(self, learning_rate=0.01):\n",
    "        super().__init__()\n",
    "        self.save_hyperparameters()\n",
    "        self.model = AlphaFold2()                       # Init the network\n",
    "        self.loss_fn = nn.MSELoss()                     # Init the loss function\n",
    "\n",
    "    def forward(self, X):   # Forward\n",
    "        return self.model(X)\n",
    "\n",
    "    def training_step(self, batch, batch_idx):\n",
    "        X, y = batch \n",
    "        y_hat = self.forward(X)\n",
    "        loss = self.loss_fn(y_hat, y)             # cal. loss\n",
    "        self.log(\"train_loss\", loss, prog_bar=True)\n",
    "        return loss\n",
    "\n",
    "    def configure_optimizers(self):\n",
    "        optimizer = optim.SGD(self.parameters(), lr=0.01)   # Define optimizer\n",
    "        return optimizer\n",
    "\n",
    "    def validation_step(self, batch, batch_idx):\n",
    "        X, y = batch \n",
    "        y_hat = self.forward(X)\n",
    "        loss = nn.functional.mse_loss(y_hat, y)\n",
    "        self.log('val_loss', loss, prog_bar=True)\n",
    "        return loss\n",
    "\n",
    "    def test_step(self, batch, batch_idx):\n",
    "        X, y = batch \n",
    "        y_hat = self.forward(X)\n",
    "        loss = nn.functional.mse_loss(y_hat, y)\n",
    "        self.log('test_loss', loss)\n",
    "        return loss\n",
    "\n",
    "    def predict_step(self, batch, batch_idx):\n",
    "        X, _ = batch \n",
    "        y_hat = self.forward(X)\n",
    "        return y_hat\n",
    "\n",
    "######################################################\n",
    "# 3. init the net and start training (main.py)\n",
    "######################################################\n",
    "autoNet = LNet()\n",
    "trainer = L.Trainer(\n",
    "    # default_root_dir=\"./lightning_logs\", # saves checkpoints to './lightning_logs' at every epoch end\n",
    "    limit_train_batches=1, \n",
    "    max_epochs=5, \n",
    "    devices=1, \n",
    "    accelerator=\"gpu\", \n",
    "    # log_every_n_steps=1,\n",
    "    # profiler=\"simple\"\n",
    ")\n",
    "\n",
    "## training and validation\n",
    "## 可以单独进行validation\n",
    "trainer.fit(model=autoNet, train_dataloaders=iter_datasets, val_dataloaders=iter_datasets)\n",
    "# trainer.validate(model=autoNet, dataloaders=iter_datasets)    \n",
    "\n",
    "## The test set is NOT used during training, \n",
    "## it is ONLY used once the model has been trained to see how the model will do in the real-world.\n",
    "# trainer.test(model=autoNet, dataloaders=iter_datasets)\n",
    "\n",
    "## prediction\n",
    "# trainer.predict(model=autoNet, dataloaders=iter_datasets)"
   ]
  },
  {
   "cell_type": "code",
   "execution_count": 109,
   "metadata": {},
   "outputs": [
    {
     "data": {
      "text/plain": [
       "tensor([[1.3291],\n",
       "        [1.2935],\n",
       "        [1.3648],\n",
       "        ...,\n",
       "        [1.2325],\n",
       "        [1.3725],\n",
       "        [1.3493]], grad_fn=<AddmmBackward0>)"
      ]
     },
     "execution_count": 109,
     "metadata": {},
     "output_type": "execute_result"
    }
   ],
   "source": [
    "checkpoint = './lightning_logs/version_0/checkpoints/epoch=14-step=15.ckpt'\n",
    "trained_model = LNet.load_from_checkpoint(checkpoint, map_location='cpu')\n",
    "\n",
    "# disable randomness, dropout, etc...\n",
    "trained_model.eval()\n",
    "y_hat = trained_model(features)                 # map_location='cpu', run on cpu device\n",
    "# y_hat = trained_model(features.to('cuda:0'))  # default mode trained on gpu, so copy 'features' to gpu, then predict\n",
    "y_hat"
   ]
  },
  {
   "cell_type": "markdown",
   "metadata": {},
   "source": [
    "# 调试"
   ]
  }
 ],
 "metadata": {
  "kernelspec": {
   "display_name": "pytorch",
   "language": "python",
   "name": "python3"
  },
  "language_info": {
   "codemirror_mode": {
    "name": "ipython",
    "version": 3
   },
   "file_extension": ".py",
   "mimetype": "text/x-python",
   "name": "python",
   "nbconvert_exporter": "python",
   "pygments_lexer": "ipython3",
   "version": "undefined.undefined.undefined"
  }
 },
 "nbformat": 4,
 "nbformat_minor": 2
}
