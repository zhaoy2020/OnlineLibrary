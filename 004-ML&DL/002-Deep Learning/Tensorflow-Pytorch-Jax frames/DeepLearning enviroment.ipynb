{
 "cells": [
  {
   "cell_type": "markdown",
   "metadata": {},
   "source": [
    "# 环境配置"
   ]
  },
  {
   "cell_type": "code",
   "execution_count": null,
   "metadata": {},
   "outputs": [],
   "source": [
    "# https://github.com/google-deepmind/dm-haiku\n",
    "pip install -U dm-haiku -i https://pypi.tuna.tsinghua.edu.cn/simple\n",
    "# https://github.com/google/jax\n",
    "pip install -U \"jax[cpu]\" -i https://pypi.tuna.tsinghua.edu.cn/simple\n",
    "# https://github.com/tensorflow/tensorflow\n",
    "pip install tensorflow-cpu -i https://pypi.tuna.tsinghua.edu.cn/simple"
   ]
  },
  {
   "cell_type": "markdown",
   "metadata": {},
   "source": [
    "## conda方式（推荐）"
   ]
  },
  {
   "cell_type": "code",
   "execution_count": null,
   "metadata": {},
   "outputs": [],
   "source": [
    "conda create -n deeplearning -y tensorflow tensorflow-datasets\n",
    "conda activate deeplearning\n",
    "pip install -U dm-haiku -i https://pypi.tuna.tsinghua.edu.cn/simple"
   ]
  }
 ],
 "metadata": {
  "language_info": {
   "name": "python"
  }
 },
 "nbformat": 4,
 "nbformat_minor": 2
}
