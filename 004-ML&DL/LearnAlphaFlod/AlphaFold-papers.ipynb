{
 "cells": [
  {
   "cell_type": "markdown",
   "metadata": {},
   "source": [
    "# 重新设计网络结构\n",
    "* 利用注意力机制关注基因的有无、SNP、顺序（位置）；\n",
    "* 新的网络结构"
   ]
  },
  {
   "cell_type": "code",
   "execution_count": 4,
   "metadata": {},
   "outputs": [
    {
     "name": "stderr",
     "output_type": "stream",
     "text": [
      "WARNING:root:waring，用来用来打印警告信息\n",
      "ERROR:root:error，一般用来打印一些错误信息\n",
      "CRITICAL:root:critical，用来打印一些致命的错误信息，等级最高\n"
     ]
    }
   ],
   "source": [
    "import logging\n",
    "\n",
    "# 设置打印日志的级别，level级别以上的日志会打印出\n",
    "# level=logging.DEBUG 、INFO 、WARNING、ERROR、CRITICAL\n",
    "def log_testing():\n",
    "    # 此处进行Logging.basicConfig() 设置，后面设置无效\n",
    "    logging.basicConfig(level=logging.WARNING)\n",
    "    logging.debug('debug，用来打印一些调试信息，级别最低')\n",
    "    logging.info('info，用来打印一些正常的操作信息')\n",
    "    logging.warning('waring，用来用来打印警告信息')\n",
    "    logging.error('error，一般用来打印一些错误信息')\n",
    "    logging.critical('critical，用来打印一些致命的错误信息，等级最高')\n",
    "\n",
    "log_testing()"
   ]
  }
 ],
 "metadata": {
  "kernelspec": {
   "display_name": "pytorch",
   "language": "python",
   "name": "python3"
  },
  "language_info": {
   "codemirror_mode": {
    "name": "ipython",
    "version": 3
   },
   "file_extension": ".py",
   "mimetype": "text/x-python",
   "name": "python",
   "nbconvert_exporter": "python",
   "pygments_lexer": "ipython3",
   "version": "3.11.5"
  }
 },
 "nbformat": 4,
 "nbformat_minor": 2
}
