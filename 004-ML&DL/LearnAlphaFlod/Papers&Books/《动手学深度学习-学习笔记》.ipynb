{
 "cells": [
  {
   "cell_type": "markdown",
   "metadata": {},
   "source": [
    "**Table of contents**<a id='toc0_'></a>    \n",
    "- 1. [学习笔记概要](#toc1_)    \n",
    "- 2. [深度神经网络](#toc2_)    \n",
    "  - 2.1. [神经网络搭建八股-模块化设计](#toc2_1_)    \n",
    "    - 2.1.1. [基本框架](#toc2_1_1_)    \n",
    "      - 2.1.1.1. [forward.py](#toc2_1_1_1_)    \n",
    "      - 2.1.1.2. [backword.py](#toc2_1_1_2_)    \n",
    "      - 2.1.1.3. [predicted](#toc2_1_1_3_)    \n",
    "    - 2.1.2. [断点续训](#toc2_1_2_)    \n",
    "    - 2.1.3. [Keras API](#toc2_1_3_)    \n",
    "    - 2.1.4. [Class 自定义](#toc2_1_4_)    \n",
    "    - 2.1.5. [专题-损失函数](#toc2_1_5_)    \n",
    "      - 2.1.5.1. [均绝对值误差-l1 loss](#toc2_1_5_1_)    \n",
    "      - 2.1.5.2. [均方误差-l2 loss](#toc2_1_5_2_)    \n",
    "      - 2.1.5.3. [交叉熵](#toc2_1_5_3_)    \n",
    "      - 2.1.5.4. [自定义](#toc2_1_5_4_)    \n",
    "    - 2.1.6. [专题-优化器](#toc2_1_6_)    \n",
    "      - 2.1.6.1. [梯度下降](#toc2_1_6_1_)    \n",
    "      - 2.1.6.2. [adagrad](#toc2_1_6_2_)    \n",
    "      - 2.1.6.3. [RMSProp](#toc2_1_6_3_)    \n",
    "- 3. [卷积神经网络-CNN](#toc3_)    \n",
    "  - 3.1. [LeNet5](#toc3_1_)    \n",
    "- 4. [循环神经网络-RNN](#toc4_)    \n",
    "  - 4.1. [LSTM](#toc4_1_)    \n",
    "  - 4.2. [Transform](#toc4_2_)    \n",
    "- 5. [注意力机制](#toc5_)    \n",
    "\n",
    "<!-- vscode-jupyter-toc-config\n",
    "\tnumbering=true\n",
    "\tanchor=true\n",
    "\tflat=false\n",
    "\tminLevel=1\n",
    "\tmaxLevel=6\n",
    "\t/vscode-jupyter-toc-config -->\n",
    "<!-- THIS CELL WILL BE REPLACED ON TOC UPDATE. DO NOT WRITE YOUR TEXT IN THIS CELL -->"
   ]
  },
  {
   "cell_type": "markdown",
   "metadata": {},
   "source": [
    "# 1. <a id='toc1_'></a>[学习笔记概要](#toc0_)\n",
    "```\n",
    "《动手学习深度学习》：\n",
    "    Python机器学习-第二版书籍\n",
    "    动手学深度学习-第二版书籍：http://zh.d2l.ai/chapter_preface/index.html\n",
    "    动手学深度学习-B站视频：https://space.bilibili.com/1567748478/channel/seriesdetail?sid=358497\n",
    "    Tensorflow1.3-B站视频：https://www.bilibili.com/video/BV1m7411d7kT/?spm_id_from=333.999.0.0\n",
    "    Tensorflow2.0-B站视频：https://www.bilibili.com/video/BV1B7411L7Qt/?vd_source=9711437953435a0b7620eae6546ad6cf\n",
    "1. 视频里都是用的Pytorch进行演算，我通过学习北京大学曹建老师的Tensorflow教程复现其中代码部分，加深对Tensorflow和深度神经网络理解。\n",
    "2. 会调用代码完成任务是一回事，学习代码是另一回事，不一定等好的。 - 李沐\n",
    "3. 构建只是体系，点连接成线，线连接成面，关键基础知识点夯实举一反三的学习拓展或延申的新知识。 - 李沐\n",
    "```"
   ]
  },
  {
   "cell_type": "markdown",
   "metadata": {},
   "source": [
    "# 2. <a id='toc2_'></a>[深度神经网络](#toc0_)"
   ]
  },
  {
   "cell_type": "markdown",
   "metadata": {},
   "source": [
    "## 2.1. <a id='toc2_1_'></a>[神经网络搭建八股-模块化设计](#toc0_)"
   ]
  },
  {
   "cell_type": "code",
   "execution_count": 2,
   "metadata": {},
   "outputs": [
    {
     "data": {
      "text/plain": [
       "'2.10.0'"
      ]
     },
     "execution_count": 2,
     "metadata": {},
     "output_type": "execute_result"
    }
   ],
   "source": [
    "import tensorflow as tf\n",
    "tf.__version__"
   ]
  },
  {
   "cell_type": "code",
   "execution_count": 1,
   "metadata": {},
   "outputs": [
    {
     "ename": "ModuleNotFoundError",
     "evalue": "No module named 'tensorflow.examples'",
     "output_type": "error",
     "traceback": [
      "\u001b[1;31m---------------------------------------------------------------------------\u001b[0m",
      "\u001b[1;31mModuleNotFoundError\u001b[0m                       Traceback (most recent call last)",
      "\u001b[1;32md:\\WorkStation\\PyhtonWorkStation\\SmallTools\\Library\\004-ML&DL\\LearnAlphaFlod\\Papers&Books\\《动手学深度学习-学习笔记》.ipynb 单元格 5\u001b[0m line \u001b[0;36m1\n\u001b[1;32m----> <a href='vscode-notebook-cell:/d%3A/WorkStation/PyhtonWorkStation/SmallTools/Library/004-ML%26DL/LearnAlphaFlod/Papers%26Books/%E3%80%8A%E5%8A%A8%E6%89%8B%E5%AD%A6%E6%B7%B1%E5%BA%A6%E5%AD%A6%E4%B9%A0-%E5%AD%A6%E4%B9%A0%E7%AC%94%E8%AE%B0%E3%80%8B.ipynb#W4sZmlsZQ%3D%3D?line=0'>1</a>\u001b[0m \u001b[39mfrom\u001b[39;00m \u001b[39mtensorflow\u001b[39;00m\u001b[39m.\u001b[39;00m\u001b[39mexamples\u001b[39;00m\u001b[39m.\u001b[39;00m\u001b[39mtutorials\u001b[39;00m\u001b[39m.\u001b[39;00m\u001b[39mmnist\u001b[39;00m \u001b[39mimport\u001b[39;00m input_data\n\u001b[0;32m      <a href='vscode-notebook-cell:/d%3A/WorkStation/PyhtonWorkStation/SmallTools/Library/004-ML%26DL/LearnAlphaFlod/Papers%26Books/%E3%80%8A%E5%8A%A8%E6%89%8B%E5%AD%A6%E6%B7%B1%E5%BA%A6%E5%AD%A6%E4%B9%A0-%E5%AD%A6%E4%B9%A0%E7%AC%94%E8%AE%B0%E3%80%8B.ipynb#W4sZmlsZQ%3D%3D?line=2'>3</a>\u001b[0m minist \u001b[39m=\u001b[39m input_data\u001b[39m.\u001b[39mread_data_sets(\u001b[39m'\u001b[39m\u001b[39m./minist_data\u001b[39m\u001b[39m'\u001b[39m, one_hot\u001b[39m=\u001b[39m\u001b[39mTrue\u001b[39;00m)\n\u001b[0;32m      <a href='vscode-notebook-cell:/d%3A/WorkStation/PyhtonWorkStation/SmallTools/Library/004-ML%26DL/LearnAlphaFlod/Papers%26Books/%E3%80%8A%E5%8A%A8%E6%89%8B%E5%AD%A6%E6%B7%B1%E5%BA%A6%E5%AD%A6%E4%B9%A0-%E5%AD%A6%E4%B9%A0%E7%AC%94%E8%AE%B0%E3%80%8B.ipynb#W4sZmlsZQ%3D%3D?line=3'>4</a>\u001b[0m minist\n",
      "\u001b[1;31mModuleNotFoundError\u001b[0m: No module named 'tensorflow.examples'"
     ]
    }
   ],
   "source": [
    "from tensorflow.examples.tutorials.mnist import input_data\n",
    "\n",
    "minist = input_data.read_data_sets('./minist_data', one_hot=True)\n",
    "minist"
   ]
  },
  {
   "cell_type": "markdown",
   "metadata": {},
   "source": [
    "### 2.1.1. <a id='toc2_1_1_'></a>[基本框架](#toc0_)\n",
    "#### 2.1.1.1. <a id='toc2_1_1_1_'></a>[forward.py](#toc0_)\n",
    "```\n",
    "1. 构建网络，\n",
    "2. 初始权重，\n",
    "3. 并符号计算\n",
    "```"
   ]
  },
  {
   "cell_type": "code",
   "execution_count": 5,
   "metadata": {},
   "outputs": [],
   "source": [
    "import tensorflow as tf \n",
    "\n",
    "def get_weights(shape, REGULARIZER):\n",
    "    w = tf.Variable(tf.random_normal(shape), dtype=tf.float32)\n",
    "    if REGULARIZER != None:\n",
    "        tf.add_to_collection('losses', tf.contrib.layers.l2_regularizer(REGULARIZER)(w)) # 添加正则化\n",
    "    return w\n",
    "\n",
    "def get_bias(shape):\n",
    "    '''bias 不进行正则化'''\n",
    "    b = tf.Variable(tf.zeros(shape=shape))\n",
    "    return b\n",
    "\n",
    "def forward(x, REGULARIZER): # 数据的前向传播\n",
    "    '''\n",
    "    搭建网络，设计网络结构\n",
    "    按照计算步骤，从神经网络的各层依次进行计算（传播）\n",
    "    '''\n",
    "    # 隐藏层\n",
    "    n_hidden = 100\n",
    "    w_h = get_weights(shape=[784, n_hidden], REGULARIZER=REGULARIZER)\n",
    "    b_h = get_bias(n_hidden)\n",
    "    a_h = tf.nn.relu(tf.matmul(x, w_h) + b_h)\n",
    "    # 输出层\n",
    "    n_out = 10\n",
    "    w_o = get_weights(shape=[n_hidden, n_out], REGULARIZER=REGULARIZER)\n",
    "    b_o = get_bias(n_out)\n",
    "    z_o = tf.matmul(a_h, w_o) + b_o # 输出层不过激活函数\n",
    "    return z_o"
   ]
  },
  {
   "cell_type": "markdown",
   "metadata": {},
   "source": [
    "#### 2.1.1.2. <a id='toc2_1_1_2_'></a>[backword.py](#toc0_)\n",
    "```\n",
    "1. 计算误差（loss function)\n",
    "2. 优化：求梯度并更新权重w和b\n",
    "```"
   ]
  },
  {
   "cell_type": "code",
   "execution_count": 7,
   "metadata": {},
   "outputs": [
    {
     "data": {
      "image/png": "[encoded data removed]",
      "text/plain": [
       "<matplotlib.figure.Figure at 0x1ae93cc0c18>"
      ]
     },
     "metadata": {
      "needs_background": "light"
     },
     "output_type": "display_data"
    }
   ],
   "source": [
    "def backpropagate(): # 误差的反向传播\n",
    "    '''\n",
    "    训练网络，优化网络参数\n",
    "    反向求导，进行误差的反向传播\n",
    "    '''\n",
    "    # REGULARIZER = None # 先不正则化看看\n",
    "    REGULARIZER = 0.01\n",
    "    BATCH_SIZE= 200 # 每次提交的批量样本量\n",
    "    EPOCHS = 500 # 迭代数\n",
    "\n",
    "    ############\n",
    "    # 前向计算\n",
    "    x = tf.placeholder(tf.float32, shape=(None, 784)) # 自变量x\n",
    "    y = tf.placeholder(tf.float32, shape=(None, 10)) # 真实y值\n",
    "    y_hat = forward(x, REGULARIZER) # 计算的y值\n",
    "\n",
    "    ############\n",
    "    # loss function\n",
    "    mse = tf.reduce_mean(tf.square(y_hat - y)) # 定义损失函数: 1. 均方误差-MSE 2. 自定义 3. 交叉熵\n",
    "    # mse_regul = mse + tf.add_n(tf.get_collection('losses')) # 正则化\n",
    "\n",
    "    ############\n",
    "    # opt优化并更新w和b\n",
    "    train_step = tf.train.GradientDescentOptimizer(learning_rate=0.001).minimize(loss=mse)\n",
    "\n",
    "    saver = tf.train.Saver(train_step)\n",
    "\n",
    "    ############\n",
    "    # 开始会话，计算图\n",
    "    with tf.Session() as sess:\n",
    "        # 初始化所有变量\n",
    "        init = tf.global_variables_initializer()\n",
    "        sess.run(init)\n",
    "        \n",
    "        cost_list = []  \n",
    "        for i in range(EPOCHS):\n",
    "            xs, ys = minist.train.next_batch(BATCH_SIZE)\n",
    "            cost, _ = sess.run([mse, train_step], {x:xs, y:ys}) # 返回值\n",
    "            cost_list.append(cost)\n",
    "            # if not i % 1000:\n",
    "            #     print(f\"{i}) cost: {cost}\")\n",
    "    return cost_list\n",
    "\n",
    "if __name__ == \"__main__\":\n",
    "    # backpropagate()\n",
    "    import matplotlib.pyplot as plt\n",
    "    plt.figure()\n",
    "    plt.plot(backpropagate())\n",
    "    plt.xlabel('epoch')\n",
    "    plt.ylabel('mse')"
   ]
  },
  {
   "cell_type": "markdown",
   "metadata": {},
   "source": [
    "#### 2.1.1.3. <a id='toc2_1_1_3_'></a>[predicted](#toc0_)"
   ]
  },
  {
   "cell_type": "code",
   "execution_count": null,
   "metadata": {},
   "outputs": [],
   "source": []
  },
  {
   "cell_type": "markdown",
   "metadata": {},
   "source": [
    "### 2.1.2. <a id='toc2_1_2_'></a>[断点续训](#toc0_)"
   ]
  },
  {
   "cell_type": "code",
   "execution_count": null,
   "metadata": {},
   "outputs": [],
   "source": []
  },
  {
   "cell_type": "markdown",
   "metadata": {},
   "source": [
    "### 2.1.3. <a id='toc2_1_3_'></a>[Keras API](#toc0_)"
   ]
  },
  {
   "cell_type": "code",
   "execution_count": null,
   "metadata": {},
   "outputs": [],
   "source": []
  },
  {
   "cell_type": "markdown",
   "metadata": {},
   "source": [
    "### 2.1.4. <a id='toc2_1_4_'></a>[Class 自定义](#toc0_)"
   ]
  },
  {
   "cell_type": "code",
   "execution_count": null,
   "metadata": {},
   "outputs": [],
   "source": []
  },
  {
   "cell_type": "markdown",
   "metadata": {},
   "source": [
    "### 2.1.5. <a id='toc2_1_5_'></a>[专题-损失函数](#toc0_)\n",
    "#### 2.1.5.1. <a id='toc2_1_5_1_'></a>[均绝对值误差-l1 loss](#toc0_)"
   ]
  },
  {
   "cell_type": "code",
   "execution_count": null,
   "metadata": {},
   "outputs": [],
   "source": []
  },
  {
   "cell_type": "markdown",
   "metadata": {},
   "source": [
    "#### 2.1.5.2. <a id='toc2_1_5_2_'></a>[均方误差-l2 loss](#toc0_)"
   ]
  },
  {
   "cell_type": "code",
   "execution_count": null,
   "metadata": {},
   "outputs": [],
   "source": []
  },
  {
   "cell_type": "markdown",
   "metadata": {},
   "source": [
    "#### 2.1.5.3. <a id='toc2_1_5_3_'></a>[交叉熵](#toc0_)"
   ]
  },
  {
   "cell_type": "code",
   "execution_count": null,
   "metadata": {},
   "outputs": [],
   "source": []
  },
  {
   "cell_type": "markdown",
   "metadata": {},
   "source": [
    "#### 2.1.5.4. <a id='toc2_1_5_4_'></a>[自定义](#toc0_)"
   ]
  },
  {
   "cell_type": "code",
   "execution_count": null,
   "metadata": {},
   "outputs": [],
   "source": []
  },
  {
   "cell_type": "markdown",
   "metadata": {},
   "source": [
    "### 2.1.6. <a id='toc2_1_6_'></a>[专题-优化器](#toc0_)"
   ]
  },
  {
   "cell_type": "markdown",
   "metadata": {},
   "source": [
    "#### 2.1.6.1. <a id='toc2_1_6_1_'></a>[梯度下降](#toc0_)"
   ]
  },
  {
   "cell_type": "code",
   "execution_count": null,
   "metadata": {},
   "outputs": [],
   "source": []
  },
  {
   "cell_type": "markdown",
   "metadata": {},
   "source": [
    "#### 2.1.6.2. <a id='toc2_1_6_2_'></a>[adagrad](#toc0_)"
   ]
  },
  {
   "cell_type": "code",
   "execution_count": null,
   "metadata": {},
   "outputs": [],
   "source": []
  },
  {
   "cell_type": "markdown",
   "metadata": {},
   "source": [
    "#### 2.1.6.3. <a id='toc2_1_6_3_'></a>[RMSProp](#toc0_)"
   ]
  },
  {
   "cell_type": "code",
   "execution_count": null,
   "metadata": {},
   "outputs": [],
   "source": []
  },
  {
   "cell_type": "markdown",
   "metadata": {},
   "source": [
    "# 3. <a id='toc3_'></a>[卷积神经网络-CNN](#toc0_)\n",
    "```\n",
    "CBAPD: 卷积，批量归一化，激活，池化，丢弃\n",
    "卷积层就是特征提取，随后将特征传入FC（全连接层）；\n",
    "卷积本身是线性的，但是经过激活函数后可以编程非线性的。\n",
    "```"
   ]
  },
  {
   "cell_type": "markdown",
   "metadata": {},
   "source": [
    "## 3.1. <a id='toc3_1_'></a>[LeNet5](#toc0_)"
   ]
  },
  {
   "cell_type": "code",
   "execution_count": null,
   "metadata": {},
   "outputs": [],
   "source": []
  },
  {
   "cell_type": "markdown",
   "metadata": {},
   "source": [
    "# 4. <a id='toc4_'></a>[循环神经网络-RNN](#toc0_)"
   ]
  },
  {
   "cell_type": "markdown",
   "metadata": {},
   "source": [
    "## 4.1. <a id='toc4_1_'></a>[LSTM](#toc0_)"
   ]
  },
  {
   "cell_type": "code",
   "execution_count": null,
   "metadata": {},
   "outputs": [],
   "source": []
  },
  {
   "cell_type": "markdown",
   "metadata": {},
   "source": [
    "## 4.2. <a id='toc4_2_'></a>[Transform](#toc0_)"
   ]
  },
  {
   "cell_type": "code",
   "execution_count": null,
   "metadata": {},
   "outputs": [],
   "source": []
  },
  {
   "cell_type": "markdown",
   "metadata": {},
   "source": [
    "# 5. <a id='toc5_'></a>[注意力机制](#toc0_)"
   ]
  }
 ],
 "metadata": {
  "kernelspec": {
   "display_name": "DeepLearning",
   "language": "python",
   "name": "python3"
  },
  "language_info": {
   "codemirror_mode": {
    "name": "ipython",
    "version": 3
   },
   "file_extension": ".py",
   "mimetype": "text/x-python",
   "name": "python",
   "nbconvert_exporter": "python",
   "pygments_lexer": "ipython3",
   "version": "3.10.13"
  }
 },
 "nbformat": 4,
 "nbformat_minor": 2
}
