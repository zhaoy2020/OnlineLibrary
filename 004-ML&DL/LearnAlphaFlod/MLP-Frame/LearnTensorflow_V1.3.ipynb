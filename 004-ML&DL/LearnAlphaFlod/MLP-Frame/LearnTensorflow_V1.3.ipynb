{
 "cells": [
  {
   "cell_type": "markdown",
   "metadata": {},
   "source": [
    "**Table of contents**<a id='toc0_'></a>    \n",
    "- 1. [tensorflow工作原理](#toc1_)    \n",
    "- 2. [数据操作](#toc2_)    \n",
    "  - 2.1. [张量（tensor）](#toc2_1_)    \n",
    "  - 2.2. [运算符](#toc2_2_)    \n",
    "  - 2.3. [广播机制](#toc2_3_)    \n",
    "  - 2.4. [切片和索引](#toc2_4_)    \n",
    "- 3. [tensorflow v1.3](#toc3_)    \n",
    "  - 3.1. [构建计算图并计算相应梯度](#toc3_1_)    \n",
    "  - 3.2. [使用占位符](#toc3_2_)    \n",
    "  - 3.3. [变量](#toc3_3_)    \n",
    "    - 3.3.1. [定义和初始化变量](#toc3_3_1_)    \n",
    "    - 3.3.2. [变量范围](#toc3_3_2_)    \n",
    "    - 3.3.3. [变量复用](#toc3_3_3_)    \n",
    "  - 3.4. [建立回归模型](#toc3_4_)    \n",
    "    - 3.4.1. [存储和恢复模型参数](#toc3_4_1_)    \n",
    "      - 3.4.1.1. [存储](#toc3_4_1_1_)    \n",
    "      - 3.4.1.2. [恢复](#toc3_4_1_2_)    \n",
    "\n",
    "<!-- vscode-jupyter-toc-config\n",
    "\tnumbering=true\n",
    "\tanchor=true\n",
    "\tflat=false\n",
    "\tminLevel=1\n",
    "\tmaxLevel=6\n",
    "\t/vscode-jupyter-toc-config -->\n",
    "<!-- THIS CELL WILL BE REPLACED ON TOC UPDATE. DO NOT WRITE YOUR TEXT IN THIS CELL -->"
   ]
  },
  {
   "cell_type": "markdown",
   "metadata": {},
   "source": [
    "# 1. <a id='toc1_'></a>[tensorflow工作原理](#toc0_)\n",
    "```\n",
    "核心在于：构建计算图，并用计算图推导从输入到输出所有张量之间的关系；\n",
    "计算图：就是网络节点，每一个节点就是一个操作，将函数应用到输入的张量上，然后返回0个或更多个张量作为输出；\n",
    "```"
   ]
  },
  {
   "cell_type": "code",
   "execution_count": null,
   "metadata": {},
   "outputs": [
    {
     "name": "stdout",
     "output_type": "stream",
     "text": [
      "Trnsorflow version: 1.3.0\n",
      "Tensorflow is built with CUDA:  False\n"
     ]
    }
   ],
   "source": [
    "import tensorflow as tf\n",
    "\n",
    "# Check version\n",
    "print(f\"Trnsorflow version: {tf.__version__}\")\n",
    "\n",
    "# Test TensorFlow for cuda availibility\n",
    "print(\"Tensorflow is built with CUDA: \", tf.test.is_built_with_cuda())"
   ]
  },
  {
   "cell_type": "markdown",
   "metadata": {},
   "source": [
    "# 2. <a id='toc2_'></a>[数据操作](#toc0_)\n",
    "```\n",
    "tf.constant() # 常量\n",
    "tf.range()\n",
    "tf.reshape()\n",
    "```\n",
    "## 2.1. <a id='toc2_1_'></a>[张量（tensor）](#toc0_)"
   ]
  },
  {
   "cell_type": "code",
   "execution_count": 4,
   "metadata": {},
   "outputs": [
    {
     "data": {
      "text/plain": [
       "<tf.Tensor: shape=(3, 4), dtype=int32, numpy=\n",
       "array([[2, 1, 4, 3],\n",
       "       [1, 2, 3, 4],\n",
       "       [4, 3, 2, 1]])>"
      ]
     },
     "execution_count": 4,
     "metadata": {},
     "output_type": "execute_result"
    }
   ],
   "source": [
    "tf.constant([[2, 1, 4, 3], [1, 2, 3, 4], [4, 3, 2, 1]]) # 常数"
   ]
  },
  {
   "cell_type": "code",
   "execution_count": 3,
   "metadata": {},
   "outputs": [
    {
     "data": {
      "text/plain": [
       "<tf.Tensor: shape=(12,), dtype=int32, numpy=array([ 0,  1,  2,  3,  4,  5,  6,  7,  8,  9, 10, 11])>"
      ]
     },
     "execution_count": 3,
     "metadata": {},
     "output_type": "execute_result"
    }
   ],
   "source": [
    "x = tf.range(12)\n",
    "x"
   ]
  },
  {
   "cell_type": "code",
   "execution_count": 14,
   "metadata": {},
   "outputs": [
    {
     "data": {
      "text/plain": [
       "'/job:localhost/replica:0/task:0/device:CPU:0'"
      ]
     },
     "execution_count": 14,
     "metadata": {},
     "output_type": "execute_result"
    }
   ],
   "source": [
    "x.device # tensor布置在CPU上"
   ]
  },
  {
   "cell_type": "code",
   "execution_count": 23,
   "metadata": {},
   "outputs": [
    {
     "data": {
      "text/plain": [
       "TensorShape([12])"
      ]
     },
     "execution_count": 23,
     "metadata": {},
     "output_type": "execute_result"
    }
   ],
   "source": [
    "x.shape"
   ]
  },
  {
   "cell_type": "code",
   "execution_count": 24,
   "metadata": {},
   "outputs": [
    {
     "data": {
      "text/plain": [
       "<tf.Tensor: shape=(), dtype=int32, numpy=12>"
      ]
     },
     "execution_count": 24,
     "metadata": {},
     "output_type": "execute_result"
    }
   ],
   "source": [
    "tf.size(x)"
   ]
  },
  {
   "cell_type": "code",
   "execution_count": 27,
   "metadata": {},
   "outputs": [
    {
     "data": {
      "text/plain": [
       "<tf.Tensor: shape=(3, 4), dtype=int32, numpy=\n",
       "array([[ 0,  1,  2,  3],\n",
       "       [ 4,  5,  6,  7],\n",
       "       [ 8,  9, 10, 11]])>"
      ]
     },
     "execution_count": 27,
     "metadata": {},
     "output_type": "execute_result"
    }
   ],
   "source": [
    "x1 = tf.reshape(x, (3,4))\n",
    "x1"
   ]
  },
  {
   "cell_type": "code",
   "execution_count": 28,
   "metadata": {},
   "outputs": [
    {
     "data": {
      "text/plain": [
       "<tf.Tensor: shape=(2, 3, 4), dtype=float32, numpy=\n",
       "array([[[0., 0., 0., 0.],\n",
       "        [0., 0., 0., 0.],\n",
       "        [0., 0., 0., 0.]],\n",
       "\n",
       "       [[0., 0., 0., 0.],\n",
       "        [0., 0., 0., 0.],\n",
       "        [0., 0., 0., 0.]]], dtype=float32)>"
      ]
     },
     "execution_count": 28,
     "metadata": {},
     "output_type": "execute_result"
    }
   ],
   "source": [
    "tf.zeros((2, 3, 4))"
   ]
  },
  {
   "cell_type": "code",
   "execution_count": 29,
   "metadata": {},
   "outputs": [
    {
     "data": {
      "text/plain": [
       "<tf.Tensor: shape=(2, 3, 4), dtype=float32, numpy=\n",
       "array([[[1., 1., 1., 1.],\n",
       "        [1., 1., 1., 1.],\n",
       "        [1., 1., 1., 1.]],\n",
       "\n",
       "       [[1., 1., 1., 1.],\n",
       "        [1., 1., 1., 1.],\n",
       "        [1., 1., 1., 1.]]], dtype=float32)>"
      ]
     },
     "execution_count": 29,
     "metadata": {},
     "output_type": "execute_result"
    }
   ],
   "source": [
    "tf.ones((2, 3, 4))"
   ]
  },
  {
   "cell_type": "code",
   "execution_count": 30,
   "metadata": {},
   "outputs": [
    {
     "data": {
      "text/plain": [
       "<tf.Tensor: shape=(3, 4), dtype=float32, numpy=\n",
       "array([[ 0.53618914, -0.06235417, -0.6402013 ,  0.8834732 ],\n",
       "       [-0.8167473 ,  1.6744276 ,  1.5813441 , -0.11632893],\n",
       "       [-1.5228316 , -0.06479645, -0.06996424, -0.43961218]],\n",
       "      dtype=float32)>"
      ]
     },
     "execution_count": 30,
     "metadata": {},
     "output_type": "execute_result"
    }
   ],
   "source": [
    "tf.random.normal((3,4))"
   ]
  },
  {
   "cell_type": "markdown",
   "metadata": {},
   "source": [
    "## 2.2. <a id='toc2_2_'></a>[运算符](#toc0_)"
   ]
  },
  {
   "cell_type": "code",
   "execution_count": 35,
   "metadata": {},
   "outputs": [
    {
     "data": {
      "text/plain": [
       "(<tf.Tensor: shape=(4,), dtype=float32, numpy=array([1., 2., 4., 8.], dtype=float32)>,\n",
       " <tf.Tensor: shape=(4,), dtype=float32, numpy=array([2., 2., 2., 2.], dtype=float32)>)"
      ]
     },
     "execution_count": 35,
     "metadata": {},
     "output_type": "execute_result"
    }
   ],
   "source": [
    "# create tensor from list format of python\n",
    "x = tf.constant([1.0, 2, 4, 8])\n",
    "y = tf.constant([2.0, 2, 2, 2])\n",
    "x, y"
   ]
  },
  {
   "cell_type": "code",
   "execution_count": 34,
   "metadata": {},
   "outputs": [
    {
     "data": {
      "text/plain": [
       "(<tf.Tensor: shape=(4,), dtype=float32, numpy=array([ 3.,  4.,  6., 10.], dtype=float32)>,\n",
       " <tf.Tensor: shape=(4,), dtype=float32, numpy=array([-1.,  0.,  2.,  6.], dtype=float32)>,\n",
       " <tf.Tensor: shape=(4,), dtype=float32, numpy=array([ 2.,  4.,  8., 16.], dtype=float32)>,\n",
       " <tf.Tensor: shape=(4,), dtype=float32, numpy=array([0.5, 1. , 2. , 4. ], dtype=float32)>,\n",
       " <tf.Tensor: shape=(4,), dtype=float32, numpy=array([ 1.,  4., 16., 64.], dtype=float32)>)"
      ]
     },
     "execution_count": 34,
     "metadata": {},
     "output_type": "execute_result"
    }
   ],
   "source": [
    "x + y, x - y, x * y, x / y, x ** y  # **运算符是求幂运算"
   ]
  },
  {
   "cell_type": "code",
   "execution_count": null,
   "metadata": {},
   "outputs": [],
   "source": [
    "tf.add()\n",
    "tf.substr()\n",
    "tf.multiply()\n",
    "tf.divide()\n",
    "tf.square()\n",
    "tf.pow()\n",
    "tf.sqrt()\n",
    "tf.matmul()"
   ]
  },
  {
   "cell_type": "code",
   "execution_count": 36,
   "metadata": {},
   "outputs": [
    {
     "data": {
      "text/plain": [
       "<tf.Tensor: shape=(4,), dtype=float32, numpy=\n",
       "array([2.7182817e+00, 7.3890562e+00, 5.4598148e+01, 2.9809580e+03],\n",
       "      dtype=float32)>"
      ]
     },
     "execution_count": 36,
     "metadata": {},
     "output_type": "execute_result"
    }
   ],
   "source": [
    "tf.exp(x)"
   ]
  },
  {
   "cell_type": "code",
   "execution_count": 37,
   "metadata": {},
   "outputs": [
    {
     "data": {
      "text/plain": [
       "<tf.Tensor: shape=(3, 4), dtype=float32, numpy=\n",
       "array([[ 0.,  1.,  2.,  3.],\n",
       "       [ 4.,  5.,  6.,  7.],\n",
       "       [ 8.,  9., 10., 11.]], dtype=float32)>"
      ]
     },
     "execution_count": 37,
     "metadata": {},
     "output_type": "execute_result"
    }
   ],
   "source": [
    "X = tf.reshape(tf.range(12, dtype=tf.float32), (3, 4))\n",
    "X"
   ]
  },
  {
   "cell_type": "code",
   "execution_count": 38,
   "metadata": {},
   "outputs": [
    {
     "data": {
      "text/plain": [
       "<tf.Tensor: shape=(3, 4), dtype=float32, numpy=\n",
       "array([[2., 1., 4., 3.],\n",
       "       [1., 2., 3., 4.],\n",
       "       [4., 3., 2., 1.]], dtype=float32)>"
      ]
     },
     "execution_count": 38,
     "metadata": {},
     "output_type": "execute_result"
    }
   ],
   "source": [
    "Y = tf.constant([[2.0, 1, 4, 3], [1, 2, 3, 4], [4, 3, 2, 1]])\n",
    "Y"
   ]
  },
  {
   "cell_type": "code",
   "execution_count": 39,
   "metadata": {},
   "outputs": [
    {
     "data": {
      "text/plain": [
       "(<tf.Tensor: shape=(6, 4), dtype=float32, numpy=\n",
       " array([[ 0.,  1.,  2.,  3.],\n",
       "        [ 4.,  5.,  6.,  7.],\n",
       "        [ 8.,  9., 10., 11.],\n",
       "        [ 2.,  1.,  4.,  3.],\n",
       "        [ 1.,  2.,  3.,  4.],\n",
       "        [ 4.,  3.,  2.,  1.]], dtype=float32)>,\n",
       " <tf.Tensor: shape=(3, 8), dtype=float32, numpy=\n",
       " array([[ 0.,  1.,  2.,  3.,  2.,  1.,  4.,  3.],\n",
       "        [ 4.,  5.,  6.,  7.,  1.,  2.,  3.,  4.],\n",
       "        [ 8.,  9., 10., 11.,  4.,  3.,  2.,  1.]], dtype=float32)>)"
      ]
     },
     "execution_count": 39,
     "metadata": {},
     "output_type": "execute_result"
    }
   ],
   "source": [
    "tf.concat([X, Y], axis=0), tf.concat([X, Y], axis=1) # concatate two tensor"
   ]
  },
  {
   "cell_type": "code",
   "execution_count": 40,
   "metadata": {},
   "outputs": [
    {
     "data": {
      "text/plain": [
       "<tf.Tensor: shape=(3, 4), dtype=bool, numpy=\n",
       "array([[False,  True, False,  True],\n",
       "       [False, False, False, False],\n",
       "       [False, False, False, False]])>"
      ]
     },
     "execution_count": 40,
     "metadata": {},
     "output_type": "execute_result"
    }
   ],
   "source": [
    "X == Y # 判断"
   ]
  },
  {
   "cell_type": "markdown",
   "metadata": {},
   "source": [
    "## 2.3. <a id='toc2_3_'></a>[广播机制](#toc0_)"
   ]
  },
  {
   "cell_type": "code",
   "execution_count": 41,
   "metadata": {},
   "outputs": [
    {
     "data": {
      "text/plain": [
       "(<tf.Tensor: shape=(3, 1), dtype=int32, numpy=\n",
       " array([[0],\n",
       "        [1],\n",
       "        [2]])>,\n",
       " <tf.Tensor: shape=(1, 2), dtype=int32, numpy=array([[0, 1]])>)"
      ]
     },
     "execution_count": 41,
     "metadata": {},
     "output_type": "execute_result"
    }
   ],
   "source": [
    "a = tf.reshape(tf.range(3), (3, 1))\n",
    "b = tf.reshape(tf.range(2), (1, 2))\n",
    "a, b"
   ]
  },
  {
   "cell_type": "code",
   "execution_count": 42,
   "metadata": {},
   "outputs": [
    {
     "data": {
      "text/plain": [
       "<tf.Tensor: shape=(3, 2), dtype=int32, numpy=\n",
       "array([[0, 1],\n",
       "       [1, 2],\n",
       "       [2, 3]])>"
      ]
     },
     "execution_count": 42,
     "metadata": {},
     "output_type": "execute_result"
    }
   ],
   "source": [
    "a + b # 行和列都扩大了"
   ]
  },
  {
   "cell_type": "markdown",
   "metadata": {},
   "source": [
    "## 2.4. <a id='toc2_4_'></a>[切片和索引](#toc0_)\n",
    "就像在任何其他Python数组中一样，张量中的元素可以通过索引访问。 与任何Python数组一样：第一个元素的索引是0，最后一个元素索引是-1； 可以指定范围以包含第一个元素和最后一个之前的元素。\n",
    "\n",
    "如下所示，我们可以用[-1]选择最后一个元素，可以用[1:3]选择第二个和第三个元素  \n",
    "\n",
    "TensorFlow中的Tensors是不可变的，也不能被赋值。 TensorFlow中的Variables是支持赋值的可变容器。 请记住，TensorFlow中的梯度不会通过Variable反向传播。\n",
    "\n",
    "除了为整个Variable分配一个值之外，我们还可以通过索引来写入Variable的元素。\n",
    "Variables是TensorFlow中的可变容器，它们提供了一种存储模型参数的方法。 我们可以通过assign将一个操作的结果分配给一个Variable。 "
   ]
  },
  {
   "cell_type": "code",
   "execution_count": 43,
   "metadata": {},
   "outputs": [
    {
     "data": {
      "text/plain": [
       "<tf.Variable 'Variable:0' shape=(3, 4) dtype=float32, numpy=\n",
       "array([[ 0.,  1.,  2.,  3.],\n",
       "       [ 4.,  5.,  6.,  7.],\n",
       "       [ 8.,  9., 10., 11.]], dtype=float32)>"
      ]
     },
     "execution_count": 43,
     "metadata": {},
     "output_type": "execute_result"
    }
   ],
   "source": [
    "X_var = tf.Variable(X)\n",
    "X_var"
   ]
  },
  {
   "cell_type": "code",
   "execution_count": 44,
   "metadata": {},
   "outputs": [
    {
     "data": {
      "text/plain": [
       "<tf.Variable 'Variable:0' shape=(3, 4) dtype=float32, numpy=\n",
       "array([[ 0.,  1.,  2.,  3.],\n",
       "       [ 4.,  5.,  9.,  7.],\n",
       "       [ 8.,  9., 10., 11.]], dtype=float32)>"
      ]
     },
     "execution_count": 44,
     "metadata": {},
     "output_type": "execute_result"
    }
   ],
   "source": [
    "X_var[1, 2].assign(9) # 赋值为9\n",
    "X_var"
   ]
  },
  {
   "cell_type": "code",
   "execution_count": 45,
   "metadata": {},
   "outputs": [
    {
     "data": {
      "text/plain": [
       "<tf.Variable 'Variable:0' shape=(3, 4) dtype=float32, numpy=\n",
       "array([[12., 12., 12., 12.],\n",
       "       [12., 12., 12., 12.],\n",
       "       [ 8.,  9., 10., 11.]], dtype=float32)>"
      ]
     },
     "execution_count": 45,
     "metadata": {},
     "output_type": "execute_result"
    }
   ],
   "source": [
    "X_var[0:2, :].assign(tf.ones(X_var[0:2,:].shape, dtype = tf.float32) * 12) # 多元素赋值\n",
    "X_var"
   ]
  },
  {
   "cell_type": "code",
   "execution_count": 4,
   "metadata": {},
   "outputs": [
    {
     "data": {
      "text/plain": [
       "<tf.Tensor 'Cast_1:0' shape=() dtype=float32>"
      ]
     },
     "execution_count": 4,
     "metadata": {},
     "output_type": "execute_result"
    }
   ],
   "source": [
    "# 强制转格式\n",
    "tf.cast(3, dtype=tf.float32)"
   ]
  },
  {
   "cell_type": "code",
   "execution_count": null,
   "metadata": {},
   "outputs": [],
   "source": [
    "tf.reduce_min()\n",
    "tf.reduce_max()\n"
   ]
  },
  {
   "cell_type": "markdown",
   "metadata": {},
   "source": [
    "# 3. <a id='toc3_'></a>[tensorflow v1.3](#toc0_)\n",
    "## 3.1. <a id='toc3_1_'></a>[构建计算图并计算相应梯度](#toc0_)"
   ]
  },
  {
   "cell_type": "code",
   "execution_count": 4,
   "metadata": {},
   "outputs": [
    {
     "name": "stdout",
     "output_type": "stream",
     "text": [
      "2*(a-b)+c => 1\n"
     ]
    }
   ],
   "source": [
    "import tensorflow as tf # v1.3\n",
    "\n",
    "g = tf.Graph()                              # 1. 初始化空白计算图\n",
    "with g.as_default():                        # 2. 为该图增加节点（张量和操作）\n",
    "    a = tf.constant(1, name='a')\n",
    "    b = tf.constant(2, name='b')\n",
    "    c = tf.constant(3, name='c')\n",
    "    z = 2*(a-b) + c\n",
    "\n",
    "with tf.Session(graph=g) as sess:           # 3. 开始一个新的会话\n",
    "    print(f\"2*(a-b)+c => {sess.run(z)}\")    # 4. 初始化图中的变量； 5. 运行会话的计算图"
   ]
  },
  {
   "cell_type": "markdown",
   "metadata": {},
   "source": [
    "## 3.2. <a id='toc3_2_'></a>[使用占位符](#toc0_)\n",
    "```\n",
    "tf.placeholder()\n",
    "\n",
    "sess.run(...,feed_dict={placeholder1:x, placehoder1:y, ...})\n",
    "```"
   ]
  },
  {
   "cell_type": "code",
   "execution_count": 8,
   "metadata": {},
   "outputs": [
    {
     "name": "stdout",
     "output_type": "stream",
     "text": [
      "z: 2\n"
     ]
    }
   ],
   "source": [
    "import tensorflow as tf # v1.3\n",
    "\n",
    "g= tf.Graph()\n",
    "with g.as_default():\n",
    "    tf_a = tf.placeholder(tf.int32, shape=[], name='tf_a')\n",
    "    tf_b = tf.placeholder(tf.int32, shape=[], name='tf_b')\n",
    "    tf_c = tf.placeholder(tf.int32, shape=[], name='tf_c')\n",
    "    r1 = tf_a - tf_b\n",
    "    r2 = 2*r1\n",
    "    z = r1 + tf_c\n",
    "\n",
    "with tf.Session(graph=g) as sess:\n",
    "    feed = {tf_a:1,\n",
    "            tf_b:2,\n",
    "            tf_c:3}\n",
    "    print(f\"z: {sess.run(z, feed)}\") # 需要feed_dict"
   ]
  },
  {
   "cell_type": "markdown",
   "metadata": {},
   "source": [
    "## 3.3. <a id='toc3_3_'></a>[变量](#toc0_)\n",
    "```\n",
    "tf.Variable()\n",
    "tf.get_variable(name) # 允许复用现有变量，这些变量已经采用常用的Xavier/Glorot默认的初始化方案\n",
    "\n",
    "tf.global_variables_initializer() # 进行变量初始化\n",
    "```\n",
    "### 3.3.1. <a id='toc3_3_1_'></a>[定义和初始化变量](#toc0_)"
   ]
  },
  {
   "cell_type": "code",
   "execution_count": 12,
   "metadata": {},
   "outputs": [
    {
     "name": "stdout",
     "output_type": "stream",
     "text": [
      "<tf.Variable 'w:0' shape=(2, 4) dtype=int32_ref>\n",
      "[[1 2 3 4]\n",
      " [5 6 7 8]]\n"
     ]
    }
   ],
   "source": [
    "import tensorflow as tf\n",
    "import numpy as np\n",
    "\n",
    "g1 = tf.Graph()\n",
    "with g1.as_default():\n",
    "    w = tf.Variable(np.arange(1, 9).reshape(2,4), name='w') # 定义变量，虽然赋值了但没有分配内存空间，直到开始会话并执行\n",
    "    print(w)\n",
    "\n",
    "with tf.Session(graph=g1) as sess:\n",
    "    sess.run(tf.global_variables_initializer()) # 通过tf.global_variables_initializer()初始化图中所有变量\n",
    "                                                # 必须在所有变量都定义完后再执行初始化，否则未被初始化的变量在被调用时会出错\n",
    "    print(sess.run(w)) # 此时才能打印出数值"
   ]
  },
  {
   "cell_type": "markdown",
   "metadata": {},
   "source": [
    "### 3.3.2. <a id='toc3_3_2_'></a>[变量范围](#toc0_)\n",
    "```\n",
    "with tf.variable_scope('net_a'):\n",
    "    pass\n",
    "    with tf.variable_scope('layer_1'):\n",
    "        pass\n",
    "```"
   ]
  },
  {
   "cell_type": "code",
   "execution_count": 18,
   "metadata": {},
   "outputs": [
    {
     "name": "stdout",
     "output_type": "stream",
     "text": [
      "<tf.Variable 'net_A/layer_1/weights:0' shape=(10, 4) dtype=float32_ref>\n",
      "<tf.Variable 'net_A/layer_2/weights:0' shape=(20, 10) dtype=float32_ref>\n",
      "<tf.Variable 'net_B/layer_1/weights:0' shape=(10, 4) dtype=float32_ref>\n",
      "<tf.Variable 'net_B/layer_2/weights:0' shape=(20, 10) dtype=float32_ref>\n"
     ]
    }
   ],
   "source": [
    "import tensorflow as tf # v1.3\n",
    "\n",
    "g = tf.Graph()\n",
    "with g.as_default():\n",
    "    with tf.variable_scope('net_A'):\n",
    "        with tf.variable_scope('layer_1'):\n",
    "            w1 = tf.Variable(tf.random_normal(shape=(10,4)), name='weights')\n",
    "        with tf.variable_scope('layer_2'):\n",
    "            w2 = tf.Variable(tf.random_normal(shape=(20,10)), name='weights')\n",
    "\n",
    "    with tf.variable_scope('net_B'):\n",
    "        with tf.variable_scope('layer_1'):\n",
    "            w3 = tf.Variable(tf.random_normal(shape=(10,4)), name='weights')\n",
    "        with tf.variable_scope('layer_2'):\n",
    "            w4 = tf.Variable(tf.random_normal(shape=(20,10)), name='weights')\n",
    "\n",
    "    print(w1, w2, w3, w4, sep='\\n')"
   ]
  },
  {
   "cell_type": "markdown",
   "metadata": {},
   "source": [
    "### 3.3.3. <a id='toc3_3_3_'></a>[变量复用](#toc0_)\n",
    "```\n",
    "\n",
    "```"
   ]
  },
  {
   "cell_type": "code",
   "execution_count": 28,
   "metadata": {},
   "outputs": [],
   "source": [
    "import tensorflow as tf\n",
    "\n",
    "############################\n",
    "# generator\n",
    "def build_generator(data, n_hidden):\n",
    "    data_shape = data.get_shape().as_list()\n",
    "\n",
    "    # hidden layer\n",
    "    w1 = tf.Variable(tf.random_normal(shape=(data_shape[1],n_hidden)), name='w1') # 权重\n",
    "    b1 = tf.Variable(tf.zeros(shape=n_hidden), name='b1') # 偏置\n",
    "    hidden = tf.add(tf.matmul(data, w1), b1) # 累加\n",
    "    hidden = tf.nn.relu(hidden, 'hidden_activation') # 激活\n",
    "\n",
    "    # output layer\n",
    "    w2 = tf.Variable(tf.random_normal(shape=(n_hidden, data_shape[1])), name='w2')\n",
    "    b2 = tf.Variable(tf.zeros(shape=data_shape[1]), name='b2')\n",
    "    output = tf.add(tf.matmul(hidden, w2), b2)\n",
    "\n",
    "    return output, tf.nn.sigmoid(output)\n",
    "\n",
    "############################\n",
    "# classifier\n",
    "def build_classifier(data, labels, n_classes=2):\n",
    "    data_shape = data.get_shape().as_list()\n",
    "\n",
    "    weights = tf.get_variable(name='weights', shape=(data_shape[1], n_classes), dtype=tf.float32)\n",
    "    bias = tf.get_variable(name='bias', initializer=tf.zeros(shape=n_classes))\n",
    "    logits = tf.add(tf.matmul(data, weights), bias, name='logits')\n",
    "    \n",
    "    return logits, tf.nn.softmax(logits)\n",
    "\n",
    "############################\n",
    "# build the graph\n",
    "batch_size = 64\n",
    "g = tf.Graph()\n",
    "\n",
    "with g.as_default():\n",
    "    tf_X = tf.placeholder(shape=(batch_size, 100), dtype=tf.float32, name='tf_X')\n",
    "    ## build the generator\n",
    "    with tf.variable_scope('generator'):\n",
    "        gen_out1 = build_generator(data=tf_X, n_hidden=50)\n",
    "\n",
    "    ## build the classifier\n",
    "    with tf.variable_scope('classifier') as scope:\n",
    "        ### classifier for the original data;\n",
    "        cls_out1 = build_classifier(data=tf_X, labels=tf.ones(shape=batch_size))\n",
    "\n",
    "        # scope.reuse_variables() # 复用方式一\n",
    "    with tf.variable_scope('classifier', reuse=True): # 复用方式二\n",
    "        cls_out2 = build_classifier(data=gen_out1[1], labels=tf.zeros(shape=batch_size))"
   ]
  },
  {
   "cell_type": "markdown",
   "metadata": {},
   "source": [
    "## 求导"
   ]
  },
  {
   "cell_type": "code",
   "execution_count": 15,
   "metadata": {},
   "outputs": [
    {
     "ename": "AttributeError",
     "evalue": "module 'tensorflow' has no attribute 'GradientTape'",
     "output_type": "error",
     "traceback": [
      "\u001b[1;31m---------------------------------------------------------------------------\u001b[0m",
      "\u001b[1;31mAttributeError\u001b[0m                            Traceback (most recent call last)",
      "\u001b[1;32m<ipython-input-15-2f69a421e0f0>\u001b[0m in \u001b[0;36m<module>\u001b[1;34m\u001b[0m\n\u001b[0;32m      1\u001b[0m \u001b[1;32mimport\u001b[0m \u001b[0mtensorflow\u001b[0m \u001b[1;32mas\u001b[0m \u001b[0mtf\u001b[0m\u001b[1;33m\u001b[0m\u001b[0m\n\u001b[0;32m      2\u001b[0m \u001b[1;33m\u001b[0m\u001b[0m\n\u001b[1;32m----> 3\u001b[1;33m \u001b[1;32mwith\u001b[0m \u001b[0mtf\u001b[0m\u001b[1;33m.\u001b[0m\u001b[0mGradientTape\u001b[0m\u001b[1;33m(\u001b[0m\u001b[1;33m)\u001b[0m \u001b[1;32mas\u001b[0m \u001b[0mtape\u001b[0m\u001b[1;33m:\u001b[0m\u001b[1;33m\u001b[0m\u001b[0m\n\u001b[0m\u001b[0;32m      4\u001b[0m     \u001b[0mw\u001b[0m \u001b[1;33m=\u001b[0m \u001b[0mtf\u001b[0m\u001b[1;33m.\u001b[0m\u001b[0mVariable\u001b[0m\u001b[1;33m(\u001b[0m\u001b[0mtf\u001b[0m\u001b[1;33m.\u001b[0m\u001b[0mconstant\u001b[0m\u001b[1;33m(\u001b[0m\u001b[1;36m5.0\u001b[0m\u001b[1;33m,\u001b[0m \u001b[0mdtype\u001b[0m\u001b[1;33m=\u001b[0m\u001b[0mtf\u001b[0m\u001b[1;33m.\u001b[0m\u001b[0mfloat32\u001b[0m\u001b[1;33m)\u001b[0m\u001b[1;33m)\u001b[0m\u001b[1;33m\u001b[0m\u001b[0m\n\u001b[0;32m      5\u001b[0m     \u001b[0mfunction\u001b[0m \u001b[1;33m=\u001b[0m \u001b[0mtf\u001b[0m\u001b[1;33m.\u001b[0m\u001b[0mpow\u001b[0m\u001b[1;33m(\u001b[0m\u001b[0mtf\u001b[0m\u001b[1;33m.\u001b[0m\u001b[0msquare\u001b[0m\u001b[1;33m(\u001b[0m\u001b[0mw\u001b[0m\u001b[1;33m,\u001b[0m \u001b[1;36m2\u001b[0m\u001b[1;33m)\u001b[0m\u001b[1;33m)\u001b[0m\u001b[1;33m\u001b[0m\u001b[0m\n",
      "\u001b[1;31mAttributeError\u001b[0m: module 'tensorflow' has no attribute 'GradientTape'"
     ]
    }
   ],
   "source": [
    "import tensorflow as tf \n",
    "\n",
    "with tf.GradientTape() as tape:\n",
    "    w = tf.Variable(tf.constant(5.0, dtype=tf.float32))\n",
    "    function = tf.pow(tf.square(w, 2))\n",
    "grads = tape.gradient(function, w)\n",
    "print(grads)"
   ]
  },
  {
   "cell_type": "code",
   "execution_count": 29,
   "metadata": {},
   "outputs": [
    {
     "data": {
      "text/plain": [
       "<tf.Tensor 'c_9:0' shape=(5,) dtype=int32>"
      ]
     },
     "execution_count": 29,
     "metadata": {},
     "output_type": "execute_result"
    }
   ],
   "source": [
    "a = tf.constant([1,2,3,1,1], name='a')\n",
    "b = tf.constant([0,1,3,4,5], name='b')\n",
    "c = tf.where(tf.greater(a, b), a, b, name='c')\n",
    "c"
   ]
  },
  {
   "cell_type": "markdown",
   "metadata": {},
   "source": [
    "## 3.4. <a id='toc3_4_'></a>[建立回归模型](#toc0_)"
   ]
  },
  {
   "cell_type": "code",
   "execution_count": 52,
   "metadata": {},
   "outputs": [],
   "source": [
    "import tensorflow as tf # v1.3\n",
    "import numpy as np\n",
    "\n",
    "g = tf.Graph()\n",
    "with g.as_default():\n",
    "    tf_x = tf.placeholder(shape=(None), dtype=tf.float32, name='tf_x')\n",
    "    tf_y = tf.placeholder(shape=(None), dtype=tf.float32, name='tf_y')\n",
    "    ## define the variable (weights and bias for model parameters)\n",
    "    tf.set_random_seed(123)\n",
    "    weight = tf.Variable(tf.random_normal(shape=(1,1),stddev=0.25), name='weight')\n",
    "    bias = tf.Variable(0.0, name='bias')\n",
    "    ## build the model\n",
    "    y_hat = tf.add(tf_x * weight, bias, name='y_hat')\n",
    "    ## compute the cost\n",
    "    cost = tf.reduce_mean(tf.square(y_hat - tf_y), name='cost')\n",
    "    ## train the model\n",
    "    optim = tf.train.GradientDescentOptimizer(learning_rate=0.001)\n",
    "    train_op = optim.minimize(cost, name='train_op')"
   ]
  },
  {
   "cell_type": "code",
   "execution_count": 53,
   "metadata": {},
   "outputs": [
    {
     "data": {
      "text/plain": [
       "[<matplotlib.lines.Line2D at 0x1b11c8c6a58>]"
      ]
     },
     "execution_count": 53,
     "metadata": {},
     "output_type": "execute_result"
    },
    {
     "data": {
      "image/png": "[encoded data removed]",
      "text/plain": [
       "<matplotlib.figure.Figure at 0x1b11b58aa20>"
      ]
     },
     "metadata": {
      "needs_background": "light"
     },
     "output_type": "display_data"
    }
   ],
   "source": [
    "# 模拟数据\n",
    "import numpy as np\n",
    "np.random.seed(0)\n",
    "import matplotlib.pylab as plt\n",
    "\n",
    "def make_random_data():\n",
    "    x = np.random.uniform(low=-2, high=4, size=200)\n",
    "    y = []\n",
    "    for t in x:\n",
    "        r = np.random.normal(loc=0.0, scale=(0.5+t*t/3), size=None)\n",
    "        y.append(r)\n",
    "\n",
    "    return x, 1.726*x - 0.84 + np.array(y)\n",
    "\n",
    "x, y = make_random_data()\n",
    "plt.plot(x, y, 'o')"
   ]
  },
  {
   "cell_type": "code",
   "execution_count": 54,
   "metadata": {},
   "outputs": [
    {
     "name": "stdout",
     "output_type": "stream",
     "text": [
      "Epoch 0: 12.223012924194336\n",
      "Epoch 500: 4.5250043869018555\n",
      "Epoch 1000: 4.302859306335449\n",
      "Epoch 1500: 4.254983901977539\n",
      "Epoch 2000: 4.244548797607422\n",
      "Epoch 2500: 4.242274284362793\n",
      "Epoch 3000: 4.241778373718262\n",
      "Epoch 3500: 4.241670608520508\n",
      "Epoch 4000: 4.241646766662598\n",
      "Epoch 4500: 4.241641998291016\n"
     ]
    },
    {
     "data": {
      "text/plain": [
       "[<matplotlib.lines.Line2D at 0x1b11c961b38>]"
      ]
     },
     "execution_count": 54,
     "metadata": {},
     "output_type": "execute_result"
    },
    {
     "data": {
      "image/png": "[encoded data removed]",
      "text/plain": [
       "<matplotlib.figure.Figure at 0x1b11c540c88>"
      ]
     },
     "metadata": {
      "needs_background": "light"
     },
     "output_type": "display_data"
    }
   ],
   "source": [
    "## 训练模型\n",
    "x_train, y_train = x[:100], y[:100]\n",
    "x_test, y_test = x[100:], y[100:]\n",
    "\n",
    "n_epochs = 5000\n",
    "training_costs = []\n",
    "with tf.Session(graph=g) as sess:\n",
    "    sess.run(tf.global_variables_initializer())\n",
    "    ## train the model for n_epoches\n",
    "    for e in range(n_epochs):\n",
    "        c, _ = sess.run([cost, train_op], feed_dict={tf_x:x_train, tf_y:y_train})\n",
    "        \n",
    "        training_costs.append(c)\n",
    "        if not e % 500:\n",
    "            print(f\"Epoch {e}: {c}\")\n",
    "\n",
    "plt.plot(training_costs)"
   ]
  },
  {
   "cell_type": "markdown",
   "metadata": {},
   "source": [
    "### 3.4.1. <a id='toc3_4_1_'></a>[存储和恢复模型参数](#toc0_)\n",
    "#### 3.4.1.1. <a id='toc3_4_1_1_'></a>[存储](#toc0_)\n",
    "```\n",
    "tf.train.Saver()\n",
    "```"
   ]
  },
  {
   "cell_type": "code",
   "execution_count": 65,
   "metadata": {},
   "outputs": [
    {
     "name": "stdout",
     "output_type": "stream",
     "text": [
      "Epoch 0: 12.223012924194336\n",
      "Epoch 50: 8.38757038116455\n",
      "Epoch 100: 6.5721001625061035\n",
      "Epoch 150: 5.6843767166137695\n",
      "Epoch 200: 5.226912975311279\n",
      "Epoch 250: 4.972521781921387\n",
      "Epoch 300: 4.8169426918029785\n",
      "Epoch 350: 4.711896896362305\n",
      "Epoch 400: 4.634660243988037\n",
      "Epoch 450: 4.574225425720215\n"
     ]
    }
   ],
   "source": [
    "with g.as_default():\n",
    "    saver = tf.train.Saver()\n",
    "\n",
    "n_epochs = 500\n",
    "training_costs = []\n",
    "with tf.Session(graph=g) as sess:\n",
    "    # 初始化所有参数\n",
    "    sess.run(tf.global_variables_initializer())\n",
    "\n",
    "    ## train the model for n_epochs\n",
    "    for e in range(n_epochs):\n",
    "        c, _ = sess.run([cost, train_op], feed_dict={tf_x:x_train, tf_y:y_train})\n",
    "        training_costs.append(c)\n",
    "        if not e%50:\n",
    "            print(f\"Epoch {e}: {c}\")\n",
    "    saver.save(sess, './tensorflow_model/trained-model')\n"
   ]
  },
  {
   "cell_type": "code",
   "execution_count": 64,
   "metadata": {},
   "outputs": [
    {
     "name": "stdout",
     "output_type": "stream",
     "text": [
      " ������ D �еľ��� Data\n",
      " �������к��� E222-400A\n",
      "\n",
      " d:\\WorkStation\\PyhtonWorkStation\\SmallTools\\Library\\0041-LearnAlphaFlod\\MLP\\tensorflow_model ��Ŀ¼\n",
      "\n",
      "2023/10/27  15:17    <DIR>          .\n",
      "2023/10/27  15:16    <DIR>          ..\n",
      "2023/10/27  15:17                83 checkpoint\n",
      "2023/10/27  15:17                 8 trained-model.data-00000-of-00001\n",
      "2023/10/27  15:17               150 trained-model.index\n",
      "2023/10/27  15:17            30,617 trained-model.meta\n",
      "               4 ���ļ�         30,858 �ֽ�\n",
      "               2 ��Ŀ¼ 174,834,266,112 �����ֽ�\n"
     ]
    }
   ],
   "source": [
    "!dir tensorflow_model"
   ]
  },
  {
   "cell_type": "markdown",
   "metadata": {},
   "source": [
    "#### 3.4.1.2. <a id='toc3_4_1_2_'></a>[恢复](#toc0_)\n",
    "```\n",
    "tf.train.import_meta_graph()\n",
    "```"
   ]
  },
  {
   "cell_type": "code",
   "execution_count": 71,
   "metadata": {},
   "outputs": [
    {
     "name": "stdout",
     "output_type": "stream",
     "text": [
      "INFO:tensorflow:Restoring parameters from ./tensorflow_model/trained-model\n"
     ]
    }
   ],
   "source": [
    "with tf.Session() as sess:\n",
    "    new_saver = tf.train.import_meta_graph('./tensorflow_model/trained-model.meta')\n",
    "\n",
    "g2 = tf.Graph()\n",
    "with tf.Session(graph=g2) as sess:\n",
    "    new_saver = tf.train.import_meta_graph('./tensorflow_model/trained-model.meta')\n",
    "    new_saver.restore(sess, './tensorflow_model/trained-model')\n",
    "\n",
    "    y_pred = sess.run('y_hat:0', feed_dict={'tf_x:0':x_test})"
   ]
  },
  {
   "cell_type": "code",
   "execution_count": null,
   "metadata": {},
   "outputs": [],
   "source": [
    "g2 = tf.Graph()\n",
    "with tf.Session(graph=g2) as sess:\n",
    "    new_saver = tf.train.import_meta_graph('./tensorflow_model/trained-model.meta')\n",
    "    new_saver.restore(sess, './tensorflow_model/trained-model')\n",
    "\n",
    "    y_pred = sess.run('y_hat:0', feed_dict={'tf_x:0':x_test})"
   ]
  }
 ],
 "metadata": {
  "kernelspec": {
   "display_name": "tensorflow2",
   "language": "python",
   "name": "python3"
  },
  "language_info": {
   "codemirror_mode": {
    "name": "ipython",
    "version": 3
   },
   "file_extension": ".py",
   "mimetype": "text/x-python",
   "name": "python",
   "nbconvert_exporter": "python",
   "pygments_lexer": "ipython3",
   "version": "3.6.2"
  }
 },
 "nbformat": 4,
 "nbformat_minor": 2
}
