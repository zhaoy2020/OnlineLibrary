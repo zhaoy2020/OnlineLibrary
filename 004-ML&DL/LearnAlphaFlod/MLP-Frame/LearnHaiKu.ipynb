{
 "cells": [
  {
   "cell_type": "markdown",
   "metadata": {},
   "source": [
    "**Table of contents**<a id='toc0_'></a>    \n",
    "- 1. [教程](#toc1_)    \n",
    "- 2. [概要](#toc2_)    \n",
    "  - 2.1. [basic](#toc2_1_)    \n",
    "\n",
    "<!-- vscode-jupyter-toc-config\n",
    "\tnumbering=true\n",
    "\tanchor=true\n",
    "\tflat=false\n",
    "\tminLevel=1\n",
    "\tmaxLevel=6\n",
    "\t/vscode-jupyter-toc-config -->\n",
    "<!-- THIS CELL WILL BE REPLACED ON TOC UPDATE. DO NOT WRITE YOUR TEXT IN THIS CELL -->"
   ]
  },
  {
   "cell_type": "markdown",
   "metadata": {},
   "source": [
    "# 下载和安装"
   ]
  },
  {
   "cell_type": "code",
   "execution_count": 2,
   "metadata": {},
   "outputs": [],
   "source": [
    "# download and install latest haiku from github\n",
    "if False:\n",
    "    !pip install git+https://github.com/deepmind/dm-haiku\n",
    "    !conda install dm-haiku jax -y"
   ]
  },
  {
   "cell_type": "code",
   "execution_count": 1,
   "metadata": {},
   "outputs": [
    {
     "name": "stdout",
     "output_type": "stream",
     "text": [
      "dm-haiku version: 0.0.11.dev\n",
      "Jax version: 0.4.19\n"
     ]
    }
   ],
   "source": [
    "import haiku as hk\n",
    "print(f\"dm-haiku version: {hk.__version__}\")\n",
    "\n",
    "import jax\n",
    "print(f\"Jax version: {jax.__version__}\")\n",
    "\n",
    "import jax.numpy as jnp"
   ]
  },
  {
   "cell_type": "code",
   "execution_count": 29,
   "metadata": {},
   "outputs": [],
   "source": [
    "import numpy as np\n",
    "import jax.numpy as jnp\n",
    "import haiku as hk\n",
    "\n",
    "class MyLinear(hk.Module):\n",
    "  def __init__(self, output_size, name=None):\n",
    "      # 从hk.module继承形成子类，使用super的调用父类中的__init__函数定义子类的名称。\n",
    "      super().__init__(name=name)\n",
    "      self.output_size = output_size\n",
    "\n",
    "  def __call__(self, x):\n",
    "      # __call__()的作用是使实例能够像函数一样被调用\n",
    "      j, k = x.shape[-1], self.output_size\n",
    "      w_init = hk.initializers.TruncatedNormal(1. / np.sqrt(j))\n",
    "\n",
    "      # 当这个类被hk.transform进行转换后，hk.get_parameter其实是从initi直接生成参数/或apply重复使\t\t  \n",
    "      # 用输入的参数，因此不需要担心多次执行时，__call__里面的参数会被重新随机化。\n",
    "      w = hk.get_parameter(\"w\", shape=[j, k], dtype=x.dtype, init=w_init)\n",
    "      b = hk.get_parameter(\"b\", shape=[k], dtype=x.dtype, init=jnp.zeros)\n",
    "      return jnp.dot(x, w) + b"
   ]
  },
  {
   "cell_type": "code",
   "execution_count": 34,
   "metadata": {},
   "outputs": [],
   "source": [
    "# All `hk.Module`s must be initialized inside an `hk.transform`.\n",
    "# 直接用会报错\n",
    "# MyLinear(10, 'layer1')"
   ]
  },
  {
   "cell_type": "code",
   "execution_count": 31,
   "metadata": {},
   "outputs": [],
   "source": [
    "# 先包含在一个函数中\n",
    "def forward_fn(x, name_):\n",
    "    # 实例化:\n",
    "    model = MyLinear(output_size=10, name=name_)\n",
    "    return model(x)  # 直接调用函数__call__\n",
    "\n",
    "forward = hk.transform(forward_fn)\n",
    "\n",
    "# 或者\n",
    "# forward = hk.transform(lambda x: MyLinear()(x))"
   ]
  },
  {
   "cell_type": "code",
   "execution_count": 33,
   "metadata": {},
   "outputs": [
    {
     "data": {
      "text/plain": [
       "{'layer': {'w': Array([[-8.7532178e-03,  7.3761588e-01, -2.0879389e-01,  7.3657016e-04,\n",
       "          -1.3183086e-01, -1.3437216e-01, -5.5001986e-01, -5.0030202e-01,\n",
       "           2.6157841e-01, -2.7943218e-01],\n",
       "         [-3.2892400e-01, -1.3924532e-01, -5.7093412e-01, -2.6730701e-01,\n",
       "           1.1441944e-01, -2.6090544e-01,  4.6571079e-01, -4.6325716e-01,\n",
       "          -6.8820441e-01,  5.0376415e-01],\n",
       "         [ 3.7003931e-01, -8.1507877e-02,  1.4804702e-01,  5.5953854e-01,\n",
       "           4.5092812e-01, -5.7936341e-01, -7.9028800e-02,  6.0494971e-01,\n",
       "           2.9943559e-01,  4.0849480e-01]], dtype=float32),\n",
       "  'b': Array([0., 0., 0., 0., 0., 0., 0., 0., 0., 0.], dtype=float32)}}"
      ]
     },
     "execution_count": 33,
     "metadata": {},
     "output_type": "execute_result"
    }
   ],
   "source": [
    "dummy_x = jnp.array([[1., 2., 3.]])      # 虚拟的input data的数据x，用于实例化网络的维度。\n",
    "rng_key = jax.random.PRNGKey(42)  # 初始化的种子，这个种子产生的id会输入给forward.init中做参数的初始化，因此这个seed应该是要随机生成的，对应一个确定的seed，生成的网络参数是确定的！\n",
    "params = forward.init(rng=rng_key, x=dummy_x, name_='layer1')\n",
    "params"
   ]
  },
  {
   "cell_type": "code",
   "execution_count": 38,
   "metadata": {},
   "outputs": [
    {
     "data": {
      "text/plain": [
       "Array([[ 0.4435167 ,  0.21460162, -0.9065211 ,  1.1447382 ,  1.4497924 ,\n",
       "        -2.3942733 ,  0.14431532,  0.3880328 , -0.21652362,  1.9535805 ]],      dtype=float32)"
      ]
     },
     "execution_count": 38,
     "metadata": {},
     "output_type": "execute_result"
    }
   ],
   "source": [
    "# __call__():\n",
    "sample_x = jnp.array([[1., 2., 3.]])\n",
    "output_1 = forward.apply(params=params, x=sample_x, rng=rng_key, name_='layer')\n",
    "output_1"
   ]
  },
  {
   "cell_type": "markdown",
   "metadata": {},
   "source": [
    "# 1. <a id='toc1_'></a>[教程](#toc0_)\n",
    "```\n",
    "https://dm-haiku.readthedocs.io/en/latest/notebooks/basics.html\n",
    "https://zhuanlan.zhihu.com/p/471892075\n",
    "```"
   ]
  },
  {
   "cell_type": "markdown",
   "metadata": {},
   "source": [
    "# 2. <a id='toc2_'></a>[概要](#toc0_)\n",
    "```\n",
    "google:\n",
    "    Tensorflow(Sonnet)\n",
    "    Haiku(JAX)\n",
    "facebook:\n",
    "    Pytorch\n",
    "Microsoftware:\n",
    "    CNTK\n",
    "AWA:\n",
    "    MXnet\n",
    "```"
   ]
  },
  {
   "cell_type": "markdown",
   "metadata": {},
   "source": [
    "## 2.1. <a id='toc2_1_'></a>[basic](#toc0_)"
   ]
  },
  {
   "cell_type": "code",
   "execution_count": 1,
   "metadata": {},
   "outputs": [],
   "source": [
    "import haiku as hk\n",
    "import jax\n",
    "import jax.numpy as jnp\n",
    "import numpy as np"
   ]
  },
  {
   "cell_type": "code",
   "execution_count": 2,
   "metadata": {},
   "outputs": [],
   "source": [
    "class MyLinear1(hk.Module):\n",
    "\n",
    "  def __init__(self, output_size, name=None):\n",
    "    super().__init__(name=name)\n",
    "    self.output_size = output_size\n",
    "\n",
    "  def __call__(self, x):\n",
    "    j, k = x.shape[-1], self.output_size\n",
    "    w_init = hk.initializers.TruncatedNormal(1. / np.sqrt(j))\n",
    "    w = hk.get_parameter(\"w\", shape=[j, k], dtype=x.dtype, init=w_init)\n",
    "    b = hk.get_parameter(\"b\", shape=[k], dtype=x.dtype, init=jnp.ones)\n",
    "    return jnp.dot(x, w) + b"
   ]
  },
  {
   "cell_type": "code",
   "execution_count": 3,
   "metadata": {},
   "outputs": [],
   "source": [
    "def _forward_fn_linear1(x):\n",
    "  module = MyLinear1(output_size=2)\n",
    "  return module(x)\n",
    "\n",
    "forward_linear1 = hk.transform(_forward_fn_linear1)"
   ]
  },
  {
   "cell_type": "code",
   "execution_count": 4,
   "metadata": {},
   "outputs": [
    {
     "data": {
      "text/plain": [
       "Transformed(init=<function without_state.<locals>.init_fn at 0x000001F25B7A4D30>, apply=<function without_state.<locals>.apply_fn at 0x000001F25B7A4DC0>)"
      ]
     },
     "execution_count": 4,
     "metadata": {},
     "output_type": "execute_result"
    }
   ],
   "source": [
    "forward_linear1"
   ]
  },
  {
   "cell_type": "code",
   "execution_count": 5,
   "metadata": {},
   "outputs": [
    {
     "name": "stdout",
     "output_type": "stream",
     "text": [
      "{'my_linear1': {'w': Array([[-0.30350363,  0.5123802 ],\n",
      "       [ 0.08009142, -0.3163005 ],\n",
      "       [ 0.6056666 ,  0.5820702 ]], dtype=float32), 'b': Array([1., 1.], dtype=float32)}}\n"
     ]
    }
   ],
   "source": [
    "dummy_x = jnp.array([[1., 2., 3.]])\n",
    "rng_key = jax.random.PRNGKey(42)\n",
    "\n",
    "params = forward_linear1.init(rng=rng_key, x=dummy_x)\n",
    "print(params)"
   ]
  }
 ],
 "metadata": {
  "kernelspec": {
   "display_name": "tensorflow2",
   "language": "python",
   "name": "python3"
  },
  "language_info": {
   "codemirror_mode": {
    "name": "ipython",
    "version": 3
   },
   "file_extension": ".py",
   "mimetype": "text/x-python",
   "name": "python",
   "nbconvert_exporter": "python",
   "pygments_lexer": "ipython3",
   "version": "3.10.13"
  }
 },
 "nbformat": 4,
 "nbformat_minor": 2
}
