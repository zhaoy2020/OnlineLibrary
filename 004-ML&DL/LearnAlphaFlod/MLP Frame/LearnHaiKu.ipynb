{
 "cells": [
  {
   "cell_type": "code",
   "execution_count": 6,
   "metadata": {},
   "outputs": [
    {
     "name": "stdout",
     "output_type": "stream",
     "text": [
      "dm-haiku version: 0.0.11.dev\n",
      "Jax version: 0.4.19\n"
     ]
    }
   ],
   "source": [
    "# download and install latest haiku from github\n",
    "if False:\n",
    "    !pip install git+https://github.com/deepmind/dm-haiku\n",
    "\n",
    "import haiku as hk\n",
    "print(f\"dm-haiku version: {hk.__version__}\")\n",
    "import jax\n",
    "print(f\"Jax version: {jax.__version__}\")\n",
    "import jax.numpy as jnp"
   ]
  },
  {
   "cell_type": "code",
   "execution_count": 7,
   "metadata": {},
   "outputs": [],
   "source": [
    "def forward(x):\n",
    "  mlp = hk.nets.MLP([3000, 100, 10])\n",
    "  return mlp(x)\n",
    "\n",
    "forward = hk.transform(forward)\n",
    "\n",
    "rng = hk.PRNGSequence(jax.random.PRNGKey(42))\n",
    "x = jnp.ones([8, 28 * 28])\n",
    "params = forward.init(next(rng), x)\n",
    "logits = forward.apply(params, next(rng), x)"
   ]
  },
  {
   "cell_type": "code",
   "execution_count": 9,
   "metadata": {},
   "outputs": [
    {
     "ename": "TypeError",
     "evalue": "'tuple' object is not an iterator",
     "output_type": "error",
     "traceback": [
      "\u001b[1;31m---------------------------------------------------------------------------\u001b[0m",
      "\u001b[1;31mTypeError\u001b[0m                                 Traceback (most recent call last)",
      "\u001b[1;32md:\\WorkStation\\PyhtonWorkStation\\SmallTools\\Library\\0041-LearnAlphaFlod\\Tensorflow\\LearnHaiKu.ipynb 单元格 4\u001b[0m line \u001b[0;36m2\n\u001b[0;32m     <a href='vscode-notebook-cell:/d%3A/WorkStation/PyhtonWorkStation/SmallTools/Library/0041-LearnAlphaFlod/Tensorflow/LearnHaiKu.ipynb#W3sZmlsZQ%3D%3D?line=17'>18</a>\u001b[0m loss_fn_t \u001b[39m=\u001b[39m hk\u001b[39m.\u001b[39mwithout_apply_rng(loss_fn_t)\n\u001b[0;32m     <a href='vscode-notebook-cell:/d%3A/WorkStation/PyhtonWorkStation/SmallTools/Library/0041-LearnAlphaFlod/Tensorflow/LearnHaiKu.ipynb#W3sZmlsZQ%3D%3D?line=19'>20</a>\u001b[0m rng \u001b[39m=\u001b[39m jax\u001b[39m.\u001b[39mrandom\u001b[39m.\u001b[39mPRNGKey(\u001b[39m42\u001b[39m)\n\u001b[1;32m---> <a href='vscode-notebook-cell:/d%3A/WorkStation/PyhtonWorkStation/SmallTools/Library/0041-LearnAlphaFlod/Tensorflow/LearnHaiKu.ipynb#W3sZmlsZQ%3D%3D?line=20'>21</a>\u001b[0m dummy_images, dummy_labels \u001b[39m=\u001b[39m \u001b[39mnext\u001b[39;49m(input_dataset)\n\u001b[0;32m     <a href='vscode-notebook-cell:/d%3A/WorkStation/PyhtonWorkStation/SmallTools/Library/0041-LearnAlphaFlod/Tensorflow/LearnHaiKu.ipynb#W3sZmlsZQ%3D%3D?line=21'>22</a>\u001b[0m params \u001b[39m=\u001b[39m loss_fn_t\u001b[39m.\u001b[39minit(rng, dummy_images, dummy_labels)\n\u001b[0;32m     <a href='vscode-notebook-cell:/d%3A/WorkStation/PyhtonWorkStation/SmallTools/Library/0041-LearnAlphaFlod/Tensorflow/LearnHaiKu.ipynb#W3sZmlsZQ%3D%3D?line=23'>24</a>\u001b[0m \u001b[39mdef\u001b[39;00m \u001b[39mupdate_rule\u001b[39m(param, update):\n",
      "\u001b[1;31mTypeError\u001b[0m: 'tuple' object is not an iterator"
     ]
    }
   ],
   "source": [
    "import haiku as hk\n",
    "import jax.numpy as jnp\n",
    "\n",
    "def softmax_cross_entropy(logits, labels):\n",
    "  one_hot = jax.nn.one_hot(labels, logits.shape[-1])\n",
    "  return -jnp.sum(jax.nn.log_softmax(logits) * one_hot, axis=-1)\n",
    "\n",
    "def loss_fn(images, labels):\n",
    "  mlp = hk.Sequential([\n",
    "      hk.Linear(300), jax.nn.relu,\n",
    "      hk.Linear(100), jax.nn.relu,\n",
    "      hk.Linear(10),\n",
    "  ])\n",
    "  logits = mlp(images)\n",
    "  return jnp.mean(softmax_cross_entropy(logits, labels))\n",
    "\n",
    "loss_fn_t = hk.transform(loss_fn)\n",
    "loss_fn_t = hk.without_apply_rng(loss_fn_t)\n",
    "\n",
    "rng = jax.random.PRNGKey(42)\n",
    "dummy_images, dummy_labels = next(input_dataset)\n",
    "params = loss_fn_t.init(rng, dummy_images, dummy_labels)\n",
    "\n",
    "def update_rule(param, update):\n",
    "  return param - 0.01 * update\n",
    "\n",
    "for images, labels in input_dataset:\n",
    "  grads = jax.grad(loss_fn_t.apply)(params, images, labels)\n",
    "  params = jax.tree_util.tree_map(update_rule, params, grads)"
   ]
  }
 ],
 "metadata": {
  "kernelspec": {
   "display_name": "tensorflow2",
   "language": "python",
   "name": "python3"
  },
  "language_info": {
   "codemirror_mode": {
    "name": "ipython",
    "version": 3
   },
   "file_extension": ".py",
   "mimetype": "text/x-python",
   "name": "python",
   "nbconvert_exporter": "python",
   "pygments_lexer": "ipython3",
   "version": "3.10.13"
  }
 },
 "nbformat": 4,
 "nbformat_minor": 2
}
