{
 "cells": [
  {
   "cell_type": "markdown",
   "metadata": {},
   "source": [
    "工作计划：\n",
    "```\n",
    "NN框架：沐神动手深度学习\n",
    "    正向传播\n",
    "        权重初始化\n",
    "        正则化：（只对weight，不对bias）\n",
    "            L1=所有weight(w)绝对值求和\n",
    "            L2=所有weight(w)平方求和\n",
    "        激活函数：\n",
    "            sigmoid\n",
    "            relu\n",
    "            tanh\n",
    "    反向传播\n",
    "        损失函数：\n",
    "            均方误差\n",
    "            自定义损失函数\n",
    "            交叉熵\n",
    "        优化器：\n",
    "            梯度下降：\n",
    "                正向\n",
    "                反向（重要）\n",
    "            adline\n",
    "            。。。\n",
    "    全连接网络\n",
    "    CNN\n",
    "        卷积层\n",
    "        池化\n",
    "        全连接网络\n",
    "        leNET5\n",
    "    RNN\n",
    "    transform\n",
    "Tensorflow框架：北大课程\n",
    "    tensorflow基础\n",
    "    正向传播：tensorflow实现\n",
    "    反向传播：tensorflow实现\n",
    "Tensorflow细节：Tensorflow google cn网站\n",
    "haiku框架：jax和haiku\n",
    "AlphaFold2论文精度+代码复现\n",
    "``"
   ]
  },
  {
   "cell_type": "markdown",
   "metadata": {},
   "source": [
    "```bash\n",
    "absl-py==1.0.0          # 运行参数\n",
    "biopython==1.79         # 生物信息\n",
    "chex==0.0.7             # 测试工具集合\n",
    "dm-haiku==0.0.10        # 基于Jax的神经网络库，可以实现类似pytorch之类的功能。\n",
    "dm-tree==0.1.8\n",
    "docker==5.0.0\n",
    "immutabledict==2.0.0    # 不可变字典\n",
    "jax==0.4.14             # GPU加速的数值运算\n",
    "ml-collections==0.1.0\n",
    "numpy==1.24.3           # 数值运算\n",
    "pandas==2.0.3           # 数据清洗\n",
    "scipy==1.11.1           # 科学计算\n",
    "tensorflow-cpu==2.13.0  # 深度学习\n",
    "```"
   ]
  },
  {
   "cell_type": "code",
   "execution_count": 3,
   "metadata": {},
   "outputs": [],
   "source": [
    "import haiku as hk\n",
    "import jax.numpy as jnp\n",
    "import tensorflow as tf\n"
   ]
  }
 ],
 "metadata": {
  "kernelspec": {
   "display_name": "tensorflow2",
   "language": "python",
   "name": "python3"
  },
  "language_info": {
   "codemirror_mode": {
    "name": "ipython",
    "version": 3
   },
   "file_extension": ".py",
   "mimetype": "text/x-python",
   "name": "python",
   "nbconvert_exporter": "python",
   "pygments_lexer": "ipython3",
   "version": "3.10.13"
  }
 },
 "nbformat": 4,
 "nbformat_minor": 2
}
