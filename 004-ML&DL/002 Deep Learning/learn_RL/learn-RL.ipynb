{
 "cells": [
  {
   "cell_type": "markdown",
   "metadata": {},
   "source": [
    "**Table of contents**<a id='toc0_'></a>    \n",
    "- 1. [前言](#toc1_)    \n",
    "- 2. [什么是强化学习](#toc2_)    \n",
    "\n",
    "<!-- vscode-jupyter-toc-config\n",
    "\tnumbering=true\n",
    "\tanchor=true\n",
    "\tflat=false\n",
    "\tminLevel=1\n",
    "\tmaxLevel=6\n",
    "\t/vscode-jupyter-toc-config -->\n",
    "<!-- THIS CELL WILL BE REPLACED ON TOC UPDATE. DO NOT WRITE YOUR TEXT IN THIS CELL -->"
   ]
  },
  {
   "cell_type": "markdown",
   "metadata": {},
   "source": [
    "# 1. <a id='toc1_'></a>[前言](#toc0_)\n",
    "\n",
    "参考资料： [动手学深度学习-强化学习（视频）](https://hrl.boyuai.com/chapter/1/%E5%88%9D%E6%8E%A2%E5%BC%BA%E5%8C%96%E5%AD%A6%E4%B9%A0)\n",
    "\n",
    "参考代码： [https://github.com/XinJingHao/DRL-Pytorch](https://github.com/XinJingHao/DRL-Pytorch)"
   ]
  },
  {
   "cell_type": "markdown",
   "metadata": {
    "vscode": {
     "languageId": "html"
    }
   },
   "source": [
    "# 2. <a id='toc2_'></a>[什么是强化学习](#toc0_)\n",
    "\n",
    "<div style=\"display: flex; justifycontent: space-between;\">\n",
    "    <div style=\"'width: 50%\">\n",
    "        <img src=\"https://hrl.boyuai.com/static/11.da5ee18f.png\" style=\"width: 100%\">\n",
    "        <p align='center'><small>强化学习模式图</p>\n",
    "    </div>\n",
    "    <div style=\"'width: 50%\">\n",
    "        <img src=\"https://hrl.boyuai.com/static/11.da5ee18f.png\" style=\"width: 100%\">\n",
    "        <p align='center'><small>强化学习模式图</p>\n",
    "    </div>\n",
    "</div>"
   ]
  },
  {
   "cell_type": "code",
   "execution_count": null,
   "metadata": {},
   "outputs": [],
   "source": []
  }
 ],
 "metadata": {
  "kernelspec": {
   "display_name": "pytorch",
   "language": "python",
   "name": "python3"
  },
  "language_info": {
   "codemirror_mode": {
    "name": "ipython",
    "version": 3
   },
   "file_extension": ".py",
   "mimetype": "text/x-python",
   "name": "python",
   "nbconvert_exporter": "python",
   "pygments_lexer": "ipython3",
   "version": "3.12.5"
  }
 },
 "nbformat": 4,
 "nbformat_minor": 2
}
