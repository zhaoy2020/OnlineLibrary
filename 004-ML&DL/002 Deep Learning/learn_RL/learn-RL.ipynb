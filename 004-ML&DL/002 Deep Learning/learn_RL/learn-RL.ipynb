{
 "cells": [
  {
   "cell_type": "markdown",
   "metadata": {},
   "source": [
    "**Table of contents**<a id='toc0_'></a>    \n",
    "- 1. [前言](#toc1_)    \n",
    "- 2. [什么是强化学习](#toc2_)    \n",
    "- 3. [环境配置](#toc3_)    \n",
    "\n",
    "<!-- vscode-jupyter-toc-config\n",
    "\tnumbering=true\n",
    "\tanchor=true\n",
    "\tflat=false\n",
    "\tminLevel=1\n",
    "\tmaxLevel=6\n",
    "\t/vscode-jupyter-toc-config -->\n",
    "<!-- THIS CELL WILL BE REPLACED ON TOC UPDATE. DO NOT WRITE YOUR TEXT IN THIS CELL -->"
   ]
  },
  {
   "cell_type": "markdown",
   "metadata": {},
   "source": [
    "# 1. <a id='toc1_'></a>[前言](#toc0_)\n",
    "\n",
    "参考资料： [动手学深度学习-强化学习（视频）](https://hrl.boyuai.com/chapter/1/%E5%88%9D%E6%8E%A2%E5%BC%BA%E5%8C%96%E5%AD%A6%E4%B9%A0)\n",
    "\n",
    "参考代码： [https://github.com/XinJingHao/DRL-Pytorch](https://github.com/XinJingHao/DRL-Pytorch)"
   ]
  },
  {
   "cell_type": "markdown",
   "metadata": {},
   "source": [
    "# 2. <a id='toc2_'></a>[什么是强化学习](#toc0_)\n",
    "\n",
    "<div style=\"display: flex; justifycontent: space-between;\">\n",
    "    <div style=\"'width: 50%\">\n",
    "        <img src=\"https://hrl.boyuai.com/static/11.da5ee18f.png\" style=\"width: 100%\">\n",
    "        <p align='center'><small>强化学习模式图</p>\n",
    "    </div>\n",
    "    <div style=\"'width: 50%\">\n",
    "        <img src=\"https://hrl.boyuai.com/static/11.da5ee18f.png\" style=\"width: 100%\">\n",
    "        <p align='center'><small>强化学习模式图</p>\n",
    "    </div>\n",
    "</div>"
   ]
  },
  {
   "cell_type": "code",
   "execution_count": 15,
   "metadata": {},
   "outputs": [
    {
     "data": {
      "text/plain": [
       "(tensor([1., 0.]),\n",
       " [tensor([1., 0.]), tensor([1., 0.]), tensor([1., 0.])],\n",
       " tensor([[1., 0.],\n",
       "         [1., 0.],\n",
       "         [1., 0.]]))"
      ]
     },
     "execution_count": 15,
     "metadata": {},
     "output_type": "execute_result"
    }
   ],
   "source": [
    "import torch \n",
    "x = torch.Tensor([1, 0])\n",
    "\n",
    "y = [x, x, x]\n",
    "\n",
    "x, y, torch.stack(y)"
   ]
  },
  {
   "cell_type": "markdown",
   "metadata": {},
   "source": [
    "# 3. <a id='toc3_'></a>[环境配置](#toc0_)"
   ]
  },
  {
   "cell_type": "code",
   "execution_count": null,
   "metadata": {},
   "outputs": [],
   "source": [
    "name=\"RL\"\n",
    "\n",
    "conda create -n $name python=3.11 ipykernel -y \n",
    "conda activate $name \n",
    "\n",
    "# Install CudaToolkit and nvcc ...\n",
    "conda install nvidia/label/cuda-12.4.0::cuda -y --channel nvidia/label/cuda-12.4.0\n",
    "\n",
    "# Install PyTorch via pip ...\n",
    "conda install pytorch==2.4.0 torchvision==0.19.0 torchaudio==2.4.0 -c pytorch -y\n",
    "\n",
    "pip install gym flappy-bird-gym2 matplotlib opencv-python\n",
    "\n",
    "\n",
    "# conda env remove -n $name -y\n"
   ]
  },
  {
   "cell_type": "code",
   "execution_count": 10,
   "metadata": {},
   "outputs": [
    {
     "data": {
      "text/plain": [
       "1024"
      ]
     },
     "execution_count": 10,
     "metadata": {},
     "output_type": "execute_result"
    }
   ],
   "source": [
    "2**10"
   ]
  }
 ],
 "metadata": {
  "kernelspec": {
   "display_name": "RL",
   "language": "python",
   "name": "python3"
  },
  "language_info": {
   "codemirror_mode": {
    "name": "ipython",
    "version": 3
   },
   "file_extension": ".py",
   "mimetype": "text/x-python",
   "name": "python",
   "nbconvert_exporter": "python",
   "pygments_lexer": "ipython3",
   "version": "3.11.11"
  }
 },
 "nbformat": 4,
 "nbformat_minor": 2
}
