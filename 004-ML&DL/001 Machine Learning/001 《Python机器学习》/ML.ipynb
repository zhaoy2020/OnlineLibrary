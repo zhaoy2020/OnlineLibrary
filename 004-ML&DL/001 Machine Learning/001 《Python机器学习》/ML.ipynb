{
 "cells": [
  {
   "cell_type": "markdown",
   "id": "f1170852",
   "metadata": {},
   "source": [
    "**Table of contents**<a id='toc0_'></a>    \n",
    "- 1. [前言](#toc1_)    \n",
    "- 2. [评估的指标](#toc2_)    \n",
    "\n",
    "<!-- vscode-jupyter-toc-config\n",
    "\tnumbering=true\n",
    "\tanchor=true\n",
    "\tflat=false\n",
    "\tminLevel=1\n",
    "\tmaxLevel=6\n",
    "\t/vscode-jupyter-toc-config -->\n",
    "<!-- THIS CELL WILL BE REPLACED ON TOC UPDATE. DO NOT WRITE YOUR TEXT IN THIS CELL -->"
   ]
  },
  {
   "cell_type": "markdown",
   "id": "dfb6f7e9",
   "metadata": {},
   "source": [
    "# 1. <a id='toc1_'></a>[前言](#toc0_)"
   ]
  },
  {
   "cell_type": "markdown",
   "id": "8a27ddac",
   "metadata": {},
   "source": [
    "处理逻辑：\n",
    "\n",
    "```mermaid\n",
    "graph TD\n",
    "    question[问题] --> A\n",
    "    subgraph A[问题建模]\n",
    "        metrics[指标评估] --> sample_selection[样本选择] --> cross_validation[交叉验证]\n",
    "    end\n",
    "    A --> feature_engineering[特征工程] --> model_selection[模型选择] --> model_merging[模型融合] --> model_application[模型应用]\n",
    "\n",
    "\n",
    "```"
   ]
  },
  {
   "cell_type": "markdown",
   "id": "31d6e189",
   "metadata": {},
   "source": [
    "# 2. <a id='toc2_'></a>[评估的指标](#toc0_)"
   ]
  }
 ],
 "metadata": {
  "language_info": {
   "name": "python"
  }
 },
 "nbformat": 4,
 "nbformat_minor": 5
}
