{
 "cells": [
  {
   "cell_type": "markdown",
   "metadata": {},
   "source": [
    "**Table of contents**<a id='toc0_'></a>    \n",
    "- 1. [基础检索规则](#toc1_)    \n",
    "- 2. [字段限定检索](#toc2_)    \n",
    "- 3. [进阶检索技巧](#toc3_)    \n",
    "- 4. [案例演示](#toc4_)    \n",
    "- 5. [结果优化与保存](#toc5_)    \n",
    "- 6. [常见问题](#toc6_)    \n",
    "- 7. [Demos](#toc7_)    \n",
    "  - 7.1. [深度学习在生命科学中的应用](#toc7_1_)    \n",
    "  - 7.2. [深度学习解析芽胞杆菌芽胞形成机制](#toc7_2_)    \n",
    "\n",
    "<!-- vscode-jupyter-toc-config\n",
    "\tnumbering=true\n",
    "\tanchor=true\n",
    "\tflat=false\n",
    "\tminLevel=1\n",
    "\tmaxLevel=6\n",
    "\t/vscode-jupyter-toc-config -->\n",
    "<!-- THIS CELL WILL BE REPLACED ON TOC UPDATE. DO NOT WRITE YOUR TEXT IN THIS CELL -->"
   ]
  },
  {
   "cell_type": "markdown",
   "metadata": {},
   "source": [
    "# 1. <a id='toc1_'></a>[基础检索规则](#toc0_)\n",
    "1. 布尔逻辑运算符  \n",
    "   - `AND`：交叉检索（如`cancer AND therapy`）  \n",
    "   - `OR`：扩展检索（如`(lung OR liver) AND cancer`）  \n",
    "   - `NOT`：排除干扰项（如`virus NOT influenza`）  \n",
    "   - 优先级：`括号 > NOT > AND > OR`（建议用括号明确逻辑，如`(A OR B) AND C`）\n",
    " \n",
    "2. 通配符与截词符  \n",
    "   - `*`：无限截断（如`bacter*`匹配bacteria/bacterium）  \n",
    "   - `**`：有限截断（如`transplant**`匹配transplanted/transplanting）  \n",
    "   - `?`：单字符通配（如`wom?n`匹配woman/women）\n",
    " \n",
    "3. 短语强制检索  \n",
    "   用双引号锁定完整短语（如`\"deep learning\"`，避免拆分为deep AND learning）"
   ]
  },
  {
   "cell_type": "markdown",
   "metadata": {},
   "source": [
    "# 2. <a id='toc2_'></a>[字段限定检索](#toc0_)\n",
    "1. 常用字段标识符  \n",
    "   | 标识符 | 作用 | 示例 |  \n",
    "   |---|---|---|  \n",
    "   | `[TI]` | 标题 | `\"CRISPR\"[TI]` |  \n",
    "   | `[AU]` | 作者 | `Smith J[AU]` |  \n",
    "   | `[TA]` | 期刊 | `Nature[TA]` |  \n",
    "   | `[MH]` | MeSH主题词 | `\"Neoplasms\"[MH]` |  \n",
    "   | `[DP]` | 出版日期 | `2023/01:2024/12[DP]` |  \n",
    "   | `[PT]` | 文献类型 | `Review[PT]` |  \n",
    " \n",
    "2. 日期范围限定  \n",
    "   - 单年：`2023[DP]`  \n",
    "   - 区间：`2020:2024[DP]`  \n",
    "   - 精确到月：`2023/03[DP]`"
   ]
  },
  {
   "cell_type": "markdown",
   "metadata": {},
   "source": [
    "# 3. <a id='toc3_'></a>[进阶检索技巧](#toc0_)\n",
    "1. MeSH主题词精准检索  \n",
    "   - 步骤：进入 → 输入关键词 → 勾选主/副主题词 → 点击`Add to Search Builder`生成检索式  \n",
    "   - 案例：检索“糖尿病并发症护理”  \n",
    "     ```sql\n",
    "     \"Diabetes Mellitus\"[Mesh] AND (\"therapy\"[Subheading] OR \"nursing\"[Subheading])\n",
    "     ```\n",
    " \n",
    "2. 临床研究筛选公式  \n",
    "   - 随机对照试验：`(\"randomized controlled trial\"[PT] OR RCT[TI])`  \n",
    "   - 系统综述：`(\"systematic review\"[PT] OR meta-analysis[TI])`\n",
    " \n",
    "3. 检索历史组合  \n",
    "   在`History and Search Details`中复用历史检索编号（如`#1 AND #2`）"
   ]
  },
  {
   "cell_type": "markdown",
   "metadata": {},
   "source": [
    "# 4. <a id='toc4_'></a>[案例演示](#toc0_)\n",
    "需求：检索2020-2024年发表在《Nature》上关于“深度学习在宏基因组分析中的应用”的英文综述  \n",
    "检索式：  \n",
    "```sql\n",
    "(\"deep learning\"[TIAB] OR \"artificial intelligence\"[TIAB]) \n",
    "AND (\"metagenome\"[MH] OR \"metagenomic analysis\"[TIAB]) \n",
    "AND Nature[TA] \n",
    "AND (Review[PT] OR \"review\"[TI]) \n",
    "AND 2020:2024[DP] \n",
    "AND English[LA]\n",
    "```"
   ]
  },
  {
   "cell_type": "markdown",
   "metadata": {},
   "source": [
    "# 5. <a id='toc5_'></a>[结果优化与保存](#toc0_)\n",
    "1. 过滤器使用  \n",
    "   在结果页左侧启用：  \n",
    "   - 文献类型（Review/Clinical Trial）  \n",
    "   - 物种（Humans/Animals）  \n",
    "   - 免费全文（Free full text）\n",
    " \n",
    "2. 自动推送设置  \n",
    "   登录PubMed账号 → 点击`Create alert` → 设置推送频率（每日/每周）和邮箱\n",
    " \n",
    "3. 引用导出  \n",
    "   勾选文献 → 点击`Cite` → 选择APA/MLA等格式直接复制"
   ]
  },
  {
   "cell_type": "markdown",
   "metadata": {},
   "source": [
    "# 6. <a id='toc6_'></a>[常见问题](#toc0_)\n",
    "1. 检索词不匹配？  \n",
    "   - 优先使用MeSH术语替代自由词  \n",
    "   - 检查拼写和截词符位置\n",
    " \n",
    "2. 特殊符号处理  \n",
    "   - 希腊字母（如β）需转写为英文（beta）  \n",
    "   - 化学式（如H2O）需加引号`\"H2O\"`\n",
    " \n",
    "3. 检索式过长？  \n",
    "   - 分模块测试后再组合（如先验证关键词组合，再添加期刊/日期限制）\n",
    " \n",
    "更多操作细节可参考PubMed官方指南：https://pubmed.ncbi.nlm.nih.gov/help/ "
   ]
  },
  {
   "cell_type": "markdown",
   "metadata": {},
   "source": [
    "# 7. <a id='toc7_'></a>[Demos](#toc0_)"
   ]
  },
  {
   "cell_type": "markdown",
   "metadata": {},
   "source": [
    "## 7.1. <a id='toc7_1_'></a>[深度学习在生命科学中的应用](#toc0_)"
   ]
  },
  {
   "cell_type": "code",
   "execution_count": null,
   "metadata": {},
   "outputs": [],
   "source": [
    "(\"deep learning\"[tiab] OR \"machine learning\"[tiab] OR \"artificial intelligence\"[tiab] OR \"Artificial Intelligence\"[Mesh]) \n",
    "AND (\"metagenome\"[tiab] OR \"metagenomics\"[tiab] OR \"Metagenome\"[Mesh])\n",
    "\n",
    "\n",
    "# Search strategy for PubMed\n",
    "(\"deep learning\"[tiab] OR \"machine learning\"[tiab] OR \"artificial intelligence\"[tiab] OR \"AI\"[tiab]) \n",
    "AND (\"metagenome\"[tiab] OR \"metagenomic\"[tiab] OR \"metagenomics\"[tiab] OR \"amplicon\"[tiab] OR \"Metatranscriptomic\"[tiab] OR \"Metatranscriptomics\"[tiab] OR \"microbiome\"[tiab])\n",
    "AND \"review\"[pt]"
   ]
  },
  {
   "cell_type": "markdown",
   "metadata": {},
   "source": [
    "## 7.2. <a id='toc7_2_'></a>[深度学习解析芽胞杆菌芽胞形成机制](#toc0_)"
   ]
  },
  {
   "cell_type": "code",
   "execution_count": null,
   "metadata": {},
   "outputs": [],
   "source": [
    "(\"deep learning\"[tiab] OR \"machine learning\"[tiab] OR \"artificial intelligence\"[tiab] OR \"AI\"[tiab]) \n",
    "AND (\"Bacillus\"[tiab])"
   ]
  }
 ],
 "metadata": {
  "kernelspec": {
   "display_name": "pytorch",
   "language": "python",
   "name": "python3"
  },
  "language_info": {
   "name": "python",
   "version": "3.12.8"
  }
 },
 "nbformat": 4,
 "nbformat_minor": 2
}
