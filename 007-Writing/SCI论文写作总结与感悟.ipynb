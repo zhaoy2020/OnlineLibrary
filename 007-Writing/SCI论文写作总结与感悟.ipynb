{
 "cells": [
  {
   "cell_type": "markdown",
   "metadata": {},
   "source": [
    "**Table of contents**<a id='toc0_'></a>    \n",
    "- 1. [SCI论文八股结构](#toc1_)    \n",
    "  - 1.1. [摘要](#toc1_1_)    \n",
    "  - 1.2. [前言](#toc1_2_)    \n",
    "  - 1.3. [材料与方法](#toc1_3_)    \n",
    "  - 1.4. [结果](#toc1_4_)    \n",
    "  - 1.5. [讨论](#toc1_5_)    \n",
    "  - 1.6. [结论](#toc1_6_)    \n",
    "  - 1.7. [写作八股套路的总结](#toc1_7_)    \n",
    "    - 1.7.1. [2023年9月8日星期五与张志武老师饮茶心得：](#toc1_7_1_)    \n",
    "\n",
    "<!-- vscode-jupyter-toc-config\n",
    "\tnumbering=true\n",
    "\tanchor=true\n",
    "\tflat=false\n",
    "\tminLevel=1\n",
    "\tmaxLevel=6\n",
    "\t/vscode-jupyter-toc-config -->\n",
    "<!-- THIS CELL WILL BE REPLACED ON TOC UPDATE. DO NOT WRITE YOUR TEXT IN THIS CELL -->"
   ]
  },
  {
   "cell_type": "markdown",
   "metadata": {},
   "source": [
    "---\n",
    "# 1. <a id='toc1_'></a>[SCI论文八股结构](#toc0_)\n",
    "其实，写论文的过程就是在与自己对话，不断的总结和思考做这些工作的逻辑和意义。  \n",
    "\n",
    "其实，就是八股论文，或者是填空游戏一般。"
   ]
  },
  {
   "cell_type": "markdown",
   "metadata": {},
   "source": [
    "## 1.1. <a id='toc1_1_'></a>[摘要](#toc0_)\n",
    "按照结构化的摘要来写 (各个部分的缩写版)\n",
    "\n",
    "- Background: 大背景-大科学问题\n",
    "\n",
    "- Object: 大科学问题-小科学问题\n",
    "\n",
    "- Method: 核心方法\n",
    "\n",
    "- Results: 主要结果\n",
    "\n",
    "- Conclusion: 通过一系列结果得出的能解决小科学问题的结论"
   ]
  },
  {
   "cell_type": "markdown",
   "metadata": {},
   "source": [
    "## 1.2. <a id='toc1_2_'></a>[前言](#toc0_)\n",
    "提出科学问题 (即为什么要研究这个科学问题)。\n",
    "\n",
    "* 框架：\n",
    "  * ... (大背景), 然而... , 所以需要解决... (大科学问题)。 \n",
    "\n",
    "  * (大科学问题) 目前研究情况...，依然存在...问题 (小科学问题)。\n",
    "  \n",
    "  * 在本研究中，我们通过...解决了 (小科学问题)，具有重要意义。"
   ]
  },
  {
   "cell_type": "markdown",
   "metadata": {},
   "source": [
    "## 1.3. <a id='toc1_3_'></a>[材料与方法](#toc0_)\n",
    "按照结果的逻辑进行描述。"
   ]
  },
  {
   "cell_type": "markdown",
   "metadata": {},
   "source": [
    "## 1.4. <a id='toc1_4_'></a>[结果](#toc0_)\n",
    "结果是对**数据**要点的**文本性描述**并将数据**赋予统计学意义**。\n",
    "\n",
    "* 模板：\n",
    "  * 为了... (问题或目的), \n",
    "  * 利用... (实验方法,不重复实验细节), \n",
    "  * 结果显示... (实验结果,文本描述数据+赋予统计学意义), \n",
    "  * 表明... (小发现,前后呼应，或引出下一个结果)。"
   ]
  },
  {
   "cell_type": "markdown",
   "metadata": {},
   "source": [
    "## 1.5. <a id='toc1_5_'></a>[讨论](#toc0_)\n",
    "解释和分析实验结果，讨论其意义、局限性和与前人研究的联系，提出对未来研究方向的建议。\n",
    "\n",
    "* 模板：\n",
    "  * ...表明...结论 (简要总结你的实验结果), \n",
    "  * 这与所有之前别人的研究结果是一致/不一致的 (将你的实验结果与既往研究结果作对比), 可能是... (原因)，\n",
    "  * 本研究.. (研究创新点和意义)。\n",
    "  \n",
    "  * 同时，本研究...需要进一步研究 (研究局限性), 以后... (未来工作展望)。"
   ]
  },
  {
   "cell_type": "markdown",
   "metadata": {},
   "source": [
    "## 1.6. <a id='toc1_6_'></a>[结论](#toc0_)\n",
    "**陈述句**表述研究结论 (呼应前言提出的问题)。\n",
    "\n",
    "* 模板：\n",
    "  * *简而言之*, 本研究解决了... (呼应前言提出的 **小科学问题**)，具有... (重要意义)。"
   ]
  },
  {
   "cell_type": "markdown",
   "metadata": {},
   "source": [
    "## 1.7. <a id='toc1_7_'></a>[写作八股套路的总结](#toc0_)\n",
    "- 首先，明确**小科学问题**\n",
    "- 围绕着**小科学问题**-向上画饼写前言\n",
    "- 围绕这**小科学问题**-向下实验结果解决该问题 (研究内容)\n",
    "- 讨论这些结果**能不能**解决**小科学问题**\n",
    "- 一段陈述句说明这些结果说明了什么从而能解决**小科学问题**"
   ]
  },
  {
   "cell_type": "markdown",
   "metadata": {},
   "source": [
    "### 1.7.1. <a id='toc1_7_1_'></a>[2023年9月8日星期五与张志武老师饮茶心得：](#toc0_)\n",
    "- 关于论文写作顺序：\n",
    "\n",
    "  - 以读者的角度和阅读顺序去写作文章的各个部分。\n",
    "  - 首先是标题，准确点题；\n",
    "  - 其次是摘要，总揽全局，盖好框架后除了一些数字改动外，就不会变动，并从摘要设计并绘制第一张图（整体模型图）；\n",
    "  - 前言部分就是画饼，循循善诱；\n",
    "  - 结果部分从摘要的模型图中描述各个证据链的论点和论据（结果图）；\n",
    "  - 讨论部分，就是讨论各个论据；\n",
    "  - 最后是材料方法部分。\n",
    "\n",
    "- 关于AI：\n",
    "  - 应该多做项目，不然很难让别人相信；\n",
    "  - 另外就是及时更新自己的CV。\n"
   ]
  }
 ],
 "metadata": {
  "kernelspec": {
   "display_name": "base",
   "language": "python",
   "name": "python3"
  },
  "language_info": {
   "codemirror_mode": {
    "name": "ipython",
    "version": 3
   },
   "file_extension": ".py",
   "mimetype": "text/x-python",
   "name": "python",
   "nbconvert_exporter": "python",
   "pygments_lexer": "ipython3",
   "version": "3.10.8"
  }
 },
 "nbformat": 4,
 "nbformat_minor": 2
}
