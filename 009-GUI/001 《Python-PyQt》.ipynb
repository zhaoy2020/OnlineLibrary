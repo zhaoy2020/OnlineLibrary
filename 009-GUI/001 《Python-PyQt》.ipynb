{
 "cells": [
  {
   "cell_type": "markdown",
   "metadata": {},
   "source": [
    "**Table of contents**<a id='toc0_'></a>    \n",
    "- 1. [概述](#toc1_)    \n",
    "- 2. [窗口大小](#toc2_)    \n",
    "- 3. [QtWidgets](#toc3_)    \n",
    "  - 3.1. [QLabel](#toc3_1_)    \n",
    "  - 3.2. [QLineEdit](#toc3_2_)    \n",
    "  - 3.3. [QTextEdit](#toc3_3_)    \n",
    "  - 3.4. [spinBox](#toc3_4_)    \n",
    "  - 3.5. [QFileDialog](#toc3_5_)    \n",
    "  - 3.6. [QMessageBox](#toc3_6_)    \n",
    "  - 3.7. [QPushButton](#toc3_7_)    \n",
    "- 4. [触发](#toc4_)    \n",
    "  - 4.1. [自动触发](#toc4_1_)    \n",
    "    - 4.1.1. [菜单栏](#toc4_1_1_)    \n",
    "    - 4.1.2. [按钮](#toc4_1_2_)    \n",
    "  - 4.2. [自定义](#toc4_2_)    \n",
    "\n",
    "<!-- vscode-jupyter-toc-config\n",
    "\tnumbering=true\n",
    "\tanchor=true\n",
    "\tflat=false\n",
    "\tminLevel=1\n",
    "\tmaxLevel=6\n",
    "\t/vscode-jupyter-toc-config -->\n",
    "<!-- THIS CELL WILL BE REPLACED ON TOC UPDATE. DO NOT WRITE YOUR TEXT IN THIS CELL -->"
   ]
  },
  {
   "cell_type": "markdown",
   "metadata": {},
   "source": [
    "# 1. <a id='toc1_'></a>[概述](#toc0_)\n",
    "- PyQt5包结构"
   ]
  },
  {
   "cell_type": "code",
   "execution_count": 2,
   "metadata": {},
   "outputs": [
    {
     "data": {
      "text/plain": [
       "'\\nPyQt5:\\n    QtWidgets:\\n        QApplication            # 应用程序\\n        QWidget                 # 窗体\\n        QDialog                 # 窗体\\n        QMainWindow             # 窗体\\n        QLabel\\n        QFileDialog             # 对话框\\n        QMessageBox             # 消息框\\n    QtCore:\\n        pyqtSignal              # 信号函数\\n        pyqtSlot                # 槽函数\\n        Qt                      # 菜单控件\\n        QObject\\n    QtGui\\n'"
      ]
     },
     "execution_count": 2,
     "metadata": {},
     "output_type": "execute_result"
    }
   ],
   "source": [
    "from PyQt5 import QtWidgets, QtCore, QtGui \n",
    "'''\n",
    "PyQt5:\n",
    "    QtWidgets:\n",
    "        QApplication            # 应用程序\n",
    "        QWidget                 # 窗体\n",
    "        QDialog                 # 窗体\n",
    "        QMainWindow             # 窗体\n",
    "\n",
    "        QLabel                  # 标签框\n",
    "        QPushButton             # 按钮框\n",
    "        QFileDialog             # 对话框\n",
    "        QMessageBox             # 消息框\n",
    "    QtCore:\n",
    "        pyqtSignal              # 信号函数\n",
    "        pyqtSlot                # 槽函数\n",
    "        Qt                      # 菜单控件\n",
    "        QObject\n",
    "    QtGui\n",
    "'''"
   ]
  },
  {
   "cell_type": "markdown",
   "metadata": {},
   "source": [
    "# 2. <a id='toc2_'></a>[窗口大小](#toc0_)"
   ]
  },
  {
   "cell_type": "code",
   "execution_count": null,
   "metadata": {},
   "outputs": [],
   "source": [
    "# Qt designer 中设置窗体固定大小的方法\n",
    "# 1、 一种方法是设置它的最大窗口值和最小窗口值，并且使最大值和最小值相等。\n",
    "# 此时窗口大小便被固定为（380,150）\n",
    "setMinimumSize(380, 150)    \n",
    "\n",
    "# 2、一种方法是使用setFixedSize()，这样一句话就可以解决问题。\n",
    "# 此时窗口大小便被固定为（380,150）\n",
    "setFixedSize(380,150)"
   ]
  },
  {
   "cell_type": "markdown",
   "metadata": {},
   "source": [
    "# 3. <a id='toc3_'></a>[QtWidgets](#toc0_)"
   ]
  },
  {
   "cell_type": "markdown",
   "metadata": {},
   "source": [
    "## 3.1. <a id='toc3_1_'></a>[QLabel](#toc0_)"
   ]
  },
  {
   "cell_type": "code",
   "execution_count": null,
   "metadata": {},
   "outputs": [],
   "source": [
    "label = QtWidgets.QLabel()\n",
    "\n",
    "label.setText() # 设置\n",
    "\n",
    "label.text()    # 获取"
   ]
  },
  {
   "cell_type": "markdown",
   "metadata": {},
   "source": [
    "## 3.2. <a id='toc3_2_'></a>[QLineEdit](#toc0_)"
   ]
  },
  {
   "cell_type": "code",
   "execution_count": null,
   "metadata": {},
   "outputs": [],
   "source": [
    "lineEdit = QtWidgets.QLineEdit()\n",
    "\n",
    "# 设置\n",
    "lineEdit.setText(\"haha\")\n",
    "\n",
    "# 获取\n",
    "lineEdit.text()"
   ]
  },
  {
   "cell_type": "markdown",
   "metadata": {},
   "source": [
    "## 3.3. <a id='toc3_3_'></a>[QTextEdit](#toc0_)"
   ]
  },
  {
   "cell_type": "code",
   "execution_count": null,
   "metadata": {},
   "outputs": [],
   "source": [
    "textEdit = QtWidgets.QtTextEdit()\n",
    "\n",
    "# 设置\n",
    "textEdit.setPlainText()\n",
    "\n",
    "# 获取\n",
    "textEdit.toPlainText()"
   ]
  },
  {
   "cell_type": "markdown",
   "metadata": {},
   "source": [
    "## 3.4. <a id='toc3_4_'></a>[spinBox](#toc0_)"
   ]
  },
  {
   "cell_type": "code",
   "execution_count": null,
   "metadata": {},
   "outputs": [],
   "source": [
    "# 设置\n",
    "self.ui.spinBox.setValue(2)                     # cpu threads -> 2\n",
    "\n",
    "# 获取\n",
    "self.ui.spinBox.value()\n",
    "\n",
    "# 设置\n",
    "self.ui.doubleSpinBox_4.setValue(0.00001)       # Evlaue -> 0.00001\n",
    "\n",
    "# 获取\n",
    "self.ui.doubleSpinBox_4.value()"
   ]
  },
  {
   "cell_type": "markdown",
   "metadata": {},
   "source": [
    "## 3.5. <a id='toc3_5_'></a>[QFileDialog](#toc0_)"
   ]
  },
  {
   "cell_type": "code",
   "execution_count": null,
   "metadata": {},
   "outputs": [],
   "source": [
    "QtWidgets.QFileDialog.getOpenFileName(self, \"选择DB路径\", curPath, \"文本文件(*.fasta;*.ffn;*.fnn;*.ffa;*.faa;*.fa);;所有文件(*.*)\")\n",
    "QtWidgets.QFileDialog.getSaveFileName(self, \"选择DB路径\", curPath, \"文本文件(*.fasta;*.ffn;*.fnn;*.ffa;*.faa;*.fa);;所有文件(*.*)\")\n",
    "\n",
    "QtWidgets.QFileDialog.getExistingDirectory(self, \"选择输出路径\")"
   ]
  },
  {
   "cell_type": "markdown",
   "metadata": {},
   "source": [
    "## 3.6. <a id='toc3_6_'></a>[QMessageBox](#toc0_)"
   ]
  },
  {
   "cell_type": "code",
   "execution_count": null,
   "metadata": {},
   "outputs": [],
   "source": [
    "QtWidgets.QMessageBox.warning(self, \"错误\", \"输出路径出错！\")\n",
    "QtWidgets.QMessageBox.about(self, '关于', '内容')\n",
    "QtWidgets.QMessageBox.information(self, '信息', '内容')\n",
    "QtWidgets.QMessageBox.question(self, '问题', '内容')\n",
    "QtWidgets.QMessageBox.critical(self, '严重错误', '内容')"
   ]
  },
  {
   "cell_type": "markdown",
   "metadata": {},
   "source": [
    "## 3.7. <a id='toc3_7_'></a>[QPushButton](#toc0_)"
   ]
  },
  {
   "cell_type": "code",
   "execution_count": null,
   "metadata": {},
   "outputs": [],
   "source": [
    "bt = QtWidgets.QPushButton()\n",
    "\n",
    "bt.setText()\n",
    "\n",
    "bt.text()\n"
   ]
  },
  {
   "cell_type": "markdown",
   "metadata": {},
   "source": [
    "# 4. <a id='toc4_'></a>[触发](#toc0_)"
   ]
  },
  {
   "cell_type": "markdown",
   "metadata": {},
   "source": [
    "## 4.1. <a id='toc4_1_'></a>[自动触发](#toc0_)"
   ]
  },
  {
   "cell_type": "markdown",
   "metadata": {},
   "source": [
    "### 4.1.1. <a id='toc4_1_1_'></a>[菜单栏](#toc0_)\n",
    "- triggered()"
   ]
  },
  {
   "cell_type": "code",
   "execution_count": null,
   "metadata": {},
   "outputs": [],
   "source": [
    "@QtCore.pyqtSlot()\n",
    "def on_actionQiime2_triggered(self):\n",
    "    try:\n",
    "        pass\n",
    "    except:\n",
    "        pass"
   ]
  },
  {
   "cell_type": "markdown",
   "metadata": {},
   "source": [
    "### 4.1.2. <a id='toc4_1_2_'></a>[按钮](#toc0_)\n",
    "- clicked()"
   ]
  },
  {
   "cell_type": "code",
   "execution_count": null,
   "metadata": {},
   "outputs": [],
   "source": [
    "@QtCore.pyqtSlot()\n",
    "def on_pushButton_6_clicked(self):\n",
    "    try:\n",
    "        pass\n",
    "    except:\n",
    "        pass"
   ]
  },
  {
   "cell_type": "markdown",
   "metadata": {},
   "source": [
    "## 4.2. <a id='toc4_2_'></a>[自定义](#toc0_)"
   ]
  },
  {
   "cell_type": "code",
   "execution_count": null,
   "metadata": {},
   "outputs": [],
   "source": []
  }
 ],
 "metadata": {
  "kernelspec": {
   "display_name": "qt5",
   "language": "python",
   "name": "python3"
  },
  "language_info": {
   "codemirror_mode": {
    "name": "ipython",
    "version": 3
   },
   "file_extension": ".py",
   "mimetype": "text/x-python",
   "name": "python",
   "nbconvert_exporter": "python",
   "pygments_lexer": "ipython3",
   "version": "3.10.8"
  },
  "orig_nbformat": 4
 },
 "nbformat": 4,
 "nbformat_minor": 2
}
