{
 "cells": [
  {
   "cell_type": "markdown",
   "metadata": {},
   "source": [
    "**Table of contents**<a id='toc0_'></a>    \n",
    "- 1. [概述](#toc1_)    \n",
    "- 2. [窗口大小](#toc2_)    \n",
    "- 3. [QtWidgets](#toc3_)    \n",
    "  - 3.1. [QLineEdit](#toc3_1_)    \n",
    "  - 3.2. [QTextEdit](#toc3_2_)    \n",
    "  - 3.3. [spinBox](#toc3_3_)    \n",
    "  - 3.4. [QMessageBox](#toc3_4_)    \n",
    "\n",
    "<!-- vscode-jupyter-toc-config\n",
    "\tnumbering=true\n",
    "\tanchor=true\n",
    "\tflat=false\n",
    "\tminLevel=1\n",
    "\tmaxLevel=6\n",
    "\t/vscode-jupyter-toc-config -->\n",
    "<!-- THIS CELL WILL BE REPLACED ON TOC UPDATE. DO NOT WRITE YOUR TEXT IN THIS CELL -->"
   ]
  },
  {
   "cell_type": "markdown",
   "metadata": {},
   "source": [
    "# 1. <a id='toc1_'></a>[概述](#toc0_)\n",
    "- PyQt5包结构"
   ]
  },
  {
   "cell_type": "code",
   "execution_count": 1,
   "metadata": {},
   "outputs": [
    {
     "data": {
      "text/plain": [
       "'\\nPyQt5:\\n    QtWidgets:\\n        QApplication\\n        QWidget\\n        QDialog\\n        QMainWindow\\n        QLabel\\n        QFileDialog\\n    QtCore:\\n        pyqtSignal\\n        pyqtSlot\\n        Qt\\n        QObject\\n    QtGui\\n'"
      ]
     },
     "execution_count": 1,
     "metadata": {},
     "output_type": "execute_result"
    }
   ],
   "source": [
    "from PyQt5 import QtWidgets, QtCore, QtGui \n",
    "'''\n",
    "PyQt5:\n",
    "    QtWidgets:\n",
    "        QApplication\n",
    "        QWidget\n",
    "        QDialog\n",
    "        QMainWindow\n",
    "        QLabel\n",
    "        QFileDialog\n",
    "    QtCore:\n",
    "        pyqtSignal\n",
    "        pyqtSlot\n",
    "        Qt\n",
    "        QObject\n",
    "    QtGui\n",
    "'''"
   ]
  },
  {
   "cell_type": "markdown",
   "metadata": {},
   "source": [
    "# 2. <a id='toc2_'></a>[窗口大小](#toc0_)"
   ]
  },
  {
   "cell_type": "code",
   "execution_count": null,
   "metadata": {},
   "outputs": [],
   "source": [
    "# Qt designer 中设置窗体固定大小的方法\n",
    "# 1、 一种方法是设置它的最大窗口值和最小窗口值，并且使最大值和最小值相等。\n",
    "# 此时窗口大小便被固定为（380,150）\n",
    "setMinimumSize(380, 150)    \n",
    "\n",
    "# 2、一种方法是使用setFixedSize()，这样一句话就可以解决问题。\n",
    "# 此时窗口大小便被固定为（380,150）\n",
    "setFixedSize(380,150)"
   ]
  },
  {
   "cell_type": "markdown",
   "metadata": {},
   "source": [
    "# 3. <a id='toc3_'></a>[QtWidgets](#toc0_)"
   ]
  },
  {
   "cell_type": "markdown",
   "metadata": {},
   "source": [
    "## 3.1. <a id='toc3_1_'></a>[QLineEdit](#toc0_)"
   ]
  },
  {
   "cell_type": "code",
   "execution_count": null,
   "metadata": {},
   "outputs": [
    {
     "ename": "",
     "evalue": "",
     "output_type": "error",
     "traceback": [
      "\u001b[1;31m在当前单元格或上一个单元格中执行代码时 Kernel 崩溃。请查看单元格中的代码，以确定故障的可能原因。有关详细信息，请单击 <a href='https://aka.ms/vscodeJupyterKernelCrash'>此处</a>。有关更多详细信息，请查看 Jupyter <a href='command:jupyter.viewOutput'>log</a>。"
     ]
    }
   ],
   "source": [
    "lineEdit = QtWidgets.QLineEdit()\n",
    "\n",
    "# 设置\n",
    "lineEdit.setText(\"haha\")\n",
    "\n",
    "# 获取\n",
    "lineEdit.text()"
   ]
  },
  {
   "cell_type": "markdown",
   "metadata": {},
   "source": [
    "## 3.2. <a id='toc3_2_'></a>[QTextEdit](#toc0_)"
   ]
  },
  {
   "cell_type": "code",
   "execution_count": 1,
   "metadata": {},
   "outputs": [
    {
     "ename": "NameError",
     "evalue": "name 'QtWidgets' is not defined",
     "output_type": "error",
     "traceback": [
      "\u001b[1;31m---------------------------------------------------------------------------\u001b[0m",
      "\u001b[1;31mNameError\u001b[0m                                 Traceback (most recent call last)",
      "\u001b[1;32md:\\WorkStation\\PyhtonWorkStation\\SmallTools\\Library\\009 GUI编程\\《Python-PyQt》.ipynb 单元格 3\u001b[0m line \u001b[0;36m1\n\u001b[1;32m----> <a href='vscode-notebook-cell:/d%3A/WorkStation/PyhtonWorkStation/SmallTools/Library/009%20GUI%E7%BC%96%E7%A8%8B/%E3%80%8APython-PyQt%E3%80%8B.ipynb#W2sZmlsZQ%3D%3D?line=0'>1</a>\u001b[0m QtWidgets\u001b[39m.\u001b[39mQtTextEdit()\n",
      "\u001b[1;31mNameError\u001b[0m: name 'QtWidgets' is not defined"
     ]
    }
   ],
   "source": [
    "textEdit = QtWidgets.QtTextEdit()\n",
    "\n",
    "# 设置\n",
    "textEdit.setPlain()\n",
    "\n",
    "# 获取\n",
    "textEdit.toPlainText()"
   ]
  },
  {
   "cell_type": "markdown",
   "metadata": {},
   "source": [
    "## 3.3. <a id='toc3_3_'></a>[spinBox](#toc0_)"
   ]
  },
  {
   "cell_type": "code",
   "execution_count": null,
   "metadata": {},
   "outputs": [],
   "source": [
    "# 设置\n",
    "self.ui.spinBox.setValue(2)                     # cpu threads -> 2\n",
    "\n",
    "# 获取\n",
    "self.ui.spinBox.value()\n",
    "\n",
    "# 设置\n",
    "self.ui.doubleSpinBox_4.setValue(0.00001)       # Evlaue -> 0.00001\n",
    "\n",
    "# 获取\n",
    "self.ui.doubleSpinBox_4.value()"
   ]
  },
  {
   "cell_type": "markdown",
   "metadata": {},
   "source": [
    "## 3.4. <a id='toc3_4_'></a>[QMessageBox](#toc0_)"
   ]
  },
  {
   "cell_type": "code",
   "execution_count": null,
   "metadata": {},
   "outputs": [],
   "source": [
    "QtWidgets.QMessageBox.warning(self, \"错误\", \"输出路径出错！\")"
   ]
  }
 ],
 "metadata": {
  "kernelspec": {
   "display_name": "qt5",
   "language": "python",
   "name": "python3"
  },
  "language_info": {
   "codemirror_mode": {
    "name": "ipython",
    "version": 3
   },
   "file_extension": ".py",
   "mimetype": "text/x-python",
   "name": "python",
   "nbconvert_exporter": "python",
   "pygments_lexer": "ipython3",
   "version": "3.10.8"
  },
  "orig_nbformat": 4
 },
 "nbformat": 4,
 "nbformat_minor": 2
}
