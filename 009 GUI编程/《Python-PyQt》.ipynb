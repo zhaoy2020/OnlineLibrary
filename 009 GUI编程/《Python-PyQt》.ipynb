{
 "cells": [
  {
   "cell_type": "code",
   "execution_count": 1,
   "metadata": {},
   "outputs": [
    {
     "data": {
      "text/plain": [
       "'\\nPyQt5:\\n    QtWidgets:\\n        QApplication\\n        QWidget\\n        QDialog\\n        QMainWindow\\n        QLabel\\n        QFileDialog\\n    QtCore:\\n        pyqtSignal\\n        pyqtSlot\\n        Qt\\n        QObject\\n    QtGui\\n'"
      ]
     },
     "execution_count": 1,
     "metadata": {},
     "output_type": "execute_result"
    }
   ],
   "source": [
    "from PyQt5 import QtWidgets, QtCore, QtGui \n",
    "'''\n",
    "PyQt5:\n",
    "    QtWidgets:\n",
    "        QApplication\n",
    "        QWidget\n",
    "        QDialog\n",
    "        QMainWindow\n",
    "        QLabel\n",
    "        QFileDialog\n",
    "    QtCore:\n",
    "        pyqtSignal\n",
    "        pyqtSlot\n",
    "        Qt\n",
    "        QObject\n",
    "    QtGui\n",
    "'''"
   ]
  }
 ],
 "metadata": {
  "kernelspec": {
   "display_name": "qt5",
   "language": "python",
   "name": "python3"
  },
  "language_info": {
   "codemirror_mode": {
    "name": "ipython",
    "version": 3
   },
   "file_extension": ".py",
   "mimetype": "text/x-python",
   "name": "python",
   "nbconvert_exporter": "python",
   "pygments_lexer": "ipython3",
   "version": "3.11.3"
  },
  "orig_nbformat": 4
 },
 "nbformat": 4,
 "nbformat_minor": 2
}
