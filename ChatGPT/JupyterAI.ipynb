{
 "cells": [
  {
   "cell_type": "code",
   "execution_count": 1,
   "metadata": {},
   "outputs": [
    {
     "name": "stderr",
     "output_type": "stream",
     "text": [
      "UsageError: Cell magic `%%ai` not found.\n"
     ]
    }
   ],
   "source": [
    "%%ai chatgpt"
   ]
  },
  {
   "cell_type": "code",
   "execution_count": null,
   "metadata": {},
   "outputs": [],
   "source": [
    "Author (Year). Title. Journal Volume| (Part/Supplement)|, Pages|, Article Number|. DOI|."
   ]
  },
  {
   "cell_type": "markdown",
   "metadata": {},
   "source": [
    "# Polish (EN -> EN)\n",
    "```shell\n",
    "Below is a paragraph from an academic paper. Polish the writing to meet the academic style, improve the spelling, grammar, clarity, concision and overall readability. When necessary, rewrite the whole sentence. Furthermore, list all modification and explain the reasons to do so in markdown table :\n",
    "The authors declare no conflict of interest.\n",
    "```"
   ]
  },
  {
   "cell_type": "code",
   "execution_count": null,
   "metadata": {},
   "outputs": [],
   "source": [
    "Below is a paragraph from an academic paper. Polish the writing to meet the academic style, improve the spelling, grammar, clarity, concision and overall readability. When necessary, rewrite the whole sentence. Furthermore, list all modification and explain the reasons to do so in markdown table :\n",
    "\n",
    "Statistical significance is denoted as follows: p ≤ 0.05 *, p ≤ 0.01 **, p ≤ 0.001 ***."
   ]
  },
  {
   "cell_type": "code",
   "execution_count": null,
   "metadata": {},
   "outputs": [],
   "source": [
    "Below is a paragraph from an academic paper. Polish the writing to meet the academic style, improve the spelling, grammar, clarity, concision and overall readability. When necessary, rewrite the whole sentence. Furthermore, list all modification and explain the reasons to do so in markdown table :\n",
    "\n",
    "In this study, the efficiency of natural transformation and electroporation of B. subtilis GLB191 were compared. We also assessed the impact of competent cell preparation, pulse electroporation, and recovery culture on electroporation efficiency utilizing response surface methodology. Results indicated that the primary factors affecting electroporation efficiency were the concentration of glycine, DL-threonine, and Tween 80 used in a cell wall weakening solution during competent cell preparation, along with the voltage applied during pulse electroporation. Optimization led to nearly a threefold increase ( to 74.00 ± 5.10 CFU/μg DNA) in electroporation efficiency. "
   ]
  },
  {
   "cell_type": "markdown",
   "metadata": {},
   "source": [
    "- 缩写"
   ]
  },
  {
   "cell_type": "code",
   "execution_count": null,
   "metadata": {},
   "outputs": [],
   "source": [
    "Without changing the meaning of the paragraph, keep the characters to 600 words or less:\n",
    "\n",
    "Among existing methods, markerless genetic engineering techniques are frequently used for their ability to perform multi-locus iterative editing on the same chromosome. This method includes the CRISPR-Cas9 system and counter-selection systems based on toxic elements that affect normal cell growth."
   ]
  },
  {
   "cell_type": "markdown",
   "metadata": {},
   "source": [
    "# Polish (ZH -> EN)\n",
    "```sehll\n",
    "Below is a Chinese paragraph from an academic paper. Please translate to English and then Polish the writing to meet the academic style, improve the spelling, grammar, clarity, concision and overall readability. When necessary, rewrite the whole sentence. Furthermore, list all modification and explain the reasons to do so in markdown table :\n",
    "c-di-GMP是一种广泛分布于微生物中的核酸类第二信使分子。\n",
    "```"
   ]
  },
  {
   "cell_type": "code",
   "execution_count": null,
   "metadata": {},
   "outputs": [],
   "source": [
    "Below is a Chinese paragraph from an academic paper. Please translate to English and then Polish the writing to meet the academic style, improve the spelling, grammar, clarity, concision and overall readability. When necessary, rewrite the whole sentence. Furthermore, list all modification and explain the reasons to do so in markdown table :\n",
    "\n",
    "c-di-GMP是一种广泛分布于微生物中的核酸类第二信使分子。"
   ]
  },
  {
   "cell_type": "code",
   "execution_count": null,
   "metadata": {},
   "outputs": [],
   "source": [
    "Below is a Chinese paragraph from an academic paper. Please translate to English and then Polish the writing to meet the academic style, improve the spelling, grammar, clarity, concision and overall readability. When necessary, rewrite the whole sentence. Furthermore, list all modification and explain the reasons to do so in markdown table :\n",
    "\n",
    "4. 揭示了c-di-GMP代谢通路蛋白互作网络关系。通过IP-MS分析了PdeH的互作蛋白组功能，主要为嘌呤代谢中的c-di-GMP代谢相关通路、细菌生物膜形成以及细菌趋化和运动相关通路，并通过细菌双杂交实验对筛选的c-di-GMP代谢通路相关蛋白进行互作网络验证。网络分析结果表明pGpG降解酶NrnA在互作网络中占据重要作用。游动性检测表明nrnA的缺失可以解除因胞内高c-di-GMP水平导致的对菌株游动能力的抑制作用。芽胞形成率检测表明nrnA缺失抑制芽胞形成，其作用途径不同于c-di-GMP抑制芽胞形成通路。"
   ]
  },
  {
   "cell_type": "markdown",
   "metadata": {},
   "source": [
    "将中文括号改为应为括号，并前后加空格"
   ]
  },
  {
   "cell_type": "code",
   "execution_count": null,
   "metadata": {},
   "outputs": [],
   "source": [
    "# 通配符查找\n",
    "\\（(*)\\）\n",
    "# 通配符替换\n",
    "\\（(*)\\）"
   ]
  },
  {
   "cell_type": "markdown",
   "metadata": {},
   "source": [
    "## 材料与方法"
   ]
  },
  {
   "cell_type": "code",
   "execution_count": null,
   "metadata": {},
   "outputs": [],
   "source": [
    "# username: xtkzauqtqy\n",
    "# password: wq1234567890\n",
    "# E-mail: xtkzauqtqy@iubridge.com"
   ]
  },
  {
   "cell_type": "code",
   "execution_count": 16,
   "metadata": {},
   "outputs": [
    {
     "data": {
      "text/plain": [
       "7.909235505387378"
      ]
     },
     "execution_count": 16,
     "metadata": {},
     "output_type": "execute_result"
    }
   ],
   "source": [
    "# # article, review article\n",
    "# 2021\n",
    "(80699+69548)/(13236+740)\n",
    "# 2022\n",
    "(87989+84965)/(16414+1316)\n",
    "# 2023\n",
    "(61118+93033)/(17873+1617)"
   ]
  },
  {
   "cell_type": "code",
   "execution_count": 20,
   "metadata": {},
   "outputs": [
    {
     "data": {
      "text/plain": [
       "2.865168539325843"
      ]
     },
     "execution_count": 20,
     "metadata": {},
     "output_type": "execute_result"
    }
   ],
   "source": [
    "# article, review article\n",
    "# Phytopathology Research 2022\n",
    "(91)/(28+3)\n",
    "# Phytopathology Research 2022\n",
    "(245)/(64+8)\n",
    "# Phytopathology Research 2023\n",
    "(255)/(12+77)"
   ]
  },
  {
   "cell_type": "markdown",
   "metadata": {},
   "source": [
    "- 思考\n",
    "  \n",
    "  - 导师\n",
    "\n",
    "  - 平台\n",
    "\n",
    "  - 待遇\n",
    "\n",
    "  - 前景\n",
    "\n",
    "- 研究整理高水平文章：\n",
    "  - 热点\n",
    "  - 创新点\n",
    "\n",
    "- 独立撰写基金的能力\n",
    "  - 发挥课题组的特色和特长\n",
    "  - 在老问题引用新方法，得到突破\n",
    "  - 研究老本子为解决的问题\n",
    "  - 写作能力\n",
    "- 报奖\n",
    "- 沟通的能力\n",
    "  - 作报告的能力\n",
    "  - 与学生工作的能力"
   ]
  },
  {
   "cell_type": "code",
   "execution_count": null,
   "metadata": {},
   "outputs": [],
   "source": [
    "本校今年夏季毕业，目前还没答辩，申请材料暂缺答辩决议书，请问怎么办？谢谢\n",
    "申请创新团队，以共同第一作者发表文章是否符合要求？"
   ]
  }
 ],
 "metadata": {
  "kernelspec": {
   "display_name": "base",
   "language": "python",
   "name": "python3"
  },
  "language_info": {
   "codemirror_mode": {
    "name": "ipython",
    "version": 3
   },
   "file_extension": ".py",
   "mimetype": "text/x-python",
   "name": "python",
   "nbconvert_exporter": "python",
   "pygments_lexer": "ipython3",
   "version": "3.10.8"
  },
  "orig_nbformat": 4
 },
 "nbformat": 4,
 "nbformat_minor": 2
}
