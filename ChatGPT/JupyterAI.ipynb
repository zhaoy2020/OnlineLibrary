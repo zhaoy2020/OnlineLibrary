{
 "cells": [
  {
   "cell_type": "code",
   "execution_count": 1,
   "metadata": {},
   "outputs": [
    {
     "name": "stderr",
     "output_type": "stream",
     "text": [
      "UsageError: Cell magic `%%ai` not found.\n"
     ]
    }
   ],
   "source": [
    "%%ai chatgpt"
   ]
  },
  {
   "cell_type": "code",
   "execution_count": null,
   "metadata": {},
   "outputs": [],
   "source": [
    "Author (Year). Title. Journal Volume| (Part/Supplement)|, Pages|, Article Number|. DOI|."
   ]
  },
  {
   "cell_type": "markdown",
   "metadata": {},
   "source": [
    "# Polish (EN -> EN)\n",
    "```shell\n",
    "Below is a paragraph from an academic paper. Polish the writing to meet the academic style, improve the spelling, grammar, clarity, concision and overall readability. When necessary, rewrite the whole sentence. Furthermore, list all modification and explain the reasons to do so in markdown table :\n",
    "The authors declare no conflict of interest.\n",
    "```"
   ]
  },
  {
   "cell_type": "code",
   "execution_count": null,
   "metadata": {},
   "outputs": [],
   "source": [
    "Below is a paragraph from an academic paper. Polish the writing to meet the academic style, improve the spelling, grammar, clarity, concision and overall readability. When necessary, rewrite the whole sentence. Furthermore, list all modification and explain the reasons to do so in markdown table :\n",
    "\n",
    "Statistical significance is denoted as follows: p ≤ 0.05 *, p ≤ 0.01 **, p ≤ 0.001 ***."
   ]
  },
  {
   "cell_type": "code",
   "execution_count": null,
   "metadata": {},
   "outputs": [],
   "source": [
    "Below is a paragraph from an academic paper. Polish the writing to meet the academic style, improve the spelling, grammar, clarity, concision and overall readability. When necessary, rewrite the whole sentence. Furthermore, list all modification and explain the reasons to do so in markdown table :\n",
    "\n",
    "1. In lines 242-243, the results describe the recruitment effect of Debaryomyces hansenii on other yeast species, but the underlying reasons are not explained. A comprehensive discussion on this matter should be provided in the Discussion section.\n",
    "2. Similarly, lines 309-321 reveal that Botrytis cinerea can induce significant enrichment of genes related to secondary metabolites in the microbial community. However, the occurrence of gray mold disease is the most severe. Therefore, a focused discussion on this aspect should be included in the Discussion section."
   ]
  },
  {
   "cell_type": "code",
   "execution_count": null,
   "metadata": {},
   "outputs": [],
   "source": [
    "Without changing the meaning of the paragraph, keep the characters to 600 words or less:\n",
    "\n",
    "Among existing methods, markerless genetic engineering techniques are frequently used for their ability to perform multi-locus iterative editing on the same chromosome. This method includes the CRISPR-Cas9 system and counter-selection systems based on toxic elements that affect normal cell growth."
   ]
  },
  {
   "cell_type": "markdown",
   "metadata": {},
   "source": [
    "# Polish (ZH -> EN)\n",
    "```sehll\n",
    "Below is a Chinese paragraph from an academic paper. Please translate to English and then Polish the writing to meet the academic style, improve the spelling, grammar, clarity, concision and overall readability. When necessary, rewrite the whole sentence. Furthermore, list all modification and explain the reasons to do so in markdown table :\n",
    "c-di-GMP是一种广泛分布于微生物中的核酸类第二信使分子。\n",
    "```"
   ]
  },
  {
   "cell_type": "code",
   "execution_count": null,
   "metadata": {},
   "outputs": [],
   "source": [
    "Below is a Chinese paragraph from an academic paper. Please translate to English and then Polish the writing to meet the academic style, improve the spelling, grammar, clarity, concision and overall readability. When necessary, rewrite the whole sentence. Furthermore, list all modification and explain the reasons to do so in markdown table :\n",
    "\n",
    "c-di-GMP是一种广泛分布于微生物中的核酸类第二信使分子。"
   ]
  },
  {
   "cell_type": "code",
   "execution_count": null,
   "metadata": {},
   "outputs": [],
   "source": [
    "Below is a Chinese paragraph from an academic paper. Please translate to English and then Polish the writing to meet the academic style, improve the spelling, grammar, clarity, concision and overall readability. When necessary, rewrite the whole sentence. Furthermore, list all modification and explain the reasons to do so in markdown table :\n",
    "\n",
    "在242-243行，结果中描述到Debaryomyces hansenii对于其他酵母菌具有招募作用，但是没有解释原因，请在讨论部分中进行详细的讨论。\n",
    "在309-321行，Botrytis cinerea能够诱导微生物群落中次生代谢产物相关基因显著富集，但是灰霉病病害的发生是最严重的，相关解释应该在讨论部分进行重点讨论。\n"
   ]
  },
  {
   "cell_type": "code",
   "execution_count": null,
   "metadata": {},
   "outputs": [],
   "source": [
    "(Author Year)\n",
    "Author (Year)"
   ]
  },
  {
   "cell_type": "code",
   "execution_count": null,
   "metadata": {},
   "outputs": [],
   "source": [
    "Bibliography Number\n",
    "Author Bibliography Number\n",
    "Bibliography Number.\t"
   ]
  },
  {
   "cell_type": "code",
   "execution_count": null,
   "metadata": {},
   "outputs": [],
   "source": [
    "(Author Year)\n",
    "Author (Year)"
   ]
  },
  {
   "cell_type": "markdown",
   "metadata": {},
   "source": [
    "将中文括号改为应为括号，并前后加空格"
   ]
  },
  {
   "cell_type": "code",
   "execution_count": null,
   "metadata": {},
   "outputs": [],
   "source": [
    "# 通配符查找\n",
    "\\（(*)\\）\n",
    "# 通配符替换\n",
    "\\（(*)\\）"
   ]
  },
  {
   "cell_type": "markdown",
   "metadata": {},
   "source": [
    "# 写作\n",
    "## 摘要"
   ]
  },
  {
   "cell_type": "markdown",
   "metadata": {},
   "source": [
    "## 前言\n",
    "* 提出科学问题 (即为什么要研究这个科学问题)。\n",
    "\n",
    "* 框架：\n",
    "  * ... (大背景), 然而... , 所以需要解决... (大科学问题)。 \n",
    "  * 目前研究情况...，依然存在...问题 (小科学问题)。\n",
    "  * 在本研究中，我们通过...解决了小科学问题，具有重要意义。"
   ]
  },
  {
   "cell_type": "markdown",
   "metadata": {},
   "source": [
    "## 材料与方法"
   ]
  },
  {
   "cell_type": "markdown",
   "metadata": {},
   "source": [
    "\n",
    "## 结果\n",
    "* 结果是对**数据**要点的**文本性描述**并将数据**赋予统计学意义**。\n",
    "\n",
    "* 模板：\n",
    "  * 为了... (问题或目的), 利用... (实验方法,不重复实验细节), 结果显示... (实验结果,文本描述数据+赋予统计学意义), 表明... (小发现,前后呼应，或引出下一个结果)。"
   ]
  },
  {
   "cell_type": "markdown",
   "metadata": {},
   "source": [
    "## 讨论\n",
    "* 解释和分析实验结果，讨论其意义、局限性和与前人研究的联系，提出对未来研究方向的建议。\n",
    "\n",
    "* 模板：\n",
    "  * ...表明...结论 (简要总结你的实验结果), 这与所有之前别人的研究结果是一致/不一致的 (将你的实验结果与既往研究结果作对比), 本研究.. (研究创新点和意义), 同时，本研究...需要进一步研究 (研究局限性), 以后... (未来工作展望)。"
   ]
  },
  {
   "cell_type": "markdown",
   "metadata": {},
   "source": [
    "## 结论\n",
    "* 陈述句表述研究结论 (呼应前言提出的问题)。\n",
    "\n",
    "* 模板：\n",
    "  * *简而言之*, 本研究... (呼应前言提出的问题)。"
   ]
  }
 ],
 "metadata": {
  "kernelspec": {
   "display_name": "base",
   "language": "python",
   "name": "python3"
  },
  "language_info": {
   "codemirror_mode": {
    "name": "ipython",
    "version": 3
   },
   "file_extension": ".py",
   "mimetype": "text/x-python",
   "name": "python",
   "nbconvert_exporter": "python",
   "pygments_lexer": "ipython3",
   "version": "3.10.8"
  },
  "orig_nbformat": 4
 },
 "nbformat": 4,
 "nbformat_minor": 2
}
