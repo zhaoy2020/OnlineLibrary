{
 "cells": [
  {
   "cell_type": "code",
   "execution_count": 1,
   "metadata": {},
   "outputs": [
    {
     "name": "stderr",
     "output_type": "stream",
     "text": [
      "UsageError: Cell magic `%%ai` not found.\n"
     ]
    }
   ],
   "source": [
    "%%ai chatgpt"
   ]
  },
  {
   "cell_type": "code",
   "execution_count": null,
   "metadata": {},
   "outputs": [],
   "source": [
    "Author (Year). Title. Journal Volume| (Part/Supplement)|, Pages|, Article Number|. DOI|."
   ]
  },
  {
   "cell_type": "markdown",
   "metadata": {},
   "source": [
    "# Polish (EN -> EN)\n",
    "```shell\n",
    "Below is a paragraph from an academic paper. Polish the writing to meet the academic style, improve the spelling, grammar, clarity, concision and overall readability. When necessary, rewrite the whole sentence. Furthermore, list all modification and explain the reasons to do so in markdown table :\n",
    "The authors declare no conflict of interest.\n",
    "```"
   ]
  },
  {
   "cell_type": "code",
   "execution_count": null,
   "metadata": {},
   "outputs": [],
   "source": [
    "Below is a paragraph from an academic paper. Polish the writing to meet the academic style, improve the spelling, grammar, clarity, concision and overall readability. When necessary, rewrite the whole sentence. Furthermore, list all modification and explain the reasons to do so in markdown table :\n",
    "\n",
    "Statistical significance is denoted as follows: p ≤ 0.05 *, p ≤ 0.01 **, p ≤ 0.001 ***."
   ]
  },
  {
   "cell_type": "code",
   "execution_count": null,
   "metadata": {},
   "outputs": [],
   "source": [
    "Below is a paragraph from an academic paper. Polish the writing to meet the academic style, improve the spelling, grammar, clarity, concision and overall readability. When necessary, rewrite the whole sentence. Furthermore, list all modification and explain the reasons to do so in markdown table :\n",
    "\n",
    "Optimization of the genetic system and identification of the new c-di-GMP receptor protein in Bacillus subtilis GLB191"
   ]
  },
  {
   "cell_type": "markdown",
   "metadata": {},
   "source": [
    "- 缩写"
   ]
  },
  {
   "cell_type": "code",
   "execution_count": null,
   "metadata": {},
   "outputs": [],
   "source": [
    "Without changing the meaning of the paragraph, keep the characters to 600 words or less:\n",
    "\n",
    "Among existing methods, markerless genetic engineering techniques are frequently used for their ability to perform multi-locus iterative editing on the same chromosome. This method includes the CRISPR-Cas9 system and counter-selection systems based on toxic elements that affect normal cell growth."
   ]
  },
  {
   "cell_type": "markdown",
   "metadata": {},
   "source": [
    "# Polish (ZH -> EN)\n",
    "```sehll\n",
    "Below is a Chinese paragraph from an academic paper. Please translate to English and then Polish the writing to meet the academic style, improve the spelling, grammar, clarity, concision and overall readability. When necessary, rewrite the whole sentence. Furthermore, list all modification and explain the reasons to do so in markdown table :\n",
    "c-di-GMP是一种广泛分布于微生物中的核酸类第二信使分子。\n",
    "```"
   ]
  },
  {
   "cell_type": "code",
   "execution_count": null,
   "metadata": {},
   "outputs": [],
   "source": [
    "Below is a Chinese paragraph from an academic paper. Please translate to English and then Polish the writing to meet the academic style, improve the spelling, grammar, clarity, concision and overall readability. When necessary, rewrite the whole sentence. Furthermore, list all modification and explain the reasons to do so in markdown table :\n",
    "\n",
    "c-di-GMP新受体的鉴定及其功能研究。对B. subtilis GLB191中c-di-GMP受体进行了系统分析，未发现B. subtilis GLB191中存在c-di-GMP核糖开关。通过基于隐马尔可夫模型的同源比对鉴定到革兰氏阴性细菌中已知c-di-GMP受体蛋白YajQ的同源物YitK蛋白，微量热涌动实验结果显示YitK不能与c-di-GMP结合。通过3次亲和色谱筛选，所有枯草芽胞杆菌中已报道的胞质c-di-GMP结合蛋白均被富集；选取3次稳定富集的20个候选c-di-GMP结合蛋白进行结合验证，点杂交实验结果表明c-di-GMP可以与PdeH、DhbF、TsaD、CinA和CadA结合，但不能与芽胞形成关键调控因子Spo0A结合。通过细菌双杂交、GST Pull-down和免疫共沉淀方法验证了PdeH可以与Spo0A特异性互作。体外Pull-down实验和凝胶阻滞实验表明c-di-GMP通过增强PdeH自身互作，从而促进PdeH与Spo0A互作，最终抑制Spo0A结合pdeH或sigE启动子DNA序列。表明PdeH作为“Trigger-PDE”在响应高浓度c-di-GMP时，通过促进PdeH与Spo0A互作调控pdeH转录表达，最终维持胞内c-di-GMP动态平衡的作用机制，以及调节sigE表达调控芽胞形成作用机制。"
   ]
  },
  {
   "cell_type": "code",
   "execution_count": null,
   "metadata": {},
   "outputs": [],
   "source": [
    "Below is a Chinese paragraph from an academic paper. Please translate to English and then Polish the writing to meet the academic style, improve the spelling, grammar, clarity, concision and overall readability. When necessary, rewrite the whole sentence. Furthermore, list all modification and explain the reasons to do so in markdown table :\n",
    "\n",
    "枯草芽胞杆菌GLB191遗传体系优化及c-di-GMP新受体蛋白功能研究\n",
    "Optimization of the Genetic System of Bacillus subtilis GLB191 and Functional Study of the New c-di-GMP Receptor Protein\n"
   ]
  },
  {
   "cell_type": "markdown",
   "metadata": {},
   "source": [
    "将中文括号改为应为括号，并前后加空格"
   ]
  },
  {
   "cell_type": "code",
   "execution_count": null,
   "metadata": {},
   "outputs": [],
   "source": [
    "# 通配符查找\n",
    "\\（(*)\\）\n",
    "# 通配符替换\n",
    "\\（(*)\\）"
   ]
  },
  {
   "cell_type": "markdown",
   "metadata": {},
   "source": [
    "## 材料与方法"
   ]
  },
  {
   "cell_type": "code",
   "execution_count": null,
   "metadata": {},
   "outputs": [],
   "source": [
    "# username: xtkzauqtqy\n",
    "# password: wq1234567890\n",
    "# E-mail: xtkzauqtqy@iubridge.com"
   ]
  },
  {
   "cell_type": "code",
   "execution_count": 16,
   "metadata": {},
   "outputs": [
    {
     "data": {
      "text/plain": [
       "7.909235505387378"
      ]
     },
     "execution_count": 16,
     "metadata": {},
     "output_type": "execute_result"
    }
   ],
   "source": [
    "# # article, review article\n",
    "# 2021\n",
    "(80699+69548)/(13236+740)\n",
    "# 2022\n",
    "(87989+84965)/(16414+1316)\n",
    "# 2023\n",
    "(61118+93033)/(17873+1617)"
   ]
  },
  {
   "cell_type": "code",
   "execution_count": 20,
   "metadata": {},
   "outputs": [
    {
     "data": {
      "text/plain": [
       "2.865168539325843"
      ]
     },
     "execution_count": 20,
     "metadata": {},
     "output_type": "execute_result"
    }
   ],
   "source": [
    "# article, review article\n",
    "# Phytopathology Research 2022\n",
    "(91)/(28+3)\n",
    "# Phytopathology Research 2022\n",
    "(245)/(64+8)\n",
    "# Phytopathology Research 2023\n",
    "(255)/(12+77)"
   ]
  },
  {
   "cell_type": "markdown",
   "metadata": {},
   "source": [
    "- 思考\n",
    "  \n",
    "  - 导师\n",
    "\n",
    "  - 平台\n",
    "\n",
    "  - 待遇\n",
    "\n",
    "  - 前景\n",
    "\n",
    "- 研究整理高水平文章：\n",
    "  - 热点\n",
    "  - 创新点\n",
    "\n",
    "- 独立撰写基金的能力\n",
    "  - 发挥课题组的特色和特长\n",
    "  - 在老问题引用新方法，得到突破\n",
    "  - 研究老本子为解决的问题\n",
    "  - 写作能力\n",
    "- 报奖\n",
    "- 沟通的能力\n",
    "  - 作报告的能力\n",
    "  - 与学生工作的能力"
   ]
  },
  {
   "cell_type": "code",
   "execution_count": null,
   "metadata": {},
   "outputs": [],
   "source": [
    "本校今年夏季毕业，目前还没答辩，申请材料暂缺答辩决议书，请问怎么办？谢谢\n",
    "申请创新团队，以共同第一作者发表文章是否符合要求？"
   ]
  },
  {
   "cell_type": "code",
   "execution_count": 3,
   "metadata": {},
   "outputs": [
    {
     "name": "stderr",
     "output_type": "stream",
     "text": [
      "WARNING:root:Something bad could happen!\n",
      "INFO:root:You are running the program\n",
      "ERROR:root:Aw snap! Everything failed.\n"
     ]
    },
    {
     "name": "stdout",
     "output_type": "stream",
     "text": [
      "This is the program output\n"
     ]
    }
   ],
   "source": [
    "# limitations under the License.\n",
    "import logging\n",
    "\n",
    "logging.basicConfig()\n",
    "logger = logging.getLogger()\n",
    "logger.setLevel(level=logging.INFO)\n",
    "\n",
    "\n",
    "logging.warning('Something bad could happen!')\n",
    "logging.info('You are running the program')\n",
    "logging.error('Aw snap! Everything failed.')\n",
    "\n",
    "print(\"This is the program output\")"
   ]
  }
 ],
 "metadata": {
  "kernelspec": {
   "display_name": "base",
   "language": "python",
   "name": "python3"
  },
  "language_info": {
   "codemirror_mode": {
    "name": "ipython",
    "version": 3
   },
   "file_extension": ".py",
   "mimetype": "text/x-python",
   "name": "python",
   "nbconvert_exporter": "python",
   "pygments_lexer": "ipython3",
   "version": "3.10.8"
  },
  "orig_nbformat": 4
 },
 "nbformat": 4,
 "nbformat_minor": 2
}
