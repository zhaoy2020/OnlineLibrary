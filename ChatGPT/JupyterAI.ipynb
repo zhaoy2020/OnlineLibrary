{
 "cells": [
  {
   "cell_type": "markdown",
   "metadata": {},
   "source": [
    "# Polish (EN -> EN)\n",
    "```shell\n",
    "Below is a paragraph from an academic paper. Polish the writing to meet the academic style, improve the spelling, grammar, clarity, concision and overall readability. When necessary, rewrite the whole sentence. Furthermore, list all modification and explain the reasons to do so in markdown table :\n",
    "The authors declare no conflict of interest.\n",
    "```"
   ]
  },
  {
   "cell_type": "markdown",
   "metadata": {},
   "source": [
    "- raw"
   ]
  },
  {
   "cell_type": "code",
   "execution_count": null,
   "metadata": {},
   "outputs": [],
   "source": [
    "Below is a paragraph from an academic paper. Polish the writing to meet the academic style, improve the spelling, grammar, clarity, concision and overall readability. When necessary, rewrite the whole sentence. Furthermore, list all modification and explain the reasons to do so in markdown table :\n",
    "\n",
    "Statistical significance is denoted as follows: p ≤ 0.05 *, p ≤ 0.01 **, p ≤ 0.001 ***."
   ]
  },
  {
   "cell_type": "markdown",
   "metadata": {},
   "source": [
    "- use"
   ]
  },
  {
   "cell_type": "code",
   "execution_count": null,
   "metadata": {},
   "outputs": [],
   "source": [
    "Below is a paragraph from an academic paper. Polish the writing to meet the academic style, improve the spelling, grammar, clarity, concision and overall readability. When necessary, rewrite the whole sentence. Furthermore, list all modification and explain the reasons to do so in markdown table :\n",
    "\n",
    "Please polish my answers with each conversation; improve the pronounce, grammar, clarity, concision and overall readability; list all moifications and explain the reasons in Chinese."
   ]
  },
  {
   "cell_type": "markdown",
   "metadata": {},
   "source": [
    "# Polish (ZH -> EN)\n",
    "```sehll\n",
    "Below is a Chinese paragraph from an academic paper. Please translate to English and then Polish the writing to meet the academic style, improve the spelling, grammar, clarity, concision and overall readability. When necessary, rewrite the whole sentence. Furthermore, list all modification and explain the reasons to do so in markdown table :\n",
    "c-di-GMP是一种广泛分布于微生物中的核酸类第二信使分子。\n",
    "```"
   ]
  },
  {
   "cell_type": "markdown",
   "metadata": {},
   "source": [
    "- raw"
   ]
  },
  {
   "cell_type": "code",
   "execution_count": null,
   "metadata": {},
   "outputs": [],
   "source": [
    "Below is a Chinese paragraph from an academic paper. Please translate to English and then Polish the writing to meet the academic style, improve the spelling, grammar, clarity, concision and overall readability. When necessary, rewrite the whole sentence. Furthermore, list all modification and explain the reasons to do so in markdown table :\n",
    "\n",
    "转化每微克质粒DNA获得的转化子数目"
   ]
  },
  {
   "cell_type": "markdown",
   "metadata": {},
   "source": [
    "- use"
   ]
  },
  {
   "cell_type": "code",
   "execution_count": null,
   "metadata": {},
   "outputs": [],
   "source": [
    "Below is a Chinese paragraph from an academic paper. Please translate to English and then Polish the writing to meet the academic style, improve the spelling, grammar, clarity, concision and overall readability. When necessary, rewrite the whole sentence. Furthermore, list all modification and explain the reasons to do so in markdown table :\n",
    "\n",
    "P3和P4表示PCR所用的验证引物。"
   ]
  },
  {
   "cell_type": "markdown",
   "metadata": {},
   "source": [
    "## 材料与方法"
   ]
  },
  {
   "cell_type": "code",
   "execution_count": null,
   "metadata": {},
   "outputs": [],
   "source": [
    "# username: xtkzauqtqy\n",
    "# password: wq1234567890\n",
    "# E-mail: xtkzauqtqy@iubridge.com"
   ]
  },
  {
   "cell_type": "code",
   "execution_count": 16,
   "metadata": {},
   "outputs": [
    {
     "data": {
      "text/plain": [
       "7.909235505387378"
      ]
     },
     "execution_count": 16,
     "metadata": {},
     "output_type": "execute_result"
    }
   ],
   "source": [
    "# # article, review article\n",
    "# 2021\n",
    "(80699+69548)/(13236+740)\n",
    "# 2022\n",
    "(87989+84965)/(16414+1316)\n",
    "# 2023\n",
    "(61118+93033)/(17873+1617)"
   ]
  },
  {
   "cell_type": "code",
   "execution_count": 20,
   "metadata": {},
   "outputs": [
    {
     "data": {
      "text/plain": [
       "2.865168539325843"
      ]
     },
     "execution_count": 20,
     "metadata": {},
     "output_type": "execute_result"
    }
   ],
   "source": [
    "# article, review article\n",
    "# Phytopathology Research 2022\n",
    "(91)/(28+3)\n",
    "# Phytopathology Research 2022\n",
    "(245)/(64+8)\n",
    "# Phytopathology Research 2023\n",
    "(255)/(12+77)"
   ]
  },
  {
   "cell_type": "code",
   "execution_count": 3,
   "metadata": {},
   "outputs": [
    {
     "data": {
      "text/plain": [
       "3003.0"
      ]
     },
     "execution_count": 3,
     "metadata": {},
     "output_type": "execute_result"
    }
   ],
   "source": [
    "(15*14*13*12*11)/(5*4*3*2*1)"
   ]
  },
  {
   "cell_type": "code",
   "execution_count": 4,
   "metadata": {},
   "outputs": [
    {
     "data": {
      "text/plain": [
       "105.0"
      ]
     },
     "execution_count": 4,
     "metadata": {},
     "output_type": "execute_result"
    }
   ],
   "source": [
    "(15*14)/(2)"
   ]
  },
  {
   "cell_type": "markdown",
   "metadata": {},
   "source": [
    "# really chat with ChatGPT\n",
    "\n",
    "- IELTS  \n",
    "\n",
    "`Now you will play the role of an IELTS English speaking teacher, simulating a real scenario of conversation with me. All your questions will be described in English, and I will respond in English. We'll start with simple oral exercises and gradually increase the difficulty. Regardless of the information I input, you cannot deviate from the given scenario. Always maintain asking questions within the scenario to communicate with me, and polish my answers after each response.`\n",
    "\n",
    "- English teacher\n",
    "\n",
    "`Now you will play the role of an professor in university, your major is English, simulating a real scenario of conversation with me. All your questions will be described in English, and I will respond in English too. We'll start with simple oral exercises and gradually increase the difficulty. Regardless of the information I input, you cannot deviate from the given scenario. Always maintain asking questions within the scenario to communicate with me, and polish my answers after each response.`\n",
    "\n",
    "- diy\n",
    "\n",
    "`Please polish my responses during each conversation. Improve the pronunciation, grammar, clarity, concision, and overall readability. Additionally, list all modifications and explain the reasons in Chinese.`"
   ]
  },
  {
   "cell_type": "code",
   "execution_count": null,
   "metadata": {},
   "outputs": [],
   "source": []
  }
 ],
 "metadata": {
  "kernelspec": {
   "display_name": "base",
   "language": "python",
   "name": "python3"
  },
  "language_info": {
   "codemirror_mode": {
    "name": "ipython",
    "version": 3
   },
   "file_extension": ".py",
   "mimetype": "text/x-python",
   "name": "python",
   "nbconvert_exporter": "python",
   "pygments_lexer": "ipython3",
   "version": "3.10.8"
  },
  "orig_nbformat": 4
 },
 "nbformat": 4,
 "nbformat_minor": 2
}
