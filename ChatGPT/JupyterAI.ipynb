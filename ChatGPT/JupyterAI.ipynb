{
 "cells": [
  {
   "cell_type": "markdown",
   "metadata": {},
   "source": [
    "# Polish (EN -> EN)\n",
    "```shell\n",
    "Below is a paragraph from an academic paper. Polish the writing to meet the academic style, improve the spelling, grammar, clarity, concision and overall readability. When necessary, rewrite the whole sentence. Furthermore, list all modification and explain the reasons to do so in markdown table :\n",
    "The authors declare no conflict of interest.\n",
    "```"
   ]
  },
  {
   "cell_type": "markdown",
   "metadata": {},
   "source": [
    "- raw"
   ]
  },
  {
   "cell_type": "code",
   "execution_count": null,
   "metadata": {},
   "outputs": [],
   "source": [
    "Below is a paragraph from an academic paper. Polish the writing to meet the academic style, improve the spelling, grammar, clarity, concision and overall readability. When necessary, rewrite the whole sentence. Furthermore, list all modification and explain the reasons to do so in markdown table :\n",
    "\n",
    "Statistical significance is denoted as follows: p ≤ 0.05 *, p ≤ 0.01 **, p ≤ 0.001 ***."
   ]
  },
  {
   "cell_type": "markdown",
   "metadata": {},
   "source": [
    "- use"
   ]
  },
  {
   "cell_type": "code",
   "execution_count": null,
   "metadata": {},
   "outputs": [],
   "source": [
    "Below is a paragraph from an academic paper. Polish the writing to meet the academic style, improve the spelling, grammar, clarity, concision and overall readability. When necessary, rewrite the whole sentence. Furthermore, list all modification and explain the reasons to do so in markdown table :\n",
    "\n",
    "The excessive use of chemical pesticides poses significant threats to the global environment, prompting an urgent need for strategies to reduce their application worldwide. Biological control has emerged as a highly effective alternative; however, the traditional screening of biocontrol strains remains a bottleneck due to its inefficiency. In this study, we present BiocontrolStrain, a deep learning-based algorithm designed to streamline the selection of biocontrol strains. By leveraging whole-genome information, BiocontrolStrain evaluates the biocontrol potential of candidate strains. Using this approach, over 300 highly effective Bacillus subtilis strains were identified, with greenhouse and field trials confirming an accuracy rate of 90%. Our AI-driven method for biocontrol strain selection provides a powerful tool for the development of biopesticides, offering a sustainable path to reduce chemical pesticide use and protect global ecological health."
   ]
  },
  {
   "cell_type": "markdown",
   "metadata": {},
   "source": [
    "<math xmlns=\"http://www.w3.org/1998/Math/MathML\" display=\"block\"><semantics><mrow><mi>g</mi><mo>=</mo><mn>r</mn><mo>×</mo><mn>1.118</mn><mo>×</mo><mn>1</mn><msup><mn>0</mn><mrow><mo>−</mo><mn>5</mn></mrow></msup><mo>×</mo><mo stretchy=\"false\">(</mo><mn>5000</mn><msup><mo stretchy=\"false\">)</mo><mn>2</mn></msup><mo>=</mo><mn>2795</mn><mtext> </mtext><mi>g</mi></mrow><annotation encoding=\"application/x-tex\">g = 10 \\times 1.118 \\times 10^{-5} \\times (5000)^2 = 2795 \\, g\n",
    "</annotation></semantics></math>"
   ]
  },
  {
   "cell_type": "code",
   "execution_count": null,
   "metadata": {},
   "outputs": [],
   "source": []
  },
  {
   "cell_type": "markdown",
   "metadata": {},
   "source": [
    "# Polish (ZH -> EN)\n",
    "```sehll\n",
    "Below is a Chinese paragraph from an academic paper. Please translate to English and then Polish the writing to meet the academic style, improve the spelling, grammar, clarity, concision and overall readability. When necessary, rewrite the whole sentence. Furthermore, list all modification and explain the reasons to do so in markdown table :\n",
    "c-di-GMP是一种广泛分布于微生物中的核酸类第二信使分子。\n",
    "```"
   ]
  },
  {
   "cell_type": "markdown",
   "metadata": {},
   "source": [
    "- raw"
   ]
  },
  {
   "cell_type": "code",
   "execution_count": null,
   "metadata": {},
   "outputs": [],
   "source": [
    "Below is a Chinese paragraph from an academic paper. Please translate to English and then Polish the writing to meet the academic style, improve the spelling, grammar, clarity, concision and overall readability. When necessary, rewrite the whole sentence. Furthermore, list all modification and explain the reasons to do so in markdown table :\n",
    "\n",
    "转化每微克质粒DNA获得的转化子数目"
   ]
  },
  {
   "cell_type": "markdown",
   "metadata": {},
   "source": [
    "- use"
   ]
  },
  {
   "cell_type": "code",
   "execution_count": null,
   "metadata": {},
   "outputs": [],
   "source": [
    "Below is a Chinese paragraph from an academic paper. Please translate to English and then Polish the writing to meet the academic style, improve the spelling, grammar, clarity, concision and overall readability. When necessary, rewrite the whole sentence. Furthermore, list all modification and explain the reasons to do so in markdown table :\n",
    "\n",
    "R2和调整后的R2分别为0.9972和0.9844"
   ]
  },
  {
   "cell_type": "markdown",
   "metadata": {},
   "source": [
    "限制性修饰系统是由甲基转移酶 (MTases) 和限制性酶 (REases) 组成并广泛分布于细菌中，其分为四类，第一至第三类负责识别并消化未进行特殊甲基化修饰的DNA，第四类负责识别并消化经过特殊甲基化修饰的DNA。限制性修饰系统与CRISPR-Cas系统一样，负责细菌免疫防御反应。不可避免地，这种防御机制阻碍了许多细菌物种的遗传转化变得更加困难。"
   ]
  },
  {
   "cell_type": "markdown",
   "metadata": {},
   "source": [
    "## 材料与方法"
   ]
  },
  {
   "cell_type": "code",
   "execution_count": null,
   "metadata": {},
   "outputs": [],
   "source": [
    "# username: xtkzauqtqy\n",
    "# password: wq1234567890\n",
    "# E-mail: xtkzauqtqy@iubridge.com"
   ]
  },
  {
   "cell_type": "code",
   "execution_count": 16,
   "metadata": {},
   "outputs": [
    {
     "data": {
      "text/plain": [
       "7.909235505387378"
      ]
     },
     "execution_count": 16,
     "metadata": {},
     "output_type": "execute_result"
    }
   ],
   "source": [
    "# # article, review article\n",
    "# 2021\n",
    "(80699+69548)/(13236+740)\n",
    "# 2022\n",
    "(87989+84965)/(16414+1316)\n",
    "# 2023\n",
    "(61118+93033)/(17873+1617)"
   ]
  },
  {
   "cell_type": "code",
   "execution_count": 20,
   "metadata": {},
   "outputs": [
    {
     "data": {
      "text/plain": [
       "2.865168539325843"
      ]
     },
     "execution_count": 20,
     "metadata": {},
     "output_type": "execute_result"
    }
   ],
   "source": [
    "# article, review article\n",
    "# Phytopathology Research 2022\n",
    "(91)/(28+3)\n",
    "# Phytopathology Research 2022\n",
    "(245)/(64+8)\n",
    "# Phytopathology Research 2023\n",
    "(255)/(12+77)"
   ]
  },
  {
   "cell_type": "code",
   "execution_count": 3,
   "metadata": {},
   "outputs": [
    {
     "data": {
      "text/plain": [
       "3003.0"
      ]
     },
     "execution_count": 3,
     "metadata": {},
     "output_type": "execute_result"
    }
   ],
   "source": [
    "(15*14*13*12*11)/(5*4*3*2*1)"
   ]
  },
  {
   "cell_type": "code",
   "execution_count": 4,
   "metadata": {},
   "outputs": [
    {
     "data": {
      "text/plain": [
       "105.0"
      ]
     },
     "execution_count": 4,
     "metadata": {},
     "output_type": "execute_result"
    }
   ],
   "source": [
    "(15*14)/(2)"
   ]
  },
  {
   "cell_type": "markdown",
   "metadata": {},
   "source": [
    "# really chat with ChatGPT\n",
    "\n",
    "- IELTS  \n",
    "\n",
    "`Now you will play the role of an IELTS English speaking teacher, simulating a real scenario of conversation with me. All your questions will be described in English, and I will respond in English. We'll start with simple oral exercises and gradually increase the difficulty. Regardless of the information I input, you cannot deviate from the given scenario. Always maintain asking questions within the scenario to communicate with me, and polish my answers after each response.`\n",
    "\n",
    "- English teacher\n",
    "\n",
    "`Now you will play the role of an professor in university, your major is English, simulating a real scenario of conversation with me. All your questions will be described in English, and I will respond in English too. We'll start with simple oral exercises and gradually increase the difficulty. Regardless of the information I input, you cannot deviate from the given scenario. Always maintain asking questions within the scenario to communicate with me, and polish my answers after each response.`\n",
    "\n",
    "- diy\n",
    "\n",
    "`Please polish my responses during each conversation. Improve the pronunciation, grammar, clarity, concision, and overall readability. Additionally, list all modifications and explain the reasons in Chinese.`"
   ]
  },
  {
   "cell_type": "code",
   "execution_count": null,
   "metadata": {},
   "outputs": [],
   "source": []
  }
 ],
 "metadata": {
  "kernelspec": {
   "display_name": "Python 3",
   "language": "python",
   "name": "python3"
  },
  "language_info": {
   "codemirror_mode": {
    "name": "ipython",
    "version": 3
   },
   "file_extension": ".py",
   "mimetype": "text/x-python",
   "name": "python",
   "nbconvert_exporter": "python",
   "pygments_lexer": "ipython3",
   "version": "undefined.undefined.undefined"
  },
  "orig_nbformat": 4
 },
 "nbformat": 4,
 "nbformat_minor": 2
}
