{
 "cells": [
  {
   "cell_type": "markdown",
   "metadata": {},
   "source": [
    "**Table of contents**<a id='toc0_'></a>    \n",
    "- 1. [Python-Numpy](#toc1_)    \n",
    "  - 1.1. [创建数组-array](#toc1_1_)    \n",
    "    - 1.1.1. [从列表创建](#toc1_1_1_)    \n",
    "    - 1.1.2. [从头创建](#toc1_1_2_)    \n",
    "  - 1.2. [NumPy数组基础](#toc1_2_)    \n",
    "    - 1.2.1. [属性ndim-shape-dtype](#toc1_2_1_)    \n",
    "    - 1.2.2. [索引-[start:stop:step]](#toc1_2_2_)    \n",
    "    - 1.2.3. [变形-np.reshape()](#toc1_2_3_)    \n",
    "    - 1.2.4. [拼接-np.concatenate([...])](#toc1_2_4_)    \n",
    "  - 1.3. [NumPy数组的计算：通用函数](#toc1_3_)    \n",
    "      - 1.3.1.1. [算数运算](#toc1_3_1_1_)    \n",
    "      - 1.3.1.2. [统计函数](#toc1_3_1_2_)    \n",
    "  - 1.4. [数组的计算](#toc1_4_)    \n",
    "\n",
    "<!-- vscode-jupyter-toc-config\n",
    "\tnumbering=true\n",
    "\tanchor=true\n",
    "\tflat=false\n",
    "\tminLevel=1\n",
    "\tmaxLevel=6\n",
    "\t/vscode-jupyter-toc-config -->\n",
    "<!-- THIS CELL WILL BE REPLACED ON TOC UPDATE. DO NOT WRITE YOUR TEXT IN THIS CELL -->"
   ]
  },
  {
   "cell_type": "markdown",
   "metadata": {},
   "source": [
    "# 1. <a id='toc1_'></a>[Numpy概述](#toc0_)\n",
    "\n",
    "- 优点：numpy可以完全替代python本身的统计部分，功能强大，方便有用；\n",
    "\n",
    "- 缺点：不支持GPU计算\n",
    "\n",
    "- 改进：可以用jax.numpy平替numpy"
   ]
  },
  {
   "cell_type": "code",
   "execution_count": 2,
   "metadata": {},
   "outputs": [],
   "source": [
    "import numpy as np"
   ]
  },
  {
   "cell_type": "markdown",
   "metadata": {},
   "source": [
    "## 1.1. <a id='toc1_1_'></a>[创建数组-array](#toc0_)"
   ]
  },
  {
   "cell_type": "markdown",
   "metadata": {},
   "source": [
    "### 1.1.1. <a id='toc1_1_1_'></a>[从列表创建](#toc0_)\n",
    "\n",
    "- np.array(object=[1, 2, 3], dtype=int, size=(3, 4))"
   ]
  },
  {
   "cell_type": "code",
   "execution_count": 3,
   "metadata": {},
   "outputs": [
    {
     "name": "stdout",
     "output_type": "stream",
     "text": [
      "[1, 2, 3, 4, 5, 6, 7, 8, 9]\n",
      "[1 2 3 4 5 6 7 8 9]\n",
      "[1. 2. 3. 4. 5. 6. 7. 8. 9.]\n"
     ]
    }
   ],
   "source": [
    "# 创建一维数组\n",
    "## 首先用列表推导式推到出一个列表\n",
    "data_int = [i for i in range(1,10)]\n",
    "print(data_int) \n",
    "\n",
    "# 不同于 Python 列表，NumPy 要求数组必须包含同一类型的数据。如果类型不匹配，NumPy 将会向上转换（如果可行）。\n",
    "data_int_array = np.array(data_int, dtype=int)\n",
    "print(data_int_array)\n",
    "\n",
    "# 依据dtype指定数据类型\n",
    "data_int2float_array = np.array(data_int, dtype=float)\n",
    "print(data_int2float_array) "
   ]
  },
  {
   "cell_type": "code",
   "execution_count": 5,
   "metadata": {},
   "outputs": [
    {
     "name": "stdout",
     "output_type": "stream",
     "text": [
      "[range(2, 5), range(4, 7), range(6, 9)]\n",
      "[[2, 3, 4], [4, 5, 6], [6, 7, 8]]\n"
     ]
    }
   ],
   "source": [
    "# 创建二维数组\n",
    "## 首先用列表推导式推到出一个列表\n",
    "data_2d1 = [range(i, i+3) for i in [2, 4, 6]]; print(data_2d1)\n",
    "data_2d2 = [[j for j in range(i, i+3)] for i in [2, 4, 6]]; print(data_2d2)"
   ]
  },
  {
   "cell_type": "code",
   "execution_count": 34,
   "metadata": {},
   "outputs": [
    {
     "name": "stdout",
     "output_type": "stream",
     "text": [
      "[[2 3 4]\n",
      " [4 5 6]\n",
      " [6 7 8]]\n",
      "[[2 3 4]\n",
      " [4 5 6]\n",
      " [6 7 8]]\n",
      "[[2 3 4]\n",
      " [4 5 6]\n",
      " [6 7 8]]\n"
     ]
    }
   ],
   "source": [
    "## 将列表传入arry中并指定dtype数据类型，创建数组\n",
    "data_2d_array= np.array([range(i, i+3) for i in [2, 4, 6]], dtype=int); print(data_2d_array)\n",
    "print(np.array(data_2d1, dtype=int))\n",
    "print(np.array(data_2d2, dtype=int))"
   ]
  },
  {
   "cell_type": "markdown",
   "metadata": {},
   "source": [
    "### 1.1.2. <a id='toc1_1_2_'></a>[从头创建](#toc0_)\n",
    "- 面对大型数组的时候，用 NumPy 内置的方法从头创建数组是一种更高效的方法。以下是几个示例：\n",
    "\n",
    "|函数名|注释|\n",
    "|:-|:-|\n",
    "|np.arrange()||\n",
    "|np.zeros()||\n",
    "|np.ones()||\n",
    "|np.empty()||\n",
    "|np.full()||\n",
    "|np.linspace()||\n",
    "|np.random.random()||\n",
    "|np.random.normal()||\n",
    "|np.random.randint()||\n",
    "|np.eye()||"
   ]
  },
  {
   "cell_type": "code",
   "execution_count": 22,
   "metadata": {},
   "outputs": [],
   "source": [
    "np.random.seed(0) # 设置随机数种子"
   ]
  },
  {
   "cell_type": "code",
   "execution_count": 23,
   "metadata": {},
   "outputs": [
    {
     "name": "stdout",
     "output_type": "stream",
     "text": [
      "zeros [0 0 0 0 0 0 0 0 0 0]\n",
      "zeros [[0 0 0 0 0]\n",
      " [0 0 0 0 0]\n",
      " [0 0 0 0 0]]\n"
     ]
    }
   ],
   "source": [
    "# 创建一个长度为10的数组，数组的值都是0 \n",
    "print('zeros', np.zeros(10, dtype=int) )\n",
    " # 创建一个3×5的数组，数组的值都是0 \n",
    "print('zeros', np.zeros((3, 5), dtype=int) )"
   ]
  },
  {
   "cell_type": "code",
   "execution_count": 24,
   "metadata": {},
   "outputs": [
    {
     "name": "stdout",
     "output_type": "stream",
     "text": [
      "ones [[1. 1. 1. 1. 1.]\n",
      " [1. 1. 1. 1. 1.]\n",
      " [1. 1. 1. 1. 1.]]\n"
     ]
    }
   ],
   "source": [
    "# 创建一个3×5的浮点型数组，数组的值都是1 \n",
    "print('ones', np.ones((3, 5), dtype=float))"
   ]
  },
  {
   "cell_type": "code",
   "execution_count": 25,
   "metadata": {},
   "outputs": [
    {
     "name": "stdout",
     "output_type": "stream",
     "text": [
      "full [[3.14 3.14 3.14 3.14 3.14]\n",
      " [3.14 3.14 3.14 3.14 3.14]\n",
      " [3.14 3.14 3.14 3.14 3.14]]\n"
     ]
    }
   ],
   "source": [
    "# 创建一个3×5的浮点型数组，数组的值都是3.14 \n",
    "print('full', np.full((3, 5), 3.14))"
   ]
  },
  {
   "cell_type": "code",
   "execution_count": 26,
   "metadata": {},
   "outputs": [
    {
     "name": "stdout",
     "output_type": "stream",
     "text": [
      "arange [ 0  2  4  6  8 10 12 14 16 18]\n"
     ]
    }
   ],
   "source": [
    "# 创建一个3×5的浮点型数组，数组的值是一个线性序列\n",
    "# 从0开始，到20结束，步长为2 \n",
    "# （它和内置的range()函数类似）\n",
    "print('arange', np.arange(0, 20, 2))"
   ]
  },
  {
   "cell_type": "code",
   "execution_count": 14,
   "metadata": {},
   "outputs": [
    {
     "name": "stdout",
     "output_type": "stream",
     "text": [
      "linspace [0.   0.25 0.5  0.75 1.  ]\n"
     ]
    }
   ],
   "source": [
    "# 创建一个5个元素的数组，这5个数均匀地分配到0~1 \n",
    "print('linspace', np.linspace(0, 1, 5))"
   ]
  },
  {
   "cell_type": "code",
   "execution_count": 21,
   "metadata": {},
   "outputs": [
    {
     "name": "stdout",
     "output_type": "stream",
     "text": [
      "random.random [[0.069167   0.69742877 0.45354268]\n",
      " [0.7220556  0.86638233 0.97552151]\n",
      " [0.85580334 0.01171408 0.35997806]]\n"
     ]
    }
   ],
   "source": [
    "# 创建一个3×3的、在0~1均匀分布的随机数组成的数组\n",
    "print('random.random', np.random.random((3, 3)))"
   ]
  },
  {
   "cell_type": "code",
   "execution_count": 20,
   "metadata": {},
   "outputs": [
    {
     "name": "stdout",
     "output_type": "stream",
     "text": [
      "random.normal [[-0.37992245 -0.0457481   0.04989841]\n",
      " [-0.93553046  0.28738765  0.36042727]\n",
      " [ 0.40814812 -1.94071568  1.44483571]]\n"
     ]
    }
   ],
   "source": [
    "# 创建一个3×3的、均值为0、方差为1的\n",
    "# 正态分布的随机数数组\n",
    "print('random.normal', np.random.normal(0, 1, (3, 3)))"
   ]
  },
  {
   "cell_type": "code",
   "execution_count": 17,
   "metadata": {},
   "outputs": [
    {
     "name": "stdout",
     "output_type": "stream",
     "text": [
      "random.randint [[6 3 6]\n",
      " [5 7 0]\n",
      " [8 4 6]]\n"
     ]
    }
   ],
   "source": [
    "# 创建一个3×3的、[0, 10)区间的随机整型数组\n",
    "print('random.randint', np.random.randint(0, 10, size=(3, 3)) )"
   ]
  },
  {
   "cell_type": "code",
   "execution_count": 18,
   "metadata": {},
   "outputs": [
    {
     "name": "stdout",
     "output_type": "stream",
     "text": [
      "eye [[1. 0. 0.]\n",
      " [0. 1. 0.]\n",
      " [0. 0. 1.]]\n"
     ]
    }
   ],
   "source": [
    "# 创建一个3×3的单位矩阵\n",
    "print('eye', np.eye(3))"
   ]
  },
  {
   "cell_type": "code",
   "execution_count": 19,
   "metadata": {},
   "outputs": [
    {
     "name": "stdout",
     "output_type": "stream",
     "text": [
      "empty [1. 1. 1.]\n"
     ]
    }
   ],
   "source": [
    "# 创建一个由3个整型数组成的未初始化的数组\n",
    "# 数组的值是内存空间中的任意值\n",
    "print('empty', np.empty(3))"
   ]
  },
  {
   "cell_type": "markdown",
   "metadata": {},
   "source": [
    "## 1.2. <a id='toc1_2_'></a>[NumPy数组基础](#toc0_)\n",
    "- 数组的属性\n",
    "  - 确定数组的大小(ndim)、形状(shape)、存储大小(size)、数据类型(dtype)。\n",
    "- 数组的索引\n",
    "  - 获取和设置数组各个元素的值。\n",
    "- 数组的切分\n",
    "  - 在大的数组中获取或设置更小的子数组。\n",
    "- 数组的变形\n",
    "  - 改变给定数组的形状。\n",
    "- 数组的拼接和分裂\n",
    "  - 将多个数组合并为一个，以及将一个数组分裂成多个。"
   ]
  },
  {
   "cell_type": "markdown",
   "metadata": {},
   "source": [
    "### 1.2.1. <a id='toc1_2_1_'></a>[属性ndim-shape-dtype](#toc0_)"
   ]
  },
  {
   "cell_type": "code",
   "execution_count": 40,
   "metadata": {},
   "outputs": [
    {
     "name": "stdout",
     "output_type": "stream",
     "text": [
      "x3 维度-ndim:  3\n",
      "x3 形状-shape: (3, 4, 5)\n",
      "x3 大小（元素总个数）-size:  60\n",
      "数据类型-dtype: int32\n",
      "每个数组元素字节大小-itemsize: 4 bytes\n",
      "数组总字节大小-nbytes: 240 bytes\n"
     ]
    }
   ],
   "source": [
    "import numpy as np \n",
    "np.random.seed(0) # 设置随机数种子\n",
    "x1 = np.random.randint(10, size=6) # 一维数组\n",
    "x2 = np.random.randint(10, size=(3, 4)) # 二维数组\n",
    "x3 = np.random.randint(10, size=(3, 4, 5)) # 三维数组\n",
    "\n",
    "# 数组的属性\n",
    "print(\"x3 维度-ndim: \", x3.ndim) \n",
    "print(\"x3 形状-shape:\", x3.shape) \n",
    "print(\"x3 大小（元素总个数）-size: \", x3.size)\n",
    "print(\"数据类型-dtype:\", x3.dtype)\n",
    "print(\"每个数组元素字节大小-itemsize:\", x3.itemsize, \"bytes\") \n",
    "print(\"数组总字节大小-nbytes:\", x3.nbytes, \"bytes\") "
   ]
  },
  {
   "cell_type": "markdown",
   "metadata": {},
   "source": [
    "### 1.2.2. <a id='toc1_2_2_'></a>[索引-[start:stop:step]](#toc0_)"
   ]
  },
  {
   "cell_type": "code",
   "execution_count": 36,
   "metadata": {},
   "outputs": [
    {
     "name": "stdout",
     "output_type": "stream",
     "text": [
      "----------------------------------------------------------------------------------------------------\n"
     ]
    }
   ],
   "source": [
    "print('-'*100)\n",
    "# 数组的索引\n"
   ]
  },
  {
   "cell_type": "code",
   "execution_count": 48,
   "metadata": {},
   "outputs": [
    {
     "name": "stdout",
     "output_type": "stream",
     "text": [
      "----------------------------------------------------------------------------------------------------\n"
     ]
    },
    {
     "data": {
      "text/plain": [
       "(array([0, 1, 2, 3, 4, 5, 6, 7, 8, 9]), array([0, 1, 2]))"
      ]
     },
     "execution_count": 48,
     "metadata": {},
     "output_type": "execute_result"
    }
   ],
   "source": [
    "print('-'*100)\n",
    "# 数组的切分\n",
    "# x[start:stop:step\n",
    "np.arange(10), np.arange(10)[0:3]"
   ]
  },
  {
   "cell_type": "markdown",
   "metadata": {},
   "source": [
    "### 1.2.3. <a id='toc1_2_3_'></a>[变形-np.reshape()](#toc0_)"
   ]
  },
  {
   "cell_type": "code",
   "execution_count": 47,
   "metadata": {},
   "outputs": [
    {
     "name": "stdout",
     "output_type": "stream",
     "text": [
      "----------------------------------------------------------------------------------------------------\n"
     ]
    },
    {
     "data": {
      "text/plain": [
       "(array([0, 1, 2, 3, 4, 5, 6, 7, 8, 9]),\n",
       " array([[0, 1, 2, 3, 4],\n",
       "        [5, 6, 7, 8, 9]]))"
      ]
     },
     "execution_count": 47,
     "metadata": {},
     "output_type": "execute_result"
    }
   ],
   "source": [
    "print('-'*100)\n",
    "# 数组的变形\n",
    "np.arange(10), np.arange(10).reshape((2, 5))"
   ]
  },
  {
   "cell_type": "markdown",
   "metadata": {},
   "source": [
    "### 1.2.4. <a id='toc1_2_4_'></a>[拼接-np.concatenate([...])](#toc0_)"
   ]
  },
  {
   "cell_type": "code",
   "execution_count": 12,
   "metadata": {},
   "outputs": [
    {
     "name": "stdout",
     "output_type": "stream",
     "text": [
      "----------------------------------------------------------------------------------------------------\n"
     ]
    },
    {
     "data": {
      "text/plain": [
       "(array([0, 1, 2, 3, 4]),\n",
       " array([0, 1, 2]),\n",
       " array([0, 1, 2, 3, 4, 5]),\n",
       " array([0, 1, 2, 3, 4, 0, 1, 2, 0, 1, 2, 3, 4, 5]))"
      ]
     },
     "execution_count": 12,
     "metadata": {},
     "output_type": "execute_result"
    }
   ],
   "source": [
    "print('-'*100)\n",
    "# 数组的拼接和分裂\n",
    "x = np.arange(5)\n",
    "y = np.arange(3)\n",
    "z = np.arange(6)\n",
    "x, y, z, np.concatenate( [x, y, z] )"
   ]
  },
  {
   "cell_type": "code",
   "execution_count": 19,
   "metadata": {},
   "outputs": [
    {
     "data": {
      "text/plain": [
       "(array([[0, 1, 2],\n",
       "        [3, 4, 5],\n",
       "        [6, 7, 8]]),\n",
       " array([[0, 1],\n",
       "        [2, 3],\n",
       "        [4, 5]]),\n",
       " array([[ 0,  1,  2],\n",
       "        [ 3,  4,  5],\n",
       "        [ 6,  7,  8],\n",
       "        [ 9, 10, 11]]))"
      ]
     },
     "execution_count": 19,
     "metadata": {},
     "output_type": "execute_result"
    }
   ],
   "source": [
    "x = np.arange(9).reshape((3,3))\n",
    "y = np.arange(6).reshape((3,2))\n",
    "z = np.arange(12).reshape((4,3))\n",
    "x, y, z"
   ]
  },
  {
   "cell_type": "code",
   "execution_count": 22,
   "metadata": {},
   "outputs": [
    {
     "data": {
      "text/plain": [
       "array([[0, 1, 2, 0, 1],\n",
       "       [3, 4, 5, 2, 3],\n",
       "       [6, 7, 8, 4, 5]])"
      ]
     },
     "execution_count": 22,
     "metadata": {},
     "output_type": "execute_result"
    }
   ],
   "source": [
    "np.concatenate([x,y], axis=1)\n",
    "# np.concatenate([x,y]) # 默认是axis=0，会报错"
   ]
  },
  {
   "cell_type": "code",
   "execution_count": 26,
   "metadata": {},
   "outputs": [
    {
     "data": {
      "text/plain": [
       "array([[ 0,  1,  2],\n",
       "       [ 3,  4,  5],\n",
       "       [ 6,  7,  8],\n",
       "       [ 0,  1,  2],\n",
       "       [ 3,  4,  5],\n",
       "       [ 6,  7,  8],\n",
       "       [ 9, 10, 11]])"
      ]
     },
     "execution_count": 26,
     "metadata": {},
     "output_type": "execute_result"
    }
   ],
   "source": [
    "np.concatenate([x,z])\n",
    "# np.concatenate([x,z], axis=1) # 维度不对应，会报错"
   ]
  },
  {
   "cell_type": "markdown",
   "metadata": {},
   "source": [
    "## 1.3. <a id='toc1_3_'></a>[数组的计算：通用函数](#toc0_)"
   ]
  },
  {
   "cell_type": "markdown",
   "metadata": {},
   "source": [
    "#### 1.3.1.1. <a id='toc1_3_1_1_'></a>[算数运算](#toc0_)\n",
    "\n",
    "|操作|函数名|\n",
    "|:-|:-|\n",
    "|+|np.add()|\n",
    "|-|np.substract()|\n",
    "|*|np.multiply()|\n",
    "|/|np.divide()|\n",
    "|%|取余 (9 % 4 = 1) |\n",
    "|-|np.negative()|\n",
    "|绝对值|np.absolute()|\n",
    "|乘方|np.power()|\n",
    "||np.exp()|\n",
    "||np.exp2()|\n",
    "||np.log()|\n",
    "||np.log2()|\n",
    "||np.log10()|\n",
    "|三角函数|np.sin()|\n",
    "||np.cos()|\n",
    "||np.tan()|"
   ]
  },
  {
   "cell_type": "code",
   "execution_count": 41,
   "metadata": {},
   "outputs": [
    {
     "name": "stdout",
     "output_type": "stream",
     "text": [
      "[0 1 2 3]\n",
      "----------------------------------------------------------------------------------------------------\n",
      "x = [0 1 2 3]\n",
      "x + 5 = [5 6 7 8] [5 6 7 8]\n",
      "x - 5 = [-5 -4 -3 -2] [-5 -4 -3 -2]\n",
      "x * 2 = [0 2 4 6] [0 2 4 6]\n",
      "x / 2 = [0.  0.5 1.  1.5] [0.  0.5 1.  1.5]\n",
      "x // 2 = [0 0 1 1] [0 0 1 1]\n"
     ]
    }
   ],
   "source": [
    "# NumPy 通用函数的使用方式非常自然，因为它用到了 Python 原生的算术运算符，标准的加、减、乘、除都可以使用：\n",
    "x = np.arange(4); print(x); print('-'*100)\n",
    "print(\"x =\", x) \n",
    "print(\"x + 5 =\", x + 5, np.add(x, 5)) \n",
    "print(\"x - 5 =\", x - 5, np.subtract(x, 5)) \n",
    "print(\"x * 2 =\", x * 2, np.multiply(x, 2)) \n",
    "print(\"x / 2 =\", x / 2, np.divide(x, 2)) \n",
    "print(\"x // 2 =\", x // 2, np.floor_divide(x, 2)) #地板除法运算"
   ]
  },
  {
   "cell_type": "code",
   "execution_count": 29,
   "metadata": {},
   "outputs": [
    {
     "name": "stdout",
     "output_type": "stream",
     "text": [
      "-x =  [[ 0 -1 -2]\n",
      " [-3 -4 -5]\n",
      " [-6 -7 -8]] [[ 0 -1 -2]\n",
      " [-3 -4 -5]\n",
      " [-6 -7 -8]]\n",
      "x ** 2 =  [[ 0  1  4]\n",
      " [ 9 16 25]\n",
      " [36 49 64]] [[ 0  1  4]\n",
      " [ 9 16 25]\n",
      " [36 49 64]]\n",
      "x % 2 =  [[0 1 0]\n",
      " [1 0 1]\n",
      " [0 1 0]] [[0 1 0]\n",
      " [1 0 1]\n",
      " [0 1 0]]\n"
     ]
    }
   ],
   "source": [
    "# 还有逻辑非、** 表示的指数运算符和 % 表示的模运算符的一元通用函数：\n",
    "print(\"-x = \", -x, np.negative(x)) \n",
    "print(\"x ** 2 = \", x ** 2, np.power(x, 2)) \n",
    "print(\"x % 2 = \", x % 2, np.mod(x, 2))"
   ]
  },
  {
   "cell_type": "code",
   "execution_count": 30,
   "metadata": {},
   "outputs": [
    {
     "name": "stdout",
     "output_type": "stream",
     "text": [
      "[[ -1.    -2.25  -4.  ]\n",
      " [ -6.25  -9.   -12.25]\n",
      " [-16.   -20.25 -25.  ]] [[ -1.    -2.25  -4.  ]\n",
      " [ -6.25  -9.   -12.25]\n",
      " [-16.   -20.25 -25.  ]]\n"
     ]
    }
   ],
   "source": [
    "# 你可以任意将这些算术运算符组合使用。当然，你得考虑这些运算符的优先级：\n",
    "print(-(0.5*x + 1) ** 2, np.negative(np.power(np.add(np.multiply(x,0.5),1),2)))"
   ]
  },
  {
   "cell_type": "code",
   "execution_count": 44,
   "metadata": {},
   "outputs": [
    {
     "name": "stdout",
     "output_type": "stream",
     "text": [
      "[0 1 2 3]\n",
      "theta =  [0.         1.57079633 3.14159265]\n",
      "----------------------------------------------------------------------------------------------------\n",
      "sin(theta) =  [0.0000000e+00 1.0000000e+00 1.2246468e-16]\n",
      "cos(theta) =  [ 1.000000e+00  6.123234e-17 -1.000000e+00]\n",
      "tan(theta) =  [ 0.00000000e+00  1.63312394e+16 -1.22464680e-16]\n",
      "----------------------------------------------------------------------------------------------------\n",
      "x = [1, 2, 3]\n",
      "e^x = [ 2.71828183  7.3890561  20.08553692]\n",
      "2^x = [2. 4. 8.]\n",
      "3^x = [ 3  9 27]\n",
      "x = [1, 2, 3]\n",
      "ln(x) = [0.         0.69314718 1.09861229]\n",
      "log2(x) = [0.        1.        1.5849625]\n",
      "log10(x) = [0.         0.30103    0.47712125]\n",
      "[ 0. 10. 20. 30. 40.]\n"
     ]
    },
    {
     "data": {
      "text/plain": [
       "4"
      ]
     },
     "execution_count": 44,
     "metadata": {},
     "output_type": "execute_result"
    }
   ],
   "source": [
    "# 绝对值\n",
    "print(np.absolute(x))\n",
    "\n",
    "# 三角函数\n",
    "theta = np.linspace(0, np.pi, 3)\n",
    "print(\"theta = \", theta); print('-'*100)\n",
    "print(\"sin(theta) = \", np.sin(theta)) \n",
    "print(\"cos(theta) = \", np.cos(theta)) \n",
    "print(\"tan(theta) = \", np.tan(theta))\n",
    "\n",
    "# 指数和对数\n",
    "x = [1, 2, 3]; print('-'*100)\n",
    "print(\"x =\", x) \n",
    "print(\"e^x =\", np.exp(x)) \n",
    "print(\"2^x =\", np.exp2(x)) \n",
    "print(\"3^x =\", np.power(3, x))\n",
    "print(\"x =\", x) \n",
    "print(\"ln(x) =\", np.log(x)) \n",
    "print(\"log2(x) =\", np.log2(x)) \n",
    "print(\"log10(x) =\", np.log10(x)) \n",
    "\n",
    "# 专用的通用函数\n",
    "# 除了以上介绍到的，NumPy 还提供了很多通用函数，包括双曲三角函数、比特位运算、比\n",
    "# 较运算符、弧度转化为角度的运算、取整和求余运算，等等。浏览 NumPy 的文档将会揭\n",
    "# 示很多有趣的功能。\n",
    "\n",
    "# 高级通用函数\n",
    "## 指定输出\n",
    "x = np.arange(5) \n",
    "y = np.empty(5) \n",
    "np.multiply(x, 10, out=y) \n",
    "print(y)\n",
    "## 聚合\n",
    "## 外积\n"
   ]
  },
  {
   "cell_type": "markdown",
   "metadata": {},
   "source": [
    "#### 1.3.1.2. <a id='toc1_3_1_2_'></a>[统计函数](#toc0_)\n",
    "|函数名|注释|\n",
    "|:-|:-|\n",
    "|np.sum()|计算元素和|\n",
    "|np.prod()|计算元素积|\n",
    "|np.mean()|计算元素的平均值|\n",
    "|np.std()|计算元素的标准差|\n",
    "|np.var()|计算元素的方差|\n",
    "|np.median()|计算元素的中位数|\n",
    "|np.max()|找出最大值|\n",
    "|np.argmax()|找出最大值的索引|\n",
    "|np.min()|找出最小值|\n",
    "|np.argmin()|找出最小值的索引|\n",
    "|np.percentile()|计算基于元素排列的统计值|\n",
    "|np.any()|验证任何一个元素是否为真|\n",
    "|np.all()|验证所有元素是否为真|"
   ]
  },
  {
   "cell_type": "code",
   "execution_count": 28,
   "metadata": {},
   "outputs": [
    {
     "data": {
      "text/plain": [
       "(0, 8)"
      ]
     },
     "execution_count": 28,
     "metadata": {},
     "output_type": "execute_result"
    }
   ],
   "source": [
    "np.sum(x) # 求和\n",
    "np.min(x), np.max(x) # 最小值和最大值"
   ]
  },
  {
   "cell_type": "markdown",
   "metadata": {},
   "source": [
    "## 1.4. <a id='toc1_4_'></a>[数组的比较](#toc0_)\n",
    "\n",
    "|运算符|对应通用函数|\n",
    "|:-|:-|\n",
    "|==|np.equal|\n",
    "|!=|np.not_equal|\n",
    "|<|np.less|\n",
    "|<=|np.less_equal|\n",
    "|>|np.greater|\n",
    "|>=|np.greater_equal|"
   ]
  },
  {
   "cell_type": "code",
   "execution_count": null,
   "metadata": {},
   "outputs": [],
   "source": [
    "# 广播\n",
    "\n",
    "# 比较、掩码和布尔逻辑\n",
    "\n"
   ]
  }
 ],
 "metadata": {
  "kernelspec": {
   "display_name": "DeepLearning",
   "language": "python",
   "name": "python3"
  },
  "language_info": {
   "codemirror_mode": {
    "name": "ipython",
    "version": 3
   },
   "file_extension": ".py",
   "mimetype": "text/x-python",
   "name": "python",
   "nbconvert_exporter": "python",
   "pygments_lexer": "ipython3",
   "version": "3.10.8"
  },
  "orig_nbformat": 4
 },
 "nbformat": 4,
 "nbformat_minor": 2
}
