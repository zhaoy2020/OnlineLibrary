{
 "cells": [
  {
   "cell_type": "markdown",
   "id": "983587db",
   "metadata": {},
   "source": [
    "**Table of contents**<a id='toc0_'></a>    \n",
    "- 1. [前言](#toc1_)    \n",
    "- 2. [JS基础语法](#toc2_)    \n",
    "  - 2.1. [数据类型](#toc2_1_)    \n",
    "  - 2.2. [流程控制](#toc2_2_)    \n",
    "  - 2.3. [函数](#toc2_3_)    \n",
    "- 3. [DOM操作](#toc3_)    \n",
    "- 4. [事件相应](#toc4_)    \n",
    "- 5. [控制逻辑](#toc5_)    \n",
    "- 6. [异步fetch](#toc6_)    \n",
    "- 7. [调试技巧](#toc7_)    \n",
    "\n",
    "<!-- vscode-jupyter-toc-config\n",
    "\tnumbering=true\n",
    "\tanchor=true\n",
    "\tflat=false\n",
    "\tminLevel=1\n",
    "\tmaxLevel=6\n",
    "\t/vscode-jupyter-toc-config -->\n",
    "<!-- THIS CELL WILL BE REPLACED ON TOC UPDATE. DO NOT WRITE YOUR TEXT IN THIS CELL -->"
   ]
  },
  {
   "cell_type": "markdown",
   "id": "b59c163b",
   "metadata": {},
   "source": [
    "# 1. <a id='toc1_'></a>[前言](#toc0_)"
   ]
  },
  {
   "cell_type": "markdown",
   "id": "772b4418",
   "metadata": {},
   "source": []
  },
  {
   "cell_type": "markdown",
   "id": "133162bb",
   "metadata": {},
   "source": [
    "什么是JavaScript语言？JavaScript是一种轻量级的解释型编程语言，最初是为浏览器设计的脚本语言。它是Web开发的核心技术之一，与HTML和CSS一起构成了Web的三大基石。JS可以插入HTML中，然后有浏览器进行解释和执行，无需额外安装解释器。"
   ]
  },
  {
   "cell_type": "markdown",
   "id": "1fb7c55e",
   "metadata": {},
   "source": [
    "# 2. <a id='toc2_'></a>[JS基础语法](#toc0_)"
   ]
  },
  {
   "cell_type": "code",
   "execution_count": 18,
   "id": "ae3a0251",
   "metadata": {},
   "outputs": [
    {
     "data": {
      "text/html": [
       "\n",
       "<body>\n",
       "<h1>Welcome to My Jupyter Notebook</h1>\n",
       "<script>\n",
       "document.write(\"<h1>Welcome to My Jupyter Notebook</h1>\");\n",
       "document.write(\"<p>This is a simple HTML page embedded in a Jupyter Notebook.</p>\");\n",
       "</script>\n",
       "<button onclick=\"alert('Hello! This is a button click event.');\">Click Me!</button>\n",
       "</body>\n"
      ],
      "text/plain": [
       "<IPython.core.display.HTML object>"
      ]
     },
     "metadata": {},
     "output_type": "display_data"
    }
   ],
   "source": [
    "%%html \n",
    "\n",
    "<body>\n",
    "<h1>Welcome to My Jupyter Notebook</h1>\n",
    "<script>\n",
    "document.write(\"<h1>Welcome to My Jupyter Notebook</h1>\");\n",
    "document.write(\"<p>This is a simple HTML page embedded in a Jupyter Notebook.</p>\");\n",
    "</script>\n",
    "<button onclick=\"alert('Hello! This is a button click event.');\">Click Me!</button>\n",
    "</body>"
   ]
  },
  {
   "cell_type": "markdown",
   "id": "366ff607",
   "metadata": {},
   "source": [
    "## 2.1. <a id='toc2_1_'></a>[数据类型](#toc0_)"
   ]
  },
  {
   "cell_type": "markdown",
   "id": "088bb8f1",
   "metadata": {},
   "source": [
    "## 2.2. <a id='toc2_2_'></a>[流程控制](#toc0_)"
   ]
  },
  {
   "cell_type": "markdown",
   "id": "a6b1967c",
   "metadata": {},
   "source": [
    "判断、循环"
   ]
  },
  {
   "cell_type": "markdown",
   "id": "19d7e45d",
   "metadata": {},
   "source": [
    "## 2.3. <a id='toc2_3_'></a>[函数](#toc0_)"
   ]
  },
  {
   "cell_type": "code",
   "execution_count": 19,
   "id": "4fe04032",
   "metadata": {},
   "outputs": [
    {
     "data": {
      "application/javascript": "\nfunction demo() {\n    console.log(\"Hello, world!\");\n}\n",
      "text/plain": [
       "<IPython.core.display.Javascript object>"
      ]
     },
     "metadata": {},
     "output_type": "display_data"
    }
   ],
   "source": [
    "%%javascript\n",
    "\n",
    "function demo() {\n",
    "    console.log(\"Hello, world!\");\n",
    "}"
   ]
  },
  {
   "cell_type": "markdown",
   "id": "0bfee640",
   "metadata": {},
   "source": [
    "# 3. <a id='toc3_'></a>[DOM操作](#toc0_)"
   ]
  },
  {
   "cell_type": "markdown",
   "id": "a685f493",
   "metadata": {},
   "source": [
    "# 4. <a id='toc4_'></a>[事件相应](#toc0_)"
   ]
  },
  {
   "cell_type": "markdown",
   "id": "5c3d1bc0",
   "metadata": {},
   "source": [
    "# 5. <a id='toc5_'></a>[控制逻辑](#toc0_)"
   ]
  },
  {
   "cell_type": "markdown",
   "id": "58a2c35e",
   "metadata": {},
   "source": [
    "# 6. <a id='toc6_'></a>[异步fetch](#toc0_)"
   ]
  },
  {
   "cell_type": "markdown",
   "id": "07dff4f4",
   "metadata": {},
   "source": [
    "# 7. <a id='toc7_'></a>[调试技巧](#toc0_)"
   ]
  }
 ],
 "metadata": {
  "kernelspec": {
   "display_name": "deeplearning",
   "language": "python",
   "name": "python3"
  },
  "language_info": {
   "codemirror_mode": {
    "name": "ipython",
    "version": 3
   },
   "file_extension": ".py",
   "mimetype": "text/x-python",
   "name": "python",
   "nbconvert_exporter": "python",
   "pygments_lexer": "ipython3",
   "version": "3.11.11"
  }
 },
 "nbformat": 4,
 "nbformat_minor": 5
}
