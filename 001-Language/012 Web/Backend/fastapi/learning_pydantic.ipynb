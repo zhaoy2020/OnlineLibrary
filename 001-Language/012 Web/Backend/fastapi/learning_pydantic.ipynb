{
 "cells": [
  {
   "cell_type": "markdown",
   "id": "c2d1d8fb",
   "metadata": {},
   "source": [
    "**Table of contents**<a id='toc0_'></a>    \n",
    "- 1. [前言](#toc1_)    \n",
    "\n",
    "<!-- vscode-jupyter-toc-config\n",
    "\tnumbering=true\n",
    "\tanchor=true\n",
    "\tflat=false\n",
    "\tminLevel=1\n",
    "\tmaxLevel=6\n",
    "\t/vscode-jupyter-toc-config -->\n",
    "<!-- THIS CELL WILL BE REPLACED ON TOC UPDATE. DO NOT WRITE YOUR TEXT IN THIS CELL -->"
   ]
  },
  {
   "cell_type": "markdown",
   "id": "206d1bdb",
   "metadata": {},
   "source": [
    "# 1. <a id='toc1_'></a>[前言](#toc0_)"
   ]
  },
  {
   "cell_type": "markdown",
   "id": "6df314fd",
   "metadata": {},
   "source": [
    "pydantic 库是 python 中用于数据接口定义检查与设置管理的库。\n",
    "\n",
    "pydantic 在运行时强制执行类型提示，并在数据无效时提供友好的错误。"
   ]
  },
  {
   "cell_type": "code",
   "execution_count": null,
   "id": "3a128d15",
   "metadata": {},
   "outputs": [
    {
     "name": "stdout",
     "output_type": "stream",
     "text": [
      "name='John Doe' age=30\n",
      "name='John Doe' age=1\n"
     ]
    }
   ],
   "source": [
    "from pydantic import BaseModel \n",
    "\n",
    "\n",
    "class User(BaseModel):\n",
    "    name: str \n",
    "    age: int\n",
    "\n",
    "# 赋值\n",
    "user1 = User(name=\"John Doe\", age=30)\n",
    "\n",
    "# 类型不符，自动转换\n",
    "user2 = User(name=\"John Doe\", age=True)\n",
    "\n",
    "print(user1, user2, sep=\"\\n\")"
   ]
  }
 ],
 "metadata": {
  "kernelspec": {
   "display_name": "deeplearning",
   "language": "python",
   "name": "python3"
  },
  "language_info": {
   "codemirror_mode": {
    "name": "ipython",
    "version": 3
   },
   "file_extension": ".py",
   "mimetype": "text/x-python",
   "name": "python",
   "nbconvert_exporter": "python",
   "pygments_lexer": "ipython3",
   "version": "3.11.11"
  }
 },
 "nbformat": 4,
 "nbformat_minor": 5
}
