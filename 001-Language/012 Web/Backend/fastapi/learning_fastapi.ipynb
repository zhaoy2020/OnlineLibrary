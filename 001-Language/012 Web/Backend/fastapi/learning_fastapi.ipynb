{
 "cells": [
  {
   "cell_type": "markdown",
   "id": "ebfe8187",
   "metadata": {},
   "source": [
    "**Table of contents**<a id='toc0_'></a>    \n",
    "- 1. [前言](#toc1_)    \n",
    "- 2. [什么是FastAPI？](#toc2_)    \n",
    "  - 2.1. [Pydantic 是什么？](#toc2_1_)    \n",
    "  - 2.2. [Starlette 能干什么？](#toc2_2_)    \n",
    "- 3. [在jupyter中运行fastapi](#toc3_)    \n",
    "  - 3.1. [ 方法一：使用 nest_asyncio + uvicorn.run()（推荐）](#toc3_1_)    \n",
    "  - 3.2. [方法二：在单独的线程中运行 FastAPI（适合多个服务并存）](#toc3_2_)    \n",
    "\n",
    "<!-- vscode-jupyter-toc-config\n",
    "\tnumbering=true\n",
    "\tanchor=true\n",
    "\tflat=false\n",
    "\tminLevel=1\n",
    "\tmaxLevel=6\n",
    "\t/vscode-jupyter-toc-config -->\n",
    "<!-- THIS CELL WILL BE REPLACED ON TOC UPDATE. DO NOT WRITE YOUR TEXT IN THIS CELL -->"
   ]
  },
  {
   "cell_type": "markdown",
   "id": "1c7e4ca4",
   "metadata": {},
   "source": [
    "# 1. <a id='toc1_'></a>[前言](#toc0_)"
   ]
  },
  {
   "cell_type": "markdown",
   "id": "e82ee6ba",
   "metadata": {},
   "source": [
    "# 2. <a id='toc2_'></a>[什么是FastAPI？](#toc0_)"
   ]
  },
  {
   "cell_type": "markdown",
   "id": "03306212",
   "metadata": {},
   "source": [
    "```python\n",
    "🌟 一句话解释：\n",
    "\n",
    "FastAPI = Pydantic (数据验证) + Starlette (异步 Web 框架)\n",
    "```"
   ]
  },
  {
   "cell_type": "markdown",
   "id": "7ab71d26",
   "metadata": {},
   "source": [
    "## 2.1. <a id='toc2_1_'></a>[Pydantic 是什么？](#toc0_)"
   ]
  },
  {
   "cell_type": "markdown",
   "id": "a79336ef",
   "metadata": {},
   "source": [
    "- 📦 Pydantic 是 Python 中的一个强大库，用来做 数据验证 和 数据解析，它的核心理念是：✅ “让你的数据结构更安全、更可控，像写类一样自动校验数据类型和格式。”\n",
    "\n",
    "- 🌟 Pydantic 能干嘛？\n",
    "  1. 自动数据校验\n",
    "你只需要用 Python 的类型注解写好模型，它会自动验证传进来的数据是否符合要求。\n",
    "\n",
    "  2. 自动数据转换\n",
    "比如你传入 \"123\"，它会自动变成整数 123；或把时间字符串变成 datetime 对象。\n",
    "\n",
    "  3. 结构化数据管理\n",
    "非常适合用来定义接口参数、配置文件、数据库模型、用户输入等数据结构。\n",
    "\n",
    "-  🔥 Pydantic 的亮点\n",
    "\n",
    "    |特性 | 说明|\n",
    "    |---|---|\n",
    "    |类型强校验 | 支持 str、int、float、bool、List、Dict、datetime 等等|\n",
    "    |自动转换 | \"1\" → 1, \"true\" → True, \"2023-01-01\" → datetime|\n",
    "    |嵌套模型 | 可以定义更复杂的嵌套数据结构|\n",
    "    |易用性高 | 写起来就像写 Python 类，逻辑清晰|\n",
    "    |高性能 | 用 Rust 写的底层（V2版），速度非常快|"
   ]
  },
  {
   "cell_type": "code",
   "execution_count": null,
   "id": "84618e3d",
   "metadata": {},
   "outputs": [
    {
     "name": "stdout",
     "output_type": "stream",
     "text": [
      "name='Alice' age=25\n"
     ]
    }
   ],
   "source": [
    "from pydantic import BaseModel\n",
    "\n",
    "\n",
    "class User(BaseModel):\n",
    "    name: str\n",
    "    age: int\n",
    "\n",
    "user = User(name=\"Alice\", age=\"25\")  # 自动把 \"25\" 转成 int\n",
    "\n",
    "print(user)  # User(name='Alice', age=25)"
   ]
  },
  {
   "cell_type": "code",
   "execution_count": null,
   "id": "5ecce5b5",
   "metadata": {},
   "outputs": [],
   "source": [
    "# 如果你写错了：\n",
    "User(name=\"Bob\", age=\"abc\")  # 会抛出 ValidationError 错误\n"
   ]
  },
  {
   "cell_type": "markdown",
   "id": "7b9da1f4",
   "metadata": {},
   "source": [
    "## 2.2. <a id='toc2_2_'></a>[Starlette 能干什么？](#toc0_)"
   ]
  },
  {
   "cell_type": "markdown",
   "id": "a2648fe2",
   "metadata": {},
   "source": [
    "✅ 它本质上是一个ASGI 框架（异步 Web 框架），提供：\n",
    "\n",
    "|功能模块 | 说明|\n",
    "|---|---|\n",
    "|📦 路由管理 | 支持 @route, @get, @post 等装饰器|\n",
    "|⚡ 异步处理 | 支持 async def，无需额外配置|\n",
    "|🧾 请求 & 响应对象 | 提供 Request / Response 类|\n",
    "|🌐 中间件 | 支持添加权限验证、日志、跨域处理等|\n",
    "|🗂️ 静态文件支持 | 可挂载 static/ 目录|\n",
    "|🧪 测试工具 | 内建测试客户端，兼容 pytest|\n",
    "|🌈 WebSocket | 原生支持异步双向通信（聊天室、推送等）|"
   ]
  },
  {
   "cell_type": "markdown",
   "id": "9b493b89",
   "metadata": {},
   "source": [
    "🧠 它和 FastAPI 是什么关系？\n",
    "FastAPI 实际上是基于 Starlette 做的二次封装：\n",
    "\n",
    "|部分 | 来自哪里？|\n",
    "|---|---|\n",
    "|异步路由系统 | ✅ Starlette|\n",
    "|Request, Response | ✅ Starlette|\n",
    "|BackgroundTask / Middleware | ✅ Starlette|\n",
    "|数据模型、参数验证 | ❌ FastAPI 自己集成 Pydantic|\n",
    "|自动文档 / 类型提示 | ❌ FastAPI 专属亮点！|\n",
    "\n",
    "🧠 所以说：FastAPI 是 Starlette 的「超进化版本」，专注于 API 结构化 + 类型安全。"
   ]
  },
  {
   "cell_type": "markdown",
   "id": "daaa3b11",
   "metadata": {},
   "source": [
    "📊 FastAPI vs Starlette 对比\n",
    "\n",
    "功能 | Starlette | FastAPI|\n",
    "|---|---|---|\n",
    "|路由支持 | ✅ 有 | ✅ 有|\n",
    "|异步支持 | ✅ 原生 | ✅ 基于 Starlette|\n",
    "|数据验证 | ❌ 无 | ✅ 使用 Pydantic|\n",
    "|自动文档 | ❌ 无 | ✅ OpenAPI & Swagger|\n",
    "|使用场景 | 框架骨架、小应用 | 结构化 API、大型应用|"
   ]
  },
  {
   "cell_type": "markdown",
   "id": "52e44659",
   "metadata": {},
   "source": [
    "✅ 总结一句话：\n",
    "\n",
    "Starlette 是 FastAPI 的异步 Web 框架底座，提供了高性能的路由、中间件、WebSocket、静态资源等功能，是 FastAPI 快速、强大、异步的基石。"
   ]
  },
  {
   "cell_type": "markdown",
   "id": "f3bb24d8",
   "metadata": {},
   "source": [
    "# 3. <a id='toc3_'></a>[在jupyter中运行fastapi](#toc0_)"
   ]
  },
  {
   "cell_type": "markdown",
   "id": "32dabacf",
   "metadata": {},
   "source": [
    "好问题！在 Jupyter Notebook 中启动 FastAPI 有点特别，因为 Jupyter 已经在运行一个事件循环了，而且它不是命令行终端，不能直接运行 uvicorn 命令。"
   ]
  },
  {
   "cell_type": "markdown",
   "id": "dc12900e",
   "metadata": {},
   "source": [
    "## 3.1. <a id='toc3_1_'></a>[ 方法一：使用 nest_asyncio + uvicorn.run()（推荐）](#toc0_)"
   ]
  },
  {
   "cell_type": "code",
   "execution_count": 1,
   "id": "38420f41",
   "metadata": {},
   "outputs": [
    {
     "name": "stderr",
     "output_type": "stream",
     "text": [
      "INFO:     Started server process [1628]\n",
      "INFO:     Waiting for application startup.\n",
      "INFO:     Application startup complete.\n",
      "INFO:     Uvicorn running on http://127.0.0.1:8000 (Press CTRL+C to quit)\n"
     ]
    },
    {
     "name": "stdout",
     "output_type": "stream",
     "text": [
      "INFO:     127.0.0.1:17972 - \"GET / HTTP/1.1\" 200 OK\n",
      "INFO:     127.0.0.1:17971 - \"GET /docs HTTP/1.1\" 200 OK\n",
      "INFO:     127.0.0.1:17971 - \"GET /openapi.json HTTP/1.1\" 200 OK\n",
      "INFO:     127.0.0.1:17991 - \"GET /redoc HTTP/1.1\" 200 OK\n",
      "INFO:     127.0.0.1:17991 - \"GET /openapi.json HTTP/1.1\" 200 OK\n"
     ]
    },
    {
     "name": "stderr",
     "output_type": "stream",
     "text": [
      "INFO:     Shutting down\n",
      "INFO:     Waiting for application shutdown.\n",
      "INFO:     Application shutdown complete.\n",
      "INFO:     Finished server process [1628]\n"
     ]
    }
   ],
   "source": [
    "from fastapi import FastAPI \n",
    "import uvicorn\n",
    "import nest_asyncio\n",
    "\n",
    "\n",
    "app = FastAPI()\n",
    "\n",
    "\n",
    "@app.get(\"/\")\n",
    "def read_root():\n",
    "    return {\"message\": \"Hello World\"}\n",
    "\n",
    "\n",
    "# 允许在已有事件循环中运行 uvicorn\n",
    "nest_asyncio.apply()\n",
    "\n",
    "# 启动服务器（不会卡住 Jupyter）\n",
    "uvicorn.run(app, host=\"127.0.0.1\", port=8000)"
   ]
  },
  {
   "cell_type": "code",
   "execution_count": null,
   "id": "74744c7b",
   "metadata": {},
   "outputs": [],
   "source": [
    "def jupyter_run(app):\n",
    "    '''封装函数，方便在 Jupyter Notebook 中运行 FastAPI'''\n",
    "    import uvicorn\n",
    "    import nest_asyncio\n",
    "    # 允许在已有事件循环中运行 uvicorn\n",
    "    nest_asyncio.apply()\n",
    "    # 启动服务器（不会卡住 Jupyter）\n",
    "    uvicorn.run(app, host=\"127.0.0.1\", port=8000)"
   ]
  },
  {
   "cell_type": "markdown",
   "id": "568594f7",
   "metadata": {},
   "source": [
    "## 3.2. <a id='toc3_2_'></a>[方法二：在单独的线程中运行 FastAPI（适合多个服务并存）](#toc0_)"
   ]
  },
  {
   "cell_type": "code",
   "execution_count": null,
   "id": "b7d659d0",
   "metadata": {},
   "outputs": [
    {
     "name": "stderr",
     "output_type": "stream",
     "text": [
      "INFO:     Started server process [11788]\n",
      "INFO:     Waiting for application startup.\n",
      "INFO:     Application startup complete.\n",
      "INFO:     Uvicorn running on http://127.0.0.1:8000 (Press CTRL+C to quit)\n"
     ]
    },
    {
     "name": "stdout",
     "output_type": "stream",
     "text": [
      "INFO:     127.0.0.1:8683 - \"GET / HTTP/1.1\" 200 OK\n",
      "INFO:     127.0.0.1:17686 - \"GET /docs HTTP/1.1\" 200 OK\n",
      "INFO:     127.0.0.1:17686 - \"GET /openapi.json HTTP/1.1\" 200 OK\n"
     ]
    }
   ],
   "source": [
    "from fastapi import FastAPI\n",
    "import threading\n",
    "import uvicorn\n",
    "\n",
    "\n",
    "app = FastAPI()\n",
    "\n",
    "@app.get(\"/\")\n",
    "def home():\n",
    "    return {\"msg\": \"Hello from thread!\"}\n",
    "\n",
    "def run():\n",
    "    uvicorn.run(app, host=\"127.0.0.1\", port=8000)\n",
    "\n",
    "# 启动 FastAPI 服务线程\n",
    "threading.Thread(target=run).start()\n"
   ]
  },
  {
   "cell_type": "markdown",
   "id": "1b6bfb2f",
   "metadata": {},
   "source": [
    "# 第一个应用"
   ]
  },
  {
   "cell_type": "code",
   "execution_count": 3,
   "id": "24b23bf3",
   "metadata": {},
   "outputs": [
    {
     "name": "stderr",
     "output_type": "stream",
     "text": [
      "INFO:     Started server process [1628]\n",
      "INFO:     Waiting for application startup.\n",
      "INFO:     Application startup complete.\n",
      "INFO:     Uvicorn running on http://127.0.0.1:8000 (Press CTRL+C to quit)\n"
     ]
    },
    {
     "name": "stdout",
     "output_type": "stream",
     "text": [
      "INFO:     127.0.0.1:20544 - \"GET / HTTP/1.1\" 200 OK\n"
     ]
    },
    {
     "name": "stderr",
     "output_type": "stream",
     "text": [
      "INFO:     Shutting down\n",
      "INFO:     Waiting for application shutdown.\n",
      "INFO:     Application shutdown complete.\n",
      "INFO:     Finished server process [1628]\n"
     ]
    }
   ],
   "source": [
    "from fastapi import FastAPI \n",
    "\n",
    "app = FastAPI()\n",
    "\n",
    "\n",
    "@app.get(\"/\")\n",
    "def read_root():\n",
    "    return {\"message\": \"Hello World\"}\n",
    "\n",
    "jupyter_run(app)"
   ]
  },
  {
   "cell_type": "markdown",
   "id": "d7d5b723",
   "metadata": {},
   "source": []
  }
 ],
 "metadata": {
  "kernelspec": {
   "display_name": "deeplearning",
   "language": "python",
   "name": "python3"
  },
  "language_info": {
   "codemirror_mode": {
    "name": "ipython",
    "version": 3
   },
   "file_extension": ".py",
   "mimetype": "text/x-python",
   "name": "python",
   "nbconvert_exporter": "python",
   "pygments_lexer": "ipython3",
   "version": "3.11.11"
  }
 },
 "nbformat": 4,
 "nbformat_minor": 5
}
