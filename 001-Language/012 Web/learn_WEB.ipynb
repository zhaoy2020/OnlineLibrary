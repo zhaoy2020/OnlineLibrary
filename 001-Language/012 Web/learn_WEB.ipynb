{
 "cells": [
  {
   "cell_type": "markdown",
   "id": "e2b3f244",
   "metadata": {},
   "source": [
    "**Table of contents**<a id='toc0_'></a>    \n",
    "- 1. [前言](#toc1_)    \n",
    "- 2. [前端三剑客](#toc2_)    \n",
    "  - 2.1. [HTML](#toc2_1_)    \n",
    "    - 2.1.1. [jupyter显示html](#toc2_1_1_)    \n",
    "    - 2.1.2. [html文件结构](#toc2_1_2_)    \n",
    "    - 2.1.3. [标签](#toc2_1_3_)    \n",
    "    - 2.1.4. [属性](#toc2_1_4_)    \n",
    "    - 2.1.5. [文本](#toc2_1_5_)    \n",
    "    - 2.1.6. [链接](#toc2_1_6_)    \n",
    "    - 2.1.7. [表单](#toc2_1_7_)    \n",
    "      - 2.1.7.1. [表单属性](#toc2_1_7_1_)    \n",
    "      - 2.1.7.2. [input](#toc2_1_7_2_)    \n",
    "      - 2.1.7.3. [text](#toc2_1_7_3_)    \n",
    "      - 2.1.7.4. [password](#toc2_1_7_4_)    \n",
    "      - 2.1.7.5. [radio](#toc2_1_7_5_)    \n",
    "      - 2.1.7.6. [submit](#toc2_1_7_6_)    \n",
    "      - 2.1.7.7. [reset](#toc2_1_7_7_)    \n",
    "      - 2.1.7.8. [image](#toc2_1_7_8_)    \n",
    "      - 2.1.7.9. [button](#toc2_1_7_9_)    \n",
    "      - 2.1.7.10. [select](#toc2_1_7_10_)    \n",
    "      - 2.1.7.11. [textarea](#toc2_1_7_11_)    \n",
    "      - 2.1.7.12. [button](#toc2_1_7_12_)    \n",
    "    - 2.1.8. [图片](#toc2_1_8_)    \n",
    "  - 2.2. [CSS](#toc2_2_)    \n",
    "    - 2.2.1. [CSS语法](#toc2_2_1_)    \n",
    "      - 2.2.1.1. [标签 选择器](#toc2_2_1_1_)    \n",
    "      - 2.2.1.2. [id 选择器](#toc2_2_1_2_)    \n",
    "      - 2.2.1.3. [类 选择器](#toc2_2_1_3_)    \n",
    "      - 2.2.1.4. [后代选择器、子代选择器](#toc2_2_1_4_)    \n",
    "      - 2.2.1.5. [交集选择器、并集选择器](#toc2_2_1_5_)    \n",
    "      - 2.2.1.6. [伪类选择器](#toc2_2_1_6_)    \n",
    "    - 2.2.2. [插入样式表的方法有三种](#toc2_2_2_)    \n",
    "    - 2.2.3. [菜单栏](#toc2_2_3_)    \n",
    "    - 2.2.4. [布局](#toc2_2_4_)    \n",
    "    - 2.2.5. [背景](#toc2_2_5_)    \n",
    "    - 2.2.6. [文本](#toc2_2_6_)    \n",
    "    - 2.2.7. [字体](#toc2_2_7_)    \n",
    "    - 2.2.8. [链接状态](#toc2_2_8_)    \n",
    "    - 2.2.9. [列表](#toc2_2_9_)    \n",
    "    - 2.2.10. [transition](#toc2_2_10_)    \n",
    "    - 2.2.11. [transform](#toc2_2_11_)    \n",
    "    - 2.2.12. [弹性布局](#toc2_2_12_)    \n",
    "  - 2.3. [JavaScript](#toc2_3_)    \n",
    "    - 2.3.1. [JS嵌入位置](#toc2_3_1_)    \n",
    "    - 2.3.2. [变量](#toc2_3_2_)    \n",
    "      - 2.3.2.1. [声名变量](#toc2_3_2_1_)    \n",
    "      - 2.3.2.2. [变量类型](#toc2_3_2_2_)    \n",
    "    - 2.3.3. [运算符](#toc2_3_3_)    \n",
    "    - 2.3.4. [流程控制](#toc2_3_4_)    \n",
    "      - 2.3.4.1. [条件](#toc2_3_4_1_)    \n",
    "      - 2.3.4.2. [循环](#toc2_3_4_2_)    \n",
    "      - 2.3.4.3. [中断和继续](#toc2_3_4_3_)    \n",
    "    - 2.3.5. [函数](#toc2_3_5_)    \n",
    "  - 2.4. [前端框架](#toc2_4_)    \n",
    "    - 2.4.1. [Vue](#toc2_4_1_)    \n",
    "    - 2.4.2. [React](#toc2_4_2_)    \n",
    "- 3. [后端](#toc3_)    \n",
    "  - 3.1. [Django](#toc3_1_)    \n",
    "  - 3.2. [Flask](#toc3_2_)    \n",
    "- 4. [数据库](#toc4_)    \n",
    "  - 4.1. [JSON](#toc4_1_)    \n",
    "  - 4.2. [SQLite](#toc4_2_)    \n",
    "- 5. [部署](#toc5_)    \n",
    "  - 5.1. [静态网页部署](#toc5_1_)    \n",
    "  - 5.2. [动态网页部署](#toc5_2_)    \n",
    "- 6. [网站生成器](#toc6_)    \n",
    "  - 6.1. [静态网站生成器](#toc6_1_)    \n",
    "- 7. [示例技术栈推荐](#toc7_)    \n",
    "- 8. [案例](#toc8_)    \n",
    "  - 8.1. [个人Blog](#toc8_1_)    \n",
    "  - 8.2. [实验室网站](#toc8_2_)    \n",
    "\n",
    "<!-- vscode-jupyter-toc-config\n",
    "\tnumbering=true\n",
    "\tanchor=true\n",
    "\tflat=false\n",
    "\tminLevel=1\n",
    "\tmaxLevel=6\n",
    "\t/vscode-jupyter-toc-config -->\n",
    "<!-- THIS CELL WILL BE REPLACED ON TOC UPDATE. DO NOT WRITE YOUR TEXT IN THIS CELL -->"
   ]
  },
  {
   "cell_type": "markdown",
   "id": "db5fce25",
   "metadata": {},
   "source": [
    "# 1. <a id='toc1_'></a>[前言](#toc0_)"
   ]
  },
  {
   "cell_type": "markdown",
   "id": "a2ba28bc",
   "metadata": {},
   "source": [
    "一个网站就是有前端、后端和数据库组成的，前端是用户看到的界面，后端是处理数据的逻辑，数据库是存储数据的地方。前端和后端通过 API 进行交互。"
   ]
  },
  {
   "cell_type": "markdown",
   "id": "3a6cc14e",
   "metadata": {},
   "source": [
    "# 2. <a id='toc2_'></a>[前端三剑客](#toc0_)"
   ]
  },
  {
   "cell_type": "markdown",
   "id": "81ac6ec9",
   "metadata": {},
   "source": [
    "前端三剑客是指 HTML、CSS 和 JavaScript。HTML 用于定义网页的结构，CSS 用于定义网页的样式，JavaScript 用于定义网页的行为。前端三剑客是前端开发的基础，掌握了这三者，就可以独立完成一个简单的网站。\n",
    "\n",
    "\n",
    "🎯 总对比表\n",
    "\n",
    "|名称 | 类型 | 用途 | 你什么时候用它？|\n",
    "|-|-|-|-|\n",
    "|HTML | 标记语言 | 内容结构 | 创建网页内容|\n",
    "|CSS | 样式语言 | 美化页面 | 调整颜色、排版、动画|\n",
    "|JavaScript | 脚本语言 | 控制逻辑 | 增加交互、响应用户操作|\n",
    "|Vue.js | 前端框架 | 构建 UI | 快速开发 SPA、响应式数据|\n",
    "|React | 前端框架 | 构建 UI | 构建大型前端应用，复用性强|"
   ]
  },
  {
   "cell_type": "markdown",
   "id": "97bf42d9",
   "metadata": {},
   "source": [
    "## 2.1. <a id='toc2_1_'></a>[HTML](#toc0_)"
   ]
  },
  {
   "cell_type": "markdown",
   "id": "30acd174",
   "metadata": {},
   "source": [
    "- 它是网页的骨架\n",
    "\n",
    "- 用来定义网页上的内容和结构\n",
    "\n",
    "- 常见元素：```<h1>, <p>, <img>, <a>, <div> 等```\n",
    "\n",
    "- 没有 HTML，网页就什么都不显示"
   ]
  },
  {
   "cell_type": "markdown",
   "id": "d367f644",
   "metadata": {},
   "source": [
    "### 2.1.1. <a id='toc2_1_1_'></a>[jupyter显示html](#toc0_)"
   ]
  },
  {
   "cell_type": "markdown",
   "id": "9c19b19d",
   "metadata": {},
   "source": [
    "利用IPython的display中的HTML函数渲染成能在jupyter中查看的内容。"
   ]
  },
  {
   "cell_type": "code",
   "execution_count": 15,
   "id": "8fe40981",
   "metadata": {},
   "outputs": [
    {
     "data": {
      "text/html": [
       "\n",
       "<h1 style='color: red;'>Hello, Jupyter!</h1>\n",
       "<p>This is <strong>HTML</strong> rendered in Jupyter.</p>\n",
       "<ul>\n",
       "    <li>Item 1</li>\n",
       "    <li>Item 2</li>\n",
       "</ul>\n"
      ],
      "text/plain": [
       "<IPython.core.display.HTML object>"
      ]
     },
     "execution_count": 15,
     "metadata": {},
     "output_type": "execute_result"
    }
   ],
   "source": [
    "from IPython.display import HTML\n",
    "\n",
    "\n",
    "html_content = \"\"\"\n",
    "<h1 style='color: red;'>Hello, Jupyter!</h1>\n",
    "<p>This is <strong>HTML</strong> rendered in Jupyter.</p>\n",
    "<ul>\n",
    "    <li>Item 1</li>\n",
    "    <li>Item 2</li>\n",
    "</ul>\n",
    "\"\"\"\n",
    "\n",
    "HTML(html_content)"
   ]
  },
  {
   "cell_type": "markdown",
   "id": "1a745a85",
   "metadata": {},
   "source": [
    "使用IPython的魔法命令：%%html。"
   ]
  },
  {
   "cell_type": "code",
   "execution_count": 9,
   "id": "0ad6ee07",
   "metadata": {},
   "outputs": [
    {
     "data": {
      "text/html": [
       "<h1 style='color: red;'>Hello, Jupyter!</h1>\n",
       "<p>This is <strong>HTML</strong> rendered in Jupyter.</p>\n",
       "<ul>\n",
       "    <li>Item 1</li>\n",
       "    <li>Item 2</li>\n",
       "</ul>\n"
      ],
      "text/plain": [
       "<IPython.core.display.HTML object>"
      ]
     },
     "metadata": {},
     "output_type": "display_data"
    }
   ],
   "source": [
    "%%html\n",
    "<h1 style='color: red;'>Hello, Jupyter!</h1>\n",
    "<p>This is <strong>HTML</strong> rendered in Jupyter.</p>\n",
    "<ul>\n",
    "    <li>Item 1</li>\n",
    "    <li>Item 2</li>\n",
    "</ul>"
   ]
  },
  {
   "cell_type": "markdown",
   "id": "59c31d09",
   "metadata": {},
   "source": [
    "### 2.1.2. <a id='toc2_1_2_'></a>[html文件结构](#toc0_)"
   ]
  },
  {
   "cell_type": "markdown",
   "id": "e26893f7",
   "metadata": {},
   "source": [
    "![https://www.runoob.com/wp-content/uploads/2013/06/02A7DD95-22B4-4FB9-B994-DDB5393F7F03.jpg](https://www.runoob.com/wp-content/uploads/2013/06/02A7DD95-22B4-4FB9-B994-DDB5393F7F03.jpg)"
   ]
  },
  {
   "cell_type": "markdown",
   "id": "1ef7eb70",
   "metadata": {},
   "source": [
    "| 标签         | 描述                                                         |\n",
    "|--------------|--------------------------------------------------------------|\n",
    "| `<article>`  | 定义页面独立的内容区域。                                     |\n",
    "| `<aside>`    | 定义页面的侧边栏内容。                                       |\n",
    "| `<bdi>`      | 允许设置一段文本，使其脱离其父元素的文本方向设置。         |\n",
    "| `<command>`  | 定义命令按钮，比如单选按钮、复选框或按钮。                 |\n",
    "| `<details>`  | 用于描述文档或文档某个部分的细节。                          |\n",
    "| `<dialog>`   | 定义对话框，比如提示框。                                     |\n",
    "| `<summary>`  | 包含 `<details>` 元素的标题。                                |\n",
    "| `<figure>`   | 规定独立的流内容（图像、图表、照片、代码等等）。           |\n",
    "| `<figcaption>` | 定义 `<figure>` 元素的标题。                              |\n",
    "| `<footer>`   | 定义 section 或 document 的页脚。                            |\n",
    "| `<header>`   | 定义文档的头部区域。                                         |\n",
    "| `<mark>`     | 定义带有记号的文本。                                         |\n",
    "| `<meter>`    | 定义度量衡。仅用于已知最大和最小值的度量。                  |\n",
    "| `<nav>`      | 定义导航链接的部分。                                         |\n",
    "| `<progress>` | 定义任何类型的任务的进度。                                   |\n",
    "| `<ruby>`     | 定义 ruby 注释（中文注音或字符）。                          |\n",
    "| `<rt>`       | 定义字符（中文注音或字符）的解释或发音。                    |\n",
    "| `<rp>`       | 在 ruby 注释中使用，定义不支持 ruby 元素的浏览器显示的内容。|\n",
    "| `<section>`  | 定义文档中的节（section、区段）。                           |\n",
    "| `<time>`     | 定义日期或时间。                                             |\n",
    "| `<wbr>`      | 规定在文本中的何处适合添加换行符。                          |\n"
   ]
  },
  {
   "cell_type": "code",
   "execution_count": 1,
   "id": "2b9efb00",
   "metadata": {},
   "outputs": [
    {
     "data": {
      "text/html": [
       "<!DOCTYPE html>\n",
       "<html lang=\"en\">\n",
       "\n",
       "\n",
       "<head>\n",
       "    <meta name=\"Yu Zhao\" charset=\"UTF-8\">\n",
       "    <title>My HTML Page</title>\n",
       "    <link rel=\"ico\" href=\"https://ars.els-cdn.com/content/image/1-s2.0-S004896972403256X-ga1.jpg\" />\n",
       "</head>\n",
       "\n",
       "\n",
       "<body>\n",
       "    <header>Header: 网站主题</header>\n",
       "\n",
       "    <nav>nav: 连接菜单</nav>\n",
       "\n",
       "    <main>\n",
       "        <article>\n",
       "            <p>article: 主要内容</p>\n",
       "            <section>\n",
       "            <h1>section: 第一章</h1>\n",
       "                <h2>h2: 1.1 博客构建</h2>\n",
       "                <p>p: 段落</p>   \n",
       "            </section>\n",
       "        </article>\n",
       "    </main>\n",
       "\n",
       "    <aside>aside: 侧边栏</aside>\n",
       "\n",
       "    <footer>footer: © 2023 My Blog</footer>\n",
       "</body>\n",
       "\n",
       "\n",
       "</html>\n"
      ],
      "text/plain": [
       "<IPython.core.display.HTML object>"
      ]
     },
     "metadata": {},
     "output_type": "display_data"
    }
   ],
   "source": [
    "%%html\n",
    "<!DOCTYPE html>\n",
    "<html lang=\"en\">\n",
    "\n",
    "\n",
    "<head>\n",
    "    <meta name=\"Yu Zhao\" charset=\"UTF-8\">\n",
    "    <title>My HTML Page</title>\n",
    "    <link rel=\"ico\" href=\"https://ars.els-cdn.com/content/image/1-s2.0-S004896972403256X-ga1.jpg\" />\n",
    "</head>\n",
    "\n",
    "\n",
    "<body>\n",
    "    <header>Header: 网站主题</header>\n",
    "\n",
    "    <nav>nav: 连接菜单</nav>\n",
    "\n",
    "    <main>\n",
    "        <article>\n",
    "            <p>article: 主要内容</p>\n",
    "            <section>\n",
    "            <h1>section: 第一章</h1>\n",
    "                <h2>h2: 1.1 博客构建</h2>\n",
    "                <p>p: 段落</p>   \n",
    "            </section>\n",
    "        </article>\n",
    "    </main>\n",
    "\n",
    "    <aside>aside: 侧边栏</aside>\n",
    "    \n",
    "    <footer>footer: © 2023 My Blog</footer>\n",
    "</body>\n",
    "\n",
    "\n",
    "</html>"
   ]
  },
  {
   "cell_type": "markdown",
   "id": "293869e4",
   "metadata": {},
   "source": [
    "### 2.1.3. <a id='toc2_1_3_'></a>[标签](#toc0_)"
   ]
  },
  {
   "cell_type": "markdown",
   "id": "17af85f5",
   "metadata": {},
   "source": [
    "```html\n",
    "- head  # 头部\n",
    "- meta  # 元数据\n",
    "- body  # 主体\n",
    "- title # 网页标题\n",
    "- h1\n",
    "- h2    # 二级标题\n",
    "- h3    # 三级标题\n",
    "- p     # 段落\n",
    "- a     # 超链接\n",
    "- br    # 换行\n",
    "- blockquote # 引用\n",
    "- hr    # 水平线\n",
    "- img   # 图像\n",
    "- div   # 分块\n",
    "- span  # 行内元素\n",
    "- ul    # 无序列表\n",
    "- ol    # 有序列表\n",
    "- li    # 列表项\n",
    "- table # 表格\n",
    "- tr    # 表格行\n",
    "- td    # 表格单元格\n",
    "- th    # 表头单元格\n",
    "- form  # 表单\n",
    "```"
   ]
  },
  {
   "cell_type": "markdown",
   "id": "6ff4af39",
   "metadata": {},
   "source": [
    "### 2.1.4. <a id='toc2_1_4_'></a>[属性](#toc0_)"
   ]
  },
  {
   "cell_type": "markdown",
   "id": "82c54582",
   "metadata": {},
   "source": [
    "- id \n",
    "- class\n",
    "- style\n",
    "- href"
   ]
  },
  {
   "cell_type": "markdown",
   "id": "94d98802",
   "metadata": {},
   "source": [
    "### 2.1.5. <a id='toc2_1_5_'></a>[文本](#toc0_)"
   ]
  },
  {
   "cell_type": "markdown",
   "id": "c16a51be",
   "metadata": {},
   "source": [
    "| 标签       | 描述             |\n",
    "|------------|------------------|\n",
    "| `<b>`      | 定义粗体文本      |\n",
    "| `<em>`     | 定义着重文字      |\n",
    "| `<i>`      | 定义斜体字        |\n",
    "| `<small>`  | 定义小号字        |\n",
    "| `<strong>` | 定义加重语气      |\n",
    "| `<sub>`    | 定义下标字        |\n",
    "| `<sup>`    | 定义上标字        |\n",
    "| `<ins>`    | 定义插入字        |\n",
    "| `<del>`    | 定义删除字        |\n"
   ]
  },
  {
   "cell_type": "code",
   "execution_count": 65,
   "id": "7db08e21",
   "metadata": {},
   "outputs": [
    {
     "data": {
      "text/html": [
       "<body>\n",
       "    <p>This is simple demo.</p>\n",
       "    <br>\n",
       "    <em>This is em.</em>\n",
       "    <br>\n",
       "    <i>This is i</i>\n",
       "    <br>\n",
       "    <strong>This is strong</strong>\n",
       "    <br>\n",
       "    <smal>This is small</small>\n",
       "    <br>\n",
       "    <sub>This is sup</sub>\n",
       "    <br>\n",
       "    <sub>This is sub</sub>\n",
       "    <br>\n",
       "    <ins>This is ins</ins>\n",
       "    <br>\n",
       "    <del>This is del</del>\n",
       "</body>\n"
      ],
      "text/plain": [
       "<IPython.core.display.HTML object>"
      ]
     },
     "metadata": {},
     "output_type": "display_data"
    }
   ],
   "source": [
    "%%html\n",
    "<body>\n",
    "    <p>This is simple demo.</p>\n",
    "    <br>\n",
    "    <em>This is em.</em>\n",
    "    <br>\n",
    "    <i>This is i</i>\n",
    "    <br>\n",
    "    <strong>This is strong</strong>\n",
    "    <br>\n",
    "    <smal>This is small</small>\n",
    "    <br>\n",
    "    <sub>This is sup</sub>\n",
    "    <br>\n",
    "    <sub>This is sub</sub>\n",
    "    <br>\n",
    "    <ins>This is ins</ins>\n",
    "    <br>\n",
    "    <del>This is del</del>\n",
    "</body>"
   ]
  },
  {
   "cell_type": "markdown",
   "id": "469aad70",
   "metadata": {},
   "source": [
    "| 标签       | 描述               |\n",
    "|------------|--------------------|\n",
    "| `<code>`   | 定义计算机代码     |\n",
    "| `<kbd>`    | 定义键盘码         |\n",
    "| `<samp>`   | 定义计算机代码样本 |\n",
    "| `<var>`    | 定义变量           |\n",
    "| `<pre>`    | 定义预格式文本     |\n"
   ]
  },
  {
   "cell_type": "code",
   "execution_count": 68,
   "id": "caab1251",
   "metadata": {},
   "outputs": [
    {
     "data": {
      "text/html": [
       "<body>\n",
       "    <code>\n",
       "        import matplotlib.pyplot as plt\n",
       "        import numpy as np\n",
       "\n",
       "        if __name__ == \"__main__\":\n",
       "    </code>\n",
       "</body>\n"
      ],
      "text/plain": [
       "<IPython.core.display.HTML object>"
      ]
     },
     "metadata": {},
     "output_type": "display_data"
    }
   ],
   "source": [
    "%%html\n",
    "<body>\n",
    "    <code>\n",
    "        import matplotlib.pyplot as plt\n",
    "        import numpy as np\n",
    "\n",
    "        if __name__ == \"__main__\":\n",
    "    </code>\n",
    "</body>"
   ]
  },
  {
   "cell_type": "markdown",
   "id": "3ec0798f",
   "metadata": {},
   "source": [
    "### 2.1.6. <a id='toc2_1_6_'></a>[链接](#toc0_)"
   ]
  },
  {
   "cell_type": "code",
   "execution_count": 69,
   "id": "697985b5",
   "metadata": {},
   "outputs": [
    {
     "data": {
      "text/html": [
       "<body>\n",
       "    <a href=\"URL\">链接文本</a>\n",
       "</body>\n"
      ],
      "text/plain": [
       "<IPython.core.display.HTML object>"
      ]
     },
     "metadata": {},
     "output_type": "display_data"
    }
   ],
   "source": [
    "%%html\n",
    "<body>\n",
    "    <a href=\"URL\">链接文本</a>\n",
    "</body>"
   ]
  },
  {
   "cell_type": "markdown",
   "id": "00c41d6f",
   "metadata": {},
   "source": [
    "### 2.1.7. <a id='toc2_1_7_'></a>[表单](#toc0_)"
   ]
  },
  {
   "cell_type": "markdown",
   "id": "18823581",
   "metadata": {},
   "source": [
    "#### 2.1.7.1. <a id='toc2_1_7_1_'></a>[表单属性](#toc0_)"
   ]
  },
  {
   "cell_type": "markdown",
   "id": "ee2654a8",
   "metadata": {},
   "source": [
    "action=\n",
    "\n",
    "method=\"post\"\n",
    "\n",
    "enctype="
   ]
  },
  {
   "cell_type": "code",
   "execution_count": 28,
   "id": "3803b243",
   "metadata": {},
   "outputs": [
    {
     "data": {
      "text/html": [
       "<form method=\"post\">\n",
       "各种表单控件\n",
       "\n",
       "</form>\n"
      ],
      "text/plain": [
       "<IPython.core.display.HTML object>"
      ]
     },
     "metadata": {},
     "output_type": "display_data"
    }
   ],
   "source": [
    "%%html\n",
    "<form method=\"post\">\n",
    "各种表单控件\n",
    "\n",
    "</form>"
   ]
  },
  {
   "cell_type": "markdown",
   "id": "a731ce2e",
   "metadata": {},
   "source": [
    "#### 2.1.7.2. <a id='toc2_1_7_2_'></a>[input](#toc0_)"
   ]
  },
  {
   "cell_type": "markdown",
   "id": "8ad9fa23",
   "metadata": {},
   "source": [
    "#### 2.1.7.3. <a id='toc2_1_7_3_'></a>[text](#toc0_)"
   ]
  },
  {
   "cell_type": "code",
   "execution_count": 40,
   "id": "78e21645",
   "metadata": {},
   "outputs": [
    {
     "data": {
      "text/html": [
       "<form>\n",
       "    Please input:\n",
       "    <input type=\"text\" name=\"text1\" placehold=\"input...\" />\n",
       "</form>\n"
      ],
      "text/plain": [
       "<IPython.core.display.HTML object>"
      ]
     },
     "metadata": {},
     "output_type": "display_data"
    }
   ],
   "source": [
    "%%html\n",
    "<form>\n",
    "    Please input:\n",
    "    <input type=\"text\" name=\"text1\" placehold=\"input...\" />\n",
    "</form>"
   ]
  },
  {
   "cell_type": "markdown",
   "id": "1907c463",
   "metadata": {},
   "source": [
    "#### 2.1.7.4. <a id='toc2_1_7_4_'></a>[password](#toc0_)"
   ]
  },
  {
   "cell_type": "code",
   "execution_count": 41,
   "id": "ae08914a",
   "metadata": {},
   "outputs": [
    {
     "data": {
      "text/html": [
       "<form>\n",
       "    Please input:\n",
       "    <input type=\"password\" name=\"text1\" placehold=\"input...\" />\n",
       "</form>\n"
      ],
      "text/plain": [
       "<IPython.core.display.HTML object>"
      ]
     },
     "metadata": {},
     "output_type": "display_data"
    }
   ],
   "source": [
    "%%html\n",
    "<form>\n",
    "    Please input:\n",
    "    <input type=\"password\" name=\"text1\" placehold=\"input...\" />\n",
    "</form>"
   ]
  },
  {
   "cell_type": "markdown",
   "id": "71097e26",
   "metadata": {},
   "source": [
    "#### 2.1.7.5. <a id='toc2_1_7_5_'></a>[radio](#toc0_)"
   ]
  },
  {
   "cell_type": "code",
   "execution_count": 46,
   "id": "cd73549d",
   "metadata": {},
   "outputs": [
    {
     "data": {
      "text/html": [
       "<form>\n",
       "    Please input:\n",
       "    <input type=\"radio\" name=\"sex\" value=\"male\" checked=\"checked\" />\n",
       "    <input type=\"radio\" name=\"sex\" value=\"female\" />\n",
       "</form>\n"
      ],
      "text/plain": [
       "<IPython.core.display.HTML object>"
      ]
     },
     "metadata": {},
     "output_type": "display_data"
    }
   ],
   "source": [
    "%%html\n",
    "<form>\n",
    "    Please input:\n",
    "    <input type=\"radio\" name=\"sex\" value=\"male\" checked=\"checked\" />\n",
    "    <input type=\"radio\" name=\"sex\" value=\"female\" />\n",
    "</form>"
   ]
  },
  {
   "cell_type": "markdown",
   "id": "70cdb3a2",
   "metadata": {},
   "source": [
    "#### 2.1.7.6. <a id='toc2_1_7_6_'></a>[submit](#toc0_)"
   ]
  },
  {
   "cell_type": "code",
   "execution_count": 49,
   "id": "33146403",
   "metadata": {},
   "outputs": [
    {
     "data": {
      "text/html": [
       "<form>\n",
       "    Please input:\n",
       "    <input type=\"submit\" value=\"Login\" />\n",
       "</form>\n"
      ],
      "text/plain": [
       "<IPython.core.display.HTML object>"
      ]
     },
     "metadata": {},
     "output_type": "display_data"
    }
   ],
   "source": [
    "%%html\n",
    "<form>\n",
    "    Please input:\n",
    "    <input type=\"submit\" value=\"Login\" />\n",
    "</form>"
   ]
  },
  {
   "cell_type": "markdown",
   "id": "4bbb75e2",
   "metadata": {},
   "source": [
    "#### 2.1.7.7. <a id='toc2_1_7_7_'></a>[reset](#toc0_)"
   ]
  },
  {
   "cell_type": "code",
   "execution_count": 51,
   "id": "79ef9879",
   "metadata": {},
   "outputs": [
    {
     "data": {
      "text/html": [
       "<form>\n",
       "    Please input:\n",
       "    <input type=\"reset\" value=\"reset\" />\n",
       "</form>\n"
      ],
      "text/plain": [
       "<IPython.core.display.HTML object>"
      ]
     },
     "metadata": {},
     "output_type": "display_data"
    }
   ],
   "source": [
    "%%html\n",
    "<form>\n",
    "    Please input:\n",
    "    <input type=\"reset\" value=\"reset\" />\n",
    "</form>"
   ]
  },
  {
   "cell_type": "markdown",
   "id": "3cef9e1b",
   "metadata": {},
   "source": [
    "#### 2.1.7.8. <a id='toc2_1_7_8_'></a>[image](#toc0_)"
   ]
  },
  {
   "cell_type": "code",
   "execution_count": 62,
   "id": "028bfe7b",
   "metadata": {},
   "outputs": [
    {
     "ename": "SyntaxError",
     "evalue": "invalid syntax (2440987377.py, line 2)",
     "output_type": "error",
     "traceback": [
      "  \u001b[36mCell\u001b[39m\u001b[36m \u001b[39m\u001b[32mIn[62]\u001b[39m\u001b[32m, line 2\u001b[39m\n\u001b[31m    \u001b[39m\u001b[31m<form>\u001b[39m\n    ^\n\u001b[31mSyntaxError\u001b[39m\u001b[31m:\u001b[39m invalid syntax\n"
     ]
    }
   ],
   "source": [
    "# %%html # 在jupyter中，可能会报错\n",
    "<form>\n",
    "    Please input:\n",
    "    <input type=\"image\" src=\"https://media.springernature.com/full/springer-static/image/art%3A10.1186%2Fs42483-024-00287-0/MediaObjects/42483_2024_287_Fig3_HTML.png?as=webp\" />\n",
    "</form>"
   ]
  },
  {
   "cell_type": "markdown",
   "id": "5339f58b",
   "metadata": {},
   "source": [
    "#### 2.1.7.9. <a id='toc2_1_7_9_'></a>[button](#toc0_)"
   ]
  },
  {
   "cell_type": "code",
   "execution_count": 55,
   "id": "a68a661f",
   "metadata": {},
   "outputs": [
    {
     "data": {
      "text/html": [
       "<form>\n",
       "    Please input:\n",
       "    <input type=\"button\" value=\"Click\" onclick=\"alert! This is a demo.\" />\n",
       "</form>\n"
      ],
      "text/plain": [
       "<IPython.core.display.HTML object>"
      ]
     },
     "metadata": {},
     "output_type": "display_data"
    }
   ],
   "source": [
    "%%html\n",
    "<form>\n",
    "    Please input:\n",
    "    <input type=\"button\" value=\"Click\" onclick=\"alert! This is a demo.\" />\n",
    "</form>"
   ]
  },
  {
   "cell_type": "markdown",
   "id": "527d55a7",
   "metadata": {},
   "source": [
    "#### 2.1.7.10. <a id='toc2_1_7_10_'></a>[select](#toc0_)"
   ]
  },
  {
   "cell_type": "code",
   "execution_count": 71,
   "id": "55a0c88c",
   "metadata": {},
   "outputs": [
    {
     "data": {
      "text/html": [
       "<form>\n",
       "    Please select:\n",
       "    <select name=\"week\">\n",
       "        <option value=\"1\">1</option>\n",
       "        <option value=\"2\">2</option>\n",
       "        <option value=\"3\">3</option>\n",
       "        <option value=\"1\">1</option>\n",
       "        <option value=\"2\">2</option>\n",
       "        <option value=\"3\">3</option>\n",
       "    </select>\n",
       "</form>\n"
      ],
      "text/plain": [
       "<IPython.core.display.HTML object>"
      ]
     },
     "metadata": {},
     "output_type": "display_data"
    }
   ],
   "source": [
    "%%html\n",
    "<form>\n",
    "    Please select:\n",
    "    <select name=\"week\">\n",
    "        <option value=\"1\">1</option>\n",
    "        <option value=\"2\">2</option>\n",
    "        <option value=\"3\">3</option>\n",
    "        <option value=\"1\">1</option>\n",
    "        <option value=\"2\">2</option>\n",
    "        <option value=\"3\">3</option>\n",
    "    </select>\n",
    "</form>"
   ]
  },
  {
   "cell_type": "markdown",
   "id": "c155befc",
   "metadata": {},
   "source": [
    "#### 2.1.7.11. <a id='toc2_1_7_11_'></a>[textarea](#toc0_)"
   ]
  },
  {
   "cell_type": "code",
   "execution_count": 73,
   "id": "5e03bc5c",
   "metadata": {},
   "outputs": [
    {
     "data": {
      "text/html": [
       "<form method=\"post\">\n",
       "    <textarea>Text area</textarea>\n",
       "</form>\n"
      ],
      "text/plain": [
       "<IPython.core.display.HTML object>"
      ]
     },
     "metadata": {},
     "output_type": "display_data"
    }
   ],
   "source": [
    "%%html\n",
    "<form method=\"post\">\n",
    "    <textarea>Text area</textarea>\n",
    "</form>"
   ]
  },
  {
   "cell_type": "markdown",
   "id": "b9e8cf6b",
   "metadata": {},
   "source": [
    "#### 2.1.7.12. <a id='toc2_1_7_12_'></a>[button](#toc0_)"
   ]
  },
  {
   "cell_type": "code",
   "execution_count": 77,
   "id": "5884a2e2",
   "metadata": {},
   "outputs": [
    {
     "data": {
      "text/html": [
       "<form method=\"post\">\n",
       "    <button>Click</button>\n",
       "</form>\n"
      ],
      "text/plain": [
       "<IPython.core.display.HTML object>"
      ]
     },
     "metadata": {},
     "output_type": "display_data"
    }
   ],
   "source": [
    "# %%html # On jupyter, maybe error.\n",
    "<form method=\"post\">\n",
    "    <button>Click</button>\n",
    "</form>"
   ]
  },
  {
   "cell_type": "markdown",
   "id": "0452618c",
   "metadata": {},
   "source": [
    "### 2.1.8. <a id='toc2_1_8_'></a>[图片](#toc0_)"
   ]
  },
  {
   "cell_type": "code",
   "execution_count": 52,
   "id": "e40f900f",
   "metadata": {},
   "outputs": [
    {
     "data": {
      "text/html": [
       "<head>\n",
       "    <style>\n",
       "        .picture {\n",
       "            width: 400px;\n",
       "            height:300px;\n",
       "        }\n",
       "    </style>\n",
       "</head>\n",
       "\n",
       "<body>\n",
       "    <img class=\"picture\" src=\"https://static.vecteezy.com/system/resources/thumbnails/025/220/125/small_2x/picture-a-captivating-scene-of-a-tranquil-lake-at-sunset-ai-generative-photo.jpg\" alt=\"Picture\">\n",
       "</body>\n"
      ],
      "text/plain": [
       "<IPython.core.display.HTML object>"
      ]
     },
     "metadata": {},
     "output_type": "display_data"
    }
   ],
   "source": [
    "%%html \n",
    "<head>\n",
    "    <style>\n",
    "        .picture {\n",
    "            width: 400px;\n",
    "            height:300px;\n",
    "        }\n",
    "    </style>\n",
    "</head>\n",
    "\n",
    "<body>\n",
    "    <img class=\"picture\" src=\"https://static.vecteezy.com/system/resources/thumbnails/025/220/125/small_2x/picture-a-captivating-scene-of-a-tranquil-lake-at-sunset-ai-generative-photo.jpg\" alt=\"Picture\">\n",
    "</body>"
   ]
  },
  {
   "cell_type": "code",
   "execution_count": 71,
   "id": "34a54c84",
   "metadata": {},
   "outputs": [
    {
     "data": {
      "text/html": [
       "<body>\n",
       "    <time>This is time.</time>\n",
       "</body>\n"
      ],
      "text/plain": [
       "<IPython.core.display.HTML object>"
      ]
     },
     "metadata": {},
     "output_type": "display_data"
    }
   ],
   "source": [
    "%%html \n",
    "<body>\n",
    "    <time>This is time.</time>\n",
    "</body>"
   ]
  },
  {
   "cell_type": "code",
   "execution_count": 75,
   "id": "383d3ddf",
   "metadata": {},
   "outputs": [
    {
     "data": {
      "text/html": [
       "\n",
       "<body>\n",
       "    <canvas width=400px height=300px>This is canvas.</canvas>\n",
       "</body>\n"
      ],
      "text/plain": [
       "<IPython.core.display.HTML object>"
      ]
     },
     "metadata": {},
     "output_type": "display_data"
    }
   ],
   "source": [
    "%%html \n",
    "\n",
    "<body>\n",
    "    <canvas width=400px height=300px>This is canvas.</canvas>\n",
    "</body>"
   ]
  },
  {
   "cell_type": "markdown",
   "id": "365260b5",
   "metadata": {},
   "source": [
    "## 2.2. <a id='toc2_2_'></a>[CSS](#toc0_)\n"
   ]
  },
  {
   "cell_type": "markdown",
   "id": "b0a5f35f",
   "metadata": {},
   "source": [
    "- 🎨 它是网页的化妆师\n",
    "\n",
    "- 用来控制网页的外观和布局\n",
    "\n",
    "- 可以设置颜色、字体、边距、位置、响应式样式等\n",
    "\n",
    "- 没有 CSS，网页就像“黑白素颜”"
   ]
  },
  {
   "cell_type": "markdown",
   "id": "39d48b0e",
   "metadata": {},
   "source": [
    "### 2.2.1. <a id='toc2_2_1_'></a>[CSS语法](#toc0_)"
   ]
  },
  {
   "cell_type": "markdown",
   "id": "54e73381",
   "metadata": {},
   "source": [
    "[参考教程:https://www.runoob.com/css/css-display-visibility.html](https://www.runoob.com/css/css-display-visibility.html)\n",
    "\n",
    "```html\n",
    "选择器 {属性：值；属性：值；...}\n",
    "```\n",
    "\n",
    "- 选择器：\n",
    "  - 标签名\n",
    "  - id\n",
    "  - class\n",
    "\n",
    "- id1,id2,... {属性1：值1;属性2：值2,...}\n",
    "- class1,class2,... {属性1：值1;属性2：值2,...}"
   ]
  },
  {
   "cell_type": "markdown",
   "id": "31eb6868",
   "metadata": {},
   "source": [
    "#### 2.2.1.1. <a id='toc2_2_1_1_'></a>[标签 选择器](#toc0_)"
   ]
  },
  {
   "cell_type": "code",
   "execution_count": null,
   "id": "81f43dad",
   "metadata": {},
   "outputs": [
    {
     "data": {
      "text/html": [
       "<style>\n",
       "    p {\n",
       "        text-align: center;\n",
       "        font-size: 20px;\n",
       "    }\n",
       "</style>\n",
       "\n",
       "<p>This is a centered paragraph with a larger font size.</p>\n"
      ],
      "text/plain": [
       "<IPython.core.display.HTML object>"
      ]
     },
     "metadata": {},
     "output_type": "display_data"
    }
   ],
   "source": [
    "%%html \n",
    "<style>\n",
    "    p {\n",
    "        text-align: center;\n",
    "        font-size: 20px;\n",
    "    }\n",
    "</style>\n",
    "\n",
    "\n",
    "<p>This is a centered paragraph with a larger font size.</p>"
   ]
  },
  {
   "cell_type": "markdown",
   "id": "e1f95fbb",
   "metadata": {},
   "source": [
    "#### 2.2.1.2. <a id='toc2_2_1_2_'></a>[id 选择器](#toc0_)"
   ]
  },
  {
   "cell_type": "code",
   "execution_count": 83,
   "id": "bb46e9a4",
   "metadata": {},
   "outputs": [
    {
     "data": {
      "text/html": [
       "<style>\n",
       "    #para1 {\n",
       "        text-align: center;\n",
       "        font-size: 20px;\n",
       "    }\n",
       "</style>\n",
       "\n",
       "<p id=\"para1\">This is a centered paragraph with a larger font size.</p>\n"
      ],
      "text/plain": [
       "<IPython.core.display.HTML object>"
      ]
     },
     "metadata": {},
     "output_type": "display_data"
    }
   ],
   "source": [
    "%%html \n",
    "<style>\n",
    "    #para1 {\n",
    "        text-align: center;\n",
    "        font-size: 20px;\n",
    "    }\n",
    "</style>\n",
    "\n",
    "<p id=\"para1\">This is a centered paragraph with a larger font size.</p>"
   ]
  },
  {
   "cell_type": "markdown",
   "id": "21dee624",
   "metadata": {},
   "source": [
    "#### 2.2.1.3. <a id='toc2_2_1_3_'></a>[类 选择器](#toc0_)"
   ]
  },
  {
   "cell_type": "code",
   "execution_count": 82,
   "id": "1d5733aa",
   "metadata": {},
   "outputs": [
    {
     "data": {
      "text/html": [
       "<style>\n",
       "    .custom {\n",
       "        text-align: center;\n",
       "        font-size: 20px;\n",
       "    }\n",
       "</style>\n",
       "\n",
       "<p class=\"custom\">This is a centered paragraph with a larger font size.</p>\n"
      ],
      "text/plain": [
       "<IPython.core.display.HTML object>"
      ]
     },
     "metadata": {},
     "output_type": "display_data"
    }
   ],
   "source": [
    "%%html \n",
    "<style>\n",
    "    .custom {\n",
    "        text-align: center;\n",
    "        font-size: 20px;\n",
    "    }\n",
    "</style>\n",
    "\n",
    "<p class=\"custom\">This is a centered paragraph with a larger font size.</p>"
   ]
  },
  {
   "cell_type": "markdown",
   "id": "e26658ab",
   "metadata": {},
   "source": [
    "#### 2.2.1.4. <a id='toc2_2_1_4_'></a>[后代选择器、子代选择器](#toc0_)\n",
    "\n",
    "后代选择器：选择某个元素的所有后代元素\n",
    "\n",
    "```html\n",
    "div p {color: red;}\n",
    "```\n",
    "\n",
    "子代选择器：选择某个元素的直接子代元素\n",
    "\n",
    "```html\n",
    "div > p {color: red;}\n",
    "```"
   ]
  },
  {
   "cell_type": "markdown",
   "id": "24b8bb87",
   "metadata": {},
   "source": [
    "#### 2.2.1.5. <a id='toc2_2_1_5_'></a>[交集选择器、并集选择器](#toc0_)\n",
    "\n",
    "交集选择器：选择同时满足多个条件的元素\n",
    "\n",
    "```html\n",
    "divp {color: red;}\n",
    "```\n",
    "\n",
    "并集选择器：选择满足任意一个条件的元素\n",
    "\n",
    "```html\n",
    "div,p {color: red;}\n",
    "``` "
   ]
  },
  {
   "cell_type": "markdown",
   "id": "a27900ec",
   "metadata": {},
   "source": [
    "#### 2.2.1.6. <a id='toc2_2_1_6_'></a>[伪类选择器](#toc0_)\n",
    "\n",
    "伪类选择器是用来选择某些状态下的元素，比如鼠标悬停、链接被访问等。常见的伪类选择器有：\n",
    "- :hover  # 鼠标悬停\n",
    "- :active # 鼠标点击    \n",
    "- :focus  # 输入框获得焦点\n",
    "- :visited # 链接被访问过\n",
    "- :first-child # 第一个子元素\n",
    "- :last-child # 最后一个子元素\n",
    "- :nth-child(n) # 第n个子元素\n",
    "- :nth-of-type(n) # 第n个同类型子元素   \n",
    "\n",
    "- :not(selector) # 选择不符合条件的元素\n",
    "- :before # 在元素前插入内容    "
   ]
  },
  {
   "cell_type": "markdown",
   "id": "278f081c",
   "metadata": {},
   "source": [
    "### 2.2.2. <a id='toc2_2_2_'></a>[插入样式表的方法有三种](#toc0_)"
   ]
  },
  {
   "cell_type": "markdown",
   "id": "21d9c2cf",
   "metadata": {},
   "source": [
    "- 外部样式表(External style sheet)\n",
    "  ```html\n",
    "    <head>\n",
    "        <link rel=\"stylesheet\" type=\"text/css\" href=\"mystyle.css\">\n",
    "    </head>\n",
    "  ```\n",
    "- 内部样式表(Internal style sheet)\n",
    "  ```html\n",
    "    <head>\n",
    "      <style>\n",
    "        body {\n",
    "          background-color: lightblue;\n",
    "        }\n",
    "      </style>\n",
    "    </head>\n",
    "  ```\n",
    "- 内联样式(Inline style)\n",
    "  ```html\n",
    "    <p style=\"color:blue;\">This is a heading</p>\n",
    "  ```\n",
    "  "
   ]
  },
  {
   "cell_type": "code",
   "execution_count": null,
   "id": "551a88f9",
   "metadata": {},
   "outputs": [
    {
     "data": {
      "text/html": [
       "\n",
       "/* This is a comment in CSS */\n",
       "<style>\n",
       "    .custom { color: green; font-size: 20px; }\n",
       "</style>\n",
       "\n",
       "\n",
       "<head>\n",
       "    /* This is a comment in html */\n",
       "    <div class=\"custom\">Styled Text</div>\n",
       "    <div class=\"custom\">Styled Demo</div>\n",
       "</head>\n",
       "\n",
       "<body>\n",
       "<div>\n",
       "    <h1>Title</h1>\n",
       "    <h1 class=\"custom\">Title</h1>\n",
       "    <p>This is a paragraph.</p>\n",
       "    <ul>\n",
       "        <li>List item 1</li>\n",
       "        <li>List item 2</li>\n",
       "    </ul>\n",
       "</div>\n",
       "</body>\n"
      ],
      "text/plain": [
       "<IPython.core.display.HTML object>"
      ]
     },
     "metadata": {},
     "output_type": "display_data"
    }
   ],
   "source": [
    "%%html\n",
    "\n",
    "/* This is a comment in CSS */\n",
    "<style>\n",
    "    .custom { color: green; font-size: 20px; }\n",
    "</style>\n",
    "\n",
    "\n",
    "/* This is a comment in html */\n",
    "<head>\n",
    "    <div class=\"custom\">Styled Text</div>\n",
    "    <div class=\"custom\">Styled Demo</div>\n",
    "</head>\n",
    "\n",
    "\n",
    "<body>\n",
    "    <div>\n",
    "        <h1>Title</h1>\n",
    "        <h1 class=\"custom\">Title</h1>\n",
    "        <p>This is a paragraph.</p>\n",
    "        <ul>\n",
    "            <li>List item 1</li>\n",
    "            <li>List item 2</li>\n",
    "        </ul>\n",
    "    </div>\n",
    "</body>"
   ]
  },
  {
   "cell_type": "markdown",
   "id": "f0c1e4de",
   "metadata": {},
   "source": [
    "### 2.2.3. <a id='toc2_2_3_'></a>[菜单栏](#toc0_)"
   ]
  },
  {
   "cell_type": "code",
   "execution_count": 94,
   "id": "5bbbd62f",
   "metadata": {},
   "outputs": [
    {
     "data": {
      "text/html": [
       "\n",
       "<style>\n",
       "  ul {\n",
       "      list-style-type: none;\n",
       "      margin: 0;\n",
       "      padding: 0;\n",
       "      display: inline;\n",
       "  }\n",
       "</style>\n",
       "\n",
       "\n",
       "<ul>\n",
       "  <li><a href=\"#home\">主页</a></li>\n",
       "  <li><a href=\"#news\">新闻</a></li>\n",
       "  <li><a href=\"#contact\">联系</a></li>\n",
       "  <li><a href=\"#about\">关于</a></li>\n",
       "</ul>\n"
      ],
      "text/plain": [
       "<IPython.core.display.HTML object>"
      ]
     },
     "metadata": {},
     "output_type": "display_data"
    }
   ],
   "source": [
    "%%html \n",
    "\n",
    "<style>\n",
    "  ul {\n",
    "      list-style-type: none;\n",
    "      margin: 0;\n",
    "      padding: 0;\n",
    "      display: inline;\n",
    "  }\n",
    "</style>\n",
    "\n",
    "\n",
    "<ul>\n",
    "  <li><a href=\"#home\">主页</a></li>\n",
    "  <li><a href=\"#news\">新闻</a></li>\n",
    "  <li><a href=\"#contact\">联系</a></li>\n",
    "  <li><a href=\"#about\">关于</a></li>\n",
    "</ul>"
   ]
  },
  {
   "cell_type": "markdown",
   "id": "fb036fd3",
   "metadata": {},
   "source": [
    "### 2.2.4. <a id='toc2_2_4_'></a>[布局](#toc0_)"
   ]
  },
  {
   "cell_type": "code",
   "execution_count": 96,
   "id": "e7122f57",
   "metadata": {},
   "outputs": [
    {
     "data": {
      "text/html": [
       "\n",
       "<style>\n",
       "    .paper {\n",
       "        display: flex;\n",
       "    }\n",
       "\n",
       "    .paper_image {\n",
       "        width: 30%;\n",
       "        height: 200px;\n",
       "        background-color: #f0f0f0;\n",
       "        text-align: center;\n",
       "        line-height: 200px;\n",
       "        font-size: 20px;\n",
       "    }\n",
       "</style>\n",
       "\n",
       "\n",
       "<body>\n",
       "    <div class=\"paper\">\n",
       "        <img class=\"paper_image\" src=\"https://ars.els-cdn.com/content/image/1-s2.0-S004896972403256X-ga1.jpg\">\n",
       "        <p>Paper</p>\n",
       "        <p>Yu Zhao</p>\n",
       "    </div>\n",
       "</body>\n"
      ],
      "text/plain": [
       "<IPython.core.display.HTML object>"
      ]
     },
     "metadata": {},
     "output_type": "display_data"
    }
   ],
   "source": [
    "%%html \n",
    "\n",
    "<style>\n",
    "    .paper {\n",
    "        display: flex;\n",
    "    }\n",
    "\n",
    "    .paper_image {\n",
    "        width: 30%;\n",
    "        height: 200px;\n",
    "        background-color: #f0f0f0;\n",
    "        text-align: center;\n",
    "        line-height: 200px;\n",
    "        font-size: 20px;\n",
    "    }\n",
    "</style>\n",
    "\n",
    "\n",
    "<body>\n",
    "    <div class=\"paper\">\n",
    "        <img class=\"paper_image\" src=\"https://ars.els-cdn.com/content/image/1-s2.0-S004896972403256X-ga1.jpg\">\n",
    "        <p>Paper</p>\n",
    "        <p>Yu Zhao</p>\n",
    "    </div>\n",
    "</body>"
   ]
  },
  {
   "cell_type": "markdown",
   "id": "c462dd78",
   "metadata": {},
   "source": [
    "### 2.2.5. <a id='toc2_2_5_'></a>[背景](#toc0_)"
   ]
  },
  {
   "cell_type": "markdown",
   "id": "108a8f36",
   "metadata": {},
   "source": [
    "CSS 属性定义背景效果:\n",
    "\n",
    "- background-color\n",
    "- background-image\n",
    "- background-repeat\n",
    "- background-attachment\n",
    "- background-position"
   ]
  },
  {
   "cell_type": "markdown",
   "id": "b986e17b",
   "metadata": {},
   "source": [
    "### 2.2.6. <a id='toc2_2_6_'></a>[文本](#toc0_)"
   ]
  },
  {
   "cell_type": "markdown",
   "id": "9f0db3db",
   "metadata": {},
   "source": [
    "|属性\t|描述|\n",
    "|---|---|\n",
    "|font\t|设置字体的大小、样式和粗细|\n",
    "|color\t|设置文本颜色|\n",
    "|direction\t|设置文本方向。|\n",
    "|letter-spacing\t|设置字符间距|\n",
    "|line-height\t|设置行高|\n",
    "|text-align\t|对齐元素中的文本|\n",
    "|text-decoration\t|向文本添加修饰|\n",
    "|text-indent\t|缩进元素中文本的首行|\n",
    "|text-shadow\t|设置文本阴影|\n",
    "|text-transform\t|控制元素中的字母|\n",
    "|unicode-bidi\t|设置或返回文本是否被重写 |\n",
    "|vertical-align\t|设置元素的垂直对齐|\n",
    "|white-space\t|设置元素中空白的处理方式|\n",
    "|word-spacing\t|设置字间距|"
   ]
  },
  {
   "cell_type": "markdown",
   "id": "a4ed32d4",
   "metadata": {},
   "source": [
    "### 2.2.7. <a id='toc2_2_7_'></a>[字体](#toc0_)"
   ]
  },
  {
   "cell_type": "markdown",
   "id": "485bd004",
   "metadata": {},
   "source": [
    "|Property\t|描述|\n",
    "|-|-|\n",
    "|font\t|在一个声明中设置所有的字体属性|\n",
    "|font-family\t|指定文本的字体系列|\n",
    "|font-size\t|指定文本的字体大小|\n",
    "|font-style\t|指定文本的字体样式|\n",
    "|font-variant\t|以小型大写字体或者正常字体显示文本。|\n",
    "|font-weight\t|指定字体的粗细。|"
   ]
  },
  {
   "cell_type": "markdown",
   "id": "0d6a1e87",
   "metadata": {},
   "source": [
    "serif和sans-serif字体之间的区别:\n",
    "\n",
    "![https://www.runoob.com/images/serif.gif](https://www.runoob.com/images/serif.gif)\n",
    "\n",
    "注意: 如果字体系列的名称超过一个字，它必须用引号，如Font Family：\"宋体\"；多个字体系列是用一个逗号分隔指明。"
   ]
  },
  {
   "cell_type": "code",
   "execution_count": 4,
   "id": "c041c83a",
   "metadata": {},
   "outputs": [
    {
     "data": {
      "text/html": [
       "<style>\n",
       "    p {font-family:\"Times New Roman\", Times, serif;}\n",
       "</style>\n",
       "\n",
       "<p>This is a paragraph with a different font.</p>\n"
      ],
      "text/plain": [
       "<IPython.core.display.HTML object>"
      ]
     },
     "metadata": {},
     "output_type": "display_data"
    }
   ],
   "source": [
    "%%html \n",
    "<style>\n",
    "    p {font-family:\"Times New Roman\", Times, serif;}\n",
    "</style>\n",
    "\n",
    "<p>This is a paragraph with a different font.</p>"
   ]
  },
  {
   "cell_type": "markdown",
   "id": "6fa77cea",
   "metadata": {},
   "source": [
    "### 2.2.8. <a id='toc2_2_8_'></a>[链接状态](#toc0_)"
   ]
  },
  {
   "cell_type": "markdown",
   "id": "cb35a41b",
   "metadata": {},
   "source": [
    "这四个链接状态是：\n",
    "- a:link - 正常，未访问过的链接\n",
    "- a:visited - 用户已访问过的链接\n",
    "- a:hover - 当用户鼠标放在链接上时\n",
    "- a:active - 链接被点击的那一刻"
   ]
  },
  {
   "cell_type": "code",
   "execution_count": 41,
   "id": "ee3f4c07",
   "metadata": {},
   "outputs": [
    {
     "data": {
      "text/html": [
       "<style>\n",
       "\n",
       "a:link {color: red;}\n",
       "a:visited {color: green;}\n",
       "a:hover {color: blue;}\n",
       "a:active {color: yellow;}\n",
       "\n",
       "</style>\n",
       "\n",
       "<a href=\"https://www.bing.com\">This is a link to www.bing.com </a>\n",
       "<br>\n",
       "<a href=\"https://www.google.com\">This is a link to www.google.com</a>\n",
       "<br>\n",
       "<a href=\"https://www.yahoo.com\">This is a link to www.yahoo.com</a>\n"
      ],
      "text/plain": [
       "<IPython.core.display.HTML object>"
      ]
     },
     "metadata": {},
     "output_type": "display_data"
    }
   ],
   "source": [
    "%%html\n",
    "<style>\n",
    "\n",
    "a:link {color: red;}\n",
    "a:visited {color: green;}\n",
    "a:hover {color: blue;}\n",
    "a:active {color: yellow;}\n",
    "\n",
    "</style>\n",
    "\n",
    "<a href=\"https://www.bing.com\">This is a link to www.bing.com </a>\n",
    "<br>\n",
    "<a href=\"https://www.google.com\">This is a link to www.google.com</a>\n",
    "<br>\n",
    "<a href=\"https://www.yahoo.com\">This is a link to www.yahoo.com</a>"
   ]
  },
  {
   "cell_type": "markdown",
   "id": "77e4f4d1",
   "metadata": {},
   "source": [
    "### 2.2.9. <a id='toc2_2_9_'></a>[列表](#toc0_)"
   ]
  },
  {
   "cell_type": "markdown",
   "id": "7ed22a34",
   "metadata": {},
   "source": [
    "在 HTML中，有两种类型的列表：\n",
    "\n",
    "- 无序列表 ul - 列表项标记用特殊图形（如小黑点、小方框等）\n",
    "- 有序列表 ol - 列表项的标记有数字或字母"
   ]
  },
  {
   "cell_type": "code",
   "execution_count": 5,
   "id": "8e6d5f7e",
   "metadata": {},
   "outputs": [
    {
     "data": {
      "text/html": [
       "<style>\n",
       "    ul.a {list-style-type: circle;}\n",
       "    ul.b {list-style-type: square;}\n",
       "\n",
       "    ol.c {list-style-type: upper-roman;}\n",
       "    ol.d {list-style-type: lower-alpha;}\n",
       "</style>\n",
       "\n",
       "<ul class=\"a\">Item 1</ul>\n",
       "<ul class=\"a\">Item 2</ul>\n",
       "<ul class=\"a\">Item 3</ul>\n"
      ],
      "text/plain": [
       "<IPython.core.display.HTML object>"
      ]
     },
     "metadata": {},
     "output_type": "display_data"
    }
   ],
   "source": [
    "%%html \n",
    "<style>\n",
    "    ul.a {list-style-type: circle;}\n",
    "    ul.b {list-style-type: square;}\n",
    "    \n",
    "    ol.c {list-style-type: upper-roman;}\n",
    "    ol.d {list-style-type: lower-alpha;}\n",
    "</style>\n",
    "\n",
    "<ul class=\"a\">Item 1</ul>\n",
    "<ul class=\"a\">Item 2</ul>\n",
    "<ul class=\"a\">Item 3</ul>"
   ]
  },
  {
   "cell_type": "markdown",
   "id": "0207e0e5",
   "metadata": {},
   "source": [
    "### 2.2.10. <a id='toc2_2_10_'></a>[transition](#toc0_)"
   ]
  },
  {
   "cell_type": "code",
   "execution_count": 7,
   "id": "79b90dd9",
   "metadata": {},
   "outputs": [
    {
     "data": {
      "text/html": [
       "<!DOCTYPE html> \n",
       "<html> \n",
       "\n",
       " <head> \n",
       "  <style type=\"text/css\"> \n",
       "   #testTransition { \n",
       "        width: 100px; \n",
       "        height: 20px; \n",
       "        background-color: blue; \n",
       "        /* 宽度属性过渡效果，过渡时长2s，延时0.2s开始执行 */  \n",
       "        transition:width 2s .2s;     \n",
       "        -moz-transition:width 2s .2s; /*兼容Firefox浏览器，详见注解说明 */ \n",
       "        -webkit-transition:width 2s .2s; /*兼容Safari浏览器 */ \n",
       "   } \n",
       "   #testTransition:hover{ \n",
       "        width: 200px; \n",
       "   } \n",
       "  </style> \n",
       "\n",
       " </head> \n",
       "\n",
       "\n",
       " <body> \n",
       "    <div id=\"testTransition\"></div> \n",
       " </body> \n",
       "\n",
       "\n",
       "</html>\n"
      ],
      "text/plain": [
       "<IPython.core.display.HTML object>"
      ]
     },
     "metadata": {},
     "output_type": "display_data"
    }
   ],
   "source": [
    "%%html\n",
    "<!DOCTYPE html> \n",
    "<html> \n",
    "\n",
    " <head> \n",
    "  <style type=\"text/css\"> \n",
    "   #testTransition { \n",
    "        width: 100px; \n",
    "        height: 20px; \n",
    "        background-color: blue; \n",
    "        /* 宽度属性过渡效果，过渡时长2s，延时0.2s开始执行 */  \n",
    "        transition:width 2s .2s;     \n",
    "        -moz-transition:width 2s .2s; /*兼容Firefox浏览器，详见注解说明 */ \n",
    "        -webkit-transition:width 2s .2s; /*兼容Safari浏览器 */ \n",
    "   } \n",
    "   #testTransition:hover{ \n",
    "        width: 200px; \n",
    "   } \n",
    "  </style> \n",
    "   \n",
    " </head> \n",
    "\n",
    "\n",
    " <body> \n",
    "    <div id=\"testTransition\"></div> \n",
    " </body> \n",
    "\n",
    "\n",
    "</html>"
   ]
  },
  {
   "cell_type": "markdown",
   "id": "d110470e",
   "metadata": {},
   "source": [
    "### 2.2.11. <a id='toc2_2_11_'></a>[transform](#toc0_)"
   ]
  },
  {
   "cell_type": "code",
   "execution_count": null,
   "id": "ef4702e7",
   "metadata": {},
   "outputs": [
    {
     "data": {
      "text/html": [
       "<style>\n",
       ".div1{ \n",
       "    width: 200px; \n",
       "    height: 80px; \n",
       "    background-color: red; \n",
       "    transform: translate(50px,80px); \n",
       "} \n",
       ".div2{ \n",
       "    … \n",
       "    transform: rotate(45deg); \n",
       "} \n",
       ".div3{ \n",
       "    … \n",
       "    transform: scale(2); \n",
       "} \n",
       "</style>\n",
       "\n",
       "\n",
       "<div class=\"div1\">图形变换</div> \n",
       "<div class=\"div2\">图形旋转</div> \n",
       "<div class=\"div3\">图形缩放</div> \n"
      ],
      "text/plain": [
       "<IPython.core.display.HTML object>"
      ]
     },
     "metadata": {},
     "output_type": "display_data"
    }
   ],
   "source": [
    "%%html \n",
    "<style>\n",
    "    .div1{ \n",
    "        width: 200px; \n",
    "        height: 80px; \n",
    "        background-color: red; \n",
    "        transform: translate(50px,80px); \n",
    "    } \n",
    "    .div2{ \n",
    "        … \n",
    "        transform: rotate(45deg); \n",
    "    } \n",
    "    .div3{ \n",
    "        … \n",
    "        transform: scale(2); \n",
    "    } \n",
    "</style>\n",
    "\n",
    "\n",
    "<div class=\"div1\">图形变换</div> \n",
    "<div class=\"div2\">图形旋转</div> \n",
    "<div class=\"div3\">图形缩放</div> "
   ]
  },
  {
   "cell_type": "markdown",
   "id": "78825e92",
   "metadata": {},
   "source": [
    "### 2.2.12. <a id='toc2_2_12_'></a>[弹性布局](#toc0_)"
   ]
  },
  {
   "cell_type": "markdown",
   "id": "db7c8219",
   "metadata": {},
   "source": [
    "弹性布局又称Flex 布局，是由W3C于2009年推出的一种布局方式，可以简便、完整、响应式地实现各种页面布局，而且已经得到所有主流浏览器的支持，所以可以放心使用。"
   ]
  },
  {
   "cell_type": "markdown",
   "id": "f128a576",
   "metadata": {},
   "source": [
    "简单演示：在添加了display:flex之后，item都横向排列。"
   ]
  },
  {
   "cell_type": "code",
   "execution_count": null,
   "id": "eb2e5a71",
   "metadata": {},
   "outputs": [
    {
     "data": {
      "text/html": [
       "<style>\n",
       "    .box {\n",
       "        display:flex;\n",
       "        background-color:yellow;\n",
       "        width:200px;\n",
       "        height:200px;\n",
       "\n",
       "        flex-direction:row;                   /*主轴方向， 默认为row*/\n",
       "        justify-content:space-around;         /*主轴方向对齐方式：居中*/\n",
       "        align-items:center;\n",
       "    }\n",
       "    .box div {\n",
       "        width:20px;\n",
       "        height:20px;\n",
       "        background-color:blue;\n",
       "        color:white;\n",
       "    }\n",
       "</style>\n",
       "\n",
       "<body>\n",
       "    <div class=\"box\">\n",
       "        <div class=\"item1\">1</div>\n",
       "        <div class=\"item2\">2</div>\n",
       "        <div class=\"item3\">3</div>\n",
       "        <div class=\"item4\">4</div>\n",
       "    </div>\n",
       "</body>\n"
      ],
      "text/plain": [
       "<IPython.core.display.HTML object>"
      ]
     },
     "metadata": {},
     "output_type": "display_data"
    }
   ],
   "source": [
    "%%html\n",
    "<style>\n",
    "    .box {\n",
    "        display:flex;\n",
    "        background-color:yellow;\n",
    "        width:200px;\n",
    "        height:200px;\n",
    "\n",
    "        flex-direction:row;                   /*主轴方向， 默认为row*/\n",
    "        justify-content:space-around;         /*主轴方向对齐方式：等距*/\n",
    "        align-items:center;                   /*垂直主轴方向对齐方式：居中*/\n",
    "    }\n",
    "    .box div {\n",
    "        width:20px;\n",
    "        height:20px;\n",
    "        background-color:blue;\n",
    "        color:white;\n",
    "    }\n",
    "</style>\n",
    "\n",
    "<body>\n",
    "    <div class=\"box\">\n",
    "        <div class=\"item1\">1</div>\n",
    "        <div class=\"item2\">2</div>\n",
    "        <div class=\"item3\">3</div>\n",
    "        <div class=\"item4\">4</div>\n",
    "    </div>\n",
    "</body>"
   ]
  },
  {
   "cell_type": "markdown",
   "id": "e6bd5810",
   "metadata": {},
   "source": [
    "## 2.3. <a id='toc2_3_'></a>[JavaScript](#toc0_)\n"
   ]
  },
  {
   "cell_type": "markdown",
   "id": "c52ccd2a",
   "metadata": {},
   "source": [
    "- ⚙️ 它是网页的大脑\n",
    "\n",
    "- 是网页的编程语言，控制行为和逻辑\n",
    "\n",
    "- 可以操作 HTML/CSS，实现交互（点击、拖动、弹窗等）\n",
    "\n",
    "- 没有 JS，网页是“静止”的\n",
    "\n",
    "JavaScript 是 web 开发人员必须学习的 3 门语言中的一门：\n",
    "\n",
    "- HTML 定义了网页的内容\n",
    "- CSS 描述了网页的布局\n",
    "- JavaScript 控制了网页的行为"
   ]
  },
  {
   "cell_type": "markdown",
   "id": "a406c54e",
   "metadata": {},
   "source": [
    "### 2.3.1. <a id='toc2_3_1_'></a>[JS嵌入位置](#toc0_)"
   ]
  },
  {
   "cell_type": "markdown",
   "id": "e99733d7",
   "metadata": {},
   "source": [
    "[详细教程：https://www.runoob.com/js/js-intro.html](https://www.runoob.com/js/js-intro.html)"
   ]
  },
  {
   "cell_type": "code",
   "execution_count": 46,
   "id": "f29b9b02",
   "metadata": {},
   "outputs": [
    {
     "data": {
      "text/html": [
       "<script>\n",
       "\tfunction displayDate(){\n",
       "\t\tdocument.getElementById(\"demo\").innerHTML=Date();\n",
       "\t}\n",
       "</script>\n",
       "\n",
       "\n",
       "<body>\n",
       "\n",
       "\t<h1>我的第一个 JavaScript 程序</h1>\n",
       "\t<p id=\"demo\">这是一个段落</p>\n",
       "\n",
       "\t<button type=\"button\" onclick=\"displayDate()\">显示日期</button>\n",
       "\n",
       "</body>\n"
      ],
      "text/plain": [
       "<IPython.core.display.HTML object>"
      ]
     },
     "metadata": {},
     "output_type": "display_data"
    }
   ],
   "source": [
    "%%html \n",
    "<script>\n",
    "\tfunction displayDate(){\n",
    "\t\tdocument.getElementById(\"demo\").innerHTML=Date();\n",
    "\t}\n",
    "</script>\n",
    "\n",
    "\n",
    "<body>\n",
    "\n",
    "\t<h1>我的第一个 JavaScript 程序</h1>\n",
    "\t<p id=\"demo\">这是一个段落</p>\n",
    "\n",
    "\t<button type=\"button\" onclick=\"displayDate()\">显示日期</button>\n",
    "\n",
    "</body>"
   ]
  },
  {
   "cell_type": "markdown",
   "id": "bf30680b",
   "metadata": {},
   "source": [
    "### 2.3.2. <a id='toc2_3_2_'></a>[变量](#toc0_)"
   ]
  },
  {
   "cell_type": "markdown",
   "id": "fc703cc1",
   "metadata": {},
   "source": [
    "#### 2.3.2.1. <a id='toc2_3_2_1_'></a>[声名变量](#toc0_)"
   ]
  },
  {
   "cell_type": "markdown",
   "id": "49576af0",
   "metadata": {},
   "source": [
    "数字、字母和下划线。"
   ]
  },
  {
   "cell_type": "markdown",
   "id": "7ccaba3e",
   "metadata": {},
   "source": [
    "```java\n",
    "global_var = 1; // 变量声明，局部变量\n",
    "var local_var = 2; // 变量赋值，全局变量\n",
    "```"
   ]
  },
  {
   "cell_type": "markdown",
   "id": "b3e592ba",
   "metadata": {},
   "source": [
    "#### 2.3.2.2. <a id='toc2_3_2_2_'></a>[变量类型](#toc0_)"
   ]
  },
  {
   "cell_type": "markdown",
   "id": "3fbce638",
   "metadata": {},
   "source": [
    "|变量类型|描述|\n",
    "|---|---|\n",
    "|Undefined|变量未定义|\n",
    "|Null|变量为空|\n",
    "|Boolean|布尔值，true 或 false|\n",
    "|Number|数字，整数或浮点数|\n",
    "|String|字符串，文本|\n",
    "|Object|对象，包含属性和方法|"
   ]
  },
  {
   "cell_type": "markdown",
   "id": "9930e77a",
   "metadata": {},
   "source": [
    "```java\n",
    "var aa  // 变量声明但未赋值，值为undefined\n",
    "var bb = null // 变量声明并赋值为null\n",
    "var a = 1 // 变量声明并赋值为数字\n",
    "var b = \"string\" // 变量声明并赋值为字符串\n",
    "var c = true // 变量声明并赋值为布尔值\n",
    "```"
   ]
  },
  {
   "cell_type": "markdown",
   "id": "10ba237f",
   "metadata": {},
   "source": [
    "### 2.3.3. <a id='toc2_3_3_'></a>[运算符](#toc0_)"
   ]
  },
  {
   "cell_type": "markdown",
   "id": "ca4d940e",
   "metadata": {},
   "source": [
    "```java\n",
    "算数运算符：+、-、*、/、%、++、--\n",
    "比较运算符：==、===、!=、!==、>、<、>=、<=\n",
    "逻辑运算符：&&、||、!、&、|、^\n",
    "```"
   ]
  },
  {
   "cell_type": "markdown",
   "id": "8e4beeca",
   "metadata": {},
   "source": [
    "### 2.3.4. <a id='toc2_3_4_'></a>[流程控制](#toc0_)"
   ]
  },
  {
   "cell_type": "markdown",
   "id": "080f2701",
   "metadata": {},
   "source": [
    "#### 2.3.4.1. <a id='toc2_3_4_1_'></a>[条件](#toc0_)"
   ]
  },
  {
   "cell_type": "markdown",
   "id": "38159a2d",
   "metadata": {},
   "source": [
    "```java\n",
    "\n",
    "// if\n",
    "if (true) {\n",
    "    document.write(\"true<br>\");\n",
    "    console.log(\"true<br>\");\n",
    "}\n",
    "\n",
    "\n",
    "// if else \n",
    "if (true) {\n",
    "    document.write(\"true<br>\");\n",
    "    console.log(\"true<br>\");\n",
    "} else {\n",
    "    document.write(\"false<br>\");\n",
    "    console.log(\"false<br>\");\n",
    "}\n",
    "\n",
    "// if else if\n",
    "if (true) {\n",
    "    document.write(\"true<br>\");\n",
    "    console.log(\"true<br>\");\n",
    "} else if (false) {\n",
    "    document.write(\"false<br>\");\n",
    "    console.log(\"false<br>\");\n",
    "} else {\n",
    "    document.write(\"else<br>\");\n",
    "    console.log(\"else<br>\");\n",
    "}\n",
    "```"
   ]
  },
  {
   "cell_type": "markdown",
   "id": "09999599",
   "metadata": {},
   "source": [
    "#### 2.3.4.2. <a id='toc2_3_4_2_'></a>[循环](#toc0_)"
   ]
  },
  {
   "cell_type": "markdown",
   "id": "7d74571e",
   "metadata": {},
   "source": [
    "```java\n",
    "for (var i = 0; i < 5; i++) {\n",
    "    document.write(i + \"<br>\");\n",
    "    console.log(i + \"<br>\");\n",
    "}\n",
    "```"
   ]
  },
  {
   "cell_type": "markdown",
   "id": "35519cac",
   "metadata": {},
   "source": [
    "#### 2.3.4.3. <a id='toc2_3_4_3_'></a>[中断和继续](#toc0_)"
   ]
  },
  {
   "cell_type": "markdown",
   "id": "9e350514",
   "metadata": {},
   "source": [
    "```java\n",
    "break\n",
    "continue\n",
    "```"
   ]
  },
  {
   "cell_type": "markdown",
   "id": "9a69c229",
   "metadata": {},
   "source": [
    "### 2.3.5. <a id='toc2_3_5_'></a>[函数](#toc0_)"
   ]
  },
  {
   "cell_type": "markdown",
   "id": "6d800600",
   "metadata": {},
   "source": [
    "```java\n",
    "function myFunction() {\n",
    "    var x = document.getElementById(\"myText\").value;\n",
    "    document.getElementById(\"demo\").innerHTML = x;\n",
    "}\n",
    "\n",
    "// 事件处理函数\n",
    "myFunction = function() \n",
    "```"
   ]
  },
  {
   "cell_type": "markdown",
   "id": "d160260d",
   "metadata": {},
   "source": [
    "## 2.4. <a id='toc2_4_'></a>[前端框架](#toc0_)"
   ]
  },
  {
   "cell_type": "markdown",
   "id": "93b9cfe5",
   "metadata": {},
   "source": [
    "### 2.4.1. <a id='toc2_4_1_'></a>[Vue](#toc0_)"
   ]
  },
  {
   "cell_type": "markdown",
   "id": "ee16a59a",
   "metadata": {},
   "source": [
    "Vue (发音为 /vjuː/，类似 view) 是一款用于构建用户界面的 JavaScript 框架。它基于标准 HTML、CSS 和 JavaScript 构建，并提供了一套声明式的、组件化的编程模型，帮助你高效地开发用户界面。无论是简单还是复杂的界面，Vue 都可以胜任。\n",
    "\n",
    "[官方教程：https://cn.vuejs.org/guide/introduction](https://cn.vuejs.org/guide/introduction)\n",
    "\n",
    "\n",
    "- 🧩 一个前端框架，用来优雅地写 JS + HTML + 数据逻辑\n",
    "\n",
    "- 帮你构建 单页面应用（SPA）\n",
    "\n",
    "- 数据驱动视图变化（响应式编程）\n",
    "\n",
    "- 使用组件开发，每一块独立、复用方便"
   ]
  },
  {
   "cell_type": "markdown",
   "id": "13f82fcd",
   "metadata": {},
   "source": [
    "### 2.4.2. <a id='toc2_4_2_'></a>[React](#toc0_)"
   ]
  },
  {
   "cell_type": "markdown",
   "id": "ceccd129",
   "metadata": {},
   "source": [
    "- ⚛️ 也是前端框架，由 Facebook 推出\n",
    "\n",
    "- 用 JSX 语法把 HTML 和 JS 写在一起\n",
    "\n",
    "- 构建大型复杂的 Web 应用非常强大\n",
    "\n",
    "- 状态变化自动触发 UI 更新"
   ]
  },
  {
   "cell_type": "markdown",
   "id": "517ee881",
   "metadata": {},
   "source": [
    "# 3. <a id='toc3_'></a>[后端](#toc0_)"
   ]
  },
  {
   "cell_type": "markdown",
   "id": "75a8483a",
   "metadata": {},
   "source": [
    "## 3.1. <a id='toc3_1_'></a>[Django](#toc0_)\n",
    "\n",
    "## 3.2. <a id='toc3_2_'></a>[Flask](#toc0_)"
   ]
  },
  {
   "cell_type": "markdown",
   "id": "9ebcc29f",
   "metadata": {},
   "source": [
    "# 4. <a id='toc4_'></a>[数据库](#toc0_)"
   ]
  },
  {
   "cell_type": "markdown",
   "id": "1bb79687",
   "metadata": {},
   "source": [
    "## 4.1. <a id='toc4_1_'></a>[JSON](#toc0_)\n",
    "\n",
    "## 4.2. <a id='toc4_2_'></a>[SQLite](#toc0_)\n"
   ]
  },
  {
   "cell_type": "markdown",
   "id": "9efeca00",
   "metadata": {},
   "source": [
    "\n",
    "# 5. <a id='toc5_'></a>[部署](#toc0_)"
   ]
  },
  {
   "cell_type": "markdown",
   "id": "4e07619c",
   "metadata": {},
   "source": [
    "## 5.1. <a id='toc5_1_'></a>[静态网页部署](#toc0_)"
   ]
  },
  {
   "cell_type": "markdown",
   "id": "0744bc87",
   "metadata": {},
   "source": [
    "静态网页的部署，只是展示HTML网页，所有不需要运行后端程序。"
   ]
  },
  {
   "cell_type": "markdown",
   "id": "0f41ea92",
   "metadata": {},
   "source": [
    "## 5.2. <a id='toc5_2_'></a>[动态网页部署](#toc0_)"
   ]
  },
  {
   "cell_type": "markdown",
   "id": "a5a67660",
   "metadata": {},
   "source": [
    "需要运行调用后端程序，所以需要VPS服务器来运行后端程序以相应前端的调用。"
   ]
  },
  {
   "cell_type": "markdown",
   "id": "19eee954",
   "metadata": {},
   "source": [
    "# 6. <a id='toc6_'></a>[网站生成器](#toc0_)"
   ]
  },
  {
   "cell_type": "markdown",
   "id": "5e699618",
   "metadata": {},
   "source": [
    "## 6.1. <a id='toc6_1_'></a>[静态网站生成器](#toc0_)"
   ]
  },
  {
   "cell_type": "markdown",
   "id": "6556d771",
   "metadata": {},
   "source": [
    "Jekyll 是一个「静态网站生成器」，用 Ruby 写的，最早由 GitHub 创始人开发，适合用来做博客或文档网站。\n",
    "\n",
    "Hugo 是另一个「静态网站生成器」，但它是用 Go 语言 写的，以 构建速度极快 而闻名。\n",
    "\n",
    "Publii 是一个图形界面的静态网站生成器，免费的桌面应用，用来构建和管理 静态网站，尤其适合做 博客 和 内容展示类网站。\n",
    "\n",
    "🧩 对比\n",
    "\n",
    "|比较项 | Publii | Jekyll | Hugo|\n",
    "|-|-|-|-|\n",
    "|类型 | 桌面 GUI 工具 | 命令行工具 | 命令行工具|\n",
    "|使用难度 | ⭐⭐（图形界面，零代码） | ⭐⭐⭐（需代码） | ⭐⭐（配置稍复杂）|\n",
    "|技术基础 | 内置 Node.js/HTML/CSS | Ruby + Liquid 模板 | Go + Go 模板|\n",
    "|是否适合小白 | ✅ 非常适合 | ❌ 不太适合 | ⚠️ 需要基础|\n",
    "|主题 | 丰富、可视化修改 | 多，但需会改代码 | 多，修改稍复杂|"
   ]
  },
  {
   "cell_type": "markdown",
   "id": "2cccd4d3",
   "metadata": {},
   "source": [
    "# 7. <a id='toc7_'></a>[示例技术栈推荐](#toc0_)"
   ]
  },
  {
   "cell_type": "markdown",
   "id": "f274b2ec",
   "metadata": {},
   "source": [
    "- 简单的展示型网站（无需交互）\n",
    "\n",
    "  - 技术栈：Jekyll / Hugo + GitHub Pages\n",
    "\n",
    "  - 优点：快速、简洁、易维护、免费托管\n",
    "\n",
    "- 具有交互功能的实验室网站\n",
    "\n",
    "  - 技术栈：Vue.js / React + Node.js + MongoDB / MySQL\n",
    "\n",
    "  - 优点：灵活、可扩展，适合动态内容和复杂功能\n",
    "\n",
    "- 易于管理和内容更新的实验室博客\n",
    "\n",
    "  - 技术栈：WordPress\n",
    "\n",
    "  - 优点：用户友好，适合频繁更新内容\n",
    "\n",
    "- 前端（html+css+js）+后端（FastAPI）\n",
    "  - 前端模板：如，Bootstrap等"
   ]
  },
  {
   "cell_type": "markdown",
   "id": "00365891",
   "metadata": {},
   "source": [
    "# 8. <a id='toc8_'></a>[案例](#toc0_)"
   ]
  },
  {
   "cell_type": "markdown",
   "id": "59961ba4",
   "metadata": {},
   "source": [
    "## 8.1. <a id='toc8_1_'></a>[个人Blog](#toc0_)"
   ]
  },
  {
   "cell_type": "markdown",
   "id": "ac0d9124",
   "metadata": {},
   "source": [
    "基于Publii和Github pages的静态网站。\n",
    "\n",
    "🧰 工具栈概览\n",
    "\n",
    "|名称 | 作用 | 特点|\n",
    "|-|-|-|\n",
    "|Publii | 内容创作 + 生成静态网页 | 无需代码、图形界面|\n",
    "|GitHub Pages | 网站托管平台 | 免费、快速、全球 CDN|\n",
    "|下载功能 | 提供资源下载（PDF、数据集等） | 文件放在静态文件夹中即可|"
   ]
  },
  {
   "cell_type": "markdown",
   "id": "75bd3609",
   "metadata": {},
   "source": [
    "## 8.2. <a id='toc8_2_'></a>[实验室网站](#toc0_)"
   ]
  }
 ],
 "metadata": {
  "kernelspec": {
   "display_name": "deeplearning",
   "language": "python",
   "name": "python3"
  },
  "language_info": {
   "codemirror_mode": {
    "name": "ipython",
    "version": 3
   },
   "file_extension": ".py",
   "mimetype": "text/x-python",
   "name": "python",
   "nbconvert_exporter": "python",
   "pygments_lexer": "ipython3",
   "version": "3.11.11"
  }
 },
 "nbformat": 4,
 "nbformat_minor": 5
}
