{
 "cells": [
  {
   "cell_type": "markdown",
   "metadata": {},
   "source": [
    "**Table of contents**<a id='toc0_'></a>    \n",
    "- 1. [基础知识](#toc1_)    \n",
    "  - 1.1. [执行方式](#toc1_1_)    \n",
    "  - 1.2. [bash多条命令顺序执行](#toc1_2_)    \n",
    "  - 1.3. [管道符](#toc1_3_)    \n",
    "  - 1.4. [bash的标准输入和输出](#toc1_4_)    \n",
    "  - 1.5. [bash接受键盘输入](#toc1_5_)    \n",
    "  - 1.6. [bash输出](#toc1_6_)    \n",
    "  - 1.7. [bash的输入重定向：改键盘输入方式为从文件中读取输入](#toc1_7_)    \n",
    "  - 1.8. [bash的输出重定向：把命令的输出结果由显示器改为文件中](#toc1_8_)    \n",
    "  - 1.9. [正则表达式](#toc1_9_)    \n",
    "    - 1.9.1. [基础正则表达式](#toc1_9_1_)    \n",
    "    - 1.9.2. [扩展正则表达式](#toc1_9_2_)    \n",
    "- 2. [Bash语法](#toc2_)    \n",
    "  - 2.1. [数据类型](#toc2_1_)    \n",
    "  - 2.2. [变量](#toc2_2_)    \n",
    "    - 2.2.1. [命名](#toc2_2_1_)    \n",
    "    - 2.2.2. [自定义变量](#toc2_2_2_)    \n",
    "    - 2.2.3. [环境变量](#toc2_2_3_)    \n",
    "    - 2.2.4. [环境变量配置文件](#toc2_2_4_)    \n",
    "    - 2.2.5. [位置参数变量](#toc2_2_5_)    \n",
    "  - 2.3. [bash的运算](#toc2_3_)    \n",
    "  - 2.4. [控制流程](#toc2_4_)    \n",
    "    - 2.4.1. [bash条件判断](#toc2_4_1_)    \n",
    "    - 2.4.2. [bash条件循环](#toc2_4_2_)    \n",
    "  - 2.5. [函数](#toc2_5_)    \n",
    "  - 2.6. [grep](#toc2_6_)    \n",
    "  - 2.7. [sed](#toc2_7_)    \n",
    "  - 2.8. [awk](#toc2_8_)    \n",
    "- 3. [Tips](#toc3_)    \n",
    "  - 3.1. [配置源](#toc3_1_)    \n",
    "  - 3.2. [用户管理](#toc3_2_)    \n",
    "    - 3.2.1. [添加新的用户账号](#toc3_2_1_)    \n",
    "    - 3.2.2. [用户密码管理](#toc3_2_2_)    \n",
    "    - 3.2.3. [修改账号](#toc3_2_3_)    \n",
    "    - 3.2.4. [修改用户密码状态：chage](#toc3_2_4_)    \n",
    "    - 3.2.5. [删除用户](#toc3_2_5_)    \n",
    "    - 3.2.6. [查看用户 ID 和用户所在的组的 ID：id](#toc3_2_6_)    \n",
    "    - 3.2.7. [用户切换命令：su](#toc3_2_7_)    \n",
    "    - 3.2.8. [who 命令可以查看当前有多少用户正在登录。](#toc3_2_8_)    \n",
    "    - 3.2.9. [w 命令可以查看更详细的登录用户信息。](#toc3_2_9_)    \n",
    "  - 3.3. [用户组管理](#toc3_3_)    \n",
    "    - 3.3.1. [修改用户组](#toc3_3_1_)    \n",
    "    - 3.3.2. [删除用户组 groupdel 组名](#toc3_3_2_)    \n",
    "    - 3.3.3. [把用户加入组或从组中删除 gpasswd [选项] 组名  ](#toc3_3_3_)    \n",
    "  - 3.4. [登录后提示信息](#toc3_4_)    \n",
    "  - 3.5. [快捷键](#toc3_5_)    \n",
    "  - 3.6. [截取字符串](#toc3_6_)    \n",
    "    - 3.6.1. [利用cut](#toc3_6_1_)    \n",
    "    - 3.6.2. [利用echo ${variable#content}](#toc3_6_2_)    \n",
    "  - 3.7. [后台运行](#toc3_7_)    \n",
    "  - 3.8. [管理进程](#toc3_8_)    \n",
    "  - 3.9. [并行运行](#toc3_9_)    \n",
    "  - 3.10. [发送消息](#toc3_10_)    \n",
    "  - 3.11. [tar使用](#toc3_11_)    \n",
    "  - 3.12. [用户空间管理](#toc3_12_)    \n",
    "  - 3.13. [ssh和sftp](#toc3_13_)    \n",
    "  - 3.14. [用户资源管理](#toc3_14_)    \n",
    "  - 3.15. [防火墙开端口](#toc3_15_)    \n",
    "  - 3.16. [安装xrdp](#toc3_16_)    \n",
    "  - 3.17. [添加磁盘后更新磁盘文件（无需重启电脑）](#toc3_17_)    \n",
    "\n",
    "<!-- vscode-jupyter-toc-config\n",
    "\tnumbering=true\n",
    "\tanchor=true\n",
    "\tflat=false\n",
    "\tminLevel=1\n",
    "\tmaxLevel=6\n",
    "\t/vscode-jupyter-toc-config -->\n",
    "<!-- THIS CELL WILL BE REPLACED ON TOC UPDATE. DO NOT WRITE YOUR TEXT IN THIS CELL -->"
   ]
  },
  {
   "cell_type": "markdown",
   "metadata": {},
   "source": [
    "# 1. <a id='toc1_'></a>[基础知识](#toc0_)\n",
    "## 1.1. <a id='toc1_1_'></a>[执行方式](#toc0_)\n",
    "```shell\n",
    "vim sample.sh\n",
    "#!/bin/sh\n",
    "echo 'Hellow world!'\n",
    "\n",
    "# 方式一（文件开头插入执行bash命令的位置）\n",
    "chmod 755 sample.sh\n",
    "./sample.sh\n",
    "\n",
    "# 方式二（不需要制定执行bash命令的位置）\n",
    "bash sample.sh\n",
    "sh sample.sh\n",
    "```\n",
    "## 1.2. <a id='toc1_2_'></a>[bash多条命令顺序执行](#toc0_)\n",
    "    方式一：\n",
    "    ls -a ; cd /etc ; date # 分号分割不同命令，之间无任何逻辑联系\n",
    "    方式二：\n",
    "    ls -a && cd /etc # 前一个命令正确执行后才执行第二个命令\n",
    "    方式三：\n",
    "    ls -a || cd /etc # 当前一个命令执行错误时才执行第二个命令\n",
    "## 1.3. <a id='toc1_3_'></a>[管道符](#toc0_)\n",
    "    命令一 | 命令二 | 命令三  把命令一的结果作为命令二的执行条件，再把命令二的结果作为命令三的执行条件。\n",
    "\n",
    "## 1.4. <a id='toc1_4_'></a>[bash的标准输入和输出](#toc0_)\n",
    "    键盘 /dev/stdin 0 标准输入\n",
    "    显示器 /dev/stdou 1 标准输出\n",
    "    显示器 /dev/stderr 2 标准错误输出\n",
    "## 1.5. <a id='toc1_5_'></a>[bash接受键盘输入](#toc0_)\n",
    "    Read 【选项】 【变量名】\n",
    "    -p 在等待输入时显示的提示信息\n",
    "    -t 等待时间\n",
    "    -n 只接受指定的字符数\n",
    "    -s 隐藏输入数据，用于机密\n",
    "    变量名可以自定义，默认REPLY\n",
    "实例：\n",
    "```shell\n",
    "read -s 30 -p \"please entry a number:\" age\n",
    "```\n",
    "## 1.6. <a id='toc1_6_'></a>[bash输出](#toc0_)\n",
    "```shell\n",
    "echo \"Hellow World!\"\n",
    "print \"Hellow World!\" # 自动添加/n\n",
    "printf \"Hellow World!\\n\" # 默认末尾不会添加\\n\n",
    "```\n",
    "## 1.7. <a id='toc1_7_'></a>[bash的输入重定向：改键盘输入方式为从文件中读取输入](#toc0_)\n",
    "    command < inputfile\n",
    "    command << inputfile\n",
    "## 1.8. <a id='toc1_8_'></a>[bash的输出重定向：把命令的输出结果由显示器改为文件中](#toc0_)\n",
    "    命令 > 文件 覆盖方式，只能保存命令执行==正确==后的结果。\n",
    "    命令 >> 文件 追加方式，只能保存命令执行==正确==后的结果。\n",
    "    命令 2> 文件 覆盖方式，保存命令执行==错误==的结果。\n",
    "    命令 2>> 文件 追加方式，保存命令执行==错误==的结果。\n",
    "    命令 >/>> 文件 2>&1 覆盖/追加方式，保存命令执行==正确/错误==结果到同一个文件中。==&>==\n",
    "    命令 >> 文件一 2>>文件二 追加方式，保存命令执行==正确/错误==结果到同一个文件中。\n",
    "## 1.9. <a id='toc1_9_'></a>[正则表达式](#toc0_)\n",
    "### 1.9.1. <a id='toc1_9_1_'></a>[基础正则表达式](#toc0_)\n",
    "    *表示星号前一个字符重复0次或无数次。\n",
    "    .匹配除了换行符以外的任意一个字符。\n",
    "    ^匹配行。如^hellow，匹配段落以hellow开头的记录。\n",
    "    $匹配行尾。如hellow$匹配hellow结尾的记录。\n",
    "    ^$表示匹配空白行。Grep –V ”^$” test.txt 表示取反，即查找除空白行以外行。\n",
    "    \\转义字符，取消其后符号的特殊意义。.$去除空行，\\.$表示所有以.结尾的行。\n",
    "    []中括号中的一个字符，这和通配符类似。[0-9] [a-z] [A-Z]\n",
    "    [^]匹配出中括号内字符以外的任意一个字符。\n",
    "    \\{3\\}前一个字符重复三次。如a\\{3\\}查找a重复三次的行。\n",
    "    \\{n,m\\}前一个字符最少重复n次，最多重复m次。\n",
    "### 1.9.2. <a id='toc1_9_2_'></a>[扩展正则表达式](#toc0_)\n",
    "    grep默认不支持扩展正则表达式，必须家-E选项后方可使用。\n",
    "    +前一个字符重复一次或无数次。\n",
    "    ？前一个字符匹配0次或1次。\n",
    "    |匹配两个或多个分之选择。Was|his匹配包含was的行，也匹配包含his的行。\n",
    "    （）视为一个整体。\n",
    "\n",
    "# 2. <a id='toc2_'></a>[Bash语法](#toc0_)\n",
    "## 2.1. <a id='toc2_1_'></a>[数据类型](#toc0_)\n",
    "字符串  \n",
    "数值型  \n",
    "数组  \n",
    "\n",
    "## 2.2. <a id='toc2_2_'></a>[变量](#toc0_)\n",
    "### 2.2.1. <a id='toc2_2_1_'></a>[命名](#toc0_)\n",
    "==字母数字下划线==  \n",
    "默认是==字符型==，指定为数值型时才能进行运算。  \n",
    "赋值时用等号，但两端==不能有空==格。  \n",
    "若赋值存在空格，用==双引号==，name=”You are so beautiful!”,    \n",
    "其中“\\” “KaTeX parse error: Undefined control sequence: \\“ at position 47: …。    \n",
    "在变量中可以使用转义字符”\\̲“̲ ==环境变量最好大写==，以…name”  \n",
    "\n",
    "### 2.2.2. <a id='toc2_2_2_'></a>[自定义变量](#toc0_)\n",
    "==增、删、查、改==  \n",
    "变量定义：name=”haha“    \n",
    "变量调用：$name    \n",
    "变量查看：set    \n",
    "变量删除：unset 变量名  \n",
    "\n",
    "### 2.2.3. <a id='toc2_2_3_'></a>[环境变量](#toc0_)\n",
    "    export AGE=18 # 定义系统变量  \n",
    "    echo $PATH # 显示已有的系统变量  \n",
    "    PATH=$PATH:/home/manager/Desttop/share # 在PATH变量后面添加内容（命令路径）  \n",
    "    \n",
    "### 2.2.4. <a id='toc2_2_4_'></a>[环境变量配置文件](#toc0_)\n",
    "    生效：  \n",
    "    source 配置文件或.配置文件  \n",
    "    目前linux下环境变量的配置文件：  \n",
    "    /etc/profile  \n",
    "    /etc/profile.d/*.sh  \n",
    "    ~/.bash_profile  \n",
    "    ~/.bashrc  \n",
    "    /etc/bashrc  \n",
    "    面向所用用户  \n",
    "    只面向当前用户  \n",
    "    \n",
    "### 2.2.5. <a id='toc2_2_5_'></a>[位置参数变量](#toc0_)\n",
    "$0, $1, …, $9, ${10, ${11}，分别表示==命令本身==，命令后的==第一==个参数，第==二==个参数，…，第十个参数，第十一个参数。  \n",
    "```shell\n",
    "实例：\n",
    "\tVim count.sh\n",
    "\t#!/bin/bash\n",
    "\ta=$1\n",
    "\tb=$2\n",
    "\tsum=$(($a+$b))  #$(())将字符转为数值后进行计算\n",
    "\techo $sum\n",
    "\tchmod 755 count.sh\n",
    "\t./count.sh 22223 363666 将两数相加\n",
    "```\n",
    "预定义变量：\n",
    "```shell\n",
    "\t\t$? 上一条命令的执行状态，0：正常，非0：不正常。\n",
    "\t\t$$ 当前运行的进程ID号，PID\n",
    "\t\t$! 后台运行的最后一个进程的ID号，PID\n",
    "```\n",
    "\n",
    "## 2.3. <a id='toc2_3_'></a>[bash的运算](#toc0_)\n",
    "expr 处理数学表达式\n",
    "```shell\n",
    "$ expr 1 + 5 # 有空格才行，不推荐使用此方法\n",
    "```\n",
    "$[ operation ]\n",
    "```shell\n",
    "echo $[1+3]  # 只能计算整数\n",
    "```\n",
    "bc bash的计算器，可以计算浮点数\n",
    "```shell\n",
    "bc # 进入计算器模式\n",
    "variable=$(echo \"optional ; expression\" | bc)\n",
    "var=$(echo \"scale=4; 3.44 / 5\" | bc)\n",
    "```\n",
    "declare [+/-] 变量名\n",
    "```shell\n",
    "X=1\n",
    "Y=2\n",
    "Declare –i x\n",
    "Declare –i y\n",
    "Declare sum=$x+$y # 没有空格\n",
    "echo $sum\t\n",
    "```\n",
    "\n",
    "## 2.4. <a id='toc2_4_'></a>[控制流程](#toc0_)\n",
    "### 2.4.1. <a id='toc2_4_1_'></a>[bash条件判断](#toc0_)\n",
    "```shell\n",
    "1.判断文件类型：\n",
    "\ttest –e test.txt 文件是否存在\n",
    "\t\t[-e test.txt] 同上，更加常用\n",
    "\t\t[-d test] 判断是否为目录\n",
    "\t\t[-f test.txt] 判断是否为普通文件\n",
    "\t\t[-l test] 判断是否为连接\n",
    "\t\t[-s test.txt] 判断文件是否为空\n",
    "\n",
    "2.两个整数之间的比较\n",
    "\t \t[  –qe y ] && echo “yes” || echo “no”\n",
    "3.字符串之间比较\n",
    "\t\tName=”hah”\n",
    "\t\t[ -z $name ] && echo “yes” || echo “no”\n",
    "4.数值比较\n",
    "\t\t-eq #等于\n",
    "\t\t-gt #大于\n",
    "\t\t-ge #大于等于\n",
    "\t\t-lt #小于\n",
    "\t\t-le #小于等于\n",
    "\t\t-ne #不等于\n",
    "```\n",
    "\n",
    "### 2.4.2. <a id='toc2_4_2_'></a>[bash条件循环](#toc0_)\n",
    "```sehll\n",
    "单分支:\n",
    "\tif [ 条件判断 ] \n",
    "\tthen\n",
    "\t\t\tpass\n",
    "\tfi\n",
    "双分支：\n",
    "\tif [ 条件判断 ]\n",
    "\t\tthen\n",
    "\t\t\tPass\n",
    "\t\telse\n",
    "\t\t\tPass\n",
    "\tfi\n",
    "多分支判断语句：\n",
    "\tif [ 判断 ]\n",
    "\t\tthen\n",
    "\t\t\tpass\n",
    "\telif [ 判断 ]\n",
    "\t\tthen\n",
    "\t\t\tpass\n",
    "\telif [ 判断 ]\n",
    "\t\tthen\n",
    "\t\t\tpass\n",
    "\telse\n",
    "\t\t当所有条件不成立时执行此pass\n",
    "\tfi\n",
    "多分枝case语句：\n",
    "\tcase $变量名 in\n",
    "\t\t”1值“）\n",
    "\t\t\tpass\n",
    "\t\t；；\n",
    "\t\t”2值“）\n",
    "\t\t\tpass\n",
    "\t\t；；\n",
    "\t\t*）\n",
    "\t\t\t默认执行此pass\n",
    "\tesac\n",
    "\n",
    "Bash的for语句：\n",
    "\tfor i in 1值 2值 3值 。。。\n",
    "\tdo\n",
    "\t    pass\n",
    "\tdone\n",
    "\t\n",
    "\t或者：\n",
    "\tfor （（i=1;condition;i=i+1））\n",
    "\tdo\n",
    "\t\tpass\n",
    "\tdone\n",
    "\n",
    "Bash的while语句：条件成立时循环\n",
    "\twhile [ 判断 ] #中括号\n",
    "\tdo\n",
    "\t\tPass\n",
    "\tdone\n",
    "\n",
    "Bash的untill语句：条件不成立时循环，和while刚好相反\n",
    "\tuntil [ panduan ]\n",
    "\tdo\n",
    "\t\tpass\n",
    "\tdone\n",
    "\n",
    "Bash的exit语句：\n",
    "```\n",
    "\n",
    "## 2.5. <a id='toc2_5_'></a>[函数](#toc0_)\n",
    "```shell\n",
    "function test_fun(){\n",
    "    echo 'This is a brif test in bash funchtion.'\n",
    "}\n",
    "\n",
    "test_fun # 调用的时候不需要使用括号\n",
    "```\n",
    "\n",
    "## 2.6. <a id='toc2_6_'></a>[grep](#toc0_)\n",
    "    Usage: grep [OPTION]... PATTERN [FILE]...  \n",
    "    Search for PATTERN in each FILE.\n",
    "    -i 或 --ignore-case : 忽略字符大小写的差别。  \n",
    "    -q 或 --quiet或--silent : 不显示任何信息。  \n",
    "    -C<显示行数> 或 --context=<显示行数>或-<显示行数> : 除了显示符合样式的那一行之外，并显示该行之前后的内容。   \n",
    "    -r 或 --recursive : 此参数的效果和指定\"-d recurse\"参数相同。  \n",
    "## 2.7. <a id='toc2_7_'></a>[sed](#toc0_)\n",
    "    Usage: sed [OPTION]... {script-only-if-no-other-script} [input-file]...\n",
    "    sed的命令格式： sed [option] 'sed command'filename\n",
    "    sed的脚本格式：sed [option] -f 'sed script'filename\n",
    "    参数说明：\n",
    "    -n ：只打印模式匹配的行\n",
    "    -e ：直接在命令行模式上进行sed动作编辑，此为默认选项\n",
    "    -f ：将sed的动作写在一个文件内，用–f filename 执行filename内的sed动作\n",
    "    -r ：支持扩展表达式\n",
    "    -i ：直接修改文件内容\n",
    "    \n",
    "    动作说明：\n",
    "    a ：新增， a 的后面可以接字串，而这些字串会在新的一行出现(目前的下一行)～\n",
    "    c ：取代， c 的后面可以接字串，这些字串可以取代 n1,n2 之间的行！\n",
    "    d ：删除，因为是删除啊，所以 d 后面通常不接任何咚咚；\n",
    "    i ：插入， i 的后面可以接字串，而这些字串会在新的一行出现(目前的上一行)；\n",
    "    p ：打印，亦即将某个选择的数据印出。通常 p 会与参数 sed -n 一起运行～\n",
    "    s ：取代，可以直接进行取代的工作哩！通常这个 s 的动作可以搭配正规表示法！例如 1,20s/old/new/g 就是啦！ \n",
    "    \n",
    "    1)使用行号，可以是一个简单数字，或是一个行号范围\n",
    "    x # x为行号\n",
    "    x,y # 表示从x行到y行的所有行\n",
    "    /pattern # 查询包含模式的行\n",
    "    /pattern /pattern # 产选包含两个模式的行\n",
    "    pattern/,x # 在给定行号上查询包含模式的行\n",
    "    x,/pattern/ # 通过行号和模式查询的行\n",
    "    x,y! # 查询不包含制定行号x和y的行\n",
    "    \n",
    "    sed '2p' data # sed默认打印所有行，第二行会打印两次\n",
    "    sed -n '2p' data # 只显示符合匹配的行\n",
    "    sed -n '1,3p' data # 打印第一到第三行\n",
    "    sed -n '/second/p' data # 打印文件中匹配second字符的行\n",
    "    sed -n '/second/,10p'data # 打印从匹配second的行到第十行的所有行\n",
    "    sed -n '/second/,/three/p' data # 打印匹配second的行到匹配three的行的所有行\n",
    "    \n",
    "    2)使用正则表达式、扩展正则表达式(必须结合-r选项)\n",
    "    \n",
    "    ^ 锚点行首的符合条件的内容，用法格式\"^pattern\"\n",
    "    $ 锚点行首的符合条件的内容，用法格式\"pattern$\"\n",
    "    ^$ 空白行\n",
    "    . 匹配任意单个字符\n",
    "    * 匹配紧挨在前面的字符任意次(0,1,多次)\n",
    "    .* 匹配任意长度的任意字符\n",
    "    \\？ 匹配紧挨在前面的字符0次或1次\n",
    "    \\{m,n\\} 匹配其前面的字符至少m次，至多n次\n",
    "    \\{m,\\} 匹配其前面的字符至少m次\n",
    "    \\{m\\} 精确匹配前面的m次\\{0,n\\}:0到n次\n",
    "    \\< 锚点词首----相当于 \\b，用法格式：\\<pattern\n",
    "    \\> 锚点词尾，用法格式:\\>pattern\n",
    "    \\<pattern\\> 单词锚点\n",
    "    [] 匹配指定范围内的任意单个字符\n",
    "    [^] 匹配指定范围外的任意单个字符\n",
    "    [:digit:] 所有数字, 相当于0-9， [0-9]---> [[:digit:]]\n",
    "    [:lower:] 所有的小写字母\n",
    "    [:upper:] 所有的大写字母\n",
    "    [:alpha:] 所有的字母 \n",
    "    [:alnum:] 相当于0-9a-zA-Z\n",
    "    [:space:] 空白字符\n",
    "    [:punct:] 所有标点符号\n",
    "\n",
    "## 2.8. <a id='toc2_8_'></a>[awk](#toc0_)\n",
    "    awk [选项参数] 'script' var=value file(s)\n",
    "    或\n",
    "    awk [选项参数] -f scriptfile var=value file(s)\n",
    "    -F fs or --field-separator fs 指定输入文件折分隔符，fs是一个字符串或者是一个正则表达式，如-F:。 \n",
    "    \n"
   ]
  },
  {
   "cell_type": "markdown",
   "metadata": {},
   "source": [
    "# 3. <a id='toc3_'></a>[Tips](#toc0_)\n",
    "## 3.1. <a id='toc3_1_'></a>[配置源](#toc0_)\n"
   ]
  },
  {
   "cell_type": "code",
   "execution_count": null,
   "metadata": {},
   "outputs": [],
   "source": [
    "cd /etc/yum.repos.d"
   ]
  },
  {
   "cell_type": "code",
   "execution_count": null,
   "metadata": {},
   "outputs": [],
   "source": [
    "sudo mkdir backup_by_bmp\n",
    "sudo cp *repo backup_by_bmp"
   ]
  },
  {
   "cell_type": "code",
   "execution_count": null,
   "metadata": {},
   "outputs": [],
   "source": [
    "wget -O /etc/yum.repos.d/CentOS-Base.repo http://mirrors.aliyun.com/repo/Centos-8.repo\n",
    "sudo dnf makecache"
   ]
  },
  {
   "cell_type": "code",
   "execution_count": null,
   "metadata": {},
   "outputs": [],
   "source": [
    "sudo dnf search lm_sensors\n",
    "sudo dnf install lm_snesors"
   ]
  },
  {
   "cell_type": "markdown",
   "metadata": {},
   "source": [
    "## 3.2. <a id='toc3_2_'></a>[用户管理](#toc0_)\n"
   ]
  },
  {
   "cell_type": "code",
   "execution_count": null,
   "metadata": {},
   "outputs": [],
   "source": [
    "cat /etc/default/useradd    # 默认配置文件\n",
    "cat /etc/passwd             # 用户信息\n",
    "cat /etc/group              # 用户组信息"
   ]
  },
  {
   "cell_type": "markdown",
   "metadata": {},
   "source": [
    "### 3.2.1. <a id='toc3_2_1_'></a>[添加新的用户账号](#toc0_)\n"
   ]
  },
  {
   "cell_type": "code",
   "execution_count": null,
   "metadata": {},
   "outputs": [],
   "source": [
    "# useradd 选项 用户名\n",
    "#     -c comment 指定一段注释性描述。\n",
    "#     -d 目录 指定用户主目录，如果此目录不存在，则同时使用-m选项，可以创建主目录。\n",
    "#     -g 用户组 指定用户所属的用户组。\n",
    "#     -G 用户组，用户组 指定用户所属的附加组。\n",
    "#     -s Shell文件 指定用户的登录Shell。\n",
    "#     -u 用户号 指定用户的用户号，如果同时有-o选项，则可以重复使用其他用户的标识号。\n",
    "\n",
    "useradd bmp\n",
    "\n",
    "#添加一个用户名是 bmp 的用户，组 ID 是 666，家目录是 /bmp_WorkStation，用户说明是“A good man”\n",
    "useradd -u 666 -d /bmp_WorkStation -c \"A good man\" bmp  \n",
    "useradd -d /bmp/backup/sy sy"
   ]
  },
  {
   "cell_type": "markdown",
   "metadata": {},
   "source": [
    "\n",
    "### 3.2.2. <a id='toc3_2_2_'></a>[用户密码管理](#toc0_)\n"
   ]
  },
  {
   "cell_type": "code",
   "execution_count": null,
   "metadata": {},
   "outputs": [],
   "source": [
    "# passwd 选项 用户名\n",
    "#     -l 锁定口令，即禁用账号。\n",
    "#     -u 口令解锁。\n",
    "#     -d 使账号无口令。\n",
    "#     -f 强迫用户下次登录时修改口令。\n",
    "\n",
    "#root 用户可以修改任何用户的密码，只要在 passwd 后面跟相应的用户名即可。普通用户只能修改自己的密码，这时只要输入passwd，然后回车就可以，后面无需跟用户名。\n",
    "passwd UserName \n",
    "\n",
    "#将用户supermouse的密码设置为123\n",
    "echo \"123\" | passwd --stdin supermouse \n",
    "\n",
    "#锁定用户，锁定用户时，Linux执行的操作其实就是在shadow文件中，该用户的密码前面加了两个感叹号。\n",
    "passwd -l supermouse \n",
    "\n",
    "#解锁用户\n",
    "passwd -u supermouse "
   ]
  },
  {
   "cell_type": "markdown",
   "metadata": {},
   "source": [
    "\n",
    "### 3.2.3. <a id='toc3_2_3_'></a>[修改账号](#toc0_)\n"
   ]
  },
  {
   "cell_type": "code",
   "execution_count": null,
   "metadata": {},
   "outputs": [],
   "source": [
    "# usermod 和 useradd 的功能类似，区别在于 usermod 命令的操作对象是已存在的用户，useradd 命令的操作对象是将要添加的新用户。正因如此，usermod 和 useradd 命令的部分选项是一样的。\n",
    "usermod 选项 用户名\n",
    "\n",
    "# 修改用户supermouse的描述信息\n",
    "uermod -c \"General user\" supermouse \n",
    "\n",
    "# 此命令将用户sam的登录Shell修改为ksh，主目录改为/home/z，用户组改为developer。\n",
    "usermod -s /bin/ksh -d /home/z –g developer sam "
   ]
  },
  {
   "cell_type": "markdown",
   "metadata": {},
   "source": [
    "\n",
    "### 3.2.4. <a id='toc3_2_4_'></a>[修改用户密码状态：chage](#toc0_)\n"
   ]
  },
  {
   "cell_type": "markdown",
   "metadata": {},
   "source": [
    "### 3.2.5. <a id='toc3_2_5_'></a>[删除用户](#toc0_)\n"
   ]
  },
  {
   "cell_type": "code",
   "execution_count": null,
   "metadata": {},
   "outputs": [],
   "source": [
    "userdel 选项 用户名\n",
    "-r:删除用户的同时删除该用户的家目录以及其他与该用户相关的文件。\n",
    "\n",
    "userdel -r sam # 此命令删除用户sam在系统文件中（主要是/etc/passwd, /etc/shadow, /etc/group等）的记录，同时删除用户的主目录。"
   ]
  },
  {
   "cell_type": "markdown",
   "metadata": {},
   "source": [
    "\n",
    "### 3.2.6. <a id='toc3_2_6_'></a>[查看用户 ID 和用户所在的组的 ID：id](#toc0_)"
   ]
  },
  {
   "cell_type": "code",
   "execution_count": 5,
   "metadata": {},
   "outputs": [
    {
     "name": "stdout",
     "output_type": "stream",
     "text": [
      "Couldn't find program: 'bash'\n"
     ]
    }
   ],
   "source": [
    "%%bash \n",
    "id"
   ]
  },
  {
   "cell_type": "markdown",
   "metadata": {},
   "source": [
    "\n",
    "### 3.2.7. <a id='toc3_2_7_'></a>[用户切换命令：su](#toc0_)\n"
   ]
  },
  {
   "cell_type": "code",
   "execution_count": null,
   "metadata": {},
   "outputs": [],
   "source": [
    "# su 是 switch user 的简写，su 命令的一般用法是：\n",
    "su - 用户名     #注意：中间的那个短线不能省略，而且短线两侧有空格。"
   ]
  },
  {
   "cell_type": "markdown",
   "metadata": {},
   "source": [
    "\n",
    "### 3.2.8. <a id='toc3_2_8_'></a>[who 命令可以查看当前有多少用户正在登录。](#toc0_)"
   ]
  },
  {
   "cell_type": "code",
   "execution_count": null,
   "metadata": {},
   "outputs": [],
   "source": [
    "%%bash \n",
    "who\n",
    "# tty 表示本地终端，pts 表示远程终端，pts 后面的数字用来区别不同的远程终端。\n"
   ]
  },
  {
   "cell_type": "markdown",
   "metadata": {},
   "source": [
    "### 3.2.9. <a id='toc3_2_9_'></a>[w 命令可以查看更详细的登录用户信息。](#toc0_)"
   ]
  },
  {
   "cell_type": "code",
   "execution_count": 6,
   "metadata": {},
   "outputs": [
    {
     "name": "stdout",
     "output_type": "stream",
     "text": [
      "Couldn't find program: 'bash'\n"
     ]
    }
   ],
   "source": [
    "%%bash \n",
    "w"
   ]
  },
  {
   "cell_type": "markdown",
   "metadata": {},
   "source": [
    "## 3.3. <a id='toc3_3_'></a>[用户组管理](#toc0_)\n"
   ]
  },
  {
   "cell_type": "code",
   "execution_count": null,
   "metadata": {},
   "outputs": [],
   "source": [
    "# 添加用户组 \n",
    "groupadd [选项] 组名\n",
    "    -g GID 指定新用户组的组标识号（GID）。\n",
    "    -o 一般与-g选项同时使用，表示新用户组的GID可以与系统已有用户组的GID相同。\n",
    "\n",
    "group flying #添加一个名为flying的组，组ID由系统默认生成\n",
    "group -g 666 flying #添加一个名为flying的组，指定组ID是666"
   ]
  },
  {
   "cell_type": "markdown",
   "metadata": {},
   "source": [
    "\n",
    "### 3.3.1. <a id='toc3_3_1_'></a>[修改用户组](#toc0_)\n"
   ]
  },
  {
   "cell_type": "code",
   "execution_count": null,
   "metadata": {},
   "outputs": [],
   "source": [
    "groupmod [选项] 组名\n",
    "\n",
    "groupmod -n fighting flying #将flying组改名为fighting\n"
   ]
  },
  {
   "cell_type": "markdown",
   "metadata": {},
   "source": [
    "### 3.3.2. <a id='toc3_3_2_'></a>[删除用户组 groupdel 组名](#toc0_)\n"
   ]
  },
  {
   "cell_type": "code",
   "execution_count": null,
   "metadata": {},
   "outputs": [],
   "source": [
    "groupdel flying #删除flying组"
   ]
  },
  {
   "cell_type": "markdown",
   "metadata": {},
   "source": [
    "### 3.3.3. <a id='toc3_3_3_'></a>[把用户加入组或从组中删除 gpasswd [选项] 组名](#toc0_)   [&#8593;](#toc0_)\n"
   ]
  },
  {
   "cell_type": "code",
   "execution_count": null,
   "metadata": {},
   "outputs": [],
   "source": [
    "gpasswd -a user1 root #把user1用户加入root组\n",
    "\n",
    "gpasswd -d user3 root #把user3用户从root组中删除"
   ]
  },
  {
   "cell_type": "markdown",
   "metadata": {},
   "source": [
    "## 3.4. <a id='toc3_4_'></a>[登录后提示信息](#toc0_)\n",
    "```shell\n",
    "cat /etc/motd.d/cockpit\n",
    "vim /etc/motd.d/cockpit\n",
    "```\n"
   ]
  },
  {
   "cell_type": "markdown",
   "metadata": {},
   "source": [
    "## 3.5. <a id='toc3_5_'></a>[快捷键](#toc0_)\n",
    "* ctrl c # 取消\n",
    "* ctrl z # 暂停某个程序\n",
    "* ctrl u # 删除光标之前所有\n",
    "* ctrl k # 删除光标之后所有\n",
    "* ctrl a # 移动至最前面\n",
    "* ctrl e # 移动至最后面\n"
   ]
  },
  {
   "cell_type": "markdown",
   "metadata": {},
   "source": [
    "## 3.6. <a id='toc3_6_'></a>[截取字符串](#toc0_)\n",
    "### 3.6.1. <a id='toc3_6_1_'></a>[利用cut](#toc0_)\n",
    "\n",
    "    Usage: cut OPTION... [FILE]...  \n",
    "    Print selected parts of lines from each FILE to standard output.\n",
    "    -d # 制定分隔符\n",
    "    -f # 分割后的字符段\n",
    "```shell\n",
    "cat /etc/passwd | cut -d : -f 1\n",
    "```\n",
    "### 3.6.2. <a id='toc3_6_2_'></a>[利用echo ${variable#content}](#toc0_)\n",
    "==注意*在分割符左右的位置，当#时*在左，当$时*再右==。\n",
    "```shell\n",
    "test=\"beautiful:soul:right:who:world!\"\n",
    "\n",
    "echo ${test#*:} # 输出soul:right:who:world!\n",
    "echo ${test##*:} # 输出world!\n",
    "\n",
    "echo ${test%:*} # 输出beautiful:soul:right:who\n",
    "echo ${test%%:*} # 输出beautiful\n",
    "```\n"
   ]
  },
  {
   "cell_type": "markdown",
   "metadata": {},
   "source": [
    "\n",
    "## 3.7. <a id='toc3_7_'></a>[后台运行](#toc0_)\n",
    "*    ./sample.sh & # & 将脚本放置后台运行，不影响当前shell使用，但当shell关闭时后台程序也随之消失。\n",
    "    \n",
    "*    nohup ./sample.sh # 将程序和当前shell解除关联，即当shell关闭时，程序仍然在后台执行。\n",
    "    \n",
    "*    nohup ./smale.sh & # 将程序放置后台执行并解除与当前shell的关联。\n",
    "\n",
    "* jobs  \n",
    "* bg  \n",
    "* fg\n",
    "```bash\n",
    "    # 当./sample.sh已经运行很长时间仍不见结束，可此时将其放置后台执行。\n",
    "    ./sample.sh # 一直在执行\n",
    "    ctrl z # 先暂停程序，并记录后台程序编号，如1，2等\n",
    "    disown %编号 # disown表示将此程序与shell解除关联\n",
    "```"
   ]
  },
  {
   "cell_type": "markdown",
   "metadata": {},
   "source": [
    "## 3.8. <a id='toc3_8_'></a>[管理进程](#toc0_)\n",
    "\n",
    "* kill\n",
    "* pkill\n"
   ]
  },
  {
   "cell_type": "markdown",
   "metadata": {},
   "source": [
    "## 3.9. <a id='toc3_9_'></a>[并行运行](#toc0_)\n",
    "* parallel -j 64 --xapply \"fastqc -o output_dir {1}\" ::: `ll ./clean_data/`\n"
   ]
  },
  {
   "cell_type": "markdown",
   "metadata": {},
   "source": [
    "\n",
    "\n",
    "## 3.10. <a id='toc3_10_'></a>[发送消息](#toc0_)\n",
    "\n",
    "* wall '您占用超1TB存储空间，请删除无用缓存释放空间。' # 向所有用户  \n",
    "* write username # 想特定用户发送，ctrl+D结束。\n",
    "\n"
   ]
  },
  {
   "cell_type": "markdown",
   "metadata": {},
   "source": [
    "## 3.11. <a id='toc3_11_'></a>[tar使用](#toc0_)\n",
    "```shell\n",
    "# 打包+压缩\n",
    "tar [选项] [-f 压缩包名称] 被压缩文件或目录\n",
    "-c 打包\n",
    "-f 指定压缩包名称，加上扩展名\n",
    "-v 显示打包过程\n",
    "tar -cvf test.tar test # 打包\n",
    "gzip test.tar # 压缩 .gz\n",
    "bzip2 test.tar # 压缩 .bz2\n",
    "tar -zcvf test.tar.gz test # 打包+压缩为gz格式\n",
    "tar -jcvf test.tar.bz2 test # 打包+压缩为bz2格式\n",
    "\n",
    "# 解压\n",
    "tar [选项] 压缩包\n",
    "-x 解压\n",
    "-f 指定压缩包文件名\n",
    "-t 测试，就是不解压，只是查看其中内容\n",
    "-C 目录：指定解压位置\n",
    "\n",
    "tar -xvf test.tar # 解包\n",
    "tar -zxvf test.tar.gz # 解压+解包gz格式\n",
    "tar -jxvf test.tar.bz2 # 解压+解包bz2格式\n",
    "```\n"
   ]
  },
  {
   "cell_type": "markdown",
   "metadata": {},
   "source": [
    "## 3.12. <a id='toc3_12_'></a>[用户空间管理](#toc0_)\n",
    "```shell\n",
    "sudo vim /etc/fstab\n",
    "# 添加 defaults,surquota,grpquota到相应行\n",
    "umount /bmp/exp\n",
    "mount -a\n",
    "mount | grep \"exp\" # 查看挂在情况\n",
    "xfs_quota -x -c \"limit bsoft=1G bhard=2G net2021 \" /bmp/exp\n",
    "xfs_quota -x -c \"limit bsoft=1G bhard=2G net2021 \" /bmp/exp\n",
    "xfs_quota -x -c \"report -ubh\" /bmp/exp/ # 查看配置情况\n",
    "```\n"
   ]
  },
  {
   "cell_type": "markdown",
   "metadata": {},
   "source": [
    "## 3.13. <a id='toc3_13_'></a>[ssh和sftp](#toc0_)\n",
    "```shell\n",
    "ssh zhaoyu@202.205.91.135\n",
    "sftp zhaoyu@202.205.91.135\n",
    "sftp> lcd # local cd\n",
    "sftp> lls # local ls\n",
    "sftp> put -r G:/2博士 /bmp/exp/2019-zhaoyu/WorkStation/SSD_backup/20220108\n",
    "sftp> put G:/2博士/xxx.txt /bmp/exp/2019-zhaoyu/WorkStation/SSD_backup/20220108/\n",
    "sftp> get -r /bmp/exp/2019-zhaoyu/WorkStation/SSD_backup/20220108 G:/2博士\n",
    "sftp> get /bmp/exp/2019-zhaoyu/WorkStation/SSD_backup/20220108/XXX.txt G:/2博士/\n",
    "```\n",
    "自动备份-version1\n",
    "```shell\n",
    "IP=202.205.91.135\n",
    "USER=zhaoyu\n",
    "\n",
    "local=/g/2博士\n",
    "remot=/bmp/exp/2019-zhaoyu/WorkStation/SSD_backup/`date +%Y%m%d`\n",
    "echo \"copy all files in ${local} to $remot in remote serve.\"\n",
    "\n",
    "sftp ${USER}@${IP} <<EOF\n",
    "mkdir   ${remot}/2博士\n",
    "put -r $local  $remot\n",
    "EOF\n",
    "\n",
    "echo \"ALL RIGHT\"\n",
    "\n",
    "```\n",
    "自动备份-version2\n",
    "```\n",
    "\n",
    "function PhD(){\n",
    "\tlocal=/g/2博士\n",
    "\tremot=/bmp/exp/2019-zhaoyu/WorkStation/SSD_backup/`date +%Y%m%d`\n",
    "\n",
    "\techo \"copy all files in ${local} to $remot\"\n",
    "\n",
    "\tsftp ${USER}@${IP} <<EOF\n",
    "\tmkdir   ${remot}\n",
    "\tmkdir   ${remot}/2博士\n",
    "\tput -r $local  $remot\n",
    "EOF\n",
    "}\n",
    "\n",
    "function allDisk(){\n",
    "\tlocal=/g\n",
    "\tremot=/bmp/exp/2019-zhaoyu/WorkStation/SSD_backup/Disk_`date +%Y%m%d`\n",
    "\n",
    "\techo \"copy all files in ${local} to $remot, then wait 300s for shutdown.\"\n",
    "\n",
    "\tsftp ${USER}@${IP} <<EOF\n",
    "\tmkdir   ${remot}\n",
    "\tmkdir   ${remot}/g\n",
    "\tput -r $local  $remot\n",
    "EOF\n",
    "}\n",
    "\n",
    "IP=202.205.91.135\n",
    "USER=zhaoyu\n",
    "read -p \"1 for PhD, 2 for all disk:\" chooseValue\n",
    "case $chooseValue in\n",
    "\t1)\n",
    "\tPhD\n",
    "\t;;\n",
    "\t2)\n",
    "\tallDisk\n",
    "\tshutdown -s -t 300\n",
    "\t;;\n",
    "\t*)\n",
    "\techo \"All is well\"\n",
    "\t;;\n",
    "esac\n",
    "```\n"
   ]
  },
  {
   "cell_type": "markdown",
   "metadata": {},
   "source": [
    "## 3.14. <a id='toc3_14_'></a>[用户资源管理](#toc0_)\n",
    "https://www.xiexianbin.cn/linux/basic/linux-limit/index.html\n",
    "```shell\n",
    "sudo vim /etc/security/limit.conf\n",
    "\n",
    "Guest hard rss 204800 # 内存\n",
    "Guest hard nproc 20 # 线程数\n",
    "Guest hard maxlogins 2 # 最大同时登录数\n",
    "```"
   ]
  },
  {
   "cell_type": "markdown",
   "metadata": {},
   "source": [
    "## 3.15. <a id='toc3_15_'></a>[防火墙开端口](#toc0_)\n",
    "```bash\n",
    "#查看防火墙某个端口是否开放\n",
    "firewall-cmd --query-port=端口号/tcp\n",
    "\n",
    "#开放防火墙端口\n",
    "firewall-cmd --zone=public --add-port=端口号/tcp --permanent\n",
    "\n",
    "#关闭端口\n",
    "firewall-cmd --zone=public --remove-port=端口号/tcp --permanent\n",
    "\n",
    "#配置立即生效 \n",
    "firewall-cmd --reload \n",
    "\n",
    "#查看防火墙状态\n",
    "systemctl status firewalld\n",
    "\n",
    "#关闭防火墙\n",
    "systemctl stop firewalld\n",
    "\n",
    "#打开防火墙\n",
    "systemctl start firewalld\n",
    "\n",
    "#开放一段端口\n",
    "firewall-cmd --zone=public --add-port=8121-8124/tcp --permanent\n",
    "\n",
    "#查看开放的端口列表\n",
    "firewall-cmd --zone=public --list-ports\n",
    "\n",
    "```"
   ]
  },
  {
   "cell_type": "code",
   "execution_count": null,
   "metadata": {},
   "outputs": [],
   "source": [
    "dnf install ***.rpm\n",
    "rstudio-server status #: 查看rstudio的服务情况，看是否报错\n",
    "rstudio-server start/restart #:启动（start）或者重启（restart）服务。\n",
    "rstudio-server stop #: 结束服务。\n",
    "\n",
    "\n",
    "cat /etc/selinux/config"
   ]
  },
  {
   "cell_type": "markdown",
   "metadata": {},
   "source": [
    "## 3.16. <a id='toc3_16_'></a>[安装xrdp](#toc0_)"
   ]
  },
  {
   "cell_type": "code",
   "execution_count": null,
   "metadata": {},
   "outputs": [],
   "source": [
    "sudo dnf install xrdp # dnf安装xrdp\n",
    "sudo systemctl status xrdp # 查看是已经自动启动\n",
    "\n",
    "sudo systemctl start xrdp # 启动xrdp服务\n",
    "sudo systemctl enable xrdp # 开机自动启动\n",
    "\n",
    "sudo firewall-cmd --add-port=3389/tcp --permanent # 开放防火墙3389端口\n",
    "sudo firewall-cmd --reload # 重启防火墙\n",
    "\n",
    "sudo systemctl restart xrdp # 重启xrdp服务\n",
    "\n",
    "# 直接登录即可"
   ]
  },
  {
   "cell_type": "markdown",
   "metadata": {},
   "source": [
    "## 磁盘管理"
   ]
  },
  {
   "cell_type": "markdown",
   "metadata": {},
   "source": [
    "### df"
   ]
  },
  {
   "cell_type": "code",
   "execution_count": null,
   "metadata": {},
   "outputs": [],
   "source": [
    "df -h "
   ]
  },
  {
   "cell_type": "markdown",
   "metadata": {},
   "source": [
    "### du"
   ]
  },
  {
   "cell_type": "code",
   "execution_count": null,
   "metadata": {},
   "outputs": [],
   "source": [
    "du . -h --max-depth 1"
   ]
  },
  {
   "cell_type": "markdown",
   "metadata": {},
   "source": [
    "### fdisk"
   ]
  },
  {
   "cell_type": "code",
   "execution_count": null,
   "metadata": {},
   "outputs": [],
   "source": [
    "fdisk -l"
   ]
  },
  {
   "cell_type": "markdown",
   "metadata": {},
   "source": [
    "## 3.17. <a id='toc3_17_'></a>[添加磁盘后更新磁盘文件（无需重启电脑）](#toc0_)\n",
    "* 安装完新的硬盘后\n",
    "  * 更新磁盘记录文件"
   ]
  },
  {
   "cell_type": "code",
   "execution_count": null,
   "metadata": {},
   "outputs": [],
   "source": [
    "cat scsisum.sh\n",
    "\n",
    "#!/usr/bin/bash\n",
    "\n",
    "scsisum=`ll /sys/class/scsi_host/host*|wc -l`\n",
    "\n",
    "for ((i=0;i<${scsisum};i++))\n",
    "do\n",
    "    echo \"- - -\" > /sys/class/scsi_host/host${i}/scan\n",
    "done\n",
    "\n",
    "# 更改了现有磁盘的大小时， 再从新扫描SCSI总线前， 操作系统可能无法看到新磁盘的大小\n",
    "# 可以使用一下命令重新扫描特定设备\n",
    "# echo “1” > /sys/class/block/sdX/device/rescan\n",
    "\n",
    "# sdX \"X\"是需要重新扫描的设备\n",
    "# “1” 是标志使SCSI重新扫描该设备，更新该设备的信息"
   ]
  },
  {
   "cell_type": "markdown",
   "metadata": {},
   "source": [
    "### mount 挂载"
   ]
  },
  {
   "cell_type": "code",
   "execution_count": null,
   "metadata": {},
   "outputs": [],
   "source": []
  }
 ],
 "metadata": {
  "kernelspec": {
   "display_name": "base",
   "language": "python",
   "name": "python3"
  },
  "language_info": {
   "codemirror_mode": {
    "name": "ipython",
    "version": 3
   },
   "file_extension": ".py",
   "mimetype": "text/x-python",
   "name": "python",
   "nbconvert_exporter": "python",
   "pygments_lexer": "ipython3",
   "version": "undefined.undefined.undefined"
  }
 },
 "nbformat": 4,
 "nbformat_minor": 2
}
