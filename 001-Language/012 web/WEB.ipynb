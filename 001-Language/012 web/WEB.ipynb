{
 "cells": [
  {
   "cell_type": "markdown",
   "id": "3ebcb329",
   "metadata": {},
   "source": [
    "**Table of contents**<a id='toc0_'></a>    \n",
    "- 1. [前言](#toc1_)    \n",
    "- 2. [前端三剑客](#toc2_)    \n",
    "  - 2.1. [HTML](#toc2_1_)    \n",
    "    - 2.1.1. [jupyter显示html](#toc2_1_1_)    \n",
    "    - 2.1.2. [html文件结构](#toc2_1_2_)    \n",
    "    - 2.1.3. [元素](#toc2_1_3_)    \n",
    "    - 2.1.4. [布局](#toc2_1_4_)    \n",
    "    - 2.1.5. [属性](#toc2_1_5_)    \n",
    "  - 2.2. [CSS](#toc2_2_)    \n",
    "    - 2.2.1. [CSS语法](#toc2_2_1_)    \n",
    "    - 2.2.2. [插入样式表的方法有三种](#toc2_2_2_)    \n",
    "    - 2.2.3. [菜单栏](#toc2_2_3_)    \n",
    "    - 2.2.4. [布局](#toc2_2_4_)    \n",
    "    - 2.2.5. [背景](#toc2_2_5_)    \n",
    "    - 2.2.6. [文本](#toc2_2_6_)    \n",
    "    - 2.2.7. [字体](#toc2_2_7_)    \n",
    "    - 2.2.8. [链接状态](#toc2_2_8_)    \n",
    "    - 2.2.9. [列表](#toc2_2_9_)    \n",
    "  - 2.3. [JavaScript](#toc2_3_)    \n",
    "    - 2.3.1. [Demo](#toc2_3_1_)    \n",
    "  - 2.4. [前端框架](#toc2_4_)    \n",
    "    - 2.4.1. [Vue](#toc2_4_1_)    \n",
    "    - 2.4.2. [React](#toc2_4_2_)    \n",
    "- 3. [后端](#toc3_)    \n",
    "  - 3.1. [Django](#toc3_1_)    \n",
    "  - 3.2. [Flask](#toc3_2_)    \n",
    "- 4. [数据库](#toc4_)    \n",
    "  - 4.1. [JSON](#toc4_1_)    \n",
    "  - 4.2. [SQLite](#toc4_2_)    \n",
    "- 5. [部署](#toc5_)    \n",
    "  - 5.1. [静态网页部署](#toc5_1_)    \n",
    "  - 5.2. [动态网页部署](#toc5_2_)    \n",
    "- 6. [网站生成器](#toc6_)    \n",
    "  - 6.1. [静态网站生成器](#toc6_1_)    \n",
    "- 7. [示例技术栈推荐](#toc7_)    \n",
    "- 8. [案例](#toc8_)    \n",
    "  - 8.1. [个人Blog](#toc8_1_)    \n",
    "  - 8.2. [实验室网站](#toc8_2_)    \n",
    "\n",
    "<!-- vscode-jupyter-toc-config\n",
    "\tnumbering=true\n",
    "\tanchor=true\n",
    "\tflat=false\n",
    "\tminLevel=1\n",
    "\tmaxLevel=6\n",
    "\t/vscode-jupyter-toc-config -->\n",
    "<!-- THIS CELL WILL BE REPLACED ON TOC UPDATE. DO NOT WRITE YOUR TEXT IN THIS CELL -->"
   ]
  },
  {
   "cell_type": "markdown",
   "id": "6357b0df",
   "metadata": {},
   "source": [
    "# 1. <a id='toc1_'></a>[前言](#toc0_)"
   ]
  },
  {
   "cell_type": "markdown",
   "id": "a2ba28bc",
   "metadata": {},
   "source": [
    "一个网站就是有前端、后端和数据库组成的，前端是用户看到的界面，后端是处理数据的逻辑，数据库是存储数据的地方。前端和后端通过 API 进行交互。"
   ]
  },
  {
   "cell_type": "markdown",
   "id": "c91ed6f4",
   "metadata": {},
   "source": [
    "# 2. <a id='toc2_'></a>[前端三剑客](#toc0_)"
   ]
  },
  {
   "cell_type": "markdown",
   "id": "81ac6ec9",
   "metadata": {},
   "source": [
    "前端三剑客是指 HTML、CSS 和 JavaScript。HTML 用于定义网页的结构，CSS 用于定义网页的样式，JavaScript 用于定义网页的行为。前端三剑客是前端开发的基础，掌握了这三者，就可以独立完成一个简单的网站。\n",
    "\n",
    "\n",
    "🎯 总对比表\n",
    "\n",
    "|名称 | 类型 | 用途 | 你什么时候用它？|\n",
    "|-|-|-|-|\n",
    "|HTML | 标记语言 | 内容结构 | 创建网页内容|\n",
    "|CSS | 样式语言 | 美化页面 | 调整颜色、排版、动画|\n",
    "|JavaScript | 脚本语言 | 控制逻辑 | 增加交互、响应用户操作|\n",
    "|Vue.js | 前端框架 | 构建 UI | 快速开发 SPA、响应式数据|\n",
    "|React | 前端框架 | 构建 UI | 构建大型前端应用，复用性强|"
   ]
  },
  {
   "cell_type": "markdown",
   "id": "386d10bc",
   "metadata": {},
   "source": [
    "## 2.1. <a id='toc2_1_'></a>[HTML](#toc0_)"
   ]
  },
  {
   "cell_type": "markdown",
   "id": "30acd174",
   "metadata": {},
   "source": [
    "- 它是网页的骨架\n",
    "\n",
    "- 用来定义网页上的内容和结构\n",
    "\n",
    "- 常见元素：```<h1>, <p>, <img>, <a>, <div> 等```\n",
    "\n",
    "- 没有 HTML，网页就什么都不显示"
   ]
  },
  {
   "cell_type": "markdown",
   "id": "bfcf36e8",
   "metadata": {},
   "source": [
    "### 2.1.1. <a id='toc2_1_1_'></a>[jupyter显示html](#toc0_)"
   ]
  },
  {
   "cell_type": "code",
   "execution_count": 15,
   "id": "8fe40981",
   "metadata": {},
   "outputs": [
    {
     "data": {
      "text/html": [
       "\n",
       "<h1 style='color: red;'>Hello, Jupyter!</h1>\n",
       "<p>This is <strong>HTML</strong> rendered in Jupyter.</p>\n",
       "<ul>\n",
       "    <li>Item 1</li>\n",
       "    <li>Item 2</li>\n",
       "</ul>\n"
      ],
      "text/plain": [
       "<IPython.core.display.HTML object>"
      ]
     },
     "execution_count": 15,
     "metadata": {},
     "output_type": "execute_result"
    }
   ],
   "source": [
    "from IPython.display import HTML\n",
    "\n",
    "\n",
    "html_content = \"\"\"\n",
    "<h1 style='color: red;'>Hello, Jupyter!</h1>\n",
    "<p>This is <strong>HTML</strong> rendered in Jupyter.</p>\n",
    "<ul>\n",
    "    <li>Item 1</li>\n",
    "    <li>Item 2</li>\n",
    "</ul>\n",
    "\"\"\"\n",
    "\n",
    "HTML(html_content)"
   ]
  },
  {
   "cell_type": "code",
   "execution_count": 9,
   "id": "0ad6ee07",
   "metadata": {},
   "outputs": [
    {
     "data": {
      "text/html": [
       "<h1 style='color: red;'>Hello, Jupyter!</h1>\n",
       "<p>This is <strong>HTML</strong> rendered in Jupyter.</p>\n",
       "<ul>\n",
       "    <li>Item 1</li>\n",
       "    <li>Item 2</li>\n",
       "</ul>\n"
      ],
      "text/plain": [
       "<IPython.core.display.HTML object>"
      ]
     },
     "metadata": {},
     "output_type": "display_data"
    }
   ],
   "source": [
    "%%html\n",
    "<h1 style='color: red;'>Hello, Jupyter!</h1>\n",
    "<p>This is <strong>HTML</strong> rendered in Jupyter.</p>\n",
    "<ul>\n",
    "    <li>Item 1</li>\n",
    "    <li>Item 2</li>\n",
    "</ul>"
   ]
  },
  {
   "cell_type": "code",
   "execution_count": 17,
   "id": "bd09bc8b",
   "metadata": {},
   "outputs": [
    {
     "data": {
      "text/html": [
       "<style>\n",
       "    .custom { color: green; font-size: 20px; }\n",
       "</style>\n",
       "\n",
       "<div class=\"custom\">Styled Text</div>\n"
      ],
      "text/plain": [
       "<IPython.core.display.HTML object>"
      ]
     },
     "metadata": {},
     "output_type": "display_data"
    }
   ],
   "source": [
    "%%html\n",
    "<style>\n",
    "    .custom { color: green; font-size: 20px; }\n",
    "</style>\n",
    "\n",
    "<div class=\"custom\">Styled Text</div>"
   ]
  },
  {
   "cell_type": "markdown",
   "id": "850d1bae",
   "metadata": {},
   "source": [
    "### 2.1.2. <a id='toc2_1_2_'></a>[html文件结构](#toc0_)"
   ]
  },
  {
   "cell_type": "markdown",
   "id": "e26893f7",
   "metadata": {},
   "source": [
    "![https://www.runoob.com/wp-content/uploads/2013/06/02A7DD95-22B4-4FB9-B994-DDB5393F7F03.jpg](https://www.runoob.com/wp-content/uploads/2013/06/02A7DD95-22B4-4FB9-B994-DDB5393F7F03.jpg)"
   ]
  },
  {
   "cell_type": "code",
   "execution_count": 18,
   "id": "2b9efb00",
   "metadata": {},
   "outputs": [
    {
     "data": {
      "text/html": [
       "<head>\n",
       "<title>My HTML Page</title>\n",
       "</head>\n",
       "\n",
       "<body>\n",
       "<header>Header: Welcome to my blog</header>\n",
       "<nav>nav: Home | About | Contact</nav>\n",
       "<main>\n",
       "    <h1>head1: My Blog Post</h1>\n",
       "    <h2>head2: My Blog Post</h2>\n",
       "    <h3>head3: My Blog Post</h3>\n",
       "    <p>p: p</p>\n",
       "</main>\n",
       "<footer>footer: © 2023 My Blog</footer>\n",
       "</body>\n"
      ],
      "text/plain": [
       "<IPython.core.display.HTML object>"
      ]
     },
     "metadata": {},
     "output_type": "display_data"
    }
   ],
   "source": [
    "%%html\n",
    "<head>\n",
    "<title>My HTML Page</title>\n",
    "</head>\n",
    "\n",
    "<body>\n",
    "<header>Header: Welcome to my blog</header>\n",
    "<nav>nav: Home | About | Contact</nav>\n",
    "<main>\n",
    "    <h1>head1: My Blog Post</h1>\n",
    "    <h2>head2: My Blog Post</h2>\n",
    "    <h3>head3: My Blog Post</h3>\n",
    "    <p>p: p</p>\n",
    "</main>\n",
    "<footer>footer: © 2023 My Blog</footer>\n",
    "</body>"
   ]
  },
  {
   "cell_type": "markdown",
   "id": "c9f3c4a0",
   "metadata": {},
   "source": [
    "### 2.1.3. <a id='toc2_1_3_'></a>[元素](#toc0_)"
   ]
  },
  {
   "cell_type": "markdown",
   "id": "17af85f5",
   "metadata": {},
   "source": [
    "```html\n",
    "- head  # 头部\n",
    "- meta  # 元数据\n",
    "- body  # 主体\n",
    "- title # 网页标题\n",
    "- h1\n",
    "- h2    # 二级标题\n",
    "- h3    # 三级标题\n",
    "- p     # 段落\n",
    "- a     # 超链接\n",
    "- br    # 换行\n",
    "- hr    # 水平线\n",
    "- img   # 图像\n",
    "- div   # 分块\n",
    "- span  # 行内元素\n",
    "- ul    # 无序列表\n",
    "- ol    # 有序列表\n",
    "- li    # 列表项\n",
    "- table # 表格\n",
    "- tr    # 表格行\n",
    "- td    # 表格单元格\n",
    "- th    # 表头单元格\n",
    "- form  # 表单\n",
    "```"
   ]
  },
  {
   "cell_type": "markdown",
   "id": "b561e01a",
   "metadata": {},
   "source": [
    "### 2.1.4. <a id='toc2_1_4_'></a>[布局](#toc0_)"
   ]
  },
  {
   "cell_type": "markdown",
   "id": "576b4655",
   "metadata": {},
   "source": [
    "利用html的div标签和CSS的float属性可以实现网页的布局。float属性可以让元素浮动到左边或右边，从而实现多列布局。\n"
   ]
  },
  {
   "cell_type": "code",
   "execution_count": 59,
   "id": "b3f2b147",
   "metadata": {},
   "outputs": [
    {
     "data": {
      "text/html": [
       "<style>\n",
       ".papers {\n",
       "    display: flex;\n",
       "    justify-content: space-between;\n",
       "    margin-bottom: 20px;\n",
       "}\n",
       "\n",
       ".paper_image {\n",
       "    width: 30%;\n",
       "    height: 200px;\n",
       "    background-color: #f0f0f0;\n",
       "    text-align: center;\n",
       "    line-height: 200px;\n",
       "    font-size: 20px;\n",
       "}\n",
       "\n",
       ".paper_info {\n",
       "    width: 65%;\n",
       "    padding: 10px;\n",
       "    background-color: #e0e0e0;\n",
       "    font-size: 18px;\n",
       "}\n",
       "\n",
       "</style>\n",
       "\n",
       "\n",
       "<body>\n",
       "<h1>Publications</h1>\n",
       "<div class=\"papers\">\n",
       "    <div class='paper_image'>\n",
       "        <img src=\"https://media.springernature.com/full/springer-static/image/art%3A10.1186%2Fs42483-024-00287-0/MediaObjects/42483_2024_287_Fig3_HTML.png?as=webp\" alt=\"Paper 1\">\n",
       "    </div>\n",
       "    <div class=\"paper_info\">\n",
       "        <p>Efficient transformation and genome editing in a nondomesticated, biocontrol strain, Bacillus subtilis GLB191 </p>\n",
       "    </div>\n",
       "</div>\n",
       "<div class=\"papers\">\n",
       "    <div class='paper_image'>\n",
       "        <img src=\"https://ars.els-cdn.com/content/image/1-s2.0-S004896972403256X-ga1.jpg\">\n",
       "    </div>\n",
       "    <div class=\"paper_info\">\n",
       "        <p>Kiwifruit resistance to gray mold is enhanced by yeast-induced modulation of the endophytic microbiome</p>\n",
       "    </div>\n",
       "</div>\n",
       "\n",
       "<div id=\"footer\">\n",
       "    <p style=\"text-align:center;\">Copyright by Yu Zhao</p>\n",
       "</div>\n",
       "\n",
       "</body>\n"
      ],
      "text/plain": [
       "<IPython.core.display.HTML object>"
      ]
     },
     "metadata": {},
     "output_type": "display_data"
    }
   ],
   "source": [
    "%%html \n",
    "<style>\n",
    ".papers {\n",
    "    display: flex;\n",
    "    justify-content: space-between;\n",
    "    margin-bottom: 20px;\n",
    "}\n",
    "\n",
    ".paper_image {\n",
    "    width: 30%;\n",
    "    height: 200px;\n",
    "    background-color: #f0f0f0;\n",
    "    text-align: center;\n",
    "    line-height: 200px;\n",
    "    font-size: 20px;\n",
    "}\n",
    "\n",
    ".paper_info {\n",
    "    width: 65%;\n",
    "    padding: 10px;\n",
    "    background-color: #e0e0e0;\n",
    "    font-size: 18px;\n",
    "}\n",
    "\n",
    "</style>\n",
    "\n",
    "\n",
    "<body>\n",
    "<h1>Publications</h1>\n",
    "<div class=\"papers\">\n",
    "    <div class='paper_image'>\n",
    "        <img src=\"https://media.springernature.com/full/springer-static/image/art%3A10.1186%2Fs42483-024-00287-0/MediaObjects/42483_2024_287_Fig3_HTML.png?as=webp\" alt=\"Paper 1\">\n",
    "    </div>\n",
    "    <div class=\"paper_info\">\n",
    "        <p>Efficient transformation and genome editing in a nondomesticated, biocontrol strain, Bacillus subtilis GLB191 </p>\n",
    "    </div>\n",
    "</div>\n",
    "<div class=\"papers\">\n",
    "    <div class='paper_image'>\n",
    "        <img src=\"https://ars.els-cdn.com/content/image/1-s2.0-S004896972403256X-ga1.jpg\">\n",
    "    </div>\n",
    "    <div class=\"paper_info\">\n",
    "        <p>Kiwifruit resistance to gray mold is enhanced by yeast-induced modulation of the endophytic microbiome</p>\n",
    "    </div>\n",
    "</div>\n",
    "\n",
    "<div id=\"footer\">\n",
    "    <p style=\"text-align:center;\">Copyright by Yu Zhao</p>\n",
    "</div>\n",
    "\n",
    "</body>"
   ]
  },
  {
   "cell_type": "markdown",
   "id": "4abeeacf",
   "metadata": {},
   "source": [
    "### 2.1.5. <a id='toc2_1_5_'></a>[属性](#toc0_)"
   ]
  },
  {
   "cell_type": "markdown",
   "id": "82c54582",
   "metadata": {},
   "source": [
    "- id \n",
    "- class\n",
    "- style\n",
    "- href"
   ]
  },
  {
   "cell_type": "markdown",
   "id": "4744e586",
   "metadata": {},
   "source": [
    "## 2.2. <a id='toc2_2_'></a>[CSS](#toc0_)\n"
   ]
  },
  {
   "cell_type": "markdown",
   "id": "b0a5f35f",
   "metadata": {},
   "source": [
    "- 🎨 它是网页的化妆师\n",
    "\n",
    "- 用来控制网页的外观和布局\n",
    "\n",
    "- 可以设置颜色、字体、边距、位置、响应式样式等\n",
    "\n",
    "- 没有 CSS，网页就像“黑白素颜”"
   ]
  },
  {
   "cell_type": "markdown",
   "id": "d51caa27",
   "metadata": {},
   "source": [
    "### 2.2.1. <a id='toc2_2_1_'></a>[CSS语法](#toc0_)"
   ]
  },
  {
   "cell_type": "markdown",
   "id": "54e73381",
   "metadata": {},
   "source": [
    "[参考教程:https://www.runoob.com/css/css-display-visibility.html](https://www.runoob.com/css/css-display-visibility.html)\n",
    "\n",
    "```html\n",
    "选择器 {属性：值；属性：值；...}\n",
    "```\n",
    "\n",
    "- 选择器：\n",
    "  - id\n",
    "  - class\n",
    "\n",
    "- id1,id2,... {属性：值1, 值2,...}\n",
    "- class1,class2,... {属性：值1, 值2,...}"
   ]
  },
  {
   "cell_type": "code",
   "execution_count": 6,
   "id": "bb46e9a4",
   "metadata": {},
   "outputs": [
    {
     "data": {
      "text/html": [
       "#para1 {\n",
       "    text-align: center;\n",
       "    font-size: 20px;\n",
       "}\n",
       "\n",
       "<p id=\"para1\">This is a centered paragraph with a larger font size.</p>\n"
      ],
      "text/plain": [
       "<IPython.core.display.HTML object>"
      ]
     },
     "metadata": {},
     "output_type": "display_data"
    }
   ],
   "source": [
    "%%html \n",
    "#para1 {\n",
    "    text-align: center;\n",
    "    font-size: 20px;\n",
    "}\n",
    "\n",
    "<p id=\"para1\">This is a centered paragraph with a larger font size.</p>"
   ]
  },
  {
   "cell_type": "code",
   "execution_count": 4,
   "id": "1d5733aa",
   "metadata": {},
   "outputs": [
    {
     "data": {
      "text/html": [
       ".custom {\n",
       "    text-align: center;\n",
       "    font-size: 20px;\n",
       "}\n",
       "\n",
       "<p class=\"custom\">This is a centered paragraph with a larger font size.</p>\n"
      ],
      "text/plain": [
       "<IPython.core.display.HTML object>"
      ]
     },
     "metadata": {},
     "output_type": "display_data"
    }
   ],
   "source": [
    "%%html \n",
    ".custom {\n",
    "    text-align: center;\n",
    "    font-size: 20px;\n",
    "}\n",
    "\n",
    "<p class=\"custom\">This is a centered paragraph with a larger font size.</p>"
   ]
  },
  {
   "cell_type": "markdown",
   "id": "d2ffb50c",
   "metadata": {},
   "source": [
    "### 2.2.2. <a id='toc2_2_2_'></a>[插入样式表的方法有三种](#toc0_)"
   ]
  },
  {
   "cell_type": "markdown",
   "id": "21d9c2cf",
   "metadata": {},
   "source": [
    "- 外部样式表(External style sheet)\n",
    "  ```html\n",
    "    <head>\n",
    "    <link rel=\"stylesheet\" type=\"text/css\" href=\"mystyle.css\">\n",
    "    </head>\n",
    "  ```\n",
    "- 内部样式表(Internal style sheet)\n",
    "  ```html\n",
    "    <head>\n",
    "    <style>\n",
    "    body {\n",
    "      background-color: lightblue;\n",
    "    }\n",
    "    </style>\n",
    "    </head>\n",
    "  ```\n",
    "- 内联样式(Inline style)\n",
    "  ```html\n",
    "    <p style=\"color:blue;\">This is a heading</p>\n",
    "  ```\n",
    "  "
   ]
  },
  {
   "cell_type": "code",
   "execution_count": 32,
   "id": "551a88f9",
   "metadata": {},
   "outputs": [
    {
     "data": {
      "text/html": [
       "\n",
       "/*This is a comment in CSS*/\n",
       "<style>\n",
       "    .custom { color: green; font-size: 20px; }\n",
       "</style>\n",
       "\n",
       "\n",
       "/* This is a comment in html */\n",
       "<head>\n",
       "<div class=\"custom\">Styled Text</div>\n",
       "<div class=\"custom\">Styled Demo</div>\n",
       "</head>\n",
       "\n",
       "<body>\n",
       "<div>\n",
       "    <h1>Title</h1>\n",
       "    <h1 class=\"custom\">Title</h1>\n",
       "    <p>This is a paragraph.</p>\n",
       "    <ul>\n",
       "        <li>List item 1</li>\n",
       "        <li>List item 2</li>\n",
       "    </ul>\n",
       "</div>\n",
       "</body>\n"
      ],
      "text/plain": [
       "<IPython.core.display.HTML object>"
      ]
     },
     "metadata": {},
     "output_type": "display_data"
    }
   ],
   "source": [
    "%%html\n",
    "\n",
    "/*This is a comment in CSS*/\n",
    "<style>\n",
    "    .custom { color: green; font-size: 20px; }\n",
    "</style>\n",
    "\n",
    "\n",
    "/* This is a comment in html */\n",
    "<head>\n",
    "<div class=\"custom\">Styled Text</div>\n",
    "<div class=\"custom\">Styled Demo</div>\n",
    "</head>\n",
    "\n",
    "<body>\n",
    "<div>\n",
    "    <h1>Title</h1>\n",
    "    <h1 class=\"custom\">Title</h1>\n",
    "    <p>This is a paragraph.</p>\n",
    "    <ul>\n",
    "        <li>List item 1</li>\n",
    "        <li>List item 2</li>\n",
    "    </ul>\n",
    "</div>\n",
    "</body>"
   ]
  },
  {
   "cell_type": "markdown",
   "id": "c3732529",
   "metadata": {},
   "source": [
    "### 2.2.3. <a id='toc2_2_3_'></a>[菜单栏](#toc0_)"
   ]
  },
  {
   "cell_type": "code",
   "execution_count": 36,
   "id": "5bbbd62f",
   "metadata": {},
   "outputs": [
    {
     "data": {
      "text/html": [
       "<style>\n",
       "ul {\n",
       "    list-style-type: none;\n",
       "    margin: 0;\n",
       "    padding: 0;\n",
       "    display: inline;\n",
       "}\n",
       "</style>\n",
       "\n",
       "<ul>\n",
       "  <li><a href=\"#home\">主页</a></li>\n",
       "  <li><a href=\"#news\">新闻</a></li>\n",
       "  <li><a href=\"#contact\">联系</a></li>\n",
       "  <li><a href=\"#about\">关于</a></li>\n",
       "</ul>\n"
      ],
      "text/plain": [
       "<IPython.core.display.HTML object>"
      ]
     },
     "metadata": {},
     "output_type": "display_data"
    }
   ],
   "source": [
    "%%html \n",
    "<style>\n",
    "ul {\n",
    "    list-style-type: none;\n",
    "    margin: 0;\n",
    "    padding: 0;\n",
    "    display: inline;\n",
    "}\n",
    "</style>\n",
    "\n",
    "<ul>\n",
    "  <li><a href=\"#home\">主页</a></li>\n",
    "  <li><a href=\"#news\">新闻</a></li>\n",
    "  <li><a href=\"#contact\">联系</a></li>\n",
    "  <li><a href=\"#about\">关于</a></li>\n",
    "</ul>"
   ]
  },
  {
   "cell_type": "markdown",
   "id": "22719913",
   "metadata": {},
   "source": [
    "### 2.2.4. <a id='toc2_2_4_'></a>[布局](#toc0_)"
   ]
  },
  {
   "cell_type": "code",
   "execution_count": 73,
   "id": "e7122f57",
   "metadata": {},
   "outputs": [
    {
     "data": {
      "text/html": [
       "<style>\n",
       ".paper {\n",
       "    display: flex;\n",
       "}\n",
       "\n",
       ".paper_image {\n",
       "    width: 30%;\n",
       "    height: 200px;\n",
       "    background-color: #f0f0f0;\n",
       "    text-align: center;\n",
       "    line-height: 200px;\n",
       "    font-size: 20px;\n",
       "}\n",
       "</style>\n",
       "\n",
       "<body>\n",
       "<div class=\"paper\">\n",
       "    <img class=\"paper_image\" src=\"https://ars.els-cdn.com/content/image/1-s2.0-S004896972403256X-ga1.jpg\">\n",
       "    <p>Paper</p>\n",
       "    <p>Yu Zhao</p>\n",
       "</div>\n",
       "</body>\n"
      ],
      "text/plain": [
       "<IPython.core.display.HTML object>"
      ]
     },
     "metadata": {},
     "output_type": "display_data"
    }
   ],
   "source": [
    "%%html \n",
    "<style>\n",
    ".paper {\n",
    "    display: flex;\n",
    "}\n",
    "\n",
    ".paper_image {\n",
    "    width: 30%;\n",
    "    height: 200px;\n",
    "    background-color: #f0f0f0;\n",
    "    text-align: center;\n",
    "    line-height: 200px;\n",
    "    font-size: 20px;\n",
    "}\n",
    "</style>\n",
    "\n",
    "<body>\n",
    "<div class=\"paper\">\n",
    "    <img class=\"paper_image\" src=\"https://ars.els-cdn.com/content/image/1-s2.0-S004896972403256X-ga1.jpg\">\n",
    "    <p>Paper</p>\n",
    "    <p>Yu Zhao</p>\n",
    "</div>\n",
    "</body>"
   ]
  },
  {
   "cell_type": "markdown",
   "id": "1783c160",
   "metadata": {},
   "source": [
    "### 2.2.5. <a id='toc2_2_5_'></a>[背景](#toc0_)"
   ]
  },
  {
   "cell_type": "markdown",
   "id": "108a8f36",
   "metadata": {},
   "source": [
    "CSS 属性定义背景效果:\n",
    "\n",
    "- background-color\n",
    "- background-image\n",
    "- background-repeat\n",
    "- background-attachment\n",
    "- background-position"
   ]
  },
  {
   "cell_type": "markdown",
   "id": "8d8d1b5b",
   "metadata": {},
   "source": [
    "### 2.2.6. <a id='toc2_2_6_'></a>[文本](#toc0_)"
   ]
  },
  {
   "cell_type": "markdown",
   "id": "9f0db3db",
   "metadata": {},
   "source": [
    "|属性\t|描述|\n",
    "|---|---|\n",
    "|font\t|设置字体的大小、样式和粗细|\n",
    "|color\t|设置文本颜色|\n",
    "|direction\t|设置文本方向。|\n",
    "|letter-spacing\t|设置字符间距|\n",
    "|line-height\t|设置行高|\n",
    "|text-align\t|对齐元素中的文本|\n",
    "|text-decoration\t|向文本添加修饰|\n",
    "|text-indent\t|缩进元素中文本的首行|\n",
    "|text-shadow\t|设置文本阴影|\n",
    "|text-transform\t|控制元素中的字母|\n",
    "|unicode-bidi\t|设置或返回文本是否被重写 |\n",
    "|vertical-align\t|设置元素的垂直对齐|\n",
    "|white-space\t|设置元素中空白的处理方式|\n",
    "|word-spacing\t|设置字间距|"
   ]
  },
  {
   "cell_type": "markdown",
   "id": "8eb8377c",
   "metadata": {},
   "source": [
    "### 2.2.7. <a id='toc2_2_7_'></a>[字体](#toc0_)"
   ]
  },
  {
   "cell_type": "markdown",
   "id": "485bd004",
   "metadata": {},
   "source": [
    "|Property\t|描述|\n",
    "|-|-|\n",
    "|font\t|在一个声明中设置所有的字体属性|\n",
    "|font-family\t|指定文本的字体系列|\n",
    "|font-size\t|指定文本的字体大小|\n",
    "|font-style\t|指定文本的字体样式|\n",
    "|font-variant\t|以小型大写字体或者正常字体显示文本。|\n",
    "|font-weight\t|指定字体的粗细。|"
   ]
  },
  {
   "cell_type": "markdown",
   "id": "0d6a1e87",
   "metadata": {},
   "source": [
    "serif和sans-serif字体之间的区别:\n",
    "\n",
    "![https://www.runoob.com/images/serif.gif](https://www.runoob.com/images/serif.gif)\n",
    "\n",
    "注意: 如果字体系列的名称超过一个字，它必须用引号，如Font Family：\"宋体\"；多个字体系列是用一个逗号分隔指明。"
   ]
  },
  {
   "cell_type": "code",
   "execution_count": null,
   "id": "c041c83a",
   "metadata": {},
   "outputs": [
    {
     "data": {
      "text/html": [
       "<style>\n",
       "p{font-family:\"Times New Roman\", Times, serif;}\n",
       "</style>\n",
       "\n",
       "<p>This is a paragraph with a different font.</p>\n"
      ],
      "text/plain": [
       "<IPython.core.display.HTML object>"
      ]
     },
     "metadata": {},
     "output_type": "display_data"
    }
   ],
   "source": [
    "%%html \n",
    "<style>\n",
    "p {font-family:\"Times New Roman\", Times, serif;}\n",
    "</style>\n",
    "\n",
    "<p>This is a paragraph with a different font.</p>"
   ]
  },
  {
   "cell_type": "markdown",
   "id": "5bec067a",
   "metadata": {},
   "source": [
    "### 2.2.8. <a id='toc2_2_8_'></a>[链接状态](#toc0_)"
   ]
  },
  {
   "cell_type": "markdown",
   "id": "cb35a41b",
   "metadata": {},
   "source": [
    "这四个链接状态是：\n",
    "- a:link - 正常，未访问过的链接\n",
    "- a:visited - 用户已访问过的链接\n",
    "- a:hover - 当用户鼠标放在链接上时\n",
    "- a:active - 链接被点击的那一刻"
   ]
  },
  {
   "cell_type": "code",
   "execution_count": 41,
   "id": "ee3f4c07",
   "metadata": {},
   "outputs": [
    {
     "data": {
      "text/html": [
       "<style>\n",
       "\n",
       "a:link {color: red;}\n",
       "a:visited {color: green;}\n",
       "a:hover {color: blue;}\n",
       "a:active {color: yellow;}\n",
       "\n",
       "</style>\n",
       "\n",
       "<a href=\"https://www.bing.com\">This is a link to www.bing.com </a>\n",
       "<br>\n",
       "<a href=\"https://www.google.com\">This is a link to www.google.com</a>\n",
       "<br>\n",
       "<a href=\"https://www.yahoo.com\">This is a link to www.yahoo.com</a>\n"
      ],
      "text/plain": [
       "<IPython.core.display.HTML object>"
      ]
     },
     "metadata": {},
     "output_type": "display_data"
    }
   ],
   "source": [
    "%%html\n",
    "<style>\n",
    "\n",
    "a:link {color: red;}\n",
    "a:visited {color: green;}\n",
    "a:hover {color: blue;}\n",
    "a:active {color: yellow;}\n",
    "\n",
    "</style>\n",
    "\n",
    "<a href=\"https://www.bing.com\">This is a link to www.bing.com </a>\n",
    "<br>\n",
    "<a href=\"https://www.google.com\">This is a link to www.google.com</a>\n",
    "<br>\n",
    "<a href=\"https://www.yahoo.com\">This is a link to www.yahoo.com</a>"
   ]
  },
  {
   "cell_type": "markdown",
   "id": "328eda5f",
   "metadata": {},
   "source": [
    "### 2.2.9. <a id='toc2_2_9_'></a>[列表](#toc0_)"
   ]
  },
  {
   "cell_type": "markdown",
   "id": "7ed22a34",
   "metadata": {},
   "source": [
    "在 HTML中，有两种类型的列表：\n",
    "\n",
    "- 无序列表 ul - 列表项标记用特殊图形（如小黑点、小方框等）\n",
    "- 有序列表 ol - 列表项的标记有数字或字母"
   ]
  },
  {
   "cell_type": "code",
   "execution_count": 31,
   "id": "8e6d5f7e",
   "metadata": {},
   "outputs": [
    {
     "data": {
      "text/html": [
       "<style>\n",
       "ul.a {list-style-type: circle;}\n",
       "ul.b {list-style-type: square;}\n",
       "\n",
       "ol.c {list-style-type: upper-roman;}\n",
       "ol.d {list-style-type: lower-alpha;}\n",
       "</style>\n",
       "\n",
       "<ul class=\"a\">Item 1</ul>\n",
       "<ul class=\"a\">Item 2</ul>\n",
       "<ul class=\"a\">Item 3</ul>\n"
      ],
      "text/plain": [
       "<IPython.core.display.HTML object>"
      ]
     },
     "metadata": {},
     "output_type": "display_data"
    }
   ],
   "source": [
    "%%html \n",
    "<style>\n",
    "ul.a {list-style-type: circle;}\n",
    "ul.b {list-style-type: square;}\n",
    " \n",
    "ol.c {list-style-type: upper-roman;}\n",
    "ol.d {list-style-type: lower-alpha;}\n",
    "</style>\n",
    "\n",
    "<ul class=\"a\">Item 1</ul>\n",
    "<ul class=\"a\">Item 2</ul>\n",
    "<ul class=\"a\">Item 3</ul>"
   ]
  },
  {
   "cell_type": "markdown",
   "id": "cd73b6c3",
   "metadata": {},
   "source": [
    "## 2.3. <a id='toc2_3_'></a>[JavaScript](#toc0_)\n"
   ]
  },
  {
   "cell_type": "markdown",
   "id": "c52ccd2a",
   "metadata": {},
   "source": [
    "- ⚙️ 它是网页的大脑\n",
    "\n",
    "- 是网页的编程语言，控制行为和逻辑\n",
    "\n",
    "- 可以操作 HTML/CSS，实现交互（点击、拖动、弹窗等）\n",
    "\n",
    "- 没有 JS，网页是“静止”的\n",
    "\n",
    "JavaScript 是 web 开发人员必须学习的 3 门语言中的一门：\n",
    "\n",
    "- HTML 定义了网页的内容\n",
    "- CSS 描述了网页的布局\n",
    "- JavaScript 控制了网页的行为"
   ]
  },
  {
   "cell_type": "markdown",
   "id": "5fa60876",
   "metadata": {},
   "source": [
    "### 2.3.1. <a id='toc2_3_1_'></a>[Demo](#toc0_)"
   ]
  },
  {
   "cell_type": "markdown",
   "id": "e99733d7",
   "metadata": {},
   "source": [
    "[详细教程：https://www.runoob.com/js/js-intro.html](https://www.runoob.com/js/js-intro.html)"
   ]
  },
  {
   "cell_type": "code",
   "execution_count": 78,
   "id": "f29b9b02",
   "metadata": {},
   "outputs": [
    {
     "data": {
      "text/html": [
       "<script>\n",
       "function displayDate(){\n",
       "\tdocument.getElementById(\"demo\").innerHTML=Date();\n",
       "}\n",
       "</script>\n",
       "\n",
       "\n",
       "<body>\n",
       "\n",
       "<h1>我的第一个 JavaScript 程序</h1>\n",
       "<p id=\"demo\">这是一个段落</p>\n",
       "\n",
       "<button type=\"button\" onclick=\"displayDate()\">显示日期</button>\n",
       "\n",
       "</body>\n"
      ],
      "text/plain": [
       "<IPython.core.display.HTML object>"
      ]
     },
     "metadata": {},
     "output_type": "display_data"
    }
   ],
   "source": [
    "%%html \n",
    "<script>\n",
    "function displayDate(){\n",
    "\tdocument.getElementById(\"demo\").innerHTML=Date();\n",
    "}\n",
    "</script>\n",
    "\n",
    "\n",
    "<body>\n",
    "\n",
    "<h1>我的第一个 JavaScript 程序</h1>\n",
    "<p id=\"demo\">这是一个段落</p>\n",
    "\n",
    "<button type=\"button\" onclick=\"displayDate()\">显示日期</button>\n",
    "\n",
    "</body>"
   ]
  },
  {
   "cell_type": "markdown",
   "id": "42e25089",
   "metadata": {},
   "source": [
    "## 2.4. <a id='toc2_4_'></a>[前端框架](#toc0_)"
   ]
  },
  {
   "cell_type": "markdown",
   "id": "ac08c115",
   "metadata": {},
   "source": [
    "### 2.4.1. <a id='toc2_4_1_'></a>[Vue](#toc0_)"
   ]
  },
  {
   "cell_type": "markdown",
   "id": "ee16a59a",
   "metadata": {},
   "source": [
    "Vue (发音为 /vjuː/，类似 view) 是一款用于构建用户界面的 JavaScript 框架。它基于标准 HTML、CSS 和 JavaScript 构建，并提供了一套声明式的、组件化的编程模型，帮助你高效地开发用户界面。无论是简单还是复杂的界面，Vue 都可以胜任。\n",
    "\n",
    "[官方教程：https://cn.vuejs.org/guide/introduction](https://cn.vuejs.org/guide/introduction)\n",
    "\n",
    "\n",
    "- 🧩 一个前端框架，用来优雅地写 JS + HTML + 数据逻辑\n",
    "\n",
    "- 帮你构建 单页面应用（SPA）\n",
    "\n",
    "- 数据驱动视图变化（响应式编程）\n",
    "\n",
    "- 使用组件开发，每一块独立、复用方便"
   ]
  },
  {
   "cell_type": "markdown",
   "id": "2435379c",
   "metadata": {},
   "source": [
    "### 2.4.2. <a id='toc2_4_2_'></a>[React](#toc0_)"
   ]
  },
  {
   "cell_type": "markdown",
   "id": "ceccd129",
   "metadata": {},
   "source": [
    "- ⚛️ 也是前端框架，由 Facebook 推出\n",
    "\n",
    "- 用 JSX 语法把 HTML 和 JS 写在一起\n",
    "\n",
    "- 构建大型复杂的 Web 应用非常强大\n",
    "\n",
    "- 状态变化自动触发 UI 更新"
   ]
  },
  {
   "cell_type": "markdown",
   "id": "9494fc51",
   "metadata": {},
   "source": [
    "# 3. <a id='toc3_'></a>[后端](#toc0_)"
   ]
  },
  {
   "cell_type": "markdown",
   "id": "63bb0895",
   "metadata": {},
   "source": [
    "## 3.1. <a id='toc3_1_'></a>[Django](#toc0_)\n",
    "\n",
    "## 3.2. <a id='toc3_2_'></a>[Flask](#toc0_)"
   ]
  },
  {
   "cell_type": "markdown",
   "id": "e5b3231d",
   "metadata": {},
   "source": [
    "# 4. <a id='toc4_'></a>[数据库](#toc0_)"
   ]
  },
  {
   "cell_type": "markdown",
   "id": "2153a693",
   "metadata": {},
   "source": [
    "## 4.1. <a id='toc4_1_'></a>[JSON](#toc0_)\n",
    "\n",
    "## 4.2. <a id='toc4_2_'></a>[SQLite](#toc0_)\n"
   ]
  },
  {
   "cell_type": "markdown",
   "id": "b1803d11",
   "metadata": {},
   "source": [
    "\n",
    "# 5. <a id='toc5_'></a>[部署](#toc0_)"
   ]
  },
  {
   "cell_type": "markdown",
   "id": "9614078d",
   "metadata": {},
   "source": [
    "## 5.1. <a id='toc5_1_'></a>[静态网页部署](#toc0_)"
   ]
  },
  {
   "cell_type": "markdown",
   "id": "0744bc87",
   "metadata": {},
   "source": [
    "静态网页的部署，只是展示HTML网页，所有不需要运行后端程序。"
   ]
  },
  {
   "cell_type": "markdown",
   "id": "59b5aac5",
   "metadata": {},
   "source": [
    "## 5.2. <a id='toc5_2_'></a>[动态网页部署](#toc0_)"
   ]
  },
  {
   "cell_type": "markdown",
   "id": "a5a67660",
   "metadata": {},
   "source": [
    "需要运行调用后端程序，所以需要VPS服务器来运行后端程序以相应前端的调用。"
   ]
  },
  {
   "cell_type": "markdown",
   "id": "58597228",
   "metadata": {},
   "source": [
    "# 6. <a id='toc6_'></a>[网站生成器](#toc0_)"
   ]
  },
  {
   "cell_type": "markdown",
   "id": "782857a3",
   "metadata": {},
   "source": [
    "## 6.1. <a id='toc6_1_'></a>[静态网站生成器](#toc0_)"
   ]
  },
  {
   "cell_type": "markdown",
   "id": "6556d771",
   "metadata": {},
   "source": [
    "Jekyll 是一个「静态网站生成器」，用 Ruby 写的，最早由 GitHub 创始人开发，适合用来做博客或文档网站。\n",
    "\n",
    "Hugo 是另一个「静态网站生成器」，但它是用 Go 语言 写的，以 构建速度极快 而闻名。\n",
    "\n",
    "Publii 是一个图形界面的静态网站生成器，免费的桌面应用，用来构建和管理 静态网站，尤其适合做 博客 和 内容展示类网站。\n",
    "\n",
    "🧩 对比\n",
    "\n",
    "|比较项 | Publii | Jekyll | Hugo|\n",
    "|-|-|-|-|\n",
    "|类型 | 桌面 GUI 工具 | 命令行工具 | 命令行工具|\n",
    "|使用难度 | ⭐⭐（图形界面，零代码） | ⭐⭐⭐（需代码） | ⭐⭐（配置稍复杂）|\n",
    "|技术基础 | 内置 Node.js/HTML/CSS | Ruby + Liquid 模板 | Go + Go 模板|\n",
    "|是否适合小白 | ✅ 非常适合 | ❌ 不太适合 | ⚠️ 需要基础|\n",
    "|主题 | 丰富、可视化修改 | 多，但需会改代码 | 多，修改稍复杂|"
   ]
  },
  {
   "cell_type": "markdown",
   "id": "f4ef61e1",
   "metadata": {},
   "source": [
    "# 7. <a id='toc7_'></a>[示例技术栈推荐](#toc0_)"
   ]
  },
  {
   "cell_type": "markdown",
   "id": "f274b2ec",
   "metadata": {},
   "source": [
    "- 简单的展示型网站（无需交互）\n",
    "\n",
    "  - 技术栈：Jekyll / Hugo + GitHub Pages\n",
    "\n",
    "  - 优点：快速、简洁、易维护、免费托管\n",
    "\n",
    "- 具有交互功能的实验室网站\n",
    "\n",
    "  - 技术栈：Vue.js / React + Node.js + MongoDB / MySQL\n",
    "\n",
    "  - 优点：灵活、可扩展，适合动态内容和复杂功能\n",
    "\n",
    "- 易于管理和内容更新的实验室博客\n",
    "\n",
    "  - 技术栈：WordPress\n",
    "\n",
    "  - 优点：用户友好，适合频繁更新内容\n",
    "\n",
    "- 推荐：Publii + 自己服务器/Githubpages/...\n",
    "  - 只管布局无视代码"
   ]
  },
  {
   "cell_type": "markdown",
   "id": "0025f071",
   "metadata": {},
   "source": [
    "# 8. <a id='toc8_'></a>[案例](#toc0_)"
   ]
  },
  {
   "cell_type": "markdown",
   "id": "0f01e255",
   "metadata": {},
   "source": [
    "## 8.1. <a id='toc8_1_'></a>[个人Blog](#toc0_)"
   ]
  },
  {
   "cell_type": "markdown",
   "id": "ac0d9124",
   "metadata": {},
   "source": [
    "基于Publii和Github pages的静态网站。\n",
    "\n",
    "🧰 工具栈概览\n",
    "\n",
    "|名称 | 作用 | 特点|\n",
    "|-|-|-|\n",
    "|Publii | 内容创作 + 生成静态网页 | 无需代码、图形界面|\n",
    "|GitHub Pages | 网站托管平台 | 免费、快速、全球 CDN|\n",
    "|下载功能 | 提供资源下载（PDF、数据集等） | 文件放在静态文件夹中即可|"
   ]
  },
  {
   "cell_type": "markdown",
   "id": "c8bba24e",
   "metadata": {},
   "source": [
    "## 8.2. <a id='toc8_2_'></a>[实验室网站](#toc0_)"
   ]
  }
 ],
 "metadata": {
  "kernelspec": {
   "display_name": "deeplearning",
   "language": "python",
   "name": "python3"
  },
  "language_info": {
   "codemirror_mode": {
    "name": "ipython",
    "version": 3
   },
   "file_extension": ".py",
   "mimetype": "text/x-python",
   "name": "python",
   "nbconvert_exporter": "python",
   "pygments_lexer": "ipython3",
   "version": "3.11.11"
  }
 },
 "nbformat": 4,
 "nbformat_minor": 5
}
