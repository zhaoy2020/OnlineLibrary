{
 "cells": [
  {
   "cell_type": "markdown",
   "id": "66515a50",
   "metadata": {},
   "source": [
    "**Table of contents**<a id='toc0_'></a>    \n",
    "- 1. [Preface](#toc1_)    \n",
    "  - 1.1. [Set environment](#toc1_1_)    \n",
    "- 2. [Data types](#toc2_)    \n",
    "- 3. [Operator](#toc3_)    \n",
    "  - 3.1. [算术运算符](#toc3_1_)    \n",
    "  - 3.2. [关系运算符](#toc3_2_)    \n",
    "  - 3.3. [逻辑运算符](#toc3_3_)    \n",
    "  - 3.4. [位运算符](#toc3_4_)    \n",
    "  - 3.5. [赋值运算符](#toc3_5_)    \n",
    "  - 3.6. [成员访问运算符](#toc3_6_)    \n",
    "  - 3.7. [作用域解析运算符](#toc3_7_)    \n",
    "  - 3.8. [运算符优先级](#toc3_8_)    \n",
    "- 4. [Work flow](#toc4_)    \n",
    "  - 4.1. [if](#toc4_1_)    \n",
    "  - 4.2. [for](#toc4_2_)    \n",
    "    - 4.2.1. [基于范围的 for 循环](#toc4_2_1_)    \n",
    "    - 4.2.2. [省略部分表达式](#toc4_2_2_)    \n",
    "    - 4.2.3. [多变量初始化](#toc4_2_3_)    \n",
    "    - 4.2.4. [break - 立即退出循环](#toc4_2_4_)    \n",
    "    - 4.2.5. [continue - 跳过当前迭代](#toc4_2_5_)    \n",
    "  - 4.3. [while](#toc4_3_)    \n",
    "    - 4.3.1. [基本 while 循环语法](#toc4_3_1_)    \n",
    "    - 4.3.2. [ break - 立即退出循环](#toc4_3_2_)    \n",
    "    - 4.3.3. [continue - 跳过当前迭代](#toc4_3_3_)    \n",
    "    - 4.3.4. [无限循环](#toc4_3_4_)    \n",
    "- 5. [Function](#toc5_)    \n",
    "- 6. [Package](#toc6_)    \n",
    "  - 6.1. [C++ 内置标准库](#toc6_1_)    \n",
    "  - 6.2. [第三方包管理工具](#toc6_2_)    \n",
    "    - 6.2.1. [vcpkg](#toc6_2_1_)    \n",
    "  - 6.3. [包调用方式](#toc6_3_)    \n",
    "    - 6.3.1. [头文件库(Header-only)](#toc6_3_1_)    \n",
    "  - 6.4. [Summary](#toc6_4_)    \n",
    "  - 6.5. [My packages](#toc6_5_)    \n",
    "    - 6.5.1. [File orginize](#toc6_5_1_)    \n",
    "    - 6.5.2. [Assambly](#toc6_5_2_)    \n",
    "    - 6.5.3. [Content](#toc6_5_3_)    \n",
    "      - 6.5.3.1. [不使用命名空间](#toc6_5_3_1_)    \n",
    "        - 6.5.3.1.1. [**cal.hpp**](#toc6_5_3_1_1_)    \n",
    "        - 6.5.3.1.2. [**cal.cpp**](#toc6_5_3_1_2_)    \n",
    "        - 6.5.3.1.3. [**main.cpp**](#toc6_5_3_1_3_)    \n",
    "      - 6.5.3.2. [使用命名空间](#toc6_5_3_2_)    \n",
    "        - 6.5.3.2.1. [cal.hpp](#toc6_5_3_2_1_)    \n",
    "        - 6.5.3.2.2. [cal.cpp](#toc6_5_3_2_2_)    \n",
    "        - 6.5.3.2.3. [main.cpp](#toc6_5_3_2_3_)    \n",
    "\n",
    "<!-- vscode-jupyter-toc-config\n",
    "\tnumbering=true\n",
    "\tanchor=true\n",
    "\tflat=false\n",
    "\tminLevel=1\n",
    "\tmaxLevel=6\n",
    "\t/vscode-jupyter-toc-config -->\n",
    "<!-- THIS CELL WILL BE REPLACED ON TOC UPDATE. DO NOT WRITE YOUR TEXT IN THIS CELL -->"
   ]
  },
  {
   "cell_type": "markdown",
   "id": "40020b29",
   "metadata": {},
   "source": [
    "# 1. <a id='toc1_'></a>[Preface](#toc0_)"
   ]
  },
  {
   "cell_type": "markdown",
   "id": "c742e8ec",
   "metadata": {},
   "source": [
    "Runing C++ code with xeus-cling kernel via conda, don't to define the main function."
   ]
  },
  {
   "cell_type": "markdown",
   "id": "5be5a444",
   "metadata": {},
   "source": [
    "## 1.1. <a id='toc1_1_'></a>[Set environment](#toc0_)"
   ]
  },
  {
   "cell_type": "code",
   "execution_count": null,
   "id": "7c4fb6ea",
   "metadata": {
    "vscode": {
     "languageId": "shellscript"
    }
   },
   "outputs": [],
   "source": [
    "# 安装 LLVM 9 版本\n",
    "conda create -n c++ python=3.9 -y\n",
    "conda activate c++\n",
    "conda install conda-forge::libllvm11 -y\n",
    "\n",
    "# Install xeus-cling via conda, but there are some unknown issues\n",
    "# conda install conda-forge::xeus-cling -y\n",
    "# conda install conda-forge/label/broken::xeus-cling -y\n",
    "conda install conda-forge/label/cf202003::xeus-cling -y"
   ]
  },
  {
   "cell_type": "markdown",
   "id": "5f97306a",
   "metadata": {},
   "source": [
    "# 2. <a id='toc2_'></a>[Data types](#toc0_)"
   ]
  },
  {
   "cell_type": "code",
   "execution_count": 2,
   "id": "90bd2395",
   "metadata": {
    "vscode": {
     "languageId": "cpp"
    }
   },
   "outputs": [
    {
     "name": "stdout",
     "output_type": "stream",
     "text": [
      "Integer: 5\n",
      "Long: 10\n",
      "Short: 3\n",
      "Long Long: 20\n",
      "Float: 5.5\n",
      "Double: 10.5\n",
      "Long Double: 15.5\n",
      "Char: A\n",
      "Bool: 1\n"
     ]
    }
   ],
   "source": [
    "#include <iostream>\n",
    "\n",
    "// Integer types\n",
    "int a = 5; // 4 bytes\n",
    "long b = 10; // 8 bytes\n",
    "short c = 3; // 2 bytes\n",
    "long long d = 20; // 8 bytes\n",
    "\n",
    "// Floating-point types\n",
    "float e = 5.5f; // 4 bytes\n",
    "double f = 10.5; // 8 bytes\n",
    "long double g = 15.5; // 16 bytes\n",
    "\n",
    "// Character type\n",
    "char h = 'A'; // 1 byte\n",
    "\n",
    "// Boolean type\n",
    "bool i = true; // 1 byte\n",
    "\n",
    "std::cout << \"Integer: \" << a << std::endl;\n",
    "std::cout << \"Long: \" << b << std::endl;\n",
    "std::cout << \"Short: \" << c << std::endl;\n",
    "std::cout << \"Long Long: \" << d << std::endl;\n",
    "std::cout << \"Float: \" << e << std::endl;\n",
    "std::cout << \"Double: \" << f << std::endl;\n",
    "std::cout << \"Long Double: \" << g << std::endl;\n",
    "std::cout << \"Char: \" << h << std::endl;\n",
    "std::cout << \"Bool: \" << i << std::endl;"
   ]
  },
  {
   "cell_type": "markdown",
   "id": "754209d4",
   "metadata": {},
   "source": [
    "# 3. <a id='toc3_'></a>[Operator](#toc0_)"
   ]
  },
  {
   "cell_type": "markdown",
   "id": "6422cb67",
   "metadata": {},
   "source": [
    "C++ 提供了丰富的运算符，用于执行各种操作。以下是 C++ 中主要运算符的全面介绍："
   ]
  },
  {
   "cell_type": "markdown",
   "id": "7fa3f5d0",
   "metadata": {},
   "source": [
    "## 3.1. <a id='toc3_1_'></a>[算术运算符](#toc0_)\n",
    "\n",
    "```c++\n",
    "+   // 加法\n",
    "-   // 减法\n",
    "*   // 乘法\n",
    "/   // 除法\n",
    "%   // 取模（求余数）\n",
    "++  // 自增（前缀或后缀）\n",
    "--  // 自减（前缀或后缀）\n",
    "```"
   ]
  },
  {
   "cell_type": "markdown",
   "id": "fe6c3112",
   "metadata": {},
   "source": [
    "## 3.2. <a id='toc3_2_'></a>[关系运算符](#toc0_)"
   ]
  },
  {
   "cell_type": "markdown",
   "id": "c3ab05ad",
   "metadata": {},
   "source": [
    "```c++\n",
    "==  // 等于\n",
    "!=  // 不等于\n",
    ">   // 大于\n",
    "<   // 小于\n",
    ">=  // 大于等于\n",
    "<=  // 小于等于\n",
    "```"
   ]
  },
  {
   "cell_type": "markdown",
   "id": "35789801",
   "metadata": {},
   "source": [
    "## 3.3. <a id='toc3_3_'></a>[逻辑运算符](#toc0_)"
   ]
  },
  {
   "cell_type": "markdown",
   "id": "39dc9d61",
   "metadata": {},
   "source": [
    "```c++\n",
    "&&  // 逻辑与\n",
    "||  // 逻辑或\n",
    "!   // 逻辑非\n",
    "```"
   ]
  },
  {
   "cell_type": "markdown",
   "id": "901783f9",
   "metadata": {},
   "source": [
    "## 3.4. <a id='toc3_4_'></a>[位运算符](#toc0_)"
   ]
  },
  {
   "cell_type": "markdown",
   "id": "2e42f3ba",
   "metadata": {},
   "source": [
    "```c++\n",
    "&   // 按位与\n",
    "|   // 按位或\n",
    "^   // 按位异或\n",
    "~   // 按位取反\n",
    "<<  // 左移\n",
    ">>  // 右移\n",
    "```"
   ]
  },
  {
   "cell_type": "markdown",
   "id": "54f76793",
   "metadata": {},
   "source": [
    "## 3.5. <a id='toc3_5_'></a>[赋值运算符](#toc0_)"
   ]
  },
  {
   "cell_type": "markdown",
   "id": "5d09e110",
   "metadata": {},
   "source": [
    "```c++\n",
    "=   // 简单赋值\n",
    "+=  // 加后赋值\n",
    "-=  // 减后赋值\n",
    "*=  // 乘后赋值\n",
    "/=  // 除后赋值\n",
    "%=  // 取模后赋值\n",
    "&=  // 按位与后赋值\n",
    "|=  // 按位或后赋值\n",
    "^=  // 按位异或后赋值\n",
    "<<= // 左移后赋值\n",
    ">>= // 右移后赋值\n",
    "```"
   ]
  },
  {
   "cell_type": "markdown",
   "id": "3156ae54",
   "metadata": {},
   "source": [
    "## 3.6. <a id='toc3_6_'></a>[成员访问运算符](#toc0_)"
   ]
  },
  {
   "cell_type": "markdown",
   "id": "4c32a402",
   "metadata": {},
   "source": [
    "```c++\n",
    ".   // 对象成员访问\n",
    "->  // 指针成员访问\n",
    "```"
   ]
  },
  {
   "cell_type": "markdown",
   "id": "766e5b46",
   "metadata": {},
   "source": [
    "## 3.7. <a id='toc3_7_'></a>[作用域解析运算符](#toc0_)"
   ]
  },
  {
   "cell_type": "markdown",
   "id": "4ff09498",
   "metadata": {},
   "source": [
    "```c++\n",
    "::\n",
    "```"
   ]
  },
  {
   "cell_type": "markdown",
   "id": "395cc898",
   "metadata": {},
   "source": [
    "## 3.8. <a id='toc3_8_'></a>[运算符优先级](#toc0_)"
   ]
  },
  {
   "cell_type": "markdown",
   "id": "ac65c86c",
   "metadata": {},
   "source": [
    "从高到低的部分优先级：\n",
    "\n",
    "```c++\n",
    ":: 作用域解析\n",
    "\n",
    "() [] . -> 函数调用、数组下标、成员访问\n",
    "\n",
    "++ -- + - ! ~ (type) * & sizeof 一元运算符\n",
    "\n",
    ".* ->* 成员指针\n",
    "\n",
    "* / % 乘除\n",
    "\n",
    "+ - 加减\n",
    "\n",
    "<< >> 位移\n",
    "\n",
    "< <= > >= 关系\n",
    "\n",
    "== != 相等\n",
    "\n",
    "& 按位与\n",
    "\n",
    "^ 按位异或\n",
    "\n",
    "| 按位或\n",
    "\n",
    "&& 逻辑与\n",
    "\n",
    "|| 逻辑或\n",
    "\n",
    "?: 条件\n",
    "\n",
    "= += -= 等赋值\n",
    "\n",
    ", 逗号\n",
    "```"
   ]
  },
  {
   "cell_type": "markdown",
   "id": "ab04904c",
   "metadata": {},
   "source": [
    "# 4. <a id='toc4_'></a>[Work flow](#toc0_)"
   ]
  },
  {
   "cell_type": "markdown",
   "id": "58872980",
   "metadata": {},
   "source": [
    "## 4.1. <a id='toc4_1_'></a>[if](#toc0_)"
   ]
  },
  {
   "cell_type": "markdown",
   "id": "1e087cf6",
   "metadata": {},
   "source": [
    "```c++\n",
    "if (condition) {\n",
    "    // 条件为 true 时执行的代码\n",
    "}\n",
    "```"
   ]
  },
  {
   "cell_type": "code",
   "execution_count": 5,
   "id": "ba2da0e5",
   "metadata": {
    "vscode": {
     "languageId": "cpp"
    }
   },
   "outputs": [
    {
     "name": "stdout",
     "output_type": "stream",
     "text": [
      "You are an adult.\n"
     ]
    }
   ],
   "source": [
    "#include <iostream>\n",
    "\n",
    "\n",
    "int age = 20;\n",
    "if (age >= 18) {\n",
    "    std::cout << \"You are an adult.\" << std::endl;\n",
    "}"
   ]
  },
  {
   "cell_type": "markdown",
   "id": "3f142104",
   "metadata": {},
   "source": [
    "```c++\n",
    "if (condition) {\n",
    "    // 条件为 true 时执行的代码\n",
    "} else {\n",
    "    // 条件为 false 时执行的代码\n",
    "}\n",
    "\n",
    "```"
   ]
  },
  {
   "cell_type": "code",
   "execution_count": 2,
   "id": "6210dd93",
   "metadata": {
    "vscode": {
     "languageId": "cpp"
    }
   },
   "outputs": [
    {
     "name": "stdout",
     "output_type": "stream",
     "text": [
      "Passed\n"
     ]
    }
   ],
   "source": [
    "#include <iostream>\n",
    "\n",
    "\n",
    "int score = 85;\n",
    "if (score >= 60) {\n",
    "    std::cout << \"Passed\" << std::endl;\n",
    "} else {\n",
    "    std::cout << \"Failed\" << std::endl;\n",
    "}"
   ]
  },
  {
   "cell_type": "markdown",
   "id": "c039c4ca",
   "metadata": {},
   "source": [
    "```c++\n",
    "if (condition1) {\n",
    "    // condition1 为 true 时执行\n",
    "} else if (condition2) {\n",
    "    // condition2 为 true 时执行\n",
    "} else {\n",
    "    // 所有条件都为 false 时执行\n",
    "}\n",
    "```"
   ]
  },
  {
   "cell_type": "code",
   "execution_count": null,
   "id": "1c346a8c",
   "metadata": {
    "vscode": {
     "languageId": "cpp"
    }
   },
   "outputs": [
    {
     "name": "stdout",
     "output_type": "stream",
     "text": [
      "B\n"
     ]
    }
   ],
   "source": [
    "#include <iostream>\n",
    "\n",
    "\n",
    "int grade = 87;\n",
    "\n",
    "if (grade >= 90) {\n",
    "    std::cout << \"A\" << std::endl;\n",
    "} else if (grade >= 80) {\n",
    "    std::cout << \"B\" << std::endl;\n",
    "} else if (grade >= 70) {\n",
    "    std::cout << \"C\" << std::endl;\n",
    "} else {\n",
    "    std::cout << \"D or F\" << std::endl;\n",
    "}"
   ]
  },
  {
   "cell_type": "markdown",
   "id": "609c47f9",
   "metadata": {},
   "source": [
    "## 4.2. <a id='toc4_2_'></a>[for](#toc0_)"
   ]
  },
  {
   "cell_type": "markdown",
   "id": "c8bd182c",
   "metadata": {},
   "source": [
    "### 4.2.1. <a id='toc4_2_1_'></a>[基于范围的 for 循环](#toc0_)"
   ]
  },
  {
   "cell_type": "markdown",
   "id": "8cfd4c2f",
   "metadata": {},
   "source": [
    "```c++\n",
    "for (初始化语句; 循环条件; 迭代表达式) {\n",
    "    // 循环体\n",
    "}\n",
    "```"
   ]
  },
  {
   "cell_type": "code",
   "execution_count": 2,
   "id": "aebeb5f3",
   "metadata": {
    "vscode": {
     "languageId": "cpp"
    }
   },
   "outputs": [
    {
     "name": "stdout",
     "output_type": "stream",
     "text": [
      "0 1 2 3 4 "
     ]
    }
   ],
   "source": [
    "#include <iostream>\n",
    "\n",
    "\n",
    "for (int i = 0; i < 5; i++) {\n",
    "    std::cout << i << \" \";\n",
    "}\n",
    "// 输出：0 1 2 3 4"
   ]
  },
  {
   "cell_type": "markdown",
   "id": "676de74e",
   "metadata": {},
   "source": [
    "### 4.2.2. <a id='toc4_2_2_'></a>[省略部分表达式](#toc0_)"
   ]
  },
  {
   "cell_type": "code",
   "execution_count": 3,
   "id": "949676ae",
   "metadata": {
    "vscode": {
     "languageId": "cpp"
    }
   },
   "outputs": [
    {
     "name": "stdout",
     "output_type": "stream",
     "text": [
      "0 1 2 3 4 "
     ]
    }
   ],
   "source": [
    "int i = 0;\n",
    "for (; i < 5; ) {  // 省略初始化和迭代表达式\n",
    "    std::cout << i << \" \";\n",
    "    i++;\n",
    "}"
   ]
  },
  {
   "cell_type": "markdown",
   "id": "40ba4c15",
   "metadata": {},
   "source": [
    "### 4.2.3. <a id='toc4_2_3_'></a>[多变量初始化](#toc0_)"
   ]
  },
  {
   "cell_type": "code",
   "execution_count": 4,
   "id": "7a8d6f54",
   "metadata": {
    "vscode": {
     "languageId": "cpp"
    }
   },
   "outputs": [
    {
     "name": "stdout",
     "output_type": "stream",
     "text": [
      "i=0, j=10\n",
      "i=1, j=9\n",
      "i=2, j=8\n",
      "i=3, j=7\n",
      "i=4, j=6\n"
     ]
    }
   ],
   "source": [
    "for (int i = 0, j = 10; i < j; i++, j--) {\n",
    "    std::cout << \"i=\" << i << \", j=\" << j << \"\\n\";\n",
    "}"
   ]
  },
  {
   "cell_type": "markdown",
   "id": "5e04d91e",
   "metadata": {},
   "source": [
    "### 4.2.4. <a id='toc4_2_4_'></a>[break - 立即退出循环](#toc0_)"
   ]
  },
  {
   "cell_type": "code",
   "execution_count": 5,
   "id": "84ce4da0",
   "metadata": {
    "vscode": {
     "languageId": "cpp"
    }
   },
   "outputs": [
    {
     "name": "stdout",
     "output_type": "stream",
     "text": [
      "0 1 2 3 4 "
     ]
    }
   ],
   "source": [
    "for (int i = 0; i < 10; i++) {\n",
    "    if (i == 5) break;\n",
    "    std::cout << i << \" \";\n",
    "}\n",
    "// 输出：0 1 2 3 4"
   ]
  },
  {
   "cell_type": "markdown",
   "id": "d7f6c595",
   "metadata": {},
   "source": [
    "### 4.2.5. <a id='toc4_2_5_'></a>[continue - 跳过当前迭代](#toc0_)"
   ]
  },
  {
   "cell_type": "code",
   "execution_count": 6,
   "id": "eafd14a4",
   "metadata": {
    "vscode": {
     "languageId": "cpp"
    }
   },
   "outputs": [
    {
     "name": "stdout",
     "output_type": "stream",
     "text": [
      "1 3 5 7 9 "
     ]
    }
   ],
   "source": [
    "for (int i = 0; i < 10; i++) {\n",
    "    if (i % 2 == 0) continue;\n",
    "    std::cout << i << \" \";\n",
    "}\n",
    "// 输出：1 3 5 7 9"
   ]
  },
  {
   "cell_type": "markdown",
   "id": "c84a4d7c",
   "metadata": {},
   "source": [
    "## 4.3. <a id='toc4_3_'></a>[while](#toc0_)"
   ]
  },
  {
   "cell_type": "markdown",
   "id": "7780df69",
   "metadata": {},
   "source": [
    "### 4.3.1. <a id='toc4_3_1_'></a>[基本 while 循环语法](#toc0_)"
   ]
  },
  {
   "cell_type": "markdown",
   "id": "fc99a39b",
   "metadata": {},
   "source": [
    "while 语句是 C++ 中用于重复执行代码块的基本循环结构，它在条件为真时持续执行循环体。\n",
    "\n",
    "```c++\n",
    "while (condition) {\n",
    "    // 循环体 - 条件为 true 时重复执行\n",
    "}\n",
    "```"
   ]
  },
  {
   "cell_type": "code",
   "execution_count": 1,
   "id": "9661e270",
   "metadata": {
    "vscode": {
     "languageId": "cpp"
    }
   },
   "outputs": [
    {
     "name": "stdout",
     "output_type": "stream",
     "text": [
      "0 1 2 3 4 "
     ]
    }
   ],
   "source": [
    "#include <iostream>\n",
    "\n",
    "int i = 0;\n",
    "while (i < 5) {\n",
    "    std::cout << i << \" \";\n",
    "    i++;\n",
    "}\n",
    "// 输出：0 1 2 3 4"
   ]
  },
  {
   "cell_type": "markdown",
   "id": "94fad19b",
   "metadata": {},
   "source": [
    "### 4.3.2. <a id='toc4_3_2_'></a>[ break - 立即退出循环](#toc0_)"
   ]
  },
  {
   "cell_type": "code",
   "execution_count": 1,
   "id": "26efa275",
   "metadata": {
    "vscode": {
     "languageId": "cpp"
    }
   },
   "outputs": [
    {
     "name": "stdout",
     "output_type": "stream",
     "text": [
      "0 1 2 3 4 "
     ]
    }
   ],
   "source": [
    "#include <iostream>\n",
    "\n",
    "\n",
    "int i = 0;\n",
    "while (true) {\n",
    "    if (i >= 5) break;\n",
    "    std::cout << i << \" \";\n",
    "    i++;\n",
    "}\n",
    "// 输出：0 1 2 3 4"
   ]
  },
  {
   "cell_type": "markdown",
   "id": "008ccb2d",
   "metadata": {},
   "source": [
    "### 4.3.3. <a id='toc4_3_3_'></a>[continue - 跳过当前迭代](#toc0_)"
   ]
  },
  {
   "cell_type": "code",
   "execution_count": 1,
   "id": "69120041",
   "metadata": {
    "vscode": {
     "languageId": "cpp"
    }
   },
   "outputs": [
    {
     "name": "stdout",
     "output_type": "stream",
     "text": [
      "1 3 5 7 9 "
     ]
    }
   ],
   "source": [
    "#include <iostream>\n",
    "\n",
    "\n",
    "int i = 0;\n",
    "while (i < 10) {\n",
    "    i++;\n",
    "    if (i % 2 == 0) continue;\n",
    "    std::cout << i << \" \";\n",
    "}\n",
    "// 输出：1 3 5 7 9"
   ]
  },
  {
   "cell_type": "markdown",
   "id": "1e12d62f",
   "metadata": {},
   "source": [
    "### 4.3.4. <a id='toc4_3_4_'></a>[无限循环](#toc0_)"
   ]
  },
  {
   "cell_type": "code",
   "execution_count": null,
   "id": "d5f90d46",
   "metadata": {
    "vscode": {
     "languageId": "cpp"
    }
   },
   "outputs": [],
   "source": [
    "// while (true) {\n",
    "//     // 需要配合 break 语句退出\n",
    "//     if (exitCondition) break;\n",
    "// }"
   ]
  },
  {
   "cell_type": "markdown",
   "id": "608249d0",
   "metadata": {},
   "source": [
    "# 5. <a id='toc5_'></a>[Function](#toc0_)"
   ]
  },
  {
   "cell_type": "markdown",
   "id": "5b5c0874",
   "metadata": {},
   "source": [
    "```c++\n",
    "#include <iostream>\n",
    "\n",
    "// 函数声明\n",
    "int add(int a, int b);\n",
    "\n",
    "int main() {\n",
    "    int result = add(5, 3);\n",
    "    std::cout << \"5 + 3 = \" << result << std::endl;\n",
    "    return 0;\n",
    "}\n",
    "\n",
    "// 函数定义\n",
    "int add\n",
    "```"
   ]
  },
  {
   "cell_type": "code",
   "execution_count": 1,
   "id": "aeb117b9",
   "metadata": {
    "vscode": {
     "languageId": "cpp"
    }
   },
   "outputs": [
    {
     "name": "stdout",
     "output_type": "stream",
     "text": [
      "The result is: 6\n"
     ]
    }
   ],
   "source": [
    "#include <iostream>\n",
    "\n",
    "\n",
    "// Declare and Define \n",
    "double calc(double a, double b) {\n",
    "    return a + b;\n",
    "}\n",
    "\n",
    "\n",
    "// Call \n",
    "double a = 3.5;\n",
    "double b = 2.5;\n",
    "std::cout << \"The result is: \" << calc(a, b) << std::endl;"
   ]
  },
  {
   "cell_type": "markdown",
   "id": "41b236bc",
   "metadata": {},
   "source": [
    "# 6. <a id='toc6_'></a>[Package](#toc0_)"
   ]
  },
  {
   "cell_type": "markdown",
   "id": "04fee133",
   "metadata": {},
   "source": [
    "## 6.1. <a id='toc6_1_'></a>[C++ 内置标准库](#toc0_)"
   ]
  },
  {
   "cell_type": "markdown",
   "id": "8c3545cf",
   "metadata": {},
   "source": [
    "```c++\n",
    "#include <iostream>   // 输入输出流\n",
    "#include <vector>     // 动态数组\n",
    "#include <string>     // 字符串处理\n",
    "#include <algorithm>  // 算法函数\n",
    "#include <memory>     // 智能指针\n",
    "#include <thread>     // 多线程支持\n",
    "#include <fstream>    // 文件操作\n",
    "#include <cmath>      // 数学函数\n",
    "#include <chrono>     // 时间处理\n",
    "```"
   ]
  },
  {
   "cell_type": "markdown",
   "id": "35deac79",
   "metadata": {},
   "source": [
    "## 6.2. <a id='toc6_2_'></a>[第三方包管理工具](#toc0_)"
   ]
  },
  {
   "cell_type": "markdown",
   "id": "9a391843",
   "metadata": {},
   "source": [
    "C++ 的包管理相比其他现代语言略显复杂，但有多种成熟的工具和方法可以管理依赖项。以下是全面的 C++ 包管理解决方案。\n",
    "\n",
    "- vcpkg (微软开发，跨平台)\n",
    "- Conan (分布式包管理器)\n",
    "- CMake + FetchContent (现代CMake方式)"
   ]
  },
  {
   "cell_type": "markdown",
   "id": "f613fc06",
   "metadata": {},
   "source": [
    "### 6.2.1. <a id='toc6_2_1_'></a>[vcpkg](#toc0_)"
   ]
  },
  {
   "cell_type": "markdown",
   "id": "b1a8ef30",
   "metadata": {},
   "source": [
    "```bash\n",
    "conda install conda-forge::vcpkg -y\n",
    "```"
   ]
  },
  {
   "cell_type": "code",
   "execution_count": null,
   "id": "124459f2",
   "metadata": {
    "vscode": {
     "languageId": "shellscript"
    }
   },
   "outputs": [],
   "source": [
    "# 搜索包\n",
    "vcpkg search Boost\n",
    "\n",
    "# 安装包\n",
    "vcpkg install Boost\n",
    "\n",
    "# 集成到CMake\n",
    "vcpkg integrate install"
   ]
  },
  {
   "cell_type": "markdown",
   "id": "7394132d",
   "metadata": {},
   "source": [
    "## 6.3. <a id='toc6_3_'></a>[包调用方式](#toc0_)"
   ]
  },
  {
   "cell_type": "markdown",
   "id": "886dc726",
   "metadata": {},
   "source": [
    "### 6.3.1. <a id='toc6_3_1_'></a>[头文件库(Header-only)](#toc0_)"
   ]
  },
  {
   "cell_type": "markdown",
   "id": "606b59b1",
   "metadata": {},
   "source": [
    "直接包含头文件即可使用:"
   ]
  },
  {
   "cell_type": "code",
   "execution_count": null,
   "id": "d09d3bd5",
   "metadata": {
    "vscode": {
     "languageId": "cpp"
    }
   },
   "outputs": [],
   "source": [
    "#include <nlohmann/json.hpp>\n",
    "\n",
    "nlohmann::json j;\n",
    "j[\"name\"] = \"John\";"
   ]
  },
  {
   "cell_type": "markdown",
   "id": "9cea3b17",
   "metadata": {},
   "source": [
    "## 6.4. <a id='toc6_4_'></a>[Summary](#toc0_)"
   ]
  },
  {
   "cell_type": "markdown",
   "id": "6fa7d034",
   "metadata": {},
   "source": [
    "| 库名称          | 用途           | 安装命令                  |\n",
    "|----------------|----------------|--------------------------|\n",
    "| fmt            | 格式化库        | `vcpkg install fmt`      |\n",
    "| spdlog          | 日志库          | `vcpkg install spdlog`   |\n",
    "| Catch2          | 单元测试        | `vcpkg install catch2`   |\n",
    "| Boost           | 通用工具库      | `vcpkg install boost`    |\n",
    "| Eigen           | 线性代数        | `vcpkg install eigen3`   |\n",
    "| OpenCV          | 计算机视觉      | `vcpkg install opencv`   |\n",
    "| nlohmann-json   | JSON处理        | `vcpkg install nlohmann-json` |"
   ]
  },
  {
   "cell_type": "markdown",
   "id": "51c81992",
   "metadata": {},
   "source": [
    "## 6.5. <a id='toc6_5_'></a>[My packages](#toc0_)"
   ]
  },
  {
   "cell_type": "markdown",
   "id": "c2705672",
   "metadata": {},
   "source": [
    "### 6.5.1. <a id='toc6_5_1_'></a>[File orginize](#toc0_)"
   ]
  },
  {
   "cell_type": "markdown",
   "id": "fd2479e0",
   "metadata": {},
   "source": [
    "```c++\n",
    "deepspore/\n",
    "├── include\n",
    "│   └── cal.hpp\n",
    "├── src\n",
    "│   └── cal.cpp\n",
    "└── main.cpp\n",
    "```"
   ]
  },
  {
   "cell_type": "markdown",
   "id": "53291236",
   "metadata": {},
   "source": [
    "### 6.5.2. <a id='toc6_5_2_'></a>[Assambly](#toc0_)"
   ]
  },
  {
   "cell_type": "markdown",
   "id": "847f5840",
   "metadata": {},
   "source": [
    "```c++\n",
    "1. 分离:预处理 --> 编译 (.i) --> 汇编 为机器码 (.o)\n",
    "2. 链接目标文件生成可执行文件\n",
    "\n",
    "// math_utils.cpp  --(g++ -c)--> math_utils.o --+\n",
    "//                                              |--(g++ linker)--> myapp\n",
    "// main.cpp       --(g++ -c)--> main.o      ----+\n",
    "```"
   ]
  },
  {
   "cell_type": "code",
   "execution_count": null,
   "id": "bafe5087",
   "metadata": {
    "vscode": {
     "languageId": "shellscript"
    }
   },
   "outputs": [],
   "source": [
    "# Preprocess, compli, assambly\n",
    "g++ -c src/cal.cpp -I ./header -o ./src/cal.o\n",
    "g++ -c main.cpp -I ./header -o main.o\n",
    "\n",
    "# Linker\n",
    "g++ main.o ./src/cal.o -o main"
   ]
  },
  {
   "cell_type": "markdown",
   "id": "dae5961d",
   "metadata": {},
   "source": [
    "### 6.5.3. <a id='toc6_5_3_'></a>[Content](#toc0_)"
   ]
  },
  {
   "cell_type": "markdown",
   "id": "40a37cda",
   "metadata": {},
   "source": [
    "| 方式             | 头文件内容                     | 实现文件内容         | 调用方式    | 优点                     | 缺点                         |\n",
    "|------------------|-------------------------------|---------------------|------------|--------------------------|------------------------------|\n",
    "| 全局命名空间     | `int add();`                  | `int add() {...}`   | `add();`   | 简单直接                 | 容易命名冲突                 |\n",
    "| 使用命名空间     | `namespace cal { int add(); }`| `int cal::add() {...}` | `cal::add();` | 避免冲突，代码组织清晰 | 调用稍长                     |\n",
    "| 头文件实现       | `inline int add() {...}`      | 无                  | `add();`   | 编译优化可能更好         | 不适合复杂函数，增加编译时间 |"
   ]
  },
  {
   "cell_type": "markdown",
   "id": "b49a94a7",
   "metadata": {},
   "source": [
    "#### 6.5.3.1. <a id='toc6_5_3_1_'></a>[不使用命名空间](#toc0_)"
   ]
  },
  {
   "cell_type": "markdown",
   "id": "ca6e56cd",
   "metadata": {},
   "source": [
    "- 情况1：不使用命名空间:\n",
    "  - 头文件中的函数声明在全局命名空间\n",
    "  - 实现文件中的定义也在全局命名空间\n",
    "  - 包含头文件后，编译器知道这个函数存在\n",
    "  - 链接时能找到函数的实现"
   ]
  },
  {
   "cell_type": "markdown",
   "id": "2eae5f02",
   "metadata": {},
   "source": [
    "##### 6.5.3.1.1. <a id='toc6_5_3_1_1_'></a>[**cal.hpp**](#toc0_)"
   ]
  },
  {
   "cell_type": "markdown",
   "id": "983b7dbe",
   "metadata": {},
   "source": [
    "```c++\n",
    "// Declare.\n",
    "double add(double a, double b);\n",
    "double sub(double a, double b);\n",
    "double mul(double a, double b);\n",
    "```\n"
   ]
  },
  {
   "cell_type": "markdown",
   "id": "3609752b",
   "metadata": {},
   "source": [
    "##### 6.5.3.1.2. <a id='toc6_5_3_1_2_'></a>[**cal.cpp**](#toc0_)"
   ]
  },
  {
   "cell_type": "markdown",
   "id": "b0163f2e",
   "metadata": {},
   "source": [
    "```c++\n",
    "#include <cal.hpp>\n",
    "\n",
    "\n",
    "// Define.\n",
    "double add(double a, double b) {\n",
    "    return a + b;\n",
    "}\n",
    "double sub(double a, double b) {\n",
    "    return a - b;\n",
    "}\n",
    "double mul(double a, double b) {\n",
    "    return a * b;\n",
    "}\n",
    "```"
   ]
  },
  {
   "cell_type": "markdown",
   "id": "2c11507b",
   "metadata": {},
   "source": [
    "##### 6.5.3.1.3. <a id='toc6_5_3_1_3_'></a>[**main.cpp**](#toc0_)"
   ]
  },
  {
   "cell_type": "markdown",
   "id": "49c229b3",
   "metadata": {},
   "source": [
    "```c++\n",
    "#include <iostream>\n",
    "#include <cal.hpp>\n",
    "\n",
    "\n",
    "int main() {\n",
    "    double x = 2.5; \n",
    "    double y = 3.5;\n",
    "    std::cout << x << \"+\" << y << \"=\" << add(x, y) << std::endl;\n",
    "    return 0;\n",
    "}\n",
    "```"
   ]
  },
  {
   "cell_type": "markdown",
   "id": "63f2ac01",
   "metadata": {},
   "source": [
    "#### 6.5.3.2. <a id='toc6_5_3_2_'></a>[使用命名空间](#toc0_)"
   ]
  },
  {
   "cell_type": "markdown",
   "id": "3abdae2d",
   "metadata": {},
   "source": [
    "- 情况2：使用命名空间:\n",
    "  - 避免全局命名空间污染\n",
    "  - 防止与其他库的函数名冲突\n",
    "  - 代码组织更清晰\n",
    "  - 是现代C++的推荐做法"
   ]
  },
  {
   "cell_type": "markdown",
   "id": "3fdc8d99",
   "metadata": {},
   "source": [
    "##### 6.5.3.2.1. <a id='toc6_5_3_2_1_'></a>[cal.hpp](#toc0_)"
   ]
  },
  {
   "cell_type": "markdown",
   "id": "433354f5",
   "metadata": {},
   "source": [
    "```cpp\n",
    "// Declare.\n",
    "namespace cal {\n",
    "    double add(double a, double b);\n",
    "    double sub(double a, double b);\n",
    "    double mul(double a, double b);\n",
    "}\n",
    "```"
   ]
  },
  {
   "cell_type": "markdown",
   "id": "e98e9b05",
   "metadata": {},
   "source": [
    "##### 6.5.3.2.2. <a id='toc6_5_3_2_2_'></a>[cal.cpp](#toc0_)"
   ]
  },
  {
   "cell_type": "markdown",
   "id": "6e3be835",
   "metadata": {},
   "source": [
    "```cpp\n",
    "#include <cal.hpp>\n",
    "\n",
    "\n",
    "// Define with namespace (::).\n",
    "double cal::add(double a, double b) {\n",
    "    return a + b;\n",
    "}\n",
    "double cal::sub(double a, double b) {\n",
    "    return a - b;\n",
    "}\n",
    "double cal::mul(double a, double b) {\n",
    "    return a * b;\n",
    "}\n",
    "```"
   ]
  },
  {
   "cell_type": "markdown",
   "id": "2ae9fe48",
   "metadata": {},
   "source": [
    "##### 6.5.3.2.3. <a id='toc6_5_3_2_3_'></a>[main.cpp](#toc0_)"
   ]
  },
  {
   "cell_type": "markdown",
   "id": "544ca111",
   "metadata": {},
   "source": [
    "```cpp\n",
    "#include <iostream>\n",
    "#include <cal.hpp>\n",
    "\n",
    "\n",
    "int main() {\n",
    "    double x = 2.5; \n",
    "    double y = 3.5;\n",
    "    std::cout << x << \"+\" << y << \"=\" << cal::add(x, y) << std::endl;\n",
    "    return 0;\n",
    "}\n",
    "```"
   ]
  }
 ],
 "metadata": {
  "kernelspec": {
   "display_name": "C++17",
   "language": "C++17",
   "name": "xeus-cling-cpp17"
  },
  "language_info": {
   "codemirror_mode": "text/x-c++src",
   "file_extension": ".cpp",
   "mimetype": "text/x-c++src",
   "name": "C++17",
   "version": "-std=c++17"
  }
 },
 "nbformat": 4,
 "nbformat_minor": 5
}
